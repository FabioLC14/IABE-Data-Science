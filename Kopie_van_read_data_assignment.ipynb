{
  "cells": [
    {
      "cell_type": "markdown",
      "metadata": {
        "id": "P4rSsKn88Dzc"
      },
      "source": [
        "## Assignment 1 - IA|BE Data Science Certificate\n",
        "\n",
        "####Natalie Ameloot\n",
        "####Fabio Li Crapi\n",
        "\n",
        "In this assignment we will analyze claim frequency in the presence of some risk factors. We will perform a GLM and a neural network and compare both methods.\n",
        "\n"
      ]
    },
    {
      "cell_type": "markdown",
      "metadata": {
        "id": "brtzEflc8x6Y"
      },
      "source": [
        "#### Import the assignment data "
      ]
    },
    {
      "cell_type": "code",
      "execution_count": null,
      "metadata": {
        "colab": {
          "base_uri": "https://localhost:8080/"
        },
        "id": "K3yZdccI82ot",
        "outputId": "93afbfc0-b6e8-4cd3-ca20-a8ba754eacfd"
      },
      "outputs": [
        {
          "output_type": "stream",
          "name": "stderr",
          "text": [
            "/usr/local/lib/python3.7/dist-packages/statsmodels/tools/_testing.py:19: FutureWarning: pandas.util.testing is deprecated. Use the functions in the public API at pandas.testing instead.\n",
            "  import pandas.util.testing as tm\n"
          ]
        },
        {
          "output_type": "stream",
          "name": "stdout",
          "text": [
            "Collecting feature_engine\n",
            "  Downloading feature_engine-1.2.0-py2.py3-none-any.whl (205 kB)\n",
            "\u001b[?25l\r\u001b[K     |█▋                              | 10 kB 32.3 MB/s eta 0:00:01\r\u001b[K     |███▏                            | 20 kB 22.9 MB/s eta 0:00:01\r\u001b[K     |████▉                           | 30 kB 16.5 MB/s eta 0:00:01\r\u001b[K     |██████▍                         | 40 kB 14.0 MB/s eta 0:00:01\r\u001b[K     |████████                        | 51 kB 7.8 MB/s eta 0:00:01\r\u001b[K     |█████████▋                      | 61 kB 7.6 MB/s eta 0:00:01\r\u001b[K     |███████████▏                    | 71 kB 8.4 MB/s eta 0:00:01\r\u001b[K     |████████████▊                   | 81 kB 9.4 MB/s eta 0:00:01\r\u001b[K     |██████████████▍                 | 92 kB 9.2 MB/s eta 0:00:01\r\u001b[K     |████████████████                | 102 kB 7.5 MB/s eta 0:00:01\r\u001b[K     |█████████████████▋              | 112 kB 7.5 MB/s eta 0:00:01\r\u001b[K     |███████████████████▏            | 122 kB 7.5 MB/s eta 0:00:01\r\u001b[K     |████████████████████▊           | 133 kB 7.5 MB/s eta 0:00:01\r\u001b[K     |██████████████████████▍         | 143 kB 7.5 MB/s eta 0:00:01\r\u001b[K     |████████████████████████        | 153 kB 7.5 MB/s eta 0:00:01\r\u001b[K     |█████████████████████████▌      | 163 kB 7.5 MB/s eta 0:00:01\r\u001b[K     |███████████████████████████▏    | 174 kB 7.5 MB/s eta 0:00:01\r\u001b[K     |████████████████████████████▊   | 184 kB 7.5 MB/s eta 0:00:01\r\u001b[K     |██████████████████████████████▍ | 194 kB 7.5 MB/s eta 0:00:01\r\u001b[K     |████████████████████████████████| 204 kB 7.5 MB/s eta 0:00:01\r\u001b[K     |████████████████████████████████| 205 kB 7.5 MB/s \n",
            "\u001b[?25hRequirement already satisfied: numpy>=1.18.2 in /usr/local/lib/python3.7/dist-packages (from feature_engine) (1.19.5)\n",
            "Requirement already satisfied: scipy>=1.4.1 in /usr/local/lib/python3.7/dist-packages (from feature_engine) (1.4.1)\n",
            "Collecting statsmodels>=0.11.1\n",
            "  Downloading statsmodels-0.13.1-cp37-cp37m-manylinux_2_17_x86_64.manylinux2014_x86_64.whl (9.8 MB)\n",
            "\u001b[K     |████████████████████████████████| 9.8 MB 67.4 MB/s \n",
            "\u001b[?25hRequirement already satisfied: pandas>=1.0.3 in /usr/local/lib/python3.7/dist-packages (from feature_engine) (1.1.5)\n",
            "Requirement already satisfied: scikit-learn>=0.22.2 in /usr/local/lib/python3.7/dist-packages (from feature_engine) (1.0.2)\n",
            "Requirement already satisfied: pytz>=2017.2 in /usr/local/lib/python3.7/dist-packages (from pandas>=1.0.3->feature_engine) (2018.9)\n",
            "Requirement already satisfied: python-dateutil>=2.7.3 in /usr/local/lib/python3.7/dist-packages (from pandas>=1.0.3->feature_engine) (2.8.2)\n",
            "Requirement already satisfied: six>=1.5 in /usr/local/lib/python3.7/dist-packages (from python-dateutil>=2.7.3->pandas>=1.0.3->feature_engine) (1.15.0)\n",
            "Requirement already satisfied: threadpoolctl>=2.0.0 in /usr/local/lib/python3.7/dist-packages (from scikit-learn>=0.22.2->feature_engine) (3.0.0)\n",
            "Requirement already satisfied: joblib>=0.11 in /usr/local/lib/python3.7/dist-packages (from scikit-learn>=0.22.2->feature_engine) (1.1.0)\n",
            "Requirement already satisfied: patsy>=0.5.2 in /usr/local/lib/python3.7/dist-packages (from statsmodels>=0.11.1->feature_engine) (0.5.2)\n",
            "Installing collected packages: statsmodels, feature-engine\n",
            "  Attempting uninstall: statsmodels\n",
            "    Found existing installation: statsmodels 0.10.2\n",
            "    Uninstalling statsmodels-0.10.2:\n",
            "      Successfully uninstalled statsmodels-0.10.2\n",
            "Successfully installed feature-engine-1.2.0 statsmodels-0.13.1\n"
          ]
        },
        {
          "output_type": "display_data",
          "data": {
            "application/vnd.colab-display-data+json": {
              "pip_warning": {
                "packages": [
                  "statsmodels"
                ]
              }
            }
          },
          "metadata": {}
        },
        {
          "output_type": "execute_result",
          "data": {
            "text/html": [
              "\n",
              "  <div id=\"df-154b68c5-6149-4988-b027-d4fc2dfa3d92\">\n",
              "    <div class=\"colab-df-container\">\n",
              "      <div>\n",
              "<style scoped>\n",
              "    .dataframe tbody tr th:only-of-type {\n",
              "        vertical-align: middle;\n",
              "    }\n",
              "\n",
              "    .dataframe tbody tr th {\n",
              "        vertical-align: top;\n",
              "    }\n",
              "\n",
              "    .dataframe thead th {\n",
              "        text-align: right;\n",
              "    }\n",
              "</style>\n",
              "<table border=\"1\" class=\"dataframe\">\n",
              "  <thead>\n",
              "    <tr style=\"text-align: right;\">\n",
              "      <th></th>\n",
              "      <th>AGEPH</th>\n",
              "      <th>CODPOSS</th>\n",
              "      <th>duree</th>\n",
              "      <th>lnexpo</th>\n",
              "      <th>nbrtotc</th>\n",
              "      <th>nbrtotan</th>\n",
              "      <th>chargtot</th>\n",
              "      <th>agecar</th>\n",
              "      <th>sexp</th>\n",
              "      <th>fuelc</th>\n",
              "      <th>split</th>\n",
              "      <th>usec</th>\n",
              "      <th>fleetc</th>\n",
              "      <th>sportc</th>\n",
              "      <th>coverp</th>\n",
              "      <th>powerc</th>\n",
              "    </tr>\n",
              "  </thead>\n",
              "  <tbody>\n",
              "    <tr>\n",
              "      <th>0</th>\n",
              "      <td>64</td>\n",
              "      <td>1000</td>\n",
              "      <td>1.000000</td>\n",
              "      <td>0.000000</td>\n",
              "      <td>0</td>\n",
              "      <td>0.000000</td>\n",
              "      <td>0.000000</td>\n",
              "      <td>2-5</td>\n",
              "      <td>Female</td>\n",
              "      <td>Petrol</td>\n",
              "      <td>Once</td>\n",
              "      <td>Private</td>\n",
              "      <td>No</td>\n",
              "      <td>No</td>\n",
              "      <td>MTPL+</td>\n",
              "      <td>66-110</td>\n",
              "    </tr>\n",
              "    <tr>\n",
              "      <th>1</th>\n",
              "      <td>28</td>\n",
              "      <td>1000</td>\n",
              "      <td>0.046575</td>\n",
              "      <td>-3.066684</td>\n",
              "      <td>1</td>\n",
              "      <td>21.470588</td>\n",
              "      <td>155.974606</td>\n",
              "      <td>6-10</td>\n",
              "      <td>Female</td>\n",
              "      <td>Petrol</td>\n",
              "      <td>Twice</td>\n",
              "      <td>Private</td>\n",
              "      <td>No</td>\n",
              "      <td>No</td>\n",
              "      <td>MTPL</td>\n",
              "      <td>66-110</td>\n",
              "    </tr>\n",
              "    <tr>\n",
              "      <th>2</th>\n",
              "      <td>58</td>\n",
              "      <td>1000</td>\n",
              "      <td>0.402740</td>\n",
              "      <td>-0.909465</td>\n",
              "      <td>0</td>\n",
              "      <td>0.000000</td>\n",
              "      <td>0.000000</td>\n",
              "      <td>&gt;10</td>\n",
              "      <td>Female</td>\n",
              "      <td>Petrol</td>\n",
              "      <td>Thrice</td>\n",
              "      <td>Private</td>\n",
              "      <td>No</td>\n",
              "      <td>No</td>\n",
              "      <td>MTPL</td>\n",
              "      <td>&lt;66</td>\n",
              "    </tr>\n",
              "    <tr>\n",
              "      <th>3</th>\n",
              "      <td>37</td>\n",
              "      <td>1030</td>\n",
              "      <td>0.169863</td>\n",
              "      <td>-1.772763</td>\n",
              "      <td>0</td>\n",
              "      <td>0.000000</td>\n",
              "      <td>0.000000</td>\n",
              "      <td>2-5</td>\n",
              "      <td>Female</td>\n",
              "      <td>Petrol</td>\n",
              "      <td>Once</td>\n",
              "      <td>Professional</td>\n",
              "      <td>No</td>\n",
              "      <td>No</td>\n",
              "      <td>MTPL+++</td>\n",
              "      <td>66-110</td>\n",
              "    </tr>\n",
              "    <tr>\n",
              "      <th>4</th>\n",
              "      <td>29</td>\n",
              "      <td>1030</td>\n",
              "      <td>1.000000</td>\n",
              "      <td>0.000000</td>\n",
              "      <td>0</td>\n",
              "      <td>0.000000</td>\n",
              "      <td>0.000000</td>\n",
              "      <td>6-10</td>\n",
              "      <td>Female</td>\n",
              "      <td>Petrol</td>\n",
              "      <td>Once</td>\n",
              "      <td>Private</td>\n",
              "      <td>No</td>\n",
              "      <td>No</td>\n",
              "      <td>MTPL+</td>\n",
              "      <td>&lt;66</td>\n",
              "    </tr>\n",
              "  </tbody>\n",
              "</table>\n",
              "</div>\n",
              "      <button class=\"colab-df-convert\" onclick=\"convertToInteractive('df-154b68c5-6149-4988-b027-d4fc2dfa3d92')\"\n",
              "              title=\"Convert this dataframe to an interactive table.\"\n",
              "              style=\"display:none;\">\n",
              "        \n",
              "  <svg xmlns=\"http://www.w3.org/2000/svg\" height=\"24px\"viewBox=\"0 0 24 24\"\n",
              "       width=\"24px\">\n",
              "    <path d=\"M0 0h24v24H0V0z\" fill=\"none\"/>\n",
              "    <path d=\"M18.56 5.44l.94 2.06.94-2.06 2.06-.94-2.06-.94-.94-2.06-.94 2.06-2.06.94zm-11 1L8.5 8.5l.94-2.06 2.06-.94-2.06-.94L8.5 2.5l-.94 2.06-2.06.94zm10 10l.94 2.06.94-2.06 2.06-.94-2.06-.94-.94-2.06-.94 2.06-2.06.94z\"/><path d=\"M17.41 7.96l-1.37-1.37c-.4-.4-.92-.59-1.43-.59-.52 0-1.04.2-1.43.59L10.3 9.45l-7.72 7.72c-.78.78-.78 2.05 0 2.83L4 21.41c.39.39.9.59 1.41.59.51 0 1.02-.2 1.41-.59l7.78-7.78 2.81-2.81c.8-.78.8-2.07 0-2.86zM5.41 20L4 18.59l7.72-7.72 1.47 1.35L5.41 20z\"/>\n",
              "  </svg>\n",
              "      </button>\n",
              "      \n",
              "  <style>\n",
              "    .colab-df-container {\n",
              "      display:flex;\n",
              "      flex-wrap:wrap;\n",
              "      gap: 12px;\n",
              "    }\n",
              "\n",
              "    .colab-df-convert {\n",
              "      background-color: #E8F0FE;\n",
              "      border: none;\n",
              "      border-radius: 50%;\n",
              "      cursor: pointer;\n",
              "      display: none;\n",
              "      fill: #1967D2;\n",
              "      height: 32px;\n",
              "      padding: 0 0 0 0;\n",
              "      width: 32px;\n",
              "    }\n",
              "\n",
              "    .colab-df-convert:hover {\n",
              "      background-color: #E2EBFA;\n",
              "      box-shadow: 0px 1px 2px rgba(60, 64, 67, 0.3), 0px 1px 3px 1px rgba(60, 64, 67, 0.15);\n",
              "      fill: #174EA6;\n",
              "    }\n",
              "\n",
              "    [theme=dark] .colab-df-convert {\n",
              "      background-color: #3B4455;\n",
              "      fill: #D2E3FC;\n",
              "    }\n",
              "\n",
              "    [theme=dark] .colab-df-convert:hover {\n",
              "      background-color: #434B5C;\n",
              "      box-shadow: 0px 1px 3px 1px rgba(0, 0, 0, 0.15);\n",
              "      filter: drop-shadow(0px 1px 2px rgba(0, 0, 0, 0.3));\n",
              "      fill: #FFFFFF;\n",
              "    }\n",
              "  </style>\n",
              "\n",
              "      <script>\n",
              "        const buttonEl =\n",
              "          document.querySelector('#df-154b68c5-6149-4988-b027-d4fc2dfa3d92 button.colab-df-convert');\n",
              "        buttonEl.style.display =\n",
              "          google.colab.kernel.accessAllowed ? 'block' : 'none';\n",
              "\n",
              "        async function convertToInteractive(key) {\n",
              "          const element = document.querySelector('#df-154b68c5-6149-4988-b027-d4fc2dfa3d92');\n",
              "          const dataTable =\n",
              "            await google.colab.kernel.invokeFunction('convertToInteractive',\n",
              "                                                     [key], {});\n",
              "          if (!dataTable) return;\n",
              "\n",
              "          const docLinkHtml = 'Like what you see? Visit the ' +\n",
              "            '<a target=\"_blank\" href=https://colab.research.google.com/notebooks/data_table.ipynb>data table notebook</a>'\n",
              "            + ' to learn more about interactive tables.';\n",
              "          element.innerHTML = '';\n",
              "          dataTable['output_type'] = 'display_data';\n",
              "          await google.colab.output.renderOutput(dataTable, element);\n",
              "          const docLink = document.createElement('div');\n",
              "          docLink.innerHTML = docLinkHtml;\n",
              "          element.appendChild(docLink);\n",
              "        }\n",
              "      </script>\n",
              "    </div>\n",
              "  </div>\n",
              "  "
            ],
            "text/plain": [
              "   AGEPH  CODPOSS     duree    lnexpo  ...  fleetc  sportc   coverp  powerc\n",
              "0     64     1000  1.000000  0.000000  ...      No      No    MTPL+  66-110\n",
              "1     28     1000  0.046575 -3.066684  ...      No      No     MTPL  66-110\n",
              "2     58     1000  0.402740 -0.909465  ...      No      No     MTPL     <66\n",
              "3     37     1030  0.169863 -1.772763  ...      No      No  MTPL+++  66-110\n",
              "4     29     1030  1.000000  0.000000  ...      No      No    MTPL+     <66\n",
              "\n",
              "[5 rows x 16 columns]"
            ]
          },
          "metadata": {},
          "execution_count": 1
        }
      ],
      "source": [
        "import random\n",
        "import math\n",
        "import numpy as np \n",
        "import pandas as pd \n",
        "import matplotlib.pyplot as plt\n",
        "import seaborn as sns\n",
        "import statsmodels.api as sm\n",
        "import statsmodels.formula.api as smf\n",
        "\n",
        "from sklearn.model_selection import train_test_split\n",
        "from sklearn.metrics import mean_squared_error\n",
        "\n",
        "import scipy.stats as ss # added to compute confusion matrix\n",
        "import tensorflow as tf\n",
        "from tensorflow.keras.utils import plot_model\n",
        "from sklearn.compose import ColumnTransformer\n",
        "!pip install feature_engine\n",
        "from feature_engine.encoding import OrdinalEncoder, OneHotEncoder\n",
        "from sklearn.preprocessing import StandardScaler, MinMaxScaler\n",
        "from sklearn.pipeline import make_pipeline\n",
        "\n",
        "my_data = pd.read_csv(\"https://gitfront.io/r/katrienantonio/a29071bdc7b2f20f24268be573ef54b68c65168c/IABE-DS-module-1/raw/assignment/assignment_data.csv\", delimiter = \",\")\n",
        "my_data.head()"
      ]
    },
    {
      "cell_type": "code",
      "execution_count": null,
      "metadata": {
        "colab": {
          "base_uri": "https://localhost:8080/"
        },
        "id": "wGh-tawn9wAT",
        "outputId": "a552f102-6fed-4523-c16a-52cd71e8589c"
      },
      "outputs": [
        {
          "output_type": "execute_result",
          "data": {
            "text/plain": [
              "Index(['AGEPH', 'CODPOSS', 'duree', 'lnexpo', 'nbrtotc', 'nbrtotan',\n",
              "       'chargtot', 'agecar', 'sexp', 'fuelc', 'split', 'usec', 'fleetc',\n",
              "       'sportc', 'coverp', 'powerc'],\n",
              "      dtype='object')"
            ]
          },
          "metadata": {},
          "execution_count": 2
        }
      ],
      "source": [
        "my_data.columns"
      ]
    },
    {
      "cell_type": "code",
      "execution_count": null,
      "metadata": {
        "colab": {
          "base_uri": "https://localhost:8080/"
        },
        "id": "ynn-D4N295Q-",
        "outputId": "f734c554-7185-4f1d-df9b-50a43a357d0b"
      },
      "outputs": [
        {
          "output_type": "execute_result",
          "data": {
            "text/plain": [
              "(163657, 16)"
            ]
          },
          "metadata": {},
          "execution_count": 3
        }
      ],
      "source": [
        "my_data.shape"
      ]
    },
    {
      "cell_type": "markdown",
      "metadata": {
        "id": "dfP7LiSRmHrT"
      },
      "source": [
        "#### Exploratory Data Analysis"
      ]
    },
    {
      "cell_type": "markdown",
      "metadata": {
        "id": "N2XTUaaB5Qtx"
      },
      "source": [
        "**DB**"
      ]
    },
    {
      "cell_type": "code",
      "execution_count": null,
      "metadata": {
        "colab": {
          "base_uri": "https://localhost:8080/"
        },
        "id": "u_vA5F7DmeU6",
        "outputId": "1be8fdae-035b-4d80-cc0d-540904a9ab62"
      },
      "outputs": [
        {
          "output_type": "stream",
          "name": "stdout",
          "text": [
            "my_data\n",
            "object     9\n",
            "float64    4\n",
            "int64      3\n",
            "dtype: int64\n"
          ]
        }
      ],
      "source": [
        "print(\"my_data\")\n",
        "print(my_data.dtypes.value_counts())"
      ]
    },
    {
      "cell_type": "code",
      "execution_count": null,
      "metadata": {
        "colab": {
          "base_uri": "https://localhost:8080/"
        },
        "id": "lvihFfVwnufq",
        "outputId": "0b053bb4-da28-40f6-bd7a-e56939b0bb60"
      },
      "outputs": [
        {
          "output_type": "stream",
          "name": "stdout",
          "text": [
            "my_data\n",
            "<class 'pandas.core.frame.DataFrame'>\n",
            "RangeIndex: 163657 entries, 0 to 163656\n",
            "Data columns (total 16 columns):\n",
            " #   Column    Non-Null Count   Dtype  \n",
            "---  ------    --------------   -----  \n",
            " 0   AGEPH     163657 non-null  int64  \n",
            " 1   CODPOSS   163657 non-null  int64  \n",
            " 2   duree     163657 non-null  float64\n",
            " 3   lnexpo    163657 non-null  float64\n",
            " 4   nbrtotc   163657 non-null  int64  \n",
            " 5   nbrtotan  163657 non-null  float64\n",
            " 6   chargtot  163657 non-null  float64\n",
            " 7   agecar    163657 non-null  object \n",
            " 8   sexp      163657 non-null  object \n",
            " 9   fuelc     163657 non-null  object \n",
            " 10  split     163657 non-null  object \n",
            " 11  usec      163657 non-null  object \n",
            " 12  fleetc    163657 non-null  object \n",
            " 13  sportc    163657 non-null  object \n",
            " 14  coverp    163657 non-null  object \n",
            " 15  powerc    163657 non-null  object \n",
            "dtypes: float64(4), int64(3), object(9)\n",
            "memory usage: 20.0+ MB\n",
            "None\n",
            "AGEPH       0\n",
            "CODPOSS     0\n",
            "duree       0\n",
            "lnexpo      0\n",
            "nbrtotc     0\n",
            "nbrtotan    0\n",
            "chargtot    0\n",
            "agecar      0\n",
            "sexp        0\n",
            "fuelc       0\n",
            "split       0\n",
            "usec        0\n",
            "fleetc      0\n",
            "sportc      0\n",
            "coverp      0\n",
            "powerc      0\n",
            "dtype: int64\n"
          ]
        }
      ],
      "source": [
        "print(\"my_data\")\n",
        "print(my_data.info())\n",
        "print(my_data.isnull().sum()) # No missing values for each variable"
      ]
    },
    {
      "cell_type": "markdown",
      "metadata": {
        "id": "72OzguD3ZjWU"
      },
      "source": [
        "**Response Variable**"
      ]
    },
    {
      "cell_type": "code",
      "execution_count": null,
      "metadata": {
        "colab": {
          "base_uri": "https://localhost:8080/"
        },
        "id": "VpaIb1HHZtsO",
        "outputId": "a41bb8a4-fc20-4943-b398-1203dc5160f8"
      },
      "outputs": [
        {
          "output_type": "execute_result",
          "data": {
            "text/plain": [
              "0.1393355156734497"
            ]
          },
          "metadata": {},
          "execution_count": 6
        }
      ],
      "source": [
        "my_data.nbrtotc.sum()/my_data.duree.sum()"
      ]
    },
    {
      "cell_type": "code",
      "execution_count": null,
      "metadata": {
        "colab": {
          "base_uri": "https://localhost:8080/"
        },
        "id": "aQ_h_P3kZ-n8",
        "outputId": "be973c75-f1eb-46c0-f31c-986dcb6ff0f4"
      },
      "outputs": [
        {
          "output_type": "execute_result",
          "data": {
            "text/plain": [
              "0    145312\n",
              "1     16602\n",
              "2      1562\n",
              "3       162\n",
              "4        17\n",
              "5         2\n",
              "Name: nbrtotc, dtype: int64"
            ]
          },
          "metadata": {},
          "execution_count": 7
        }
      ],
      "source": [
        "my_data.nbrtotc.value_counts()"
      ]
    },
    {
      "cell_type": "code",
      "execution_count": null,
      "metadata": {
        "colab": {
          "base_uri": "https://localhost:8080/"
        },
        "id": "32SX5QBMaHRS",
        "outputId": "f2354347-c7ff-4cab-df2d-ead933eebb97"
      },
      "outputs": [
        {
          "output_type": "execute_result",
          "data": {
            "text/html": [
              "\n",
              "  <div id=\"df-3326b467-dd41-437b-8ee1-ca6485e403b9\">\n",
              "    <div class=\"colab-df-container\">\n",
              "      <div>\n",
              "<style scoped>\n",
              "    .dataframe tbody tr th:only-of-type {\n",
              "        vertical-align: middle;\n",
              "    }\n",
              "\n",
              "    .dataframe tbody tr th {\n",
              "        vertical-align: top;\n",
              "    }\n",
              "\n",
              "    .dataframe thead th {\n",
              "        text-align: right;\n",
              "    }\n",
              "</style>\n",
              "<table border=\"1\" class=\"dataframe\">\n",
              "  <thead>\n",
              "    <tr style=\"text-align: right;\">\n",
              "      <th></th>\n",
              "      <th>nbrtotc</th>\n",
              "      <th>tot_obs</th>\n",
              "      <th>tot_expo</th>\n",
              "    </tr>\n",
              "  </thead>\n",
              "  <tbody>\n",
              "    <tr>\n",
              "      <th>0</th>\n",
              "      <td>0</td>\n",
              "      <td>145312</td>\n",
              "      <td>128595.947945</td>\n",
              "    </tr>\n",
              "    <tr>\n",
              "      <th>1</th>\n",
              "      <td>1</td>\n",
              "      <td>16602</td>\n",
              "      <td>15410.320548</td>\n",
              "    </tr>\n",
              "    <tr>\n",
              "      <th>2</th>\n",
              "      <td>2</td>\n",
              "      <td>1562</td>\n",
              "      <td>1447.301370</td>\n",
              "    </tr>\n",
              "    <tr>\n",
              "      <th>3</th>\n",
              "      <td>3</td>\n",
              "      <td>162</td>\n",
              "      <td>150.454795</td>\n",
              "    </tr>\n",
              "    <tr>\n",
              "      <th>4</th>\n",
              "      <td>4</td>\n",
              "      <td>17</td>\n",
              "      <td>14.328767</td>\n",
              "    </tr>\n",
              "    <tr>\n",
              "      <th>5</th>\n",
              "      <td>5</td>\n",
              "      <td>2</td>\n",
              "      <td>1.375342</td>\n",
              "    </tr>\n",
              "  </tbody>\n",
              "</table>\n",
              "</div>\n",
              "      <button class=\"colab-df-convert\" onclick=\"convertToInteractive('df-3326b467-dd41-437b-8ee1-ca6485e403b9')\"\n",
              "              title=\"Convert this dataframe to an interactive table.\"\n",
              "              style=\"display:none;\">\n",
              "        \n",
              "  <svg xmlns=\"http://www.w3.org/2000/svg\" height=\"24px\"viewBox=\"0 0 24 24\"\n",
              "       width=\"24px\">\n",
              "    <path d=\"M0 0h24v24H0V0z\" fill=\"none\"/>\n",
              "    <path d=\"M18.56 5.44l.94 2.06.94-2.06 2.06-.94-2.06-.94-.94-2.06-.94 2.06-2.06.94zm-11 1L8.5 8.5l.94-2.06 2.06-.94-2.06-.94L8.5 2.5l-.94 2.06-2.06.94zm10 10l.94 2.06.94-2.06 2.06-.94-2.06-.94-.94-2.06-.94 2.06-2.06.94z\"/><path d=\"M17.41 7.96l-1.37-1.37c-.4-.4-.92-.59-1.43-.59-.52 0-1.04.2-1.43.59L10.3 9.45l-7.72 7.72c-.78.78-.78 2.05 0 2.83L4 21.41c.39.39.9.59 1.41.59.51 0 1.02-.2 1.41-.59l7.78-7.78 2.81-2.81c.8-.78.8-2.07 0-2.86zM5.41 20L4 18.59l7.72-7.72 1.47 1.35L5.41 20z\"/>\n",
              "  </svg>\n",
              "      </button>\n",
              "      \n",
              "  <style>\n",
              "    .colab-df-container {\n",
              "      display:flex;\n",
              "      flex-wrap:wrap;\n",
              "      gap: 12px;\n",
              "    }\n",
              "\n",
              "    .colab-df-convert {\n",
              "      background-color: #E8F0FE;\n",
              "      border: none;\n",
              "      border-radius: 50%;\n",
              "      cursor: pointer;\n",
              "      display: none;\n",
              "      fill: #1967D2;\n",
              "      height: 32px;\n",
              "      padding: 0 0 0 0;\n",
              "      width: 32px;\n",
              "    }\n",
              "\n",
              "    .colab-df-convert:hover {\n",
              "      background-color: #E2EBFA;\n",
              "      box-shadow: 0px 1px 2px rgba(60, 64, 67, 0.3), 0px 1px 3px 1px rgba(60, 64, 67, 0.15);\n",
              "      fill: #174EA6;\n",
              "    }\n",
              "\n",
              "    [theme=dark] .colab-df-convert {\n",
              "      background-color: #3B4455;\n",
              "      fill: #D2E3FC;\n",
              "    }\n",
              "\n",
              "    [theme=dark] .colab-df-convert:hover {\n",
              "      background-color: #434B5C;\n",
              "      box-shadow: 0px 1px 3px 1px rgba(0, 0, 0, 0.15);\n",
              "      filter: drop-shadow(0px 1px 2px rgba(0, 0, 0, 0.3));\n",
              "      fill: #FFFFFF;\n",
              "    }\n",
              "  </style>\n",
              "\n",
              "      <script>\n",
              "        const buttonEl =\n",
              "          document.querySelector('#df-3326b467-dd41-437b-8ee1-ca6485e403b9 button.colab-df-convert');\n",
              "        buttonEl.style.display =\n",
              "          google.colab.kernel.accessAllowed ? 'block' : 'none';\n",
              "\n",
              "        async function convertToInteractive(key) {\n",
              "          const element = document.querySelector('#df-3326b467-dd41-437b-8ee1-ca6485e403b9');\n",
              "          const dataTable =\n",
              "            await google.colab.kernel.invokeFunction('convertToInteractive',\n",
              "                                                     [key], {});\n",
              "          if (!dataTable) return;\n",
              "\n",
              "          const docLinkHtml = 'Like what you see? Visit the ' +\n",
              "            '<a target=\"_blank\" href=https://colab.research.google.com/notebooks/data_table.ipynb>data table notebook</a>'\n",
              "            + ' to learn more about interactive tables.';\n",
              "          element.innerHTML = '';\n",
              "          dataTable['output_type'] = 'display_data';\n",
              "          await google.colab.output.renderOutput(dataTable, element);\n",
              "          const docLink = document.createElement('div');\n",
              "          docLink.innerHTML = docLinkHtml;\n",
              "          element.appendChild(docLink);\n",
              "        }\n",
              "      </script>\n",
              "    </div>\n",
              "  </div>\n",
              "  "
            ],
            "text/plain": [
              "   nbrtotc  tot_obs       tot_expo\n",
              "0        0   145312  128595.947945\n",
              "1        1    16602   15410.320548\n",
              "2        2     1562    1447.301370\n",
              "3        3      162     150.454795\n",
              "4        4       17      14.328767\n",
              "5        5        2       1.375342"
            ]
          },
          "metadata": {},
          "execution_count": 8
        }
      ],
      "source": [
        "emp_freq = my_data.groupby(\"nbrtotc\").agg(tot_obs = ('nbrtotc', 'count'), tot_expo = ('duree', 'sum'))\n",
        "emp_freq.reset_index(inplace = True)\n",
        "emp_freq"
      ]
    },
    {
      "cell_type": "code",
      "execution_count": null,
      "metadata": {
        "colab": {
          "base_uri": "https://localhost:8080/"
        },
        "id": "q6o4v7uQgLaW",
        "outputId": "03b5c454-6a01-4451-f886-a33b5ce76972"
      },
      "outputs": [
        {
          "output_type": "display_data",
          "data": {
            "image/png": "[encoded data removed]",
            "text/plain": [
              "<Figure size 720x360 with 1 Axes>"
            ]
          },
          "metadata": {
            "needs_background": "light"
          }
        }
      ],
      "source": [
        "plt.figure(figsize = (10, 5))\n",
        "sns.barplot(data = emp_freq, x = \"nbrtotc\", y = \"tot_expo\", alpha = 0.5, color = \"blue\", edgecolor = 'black', linewidth = 1)\n",
        "plt.ylabel(\"Abs freq (in exposure)\")\n",
        "plt.xlabel(\"nbrtotc\")\n",
        "plt.title('Number of claims')\n",
        "plt.show()"
      ]
    },
    {
      "cell_type": "markdown",
      "metadata": {
        "id": "fxBKRW4c5ZHW"
      },
      "source": [
        "**Explanatory Variables**"
      ]
    },
    {
      "cell_type": "code",
      "execution_count": null,
      "metadata": {
        "colab": {
          "base_uri": "https://localhost:8080/"
        },
        "id": "KtdV6pOtsBZ8",
        "outputId": "683b0784-5ef4-4cdb-8cbd-19017567f8bb"
      },
      "outputs": [
        {
          "output_type": "stream",
          "name": "stdout",
          "text": [
            "17      2\n",
            "18     17\n",
            "19    116\n",
            "20    393\n",
            "21    704\n",
            "     ... \n",
            "91     12\n",
            "92     16\n",
            "93      9\n",
            "94      3\n",
            "95      5\n",
            "Name: AGEPH, Length: 79, dtype: int64\n"
          ]
        }
      ],
      "source": [
        "print(my_data.AGEPH.value_counts().sort_index())\n"
      ]
    },
    {
      "cell_type": "code",
      "execution_count": null,
      "metadata": {
        "colab": {
          "base_uri": "https://localhost:8080/"
        },
        "id": "L3CnrEbjgbA8",
        "outputId": "57fa6100-58d4-4c2c-e7b6-2b1d6df3886f"
      },
      "outputs": [
        {
          "output_type": "display_data",
          "data": {
            "image/png": "[encoded data removed]",
            "text/plain": [
              "<Figure size 720x360 with 1 Axes>"
            ]
          },
          "metadata": {
            "needs_background": "light"
          }
        }
      ],
      "source": [
        "plt.figure(figsize = (10, 5))\n",
        "sns.histplot(data = my_data, x = \"AGEPH\", color = \"blue\", binwidth = 2, alpha = 0.5)\n",
        "plt.ylabel(\"Absolute frequency\")\n",
        "plt.title('Age policyholder')\n",
        "plt.show()"
      ]
    },
    {
      "cell_type": "code",
      "execution_count": null,
      "metadata": {
        "id": "WiQRVeuVjOcw"
      },
      "outputs": [],
      "source": [
        "my_data['AGEPH_cat'] = np.where(my_data['AGEPH'] < 20, \"17-19\", np.where(my_data['AGEPH'] < 23 ,\"20-22\", \\\n",
        "                              np.where(my_data['AGEPH'] < 26, \"23-25\", np.where(my_data['AGEPH'] < 31, \"26-30\", \\\n",
        "                              np.where(my_data['AGEPH'] < 36, \"31-35\", np.where(my_data['AGEPH'] < 41, \"36-40\", \\\n",
        "                              np.where(my_data['AGEPH'] < 46, \"41-45\", np.where(my_data['AGEPH'] < 51, \"46-50\", \\\n",
        "                              np.where(my_data['AGEPH'] < 56, \"51-55\", np.where(my_data['AGEPH'] < 61, \"56-60\", \\\n",
        "                              np.where(my_data['AGEPH'] < 66, \"61-65\", np.where(my_data['AGEPH'] < 71, \"66-70\", \\\n",
        "                              np.where(my_data['AGEPH'] < 76, \"71-75\", np.where(my_data['AGEPH'] < 81, \"76-80\", \">80\"))))))))))))))"
      ]
    },
    {
      "cell_type": "code",
      "execution_count": null,
      "metadata": {
        "id": "3AE_9us_j0i-",
        "colab": {
          "base_uri": "https://localhost:8080/"
        },
        "outputId": "b508b162-a9af-4fba-b5d0-3554a3c7a756"
      },
      "outputs": [
        {
          "output_type": "execute_result",
          "data": {
            "text/plain": [
              "17-19      135\n",
              "20-22     2050\n",
              "23-25     6092\n",
              "26-30    16074\n",
              "31-35    18362\n",
              "36-40    19337\n",
              "41-45    19539\n",
              "46-50    19183\n",
              "51-55    15728\n",
              "56-60    12621\n",
              "61-65    11509\n",
              "66-70    10606\n",
              "71-75     7432\n",
              "76-80     3505\n",
              ">80       1484\n",
              "Name: AGEPH_cat, dtype: int64"
            ]
          },
          "metadata": {},
          "execution_count": 13
        }
      ],
      "source": [
        "my_data['AGEPH_cat'].value_counts().sort_index()"
      ]
    },
    {
      "cell_type": "code",
      "execution_count": null,
      "metadata": {
        "id": "QxY0hHontHqm",
        "colab": {
          "base_uri": "https://localhost:8080/"
        },
        "outputId": "66e3aeb3-c852-4502-bfa0-5f097bc783ba"
      },
      "outputs": [
        {
          "output_type": "stream",
          "name": "stdout",
          "text": [
            "1000    1181\n",
            "1030     928\n",
            "1040     433\n",
            "1050     643\n",
            "1060     345\n",
            "        ... \n",
            "9950     110\n",
            "9960     185\n",
            "9970      48\n",
            "9980      39\n",
            "9990     136\n",
            "Name: CODPOSS, Length: 583, dtype: int64\n"
          ]
        }
      ],
      "source": [
        "print(my_data.CODPOSS.value_counts().sort_index())"
      ]
    },
    {
      "cell_type": "code",
      "execution_count": null,
      "metadata": {
        "id": "4AT9iF-MgqvB",
        "colab": {
          "base_uri": "https://localhost:8080/"
        },
        "outputId": "a46ca277-00ce-45d1-d518-fcbd381d42e0"
      },
      "outputs": [
        {
          "output_type": "display_data",
          "data": {
            "image/png": "[encoded data removed]",
            "text/plain": [
              "<Figure size 720x360 with 1 Axes>"
            ]
          },
          "metadata": {
            "needs_background": "light"
          }
        }
      ],
      "source": [
        "plt.figure(figsize = (10, 5))\n",
        "sns.histplot(data = my_data, x = \"CODPOSS\", color = \"blue\", binwidth = 2, alpha = 0.5)\n",
        "plt.ylabel(\"Absolute frequency\")\n",
        "plt.title('Postal Code')\n",
        "plt.show()"
      ]
    },
    {
      "cell_type": "code",
      "execution_count": null,
      "metadata": {
        "id": "D8BiBDVwtZ_P",
        "colab": {
          "base_uri": "https://localhost:8080/"
        },
        "outputId": "14e22920-27cd-41e6-ea47-92c4c9b76084"
      },
      "outputs": [
        {
          "output_type": "stream",
          "name": "stdout",
          "text": [
            "0-1      7766\n",
            "2-5     51559\n",
            "6-10    67151\n",
            ">10     37181\n",
            "Name: agecar, dtype: int64\n"
          ]
        }
      ],
      "source": [
        "print(my_data.agecar.value_counts().sort_index())"
      ]
    },
    {
      "cell_type": "code",
      "execution_count": null,
      "metadata": {
        "id": "OBDonbbZxkZN",
        "colab": {
          "base_uri": "https://localhost:8080/"
        },
        "outputId": "d52653c9-705c-43c8-fb43-4b00fc6b5fc1"
      },
      "outputs": [
        {
          "output_type": "execute_result",
          "data": {
            "text/plain": [
              "Male      120434\n",
              "Female     43223\n",
              "Name: sexp, dtype: int64"
            ]
          },
          "metadata": {},
          "execution_count": 17
        }
      ],
      "source": [
        "my_data.sexp.value_counts()"
      ]
    },
    {
      "cell_type": "code",
      "execution_count": null,
      "metadata": {
        "id": "w2xwSozpxvmH",
        "colab": {
          "base_uri": "https://localhost:8080/"
        },
        "outputId": "facae9f1-d682-4922-df25-4d208823909a"
      },
      "outputs": [
        {
          "output_type": "execute_result",
          "data": {
            "text/plain": [
              "Petrol    113210\n",
              "Gasoil     50447\n",
              "Name: fuelc, dtype: int64"
            ]
          },
          "metadata": {},
          "execution_count": 18
        }
      ],
      "source": [
        "my_data.fuelc.value_counts()"
      ]
    },
    {
      "cell_type": "code",
      "execution_count": null,
      "metadata": {
        "id": "aNmWGdXIzZ0O",
        "colab": {
          "base_uri": "https://localhost:8080/"
        },
        "outputId": "9465d023-80a3-482c-c6c4-ec93cb679523"
      },
      "outputs": [
        {
          "output_type": "execute_result",
          "data": {
            "text/plain": [
              "Once       81479\n",
              "Twice      45961\n",
              "Monthly    23599\n",
              "Thrice     12618\n",
              "Name: split, dtype: int64"
            ]
          },
          "metadata": {},
          "execution_count": 19
        }
      ],
      "source": [
        "my_data.split.value_counts()"
      ]
    },
    {
      "cell_type": "code",
      "execution_count": null,
      "metadata": {
        "id": "BlcITms7zr-G",
        "colab": {
          "base_uri": "https://localhost:8080/"
        },
        "outputId": "a81e1367-047a-4ccd-e1b9-35bf86bcd7ba"
      },
      "outputs": [
        {
          "output_type": "execute_result",
          "data": {
            "text/plain": [
              "Private         155652\n",
              "Professional      8005\n",
              "Name: usec, dtype: int64"
            ]
          },
          "metadata": {},
          "execution_count": 20
        }
      ],
      "source": [
        "my_data.usec.value_counts()"
      ]
    },
    {
      "cell_type": "code",
      "execution_count": null,
      "metadata": {
        "id": "rt3UqaVuzx5T",
        "colab": {
          "base_uri": "https://localhost:8080/"
        },
        "outputId": "ab19558c-af34-4a4f-d11b-efbe5df4d1a8"
      },
      "outputs": [
        {
          "output_type": "execute_result",
          "data": {
            "text/plain": [
              "No     158428\n",
              "Yes      5229\n",
              "Name: fleetc, dtype: int64"
            ]
          },
          "metadata": {},
          "execution_count": 21
        }
      ],
      "source": [
        "my_data.fleetc.value_counts()"
      ]
    },
    {
      "cell_type": "code",
      "execution_count": null,
      "metadata": {
        "id": "cPIKOA45z4EE",
        "colab": {
          "base_uri": "https://localhost:8080/"
        },
        "outputId": "3a8ea6c6-cfe7-42f5-ebd5-85ee5ba73a03"
      },
      "outputs": [
        {
          "output_type": "execute_result",
          "data": {
            "text/plain": [
              "No     162145\n",
              "Yes      1512\n",
              "Name: sportc, dtype: int64"
            ]
          },
          "metadata": {},
          "execution_count": 22
        }
      ],
      "source": [
        "my_data.sportc.value_counts()"
      ]
    },
    {
      "cell_type": "code",
      "execution_count": null,
      "metadata": {
        "id": "zr21WZBIz74k",
        "colab": {
          "base_uri": "https://localhost:8080/"
        },
        "outputId": "e2ed3341-9c2b-4927-9a08-d36fcfda068e"
      },
      "outputs": [
        {
          "output_type": "execute_result",
          "data": {
            "text/plain": [
              "MTPL       95409\n",
              "MTPL+      46073\n",
              "MTPL+++    22175\n",
              "Name: coverp, dtype: int64"
            ]
          },
          "metadata": {},
          "execution_count": 23
        }
      ],
      "source": [
        "my_data.coverp.value_counts()"
      ]
    },
    {
      "cell_type": "code",
      "execution_count": null,
      "metadata": {
        "id": "3t8jLDvfz8BT",
        "colab": {
          "base_uri": "https://localhost:8080/"
        },
        "outputId": "30ce58ca-d817-410f-ab19-ceb61c6fdc0d"
      },
      "outputs": [
        {
          "output_type": "execute_result",
          "data": {
            "text/plain": [
              "<66       119809\n",
              "66-110     42188\n",
              ">110        1660\n",
              "Name: powerc, dtype: int64"
            ]
          },
          "metadata": {},
          "execution_count": 24
        }
      ],
      "source": [
        "my_data.powerc.value_counts()"
      ]
    },
    {
      "cell_type": "code",
      "execution_count": null,
      "metadata": {
        "id": "uUKJjK-q0ygH",
        "colab": {
          "base_uri": "https://localhost:8080/"
        },
        "outputId": "88d3aa63-7d4a-40cc-ad49-0e262ce3feaa"
      },
      "outputs": [
        {
          "output_type": "stream",
          "name": "stdout",
          "text": [
            "<class 'pandas.core.frame.DataFrame'>\n",
            "RangeIndex: 163657 entries, 0 to 163656\n",
            "Data columns (total 17 columns):\n",
            " #   Column     Non-Null Count   Dtype   \n",
            "---  ------     --------------   -----   \n",
            " 0   AGEPH      163657 non-null  category\n",
            " 1   CODPOSS    163657 non-null  category\n",
            " 2   duree      163657 non-null  float64 \n",
            " 3   lnexpo     163657 non-null  float64 \n",
            " 4   nbrtotc    163657 non-null  int64   \n",
            " 5   nbrtotan   163657 non-null  float64 \n",
            " 6   chargtot   163657 non-null  float64 \n",
            " 7   agecar     163657 non-null  category\n",
            " 8   sexp       163657 non-null  category\n",
            " 9   fuelc      163657 non-null  category\n",
            " 10  split      163657 non-null  category\n",
            " 11  usec       163657 non-null  category\n",
            " 12  fleetc     163657 non-null  category\n",
            " 13  sportc     163657 non-null  category\n",
            " 14  coverp     163657 non-null  category\n",
            " 15  powerc     163657 non-null  category\n",
            " 16  AGEPH_cat  163657 non-null  category\n",
            "dtypes: category(12), float64(4), int64(1)\n",
            "memory usage: 8.3 MB\n"
          ]
        }
      ],
      "source": [
        "for c in [\"AGEPH\",\"CODPOSS\",\"agecar\",\"sexp\",\"fuelc\",\"split\",\"usec\",\"fleetc\",\"sportc\",\"coverp\",\"powerc\",\"AGEPH_cat\"]:\n",
        "    my_data[c]=pd.Categorical(my_data[c])\n",
        "\n",
        "my_data[\"split\"] = my_data[\"split\"].cat.reorder_categories(['Once','Twice','Thrice','Monthly'])\n",
        "my_data[\"powerc\"] = my_data[\"powerc\"].cat.reorder_categories(['<66', '66-110','>110'])\n",
        "\n",
        "my_data.info()"
      ]
    },
    {
      "cell_type": "markdown",
      "metadata": {
        "id": "JXAtVrl_5G1C"
      },
      "source": [
        "**One way analysis**"
      ]
    },
    {
      "cell_type": "code",
      "execution_count": null,
      "metadata": {
        "id": "2HDZREiNBwkq"
      },
      "outputs": [],
      "source": [
        "def my_data_description(variable):\n",
        "    \n",
        "    Nbr = my_data[['nbrtotc']].groupby([my_data[variable]]).sum().reset_index()\n",
        "    exp = my_data[['duree']].groupby([my_data[variable]]).sum().reset_index()\n",
        "    obs = pd.merge(Nbr,exp)\n",
        "    obs['Freq']=obs['nbrtotc']/obs['duree']\n",
        "   \n",
        "    return(obs)"
      ]
    },
    {
      "cell_type": "code",
      "execution_count": null,
      "metadata": {
        "id": "OVlbLkp18jBV"
      },
      "outputs": [],
      "source": [
        "def my_data_description_plot(variable):\n",
        "\n",
        "    plt.rcParams['figure.figsize'] = [15, 6]\n",
        "    table_to_plot=table.loc[:,[variable,'duree','Freq']]\n",
        "    table_to_plot.plot(kind='bar', secondary_y='duree', rot=0)\n",
        "    plt.xticks(range(table_to_plot.shape[0]),list(table_to_plot.iloc[:,0]))\n",
        "    plot=plt.show()\n",
        "    \n",
        "    return(plot)"
      ]
    },
    {
      "cell_type": "code",
      "execution_count": null,
      "metadata": {
        "id": "qU_KJQ-Z8rLd",
        "colab": {
          "base_uri": "https://localhost:8080/"
        },
        "outputId": "431c2d78-f1bf-46e1-efc4-f3fe0a947a35"
      },
      "outputs": [
        {
          "output_type": "display_data",
          "data": {
            "image/png": "[encoded data removed]",
            "text/plain": [
              "<Figure size 1080x432 with 2 Axes>"
            ]
          },
          "metadata": {
            "needs_background": "light"
          }
        }
      ],
      "source": [
        "table=my_data_description(\"AGEPH_cat\")\n",
        "my_data_description_plot(\"AGEPH_cat\")"
      ]
    },
    {
      "cell_type": "code",
      "execution_count": null,
      "metadata": {
        "id": "wMxV5We1_-7w",
        "colab": {
          "base_uri": "https://localhost:8080/"
        },
        "outputId": "e9598f71-f6a3-4134-87d6-404d14c79553"
      },
      "outputs": [
        {
          "output_type": "display_data",
          "data": {
            "image/png": "[encoded data removed]",
            "text/plain": [
              "<Figure size 1080x432 with 2 Axes>"
            ]
          },
          "metadata": {
            "needs_background": "light"
          }
        }
      ],
      "source": [
        "table=my_data_description(\"agecar\")\n",
        "my_data_description_plot(\"agecar\")"
      ]
    },
    {
      "cell_type": "code",
      "execution_count": null,
      "metadata": {
        "id": "LoMwmRImAD8d",
        "colab": {
          "base_uri": "https://localhost:8080/"
        },
        "outputId": "428572c9-ee56-46c0-9cba-3683de5d7134"
      },
      "outputs": [
        {
          "output_type": "display_data",
          "data": {
            "image/png": "[encoded data removed]",
            "text/plain": [
              "<Figure size 1080x432 with 2 Axes>"
            ]
          },
          "metadata": {
            "needs_background": "light"
          }
        }
      ],
      "source": [
        "table=my_data_description(\"sexp\")\n",
        "my_data_description_plot(\"sexp\")"
      ]
    },
    {
      "cell_type": "code",
      "execution_count": null,
      "metadata": {
        "id": "QSHUKSWzAEF7",
        "colab": {
          "base_uri": "https://localhost:8080/"
        },
        "outputId": "1521f33b-89f4-47a6-f411-afd30aab96f2"
      },
      "outputs": [
        {
          "output_type": "display_data",
          "data": {
            "image/png": "[encoded data removed]",
            "text/plain": [
              "<Figure size 1080x432 with 2 Axes>"
            ]
          },
          "metadata": {
            "needs_background": "light"
          }
        }
      ],
      "source": [
        "table=my_data_description(\"fuelc\")\n",
        "my_data_description_plot(\"fuelc\")"
      ]
    },
    {
      "cell_type": "code",
      "execution_count": null,
      "metadata": {
        "id": "X_sFIlUtAEOs",
        "colab": {
          "base_uri": "https://localhost:8080/"
        },
        "outputId": "fac219e2-3f14-49d7-d24a-919c223ea61f"
      },
      "outputs": [
        {
          "output_type": "display_data",
          "data": {
            "image/png": "[encoded data removed]",
            "text/plain": [
              "<Figure size 1080x432 with 2 Axes>"
            ]
          },
          "metadata": {
            "needs_background": "light"
          }
        }
      ],
      "source": [
        "table=my_data_description(\"split\")\n",
        "my_data_description_plot(\"split\")"
      ]
    },
    {
      "cell_type": "code",
      "execution_count": null,
      "metadata": {
        "id": "a_LHn42lAEXI",
        "colab": {
          "base_uri": "https://localhost:8080/"
        },
        "outputId": "53d59e53-2825-4e1f-a9e7-7cad1a57cf1f"
      },
      "outputs": [
        {
          "output_type": "display_data",
          "data": {
            "image/png": "[encoded data removed]",
            "text/plain": [
              "<Figure size 1080x432 with 2 Axes>"
            ]
          },
          "metadata": {
            "needs_background": "light"
          }
        }
      ],
      "source": [
        "table=my_data_description(\"usec\")\n",
        "my_data_description_plot(\"usec\")"
      ]
    },
    {
      "cell_type": "code",
      "execution_count": null,
      "metadata": {
        "id": "UtUBRDXKAEf_",
        "colab": {
          "base_uri": "https://localhost:8080/"
        },
        "outputId": "9275dd6d-b7c5-46de-8cc7-188225dfc2cb"
      },
      "outputs": [
        {
          "output_type": "display_data",
          "data": {
            "image/png": "[encoded data removed]",
            "text/plain": [
              "<Figure size 1080x432 with 2 Axes>"
            ]
          },
          "metadata": {
            "needs_background": "light"
          }
        }
      ],
      "source": [
        "table=my_data_description(\"fleetc\")\n",
        "my_data_description_plot(\"fleetc\")"
      ]
    },
    {
      "cell_type": "code",
      "execution_count": null,
      "metadata": {
        "id": "dx1y68JAAEnQ",
        "colab": {
          "base_uri": "https://localhost:8080/"
        },
        "outputId": "c7497eaa-fa30-4c71-8fc2-e00072bcafa7"
      },
      "outputs": [
        {
          "output_type": "display_data",
          "data": {
            "image/png": "[encoded data removed]",
            "text/plain": [
              "<Figure size 1080x432 with 2 Axes>"
            ]
          },
          "metadata": {
            "needs_background": "light"
          }
        }
      ],
      "source": [
        "table=my_data_description(\"sportc\")\n",
        "my_data_description_plot(\"sportc\")"
      ]
    },
    {
      "cell_type": "code",
      "execution_count": null,
      "metadata": {
        "id": "eEzpDH_aAEuR",
        "colab": {
          "base_uri": "https://localhost:8080/"
        },
        "outputId": "0d259348-fd50-4611-de4c-007f40107843"
      },
      "outputs": [
        {
          "output_type": "display_data",
          "data": {
            "image/png": "[encoded data removed]",
            "text/plain": [
              "<Figure size 1080x432 with 2 Axes>"
            ]
          },
          "metadata": {
            "needs_background": "light"
          }
        }
      ],
      "source": [
        "table=my_data_description(\"coverp\")\n",
        "my_data_description_plot(\"coverp\")"
      ]
    },
    {
      "cell_type": "code",
      "execution_count": null,
      "metadata": {
        "id": "vR-LUEghAE1x",
        "colab": {
          "base_uri": "https://localhost:8080/"
        },
        "outputId": "7a1a4e8f-9678-4612-ae53-1c67f83073d6"
      },
      "outputs": [
        {
          "output_type": "display_data",
          "data": {
            "image/png": "[encoded data removed]",
            "text/plain": [
              "<Figure size 1080x432 with 2 Axes>"
            ]
          },
          "metadata": {
            "needs_background": "light"
          }
        }
      ],
      "source": [
        "table=my_data_description(\"powerc\")\n",
        "my_data_description_plot(\"powerc\")"
      ]
    },
    {
      "cell_type": "markdown",
      "metadata": {
        "id": "pCV0LjEwCASP"
      },
      "source": [
        "#### Method 1 : GLM"
      ]
    },
    {
      "cell_type": "markdown",
      "metadata": {
        "id": "QAQtFVzuCbaK"
      },
      "source": [
        "**Split train-test**"
      ]
    },
    {
      "cell_type": "code",
      "execution_count": null,
      "metadata": {
        "colab": {
          "base_uri": "https://localhost:8080/"
        },
        "id": "VSwAjcsAEgdg",
        "outputId": "df91493c-fa75-4910-f80e-e7f38a6ff1ef"
      },
      "outputs": [
        {
          "output_type": "display_data",
          "data": {
            "image/png": "[encoded data removed]",
            "text/plain": [
              "<Figure size 720x360 with 1 Axes>"
            ]
          },
          "metadata": {
            "needs_background": "light"
          }
        }
      ],
      "source": [
        "np.random.seed(123)\n",
        "bins = np.linspace(my_data.nbrtotc.min(),my_data.nbrtotc.max(), 20 ) \n",
        "y_cat = pd.cut(my_data.nbrtotc,bins=bins,include_lowest=True) \n",
        "my_data_X = my_data.drop(labels=['CODPOSS','lnexpo','nbrtotc','nbrtotan','chargtot'], axis=1) \n",
        "my_data_X_train, my_data_X_test, my_data_y_train, my_data_y_test = train_test_split(my_data_X, my_data.nbrtotc, test_size=0.2, stratify=y_cat)\n",
        "train=my_data_X_train\n",
        "train[\"nbrtotc\"]=my_data_y_train\n",
        "\n",
        "test=my_data_X_test\n",
        "test[\"nbrtotc\"]=my_data_y_test\n",
        "\n",
        "#create dataframe from different vector lengths\n",
        "df1 = pd.DataFrame(my_data_y_train)\n",
        "df2= pd.DataFrame(my_data_y_test)\n",
        "plot_pd = pd.concat([df1,df2], ignore_index=True, axis=1)\n",
        "#rename columns for x-label\n",
        "plot_pd.columns = ['Number claims train', 'Number claims test']\n",
        "#plot \n",
        "\n",
        "fig, axs = plt.subplots(ncols=1, figsize=(10,5));\n",
        "sns.histplot(plot_pd['Number claims train'], ax = axs, color='r',stat=\"probability\").set(title='Number claims');\n",
        "sns.histplot(plot_pd['Number claims test'], ax = axs, color='k',stat=\"probability\");\n",
        "plt.show()"
      ]
    },
    {
      "cell_type": "markdown",
      "metadata": {
        "id": "lMAs11VYEa2_"
      },
      "source": [
        "**Our first model: a model with only an intercept**"
      ]
    },
    {
      "cell_type": "code",
      "source": [
        "freq_glm = smf.glm('nbrtotc ~ 1', data = train, exposure = train.duree, family = sm.families.Poisson(link=sm.families.links.log())).fit()\n",
        "print(freq_glm.summary())"
      ],
      "metadata": {
        "colab": {
          "base_uri": "https://localhost:8080/"
        },
        "id": "ckVeERub0xUT",
        "outputId": "b763206c-9f9f-418c-b962-8ce098c27a89"
      },
      "execution_count": null,
      "outputs": [
        {
          "output_type": "stream",
          "name": "stdout",
          "text": [
            "                 Generalized Linear Model Regression Results                  \n",
            "==============================================================================\n",
            "Dep. Variable:                nbrtotc   No. Observations:               130925\n",
            "Model:                            GLM   Df Residuals:                   130924\n",
            "Model Family:                 Poisson   Df Model:                            0\n",
            "Link Function:                    log   Scale:                          1.0000\n",
            "Method:                          IRLS   Log-Likelihood:                -51203.\n",
            "Date:                Thu, 13 Jan 2022   Deviance:                       72137.\n",
            "Time:                        15:22:52   Pearson chi2:                 1.60e+05\n",
            "No. Iterations:                     6                                         \n",
            "Covariance Type:            nonrobust                                         \n",
            "==============================================================================\n",
            "                 coef    std err          z      P>|z|      [0.025      0.975]\n",
            "------------------------------------------------------------------------------\n",
            "Intercept     -1.9705      0.008   -251.080      0.000      -1.986      -1.955\n",
            "==============================================================================\n"
          ]
        }
      ]
    },
    {
      "cell_type": "code",
      "source": [
        "print(freq_glm.deviance)\n",
        "print(\"\")\n",
        "print(\"\")\n",
        "print(freq_glm.aic)"
      ],
      "metadata": {
        "colab": {
          "base_uri": "https://localhost:8080/"
        },
        "id": "yuH8Ga-D0-SP",
        "outputId": "8be13a45-a041-41a7-b9c9-1f64ade43ba4"
      },
      "execution_count": null,
      "outputs": [
        {
          "output_type": "stream",
          "name": "stdout",
          "text": [
            "72136.93569151955\n",
            "\n",
            "\n",
            "102407.07565884573\n"
          ]
        }
      ]
    },
    {
      "cell_type": "markdown",
      "metadata": {
        "id": "GCCEVPED0mV2"
      },
      "source": [
        "**Models with one variable**"
      ]
    },
    {
      "cell_type": "code",
      "execution_count": null,
      "metadata": {
        "id": "2kWi-QmACnnn"
      },
      "outputs": [],
      "source": [
        "freq_glm_AGEPH_cat = smf.glm('nbrtotc ~ C(AGEPH_cat,Treatment(reference=\"41-45\"))', data = train, exposure = train.duree, family = sm.families.Poisson(link=sm.families.links.log())).fit()\n",
        "freq_glm_agecar = smf.glm('nbrtotc ~ C(agecar,Treatment(reference=\"6-10\"))', data = train, exposure = train.duree, family = sm.families.Poisson(link=sm.families.links.log())).fit()\n",
        "freq_glm_sexp = smf.glm('nbrtotc ~ sexp', data = train, exposure = train.duree, family = sm.families.Poisson(link=sm.families.links.log())).fit()\n",
        "freq_glm_fuelc = smf.glm('nbrtotc ~ fuelc', data = train, exposure = train.duree, family = sm.families.Poisson(link=sm.families.links.log())).fit()\n",
        "freq_glm_split = smf.glm('nbrtotc ~ C(split,Treatment(reference=\"Once\"))', data = train, exposure = train.duree, family = sm.families.Poisson(link=sm.families.links.log())).fit()\n",
        "freq_glm_usec = smf.glm('nbrtotc ~ usec', data = train, exposure = train.duree, family = sm.families.Poisson(link=sm.families.links.log())).fit()\n",
        "freq_glm_fleetc = smf.glm('nbrtotc ~ fleetc', data = train, exposure = train.duree, family = sm.families.Poisson(link=sm.families.links.log())).fit()\n",
        "freq_glm_sportc = smf.glm('nbrtotc ~ sportc', data = train, exposure = train.duree, family = sm.families.Poisson(link=sm.families.links.log())).fit()\n",
        "freq_glm_coverp = smf.glm('nbrtotc ~ C(coverp,Treatment(reference=\"MTPL\"))', data = train, exposure = train.duree, family = sm.families.Poisson(link=sm.families.links.log())).fit()\n",
        "freq_glm_powerc = smf.glm('nbrtotc ~ C(powerc,Treatment(reference=\"<66\"))', data = train, exposure = train.duree, family = sm.families.Poisson(link=sm.families.links.log())).fit()"
      ]
    },
    {
      "cell_type": "code",
      "execution_count": null,
      "metadata": {
        "colab": {
          "base_uri": "https://localhost:8080/"
        },
        "id": "nsSTiHarR6G0",
        "outputId": "bdd78fec-2b1a-4846-afad-681c69c66e56"
      },
      "outputs": [
        {
          "output_type": "stream",
          "name": "stdout",
          "text": [
            "72136.93569151955\n",
            "\n",
            "71069.3645862244\n",
            "72075.72299658494\n",
            "72117.47475146624\n",
            "72020.2472805242\n",
            "71555.2369138079\n",
            "72136.19162125122\n",
            "72111.26008292731\n",
            "72129.35522503633\n",
            "72091.13418442827\n",
            "72128.78898135827\n",
            "\n",
            "\n",
            "102407.07565884573\n",
            "\n",
            "101367.50455355059\n",
            "102351.86296391112\n",
            "102389.61471879244\n",
            "102292.38724785042\n",
            "101831.37688113409\n",
            "102408.33158857738\n",
            "102383.40005025352\n",
            "102401.49519236253\n",
            "102365.27415175446\n",
            "102402.92894868445\n"
          ]
        }
      ],
      "source": [
        "print(freq_glm.deviance)\n",
        "print(\"\")\n",
        "print(freq_glm_AGEPH_cat.deviance)\n",
        "print(freq_glm_agecar.deviance)\n",
        "print(freq_glm_sexp.deviance)\n",
        "print(freq_glm_fuelc.deviance)\n",
        "print(freq_glm_split.deviance)\n",
        "print(freq_glm_usec.deviance)\n",
        "print(freq_glm_fleetc.deviance)\n",
        "print(freq_glm_sportc.deviance)\n",
        "print(freq_glm_coverp.deviance)\n",
        "print(freq_glm_powerc.deviance)\n",
        "print(\"\")\n",
        "print(\"\")\n",
        "print(freq_glm.aic)\n",
        "print(\"\")\n",
        "print(freq_glm_AGEPH_cat.aic)\n",
        "print(freq_glm_agecar.aic)\n",
        "print(freq_glm_sexp.aic)\n",
        "print(freq_glm_fuelc.aic)\n",
        "print(freq_glm_split.aic)\n",
        "print(freq_glm_usec.aic)\n",
        "print(freq_glm_fleetc.aic)\n",
        "print(freq_glm_sportc.aic)\n",
        "print(freq_glm_coverp.aic)\n",
        "print(freq_glm_powerc.aic)"
      ]
    },
    {
      "cell_type": "markdown",
      "metadata": {
        "id": "6DTU40PKY1V7"
      },
      "source": [
        "Looking at the metrics, we decide to keep AGEPH_cat as our first variable."
      ]
    },
    {
      "cell_type": "code",
      "execution_count": null,
      "metadata": {
        "colab": {
          "base_uri": "https://localhost:8080/"
        },
        "id": "qKpCVt3MZJIb",
        "outputId": "09c62124-0d2a-4d0d-b3a9-62d3d07549e1"
      },
      "outputs": [
        {
          "output_type": "stream",
          "name": "stdout",
          "text": [
            "                 Generalized Linear Model Regression Results                  \n",
            "==============================================================================\n",
            "Dep. Variable:                nbrtotc   No. Observations:               130925\n",
            "Model:                            GLM   Df Residuals:                   130910\n",
            "Model Family:                 Poisson   Df Model:                           14\n",
            "Link Function:                    log   Scale:                          1.0000\n",
            "Method:                          IRLS   Log-Likelihood:                -50669.\n",
            "Date:                Thu, 13 Jan 2022   Deviance:                       71069.\n",
            "Time:                        15:22:58   Pearson chi2:                 1.56e+05\n",
            "No. Iterations:                     6                                         \n",
            "Covariance Type:            nonrobust                                         \n",
            "=======================================================================================================================\n",
            "                                                          coef    std err          z      P>|z|      [0.025      0.975]\n",
            "-----------------------------------------------------------------------------------------------------------------------\n",
            "Intercept                                              -1.9558      0.023    -86.365      0.000      -2.000      -1.911\n",
            "C(AGEPH_cat, Treatment(reference=\"41-45\"))[T.17-19]     0.9116      0.197      4.617      0.000       0.525       1.299\n",
            "C(AGEPH_cat, Treatment(reference=\"41-45\"))[T.20-22]     0.6588      0.056     11.723      0.000       0.549       0.769\n",
            "C(AGEPH_cat, Treatment(reference=\"41-45\"))[T.23-25]     0.5471      0.038     14.225      0.000       0.472       0.622\n",
            "C(AGEPH_cat, Treatment(reference=\"41-45\"))[T.26-30]     0.3202      0.031     10.245      0.000       0.259       0.381\n",
            "C(AGEPH_cat, Treatment(reference=\"41-45\"))[T.31-35]     0.0941      0.032      2.945      0.003       0.031       0.157\n",
            "C(AGEPH_cat, Treatment(reference=\"41-45\"))[T.36-40]    -0.0093      0.032     -0.287      0.774      -0.073       0.054\n",
            "C(AGEPH_cat, Treatment(reference=\"41-45\"))[T.46-50]    -0.0570      0.032     -1.753      0.080      -0.121       0.007\n",
            "C(AGEPH_cat, Treatment(reference=\"41-45\"))[T.51-55]    -0.1180      0.035     -3.384      0.001      -0.186      -0.050\n",
            "C(AGEPH_cat, Treatment(reference=\"41-45\"))[T.56-60]    -0.2259      0.039     -5.856      0.000      -0.301      -0.150\n",
            "C(AGEPH_cat, Treatment(reference=\"41-45\"))[T.61-65]    -0.3436      0.041     -8.379      0.000      -0.424      -0.263\n",
            "C(AGEPH_cat, Treatment(reference=\"41-45\"))[T.66-70]    -0.3469      0.042     -8.213      0.000      -0.430      -0.264\n",
            "C(AGEPH_cat, Treatment(reference=\"41-45\"))[T.71-75]    -0.3858      0.049     -7.906      0.000      -0.482      -0.290\n",
            "C(AGEPH_cat, Treatment(reference=\"41-45\"))[T.76-80]    -0.3943      0.067     -5.870      0.000      -0.526      -0.263\n",
            "C(AGEPH_cat, Treatment(reference=\"41-45\"))[T.>80]      -0.2169      0.094     -2.315      0.021      -0.401      -0.033\n",
            "=======================================================================================================================\n"
          ]
        }
      ],
      "source": [
        "freq_glm1 = smf.glm('nbrtotc ~ C(AGEPH_cat,Treatment(reference=\"41-45\"))', data = train, exposure = train.duree, family = sm.families.Poisson(link=sm.families.links.log())).fit()\n",
        "print(freq_glm1.summary())"
      ]
    },
    {
      "cell_type": "markdown",
      "metadata": {
        "id": "L-IRvJfi4jdW"
      },
      "source": [
        "We see high p-values for the classes 36-40 & 46-50. As these classes are adjacent to the reference class, we decide to gather these classes with the reference class."
      ]
    },
    {
      "cell_type": "code",
      "execution_count": null,
      "metadata": {
        "colab": {
          "base_uri": "https://localhost:8080/"
        },
        "id": "LQBCGFzx5A6x",
        "outputId": "e0cb2ed6-c160-437b-ea8c-c2486136df35"
      },
      "outputs": [
        {
          "output_type": "stream",
          "name": "stdout",
          "text": [
            "41-45    15624\n",
            "36-40    15468\n",
            "46-50    15368\n",
            "31-35    14691\n",
            "26-30    12826\n",
            "51-55    12543\n",
            "56-60    10105\n",
            "61-65     9303\n",
            "66-70     8460\n",
            "71-75     5916\n",
            "23-25     4901\n",
            "76-80     2792\n",
            "20-22     1653\n",
            ">80       1172\n",
            "17-19      103\n",
            "Name: AGEPH_cat, dtype: int64\n",
            "\n",
            "36-45    31092\n",
            "46-50    15368\n",
            "31-35    14691\n",
            "26-30    12826\n",
            "51-55    12543\n",
            "56-60    10105\n",
            "61-65     9303\n",
            "66-70     8460\n",
            "71-75     5916\n",
            "23-25     4901\n",
            "76-80     2792\n",
            "20-22     1653\n",
            ">80       1172\n",
            "17-19      103\n",
            "Name: AGEPH_cat_2, dtype: int64\n",
            "41-45    3915\n",
            "36-40    3869\n",
            "46-50    3815\n",
            "31-35    3671\n",
            "26-30    3248\n",
            "51-55    3185\n",
            "56-60    2516\n",
            "61-65    2206\n",
            "66-70    2146\n",
            "71-75    1516\n",
            "23-25    1191\n",
            "76-80     713\n",
            "20-22     397\n",
            ">80       312\n",
            "17-19      32\n",
            "Name: AGEPH_cat, dtype: int64\n",
            "\n",
            "36-45    7784\n",
            "46-50    3815\n",
            "31-35    3671\n",
            "26-30    3248\n",
            "51-55    3185\n",
            "56-60    2516\n",
            "61-65    2206\n",
            "66-70    2146\n",
            "71-75    1516\n",
            "23-25    1191\n",
            "76-80     713\n",
            "20-22     397\n",
            ">80       312\n",
            "17-19      32\n",
            "Name: AGEPH_cat_2, dtype: int64\n",
            "41-45    19539\n",
            "36-40    19337\n",
            "46-50    19183\n",
            "31-35    18362\n",
            "26-30    16074\n",
            "51-55    15728\n",
            "56-60    12621\n",
            "61-65    11509\n",
            "66-70    10606\n",
            "71-75     7432\n",
            "23-25     6092\n",
            "76-80     3505\n",
            "20-22     2050\n",
            ">80       1484\n",
            "17-19      135\n",
            "Name: AGEPH_cat, dtype: int64\n",
            "\n",
            "36-45    38876\n",
            "46-50    19183\n",
            "31-35    18362\n",
            "26-30    16074\n",
            "51-55    15728\n",
            "56-60    12621\n",
            "61-65    11509\n",
            "66-70    10606\n",
            "71-75     7432\n",
            "23-25     6092\n",
            "76-80     3505\n",
            "20-22     2050\n",
            ">80       1484\n",
            "17-19      135\n",
            "Name: AGEPH_cat_2, dtype: int64\n"
          ]
        }
      ],
      "source": [
        "train['AGEPH_cat_2']=train['AGEPH_cat'].astype('object')\n",
        "train.loc[train['AGEPH_cat'].isin([\"36-40\",\"41-45\"]),'AGEPH_cat_2']=\"36-45\"\n",
        "train['AGEPH_cat_2']=train['AGEPH_cat_2'].astype('category')\n",
        "print(train.AGEPH_cat.value_counts())\n",
        "print(\"\")\n",
        "print(train.AGEPH_cat_2.value_counts())\n",
        "\n",
        "test['AGEPH_cat_2']=test['AGEPH_cat'].astype('object')\n",
        "test.loc[test['AGEPH_cat'].isin([\"36-40\",\"41-45\"]),'AGEPH_cat_2']=\"36-45\"\n",
        "test['AGEPH_cat_2']=test['AGEPH_cat_2'].astype('category')\n",
        "print(test.AGEPH_cat.value_counts())\n",
        "print(\"\")\n",
        "print(test.AGEPH_cat_2.value_counts())\n",
        "\n",
        "my_data['AGEPH_cat_2']=my_data['AGEPH_cat'].astype('object')\n",
        "my_data.loc[my_data['AGEPH_cat'].isin([\"36-40\",\"41-45\"]),'AGEPH_cat_2']=\"36-45\"\n",
        "my_data['AGEPH_cat_2']=my_data['AGEPH_cat_2'].astype('category')\n",
        "print(my_data.AGEPH_cat.value_counts())\n",
        "print(\"\")\n",
        "print(my_data.AGEPH_cat_2.value_counts())"
      ]
    },
    {
      "cell_type": "code",
      "execution_count": null,
      "metadata": {
        "colab": {
          "base_uri": "https://localhost:8080/"
        },
        "id": "jeo28S-q5SoS",
        "outputId": "ff604be4-5beb-46f0-c366-2015ff215418"
      },
      "outputs": [
        {
          "output_type": "stream",
          "name": "stdout",
          "text": [
            "                 Generalized Linear Model Regression Results                  \n",
            "==============================================================================\n",
            "Dep. Variable:                nbrtotc   No. Observations:               130925\n",
            "Model:                            GLM   Df Residuals:                   130911\n",
            "Model Family:                 Poisson   Df Model:                           13\n",
            "Link Function:                    log   Scale:                          1.0000\n",
            "Method:                          IRLS   Log-Likelihood:                -50669.\n",
            "Date:                Thu, 13 Jan 2022   Deviance:                       71069.\n",
            "Time:                        15:22:59   Pearson chi2:                 1.56e+05\n",
            "No. Iterations:                     6                                         \n",
            "Covariance Type:            nonrobust                                         \n",
            "=========================================================================================================================\n",
            "                                                            coef    std err          z      P>|z|      [0.025      0.975]\n",
            "-------------------------------------------------------------------------------------------------------------------------\n",
            "Intercept                                                -1.9603      0.016   -121.430      0.000      -1.992      -1.929\n",
            "C(AGEPH_cat_2, Treatment(reference=\"36-45\"))[T.17-19]     0.9161      0.197      4.656      0.000       0.530       1.302\n",
            "C(AGEPH_cat_2, Treatment(reference=\"36-45\"))[T.20-22]     0.6634      0.054     12.305      0.000       0.558       0.769\n",
            "C(AGEPH_cat_2, Treatment(reference=\"36-45\"))[T.23-25]     0.5516      0.035     15.749      0.000       0.483       0.620\n",
            "C(AGEPH_cat_2, Treatment(reference=\"36-45\"))[T.26-30]     0.3248      0.027     12.065      0.000       0.272       0.378\n",
            "C(AGEPH_cat_2, Treatment(reference=\"36-45\"))[T.31-35]     0.0987      0.028      3.558      0.000       0.044       0.153\n",
            "C(AGEPH_cat_2, Treatment(reference=\"36-45\"))[T.46-50]    -0.0524      0.028     -1.848      0.065      -0.108       0.003\n",
            "C(AGEPH_cat_2, Treatment(reference=\"36-45\"))[T.51-55]    -0.1135      0.031     -3.654      0.000      -0.174      -0.053\n",
            "C(AGEPH_cat_2, Treatment(reference=\"36-45\"))[T.56-60]    -0.2213      0.035     -6.296      0.000      -0.290      -0.152\n",
            "C(AGEPH_cat_2, Treatment(reference=\"36-45\"))[T.61-65]    -0.3390      0.038     -8.968      0.000      -0.413      -0.265\n",
            "C(AGEPH_cat_2, Treatment(reference=\"36-45\"))[T.66-70]    -0.3423      0.039     -8.747      0.000      -0.419      -0.266\n",
            "C(AGEPH_cat_2, Treatment(reference=\"36-45\"))[T.71-75]    -0.3813      0.046     -8.262      0.000      -0.472      -0.291\n",
            "C(AGEPH_cat_2, Treatment(reference=\"36-45\"))[T.76-80]    -0.3897      0.065     -5.971      0.000      -0.518      -0.262\n",
            "C(AGEPH_cat_2, Treatment(reference=\"36-45\"))[T.>80]      -0.2123      0.092     -2.300      0.021      -0.393      -0.031\n",
            "=========================================================================================================================\n"
          ]
        }
      ],
      "source": [
        "freq_glm1 = smf.glm('nbrtotc ~ C(AGEPH_cat_2,Treatment(reference=\"36-45\"))', data = train, exposure = train.duree, family = sm.families.Poisson(link=sm.families.links.log())).fit()\n",
        "print(freq_glm1.summary())"
      ]
    },
    {
      "cell_type": "code",
      "execution_count": null,
      "metadata": {
        "colab": {
          "base_uri": "https://localhost:8080/"
        },
        "id": "jCUNUeJS5jcR",
        "outputId": "02a4ed0c-6cd1-4c96-8331-3efb2023f70d"
      },
      "outputs": [
        {
          "output_type": "stream",
          "name": "stdout",
          "text": [
            "36-45    31092\n",
            "46-50    15368\n",
            "31-35    14691\n",
            "26-30    12826\n",
            "51-55    12543\n",
            "56-60    10105\n",
            "61-65     9303\n",
            "66-70     8460\n",
            "71-75     5916\n",
            "23-25     4901\n",
            "76-80     2792\n",
            "20-22     1653\n",
            ">80       1172\n",
            "17-19      103\n",
            "Name: AGEPH_cat_2, dtype: int64\n",
            "\n",
            "36-50    46460\n",
            "31-35    14691\n",
            "26-30    12826\n",
            "51-55    12543\n",
            "56-60    10105\n",
            "61-65     9303\n",
            "66-70     8460\n",
            "71-75     5916\n",
            "23-25     4901\n",
            "76-80     2792\n",
            "20-22     1653\n",
            ">80       1172\n",
            "17-19      103\n",
            "Name: AGEPH_cat_3, dtype: int64\n",
            "36-45    7784\n",
            "46-50    3815\n",
            "31-35    3671\n",
            "26-30    3248\n",
            "51-55    3185\n",
            "56-60    2516\n",
            "61-65    2206\n",
            "66-70    2146\n",
            "71-75    1516\n",
            "23-25    1191\n",
            "76-80     713\n",
            "20-22     397\n",
            ">80       312\n",
            "17-19      32\n",
            "Name: AGEPH_cat_2, dtype: int64\n",
            "\n",
            "36-50    11599\n",
            "31-35     3671\n",
            "26-30     3248\n",
            "51-55     3185\n",
            "56-60     2516\n",
            "61-65     2206\n",
            "66-70     2146\n",
            "71-75     1516\n",
            "23-25     1191\n",
            "76-80      713\n",
            "20-22      397\n",
            ">80        312\n",
            "17-19       32\n",
            "Name: AGEPH_cat_3, dtype: int64\n",
            "36-45    38876\n",
            "46-50    19183\n",
            "31-35    18362\n",
            "26-30    16074\n",
            "51-55    15728\n",
            "56-60    12621\n",
            "61-65    11509\n",
            "66-70    10606\n",
            "71-75     7432\n",
            "23-25     6092\n",
            "76-80     3505\n",
            "20-22     2050\n",
            ">80       1484\n",
            "17-19      135\n",
            "Name: AGEPH_cat_2, dtype: int64\n",
            "\n",
            "36-50    58059\n",
            "31-35    18362\n",
            "26-30    16074\n",
            "51-55    15728\n",
            "56-60    12621\n",
            "61-65    11509\n",
            "66-70    10606\n",
            "71-75     7432\n",
            "23-25     6092\n",
            "76-80     3505\n",
            "20-22     2050\n",
            ">80       1484\n",
            "17-19      135\n",
            "Name: AGEPH_cat_3, dtype: int64\n"
          ]
        }
      ],
      "source": [
        "train['AGEPH_cat_3']=train['AGEPH_cat_2'].astype('object')\n",
        "train.loc[train['AGEPH_cat_2'].isin([\"36-45\",\"46-50\"]),'AGEPH_cat_3']=\"36-50\"\n",
        "train['AGEPH_cat_3']=train['AGEPH_cat_3'].astype('category')\n",
        "print(train.AGEPH_cat_2.value_counts())\n",
        "print(\"\")\n",
        "print(train.AGEPH_cat_3.value_counts())\n",
        "\n",
        "test['AGEPH_cat_3']=test['AGEPH_cat_2'].astype('object')\n",
        "test.loc[test['AGEPH_cat_2'].isin([\"36-45\",\"46-50\"]),'AGEPH_cat_3']=\"36-50\"\n",
        "test['AGEPH_cat_3']=test['AGEPH_cat_3'].astype('category')\n",
        "print(test.AGEPH_cat_2.value_counts())\n",
        "print(\"\")\n",
        "print(test.AGEPH_cat_3.value_counts())\n",
        "\n",
        "my_data['AGEPH_cat_3']=my_data['AGEPH_cat_2'].astype('object')\n",
        "my_data.loc[my_data['AGEPH_cat_2'].isin([\"36-45\",\"46-50\"]),'AGEPH_cat_3']=\"36-50\"\n",
        "my_data['AGEPH_cat_3']=my_data['AGEPH_cat_3'].astype('category')\n",
        "print(my_data.AGEPH_cat_2.value_counts())\n",
        "print(\"\")\n",
        "print(my_data.AGEPH_cat_3.value_counts())"
      ]
    },
    {
      "cell_type": "code",
      "execution_count": null,
      "metadata": {
        "colab": {
          "base_uri": "https://localhost:8080/"
        },
        "id": "tRcgJS6K57sg",
        "outputId": "4e8a74ad-d3d9-4d45-e0f8-778549657aa3"
      },
      "outputs": [
        {
          "output_type": "stream",
          "name": "stdout",
          "text": [
            "                 Generalized Linear Model Regression Results                  \n",
            "==============================================================================\n",
            "Dep. Variable:                nbrtotc   No. Observations:               130925\n",
            "Model:                            GLM   Df Residuals:                   130912\n",
            "Model Family:                 Poisson   Df Model:                           12\n",
            "Link Function:                    log   Scale:                          1.0000\n",
            "Method:                          IRLS   Log-Likelihood:                -50671.\n",
            "Date:                Thu, 13 Jan 2022   Deviance:                       71073.\n",
            "Time:                        15:23:00   Pearson chi2:                 1.56e+05\n",
            "No. Iterations:                     6                                         \n",
            "Covariance Type:            nonrobust                                         \n",
            "=========================================================================================================================\n",
            "                                                            coef    std err          z      P>|z|      [0.025      0.975]\n",
            "-------------------------------------------------------------------------------------------------------------------------\n",
            "Intercept                                                -1.9776      0.013   -149.019      0.000      -2.004      -1.952\n",
            "C(AGEPH_cat_3, Treatment(reference=\"36-50\"))[T.17-19]     0.9334      0.197      4.749      0.000       0.548       1.319\n",
            "C(AGEPH_cat_3, Treatment(reference=\"36-50\"))[T.20-22]     0.6807      0.053     12.814      0.000       0.577       0.785\n",
            "C(AGEPH_cat_3, Treatment(reference=\"36-50\"))[T.23-25]     0.5689      0.034     16.833      0.000       0.503       0.635\n",
            "C(AGEPH_cat_3, Treatment(reference=\"36-50\"))[T.26-30]     0.3421      0.025     13.520      0.000       0.292       0.392\n",
            "C(AGEPH_cat_3, Treatment(reference=\"36-50\"))[T.31-35]     0.1160      0.026      4.432      0.000       0.065       0.167\n",
            "C(AGEPH_cat_3, Treatment(reference=\"36-50\"))[T.51-55]    -0.0962      0.030     -3.242      0.001      -0.154      -0.038\n",
            "C(AGEPH_cat_3, Treatment(reference=\"36-50\"))[T.56-60]    -0.2040      0.034     -6.013      0.000      -0.270      -0.138\n",
            "C(AGEPH_cat_3, Treatment(reference=\"36-50\"))[T.61-65]    -0.3217      0.037     -8.774      0.000      -0.394      -0.250\n",
            "C(AGEPH_cat_3, Treatment(reference=\"36-50\"))[T.66-70]    -0.3250      0.038     -8.545      0.000      -0.400      -0.250\n",
            "C(AGEPH_cat_3, Treatment(reference=\"36-50\"))[T.71-75]    -0.3640      0.045     -8.048      0.000      -0.453      -0.275\n",
            "C(AGEPH_cat_3, Treatment(reference=\"36-50\"))[T.76-80]    -0.3725      0.065     -5.763      0.000      -0.499      -0.246\n",
            "C(AGEPH_cat_3, Treatment(reference=\"36-50\"))[T.>80]      -0.1950      0.092     -2.123      0.034      -0.375      -0.015\n",
            "=========================================================================================================================\n"
          ]
        }
      ],
      "source": [
        "freq_glm1 = smf.glm('nbrtotc ~ C(AGEPH_cat_3,Treatment(reference=\"36-50\"))', data = train, exposure = train.duree, family = sm.families.Poisson(link=sm.families.links.log())).fit()\n",
        "print(freq_glm1.summary())"
      ]
    },
    {
      "cell_type": "markdown",
      "metadata": {
        "id": "hUmRMKUCeDQF"
      },
      "source": [
        "Can we gather other adjacent categories for AGEPH_cat?"
      ]
    },
    {
      "cell_type": "code",
      "execution_count": null,
      "metadata": {
        "id": "O96-liGPeirE"
      },
      "outputs": [],
      "source": [
        "def Wald_hypothesis(model,variable):\n",
        "\n",
        "    params=pd.DataFrame(model.params)\n",
        "    params_var=params.loc[np.array([s for s in params.index if variable in s])]\n",
        "    cov=model.cov_params()\n",
        "    cov_var=cov.loc[np.array([s for s in cov.index if variable in s]),np.array([s for s in cov.columns if variable in s])]\n",
        "     \n",
        "    wald_matrix = np.array([[0.000 for j in range(len(params_var))] for i in range(len(params_var))])\n",
        "\n",
        "    for i in range(len(params_var)):\n",
        "        for j in range(len(params_var)):\n",
        "            wald_matrix[i,j]=(params_var.iloc[i]-params_var.iloc[j])**2/(cov_var.iloc[i,i] - 2*cov_var.iloc[i,j] + cov_var.iloc[j,j])\n",
        "\n",
        "    return(wald_matrix.round(3))\n"
      ]
    },
    {
      "cell_type": "code",
      "execution_count": null,
      "metadata": {
        "colab": {
          "base_uri": "https://localhost:8080/"
        },
        "id": "qtdQn3RLew-3",
        "outputId": "b224e534-1f3e-4c39-fb45-ea308da2aff7"
      },
      "outputs": [
        {
          "output_type": "execute_result",
          "data": {
            "text/html": [
              "\n",
              "  <div id=\"df-252d1129-2552-48d0-a585-6e3acacb6874\">\n",
              "    <div class=\"colab-df-container\">\n",
              "      <div>\n",
              "<style scoped>\n",
              "    .dataframe tbody tr th:only-of-type {\n",
              "        vertical-align: middle;\n",
              "    }\n",
              "\n",
              "    .dataframe tbody tr th {\n",
              "        vertical-align: top;\n",
              "    }\n",
              "\n",
              "    .dataframe thead th {\n",
              "        text-align: right;\n",
              "    }\n",
              "</style>\n",
              "<table border=\"1\" class=\"dataframe\">\n",
              "  <thead>\n",
              "    <tr style=\"text-align: right;\">\n",
              "      <th></th>\n",
              "      <th>17-19</th>\n",
              "      <th>20-22</th>\n",
              "      <th>23-25</th>\n",
              "      <th>26-30</th>\n",
              "      <th>31-35</th>\n",
              "      <th>51-55</th>\n",
              "      <th>56-60</th>\n",
              "      <th>61-65</th>\n",
              "      <th>66-70</th>\n",
              "      <th>71-75</th>\n",
              "      <th>76-80</th>\n",
              "      <th>&gt;80</th>\n",
              "    </tr>\n",
              "    <tr>\n",
              "      <th>AGEPH_cat_3</th>\n",
              "      <th></th>\n",
              "      <th></th>\n",
              "      <th></th>\n",
              "      <th></th>\n",
              "      <th></th>\n",
              "      <th></th>\n",
              "      <th></th>\n",
              "      <th></th>\n",
              "      <th></th>\n",
              "      <th></th>\n",
              "      <th></th>\n",
              "      <th></th>\n",
              "    </tr>\n",
              "  </thead>\n",
              "  <tbody>\n",
              "    <tr>\n",
              "      <th>17-19</th>\n",
              "      <td>NaN</td>\n",
              "      <td>1.554</td>\n",
              "      <td>3.370</td>\n",
              "      <td>8.984</td>\n",
              "      <td>17.149</td>\n",
              "      <td>27.067</td>\n",
              "      <td>32.806</td>\n",
              "      <td>39.753</td>\n",
              "      <td>39.859</td>\n",
              "      <td>41.738</td>\n",
              "      <td>40.162</td>\n",
              "      <td>27.254</td>\n",
              "    </tr>\n",
              "    <tr>\n",
              "      <th>20-22</th>\n",
              "      <td>1.554</td>\n",
              "      <td>NaN</td>\n",
              "      <td>3.456</td>\n",
              "      <td>36.866</td>\n",
              "      <td>101.108</td>\n",
              "      <td>180.177</td>\n",
              "      <td>216.180</td>\n",
              "      <td>263.450</td>\n",
              "      <td>258.251</td>\n",
              "      <td>241.719</td>\n",
              "      <td>166.884</td>\n",
              "      <td>70.289</td>\n",
              "    </tr>\n",
              "    <tr>\n",
              "      <th>23-25</th>\n",
              "      <td>3.370</td>\n",
              "      <td>3.456</td>\n",
              "      <td>NaN</td>\n",
              "      <td>35.981</td>\n",
              "      <td>139.147</td>\n",
              "      <td>264.895</td>\n",
              "      <td>307.809</td>\n",
              "      <td>371.637</td>\n",
              "      <td>357.251</td>\n",
              "      <td>306.958</td>\n",
              "      <td>178.445</td>\n",
              "      <td>63.230</td>\n",
              "    </tr>\n",
              "    <tr>\n",
              "      <th>26-30</th>\n",
              "      <td>8.984</td>\n",
              "      <td>36.866</td>\n",
              "      <td>35.981</td>\n",
              "      <td>NaN</td>\n",
              "      <td>52.581</td>\n",
              "      <td>164.467</td>\n",
              "      <td>207.268</td>\n",
              "      <td>269.936</td>\n",
              "      <td>256.528</td>\n",
              "      <td>213.668</td>\n",
              "      <td>114.369</td>\n",
              "      <td>33.052</td>\n",
              "    </tr>\n",
              "    <tr>\n",
              "      <th>31-35</th>\n",
              "      <td>17.149</td>\n",
              "      <td>101.108</td>\n",
              "      <td>139.147</td>\n",
              "      <td>52.581</td>\n",
              "      <td>NaN</td>\n",
              "      <td>37.123</td>\n",
              "      <td>69.026</td>\n",
              "      <td>114.246</td>\n",
              "      <td>109.298</td>\n",
              "      <td>96.884</td>\n",
              "      <td>52.910</td>\n",
              "      <td>11.025</td>\n",
              "    </tr>\n",
              "    <tr>\n",
              "      <th>51-55</th>\n",
              "      <td>27.067</td>\n",
              "      <td>180.177</td>\n",
              "      <td>264.895</td>\n",
              "      <td>164.467</td>\n",
              "      <td>37.123</td>\n",
              "      <td>NaN</td>\n",
              "      <td>6.927</td>\n",
              "      <td>27.173</td>\n",
              "      <td>26.522</td>\n",
              "      <td>27.878</td>\n",
              "      <td>16.228</td>\n",
              "      <td>1.090</td>\n",
              "    </tr>\n",
              "    <tr>\n",
              "      <th>56-60</th>\n",
              "      <td>32.806</td>\n",
              "      <td>216.180</td>\n",
              "      <td>307.809</td>\n",
              "      <td>207.268</td>\n",
              "      <td>69.026</td>\n",
              "      <td>6.927</td>\n",
              "      <td>NaN</td>\n",
              "      <td>6.466</td>\n",
              "      <td>6.522</td>\n",
              "      <td>9.001</td>\n",
              "      <td>5.704</td>\n",
              "      <td>0.009</td>\n",
              "    </tr>\n",
              "    <tr>\n",
              "      <th>61-65</th>\n",
              "      <td>39.753</td>\n",
              "      <td>263.450</td>\n",
              "      <td>371.637</td>\n",
              "      <td>269.936</td>\n",
              "      <td>114.246</td>\n",
              "      <td>27.173</td>\n",
              "      <td>6.466</td>\n",
              "      <td>NaN</td>\n",
              "      <td>0.004</td>\n",
              "      <td>0.589</td>\n",
              "      <td>0.498</td>\n",
              "      <td>1.701</td>\n",
              "    </tr>\n",
              "    <tr>\n",
              "      <th>66-70</th>\n",
              "      <td>39.859</td>\n",
              "      <td>258.251</td>\n",
              "      <td>357.251</td>\n",
              "      <td>256.528</td>\n",
              "      <td>109.298</td>\n",
              "      <td>26.522</td>\n",
              "      <td>6.522</td>\n",
              "      <td>0.004</td>\n",
              "      <td>NaN</td>\n",
              "      <td>0.484</td>\n",
              "      <td>0.427</td>\n",
              "      <td>1.771</td>\n",
              "    </tr>\n",
              "    <tr>\n",
              "      <th>71-75</th>\n",
              "      <td>41.738</td>\n",
              "      <td>241.719</td>\n",
              "      <td>306.958</td>\n",
              "      <td>213.668</td>\n",
              "      <td>96.884</td>\n",
              "      <td>27.878</td>\n",
              "      <td>9.001</td>\n",
              "      <td>0.589</td>\n",
              "      <td>0.484</td>\n",
              "      <td>NaN</td>\n",
              "      <td>0.012</td>\n",
              "      <td>2.817</td>\n",
              "    </tr>\n",
              "    <tr>\n",
              "      <th>76-80</th>\n",
              "      <td>40.162</td>\n",
              "      <td>166.884</td>\n",
              "      <td>178.445</td>\n",
              "      <td>114.369</td>\n",
              "      <td>52.910</td>\n",
              "      <td>16.228</td>\n",
              "      <td>5.704</td>\n",
              "      <td>0.498</td>\n",
              "      <td>0.427</td>\n",
              "      <td>0.012</td>\n",
              "      <td>NaN</td>\n",
              "      <td>2.566</td>\n",
              "    </tr>\n",
              "    <tr>\n",
              "      <th>&gt;80</th>\n",
              "      <td>27.254</td>\n",
              "      <td>70.289</td>\n",
              "      <td>63.230</td>\n",
              "      <td>33.052</td>\n",
              "      <td>11.025</td>\n",
              "      <td>1.090</td>\n",
              "      <td>0.009</td>\n",
              "      <td>1.701</td>\n",
              "      <td>1.771</td>\n",
              "      <td>2.817</td>\n",
              "      <td>2.566</td>\n",
              "      <td>NaN</td>\n",
              "    </tr>\n",
              "  </tbody>\n",
              "</table>\n",
              "</div>\n",
              "      <button class=\"colab-df-convert\" onclick=\"convertToInteractive('df-252d1129-2552-48d0-a585-6e3acacb6874')\"\n",
              "              title=\"Convert this dataframe to an interactive table.\"\n",
              "              style=\"display:none;\">\n",
              "        \n",
              "  <svg xmlns=\"http://www.w3.org/2000/svg\" height=\"24px\"viewBox=\"0 0 24 24\"\n",
              "       width=\"24px\">\n",
              "    <path d=\"M0 0h24v24H0V0z\" fill=\"none\"/>\n",
              "    <path d=\"M18.56 5.44l.94 2.06.94-2.06 2.06-.94-2.06-.94-.94-2.06-.94 2.06-2.06.94zm-11 1L8.5 8.5l.94-2.06 2.06-.94-2.06-.94L8.5 2.5l-.94 2.06-2.06.94zm10 10l.94 2.06.94-2.06 2.06-.94-2.06-.94-.94-2.06-.94 2.06-2.06.94z\"/><path d=\"M17.41 7.96l-1.37-1.37c-.4-.4-.92-.59-1.43-.59-.52 0-1.04.2-1.43.59L10.3 9.45l-7.72 7.72c-.78.78-.78 2.05 0 2.83L4 21.41c.39.39.9.59 1.41.59.51 0 1.02-.2 1.41-.59l7.78-7.78 2.81-2.81c.8-.78.8-2.07 0-2.86zM5.41 20L4 18.59l7.72-7.72 1.47 1.35L5.41 20z\"/>\n",
              "  </svg>\n",
              "      </button>\n",
              "      \n",
              "  <style>\n",
              "    .colab-df-container {\n",
              "      display:flex;\n",
              "      flex-wrap:wrap;\n",
              "      gap: 12px;\n",
              "    }\n",
              "\n",
              "    .colab-df-convert {\n",
              "      background-color: #E8F0FE;\n",
              "      border: none;\n",
              "      border-radius: 50%;\n",
              "      cursor: pointer;\n",
              "      display: none;\n",
              "      fill: #1967D2;\n",
              "      height: 32px;\n",
              "      padding: 0 0 0 0;\n",
              "      width: 32px;\n",
              "    }\n",
              "\n",
              "    .colab-df-convert:hover {\n",
              "      background-color: #E2EBFA;\n",
              "      box-shadow: 0px 1px 2px rgba(60, 64, 67, 0.3), 0px 1px 3px 1px rgba(60, 64, 67, 0.15);\n",
              "      fill: #174EA6;\n",
              "    }\n",
              "\n",
              "    [theme=dark] .colab-df-convert {\n",
              "      background-color: #3B4455;\n",
              "      fill: #D2E3FC;\n",
              "    }\n",
              "\n",
              "    [theme=dark] .colab-df-convert:hover {\n",
              "      background-color: #434B5C;\n",
              "      box-shadow: 0px 1px 3px 1px rgba(0, 0, 0, 0.15);\n",
              "      filter: drop-shadow(0px 1px 2px rgba(0, 0, 0, 0.3));\n",
              "      fill: #FFFFFF;\n",
              "    }\n",
              "  </style>\n",
              "\n",
              "      <script>\n",
              "        const buttonEl =\n",
              "          document.querySelector('#df-252d1129-2552-48d0-a585-6e3acacb6874 button.colab-df-convert');\n",
              "        buttonEl.style.display =\n",
              "          google.colab.kernel.accessAllowed ? 'block' : 'none';\n",
              "\n",
              "        async function convertToInteractive(key) {\n",
              "          const element = document.querySelector('#df-252d1129-2552-48d0-a585-6e3acacb6874');\n",
              "          const dataTable =\n",
              "            await google.colab.kernel.invokeFunction('convertToInteractive',\n",
              "                                                     [key], {});\n",
              "          if (!dataTable) return;\n",
              "\n",
              "          const docLinkHtml = 'Like what you see? Visit the ' +\n",
              "            '<a target=\"_blank\" href=https://colab.research.google.com/notebooks/data_table.ipynb>data table notebook</a>'\n",
              "            + ' to learn more about interactive tables.';\n",
              "          element.innerHTML = '';\n",
              "          dataTable['output_type'] = 'display_data';\n",
              "          await google.colab.output.renderOutput(dataTable, element);\n",
              "          const docLink = document.createElement('div');\n",
              "          docLink.innerHTML = docLinkHtml;\n",
              "          element.appendChild(docLink);\n",
              "        }\n",
              "      </script>\n",
              "    </div>\n",
              "  </div>\n",
              "  "
            ],
            "text/plain": [
              "              17-19    20-22    23-25  ...    71-75    76-80     >80\n",
              "AGEPH_cat_3                            ...                          \n",
              "17-19           NaN    1.554    3.370  ...   41.738   40.162  27.254\n",
              "20-22         1.554      NaN    3.456  ...  241.719  166.884  70.289\n",
              "23-25         3.370    3.456      NaN  ...  306.958  178.445  63.230\n",
              "26-30         8.984   36.866   35.981  ...  213.668  114.369  33.052\n",
              "31-35        17.149  101.108  139.147  ...   96.884   52.910  11.025\n",
              "51-55        27.067  180.177  264.895  ...   27.878   16.228   1.090\n",
              "56-60        32.806  216.180  307.809  ...    9.001    5.704   0.009\n",
              "61-65        39.753  263.450  371.637  ...    0.589    0.498   1.701\n",
              "66-70        39.859  258.251  357.251  ...    0.484    0.427   1.771\n",
              "71-75        41.738  241.719  306.958  ...      NaN    0.012   2.817\n",
              "76-80        40.162  166.884  178.445  ...    0.012      NaN   2.566\n",
              ">80          27.254   70.289   63.230  ...    2.817    2.566     NaN\n",
              "\n",
              "[12 rows x 12 columns]"
            ]
          },
          "metadata": {},
          "execution_count": 49
        }
      ],
      "source": [
        "wald_table=Wald_hypothesis(freq_glm1,'AGEPH_cat_3')\n",
        "wald_table=pd.DataFrame(wald_table, \n",
        "             columns=['17-19',\n",
        "                      '20-22', \n",
        "                      '23-25', \n",
        "                      '26-30',\n",
        "                      '31-35', \n",
        "                      '51-55',\n",
        "                      '56-60',\n",
        "                      '61-65',\n",
        "                      '66-70',\n",
        "                      '71-75',\n",
        "                      '76-80',\n",
        "                      '>80'])\n",
        "wald_table['AGEPH_cat_3']=['17-19',\n",
        "                      '20-22', \n",
        "                      '23-25', \n",
        "                      '26-30',\n",
        "                      '31-35', \n",
        "                      '51-55',\n",
        "                      '56-60',\n",
        "                      '61-65',\n",
        "                      '66-70',\n",
        "                      '71-75',\n",
        "                      '76-80',\n",
        "                      '>80']\n",
        "wald_table.set_index('AGEPH_cat_3')"
      ]
    },
    {
      "cell_type": "markdown",
      "metadata": {
        "id": "iYRs0L0hWGfL"
      },
      "source": [
        "We check for values below 3.841 (the 95% quantile value). The smallest value is 0.004 for the classes 61-65 & 66-70."
      ]
    },
    {
      "cell_type": "code",
      "execution_count": null,
      "metadata": {
        "colab": {
          "base_uri": "https://localhost:8080/"
        },
        "id": "218NiRGktOGh",
        "outputId": "b332b95d-3858-4d09-842a-8232f8828056"
      },
      "outputs": [
        {
          "output_type": "stream",
          "name": "stdout",
          "text": [
            "36-50    46460\n",
            "31-35    14691\n",
            "26-30    12826\n",
            "51-55    12543\n",
            "56-60    10105\n",
            "61-65     9303\n",
            "66-70     8460\n",
            "71-75     5916\n",
            "23-25     4901\n",
            "76-80     2792\n",
            "20-22     1653\n",
            ">80       1172\n",
            "17-19      103\n",
            "Name: AGEPH_cat_3, dtype: int64\n",
            "\n",
            "36-50    46460\n",
            "61-70    17763\n",
            "31-35    14691\n",
            "26-30    12826\n",
            "51-55    12543\n",
            "56-60    10105\n",
            "71-75     5916\n",
            "23-25     4901\n",
            "76-80     2792\n",
            "20-22     1653\n",
            ">80       1172\n",
            "17-19      103\n",
            "Name: AGEPH_cat_4, dtype: int64\n",
            "36-50    11599\n",
            "31-35     3671\n",
            "26-30     3248\n",
            "51-55     3185\n",
            "56-60     2516\n",
            "61-65     2206\n",
            "66-70     2146\n",
            "71-75     1516\n",
            "23-25     1191\n",
            "76-80      713\n",
            "20-22      397\n",
            ">80        312\n",
            "17-19       32\n",
            "Name: AGEPH_cat_3, dtype: int64\n",
            "\n",
            "36-50    11599\n",
            "61-70     4352\n",
            "31-35     3671\n",
            "26-30     3248\n",
            "51-55     3185\n",
            "56-60     2516\n",
            "71-75     1516\n",
            "23-25     1191\n",
            "76-80      713\n",
            "20-22      397\n",
            ">80        312\n",
            "17-19       32\n",
            "Name: AGEPH_cat_4, dtype: int64\n",
            "36-50    58059\n",
            "31-35    18362\n",
            "26-30    16074\n",
            "51-55    15728\n",
            "56-60    12621\n",
            "61-65    11509\n",
            "66-70    10606\n",
            "71-75     7432\n",
            "23-25     6092\n",
            "76-80     3505\n",
            "20-22     2050\n",
            ">80       1484\n",
            "17-19      135\n",
            "Name: AGEPH_cat_3, dtype: int64\n",
            "\n",
            "36-50    58059\n",
            "61-70    22115\n",
            "31-35    18362\n",
            "26-30    16074\n",
            "51-55    15728\n",
            "56-60    12621\n",
            "71-75     7432\n",
            "23-25     6092\n",
            "76-80     3505\n",
            "20-22     2050\n",
            ">80       1484\n",
            "17-19      135\n",
            "Name: AGEPH_cat_4, dtype: int64\n"
          ]
        }
      ],
      "source": [
        "train['AGEPH_cat_4']=train['AGEPH_cat_3'].astype('object')\n",
        "train.loc[train['AGEPH_cat_3'].isin([\"61-65\",\"66-70\"]),'AGEPH_cat_4']=\"61-70\"\n",
        "train['AGEPH_cat_4']=train['AGEPH_cat_4'].astype('category')\n",
        "print(train.AGEPH_cat_3.value_counts())\n",
        "print(\"\")\n",
        "print(train.AGEPH_cat_4.value_counts())\n",
        "\n",
        "test['AGEPH_cat_4']=test['AGEPH_cat_3'].astype('object')\n",
        "test.loc[test['AGEPH_cat_3'].isin([\"61-65\",\"66-70\"]),'AGEPH_cat_4']=\"61-70\"\n",
        "test['AGEPH_cat_4']=test['AGEPH_cat_4'].astype('category')\n",
        "print(test.AGEPH_cat_3.value_counts())\n",
        "print(\"\")\n",
        "print(test.AGEPH_cat_4.value_counts())\n",
        "\n",
        "my_data['AGEPH_cat_4']=my_data['AGEPH_cat_3'].astype('object')\n",
        "my_data.loc[my_data['AGEPH_cat_3'].isin([\"61-65\",\"66-70\"]),'AGEPH_cat_4']=\"61-70\"\n",
        "my_data['AGEPH_cat_4']=my_data['AGEPH_cat_4'].astype('category')\n",
        "print(my_data.AGEPH_cat_3.value_counts())\n",
        "print(\"\")\n",
        "print(my_data.AGEPH_cat_4.value_counts())"
      ]
    },
    {
      "cell_type": "code",
      "execution_count": null,
      "metadata": {
        "colab": {
          "base_uri": "https://localhost:8080/"
        },
        "id": "nD_2W0yDtfbn",
        "outputId": "e160803e-6fe7-4ecd-ef4a-ed8f63e6b008"
      },
      "outputs": [
        {
          "output_type": "stream",
          "name": "stdout",
          "text": [
            "                 Generalized Linear Model Regression Results                  \n",
            "==============================================================================\n",
            "Dep. Variable:                nbrtotc   No. Observations:               130925\n",
            "Model:                            GLM   Df Residuals:                   130913\n",
            "Model Family:                 Poisson   Df Model:                           11\n",
            "Link Function:                    log   Scale:                          1.0000\n",
            "Method:                          IRLS   Log-Likelihood:                -50671.\n",
            "Date:                Thu, 13 Jan 2022   Deviance:                       71073.\n",
            "Time:                        15:23:02   Pearson chi2:                 1.56e+05\n",
            "No. Iterations:                     6                                         \n",
            "Covariance Type:            nonrobust                                         \n",
            "=========================================================================================================================\n",
            "                                                            coef    std err          z      P>|z|      [0.025      0.975]\n",
            "-------------------------------------------------------------------------------------------------------------------------\n",
            "Intercept                                                -1.9776      0.013   -149.019      0.000      -2.004      -1.952\n",
            "C(AGEPH_cat_4, Treatment(reference=\"36-50\"))[T.17-19]     0.9334      0.197      4.749      0.000       0.548       1.319\n",
            "C(AGEPH_cat_4, Treatment(reference=\"36-50\"))[T.20-22]     0.6807      0.053     12.814      0.000       0.577       0.785\n",
            "C(AGEPH_cat_4, Treatment(reference=\"36-50\"))[T.23-25]     0.5689      0.034     16.833      0.000       0.503       0.635\n",
            "C(AGEPH_cat_4, Treatment(reference=\"36-50\"))[T.26-30]     0.3421      0.025     13.520      0.000       0.292       0.392\n",
            "C(AGEPH_cat_4, Treatment(reference=\"36-50\"))[T.31-35]     0.1160      0.026      4.432      0.000       0.065       0.167\n",
            "C(AGEPH_cat_4, Treatment(reference=\"36-50\"))[T.51-55]    -0.0962      0.030     -3.242      0.001      -0.154      -0.038\n",
            "C(AGEPH_cat_4, Treatment(reference=\"36-50\"))[T.56-60]    -0.2040      0.034     -6.013      0.000      -0.270      -0.138\n",
            "C(AGEPH_cat_4, Treatment(reference=\"36-50\"))[T.61-70]    -0.3233      0.028    -11.540      0.000      -0.378      -0.268\n",
            "C(AGEPH_cat_4, Treatment(reference=\"36-50\"))[T.71-75]    -0.3640      0.045     -8.048      0.000      -0.453      -0.275\n",
            "C(AGEPH_cat_4, Treatment(reference=\"36-50\"))[T.76-80]    -0.3725      0.065     -5.763      0.000      -0.499      -0.246\n",
            "C(AGEPH_cat_4, Treatment(reference=\"36-50\"))[T.>80]      -0.1950      0.092     -2.123      0.034      -0.375      -0.015\n",
            "=========================================================================================================================\n"
          ]
        }
      ],
      "source": [
        "freq_glm1 = smf.glm('nbrtotc ~ C(AGEPH_cat_4,Treatment(reference=\"36-50\"))', data = train, exposure = train.duree, family = sm.families.Poisson(link=sm.families.links.log())).fit()\n",
        "print(freq_glm1.summary())"
      ]
    },
    {
      "cell_type": "code",
      "execution_count": null,
      "metadata": {
        "colab": {
          "base_uri": "https://localhost:8080/"
        },
        "id": "s_O7d9E_tlSP",
        "outputId": "69fe513e-f878-4699-a1a4-32efc5dd17dc"
      },
      "outputs": [
        {
          "output_type": "execute_result",
          "data": {
            "text/html": [
              "\n",
              "  <div id=\"df-ae3d4ef3-6d16-4c41-b4d8-9a70fbfe8520\">\n",
              "    <div class=\"colab-df-container\">\n",
              "      <div>\n",
              "<style scoped>\n",
              "    .dataframe tbody tr th:only-of-type {\n",
              "        vertical-align: middle;\n",
              "    }\n",
              "\n",
              "    .dataframe tbody tr th {\n",
              "        vertical-align: top;\n",
              "    }\n",
              "\n",
              "    .dataframe thead th {\n",
              "        text-align: right;\n",
              "    }\n",
              "</style>\n",
              "<table border=\"1\" class=\"dataframe\">\n",
              "  <thead>\n",
              "    <tr style=\"text-align: right;\">\n",
              "      <th></th>\n",
              "      <th>17-19</th>\n",
              "      <th>20-22</th>\n",
              "      <th>23-25</th>\n",
              "      <th>26-30</th>\n",
              "      <th>31-35</th>\n",
              "      <th>51-55</th>\n",
              "      <th>56-60</th>\n",
              "      <th>61-70</th>\n",
              "      <th>71-75</th>\n",
              "      <th>76-80</th>\n",
              "      <th>&gt;80</th>\n",
              "    </tr>\n",
              "    <tr>\n",
              "      <th>AGEPH_cat_4</th>\n",
              "      <th></th>\n",
              "      <th></th>\n",
              "      <th></th>\n",
              "      <th></th>\n",
              "      <th></th>\n",
              "      <th></th>\n",
              "      <th></th>\n",
              "      <th></th>\n",
              "      <th></th>\n",
              "      <th></th>\n",
              "      <th></th>\n",
              "    </tr>\n",
              "  </thead>\n",
              "  <tbody>\n",
              "    <tr>\n",
              "      <th>17-19</th>\n",
              "      <td>NaN</td>\n",
              "      <td>1.554</td>\n",
              "      <td>3.370</td>\n",
              "      <td>8.984</td>\n",
              "      <td>17.149</td>\n",
              "      <td>27.067</td>\n",
              "      <td>32.806</td>\n",
              "      <td>40.424</td>\n",
              "      <td>41.738</td>\n",
              "      <td>40.162</td>\n",
              "      <td>27.254</td>\n",
              "    </tr>\n",
              "    <tr>\n",
              "      <th>20-22</th>\n",
              "      <td>1.554</td>\n",
              "      <td>NaN</td>\n",
              "      <td>3.456</td>\n",
              "      <td>36.866</td>\n",
              "      <td>101.108</td>\n",
              "      <td>180.177</td>\n",
              "      <td>216.180</td>\n",
              "      <td>309.727</td>\n",
              "      <td>241.719</td>\n",
              "      <td>166.884</td>\n",
              "      <td>70.289</td>\n",
              "    </tr>\n",
              "    <tr>\n",
              "      <th>23-25</th>\n",
              "      <td>3.370</td>\n",
              "      <td>3.456</td>\n",
              "      <td>NaN</td>\n",
              "      <td>35.981</td>\n",
              "      <td>139.147</td>\n",
              "      <td>264.895</td>\n",
              "      <td>307.809</td>\n",
              "      <td>505.480</td>\n",
              "      <td>306.958</td>\n",
              "      <td>178.445</td>\n",
              "      <td>63.230</td>\n",
              "    </tr>\n",
              "    <tr>\n",
              "      <th>26-30</th>\n",
              "      <td>8.984</td>\n",
              "      <td>36.866</td>\n",
              "      <td>35.981</td>\n",
              "      <td>NaN</td>\n",
              "      <td>52.581</td>\n",
              "      <td>164.467</td>\n",
              "      <td>207.268</td>\n",
              "      <td>412.712</td>\n",
              "      <td>213.668</td>\n",
              "      <td>114.369</td>\n",
              "      <td>33.052</td>\n",
              "    </tr>\n",
              "    <tr>\n",
              "      <th>31-35</th>\n",
              "      <td>17.149</td>\n",
              "      <td>101.108</td>\n",
              "      <td>139.147</td>\n",
              "      <td>52.581</td>\n",
              "      <td>NaN</td>\n",
              "      <td>37.123</td>\n",
              "      <td>69.026</td>\n",
              "      <td>172.720</td>\n",
              "      <td>96.884</td>\n",
              "      <td>52.910</td>\n",
              "      <td>11.025</td>\n",
              "    </tr>\n",
              "    <tr>\n",
              "      <th>51-55</th>\n",
              "      <td>27.067</td>\n",
              "      <td>180.177</td>\n",
              "      <td>264.895</td>\n",
              "      <td>164.467</td>\n",
              "      <td>37.123</td>\n",
              "      <td>NaN</td>\n",
              "      <td>6.927</td>\n",
              "      <td>39.305</td>\n",
              "      <td>27.878</td>\n",
              "      <td>16.228</td>\n",
              "      <td>1.090</td>\n",
              "    </tr>\n",
              "    <tr>\n",
              "      <th>56-60</th>\n",
              "      <td>32.806</td>\n",
              "      <td>216.180</td>\n",
              "      <td>307.809</td>\n",
              "      <td>207.268</td>\n",
              "      <td>69.026</td>\n",
              "      <td>6.927</td>\n",
              "      <td>NaN</td>\n",
              "      <td>8.988</td>\n",
              "      <td>9.001</td>\n",
              "      <td>5.704</td>\n",
              "      <td>0.009</td>\n",
              "    </tr>\n",
              "    <tr>\n",
              "      <th>61-70</th>\n",
              "      <td>40.424</td>\n",
              "      <td>309.727</td>\n",
              "      <td>505.480</td>\n",
              "      <td>412.712</td>\n",
              "      <td>172.720</td>\n",
              "      <td>39.305</td>\n",
              "      <td>8.988</td>\n",
              "      <td>NaN</td>\n",
              "      <td>0.669</td>\n",
              "      <td>0.524</td>\n",
              "      <td>1.854</td>\n",
              "    </tr>\n",
              "    <tr>\n",
              "      <th>71-75</th>\n",
              "      <td>41.738</td>\n",
              "      <td>241.719</td>\n",
              "      <td>306.958</td>\n",
              "      <td>213.668</td>\n",
              "      <td>96.884</td>\n",
              "      <td>27.878</td>\n",
              "      <td>9.001</td>\n",
              "      <td>0.669</td>\n",
              "      <td>NaN</td>\n",
              "      <td>0.012</td>\n",
              "      <td>2.817</td>\n",
              "    </tr>\n",
              "    <tr>\n",
              "      <th>76-80</th>\n",
              "      <td>40.162</td>\n",
              "      <td>166.884</td>\n",
              "      <td>178.445</td>\n",
              "      <td>114.369</td>\n",
              "      <td>52.910</td>\n",
              "      <td>16.228</td>\n",
              "      <td>5.704</td>\n",
              "      <td>0.524</td>\n",
              "      <td>0.012</td>\n",
              "      <td>NaN</td>\n",
              "      <td>2.566</td>\n",
              "    </tr>\n",
              "    <tr>\n",
              "      <th>&gt;80</th>\n",
              "      <td>27.254</td>\n",
              "      <td>70.289</td>\n",
              "      <td>63.230</td>\n",
              "      <td>33.052</td>\n",
              "      <td>11.025</td>\n",
              "      <td>1.090</td>\n",
              "      <td>0.009</td>\n",
              "      <td>1.854</td>\n",
              "      <td>2.817</td>\n",
              "      <td>2.566</td>\n",
              "      <td>NaN</td>\n",
              "    </tr>\n",
              "  </tbody>\n",
              "</table>\n",
              "</div>\n",
              "      <button class=\"colab-df-convert\" onclick=\"convertToInteractive('df-ae3d4ef3-6d16-4c41-b4d8-9a70fbfe8520')\"\n",
              "              title=\"Convert this dataframe to an interactive table.\"\n",
              "              style=\"display:none;\">\n",
              "        \n",
              "  <svg xmlns=\"http://www.w3.org/2000/svg\" height=\"24px\"viewBox=\"0 0 24 24\"\n",
              "       width=\"24px\">\n",
              "    <path d=\"M0 0h24v24H0V0z\" fill=\"none\"/>\n",
              "    <path d=\"M18.56 5.44l.94 2.06.94-2.06 2.06-.94-2.06-.94-.94-2.06-.94 2.06-2.06.94zm-11 1L8.5 8.5l.94-2.06 2.06-.94-2.06-.94L8.5 2.5l-.94 2.06-2.06.94zm10 10l.94 2.06.94-2.06 2.06-.94-2.06-.94-.94-2.06-.94 2.06-2.06.94z\"/><path d=\"M17.41 7.96l-1.37-1.37c-.4-.4-.92-.59-1.43-.59-.52 0-1.04.2-1.43.59L10.3 9.45l-7.72 7.72c-.78.78-.78 2.05 0 2.83L4 21.41c.39.39.9.59 1.41.59.51 0 1.02-.2 1.41-.59l7.78-7.78 2.81-2.81c.8-.78.8-2.07 0-2.86zM5.41 20L4 18.59l7.72-7.72 1.47 1.35L5.41 20z\"/>\n",
              "  </svg>\n",
              "      </button>\n",
              "      \n",
              "  <style>\n",
              "    .colab-df-container {\n",
              "      display:flex;\n",
              "      flex-wrap:wrap;\n",
              "      gap: 12px;\n",
              "    }\n",
              "\n",
              "    .colab-df-convert {\n",
              "      background-color: #E8F0FE;\n",
              "      border: none;\n",
              "      border-radius: 50%;\n",
              "      cursor: pointer;\n",
              "      display: none;\n",
              "      fill: #1967D2;\n",
              "      height: 32px;\n",
              "      padding: 0 0 0 0;\n",
              "      width: 32px;\n",
              "    }\n",
              "\n",
              "    .colab-df-convert:hover {\n",
              "      background-color: #E2EBFA;\n",
              "      box-shadow: 0px 1px 2px rgba(60, 64, 67, 0.3), 0px 1px 3px 1px rgba(60, 64, 67, 0.15);\n",
              "      fill: #174EA6;\n",
              "    }\n",
              "\n",
              "    [theme=dark] .colab-df-convert {\n",
              "      background-color: #3B4455;\n",
              "      fill: #D2E3FC;\n",
              "    }\n",
              "\n",
              "    [theme=dark] .colab-df-convert:hover {\n",
              "      background-color: #434B5C;\n",
              "      box-shadow: 0px 1px 3px 1px rgba(0, 0, 0, 0.15);\n",
              "      filter: drop-shadow(0px 1px 2px rgba(0, 0, 0, 0.3));\n",
              "      fill: #FFFFFF;\n",
              "    }\n",
              "  </style>\n",
              "\n",
              "      <script>\n",
              "        const buttonEl =\n",
              "          document.querySelector('#df-ae3d4ef3-6d16-4c41-b4d8-9a70fbfe8520 button.colab-df-convert');\n",
              "        buttonEl.style.display =\n",
              "          google.colab.kernel.accessAllowed ? 'block' : 'none';\n",
              "\n",
              "        async function convertToInteractive(key) {\n",
              "          const element = document.querySelector('#df-ae3d4ef3-6d16-4c41-b4d8-9a70fbfe8520');\n",
              "          const dataTable =\n",
              "            await google.colab.kernel.invokeFunction('convertToInteractive',\n",
              "                                                     [key], {});\n",
              "          if (!dataTable) return;\n",
              "\n",
              "          const docLinkHtml = 'Like what you see? Visit the ' +\n",
              "            '<a target=\"_blank\" href=https://colab.research.google.com/notebooks/data_table.ipynb>data table notebook</a>'\n",
              "            + ' to learn more about interactive tables.';\n",
              "          element.innerHTML = '';\n",
              "          dataTable['output_type'] = 'display_data';\n",
              "          await google.colab.output.renderOutput(dataTable, element);\n",
              "          const docLink = document.createElement('div');\n",
              "          docLink.innerHTML = docLinkHtml;\n",
              "          element.appendChild(docLink);\n",
              "        }\n",
              "      </script>\n",
              "    </div>\n",
              "  </div>\n",
              "  "
            ],
            "text/plain": [
              "              17-19    20-22    23-25  ...    71-75    76-80     >80\n",
              "AGEPH_cat_4                            ...                          \n",
              "17-19           NaN    1.554    3.370  ...   41.738   40.162  27.254\n",
              "20-22         1.554      NaN    3.456  ...  241.719  166.884  70.289\n",
              "23-25         3.370    3.456      NaN  ...  306.958  178.445  63.230\n",
              "26-30         8.984   36.866   35.981  ...  213.668  114.369  33.052\n",
              "31-35        17.149  101.108  139.147  ...   96.884   52.910  11.025\n",
              "51-55        27.067  180.177  264.895  ...   27.878   16.228   1.090\n",
              "56-60        32.806  216.180  307.809  ...    9.001    5.704   0.009\n",
              "61-70        40.424  309.727  505.480  ...    0.669    0.524   1.854\n",
              "71-75        41.738  241.719  306.958  ...      NaN    0.012   2.817\n",
              "76-80        40.162  166.884  178.445  ...    0.012      NaN   2.566\n",
              ">80          27.254   70.289   63.230  ...    2.817    2.566     NaN\n",
              "\n",
              "[11 rows x 11 columns]"
            ]
          },
          "metadata": {},
          "execution_count": 52
        }
      ],
      "source": [
        "wald_table=Wald_hypothesis(freq_glm1,'AGEPH_cat_4')\n",
        "wald_table=pd.DataFrame(wald_table, \n",
        "             columns=['17-19',\n",
        "                      '20-22', \n",
        "                      '23-25', \n",
        "                      '26-30',\n",
        "                      '31-35', \n",
        "                      '51-55',\n",
        "                      '56-60',\n",
        "                      '61-70',\n",
        "                      '71-75',\n",
        "                      '76-80',\n",
        "                      '>80'])\n",
        "wald_table['AGEPH_cat_4']=['17-19',\n",
        "                      '20-22', \n",
        "                      '23-25', \n",
        "                      '26-30',\n",
        "                      '31-35', \n",
        "                      '51-55',\n",
        "                      '56-60',\n",
        "                      '61-70',\n",
        "                      '71-75',\n",
        "                      '76-80',\n",
        "                      '>80']\n",
        "wald_table.set_index('AGEPH_cat_4')"
      ]
    },
    {
      "cell_type": "markdown",
      "metadata": {
        "id": "mCea1qfAyhaf"
      },
      "source": [
        "The smallest value is 0.012 for the classes 71-75 & 76-80."
      ]
    },
    {
      "cell_type": "code",
      "execution_count": null,
      "metadata": {
        "colab": {
          "base_uri": "https://localhost:8080/"
        },
        "id": "YPDyC4wBy1ZM",
        "outputId": "8654a1c1-4083-42a2-923e-c1c417705a60"
      },
      "outputs": [
        {
          "output_type": "stream",
          "name": "stdout",
          "text": [
            "36-50    46460\n",
            "61-70    17763\n",
            "31-35    14691\n",
            "26-30    12826\n",
            "51-55    12543\n",
            "56-60    10105\n",
            "71-75     5916\n",
            "23-25     4901\n",
            "76-80     2792\n",
            "20-22     1653\n",
            ">80       1172\n",
            "17-19      103\n",
            "Name: AGEPH_cat_4, dtype: int64\n",
            "\n",
            "36-50    46460\n",
            "61-70    17763\n",
            "31-35    14691\n",
            "26-30    12826\n",
            "51-55    12543\n",
            "56-60    10105\n",
            "71-80     8708\n",
            "23-25     4901\n",
            "20-22     1653\n",
            ">80       1172\n",
            "17-19      103\n",
            "Name: AGEPH_cat_5, dtype: int64\n",
            "36-50    11599\n",
            "61-70     4352\n",
            "31-35     3671\n",
            "26-30     3248\n",
            "51-55     3185\n",
            "56-60     2516\n",
            "71-75     1516\n",
            "23-25     1191\n",
            "76-80      713\n",
            "20-22      397\n",
            ">80        312\n",
            "17-19       32\n",
            "Name: AGEPH_cat_4, dtype: int64\n",
            "\n",
            "36-50    11599\n",
            "61-70     4352\n",
            "31-35     3671\n",
            "26-30     3248\n",
            "51-55     3185\n",
            "56-60     2516\n",
            "71-80     2229\n",
            "23-25     1191\n",
            "20-22      397\n",
            ">80        312\n",
            "17-19       32\n",
            "Name: AGEPH_cat_5, dtype: int64\n",
            "36-50    58059\n",
            "61-70    22115\n",
            "31-35    18362\n",
            "26-30    16074\n",
            "51-55    15728\n",
            "56-60    12621\n",
            "71-75     7432\n",
            "23-25     6092\n",
            "76-80     3505\n",
            "20-22     2050\n",
            ">80       1484\n",
            "17-19      135\n",
            "Name: AGEPH_cat_4, dtype: int64\n",
            "\n",
            "36-50    58059\n",
            "61-70    22115\n",
            "31-35    18362\n",
            "26-30    16074\n",
            "51-55    15728\n",
            "56-60    12621\n",
            "71-80    10937\n",
            "23-25     6092\n",
            "20-22     2050\n",
            ">80       1484\n",
            "17-19      135\n",
            "Name: AGEPH_cat_5, dtype: int64\n"
          ]
        }
      ],
      "source": [
        "train['AGEPH_cat_5']=train['AGEPH_cat_4'].astype('object')\n",
        "train.loc[train['AGEPH_cat_4'].isin([\"71-75\",\"76-80\"]),'AGEPH_cat_5']=\"71-80\"\n",
        "train['AGEPH_cat_5']=train['AGEPH_cat_5'].astype('category')\n",
        "print(train.AGEPH_cat_4.value_counts())\n",
        "print(\"\")\n",
        "print(train.AGEPH_cat_5.value_counts())\n",
        "\n",
        "test['AGEPH_cat_5']=test['AGEPH_cat_4'].astype('object')\n",
        "test.loc[test['AGEPH_cat_4'].isin([\"71-75\",\"76-80\"]),'AGEPH_cat_5']=\"71-80\"\n",
        "test['AGEPH_cat_5']=test['AGEPH_cat_5'].astype('category')\n",
        "print(test.AGEPH_cat_4.value_counts())\n",
        "print(\"\")\n",
        "print(test.AGEPH_cat_5.value_counts())\n",
        "\n",
        "my_data['AGEPH_cat_5']=my_data['AGEPH_cat_4'].astype('object')\n",
        "my_data.loc[my_data['AGEPH_cat_4'].isin([\"71-75\",\"76-80\"]),'AGEPH_cat_5']=\"71-80\"\n",
        "my_data['AGEPH_cat_5']=my_data['AGEPH_cat_5'].astype('category')\n",
        "print(my_data.AGEPH_cat_4.value_counts())\n",
        "print(\"\")\n",
        "print(my_data.AGEPH_cat_5.value_counts())"
      ]
    },
    {
      "cell_type": "code",
      "execution_count": null,
      "metadata": {
        "colab": {
          "base_uri": "https://localhost:8080/"
        },
        "id": "aBpvhtE2zc1j",
        "outputId": "dad77449-2aab-4e2d-bfe3-16d0d2553f36"
      },
      "outputs": [
        {
          "output_type": "stream",
          "name": "stdout",
          "text": [
            "                 Generalized Linear Model Regression Results                  \n",
            "==============================================================================\n",
            "Dep. Variable:                nbrtotc   No. Observations:               130925\n",
            "Model:                            GLM   Df Residuals:                   130914\n",
            "Model Family:                 Poisson   Df Model:                           10\n",
            "Link Function:                    log   Scale:                          1.0000\n",
            "Method:                          IRLS   Log-Likelihood:                -50671.\n",
            "Date:                Thu, 13 Jan 2022   Deviance:                       71073.\n",
            "Time:                        15:23:03   Pearson chi2:                 1.56e+05\n",
            "No. Iterations:                     6                                         \n",
            "Covariance Type:            nonrobust                                         \n",
            "=========================================================================================================================\n",
            "                                                            coef    std err          z      P>|z|      [0.025      0.975]\n",
            "-------------------------------------------------------------------------------------------------------------------------\n",
            "Intercept                                                -1.9776      0.013   -149.019      0.000      -2.004      -1.952\n",
            "C(AGEPH_cat_5, Treatment(reference=\"36-50\"))[T.17-19]     0.9334      0.197      4.749      0.000       0.548       1.319\n",
            "C(AGEPH_cat_5, Treatment(reference=\"36-50\"))[T.20-22]     0.6807      0.053     12.814      0.000       0.577       0.785\n",
            "C(AGEPH_cat_5, Treatment(reference=\"36-50\"))[T.23-25]     0.5689      0.034     16.833      0.000       0.503       0.635\n",
            "C(AGEPH_cat_5, Treatment(reference=\"36-50\"))[T.26-30]     0.3421      0.025     13.520      0.000       0.292       0.392\n",
            "C(AGEPH_cat_5, Treatment(reference=\"36-50\"))[T.31-35]     0.1160      0.026      4.432      0.000       0.065       0.167\n",
            "C(AGEPH_cat_5, Treatment(reference=\"36-50\"))[T.51-55]    -0.0962      0.030     -3.242      0.001      -0.154      -0.038\n",
            "C(AGEPH_cat_5, Treatment(reference=\"36-50\"))[T.56-60]    -0.2040      0.034     -6.013      0.000      -0.270      -0.138\n",
            "C(AGEPH_cat_5, Treatment(reference=\"36-50\"))[T.61-70]    -0.3233      0.028    -11.540      0.000      -0.378      -0.268\n",
            "C(AGEPH_cat_5, Treatment(reference=\"36-50\"))[T.71-80]    -0.3667      0.038     -9.630      0.000      -0.441      -0.292\n",
            "C(AGEPH_cat_5, Treatment(reference=\"36-50\"))[T.>80]      -0.1950      0.092     -2.123      0.034      -0.375      -0.015\n",
            "=========================================================================================================================\n"
          ]
        }
      ],
      "source": [
        "freq_glm1 = smf.glm('nbrtotc ~ C(AGEPH_cat_5,Treatment(reference=\"36-50\"))', data = train, exposure = train.duree, family = sm.families.Poisson(link=sm.families.links.log())).fit()\n",
        "print(freq_glm1.summary())"
      ]
    },
    {
      "cell_type": "code",
      "execution_count": null,
      "metadata": {
        "colab": {
          "base_uri": "https://localhost:8080/"
        },
        "id": "gBnvvf5Azq-E",
        "outputId": "77ad64d6-7932-48d4-9327-00826e919673"
      },
      "outputs": [
        {
          "output_type": "execute_result",
          "data": {
            "text/html": [
              "\n",
              "  <div id=\"df-3c9309db-c3eb-4288-81f9-bfcc65e5f54a\">\n",
              "    <div class=\"colab-df-container\">\n",
              "      <div>\n",
              "<style scoped>\n",
              "    .dataframe tbody tr th:only-of-type {\n",
              "        vertical-align: middle;\n",
              "    }\n",
              "\n",
              "    .dataframe tbody tr th {\n",
              "        vertical-align: top;\n",
              "    }\n",
              "\n",
              "    .dataframe thead th {\n",
              "        text-align: right;\n",
              "    }\n",
              "</style>\n",
              "<table border=\"1\" class=\"dataframe\">\n",
              "  <thead>\n",
              "    <tr style=\"text-align: right;\">\n",
              "      <th></th>\n",
              "      <th>17-19</th>\n",
              "      <th>20-22</th>\n",
              "      <th>23-25</th>\n",
              "      <th>26-30</th>\n",
              "      <th>31-35</th>\n",
              "      <th>51-55</th>\n",
              "      <th>56-60</th>\n",
              "      <th>61-70</th>\n",
              "      <th>71-80</th>\n",
              "      <th>&gt;80</th>\n",
              "    </tr>\n",
              "    <tr>\n",
              "      <th>AGEPH_cat_5</th>\n",
              "      <th></th>\n",
              "      <th></th>\n",
              "      <th></th>\n",
              "      <th></th>\n",
              "      <th></th>\n",
              "      <th></th>\n",
              "      <th></th>\n",
              "      <th></th>\n",
              "      <th></th>\n",
              "      <th></th>\n",
              "    </tr>\n",
              "  </thead>\n",
              "  <tbody>\n",
              "    <tr>\n",
              "      <th>17-19</th>\n",
              "      <td>NaN</td>\n",
              "      <td>1.554</td>\n",
              "      <td>3.370</td>\n",
              "      <td>8.984</td>\n",
              "      <td>17.149</td>\n",
              "      <td>27.067</td>\n",
              "      <td>32.806</td>\n",
              "      <td>40.424</td>\n",
              "      <td>42.540</td>\n",
              "      <td>27.254</td>\n",
              "    </tr>\n",
              "    <tr>\n",
              "      <th>20-22</th>\n",
              "      <td>1.554</td>\n",
              "      <td>NaN</td>\n",
              "      <td>3.456</td>\n",
              "      <td>36.866</td>\n",
              "      <td>101.108</td>\n",
              "      <td>180.177</td>\n",
              "      <td>216.180</td>\n",
              "      <td>309.727</td>\n",
              "      <td>279.874</td>\n",
              "      <td>70.289</td>\n",
              "    </tr>\n",
              "    <tr>\n",
              "      <th>23-25</th>\n",
              "      <td>3.370</td>\n",
              "      <td>3.456</td>\n",
              "      <td>NaN</td>\n",
              "      <td>35.981</td>\n",
              "      <td>139.147</td>\n",
              "      <td>264.895</td>\n",
              "      <td>307.809</td>\n",
              "      <td>505.480</td>\n",
              "      <td>390.783</td>\n",
              "      <td>63.230</td>\n",
              "    </tr>\n",
              "    <tr>\n",
              "      <th>26-30</th>\n",
              "      <td>8.984</td>\n",
              "      <td>36.866</td>\n",
              "      <td>35.981</td>\n",
              "      <td>NaN</td>\n",
              "      <td>52.581</td>\n",
              "      <td>164.467</td>\n",
              "      <td>207.268</td>\n",
              "      <td>412.712</td>\n",
              "      <td>289.054</td>\n",
              "      <td>33.052</td>\n",
              "    </tr>\n",
              "    <tr>\n",
              "      <th>31-35</th>\n",
              "      <td>17.149</td>\n",
              "      <td>101.108</td>\n",
              "      <td>139.147</td>\n",
              "      <td>52.581</td>\n",
              "      <td>NaN</td>\n",
              "      <td>37.123</td>\n",
              "      <td>69.026</td>\n",
              "      <td>172.720</td>\n",
              "      <td>130.703</td>\n",
              "      <td>11.025</td>\n",
              "    </tr>\n",
              "    <tr>\n",
              "      <th>51-55</th>\n",
              "      <td>27.067</td>\n",
              "      <td>180.177</td>\n",
              "      <td>264.895</td>\n",
              "      <td>164.467</td>\n",
              "      <td>37.123</td>\n",
              "      <td>NaN</td>\n",
              "      <td>6.927</td>\n",
              "      <td>39.305</td>\n",
              "      <td>37.005</td>\n",
              "      <td>1.090</td>\n",
              "    </tr>\n",
              "    <tr>\n",
              "      <th>56-60</th>\n",
              "      <td>32.806</td>\n",
              "      <td>216.180</td>\n",
              "      <td>307.809</td>\n",
              "      <td>207.268</td>\n",
              "      <td>69.026</td>\n",
              "      <td>6.927</td>\n",
              "      <td>NaN</td>\n",
              "      <td>8.988</td>\n",
              "      <td>11.772</td>\n",
              "      <td>0.009</td>\n",
              "    </tr>\n",
              "    <tr>\n",
              "      <th>61-70</th>\n",
              "      <td>40.424</td>\n",
              "      <td>309.727</td>\n",
              "      <td>505.480</td>\n",
              "      <td>412.712</td>\n",
              "      <td>172.720</td>\n",
              "      <td>39.305</td>\n",
              "      <td>8.988</td>\n",
              "      <td>NaN</td>\n",
              "      <td>1.001</td>\n",
              "      <td>1.854</td>\n",
              "    </tr>\n",
              "    <tr>\n",
              "      <th>71-80</th>\n",
              "      <td>42.540</td>\n",
              "      <td>279.874</td>\n",
              "      <td>390.783</td>\n",
              "      <td>289.054</td>\n",
              "      <td>130.703</td>\n",
              "      <td>37.005</td>\n",
              "      <td>11.772</td>\n",
              "      <td>1.001</td>\n",
              "      <td>NaN</td>\n",
              "      <td>3.089</td>\n",
              "    </tr>\n",
              "    <tr>\n",
              "      <th>&gt;80</th>\n",
              "      <td>27.254</td>\n",
              "      <td>70.289</td>\n",
              "      <td>63.230</td>\n",
              "      <td>33.052</td>\n",
              "      <td>11.025</td>\n",
              "      <td>1.090</td>\n",
              "      <td>0.009</td>\n",
              "      <td>1.854</td>\n",
              "      <td>3.089</td>\n",
              "      <td>NaN</td>\n",
              "    </tr>\n",
              "  </tbody>\n",
              "</table>\n",
              "</div>\n",
              "      <button class=\"colab-df-convert\" onclick=\"convertToInteractive('df-3c9309db-c3eb-4288-81f9-bfcc65e5f54a')\"\n",
              "              title=\"Convert this dataframe to an interactive table.\"\n",
              "              style=\"display:none;\">\n",
              "        \n",
              "  <svg xmlns=\"http://www.w3.org/2000/svg\" height=\"24px\"viewBox=\"0 0 24 24\"\n",
              "       width=\"24px\">\n",
              "    <path d=\"M0 0h24v24H0V0z\" fill=\"none\"/>\n",
              "    <path d=\"M18.56 5.44l.94 2.06.94-2.06 2.06-.94-2.06-.94-.94-2.06-.94 2.06-2.06.94zm-11 1L8.5 8.5l.94-2.06 2.06-.94-2.06-.94L8.5 2.5l-.94 2.06-2.06.94zm10 10l.94 2.06.94-2.06 2.06-.94-2.06-.94-.94-2.06-.94 2.06-2.06.94z\"/><path d=\"M17.41 7.96l-1.37-1.37c-.4-.4-.92-.59-1.43-.59-.52 0-1.04.2-1.43.59L10.3 9.45l-7.72 7.72c-.78.78-.78 2.05 0 2.83L4 21.41c.39.39.9.59 1.41.59.51 0 1.02-.2 1.41-.59l7.78-7.78 2.81-2.81c.8-.78.8-2.07 0-2.86zM5.41 20L4 18.59l7.72-7.72 1.47 1.35L5.41 20z\"/>\n",
              "  </svg>\n",
              "      </button>\n",
              "      \n",
              "  <style>\n",
              "    .colab-df-container {\n",
              "      display:flex;\n",
              "      flex-wrap:wrap;\n",
              "      gap: 12px;\n",
              "    }\n",
              "\n",
              "    .colab-df-convert {\n",
              "      background-color: #E8F0FE;\n",
              "      border: none;\n",
              "      border-radius: 50%;\n",
              "      cursor: pointer;\n",
              "      display: none;\n",
              "      fill: #1967D2;\n",
              "      height: 32px;\n",
              "      padding: 0 0 0 0;\n",
              "      width: 32px;\n",
              "    }\n",
              "\n",
              "    .colab-df-convert:hover {\n",
              "      background-color: #E2EBFA;\n",
              "      box-shadow: 0px 1px 2px rgba(60, 64, 67, 0.3), 0px 1px 3px 1px rgba(60, 64, 67, 0.15);\n",
              "      fill: #174EA6;\n",
              "    }\n",
              "\n",
              "    [theme=dark] .colab-df-convert {\n",
              "      background-color: #3B4455;\n",
              "      fill: #D2E3FC;\n",
              "    }\n",
              "\n",
              "    [theme=dark] .colab-df-convert:hover {\n",
              "      background-color: #434B5C;\n",
              "      box-shadow: 0px 1px 3px 1px rgba(0, 0, 0, 0.15);\n",
              "      filter: drop-shadow(0px 1px 2px rgba(0, 0, 0, 0.3));\n",
              "      fill: #FFFFFF;\n",
              "    }\n",
              "  </style>\n",
              "\n",
              "      <script>\n",
              "        const buttonEl =\n",
              "          document.querySelector('#df-3c9309db-c3eb-4288-81f9-bfcc65e5f54a button.colab-df-convert');\n",
              "        buttonEl.style.display =\n",
              "          google.colab.kernel.accessAllowed ? 'block' : 'none';\n",
              "\n",
              "        async function convertToInteractive(key) {\n",
              "          const element = document.querySelector('#df-3c9309db-c3eb-4288-81f9-bfcc65e5f54a');\n",
              "          const dataTable =\n",
              "            await google.colab.kernel.invokeFunction('convertToInteractive',\n",
              "                                                     [key], {});\n",
              "          if (!dataTable) return;\n",
              "\n",
              "          const docLinkHtml = 'Like what you see? Visit the ' +\n",
              "            '<a target=\"_blank\" href=https://colab.research.google.com/notebooks/data_table.ipynb>data table notebook</a>'\n",
              "            + ' to learn more about interactive tables.';\n",
              "          element.innerHTML = '';\n",
              "          dataTable['output_type'] = 'display_data';\n",
              "          await google.colab.output.renderOutput(dataTable, element);\n",
              "          const docLink = document.createElement('div');\n",
              "          docLink.innerHTML = docLinkHtml;\n",
              "          element.appendChild(docLink);\n",
              "        }\n",
              "      </script>\n",
              "    </div>\n",
              "  </div>\n",
              "  "
            ],
            "text/plain": [
              "              17-19    20-22    23-25  ...    61-70    71-80     >80\n",
              "AGEPH_cat_5                            ...                          \n",
              "17-19           NaN    1.554    3.370  ...   40.424   42.540  27.254\n",
              "20-22         1.554      NaN    3.456  ...  309.727  279.874  70.289\n",
              "23-25         3.370    3.456      NaN  ...  505.480  390.783  63.230\n",
              "26-30         8.984   36.866   35.981  ...  412.712  289.054  33.052\n",
              "31-35        17.149  101.108  139.147  ...  172.720  130.703  11.025\n",
              "51-55        27.067  180.177  264.895  ...   39.305   37.005   1.090\n",
              "56-60        32.806  216.180  307.809  ...    8.988   11.772   0.009\n",
              "61-70        40.424  309.727  505.480  ...      NaN    1.001   1.854\n",
              "71-80        42.540  279.874  390.783  ...    1.001      NaN   3.089\n",
              ">80          27.254   70.289   63.230  ...    1.854    3.089     NaN\n",
              "\n",
              "[10 rows x 10 columns]"
            ]
          },
          "metadata": {},
          "execution_count": 55
        }
      ],
      "source": [
        "wald_table=Wald_hypothesis(freq_glm1,'AGEPH_cat_5')\n",
        "wald_table=pd.DataFrame(wald_table, \n",
        "             columns=['17-19',\n",
        "                      '20-22', \n",
        "                      '23-25', \n",
        "                      '26-30',\n",
        "                      '31-35', \n",
        "                      '51-55',\n",
        "                      '56-60',\n",
        "                      '61-70',\n",
        "                      '71-80',\n",
        "                      '>80'])\n",
        "wald_table['AGEPH_cat_5']=['17-19',\n",
        "                      '20-22', \n",
        "                      '23-25', \n",
        "                      '26-30',\n",
        "                      '31-35', \n",
        "                      '51-55',\n",
        "                      '56-60',\n",
        "                      '61-70',\n",
        "                      '71-80',\n",
        "                      '>80']\n",
        "wald_table.set_index('AGEPH_cat_5')"
      ]
    },
    {
      "cell_type": "markdown",
      "metadata": {
        "id": "o3pyTvI70OZf"
      },
      "source": [
        "The smallest value is 1.001 for the classes 61-70 & 71-80. "
      ]
    },
    {
      "cell_type": "code",
      "execution_count": null,
      "metadata": {
        "colab": {
          "base_uri": "https://localhost:8080/"
        },
        "id": "ryD7ADja8v2g",
        "outputId": "8b198db5-c963-4fda-91b0-6d9898a5c533"
      },
      "outputs": [
        {
          "output_type": "stream",
          "name": "stdout",
          "text": [
            "36-50    46460\n",
            "61-70    17763\n",
            "31-35    14691\n",
            "26-30    12826\n",
            "51-55    12543\n",
            "56-60    10105\n",
            "71-80     8708\n",
            "23-25     4901\n",
            "20-22     1653\n",
            ">80       1172\n",
            "17-19      103\n",
            "Name: AGEPH_cat_5, dtype: int64\n",
            "\n",
            "36-50    46460\n",
            "61-80    26471\n",
            "31-35    14691\n",
            "26-30    12826\n",
            "51-55    12543\n",
            "56-60    10105\n",
            "23-25     4901\n",
            "20-22     1653\n",
            ">80       1172\n",
            "17-19      103\n",
            "Name: AGEPH_cat_6, dtype: int64\n",
            "36-50    11599\n",
            "61-70     4352\n",
            "31-35     3671\n",
            "26-30     3248\n",
            "51-55     3185\n",
            "56-60     2516\n",
            "71-80     2229\n",
            "23-25     1191\n",
            "20-22      397\n",
            ">80        312\n",
            "17-19       32\n",
            "Name: AGEPH_cat_5, dtype: int64\n",
            "\n",
            "36-50    11599\n",
            "61-80     6581\n",
            "31-35     3671\n",
            "26-30     3248\n",
            "51-55     3185\n",
            "56-60     2516\n",
            "23-25     1191\n",
            "20-22      397\n",
            ">80        312\n",
            "17-19       32\n",
            "Name: AGEPH_cat_6, dtype: int64\n",
            "36-50    58059\n",
            "61-70    22115\n",
            "31-35    18362\n",
            "26-30    16074\n",
            "51-55    15728\n",
            "56-60    12621\n",
            "71-80    10937\n",
            "23-25     6092\n",
            "20-22     2050\n",
            ">80       1484\n",
            "17-19      135\n",
            "Name: AGEPH_cat_5, dtype: int64\n",
            "\n",
            "36-50    58059\n",
            "61-80    33052\n",
            "31-35    18362\n",
            "26-30    16074\n",
            "51-55    15728\n",
            "56-60    12621\n",
            "23-25     6092\n",
            "20-22     2050\n",
            ">80       1484\n",
            "17-19      135\n",
            "Name: AGEPH_cat_6, dtype: int64\n"
          ]
        }
      ],
      "source": [
        "train['AGEPH_cat_6']=train['AGEPH_cat_5'].astype('object')\n",
        "train.loc[train['AGEPH_cat_5'].isin([\"61-70\",\"71-80\"]),'AGEPH_cat_6']=\"61-80\"\n",
        "train['AGEPH_cat_6']=train['AGEPH_cat_6'].astype('category')\n",
        "print(train.AGEPH_cat_5.value_counts())\n",
        "print(\"\")\n",
        "print(train.AGEPH_cat_6.value_counts())\n",
        "\n",
        "test['AGEPH_cat_6']=test['AGEPH_cat_5'].astype('object')\n",
        "test.loc[test['AGEPH_cat_5'].isin([\"61-70\",\"71-80\"]),'AGEPH_cat_6']=\"61-80\"\n",
        "test['AGEPH_cat_6']=test['AGEPH_cat_6'].astype('category')\n",
        "print(test.AGEPH_cat_5.value_counts())\n",
        "print(\"\")\n",
        "print(test.AGEPH_cat_6.value_counts())\n",
        "\n",
        "my_data['AGEPH_cat_6']=my_data['AGEPH_cat_5'].astype('object')\n",
        "my_data.loc[my_data['AGEPH_cat_5'].isin([\"61-70\",\"71-80\"]),'AGEPH_cat_6']=\"61-80\"\n",
        "my_data['AGEPH_cat_6']=my_data['AGEPH_cat_6'].astype('category')\n",
        "print(my_data.AGEPH_cat_5.value_counts())\n",
        "print(\"\")\n",
        "print(my_data.AGEPH_cat_6.value_counts())"
      ]
    },
    {
      "cell_type": "code",
      "execution_count": null,
      "metadata": {
        "colab": {
          "base_uri": "https://localhost:8080/"
        },
        "id": "AlmOkt968kgj",
        "outputId": "72f4663d-6d3c-4117-fb33-651be23fe970"
      },
      "outputs": [
        {
          "output_type": "stream",
          "name": "stdout",
          "text": [
            "                 Generalized Linear Model Regression Results                  \n",
            "==============================================================================\n",
            "Dep. Variable:                nbrtotc   No. Observations:               130925\n",
            "Model:                            GLM   Df Residuals:                   130915\n",
            "Model Family:                 Poisson   Df Model:                            9\n",
            "Link Function:                    log   Scale:                          1.0000\n",
            "Method:                          IRLS   Log-Likelihood:                -50671.\n",
            "Date:                Thu, 13 Jan 2022   Deviance:                       71074.\n",
            "Time:                        15:23:04   Pearson chi2:                 1.56e+05\n",
            "No. Iterations:                     6                                         \n",
            "Covariance Type:            nonrobust                                         \n",
            "=========================================================================================================================\n",
            "                                                            coef    std err          z      P>|z|      [0.025      0.975]\n",
            "-------------------------------------------------------------------------------------------------------------------------\n",
            "Intercept                                                -1.9776      0.013   -149.019      0.000      -2.004      -1.952\n",
            "C(AGEPH_cat_6, Treatment(reference=\"36-50\"))[T.17-19]     0.9334      0.197      4.749      0.000       0.548       1.319\n",
            "C(AGEPH_cat_6, Treatment(reference=\"36-50\"))[T.20-22]     0.6807      0.053     12.814      0.000       0.577       0.785\n",
            "C(AGEPH_cat_6, Treatment(reference=\"36-50\"))[T.23-25]     0.5689      0.034     16.833      0.000       0.503       0.635\n",
            "C(AGEPH_cat_6, Treatment(reference=\"36-50\"))[T.26-30]     0.3421      0.025     13.520      0.000       0.292       0.392\n",
            "C(AGEPH_cat_6, Treatment(reference=\"36-50\"))[T.31-35]     0.1160      0.026      4.432      0.000       0.065       0.167\n",
            "C(AGEPH_cat_6, Treatment(reference=\"36-50\"))[T.51-55]    -0.0962      0.030     -3.242      0.001      -0.154      -0.038\n",
            "C(AGEPH_cat_6, Treatment(reference=\"36-50\"))[T.56-60]    -0.2040      0.034     -6.013      0.000      -0.270      -0.138\n",
            "C(AGEPH_cat_6, Treatment(reference=\"36-50\"))[T.61-80]    -0.3375      0.024    -13.920      0.000      -0.385      -0.290\n",
            "C(AGEPH_cat_6, Treatment(reference=\"36-50\"))[T.>80]      -0.1950      0.092     -2.123      0.034      -0.375      -0.015\n",
            "=========================================================================================================================\n"
          ]
        }
      ],
      "source": [
        "freq_glm1 = smf.glm('nbrtotc ~ C(AGEPH_cat_6,Treatment(reference=\"36-50\"))', data = train, exposure = train.duree, family = sm.families.Poisson(link=sm.families.links.log())).fit()\n",
        "print(freq_glm1.summary())"
      ]
    },
    {
      "cell_type": "code",
      "execution_count": null,
      "metadata": {
        "colab": {
          "base_uri": "https://localhost:8080/"
        },
        "id": "_zXLo6g99egn",
        "outputId": "9a9312d0-ec39-45c9-a8da-ea88e4f53cd7"
      },
      "outputs": [
        {
          "output_type": "execute_result",
          "data": {
            "text/html": [
              "\n",
              "  <div id=\"df-88f7494c-b623-411d-86fb-bda0cc55ae9c\">\n",
              "    <div class=\"colab-df-container\">\n",
              "      <div>\n",
              "<style scoped>\n",
              "    .dataframe tbody tr th:only-of-type {\n",
              "        vertical-align: middle;\n",
              "    }\n",
              "\n",
              "    .dataframe tbody tr th {\n",
              "        vertical-align: top;\n",
              "    }\n",
              "\n",
              "    .dataframe thead th {\n",
              "        text-align: right;\n",
              "    }\n",
              "</style>\n",
              "<table border=\"1\" class=\"dataframe\">\n",
              "  <thead>\n",
              "    <tr style=\"text-align: right;\">\n",
              "      <th></th>\n",
              "      <th>17-19</th>\n",
              "      <th>20-22</th>\n",
              "      <th>23-25</th>\n",
              "      <th>26-30</th>\n",
              "      <th>31-35</th>\n",
              "      <th>51-55</th>\n",
              "      <th>56-60</th>\n",
              "      <th>61-80</th>\n",
              "      <th>&gt;80</th>\n",
              "    </tr>\n",
              "    <tr>\n",
              "      <th>AGEPH_cat_6</th>\n",
              "      <th></th>\n",
              "      <th></th>\n",
              "      <th></th>\n",
              "      <th></th>\n",
              "      <th></th>\n",
              "      <th></th>\n",
              "      <th></th>\n",
              "      <th></th>\n",
              "      <th></th>\n",
              "    </tr>\n",
              "  </thead>\n",
              "  <tbody>\n",
              "    <tr>\n",
              "      <th>17-19</th>\n",
              "      <td>NaN</td>\n",
              "      <td>1.554</td>\n",
              "      <td>3.370</td>\n",
              "      <td>8.984</td>\n",
              "      <td>17.149</td>\n",
              "      <td>27.067</td>\n",
              "      <td>32.806</td>\n",
              "      <td>41.554</td>\n",
              "      <td>27.254</td>\n",
              "    </tr>\n",
              "    <tr>\n",
              "      <th>20-22</th>\n",
              "      <td>1.554</td>\n",
              "      <td>NaN</td>\n",
              "      <td>3.456</td>\n",
              "      <td>36.866</td>\n",
              "      <td>101.108</td>\n",
              "      <td>180.177</td>\n",
              "      <td>216.180</td>\n",
              "      <td>339.081</td>\n",
              "      <td>70.289</td>\n",
              "    </tr>\n",
              "    <tr>\n",
              "      <th>23-25</th>\n",
              "      <td>3.370</td>\n",
              "      <td>3.456</td>\n",
              "      <td>NaN</td>\n",
              "      <td>35.981</td>\n",
              "      <td>139.147</td>\n",
              "      <td>264.895</td>\n",
              "      <td>307.809</td>\n",
              "      <td>596.249</td>\n",
              "      <td>63.230</td>\n",
              "    </tr>\n",
              "    <tr>\n",
              "      <th>26-30</th>\n",
              "      <td>8.984</td>\n",
              "      <td>36.866</td>\n",
              "      <td>35.981</td>\n",
              "      <td>NaN</td>\n",
              "      <td>52.581</td>\n",
              "      <td>164.467</td>\n",
              "      <td>207.268</td>\n",
              "      <td>527.300</td>\n",
              "      <td>33.052</td>\n",
              "    </tr>\n",
              "    <tr>\n",
              "      <th>31-35</th>\n",
              "      <td>17.149</td>\n",
              "      <td>101.108</td>\n",
              "      <td>139.147</td>\n",
              "      <td>52.581</td>\n",
              "      <td>NaN</td>\n",
              "      <td>37.123</td>\n",
              "      <td>69.026</td>\n",
              "      <td>223.468</td>\n",
              "      <td>11.025</td>\n",
              "    </tr>\n",
              "    <tr>\n",
              "      <th>51-55</th>\n",
              "      <td>27.067</td>\n",
              "      <td>180.177</td>\n",
              "      <td>264.895</td>\n",
              "      <td>164.467</td>\n",
              "      <td>37.123</td>\n",
              "      <td>NaN</td>\n",
              "      <td>6.927</td>\n",
              "      <td>52.218</td>\n",
              "      <td>1.090</td>\n",
              "    </tr>\n",
              "    <tr>\n",
              "      <th>56-60</th>\n",
              "      <td>32.806</td>\n",
              "      <td>216.180</td>\n",
              "      <td>307.809</td>\n",
              "      <td>207.268</td>\n",
              "      <td>69.026</td>\n",
              "      <td>6.927</td>\n",
              "      <td>NaN</td>\n",
              "      <td>12.860</td>\n",
              "      <td>0.009</td>\n",
              "    </tr>\n",
              "    <tr>\n",
              "      <th>61-80</th>\n",
              "      <td>41.554</td>\n",
              "      <td>339.081</td>\n",
              "      <td>596.249</td>\n",
              "      <td>527.300</td>\n",
              "      <td>223.468</td>\n",
              "      <td>52.218</td>\n",
              "      <td>12.860</td>\n",
              "      <td>NaN</td>\n",
              "      <td>2.340</td>\n",
              "    </tr>\n",
              "    <tr>\n",
              "      <th>&gt;80</th>\n",
              "      <td>27.254</td>\n",
              "      <td>70.289</td>\n",
              "      <td>63.230</td>\n",
              "      <td>33.052</td>\n",
              "      <td>11.025</td>\n",
              "      <td>1.090</td>\n",
              "      <td>0.009</td>\n",
              "      <td>2.340</td>\n",
              "      <td>NaN</td>\n",
              "    </tr>\n",
              "  </tbody>\n",
              "</table>\n",
              "</div>\n",
              "      <button class=\"colab-df-convert\" onclick=\"convertToInteractive('df-88f7494c-b623-411d-86fb-bda0cc55ae9c')\"\n",
              "              title=\"Convert this dataframe to an interactive table.\"\n",
              "              style=\"display:none;\">\n",
              "        \n",
              "  <svg xmlns=\"http://www.w3.org/2000/svg\" height=\"24px\"viewBox=\"0 0 24 24\"\n",
              "       width=\"24px\">\n",
              "    <path d=\"M0 0h24v24H0V0z\" fill=\"none\"/>\n",
              "    <path d=\"M18.56 5.44l.94 2.06.94-2.06 2.06-.94-2.06-.94-.94-2.06-.94 2.06-2.06.94zm-11 1L8.5 8.5l.94-2.06 2.06-.94-2.06-.94L8.5 2.5l-.94 2.06-2.06.94zm10 10l.94 2.06.94-2.06 2.06-.94-2.06-.94-.94-2.06-.94 2.06-2.06.94z\"/><path d=\"M17.41 7.96l-1.37-1.37c-.4-.4-.92-.59-1.43-.59-.52 0-1.04.2-1.43.59L10.3 9.45l-7.72 7.72c-.78.78-.78 2.05 0 2.83L4 21.41c.39.39.9.59 1.41.59.51 0 1.02-.2 1.41-.59l7.78-7.78 2.81-2.81c.8-.78.8-2.07 0-2.86zM5.41 20L4 18.59l7.72-7.72 1.47 1.35L5.41 20z\"/>\n",
              "  </svg>\n",
              "      </button>\n",
              "      \n",
              "  <style>\n",
              "    .colab-df-container {\n",
              "      display:flex;\n",
              "      flex-wrap:wrap;\n",
              "      gap: 12px;\n",
              "    }\n",
              "\n",
              "    .colab-df-convert {\n",
              "      background-color: #E8F0FE;\n",
              "      border: none;\n",
              "      border-radius: 50%;\n",
              "      cursor: pointer;\n",
              "      display: none;\n",
              "      fill: #1967D2;\n",
              "      height: 32px;\n",
              "      padding: 0 0 0 0;\n",
              "      width: 32px;\n",
              "    }\n",
              "\n",
              "    .colab-df-convert:hover {\n",
              "      background-color: #E2EBFA;\n",
              "      box-shadow: 0px 1px 2px rgba(60, 64, 67, 0.3), 0px 1px 3px 1px rgba(60, 64, 67, 0.15);\n",
              "      fill: #174EA6;\n",
              "    }\n",
              "\n",
              "    [theme=dark] .colab-df-convert {\n",
              "      background-color: #3B4455;\n",
              "      fill: #D2E3FC;\n",
              "    }\n",
              "\n",
              "    [theme=dark] .colab-df-convert:hover {\n",
              "      background-color: #434B5C;\n",
              "      box-shadow: 0px 1px 3px 1px rgba(0, 0, 0, 0.15);\n",
              "      filter: drop-shadow(0px 1px 2px rgba(0, 0, 0, 0.3));\n",
              "      fill: #FFFFFF;\n",
              "    }\n",
              "  </style>\n",
              "\n",
              "      <script>\n",
              "        const buttonEl =\n",
              "          document.querySelector('#df-88f7494c-b623-411d-86fb-bda0cc55ae9c button.colab-df-convert');\n",
              "        buttonEl.style.display =\n",
              "          google.colab.kernel.accessAllowed ? 'block' : 'none';\n",
              "\n",
              "        async function convertToInteractive(key) {\n",
              "          const element = document.querySelector('#df-88f7494c-b623-411d-86fb-bda0cc55ae9c');\n",
              "          const dataTable =\n",
              "            await google.colab.kernel.invokeFunction('convertToInteractive',\n",
              "                                                     [key], {});\n",
              "          if (!dataTable) return;\n",
              "\n",
              "          const docLinkHtml = 'Like what you see? Visit the ' +\n",
              "            '<a target=\"_blank\" href=https://colab.research.google.com/notebooks/data_table.ipynb>data table notebook</a>'\n",
              "            + ' to learn more about interactive tables.';\n",
              "          element.innerHTML = '';\n",
              "          dataTable['output_type'] = 'display_data';\n",
              "          await google.colab.output.renderOutput(dataTable, element);\n",
              "          const docLink = document.createElement('div');\n",
              "          docLink.innerHTML = docLinkHtml;\n",
              "          element.appendChild(docLink);\n",
              "        }\n",
              "      </script>\n",
              "    </div>\n",
              "  </div>\n",
              "  "
            ],
            "text/plain": [
              "              17-19    20-22    23-25  ...    56-60    61-80     >80\n",
              "AGEPH_cat_6                            ...                          \n",
              "17-19           NaN    1.554    3.370  ...   32.806   41.554  27.254\n",
              "20-22         1.554      NaN    3.456  ...  216.180  339.081  70.289\n",
              "23-25         3.370    3.456      NaN  ...  307.809  596.249  63.230\n",
              "26-30         8.984   36.866   35.981  ...  207.268  527.300  33.052\n",
              "31-35        17.149  101.108  139.147  ...   69.026  223.468  11.025\n",
              "51-55        27.067  180.177  264.895  ...    6.927   52.218   1.090\n",
              "56-60        32.806  216.180  307.809  ...      NaN   12.860   0.009\n",
              "61-80        41.554  339.081  596.249  ...   12.860      NaN   2.340\n",
              ">80          27.254   70.289   63.230  ...    0.009    2.340     NaN\n",
              "\n",
              "[9 rows x 9 columns]"
            ]
          },
          "metadata": {},
          "execution_count": 58
        }
      ],
      "source": [
        "wald_table=Wald_hypothesis(freq_glm1,'AGEPH_cat_6')\n",
        "wald_table=pd.DataFrame(wald_table, \n",
        "             columns=['17-19',\n",
        "                      '20-22', \n",
        "                      '23-25', \n",
        "                      '26-30',\n",
        "                      '31-35', \n",
        "                      '51-55',\n",
        "                      '56-60',\n",
        "                      '61-80',\n",
        "                      '>80'])\n",
        "wald_table['AGEPH_cat_6']=['17-19',\n",
        "                      '20-22', \n",
        "                      '23-25', \n",
        "                      '26-30',\n",
        "                      '31-35', \n",
        "                      '51-55',\n",
        "                      '56-60',\n",
        "                      '61-80',\n",
        "                      '>80']\n",
        "wald_table.set_index('AGEPH_cat_6')"
      ]
    },
    {
      "cell_type": "markdown",
      "metadata": {
        "id": "UJ96DTEi8l-P"
      },
      "source": [
        "The smallest value is 1.554 for the classes 17-19 & 20-22."
      ]
    },
    {
      "cell_type": "code",
      "execution_count": null,
      "metadata": {
        "colab": {
          "base_uri": "https://localhost:8080/"
        },
        "id": "F1VRdomE0jLL",
        "outputId": "177d399a-88af-458b-e641-e3277bc64ce3"
      },
      "outputs": [
        {
          "output_type": "stream",
          "name": "stdout",
          "text": [
            "36-50    46460\n",
            "61-80    26471\n",
            "31-35    14691\n",
            "26-30    12826\n",
            "51-55    12543\n",
            "56-60    10105\n",
            "23-25     4901\n",
            "20-22     1653\n",
            ">80       1172\n",
            "17-19      103\n",
            "Name: AGEPH_cat_6, dtype: int64\n",
            "\n",
            "36-50    46460\n",
            "61-80    26471\n",
            "31-35    14691\n",
            "26-30    12826\n",
            "51-55    12543\n",
            "56-60    10105\n",
            "23-25     4901\n",
            "17-22     1756\n",
            ">80       1172\n",
            "Name: AGEPH_cat_7, dtype: int64\n",
            "36-50    11599\n",
            "61-80     6581\n",
            "31-35     3671\n",
            "26-30     3248\n",
            "51-55     3185\n",
            "56-60     2516\n",
            "23-25     1191\n",
            "20-22      397\n",
            ">80        312\n",
            "17-19       32\n",
            "Name: AGEPH_cat_6, dtype: int64\n",
            "\n",
            "36-50    11599\n",
            "61-80     6581\n",
            "31-35     3671\n",
            "26-30     3248\n",
            "51-55     3185\n",
            "56-60     2516\n",
            "23-25     1191\n",
            "17-22      429\n",
            ">80        312\n",
            "Name: AGEPH_cat_7, dtype: int64\n",
            "36-50    58059\n",
            "61-80    33052\n",
            "31-35    18362\n",
            "26-30    16074\n",
            "51-55    15728\n",
            "56-60    12621\n",
            "23-25     6092\n",
            "20-22     2050\n",
            ">80       1484\n",
            "17-19      135\n",
            "Name: AGEPH_cat_6, dtype: int64\n",
            "\n",
            "36-50    58059\n",
            "61-80    33052\n",
            "31-35    18362\n",
            "26-30    16074\n",
            "51-55    15728\n",
            "56-60    12621\n",
            "23-25     6092\n",
            "17-22     2185\n",
            ">80       1484\n",
            "Name: AGEPH_cat_7, dtype: int64\n"
          ]
        }
      ],
      "source": [
        "train['AGEPH_cat_7']=train['AGEPH_cat_6'].astype('object')\n",
        "train.loc[train['AGEPH_cat_6'].isin([\"17-19\",\"20-22\"]),'AGEPH_cat_7']=\"17-22\"\n",
        "train['AGEPH_cat_7']=train['AGEPH_cat_7'].astype('category')\n",
        "print(train.AGEPH_cat_6.value_counts())\n",
        "print(\"\")\n",
        "print(train.AGEPH_cat_7.value_counts())\n",
        "\n",
        "test['AGEPH_cat_7']=test['AGEPH_cat_6'].astype('object')\n",
        "test.loc[test['AGEPH_cat_6'].isin([\"17-19\",\"20-22\"]),'AGEPH_cat_7']=\"17-22\"\n",
        "test['AGEPH_cat_7']=test['AGEPH_cat_7'].astype('category')\n",
        "print(test.AGEPH_cat_6.value_counts())\n",
        "print(\"\")\n",
        "print(test.AGEPH_cat_7.value_counts())\n",
        "\n",
        "my_data['AGEPH_cat_7']=my_data['AGEPH_cat_6'].astype('object')\n",
        "my_data.loc[my_data['AGEPH_cat_6'].isin([\"17-19\",\"20-22\"]),'AGEPH_cat_7']=\"17-22\"\n",
        "my_data['AGEPH_cat_7']=my_data['AGEPH_cat_7'].astype('category')\n",
        "print(my_data.AGEPH_cat_6.value_counts())\n",
        "print(\"\")\n",
        "print(my_data.AGEPH_cat_7.value_counts())"
      ]
    },
    {
      "cell_type": "code",
      "execution_count": null,
      "metadata": {
        "colab": {
          "base_uri": "https://localhost:8080/"
        },
        "id": "O9o0SEp_08PJ",
        "outputId": "1ec94ba1-992c-41b3-8a8f-e45479f8b865"
      },
      "outputs": [
        {
          "output_type": "stream",
          "name": "stdout",
          "text": [
            "                 Generalized Linear Model Regression Results                  \n",
            "==============================================================================\n",
            "Dep. Variable:                nbrtotc   No. Observations:               130925\n",
            "Model:                            GLM   Df Residuals:                   130916\n",
            "Model Family:                 Poisson   Df Model:                            8\n",
            "Link Function:                    log   Scale:                          1.0000\n",
            "Method:                          IRLS   Log-Likelihood:                -50672.\n",
            "Date:                Thu, 13 Jan 2022   Deviance:                       71075.\n",
            "Time:                        15:23:05   Pearson chi2:                 1.56e+05\n",
            "No. Iterations:                     6                                         \n",
            "Covariance Type:            nonrobust                                         \n",
            "=========================================================================================================================\n",
            "                                                            coef    std err          z      P>|z|      [0.025      0.975]\n",
            "-------------------------------------------------------------------------------------------------------------------------\n",
            "Intercept                                                -1.9776      0.013   -149.019      0.000      -2.004      -1.952\n",
            "C(AGEPH_cat_7, Treatment(reference=\"36-50\"))[T.17-22]     0.6951      0.051     13.500      0.000       0.594       0.796\n",
            "C(AGEPH_cat_7, Treatment(reference=\"36-50\"))[T.23-25]     0.5689      0.034     16.833      0.000       0.503       0.635\n",
            "C(AGEPH_cat_7, Treatment(reference=\"36-50\"))[T.26-30]     0.3421      0.025     13.520      0.000       0.292       0.392\n",
            "C(AGEPH_cat_7, Treatment(reference=\"36-50\"))[T.31-35]     0.1160      0.026      4.432      0.000       0.065       0.167\n",
            "C(AGEPH_cat_7, Treatment(reference=\"36-50\"))[T.51-55]    -0.0962      0.030     -3.242      0.001      -0.154      -0.038\n",
            "C(AGEPH_cat_7, Treatment(reference=\"36-50\"))[T.56-60]    -0.2040      0.034     -6.013      0.000      -0.270      -0.138\n",
            "C(AGEPH_cat_7, Treatment(reference=\"36-50\"))[T.61-80]    -0.3375      0.024    -13.920      0.000      -0.385      -0.290\n",
            "C(AGEPH_cat_7, Treatment(reference=\"36-50\"))[T.>80]      -0.1950      0.092     -2.123      0.034      -0.375      -0.015\n",
            "=========================================================================================================================\n"
          ]
        }
      ],
      "source": [
        "freq_glm1 = smf.glm('nbrtotc ~ C(AGEPH_cat_7,Treatment(reference=\"36-50\"))', data = train, exposure = train.duree, family = sm.families.Poisson(link=sm.families.links.log())).fit()\n",
        "print(freq_glm1.summary())"
      ]
    },
    {
      "cell_type": "code",
      "execution_count": null,
      "metadata": {
        "colab": {
          "base_uri": "https://localhost:8080/"
        },
        "id": "YmNNZsID-PXa",
        "outputId": "472aa95b-12ac-4a1f-9d55-d91e1cbf245e"
      },
      "outputs": [
        {
          "output_type": "execute_result",
          "data": {
            "text/html": [
              "\n",
              "  <div id=\"df-a7ee75d1-f706-46da-9c0c-26ca7aec56a1\">\n",
              "    <div class=\"colab-df-container\">\n",
              "      <div>\n",
              "<style scoped>\n",
              "    .dataframe tbody tr th:only-of-type {\n",
              "        vertical-align: middle;\n",
              "    }\n",
              "\n",
              "    .dataframe tbody tr th {\n",
              "        vertical-align: top;\n",
              "    }\n",
              "\n",
              "    .dataframe thead th {\n",
              "        text-align: right;\n",
              "    }\n",
              "</style>\n",
              "<table border=\"1\" class=\"dataframe\">\n",
              "  <thead>\n",
              "    <tr style=\"text-align: right;\">\n",
              "      <th></th>\n",
              "      <th>17-22</th>\n",
              "      <th>23-25</th>\n",
              "      <th>26-30</th>\n",
              "      <th>31-35</th>\n",
              "      <th>51-55</th>\n",
              "      <th>56-60</th>\n",
              "      <th>61-80</th>\n",
              "      <th>&gt;80</th>\n",
              "    </tr>\n",
              "    <tr>\n",
              "      <th>AGEPH_cat_7</th>\n",
              "      <th></th>\n",
              "      <th></th>\n",
              "      <th></th>\n",
              "      <th></th>\n",
              "      <th></th>\n",
              "      <th></th>\n",
              "      <th></th>\n",
              "      <th></th>\n",
              "    </tr>\n",
              "  </thead>\n",
              "  <tbody>\n",
              "    <tr>\n",
              "      <th>17-22</th>\n",
              "      <td>NaN</td>\n",
              "      <td>4.628</td>\n",
              "      <td>42.408</td>\n",
              "      <td>112.429</td>\n",
              "      <td>196.969</td>\n",
              "      <td>234.335</td>\n",
              "      <td>369.362</td>\n",
              "      <td>73.784</td>\n",
              "    </tr>\n",
              "    <tr>\n",
              "      <th>23-25</th>\n",
              "      <td>4.628</td>\n",
              "      <td>NaN</td>\n",
              "      <td>35.981</td>\n",
              "      <td>139.147</td>\n",
              "      <td>264.895</td>\n",
              "      <td>307.809</td>\n",
              "      <td>596.249</td>\n",
              "      <td>63.230</td>\n",
              "    </tr>\n",
              "    <tr>\n",
              "      <th>26-30</th>\n",
              "      <td>42.408</td>\n",
              "      <td>35.981</td>\n",
              "      <td>NaN</td>\n",
              "      <td>52.581</td>\n",
              "      <td>164.467</td>\n",
              "      <td>207.268</td>\n",
              "      <td>527.300</td>\n",
              "      <td>33.052</td>\n",
              "    </tr>\n",
              "    <tr>\n",
              "      <th>31-35</th>\n",
              "      <td>112.429</td>\n",
              "      <td>139.147</td>\n",
              "      <td>52.581</td>\n",
              "      <td>NaN</td>\n",
              "      <td>37.123</td>\n",
              "      <td>69.026</td>\n",
              "      <td>223.468</td>\n",
              "      <td>11.025</td>\n",
              "    </tr>\n",
              "    <tr>\n",
              "      <th>51-55</th>\n",
              "      <td>196.969</td>\n",
              "      <td>264.895</td>\n",
              "      <td>164.467</td>\n",
              "      <td>37.123</td>\n",
              "      <td>NaN</td>\n",
              "      <td>6.927</td>\n",
              "      <td>52.218</td>\n",
              "      <td>1.090</td>\n",
              "    </tr>\n",
              "    <tr>\n",
              "      <th>56-60</th>\n",
              "      <td>234.335</td>\n",
              "      <td>307.809</td>\n",
              "      <td>207.268</td>\n",
              "      <td>69.026</td>\n",
              "      <td>6.927</td>\n",
              "      <td>NaN</td>\n",
              "      <td>12.860</td>\n",
              "      <td>0.009</td>\n",
              "    </tr>\n",
              "    <tr>\n",
              "      <th>61-80</th>\n",
              "      <td>369.362</td>\n",
              "      <td>596.249</td>\n",
              "      <td>527.300</td>\n",
              "      <td>223.468</td>\n",
              "      <td>52.218</td>\n",
              "      <td>12.860</td>\n",
              "      <td>NaN</td>\n",
              "      <td>2.340</td>\n",
              "    </tr>\n",
              "    <tr>\n",
              "      <th>&gt;80</th>\n",
              "      <td>73.784</td>\n",
              "      <td>63.230</td>\n",
              "      <td>33.052</td>\n",
              "      <td>11.025</td>\n",
              "      <td>1.090</td>\n",
              "      <td>0.009</td>\n",
              "      <td>2.340</td>\n",
              "      <td>NaN</td>\n",
              "    </tr>\n",
              "  </tbody>\n",
              "</table>\n",
              "</div>\n",
              "      <button class=\"colab-df-convert\" onclick=\"convertToInteractive('df-a7ee75d1-f706-46da-9c0c-26ca7aec56a1')\"\n",
              "              title=\"Convert this dataframe to an interactive table.\"\n",
              "              style=\"display:none;\">\n",
              "        \n",
              "  <svg xmlns=\"http://www.w3.org/2000/svg\" height=\"24px\"viewBox=\"0 0 24 24\"\n",
              "       width=\"24px\">\n",
              "    <path d=\"M0 0h24v24H0V0z\" fill=\"none\"/>\n",
              "    <path d=\"M18.56 5.44l.94 2.06.94-2.06 2.06-.94-2.06-.94-.94-2.06-.94 2.06-2.06.94zm-11 1L8.5 8.5l.94-2.06 2.06-.94-2.06-.94L8.5 2.5l-.94 2.06-2.06.94zm10 10l.94 2.06.94-2.06 2.06-.94-2.06-.94-.94-2.06-.94 2.06-2.06.94z\"/><path d=\"M17.41 7.96l-1.37-1.37c-.4-.4-.92-.59-1.43-.59-.52 0-1.04.2-1.43.59L10.3 9.45l-7.72 7.72c-.78.78-.78 2.05 0 2.83L4 21.41c.39.39.9.59 1.41.59.51 0 1.02-.2 1.41-.59l7.78-7.78 2.81-2.81c.8-.78.8-2.07 0-2.86zM5.41 20L4 18.59l7.72-7.72 1.47 1.35L5.41 20z\"/>\n",
              "  </svg>\n",
              "      </button>\n",
              "      \n",
              "  <style>\n",
              "    .colab-df-container {\n",
              "      display:flex;\n",
              "      flex-wrap:wrap;\n",
              "      gap: 12px;\n",
              "    }\n",
              "\n",
              "    .colab-df-convert {\n",
              "      background-color: #E8F0FE;\n",
              "      border: none;\n",
              "      border-radius: 50%;\n",
              "      cursor: pointer;\n",
              "      display: none;\n",
              "      fill: #1967D2;\n",
              "      height: 32px;\n",
              "      padding: 0 0 0 0;\n",
              "      width: 32px;\n",
              "    }\n",
              "\n",
              "    .colab-df-convert:hover {\n",
              "      background-color: #E2EBFA;\n",
              "      box-shadow: 0px 1px 2px rgba(60, 64, 67, 0.3), 0px 1px 3px 1px rgba(60, 64, 67, 0.15);\n",
              "      fill: #174EA6;\n",
              "    }\n",
              "\n",
              "    [theme=dark] .colab-df-convert {\n",
              "      background-color: #3B4455;\n",
              "      fill: #D2E3FC;\n",
              "    }\n",
              "\n",
              "    [theme=dark] .colab-df-convert:hover {\n",
              "      background-color: #434B5C;\n",
              "      box-shadow: 0px 1px 3px 1px rgba(0, 0, 0, 0.15);\n",
              "      filter: drop-shadow(0px 1px 2px rgba(0, 0, 0, 0.3));\n",
              "      fill: #FFFFFF;\n",
              "    }\n",
              "  </style>\n",
              "\n",
              "      <script>\n",
              "        const buttonEl =\n",
              "          document.querySelector('#df-a7ee75d1-f706-46da-9c0c-26ca7aec56a1 button.colab-df-convert');\n",
              "        buttonEl.style.display =\n",
              "          google.colab.kernel.accessAllowed ? 'block' : 'none';\n",
              "\n",
              "        async function convertToInteractive(key) {\n",
              "          const element = document.querySelector('#df-a7ee75d1-f706-46da-9c0c-26ca7aec56a1');\n",
              "          const dataTable =\n",
              "            await google.colab.kernel.invokeFunction('convertToInteractive',\n",
              "                                                     [key], {});\n",
              "          if (!dataTable) return;\n",
              "\n",
              "          const docLinkHtml = 'Like what you see? Visit the ' +\n",
              "            '<a target=\"_blank\" href=https://colab.research.google.com/notebooks/data_table.ipynb>data table notebook</a>'\n",
              "            + ' to learn more about interactive tables.';\n",
              "          element.innerHTML = '';\n",
              "          dataTable['output_type'] = 'display_data';\n",
              "          await google.colab.output.renderOutput(dataTable, element);\n",
              "          const docLink = document.createElement('div');\n",
              "          docLink.innerHTML = docLinkHtml;\n",
              "          element.appendChild(docLink);\n",
              "        }\n",
              "      </script>\n",
              "    </div>\n",
              "  </div>\n",
              "  "
            ],
            "text/plain": [
              "               17-22    23-25    26-30  ...    56-60    61-80     >80\n",
              "AGEPH_cat_7                             ...                          \n",
              "17-22            NaN    4.628   42.408  ...  234.335  369.362  73.784\n",
              "23-25          4.628      NaN   35.981  ...  307.809  596.249  63.230\n",
              "26-30         42.408   35.981      NaN  ...  207.268  527.300  33.052\n",
              "31-35        112.429  139.147   52.581  ...   69.026  223.468  11.025\n",
              "51-55        196.969  264.895  164.467  ...    6.927   52.218   1.090\n",
              "56-60        234.335  307.809  207.268  ...      NaN   12.860   0.009\n",
              "61-80        369.362  596.249  527.300  ...   12.860      NaN   2.340\n",
              ">80           73.784   63.230   33.052  ...    0.009    2.340     NaN\n",
              "\n",
              "[8 rows x 8 columns]"
            ]
          },
          "metadata": {},
          "execution_count": 61
        }
      ],
      "source": [
        "wald_table=Wald_hypothesis(freq_glm1,'AGEPH_cat_7')\n",
        "wald_table=pd.DataFrame(wald_table, \n",
        "             columns=['17-22',\n",
        "                      '23-25', \n",
        "                      '26-30',\n",
        "                      '31-35', \n",
        "                      '51-55',\n",
        "                      '56-60',\n",
        "                      '61-80',\n",
        "                      '>80'])\n",
        "wald_table['AGEPH_cat_7']=['17-22',\n",
        "                      '23-25', \n",
        "                      '26-30',\n",
        "                      '31-35', \n",
        "                      '51-55',\n",
        "                      '56-60',\n",
        "                      '61-80',\n",
        "                      '>80']\n",
        "wald_table.set_index('AGEPH_cat_7')"
      ]
    },
    {
      "cell_type": "markdown",
      "metadata": {
        "id": "dn2w42un-ggB"
      },
      "source": [
        "The smallest value is 2.340 for the classes 61-80 & >80."
      ]
    },
    {
      "cell_type": "code",
      "execution_count": null,
      "metadata": {
        "colab": {
          "base_uri": "https://localhost:8080/"
        },
        "id": "Yo3rFEIj-xoT",
        "outputId": "5bbe8242-44c6-4c71-b08f-d4b366060466"
      },
      "outputs": [
        {
          "output_type": "stream",
          "name": "stdout",
          "text": [
            "36-50    46460\n",
            "61-80    26471\n",
            "31-35    14691\n",
            "26-30    12826\n",
            "51-55    12543\n",
            "56-60    10105\n",
            "23-25     4901\n",
            "17-22     1756\n",
            ">80       1172\n",
            "Name: AGEPH_cat_7, dtype: int64\n",
            "\n",
            "36-50    46460\n",
            ">60      27643\n",
            "31-35    14691\n",
            "26-30    12826\n",
            "51-55    12543\n",
            "56-60    10105\n",
            "23-25     4901\n",
            "17-22     1756\n",
            "Name: AGEPH_cat_8, dtype: int64\n",
            "36-50    11599\n",
            "61-80     6581\n",
            "31-35     3671\n",
            "26-30     3248\n",
            "51-55     3185\n",
            "56-60     2516\n",
            "23-25     1191\n",
            "17-22      429\n",
            ">80        312\n",
            "Name: AGEPH_cat_7, dtype: int64\n",
            "\n",
            "36-50    11599\n",
            ">60       6893\n",
            "31-35     3671\n",
            "26-30     3248\n",
            "51-55     3185\n",
            "56-60     2516\n",
            "23-25     1191\n",
            "17-22      429\n",
            "Name: AGEPH_cat_8, dtype: int64\n",
            "36-50    58059\n",
            "61-80    33052\n",
            "31-35    18362\n",
            "26-30    16074\n",
            "51-55    15728\n",
            "56-60    12621\n",
            "23-25     6092\n",
            "17-22     2185\n",
            ">80       1484\n",
            "Name: AGEPH_cat_7, dtype: int64\n",
            "\n",
            "36-50    58059\n",
            ">60      34536\n",
            "31-35    18362\n",
            "26-30    16074\n",
            "51-55    15728\n",
            "56-60    12621\n",
            "23-25     6092\n",
            "17-22     2185\n",
            "Name: AGEPH_cat_8, dtype: int64\n"
          ]
        }
      ],
      "source": [
        "train['AGEPH_cat_8']=train['AGEPH_cat_7'].astype('object')\n",
        "train.loc[train['AGEPH_cat_7'].isin([\"61-80\",\">80\"]),'AGEPH_cat_8']=\">60\"\n",
        "train['AGEPH_cat_8']=train['AGEPH_cat_8'].astype('category')\n",
        "print(train.AGEPH_cat_7.value_counts())\n",
        "print(\"\")\n",
        "print(train.AGEPH_cat_8.value_counts())\n",
        "\n",
        "test['AGEPH_cat_8']=test['AGEPH_cat_7'].astype('object')\n",
        "test.loc[test['AGEPH_cat_7'].isin([\"61-80\",\">80\"]),'AGEPH_cat_8']=\">60\"\n",
        "test['AGEPH_cat_8']=test['AGEPH_cat_8'].astype('category')\n",
        "print(test.AGEPH_cat_7.value_counts())\n",
        "print(\"\")\n",
        "print(test.AGEPH_cat_8.value_counts())\n",
        "\n",
        "my_data['AGEPH_cat_8']=my_data['AGEPH_cat_7'].astype('object')\n",
        "my_data.loc[my_data['AGEPH_cat_7'].isin([\"61-80\",\">80\"]),'AGEPH_cat_8']=\">60\"\n",
        "my_data['AGEPH_cat_8']=my_data['AGEPH_cat_8'].astype('category')\n",
        "print(my_data.AGEPH_cat_7.value_counts())\n",
        "print(\"\")\n",
        "print(my_data.AGEPH_cat_8.value_counts())"
      ]
    },
    {
      "cell_type": "code",
      "execution_count": null,
      "metadata": {
        "colab": {
          "base_uri": "https://localhost:8080/"
        },
        "id": "To8ACIMK_W_l",
        "outputId": "eb80799e-2a77-4d54-9638-b974d61ea89d"
      },
      "outputs": [
        {
          "output_type": "stream",
          "name": "stdout",
          "text": [
            "                 Generalized Linear Model Regression Results                  \n",
            "==============================================================================\n",
            "Dep. Variable:                nbrtotc   No. Observations:               130925\n",
            "Model:                            GLM   Df Residuals:                   130917\n",
            "Model Family:                 Poisson   Df Model:                            7\n",
            "Link Function:                    log   Scale:                          1.0000\n",
            "Method:                          IRLS   Log-Likelihood:                -50673.\n",
            "Date:                Thu, 13 Jan 2022   Deviance:                       71078.\n",
            "Time:                        15:23:06   Pearson chi2:                 1.56e+05\n",
            "No. Iterations:                     6                                         \n",
            "Covariance Type:            nonrobust                                         \n",
            "=========================================================================================================================\n",
            "                                                            coef    std err          z      P>|z|      [0.025      0.975]\n",
            "-------------------------------------------------------------------------------------------------------------------------\n",
            "Intercept                                                -1.9776      0.013   -149.019      0.000      -2.004      -1.952\n",
            "C(AGEPH_cat_8, Treatment(reference=\"36-50\"))[T.17-22]     0.6951      0.051     13.500      0.000       0.594       0.796\n",
            "C(AGEPH_cat_8, Treatment(reference=\"36-50\"))[T.23-25]     0.5689      0.034     16.833      0.000       0.503       0.635\n",
            "C(AGEPH_cat_8, Treatment(reference=\"36-50\"))[T.26-30]     0.3421      0.025     13.520      0.000       0.292       0.392\n",
            "C(AGEPH_cat_8, Treatment(reference=\"36-50\"))[T.31-35]     0.1160      0.026      4.432      0.000       0.065       0.167\n",
            "C(AGEPH_cat_8, Treatment(reference=\"36-50\"))[T.51-55]    -0.0962      0.030     -3.242      0.001      -0.154      -0.038\n",
            "C(AGEPH_cat_8, Treatment(reference=\"36-50\"))[T.56-60]    -0.2040      0.034     -6.013      0.000      -0.270      -0.138\n",
            "C(AGEPH_cat_8, Treatment(reference=\"36-50\"))[T.>60]      -0.3312      0.024    -13.892      0.000      -0.378      -0.284\n",
            "=========================================================================================================================\n"
          ]
        }
      ],
      "source": [
        "freq_glm1 = smf.glm('nbrtotc ~ C(AGEPH_cat_8,Treatment(reference=\"36-50\"))', data = train, exposure = train.duree, family = sm.families.Poisson(link=sm.families.links.log())).fit()\n",
        "print(freq_glm1.summary())"
      ]
    },
    {
      "cell_type": "code",
      "execution_count": null,
      "metadata": {
        "colab": {
          "base_uri": "https://localhost:8080/"
        },
        "id": "kDcASHpp_ipA",
        "outputId": "be2b8550-a25b-4102-cc21-6afe59256848"
      },
      "outputs": [
        {
          "output_type": "execute_result",
          "data": {
            "text/html": [
              "\n",
              "  <div id=\"df-6f595451-cc15-4430-b1b2-7c3aa8fde025\">\n",
              "    <div class=\"colab-df-container\">\n",
              "      <div>\n",
              "<style scoped>\n",
              "    .dataframe tbody tr th:only-of-type {\n",
              "        vertical-align: middle;\n",
              "    }\n",
              "\n",
              "    .dataframe tbody tr th {\n",
              "        vertical-align: top;\n",
              "    }\n",
              "\n",
              "    .dataframe thead th {\n",
              "        text-align: right;\n",
              "    }\n",
              "</style>\n",
              "<table border=\"1\" class=\"dataframe\">\n",
              "  <thead>\n",
              "    <tr style=\"text-align: right;\">\n",
              "      <th></th>\n",
              "      <th>17-22</th>\n",
              "      <th>23-25</th>\n",
              "      <th>26-30</th>\n",
              "      <th>31-35</th>\n",
              "      <th>51-55</th>\n",
              "      <th>56-60</th>\n",
              "      <th>&gt;60</th>\n",
              "    </tr>\n",
              "    <tr>\n",
              "      <th>AGEPH_cat_8</th>\n",
              "      <th></th>\n",
              "      <th></th>\n",
              "      <th></th>\n",
              "      <th></th>\n",
              "      <th></th>\n",
              "      <th></th>\n",
              "      <th></th>\n",
              "    </tr>\n",
              "  </thead>\n",
              "  <tbody>\n",
              "    <tr>\n",
              "      <th>17-22</th>\n",
              "      <td>NaN</td>\n",
              "      <td>4.628</td>\n",
              "      <td>42.408</td>\n",
              "      <td>112.429</td>\n",
              "      <td>196.969</td>\n",
              "      <td>234.335</td>\n",
              "      <td>367.340</td>\n",
              "    </tr>\n",
              "    <tr>\n",
              "      <th>23-25</th>\n",
              "      <td>4.628</td>\n",
              "      <td>NaN</td>\n",
              "      <td>35.981</td>\n",
              "      <td>139.147</td>\n",
              "      <td>264.895</td>\n",
              "      <td>307.809</td>\n",
              "      <td>596.420</td>\n",
              "    </tr>\n",
              "    <tr>\n",
              "      <th>26-30</th>\n",
              "      <td>42.408</td>\n",
              "      <td>35.981</td>\n",
              "      <td>NaN</td>\n",
              "      <td>52.581</td>\n",
              "      <td>164.467</td>\n",
              "      <td>207.268</td>\n",
              "      <td>529.348</td>\n",
              "    </tr>\n",
              "    <tr>\n",
              "      <th>31-35</th>\n",
              "      <td>112.429</td>\n",
              "      <td>139.147</td>\n",
              "      <td>52.581</td>\n",
              "      <td>NaN</td>\n",
              "      <td>37.123</td>\n",
              "      <td>69.026</td>\n",
              "      <td>221.995</td>\n",
              "    </tr>\n",
              "    <tr>\n",
              "      <th>51-55</th>\n",
              "      <td>196.969</td>\n",
              "      <td>264.895</td>\n",
              "      <td>164.467</td>\n",
              "      <td>37.123</td>\n",
              "      <td>NaN</td>\n",
              "      <td>6.927</td>\n",
              "      <td>50.400</td>\n",
              "    </tr>\n",
              "    <tr>\n",
              "      <th>56-60</th>\n",
              "      <td>234.335</td>\n",
              "      <td>307.809</td>\n",
              "      <td>207.268</td>\n",
              "      <td>69.026</td>\n",
              "      <td>6.927</td>\n",
              "      <td>NaN</td>\n",
              "      <td>11.838</td>\n",
              "    </tr>\n",
              "    <tr>\n",
              "      <th>&gt;60</th>\n",
              "      <td>367.340</td>\n",
              "      <td>596.420</td>\n",
              "      <td>529.348</td>\n",
              "      <td>221.995</td>\n",
              "      <td>50.400</td>\n",
              "      <td>11.838</td>\n",
              "      <td>NaN</td>\n",
              "    </tr>\n",
              "  </tbody>\n",
              "</table>\n",
              "</div>\n",
              "      <button class=\"colab-df-convert\" onclick=\"convertToInteractive('df-6f595451-cc15-4430-b1b2-7c3aa8fde025')\"\n",
              "              title=\"Convert this dataframe to an interactive table.\"\n",
              "              style=\"display:none;\">\n",
              "        \n",
              "  <svg xmlns=\"http://www.w3.org/2000/svg\" height=\"24px\"viewBox=\"0 0 24 24\"\n",
              "       width=\"24px\">\n",
              "    <path d=\"M0 0h24v24H0V0z\" fill=\"none\"/>\n",
              "    <path d=\"M18.56 5.44l.94 2.06.94-2.06 2.06-.94-2.06-.94-.94-2.06-.94 2.06-2.06.94zm-11 1L8.5 8.5l.94-2.06 2.06-.94-2.06-.94L8.5 2.5l-.94 2.06-2.06.94zm10 10l.94 2.06.94-2.06 2.06-.94-2.06-.94-.94-2.06-.94 2.06-2.06.94z\"/><path d=\"M17.41 7.96l-1.37-1.37c-.4-.4-.92-.59-1.43-.59-.52 0-1.04.2-1.43.59L10.3 9.45l-7.72 7.72c-.78.78-.78 2.05 0 2.83L4 21.41c.39.39.9.59 1.41.59.51 0 1.02-.2 1.41-.59l7.78-7.78 2.81-2.81c.8-.78.8-2.07 0-2.86zM5.41 20L4 18.59l7.72-7.72 1.47 1.35L5.41 20z\"/>\n",
              "  </svg>\n",
              "      </button>\n",
              "      \n",
              "  <style>\n",
              "    .colab-df-container {\n",
              "      display:flex;\n",
              "      flex-wrap:wrap;\n",
              "      gap: 12px;\n",
              "    }\n",
              "\n",
              "    .colab-df-convert {\n",
              "      background-color: #E8F0FE;\n",
              "      border: none;\n",
              "      border-radius: 50%;\n",
              "      cursor: pointer;\n",
              "      display: none;\n",
              "      fill: #1967D2;\n",
              "      height: 32px;\n",
              "      padding: 0 0 0 0;\n",
              "      width: 32px;\n",
              "    }\n",
              "\n",
              "    .colab-df-convert:hover {\n",
              "      background-color: #E2EBFA;\n",
              "      box-shadow: 0px 1px 2px rgba(60, 64, 67, 0.3), 0px 1px 3px 1px rgba(60, 64, 67, 0.15);\n",
              "      fill: #174EA6;\n",
              "    }\n",
              "\n",
              "    [theme=dark] .colab-df-convert {\n",
              "      background-color: #3B4455;\n",
              "      fill: #D2E3FC;\n",
              "    }\n",
              "\n",
              "    [theme=dark] .colab-df-convert:hover {\n",
              "      background-color: #434B5C;\n",
              "      box-shadow: 0px 1px 3px 1px rgba(0, 0, 0, 0.15);\n",
              "      filter: drop-shadow(0px 1px 2px rgba(0, 0, 0, 0.3));\n",
              "      fill: #FFFFFF;\n",
              "    }\n",
              "  </style>\n",
              "\n",
              "      <script>\n",
              "        const buttonEl =\n",
              "          document.querySelector('#df-6f595451-cc15-4430-b1b2-7c3aa8fde025 button.colab-df-convert');\n",
              "        buttonEl.style.display =\n",
              "          google.colab.kernel.accessAllowed ? 'block' : 'none';\n",
              "\n",
              "        async function convertToInteractive(key) {\n",
              "          const element = document.querySelector('#df-6f595451-cc15-4430-b1b2-7c3aa8fde025');\n",
              "          const dataTable =\n",
              "            await google.colab.kernel.invokeFunction('convertToInteractive',\n",
              "                                                     [key], {});\n",
              "          if (!dataTable) return;\n",
              "\n",
              "          const docLinkHtml = 'Like what you see? Visit the ' +\n",
              "            '<a target=\"_blank\" href=https://colab.research.google.com/notebooks/data_table.ipynb>data table notebook</a>'\n",
              "            + ' to learn more about interactive tables.';\n",
              "          element.innerHTML = '';\n",
              "          dataTable['output_type'] = 'display_data';\n",
              "          await google.colab.output.renderOutput(dataTable, element);\n",
              "          const docLink = document.createElement('div');\n",
              "          docLink.innerHTML = docLinkHtml;\n",
              "          element.appendChild(docLink);\n",
              "        }\n",
              "      </script>\n",
              "    </div>\n",
              "  </div>\n",
              "  "
            ],
            "text/plain": [
              "               17-22    23-25    26-30    31-35    51-55    56-60      >60\n",
              "AGEPH_cat_8                                                               \n",
              "17-22            NaN    4.628   42.408  112.429  196.969  234.335  367.340\n",
              "23-25          4.628      NaN   35.981  139.147  264.895  307.809  596.420\n",
              "26-30         42.408   35.981      NaN   52.581  164.467  207.268  529.348\n",
              "31-35        112.429  139.147   52.581      NaN   37.123   69.026  221.995\n",
              "51-55        196.969  264.895  164.467   37.123      NaN    6.927   50.400\n",
              "56-60        234.335  307.809  207.268   69.026    6.927      NaN   11.838\n",
              ">60          367.340  596.420  529.348  221.995   50.400   11.838      NaN"
            ]
          },
          "metadata": {},
          "execution_count": 64
        }
      ],
      "source": [
        "wald_table=Wald_hypothesis(freq_glm1,'AGEPH_cat_8')\n",
        "wald_table=pd.DataFrame(wald_table, \n",
        "             columns=['17-22',\n",
        "                      '23-25', \n",
        "                      '26-30',\n",
        "                      '31-35', \n",
        "                      '51-55',\n",
        "                      '56-60',\n",
        "                      '>60'])\n",
        "wald_table['AGEPH_cat_8']=['17-22',\n",
        "                      '23-25', \n",
        "                      '26-30',\n",
        "                      '31-35', \n",
        "                      '51-55',\n",
        "                      '56-60',\n",
        "                      '>60']\n",
        "wald_table.set_index('AGEPH_cat_8')"
      ]
    },
    {
      "cell_type": "markdown",
      "metadata": {
        "id": "aR3UnHhx_wyW"
      },
      "source": [
        "No more gathering of adjacent classes can be performed."
      ]
    },
    {
      "cell_type": "markdown",
      "metadata": {
        "id": "HSRJp08KXeZ1"
      },
      "source": [
        "**Adding a second variable**"
      ]
    },
    {
      "cell_type": "markdown",
      "metadata": {
        "id": "_vY4dhkdmRAu"
      },
      "source": [
        "First we check for correlations using Cramers V test."
      ]
    },
    {
      "cell_type": "code",
      "execution_count": null,
      "metadata": {
        "colab": {
          "base_uri": "https://localhost:8080/"
        },
        "id": "cVGqii5W0xjx",
        "outputId": "d02b4743-d83f-4900-a840-44de07dd5e17"
      },
      "outputs": [
        {
          "output_type": "stream",
          "name": "stdout",
          "text": [
            "0.03322420148823013\n",
            "0.141899224481922\n",
            "0.14844173423388404\n",
            "0.13970415754794754\n",
            "0.057757840061371024\n",
            "0.06469910903787408\n",
            "0.05322718260605714\n",
            "0.06466420188888544\n",
            "0.051546254773571776\n"
          ]
        }
      ],
      "source": [
        "# no package in python allows to compute Cramer V like in R\n",
        "# we can use the solution here : https://stackoverflow.com/questions/46498455/categorical-features-correlation/46498792#46498792\n",
        "# Check needed : https://en.wikipedia.org/wiki/Cram%C3%A9r%27s_V\n",
        "def cramers_v(confusion_matrix):\n",
        "    \"\"\" calculate Cramers V statistic for categorial-categorial association.\n",
        "        uses correction from Bergsma and Wicher,\n",
        "        Journal of the Korean Statistical Society 42 (2013): 323-328\n",
        "    \"\"\"\n",
        "    chi2 = ss.chi2_contingency(confusion_matrix)[0]\n",
        "    n = confusion_matrix.sum()\n",
        "    phi2 = chi2 / n\n",
        "    r, k = confusion_matrix.shape\n",
        "    phi2corr = max(0, phi2 - ((k-1)*(r-1))/(n-1))\n",
        "    rcorr = r - ((r-1)**2)/(n-1)\n",
        "    kcorr = k - ((k-1)**2)/(n-1)\n",
        "    return np.sqrt(phi2corr / min((kcorr-1), (rcorr-1)))\n",
        "\n",
        "\n",
        "confusion_matrix=pd.crosstab(my_data[\"AGEPH_cat_8\"], my_data[\"agecar\"])\n",
        "print(cramers_v(confusion_matrix.values)) \n",
        "\n",
        "confusion_matrix=pd.crosstab(my_data[\"AGEPH_cat_8\"], my_data[\"sexp\"])\n",
        "print(cramers_v(confusion_matrix.values))\n",
        "\n",
        "confusion_matrix=pd.crosstab(my_data[\"AGEPH_cat_8\"], my_data[\"fuelc\"])\n",
        "print(cramers_v(confusion_matrix.values))\n",
        "\n",
        "confusion_matrix=pd.crosstab(my_data[\"AGEPH_cat_8\"], my_data[\"split\"])\n",
        "print(cramers_v(confusion_matrix.values))\n",
        "\n",
        "confusion_matrix=pd.crosstab(my_data[\"AGEPH_cat_8\"], my_data[\"usec\"])\n",
        "print(cramers_v(confusion_matrix.values))\n",
        "\n",
        "confusion_matrix=pd.crosstab(my_data[\"AGEPH_cat_8\"], my_data[\"fleetc\"])\n",
        "print(cramers_v(confusion_matrix.values))\n",
        "\n",
        "confusion_matrix=pd.crosstab(my_data[\"AGEPH_cat_8\"], my_data[\"sportc\"])\n",
        "print(cramers_v(confusion_matrix.values))\n",
        "\n",
        "confusion_matrix=pd.crosstab(my_data[\"AGEPH_cat_8\"], my_data[\"coverp\"])\n",
        "print(cramers_v(confusion_matrix.values))\n",
        "\n",
        "confusion_matrix=pd.crosstab(my_data[\"AGEPH_cat_8\"], my_data[\"powerc\"])\n",
        "print(cramers_v(confusion_matrix.values))"
      ]
    },
    {
      "cell_type": "code",
      "execution_count": null,
      "metadata": {
        "id": "spIfuouRYrvL"
      },
      "outputs": [],
      "source": [
        "freq_glm2_agecar = smf.glm('nbrtotc ~ C(AGEPH_cat_8,Treatment(reference=\"36-50\")) + C(agecar,Treatment(reference=\"6-10\"))', data = train, exposure = train.duree, family = sm.families.Poisson(link=sm.families.links.log())).fit()\n",
        "freq_glm2_sexp = smf.glm('nbrtotc ~ C(AGEPH_cat_8,Treatment(reference=\"36-50\")) + sexp', data = train, exposure = train.duree, family = sm.families.Poisson(link=sm.families.links.log())).fit()\n",
        "freq_glm2_fuelc = smf.glm('nbrtotc ~ C(AGEPH_cat_8,Treatment(reference=\"36-50\")) + fuelc', data = train, exposure = train.duree, family = sm.families.Poisson(link=sm.families.links.log())).fit()\n",
        "freq_glm2_split = smf.glm('nbrtotc ~ C(AGEPH_cat_8,Treatment(reference=\"36-50\")) + C(split,Treatment(reference=\"Once\"))', data = train, exposure = train.duree, family = sm.families.Poisson(link=sm.families.links.log())).fit()\n",
        "freq_glm2_usec = smf.glm('nbrtotc ~ C(AGEPH_cat_8,Treatment(reference=\"36-50\")) + usec', data = train, exposure = train.duree, family = sm.families.Poisson(link=sm.families.links.log())).fit()\n",
        "freq_glm2_fleetc = smf.glm('nbrtotc ~ C(AGEPH_cat_8,Treatment(reference=\"36-50\")) + fleetc', data = train, exposure = train.duree, family = sm.families.Poisson(link=sm.families.links.log())).fit()\n",
        "freq_glm2_sportc = smf.glm('nbrtotc ~ C(AGEPH_cat_8,Treatment(reference=\"36-50\")) + sportc', data = train, exposure = train.duree, family = sm.families.Poisson(link=sm.families.links.log())).fit()\n",
        "freq_glm2_coverp = smf.glm('nbrtotc ~ C(AGEPH_cat_8,Treatment(reference=\"36-50\")) + C(coverp,Treatment(reference=\"MTPL\"))', data = train, exposure = train.duree, family = sm.families.Poisson(link=sm.families.links.log())).fit()\n",
        "freq_glm2_powerc = smf.glm('nbrtotc ~ C(AGEPH_cat_8,Treatment(reference=\"36-50\")) + C(powerc,Treatment(reference=\"<66\"))', data = train, exposure = train.duree, family = sm.families.Poisson(link=sm.families.links.log())).fit()"
      ]
    },
    {
      "cell_type": "code",
      "execution_count": null,
      "metadata": {
        "colab": {
          "base_uri": "https://localhost:8080/"
        },
        "id": "_oQjr74CXoHt",
        "outputId": "cab95e70-488e-464b-d0d1-1edeada65ace"
      },
      "outputs": [
        {
          "output_type": "stream",
          "name": "stdout",
          "text": [
            "71077.59290485336\n",
            "\n",
            "71017.58237227166\n",
            "71077.57846809474\n",
            "71012.81523904632\n",
            "70709.49903408285\n",
            "71077.42771058442\n",
            "71067.92995461782\n",
            "71076.62718240649\n",
            "71056.60294429224\n",
            "71063.5675632619\n",
            "\n",
            "\n",
            "101361.73287217955\n",
            "\n",
            "101307.72233959785\n",
            "101363.71843542095\n",
            "101298.95520637253\n",
            "100999.63900140903\n",
            "101363.56767791061\n",
            "101354.069921944\n",
            "101362.76714973268\n",
            "101344.74291161842\n",
            "101351.70753058807\n"
          ]
        }
      ],
      "source": [
        "print(freq_glm1.deviance)\n",
        "print(\"\")\n",
        "print(freq_glm2_agecar.deviance)\n",
        "print(freq_glm2_sexp.deviance)\n",
        "print(freq_glm2_fuelc.deviance)\n",
        "print(freq_glm2_split.deviance)\n",
        "print(freq_glm2_usec.deviance)\n",
        "print(freq_glm2_fleetc.deviance)\n",
        "print(freq_glm2_sportc.deviance)\n",
        "print(freq_glm2_coverp.deviance)\n",
        "print(freq_glm2_powerc.deviance)\n",
        "print(\"\")\n",
        "print(\"\")\n",
        "print(freq_glm1.aic)\n",
        "print(\"\")\n",
        "print(freq_glm2_agecar.aic)\n",
        "print(freq_glm2_sexp.aic)\n",
        "print(freq_glm2_fuelc.aic)\n",
        "print(freq_glm2_split.aic)\n",
        "print(freq_glm2_usec.aic)\n",
        "print(freq_glm2_fleetc.aic)\n",
        "print(freq_glm2_sportc.aic)\n",
        "print(freq_glm2_coverp.aic)\n",
        "print(freq_glm2_powerc.aic)"
      ]
    },
    {
      "cell_type": "markdown",
      "metadata": {
        "id": "rc9AqCXiaN2d"
      },
      "source": [
        "Looking at the metrics, we decide to keep split as our second variable."
      ]
    },
    {
      "cell_type": "code",
      "execution_count": null,
      "metadata": {
        "colab": {
          "base_uri": "https://localhost:8080/"
        },
        "id": "w8b9MrV7aJaT",
        "outputId": "3a218052-6169-4741-f9ad-e3b780b26d45"
      },
      "outputs": [
        {
          "output_type": "stream",
          "name": "stdout",
          "text": [
            "                 Generalized Linear Model Regression Results                  \n",
            "==============================================================================\n",
            "Dep. Variable:                nbrtotc   No. Observations:               130925\n",
            "Model:                            GLM   Df Residuals:                   130914\n",
            "Model Family:                 Poisson   Df Model:                           10\n",
            "Link Function:                    log   Scale:                          1.0000\n",
            "Method:                          IRLS   Log-Likelihood:                -50489.\n",
            "Date:                Thu, 13 Jan 2022   Deviance:                       70709.\n",
            "Time:                        15:23:15   Pearson chi2:                 1.54e+05\n",
            "No. Iterations:                     6                                         \n",
            "Covariance Type:            nonrobust                                         \n",
            "=========================================================================================================================\n",
            "                                                            coef    std err          z      P>|z|      [0.025      0.975]\n",
            "-------------------------------------------------------------------------------------------------------------------------\n",
            "Intercept                                                -2.1310      0.017   -128.963      0.000      -2.163      -2.099\n",
            "C(AGEPH_cat_8, Treatment(reference=\"36-50\"))[T.17-22]     0.6922      0.052     13.391      0.000       0.591       0.794\n",
            "C(AGEPH_cat_8, Treatment(reference=\"36-50\"))[T.23-25]     0.5648      0.034     16.632      0.000       0.498       0.631\n",
            "C(AGEPH_cat_8, Treatment(reference=\"36-50\"))[T.26-30]     0.3295      0.025     12.969      0.000       0.280       0.379\n",
            "C(AGEPH_cat_8, Treatment(reference=\"36-50\"))[T.31-35]     0.0958      0.026      3.657      0.000       0.044       0.147\n",
            "C(AGEPH_cat_8, Treatment(reference=\"36-50\"))[T.51-55]    -0.0676      0.030     -2.276      0.023      -0.126      -0.009\n",
            "C(AGEPH_cat_8, Treatment(reference=\"36-50\"))[T.56-60]    -0.1664      0.034     -4.897      0.000      -0.233      -0.100\n",
            "C(AGEPH_cat_8, Treatment(reference=\"36-50\"))[T.>60]      -0.2620      0.024    -10.845      0.000      -0.309      -0.215\n",
            "C(split, Treatment(reference=\"Once\"))[T.Twice]            0.1733      0.019      9.253      0.000       0.137       0.210\n",
            "C(split, Treatment(reference=\"Once\"))[T.Thrice]           0.3965      0.027     14.675      0.000       0.344       0.449\n",
            "C(split, Treatment(reference=\"Once\"))[T.Monthly]          0.3733      0.024     15.755      0.000       0.327       0.420\n",
            "=========================================================================================================================\n"
          ]
        }
      ],
      "source": [
        "freq_glm2 = smf.glm('nbrtotc ~ C(AGEPH_cat_8,Treatment(reference=\"36-50\")) + C(split,Treatment(reference=\"Once\"))', data = train, exposure = train.duree, family = sm.families.Poisson(link=sm.families.links.log())).fit()\n",
        "print(freq_glm2.summary())"
      ]
    },
    {
      "cell_type": "markdown",
      "metadata": {
        "id": "XAABxUKhKNW1"
      },
      "source": [
        "There are no high p-values. Can we gather adjacent classes?"
      ]
    },
    {
      "cell_type": "code",
      "execution_count": null,
      "metadata": {
        "colab": {
          "base_uri": "https://localhost:8080/"
        },
        "id": "4k9Gs278KSee",
        "outputId": "a683bc27-cb73-409f-c1d7-15696e618eed"
      },
      "outputs": [
        {
          "output_type": "execute_result",
          "data": {
            "text/html": [
              "\n",
              "  <div id=\"df-183bb9bb-c375-4642-be02-cdc6e6adac9c\">\n",
              "    <div class=\"colab-df-container\">\n",
              "      <div>\n",
              "<style scoped>\n",
              "    .dataframe tbody tr th:only-of-type {\n",
              "        vertical-align: middle;\n",
              "    }\n",
              "\n",
              "    .dataframe tbody tr th {\n",
              "        vertical-align: top;\n",
              "    }\n",
              "\n",
              "    .dataframe thead th {\n",
              "        text-align: right;\n",
              "    }\n",
              "</style>\n",
              "<table border=\"1\" class=\"dataframe\">\n",
              "  <thead>\n",
              "    <tr style=\"text-align: right;\">\n",
              "      <th></th>\n",
              "      <th>Twice</th>\n",
              "      <th>Thrice</th>\n",
              "      <th>Monthly</th>\n",
              "    </tr>\n",
              "    <tr>\n",
              "      <th>split</th>\n",
              "      <th></th>\n",
              "      <th></th>\n",
              "      <th></th>\n",
              "    </tr>\n",
              "  </thead>\n",
              "  <tbody>\n",
              "    <tr>\n",
              "      <th>Twice</th>\n",
              "      <td>NaN</td>\n",
              "      <td>64.652</td>\n",
              "      <td>65.388</td>\n",
              "    </tr>\n",
              "    <tr>\n",
              "      <th>Thrice</th>\n",
              "      <td>64.652</td>\n",
              "      <td>NaN</td>\n",
              "      <td>0.544</td>\n",
              "    </tr>\n",
              "    <tr>\n",
              "      <th>Monthly</th>\n",
              "      <td>65.388</td>\n",
              "      <td>0.544</td>\n",
              "      <td>NaN</td>\n",
              "    </tr>\n",
              "  </tbody>\n",
              "</table>\n",
              "</div>\n",
              "      <button class=\"colab-df-convert\" onclick=\"convertToInteractive('df-183bb9bb-c375-4642-be02-cdc6e6adac9c')\"\n",
              "              title=\"Convert this dataframe to an interactive table.\"\n",
              "              style=\"display:none;\">\n",
              "        \n",
              "  <svg xmlns=\"http://www.w3.org/2000/svg\" height=\"24px\"viewBox=\"0 0 24 24\"\n",
              "       width=\"24px\">\n",
              "    <path d=\"M0 0h24v24H0V0z\" fill=\"none\"/>\n",
              "    <path d=\"M18.56 5.44l.94 2.06.94-2.06 2.06-.94-2.06-.94-.94-2.06-.94 2.06-2.06.94zm-11 1L8.5 8.5l.94-2.06 2.06-.94-2.06-.94L8.5 2.5l-.94 2.06-2.06.94zm10 10l.94 2.06.94-2.06 2.06-.94-2.06-.94-.94-2.06-.94 2.06-2.06.94z\"/><path d=\"M17.41 7.96l-1.37-1.37c-.4-.4-.92-.59-1.43-.59-.52 0-1.04.2-1.43.59L10.3 9.45l-7.72 7.72c-.78.78-.78 2.05 0 2.83L4 21.41c.39.39.9.59 1.41.59.51 0 1.02-.2 1.41-.59l7.78-7.78 2.81-2.81c.8-.78.8-2.07 0-2.86zM5.41 20L4 18.59l7.72-7.72 1.47 1.35L5.41 20z\"/>\n",
              "  </svg>\n",
              "      </button>\n",
              "      \n",
              "  <style>\n",
              "    .colab-df-container {\n",
              "      display:flex;\n",
              "      flex-wrap:wrap;\n",
              "      gap: 12px;\n",
              "    }\n",
              "\n",
              "    .colab-df-convert {\n",
              "      background-color: #E8F0FE;\n",
              "      border: none;\n",
              "      border-radius: 50%;\n",
              "      cursor: pointer;\n",
              "      display: none;\n",
              "      fill: #1967D2;\n",
              "      height: 32px;\n",
              "      padding: 0 0 0 0;\n",
              "      width: 32px;\n",
              "    }\n",
              "\n",
              "    .colab-df-convert:hover {\n",
              "      background-color: #E2EBFA;\n",
              "      box-shadow: 0px 1px 2px rgba(60, 64, 67, 0.3), 0px 1px 3px 1px rgba(60, 64, 67, 0.15);\n",
              "      fill: #174EA6;\n",
              "    }\n",
              "\n",
              "    [theme=dark] .colab-df-convert {\n",
              "      background-color: #3B4455;\n",
              "      fill: #D2E3FC;\n",
              "    }\n",
              "\n",
              "    [theme=dark] .colab-df-convert:hover {\n",
              "      background-color: #434B5C;\n",
              "      box-shadow: 0px 1px 3px 1px rgba(0, 0, 0, 0.15);\n",
              "      filter: drop-shadow(0px 1px 2px rgba(0, 0, 0, 0.3));\n",
              "      fill: #FFFFFF;\n",
              "    }\n",
              "  </style>\n",
              "\n",
              "      <script>\n",
              "        const buttonEl =\n",
              "          document.querySelector('#df-183bb9bb-c375-4642-be02-cdc6e6adac9c button.colab-df-convert');\n",
              "        buttonEl.style.display =\n",
              "          google.colab.kernel.accessAllowed ? 'block' : 'none';\n",
              "\n",
              "        async function convertToInteractive(key) {\n",
              "          const element = document.querySelector('#df-183bb9bb-c375-4642-be02-cdc6e6adac9c');\n",
              "          const dataTable =\n",
              "            await google.colab.kernel.invokeFunction('convertToInteractive',\n",
              "                                                     [key], {});\n",
              "          if (!dataTable) return;\n",
              "\n",
              "          const docLinkHtml = 'Like what you see? Visit the ' +\n",
              "            '<a target=\"_blank\" href=https://colab.research.google.com/notebooks/data_table.ipynb>data table notebook</a>'\n",
              "            + ' to learn more about interactive tables.';\n",
              "          element.innerHTML = '';\n",
              "          dataTable['output_type'] = 'display_data';\n",
              "          await google.colab.output.renderOutput(dataTable, element);\n",
              "          const docLink = document.createElement('div');\n",
              "          docLink.innerHTML = docLinkHtml;\n",
              "          element.appendChild(docLink);\n",
              "        }\n",
              "      </script>\n",
              "    </div>\n",
              "  </div>\n",
              "  "
            ],
            "text/plain": [
              "          Twice  Thrice  Monthly\n",
              "split                           \n",
              "Twice       NaN  64.652   65.388\n",
              "Thrice   64.652     NaN    0.544\n",
              "Monthly  65.388   0.544      NaN"
            ]
          },
          "metadata": {},
          "execution_count": 69
        }
      ],
      "source": [
        "wald_table=Wald_hypothesis(freq_glm2,'split')\n",
        "wald_table=pd.DataFrame(wald_table, \n",
        "             columns=['Twice',\n",
        "                      'Thrice', \n",
        "                      'Monthly'])\n",
        "wald_table['split']=['Twice',\n",
        "                      'Thrice', \n",
        "                      'Monthly']\n",
        "wald_table.set_index('split')"
      ]
    },
    {
      "cell_type": "markdown",
      "metadata": {
        "id": "dnjhpFnpLYOz"
      },
      "source": [
        "\n",
        "The smallest value is 0.544 for the classes Thrice & Monthly."
      ]
    },
    {
      "cell_type": "code",
      "execution_count": null,
      "metadata": {
        "colab": {
          "base_uri": "https://localhost:8080/"
        },
        "id": "aCyROkF7LXK4",
        "outputId": "383e1502-9b8a-4502-8c36-265fe9c6b4bb"
      },
      "outputs": [
        {
          "output_type": "stream",
          "name": "stdout",
          "text": [
            "Once       65119\n",
            "Twice      36807\n",
            "Monthly    18910\n",
            "Thrice     10089\n",
            "Name: split, dtype: int64\n",
            "\n",
            "Once              65119\n",
            "Twice             36807\n",
            "Thrice&Monthly    28999\n",
            "Name: split_2, dtype: int64\n",
            "Once       16360\n",
            "Twice       9154\n",
            "Monthly     4689\n",
            "Thrice      2529\n",
            "Name: split, dtype: int64\n",
            "\n",
            "Once              16360\n",
            "Twice              9154\n",
            "Thrice&Monthly     7218\n",
            "Name: split_2, dtype: int64\n",
            "Once       81479\n",
            "Twice      45961\n",
            "Monthly    23599\n",
            "Thrice     12618\n",
            "Name: split, dtype: int64\n",
            "\n",
            "Once              81479\n",
            "Twice             45961\n",
            "Thrice&Monthly    36217\n",
            "Name: split_2, dtype: int64\n"
          ]
        }
      ],
      "source": [
        "train['split_2']=train['split'].astype('object')\n",
        "train.loc[train['split'].isin([\"Thrice\",\"Monthly\"]),'split_2']=\"Thrice&Monthly\"\n",
        "train['split_2']=train['split_2'].astype('category')\n",
        "print(train.split.value_counts())\n",
        "print(\"\")\n",
        "print(train.split_2.value_counts())\n",
        "\n",
        "test['split_2']=test['split'].astype('object')\n",
        "test.loc[test['split'].isin([\"Thrice\",\"Monthly\"]),'split_2']=\"Thrice&Monthly\"\n",
        "test['split_2']=test['split_2'].astype('category')\n",
        "print(test.split.value_counts())\n",
        "print(\"\")\n",
        "print(test.split_2.value_counts())\n",
        "\n",
        "my_data['split_2']=my_data['split'].astype('object')\n",
        "my_data.loc[my_data['split'].isin([\"Thrice\",\"Monthly\"]),'split_2']=\"Thrice&Monthly\"\n",
        "my_data['split_2']=my_data['split_2'].astype('category')\n",
        "print(my_data.split.value_counts())\n",
        "print(\"\")\n",
        "print(my_data.split_2.value_counts())"
      ]
    },
    {
      "cell_type": "code",
      "execution_count": null,
      "metadata": {
        "colab": {
          "base_uri": "https://localhost:8080/"
        },
        "id": "VewU5UMMMqXd",
        "outputId": "1584a63d-4ebe-4e2a-9d84-d3e4e296c2fd"
      },
      "outputs": [
        {
          "output_type": "stream",
          "name": "stdout",
          "text": [
            "                 Generalized Linear Model Regression Results                  \n",
            "==============================================================================\n",
            "Dep. Variable:                nbrtotc   No. Observations:               130925\n",
            "Model:                            GLM   Df Residuals:                   130915\n",
            "Model Family:                 Poisson   Df Model:                            9\n",
            "Link Function:                    log   Scale:                          1.0000\n",
            "Method:                          IRLS   Log-Likelihood:                -50489.\n",
            "Date:                Thu, 13 Jan 2022   Deviance:                       70710.\n",
            "Time:                        15:23:16   Pearson chi2:                 1.54e+05\n",
            "No. Iterations:                     6                                         \n",
            "Covariance Type:            nonrobust                                         \n",
            "=============================================================================================================================\n",
            "                                                                coef    std err          z      P>|z|      [0.025      0.975]\n",
            "-----------------------------------------------------------------------------------------------------------------------------\n",
            "Intercept                                                    -2.1314      0.017   -129.069      0.000      -2.164      -2.099\n",
            "C(AGEPH_cat_8, Treatment(reference=\"36-50\"))[T.17-22]         0.6955      0.051     13.507      0.000       0.595       0.796\n",
            "C(AGEPH_cat_8, Treatment(reference=\"36-50\"))[T.23-25]         0.5672      0.034     16.783      0.000       0.501       0.633\n",
            "C(AGEPH_cat_8, Treatment(reference=\"36-50\"))[T.26-30]         0.3312      0.025     13.084      0.000       0.282       0.381\n",
            "C(AGEPH_cat_8, Treatment(reference=\"36-50\"))[T.31-35]         0.0962      0.026      3.675      0.000       0.045       0.148\n",
            "C(AGEPH_cat_8, Treatment(reference=\"36-50\"))[T.51-55]        -0.0678      0.030     -2.283      0.022      -0.126      -0.010\n",
            "C(AGEPH_cat_8, Treatment(reference=\"36-50\"))[T.56-60]        -0.1665      0.034     -4.898      0.000      -0.233      -0.100\n",
            "C(AGEPH_cat_8, Treatment(reference=\"36-50\"))[T.>60]          -0.2618      0.024    -10.836      0.000      -0.309      -0.214\n",
            "C(split_2, Treatment(reference=\"Once\"))[T.Thrice&Monthly]     0.3829      0.020     19.346      0.000       0.344       0.422\n",
            "C(split_2, Treatment(reference=\"Once\"))[T.Twice]              0.1732      0.019      9.247      0.000       0.136       0.210\n",
            "=============================================================================================================================\n"
          ]
        }
      ],
      "source": [
        "freq_glm2 = smf.glm('nbrtotc ~ C(AGEPH_cat_8,Treatment(reference=\"36-50\")) + C(split_2,Treatment(reference=\"Once\"))', data = train, exposure = train.duree, family = sm.families.Poisson(link=sm.families.links.log())).fit()\n",
        "print(freq_glm2.summary())"
      ]
    },
    {
      "cell_type": "code",
      "execution_count": null,
      "metadata": {
        "colab": {
          "base_uri": "https://localhost:8080/"
        },
        "id": "SwTTpzp6My7J",
        "outputId": "730465df-d4aa-4210-90f0-530b99663d61"
      },
      "outputs": [
        {
          "output_type": "execute_result",
          "data": {
            "text/html": [
              "\n",
              "  <div id=\"df-343a4309-e4d1-4be3-aa33-dd1b8c5ade4f\">\n",
              "    <div class=\"colab-df-container\">\n",
              "      <div>\n",
              "<style scoped>\n",
              "    .dataframe tbody tr th:only-of-type {\n",
              "        vertical-align: middle;\n",
              "    }\n",
              "\n",
              "    .dataframe tbody tr th {\n",
              "        vertical-align: top;\n",
              "    }\n",
              "\n",
              "    .dataframe thead th {\n",
              "        text-align: right;\n",
              "    }\n",
              "</style>\n",
              "<table border=\"1\" class=\"dataframe\">\n",
              "  <thead>\n",
              "    <tr style=\"text-align: right;\">\n",
              "      <th></th>\n",
              "      <th>Twice</th>\n",
              "      <th>Thrice&amp;Monthly</th>\n",
              "    </tr>\n",
              "    <tr>\n",
              "      <th>split_2</th>\n",
              "      <th></th>\n",
              "      <th></th>\n",
              "    </tr>\n",
              "  </thead>\n",
              "  <tbody>\n",
              "    <tr>\n",
              "      <th>Twice</th>\n",
              "      <td>NaN</td>\n",
              "      <td>100.383</td>\n",
              "    </tr>\n",
              "    <tr>\n",
              "      <th>Thrice&amp;Monthly</th>\n",
              "      <td>100.383</td>\n",
              "      <td>NaN</td>\n",
              "    </tr>\n",
              "  </tbody>\n",
              "</table>\n",
              "</div>\n",
              "      <button class=\"colab-df-convert\" onclick=\"convertToInteractive('df-343a4309-e4d1-4be3-aa33-dd1b8c5ade4f')\"\n",
              "              title=\"Convert this dataframe to an interactive table.\"\n",
              "              style=\"display:none;\">\n",
              "        \n",
              "  <svg xmlns=\"http://www.w3.org/2000/svg\" height=\"24px\"viewBox=\"0 0 24 24\"\n",
              "       width=\"24px\">\n",
              "    <path d=\"M0 0h24v24H0V0z\" fill=\"none\"/>\n",
              "    <path d=\"M18.56 5.44l.94 2.06.94-2.06 2.06-.94-2.06-.94-.94-2.06-.94 2.06-2.06.94zm-11 1L8.5 8.5l.94-2.06 2.06-.94-2.06-.94L8.5 2.5l-.94 2.06-2.06.94zm10 10l.94 2.06.94-2.06 2.06-.94-2.06-.94-.94-2.06-.94 2.06-2.06.94z\"/><path d=\"M17.41 7.96l-1.37-1.37c-.4-.4-.92-.59-1.43-.59-.52 0-1.04.2-1.43.59L10.3 9.45l-7.72 7.72c-.78.78-.78 2.05 0 2.83L4 21.41c.39.39.9.59 1.41.59.51 0 1.02-.2 1.41-.59l7.78-7.78 2.81-2.81c.8-.78.8-2.07 0-2.86zM5.41 20L4 18.59l7.72-7.72 1.47 1.35L5.41 20z\"/>\n",
              "  </svg>\n",
              "      </button>\n",
              "      \n",
              "  <style>\n",
              "    .colab-df-container {\n",
              "      display:flex;\n",
              "      flex-wrap:wrap;\n",
              "      gap: 12px;\n",
              "    }\n",
              "\n",
              "    .colab-df-convert {\n",
              "      background-color: #E8F0FE;\n",
              "      border: none;\n",
              "      border-radius: 50%;\n",
              "      cursor: pointer;\n",
              "      display: none;\n",
              "      fill: #1967D2;\n",
              "      height: 32px;\n",
              "      padding: 0 0 0 0;\n",
              "      width: 32px;\n",
              "    }\n",
              "\n",
              "    .colab-df-convert:hover {\n",
              "      background-color: #E2EBFA;\n",
              "      box-shadow: 0px 1px 2px rgba(60, 64, 67, 0.3), 0px 1px 3px 1px rgba(60, 64, 67, 0.15);\n",
              "      fill: #174EA6;\n",
              "    }\n",
              "\n",
              "    [theme=dark] .colab-df-convert {\n",
              "      background-color: #3B4455;\n",
              "      fill: #D2E3FC;\n",
              "    }\n",
              "\n",
              "    [theme=dark] .colab-df-convert:hover {\n",
              "      background-color: #434B5C;\n",
              "      box-shadow: 0px 1px 3px 1px rgba(0, 0, 0, 0.15);\n",
              "      filter: drop-shadow(0px 1px 2px rgba(0, 0, 0, 0.3));\n",
              "      fill: #FFFFFF;\n",
              "    }\n",
              "  </style>\n",
              "\n",
              "      <script>\n",
              "        const buttonEl =\n",
              "          document.querySelector('#df-343a4309-e4d1-4be3-aa33-dd1b8c5ade4f button.colab-df-convert');\n",
              "        buttonEl.style.display =\n",
              "          google.colab.kernel.accessAllowed ? 'block' : 'none';\n",
              "\n",
              "        async function convertToInteractive(key) {\n",
              "          const element = document.querySelector('#df-343a4309-e4d1-4be3-aa33-dd1b8c5ade4f');\n",
              "          const dataTable =\n",
              "            await google.colab.kernel.invokeFunction('convertToInteractive',\n",
              "                                                     [key], {});\n",
              "          if (!dataTable) return;\n",
              "\n",
              "          const docLinkHtml = 'Like what you see? Visit the ' +\n",
              "            '<a target=\"_blank\" href=https://colab.research.google.com/notebooks/data_table.ipynb>data table notebook</a>'\n",
              "            + ' to learn more about interactive tables.';\n",
              "          element.innerHTML = '';\n",
              "          dataTable['output_type'] = 'display_data';\n",
              "          await google.colab.output.renderOutput(dataTable, element);\n",
              "          const docLink = document.createElement('div');\n",
              "          docLink.innerHTML = docLinkHtml;\n",
              "          element.appendChild(docLink);\n",
              "        }\n",
              "      </script>\n",
              "    </div>\n",
              "  </div>\n",
              "  "
            ],
            "text/plain": [
              "                  Twice  Thrice&Monthly\n",
              "split_2                                \n",
              "Twice               NaN         100.383\n",
              "Thrice&Monthly  100.383             NaN"
            ]
          },
          "metadata": {},
          "execution_count": 72
        }
      ],
      "source": [
        "wald_table=Wald_hypothesis(freq_glm2,'split_2')\n",
        "wald_table=pd.DataFrame(wald_table, \n",
        "             columns=['Twice',\n",
        "                      'Thrice&Monthly'])\n",
        "wald_table['split_2']=['Twice',\n",
        "                      'Thrice&Monthly']\n",
        "wald_table.set_index('split_2')"
      ]
    },
    {
      "cell_type": "markdown",
      "metadata": {
        "id": "V1gDX1tSasii"
      },
      "source": [
        "**Adding a third variable**"
      ]
    },
    {
      "cell_type": "markdown",
      "metadata": {
        "id": "PnDktMtlnzyo"
      },
      "source": [
        "First we check for correlations."
      ]
    },
    {
      "cell_type": "code",
      "execution_count": null,
      "metadata": {
        "colab": {
          "base_uri": "https://localhost:8080/"
        },
        "id": "1T-f357Nn8oC",
        "outputId": "ba10263f-4516-4eb8-a21f-3f3c08a2b41d"
      },
      "outputs": [
        {
          "output_type": "stream",
          "name": "stdout",
          "text": [
            "0.05540681563519692\n",
            "0.042299213387141446\n",
            "0.036601795503296314\n",
            "0.0432638533212359\n",
            "0.07215995140653393\n",
            "0.01432930361172999\n",
            "0.090242638118512\n",
            "0.04642014584372069\n"
          ]
        }
      ],
      "source": [
        "confusion_matrix=pd.crosstab(my_data[\"split_2\"], my_data[\"agecar\"])\n",
        "print(cramers_v(confusion_matrix.values))\n",
        "\n",
        "confusion_matrix=pd.crosstab(my_data[\"split_2\"], my_data[\"sexp\"])\n",
        "print(cramers_v(confusion_matrix.values))\n",
        "\n",
        "confusion_matrix=pd.crosstab(my_data[\"split_2\"], my_data[\"fuelc\"])\n",
        "print(cramers_v(confusion_matrix.values))\n",
        "\n",
        "confusion_matrix=pd.crosstab(my_data[\"split_2\"], my_data[\"usec\"])\n",
        "print(cramers_v(confusion_matrix.values))\n",
        "\n",
        "confusion_matrix=pd.crosstab(my_data[\"split_2\"], my_data[\"fleetc\"])\n",
        "print(cramers_v(confusion_matrix.values))\n",
        "\n",
        "confusion_matrix=pd.crosstab(my_data[\"split_2\"], my_data[\"sportc\"])\n",
        "print(cramers_v(confusion_matrix.values))\n",
        "\n",
        "confusion_matrix=pd.crosstab(my_data[\"split_2\"], my_data[\"coverp\"])\n",
        "print(cramers_v(confusion_matrix.values))\n",
        "\n",
        "confusion_matrix=pd.crosstab(my_data[\"split_2\"], my_data[\"powerc\"])\n",
        "print(cramers_v(confusion_matrix.values))"
      ]
    },
    {
      "cell_type": "code",
      "execution_count": null,
      "metadata": {
        "id": "W17i5wJeavtd"
      },
      "outputs": [],
      "source": [
        "freq_glm3_agecar = smf.glm('nbrtotc ~ C(AGEPH_cat_8,Treatment(reference=\"36-50\")) + C(split_2,Treatment(reference=\"Once\")) + C(agecar,Treatment(reference=\"6-10\"))', data = train, exposure = train.duree, family = sm.families.Poisson(link=sm.families.links.log())).fit()\n",
        "freq_glm3_sexp = smf.glm('nbrtotc ~ C(AGEPH_cat_8,Treatment(reference=\"36-50\")) + C(split_2,Treatment(reference=\"Once\")) + sexp', data = train, exposure = train.duree, family = sm.families.Poisson(link=sm.families.links.log())).fit()\n",
        "freq_glm3_fuelc = smf.glm('nbrtotc ~ C(AGEPH_cat_8,Treatment(reference=\"36-50\")) + C(split_2,Treatment(reference=\"Once\")) + fuelc', data = train, exposure = train.duree, family = sm.families.Poisson(link=sm.families.links.log())).fit()\n",
        "freq_glm3_usec = smf.glm('nbrtotc ~ C(AGEPH_cat_8,Treatment(reference=\"36-50\")) + C(split_2,Treatment(reference=\"Once\")) + usec', data = train, exposure = train.duree, family = sm.families.Poisson(link=sm.families.links.log())).fit()\n",
        "freq_glm3_fleetc = smf.glm('nbrtotc ~ C(AGEPH_cat_8,Treatment(reference=\"36-50\")) + C(split_2,Treatment(reference=\"Once\")) + fleetc', data = train, exposure = train.duree, family = sm.families.Poisson(link=sm.families.links.log())).fit()\n",
        "freq_glm3_sportc = smf.glm('nbrtotc ~ C(AGEPH_cat_8,Treatment(reference=\"36-50\")) + C(split_2,Treatment(reference=\"Once\")) + sportc', data = train, exposure = train.duree, family = sm.families.Poisson(link=sm.families.links.log())).fit()\n",
        "freq_glm3_coverp = smf.glm('nbrtotc ~ C(AGEPH_cat_8,Treatment(reference=\"36-50\")) + C(split_2,Treatment(reference=\"Once\")) + C(coverp,Treatment(reference=\"MTPL\"))', data = train, exposure = train.duree, family = sm.families.Poisson(link=sm.families.links.log())).fit()\n",
        "freq_glm3_powerc = smf.glm('nbrtotc ~ C(AGEPH_cat_8,Treatment(reference=\"36-50\")) + C(split_2,Treatment(reference=\"Once\")) + C(powerc,Treatment(reference=\"<66\"))', data = train, exposure = train.duree, family = sm.families.Poisson(link=sm.families.links.log())).fit()"
      ]
    },
    {
      "cell_type": "code",
      "execution_count": null,
      "metadata": {
        "colab": {
          "base_uri": "https://localhost:8080/"
        },
        "id": "L1pDHtQobDn0",
        "outputId": "a2585e0b-bfe3-4da5-faab-44825c715cb2"
      },
      "outputs": [
        {
          "output_type": "stream",
          "name": "stdout",
          "text": [
            "70710.04267123943\n",
            "\n",
            "70653.04638684492\n",
            "70710.03886693636\n",
            "70646.51324842742\n",
            "70709.47177150959\n",
            "70706.05271157307\n",
            "70708.54879349141\n",
            "70671.67345542471\n",
            "70697.50370736945\n",
            "\n",
            "\n",
            "100998.18263856563\n",
            "\n",
            "100947.1863541711\n",
            "101000.17883426257\n",
            "100936.6532157536\n",
            "100999.61173883578\n",
            "100996.19267889926\n",
            "100998.6887608176\n",
            "100963.81342275089\n",
            "100989.64367469565\n"
          ]
        }
      ],
      "source": [
        "print(freq_glm2.deviance)\n",
        "print(\"\")\n",
        "print(freq_glm3_agecar.deviance)\n",
        "print(freq_glm3_sexp.deviance)\n",
        "print(freq_glm3_fuelc.deviance)\n",
        "print(freq_glm3_usec.deviance)\n",
        "print(freq_glm3_fleetc.deviance)\n",
        "print(freq_glm3_sportc.deviance)\n",
        "print(freq_glm3_coverp.deviance)\n",
        "print(freq_glm3_powerc.deviance)\n",
        "print(\"\")\n",
        "print(\"\")\n",
        "print(freq_glm2.aic)\n",
        "print(\"\")\n",
        "print(freq_glm3_agecar.aic)\n",
        "print(freq_glm3_sexp.aic)\n",
        "print(freq_glm3_fuelc.aic)\n",
        "print(freq_glm3_usec.aic)\n",
        "print(freq_glm3_fleetc.aic)\n",
        "print(freq_glm3_sportc.aic)\n",
        "print(freq_glm3_coverp.aic)\n",
        "print(freq_glm3_powerc.aic)"
      ]
    },
    {
      "cell_type": "markdown",
      "metadata": {
        "id": "c7pmKqDScHsi"
      },
      "source": [
        "Looking at the metrics, we decide to keep fuelc as third variable."
      ]
    },
    {
      "cell_type": "code",
      "execution_count": null,
      "metadata": {
        "colab": {
          "base_uri": "https://localhost:8080/"
        },
        "id": "vnLCUxGecctZ",
        "outputId": "c89517b0-61fa-4d00-c3f6-5e3434fb3d31"
      },
      "outputs": [
        {
          "output_type": "stream",
          "name": "stdout",
          "text": [
            "                 Generalized Linear Model Regression Results                  \n",
            "==============================================================================\n",
            "Dep. Variable:                nbrtotc   No. Observations:               130925\n",
            "Model:                            GLM   Df Residuals:                   130914\n",
            "Model Family:                 Poisson   Df Model:                           10\n",
            "Link Function:                    log   Scale:                          1.0000\n",
            "Method:                          IRLS   Log-Likelihood:                -50457.\n",
            "Date:                Thu, 13 Jan 2022   Deviance:                       70647.\n",
            "Time:                        15:23:27   Pearson chi2:                 1.54e+05\n",
            "No. Iterations:                     6                                         \n",
            "Covariance Type:            nonrobust                                         \n",
            "=============================================================================================================================\n",
            "                                                                coef    std err          z      P>|z|      [0.025      0.975]\n",
            "-----------------------------------------------------------------------------------------------------------------------------\n",
            "Intercept                                                    -2.0467      0.019   -105.152      0.000      -2.085      -2.009\n",
            "C(AGEPH_cat_8, Treatment(reference=\"36-50\"))[T.17-22]         0.7077      0.052     13.737      0.000       0.607       0.809\n",
            "C(AGEPH_cat_8, Treatment(reference=\"36-50\"))[T.23-25]         0.5713      0.034     16.901      0.000       0.505       0.638\n",
            "C(AGEPH_cat_8, Treatment(reference=\"36-50\"))[T.26-30]         0.3314      0.025     13.095      0.000       0.282       0.381\n",
            "C(AGEPH_cat_8, Treatment(reference=\"36-50\"))[T.31-35]         0.0950      0.026      3.627      0.000       0.044       0.146\n",
            "C(AGEPH_cat_8, Treatment(reference=\"36-50\"))[T.51-55]        -0.0653      0.030     -2.198      0.028      -0.124      -0.007\n",
            "C(AGEPH_cat_8, Treatment(reference=\"36-50\"))[T.56-60]        -0.1601      0.034     -4.707      0.000      -0.227      -0.093\n",
            "C(AGEPH_cat_8, Treatment(reference=\"36-50\"))[T.>60]          -0.2382      0.024     -9.786      0.000      -0.286      -0.191\n",
            "C(split_2, Treatment(reference=\"Once\"))[T.Thrice&Monthly]     0.3819      0.020     19.301      0.000       0.343       0.421\n",
            "C(split_2, Treatment(reference=\"Once\"))[T.Twice]              0.1743      0.019      9.303      0.000       0.138       0.211\n",
            "fuelc[T.Petrol]                                              -0.1338      0.017     -8.025      0.000      -0.166      -0.101\n",
            "=============================================================================================================================\n"
          ]
        }
      ],
      "source": [
        "freq_glm3 = smf.glm('nbrtotc ~ C(AGEPH_cat_8,Treatment(reference=\"36-50\")) + C(split_2,Treatment(reference=\"Once\")) + fuelc', data = train, exposure = train.duree, family = sm.families.Poisson(link=sm.families.links.log())).fit()\n",
        "print(freq_glm3.summary())"
      ]
    },
    {
      "cell_type": "markdown",
      "metadata": {
        "id": "5-BabXEfcX8f"
      },
      "source": [
        "**Adding a fourth variable**"
      ]
    },
    {
      "cell_type": "markdown",
      "metadata": {
        "id": "O07_ZmaBoZaS"
      },
      "source": [
        "Again we first check for correlations."
      ]
    },
    {
      "cell_type": "code",
      "execution_count": null,
      "metadata": {
        "colab": {
          "base_uri": "https://localhost:8080/"
        },
        "id": "7J7B9mIhocav",
        "outputId": "7c410cbe-361b-4f23-8ae3-6107247a8e2f"
      },
      "outputs": [
        {
          "output_type": "stream",
          "name": "stdout",
          "text": [
            "0.12931807654121877\n",
            "0.10301069238592292\n",
            "0.06522834802661102\n",
            "0.008239456450521938\n",
            "0.06199188702706279\n",
            "0.09479126458581057\n",
            "0.1004212633394528\n"
          ]
        }
      ],
      "source": [
        "confusion_matrix=pd.crosstab(my_data[\"fuelc\"], my_data[\"agecar\"])\n",
        "print(cramers_v(confusion_matrix.values))\n",
        "\n",
        "confusion_matrix=pd.crosstab(my_data[\"fuelc\"], my_data[\"sexp\"])\n",
        "print(cramers_v(confusion_matrix.values))\n",
        "\n",
        "confusion_matrix=pd.crosstab(my_data[\"fuelc\"], my_data[\"usec\"])\n",
        "print(cramers_v(confusion_matrix.values))\n",
        "\n",
        "confusion_matrix=pd.crosstab(my_data[\"fuelc\"], my_data[\"fleetc\"])\n",
        "print(cramers_v(confusion_matrix.values))\n",
        "\n",
        "confusion_matrix=pd.crosstab(my_data[\"fuelc\"], my_data[\"sportc\"])\n",
        "print(cramers_v(confusion_matrix.values))\n",
        "\n",
        "confusion_matrix=pd.crosstab(my_data[\"fuelc\"], my_data[\"coverp\"])\n",
        "print(cramers_v(confusion_matrix.values))\n",
        "\n",
        "confusion_matrix=pd.crosstab(my_data[\"fuelc\"], my_data[\"powerc\"])\n",
        "print(cramers_v(confusion_matrix.values))"
      ]
    },
    {
      "cell_type": "code",
      "execution_count": null,
      "metadata": {
        "id": "Zhk07sQ2cs0l"
      },
      "outputs": [],
      "source": [
        "freq_glm4_agecar = smf.glm('nbrtotc ~ C(AGEPH_cat_8,Treatment(reference=\"36-50\")) + C(split_2,Treatment(reference=\"Once\")) + fuelc + C(agecar,Treatment(reference=\"6-10\"))', data = train, exposure = train.duree, family = sm.families.Poisson(link=sm.families.links.log())).fit()\n",
        "freq_glm4_sexp = smf.glm('nbrtotc ~ C(AGEPH_cat_8,Treatment(reference=\"36-50\")) + C(split_2,Treatment(reference=\"Once\")) + fuelc + sexp', data = train, exposure = train.duree, family = sm.families.Poisson(link=sm.families.links.log())).fit()\n",
        "freq_glm4_usec = smf.glm('nbrtotc ~ C(AGEPH_cat_8,Treatment(reference=\"36-50\")) + C(split_2,Treatment(reference=\"Once\")) + fuelc + usec', data = train, exposure = train.duree, family = sm.families.Poisson(link=sm.families.links.log())).fit()\n",
        "freq_glm4_fleetc = smf.glm('nbrtotc ~ C(AGEPH_cat_8,Treatment(reference=\"36-50\")) + C(split_2,Treatment(reference=\"Once\")) + fuelc + fleetc', data = train, exposure = train.duree, family = sm.families.Poisson(link=sm.families.links.log())).fit()\n",
        "freq_glm4_sportc = smf.glm('nbrtotc ~ C(AGEPH_cat_8,Treatment(reference=\"36-50\")) + C(split_2,Treatment(reference=\"Once\")) + fuelc + sportc', data = train, exposure = train.duree, family = sm.families.Poisson(link=sm.families.links.log())).fit()\n",
        "freq_glm4_coverp = smf.glm('nbrtotc ~ C(AGEPH_cat_8,Treatment(reference=\"36-50\")) + C(split_2,Treatment(reference=\"Once\")) + fuelc + C(coverp,Treatment(reference=\"MTPL\"))', data = train, exposure = train.duree, family = sm.families.Poisson(link=sm.families.links.log())).fit()\n",
        "freq_glm4_powerc = smf.glm('nbrtotc ~ C(AGEPH_cat_8,Treatment(reference=\"36-50\")) + C(split_2,Treatment(reference=\"Once\")) + fuelc + C(powerc,Treatment(reference=\"<66\"))', data = train, exposure = train.duree, family = sm.families.Poisson(link=sm.families.links.log())).fit()"
      ]
    },
    {
      "cell_type": "code",
      "execution_count": null,
      "metadata": {
        "colab": {
          "base_uri": "https://localhost:8080/"
        },
        "id": "uVnJHfiDctJk",
        "outputId": "86296ec0-cffe-40ac-c486-4c8f6816464d"
      },
      "outputs": [
        {
          "output_type": "stream",
          "name": "stdout",
          "text": [
            "70646.51324842742\n",
            "\n",
            "70583.73917697003\n",
            "70645.5900208479\n",
            "70646.45864364895\n",
            "70642.47297884228\n",
            "70643.2800035869\n",
            "70600.6657996299\n",
            "70626.5648661596\n",
            "\n",
            "\n",
            "100936.6532157536\n",
            "\n",
            "100879.8791442962\n",
            "100937.7299881741\n",
            "100938.59861097515\n",
            "100934.61294616846\n",
            "100935.4199709131\n",
            "100894.80576695608\n",
            "100920.70483348578\n"
          ]
        }
      ],
      "source": [
        "print(freq_glm3.deviance)\n",
        "print(\"\")\n",
        "print(freq_glm4_agecar.deviance)\n",
        "print(freq_glm4_sexp.deviance)\n",
        "print(freq_glm4_usec.deviance)\n",
        "print(freq_glm4_fleetc.deviance)\n",
        "print(freq_glm4_sportc.deviance)\n",
        "print(freq_glm4_coverp.deviance)\n",
        "print(freq_glm4_powerc.deviance)\n",
        "print(\"\")\n",
        "print(\"\")\n",
        "print(freq_glm3.aic)\n",
        "print(\"\")\n",
        "print(freq_glm4_agecar.aic)\n",
        "print(freq_glm4_sexp.aic)\n",
        "print(freq_glm4_usec.aic)\n",
        "print(freq_glm4_fleetc.aic)\n",
        "print(freq_glm4_sportc.aic)\n",
        "print(freq_glm4_coverp.aic)\n",
        "print(freq_glm4_powerc.aic)"
      ]
    },
    {
      "cell_type": "markdown",
      "metadata": {
        "id": "dAsHEzAide1B"
      },
      "source": [
        "Looking at the metrics, we decide to keep agecar as forth variable."
      ]
    },
    {
      "cell_type": "code",
      "execution_count": null,
      "metadata": {
        "colab": {
          "base_uri": "https://localhost:8080/"
        },
        "id": "WyxWA6SUd6X6",
        "outputId": "64839836-ff7d-46a0-a89b-861183c50f3a"
      },
      "outputs": [
        {
          "output_type": "stream",
          "name": "stdout",
          "text": [
            "                 Generalized Linear Model Regression Results                  \n",
            "==============================================================================\n",
            "Dep. Variable:                nbrtotc   No. Observations:               130925\n",
            "Model:                            GLM   Df Residuals:                   130911\n",
            "Model Family:                 Poisson   Df Model:                           13\n",
            "Link Function:                    log   Scale:                          1.0000\n",
            "Method:                          IRLS   Log-Likelihood:                -50426.\n",
            "Date:                Thu, 13 Jan 2022   Deviance:                       70584.\n",
            "Time:                        15:23:37   Pearson chi2:                 1.54e+05\n",
            "No. Iterations:                     6                                         \n",
            "Covariance Type:            nonrobust                                         \n",
            "=============================================================================================================================\n",
            "                                                                coef    std err          z      P>|z|      [0.025      0.975]\n",
            "-----------------------------------------------------------------------------------------------------------------------------\n",
            "Intercept                                                    -2.0226      0.022    -93.507      0.000      -2.065      -1.980\n",
            "C(AGEPH_cat_8, Treatment(reference=\"36-50\"))[T.17-22]         0.6968      0.052     13.516      0.000       0.596       0.798\n",
            "C(AGEPH_cat_8, Treatment(reference=\"36-50\"))[T.23-25]         0.5712      0.034     16.898      0.000       0.505       0.637\n",
            "C(AGEPH_cat_8, Treatment(reference=\"36-50\"))[T.26-30]         0.3330      0.025     13.155      0.000       0.283       0.383\n",
            "C(AGEPH_cat_8, Treatment(reference=\"36-50\"))[T.31-35]         0.0944      0.026      3.605      0.000       0.043       0.146\n",
            "C(AGEPH_cat_8, Treatment(reference=\"36-50\"))[T.51-55]        -0.0638      0.030     -2.149      0.032      -0.122      -0.006\n",
            "C(AGEPH_cat_8, Treatment(reference=\"36-50\"))[T.56-60]        -0.1584      0.034     -4.658      0.000      -0.225      -0.092\n",
            "C(AGEPH_cat_8, Treatment(reference=\"36-50\"))[T.>60]          -0.2390      0.024     -9.813      0.000      -0.287      -0.191\n",
            "C(split_2, Treatment(reference=\"Once\"))[T.Thrice&Monthly]     0.3817      0.020     19.256      0.000       0.343       0.421\n",
            "C(split_2, Treatment(reference=\"Once\"))[T.Twice]              0.1695      0.019      9.041      0.000       0.133       0.206\n",
            "fuelc[T.Petrol]                                              -0.1410      0.017     -8.384      0.000      -0.174      -0.108\n",
            "C(agecar, Treatment(reference=\"6-10\"))[T.0-1]                 0.1496      0.035      4.216      0.000       0.080       0.219\n",
            "C(agecar, Treatment(reference=\"6-10\"))[T.2-5]                -0.0976      0.019     -5.160      0.000      -0.135      -0.061\n",
            "C(agecar, Treatment(reference=\"6-10\"))[T.>10]                 0.0209      0.020      1.021      0.307      -0.019       0.061\n",
            "=============================================================================================================================\n"
          ]
        }
      ],
      "source": [
        "freq_glm4 = smf.glm('nbrtotc ~ C(AGEPH_cat_8,Treatment(reference=\"36-50\")) + C(split_2,Treatment(reference=\"Once\")) + fuelc + C(agecar,Treatment(reference=\"6-10\"))', data = train, exposure = train.duree, family = sm.families.Poisson(link=sm.families.links.log())).fit()\n",
        "print(freq_glm4.summary())"
      ]
    },
    {
      "cell_type": "markdown",
      "metadata": {
        "id": "ey_uCQUGOOxe"
      },
      "source": [
        "As the p-value for the class agecar > 10 is high and the class agecar > 10 is adjacent to the reference class, we decide to gather these two classes."
      ]
    },
    {
      "cell_type": "code",
      "execution_count": null,
      "metadata": {
        "colab": {
          "base_uri": "https://localhost:8080/"
        },
        "id": "uBx3_Ga1OblL",
        "outputId": "3d630415-71d9-4a0a-cab7-c0549739f4e5"
      },
      "outputs": [
        {
          "output_type": "stream",
          "name": "stdout",
          "text": [
            "6-10    53869\n",
            "2-5     41194\n",
            ">10     29634\n",
            "0-1      6228\n",
            "Name: agecar, dtype: int64\n",
            "\n",
            ">5     83503\n",
            "2-5    41194\n",
            "0-1     6228\n",
            "Name: agecar_2, dtype: int64\n",
            "6-10    13282\n",
            "2-5     10365\n",
            ">10      7547\n",
            "0-1      1538\n",
            "Name: agecar, dtype: int64\n",
            "\n",
            ">5     20829\n",
            "2-5    10365\n",
            "0-1     1538\n",
            "Name: agecar_2, dtype: int64\n",
            "6-10    67151\n",
            "2-5     51559\n",
            ">10     37181\n",
            "0-1      7766\n",
            "Name: agecar, dtype: int64\n",
            "\n",
            ">5     104332\n",
            "2-5     51559\n",
            "0-1      7766\n",
            "Name: agecar_2, dtype: int64\n"
          ]
        }
      ],
      "source": [
        "train['agecar_2']=train['agecar'].astype('object')\n",
        "train.loc[train['agecar'].isin([\"6-10\",\">10\"]),'agecar_2']=\">5\"\n",
        "train['agecar_2']=train['agecar_2'].astype('category')\n",
        "print(train.agecar.value_counts())\n",
        "print(\"\")\n",
        "print(train.agecar_2.value_counts())\n",
        "\n",
        "test['agecar_2']=test['agecar'].astype('object')\n",
        "test.loc[test['agecar'].isin([\"6-10\",\">10\"]),'agecar_2']=\">5\"\n",
        "test['agecar_2']=test['agecar_2'].astype('category')\n",
        "print(test.agecar.value_counts())\n",
        "print(\"\")\n",
        "print(test.agecar_2.value_counts())\n",
        "\n",
        "my_data['agecar_2']=my_data['agecar'].astype('object')\n",
        "my_data.loc[my_data['agecar'].isin([\"6-10\",\">10\"]),'agecar_2']=\">5\"\n",
        "my_data['agecar_2']=my_data['agecar_2'].astype('category')\n",
        "print(my_data.agecar.value_counts())\n",
        "print(\"\")\n",
        "print(my_data.agecar_2.value_counts())"
      ]
    },
    {
      "cell_type": "code",
      "execution_count": null,
      "metadata": {
        "colab": {
          "base_uri": "https://localhost:8080/"
        },
        "id": "S2hEL1_HPU8c",
        "outputId": "d3df51c5-6acc-4684-ac40-0f159312e138"
      },
      "outputs": [
        {
          "output_type": "stream",
          "name": "stdout",
          "text": [
            "                 Generalized Linear Model Regression Results                  \n",
            "==============================================================================\n",
            "Dep. Variable:                nbrtotc   No. Observations:               130925\n",
            "Model:                            GLM   Df Residuals:                   130912\n",
            "Model Family:                 Poisson   Df Model:                           12\n",
            "Link Function:                    log   Scale:                          1.0000\n",
            "Method:                          IRLS   Log-Likelihood:                -50426.\n",
            "Date:                Thu, 13 Jan 2022   Deviance:                       70585.\n",
            "Time:                        15:23:39   Pearson chi2:                 1.54e+05\n",
            "No. Iterations:                     6                                         \n",
            "Covariance Type:            nonrobust                                         \n",
            "=============================================================================================================================\n",
            "                                                                coef    std err          z      P>|z|      [0.025      0.975]\n",
            "-----------------------------------------------------------------------------------------------------------------------------\n",
            "Intercept                                                    -2.0165      0.021    -97.125      0.000      -2.057      -1.976\n",
            "C(AGEPH_cat_8, Treatment(reference=\"36-50\"))[T.17-22]         0.6983      0.052     13.550      0.000       0.597       0.799\n",
            "C(AGEPH_cat_8, Treatment(reference=\"36-50\"))[T.23-25]         0.5714      0.034     16.905      0.000       0.505       0.638\n",
            "C(AGEPH_cat_8, Treatment(reference=\"36-50\"))[T.26-30]         0.3329      0.025     13.155      0.000       0.283       0.383\n",
            "C(AGEPH_cat_8, Treatment(reference=\"36-50\"))[T.31-35]         0.0943      0.026      3.603      0.000       0.043       0.146\n",
            "C(AGEPH_cat_8, Treatment(reference=\"36-50\"))[T.51-55]        -0.0638      0.030     -2.148      0.032      -0.122      -0.006\n",
            "C(AGEPH_cat_8, Treatment(reference=\"36-50\"))[T.56-60]        -0.1584      0.034     -4.657      0.000      -0.225      -0.092\n",
            "C(AGEPH_cat_8, Treatment(reference=\"36-50\"))[T.>60]          -0.2383      0.024     -9.789      0.000      -0.286      -0.191\n",
            "C(split_2, Treatment(reference=\"Once\"))[T.Thrice&Monthly]     0.3825      0.020     19.318      0.000       0.344       0.421\n",
            "C(split_2, Treatment(reference=\"Once\"))[T.Twice]              0.1701      0.019      9.077      0.000       0.133       0.207\n",
            "fuelc[T.Petrol]                                              -0.1401      0.017     -8.344      0.000      -0.173      -0.107\n",
            "C(agecar_2, Treatment(reference=\">5\"))[T.0-1]                 0.1424      0.035      4.096      0.000       0.074       0.211\n",
            "C(agecar_2, Treatment(reference=\">5\"))[T.2-5]                -0.1048      0.018     -5.975      0.000      -0.139      -0.070\n",
            "=============================================================================================================================\n"
          ]
        }
      ],
      "source": [
        "freq_glm4 = smf.glm('nbrtotc ~ C(AGEPH_cat_8,Treatment(reference=\"36-50\")) + C(split_2,Treatment(reference=\"Once\")) + fuelc + C(agecar_2,Treatment(reference=\">5\"))', data = train, exposure = train.duree, family = sm.families.Poisson(link=sm.families.links.log())).fit()\n",
        "print(freq_glm4.summary())"
      ]
    },
    {
      "cell_type": "markdown",
      "metadata": {
        "id": "COR2amAFPgyO"
      },
      "source": [
        "Can we gather other adjacent classes?"
      ]
    },
    {
      "cell_type": "code",
      "execution_count": null,
      "metadata": {
        "colab": {
          "base_uri": "https://localhost:8080/"
        },
        "id": "GgWc31WePkWu",
        "outputId": "51f538a9-110d-4240-bc1e-ef5bb25557e2"
      },
      "outputs": [
        {
          "output_type": "execute_result",
          "data": {
            "text/html": [
              "\n",
              "  <div id=\"df-5026b9ba-e9d5-4776-8d27-68854cbe5b65\">\n",
              "    <div class=\"colab-df-container\">\n",
              "      <div>\n",
              "<style scoped>\n",
              "    .dataframe tbody tr th:only-of-type {\n",
              "        vertical-align: middle;\n",
              "    }\n",
              "\n",
              "    .dataframe tbody tr th {\n",
              "        vertical-align: top;\n",
              "    }\n",
              "\n",
              "    .dataframe thead th {\n",
              "        text-align: right;\n",
              "    }\n",
              "</style>\n",
              "<table border=\"1\" class=\"dataframe\">\n",
              "  <thead>\n",
              "    <tr style=\"text-align: right;\">\n",
              "      <th></th>\n",
              "      <th>0-1</th>\n",
              "      <th>2-5</th>\n",
              "    </tr>\n",
              "    <tr>\n",
              "      <th>agecar_2</th>\n",
              "      <th></th>\n",
              "      <th></th>\n",
              "    </tr>\n",
              "  </thead>\n",
              "  <tbody>\n",
              "    <tr>\n",
              "      <th>0-1</th>\n",
              "      <td>NaN</td>\n",
              "      <td>46.49</td>\n",
              "    </tr>\n",
              "    <tr>\n",
              "      <th>2-5</th>\n",
              "      <td>46.49</td>\n",
              "      <td>NaN</td>\n",
              "    </tr>\n",
              "  </tbody>\n",
              "</table>\n",
              "</div>\n",
              "      <button class=\"colab-df-convert\" onclick=\"convertToInteractive('df-5026b9ba-e9d5-4776-8d27-68854cbe5b65')\"\n",
              "              title=\"Convert this dataframe to an interactive table.\"\n",
              "              style=\"display:none;\">\n",
              "        \n",
              "  <svg xmlns=\"http://www.w3.org/2000/svg\" height=\"24px\"viewBox=\"0 0 24 24\"\n",
              "       width=\"24px\">\n",
              "    <path d=\"M0 0h24v24H0V0z\" fill=\"none\"/>\n",
              "    <path d=\"M18.56 5.44l.94 2.06.94-2.06 2.06-.94-2.06-.94-.94-2.06-.94 2.06-2.06.94zm-11 1L8.5 8.5l.94-2.06 2.06-.94-2.06-.94L8.5 2.5l-.94 2.06-2.06.94zm10 10l.94 2.06.94-2.06 2.06-.94-2.06-.94-.94-2.06-.94 2.06-2.06.94z\"/><path d=\"M17.41 7.96l-1.37-1.37c-.4-.4-.92-.59-1.43-.59-.52 0-1.04.2-1.43.59L10.3 9.45l-7.72 7.72c-.78.78-.78 2.05 0 2.83L4 21.41c.39.39.9.59 1.41.59.51 0 1.02-.2 1.41-.59l7.78-7.78 2.81-2.81c.8-.78.8-2.07 0-2.86zM5.41 20L4 18.59l7.72-7.72 1.47 1.35L5.41 20z\"/>\n",
              "  </svg>\n",
              "      </button>\n",
              "      \n",
              "  <style>\n",
              "    .colab-df-container {\n",
              "      display:flex;\n",
              "      flex-wrap:wrap;\n",
              "      gap: 12px;\n",
              "    }\n",
              "\n",
              "    .colab-df-convert {\n",
              "      background-color: #E8F0FE;\n",
              "      border: none;\n",
              "      border-radius: 50%;\n",
              "      cursor: pointer;\n",
              "      display: none;\n",
              "      fill: #1967D2;\n",
              "      height: 32px;\n",
              "      padding: 0 0 0 0;\n",
              "      width: 32px;\n",
              "    }\n",
              "\n",
              "    .colab-df-convert:hover {\n",
              "      background-color: #E2EBFA;\n",
              "      box-shadow: 0px 1px 2px rgba(60, 64, 67, 0.3), 0px 1px 3px 1px rgba(60, 64, 67, 0.15);\n",
              "      fill: #174EA6;\n",
              "    }\n",
              "\n",
              "    [theme=dark] .colab-df-convert {\n",
              "      background-color: #3B4455;\n",
              "      fill: #D2E3FC;\n",
              "    }\n",
              "\n",
              "    [theme=dark] .colab-df-convert:hover {\n",
              "      background-color: #434B5C;\n",
              "      box-shadow: 0px 1px 3px 1px rgba(0, 0, 0, 0.15);\n",
              "      filter: drop-shadow(0px 1px 2px rgba(0, 0, 0, 0.3));\n",
              "      fill: #FFFFFF;\n",
              "    }\n",
              "  </style>\n",
              "\n",
              "      <script>\n",
              "        const buttonEl =\n",
              "          document.querySelector('#df-5026b9ba-e9d5-4776-8d27-68854cbe5b65 button.colab-df-convert');\n",
              "        buttonEl.style.display =\n",
              "          google.colab.kernel.accessAllowed ? 'block' : 'none';\n",
              "\n",
              "        async function convertToInteractive(key) {\n",
              "          const element = document.querySelector('#df-5026b9ba-e9d5-4776-8d27-68854cbe5b65');\n",
              "          const dataTable =\n",
              "            await google.colab.kernel.invokeFunction('convertToInteractive',\n",
              "                                                     [key], {});\n",
              "          if (!dataTable) return;\n",
              "\n",
              "          const docLinkHtml = 'Like what you see? Visit the ' +\n",
              "            '<a target=\"_blank\" href=https://colab.research.google.com/notebooks/data_table.ipynb>data table notebook</a>'\n",
              "            + ' to learn more about interactive tables.';\n",
              "          element.innerHTML = '';\n",
              "          dataTable['output_type'] = 'display_data';\n",
              "          await google.colab.output.renderOutput(dataTable, element);\n",
              "          const docLink = document.createElement('div');\n",
              "          docLink.innerHTML = docLinkHtml;\n",
              "          element.appendChild(docLink);\n",
              "        }\n",
              "      </script>\n",
              "    </div>\n",
              "  </div>\n",
              "  "
            ],
            "text/plain": [
              "            0-1    2-5\n",
              "agecar_2              \n",
              "0-1         NaN  46.49\n",
              "2-5       46.49    NaN"
            ]
          },
          "metadata": {},
          "execution_count": 83
        }
      ],
      "source": [
        "wald_table=Wald_hypothesis(freq_glm4,'agecar_2')\n",
        "wald_table=pd.DataFrame(wald_table, \n",
        "             columns=['0-1',\n",
        "                      '2-5'])\n",
        "wald_table['agecar_2']=['0-1',\n",
        "                      '2-5']\n",
        "wald_table.set_index('agecar_2')"
      ]
    },
    {
      "cell_type": "markdown",
      "metadata": {
        "id": "OAbp3JJMeW2f"
      },
      "source": [
        "**Adding a fifth variable**"
      ]
    },
    {
      "cell_type": "code",
      "execution_count": null,
      "metadata": {
        "colab": {
          "base_uri": "https://localhost:8080/"
        },
        "id": "Qfhzjao_pAIe",
        "outputId": "c03cdec7-0bc5-43ce-86ab-772354ddd7a5"
      },
      "outputs": [
        {
          "output_type": "stream",
          "name": "stdout",
          "text": [
            "0.03181970553107852\n",
            "0.05532043227168259\n",
            "0.024199164466379822\n",
            "0.02746097023033618\n",
            "0.32421642940282525\n",
            "0.11816116336428432\n"
          ]
        }
      ],
      "source": [
        "confusion_matrix=pd.crosstab(my_data[\"agecar_2\"], my_data[\"sexp\"])\n",
        "print(cramers_v(confusion_matrix.values))\n",
        "\n",
        "confusion_matrix=pd.crosstab(my_data[\"agecar_2\"], my_data[\"usec\"])\n",
        "print(cramers_v(confusion_matrix.values))\n",
        "\n",
        "confusion_matrix=pd.crosstab(my_data[\"agecar_2\"], my_data[\"fleetc\"])\n",
        "print(cramers_v(confusion_matrix.values))\n",
        "\n",
        "confusion_matrix=pd.crosstab(my_data[\"agecar_2\"], my_data[\"sportc\"])\n",
        "print(cramers_v(confusion_matrix.values))\n",
        "\n",
        "confusion_matrix=pd.crosstab(my_data[\"agecar_2\"], my_data[\"coverp\"])\n",
        "print(cramers_v(confusion_matrix.values))\n",
        "\n",
        "confusion_matrix=pd.crosstab(my_data[\"agecar_2\"], my_data[\"powerc\"])\n",
        "print(cramers_v(confusion_matrix.values))"
      ]
    },
    {
      "cell_type": "code",
      "execution_count": null,
      "metadata": {
        "id": "U1YzEzCSezjR"
      },
      "outputs": [],
      "source": [
        "freq_glm5_sexp = smf.glm('nbrtotc ~ C(AGEPH_cat_8,Treatment(reference=\"36-50\")) + C(split_2,Treatment(reference=\"Once\")) + fuelc + C(agecar_2,Treatment(reference=\">5\")) + sexp', data = train, exposure = train.duree, family = sm.families.Poisson(link=sm.families.links.log())).fit()\n",
        "freq_glm5_usec = smf.glm('nbrtotc ~ C(AGEPH_cat_8,Treatment(reference=\"36-50\")) + C(split_2,Treatment(reference=\"Once\")) + fuelc + C(agecar_2,Treatment(reference=\">5\")) + usec', data = train, exposure = train.duree, family = sm.families.Poisson(link=sm.families.links.log())).fit()\n",
        "freq_glm5_fleetc = smf.glm('nbrtotc ~ C(AGEPH_cat_8,Treatment(reference=\"36-50\")) + C(split_2,Treatment(reference=\"Once\")) + fuelc + C(agecar_2,Treatment(reference=\">5\")) + fleetc', data = train, exposure = train.duree, family = sm.families.Poisson(link=sm.families.links.log())).fit()\n",
        "freq_glm5_sportc = smf.glm('nbrtotc ~ C(AGEPH_cat_8,Treatment(reference=\"36-50\")) + C(split_2,Treatment(reference=\"Once\")) + fuelc + C(agecar_2,Treatment(reference=\">5\")) + sportc', data = train, exposure = train.duree, family = sm.families.Poisson(link=sm.families.links.log())).fit()\n",
        "freq_glm5_coverp = smf.glm('nbrtotc ~ C(AGEPH_cat_8,Treatment(reference=\"36-50\")) + C(split_2,Treatment(reference=\"Once\")) + fuelc + C(agecar_2,Treatment(reference=\">5\")) + C(coverp,Treatment(reference=\"MTPL\"))', data = train, exposure = train.duree, family = sm.families.Poisson(link=sm.families.links.log())).fit()\n",
        "freq_glm5_powerc = smf.glm('nbrtotc ~ C(AGEPH_cat_8,Treatment(reference=\"36-50\")) + C(split_2,Treatment(reference=\"Once\")) + fuelc + C(agecar_2,Treatment(reference=\">5\")) + C(powerc,Treatment(reference=\"<66\"))', data = train, exposure = train.duree, family = sm.families.Poisson(link=sm.families.links.log())).fit()"
      ]
    },
    {
      "cell_type": "code",
      "execution_count": null,
      "metadata": {
        "colab": {
          "base_uri": "https://localhost:8080/"
        },
        "id": "r6g_owGbezr4",
        "outputId": "5157bda6-3f4a-47a6-f2e3-67e8ff5543dd"
      },
      "outputs": [
        {
          "output_type": "stream",
          "name": "stdout",
          "text": [
            "70584.77845870401\n",
            "\n",
            "70583.98534329057\n",
            "70584.51792321751\n",
            "70581.16308407729\n",
            "70581.73353782826\n",
            "70550.71966323857\n",
            "70559.6433627979\n",
            "\n",
            "\n",
            "100878.9184260302\n",
            "\n",
            "100880.12531061674\n",
            "100880.65789054372\n",
            "100877.30305140346\n",
            "100877.87350515444\n",
            "100848.85963056477\n",
            "100857.78333012412\n"
          ]
        }
      ],
      "source": [
        "print(freq_glm4.deviance)\n",
        "print(\"\")\n",
        "print(freq_glm5_sexp.deviance)\n",
        "print(freq_glm5_usec.deviance)\n",
        "print(freq_glm5_fleetc.deviance)\n",
        "print(freq_glm5_sportc.deviance)\n",
        "print(freq_glm5_coverp.deviance)\n",
        "print(freq_glm5_powerc.deviance)\n",
        "print(\"\")\n",
        "print(\"\")\n",
        "print(freq_glm4.aic)\n",
        "print(\"\")\n",
        "print(freq_glm5_sexp.aic)\n",
        "print(freq_glm5_usec.aic)\n",
        "print(freq_glm5_fleetc.aic)\n",
        "print(freq_glm5_sportc.aic)\n",
        "print(freq_glm5_coverp.aic)\n",
        "print(freq_glm5_powerc.aic)"
      ]
    },
    {
      "cell_type": "markdown",
      "metadata": {
        "id": "ZVSKhSg0fdgV"
      },
      "source": [
        "Looking at the metrics, we decide to keep coverp as fifth variable."
      ]
    },
    {
      "cell_type": "code",
      "execution_count": null,
      "metadata": {
        "colab": {
          "base_uri": "https://localhost:8080/"
        },
        "id": "v0DAZwJGfnJF",
        "outputId": "7dfd504a-05bb-4e3d-e160-ce720307551b"
      },
      "outputs": [
        {
          "output_type": "stream",
          "name": "stdout",
          "text": [
            "                 Generalized Linear Model Regression Results                  \n",
            "==============================================================================\n",
            "Dep. Variable:                nbrtotc   No. Observations:               130925\n",
            "Model:                            GLM   Df Residuals:                   130910\n",
            "Model Family:                 Poisson   Df Model:                           14\n",
            "Link Function:                    log   Scale:                          1.0000\n",
            "Method:                          IRLS   Log-Likelihood:                -50409.\n",
            "Date:                Thu, 13 Jan 2022   Deviance:                       70551.\n",
            "Time:                        15:23:50   Pearson chi2:                 1.53e+05\n",
            "No. Iterations:                     6                                         \n",
            "Covariance Type:            nonrobust                                         \n",
            "=============================================================================================================================\n",
            "                                                                coef    std err          z      P>|z|      [0.025      0.975]\n",
            "-----------------------------------------------------------------------------------------------------------------------------\n",
            "Intercept                                                    -1.9901      0.021    -93.740      0.000      -2.032      -1.948\n",
            "C(AGEPH_cat_8, Treatment(reference=\"36-50\"))[T.17-22]         0.6818      0.052     13.211      0.000       0.581       0.783\n",
            "C(AGEPH_cat_8, Treatment(reference=\"36-50\"))[T.23-25]         0.5578      0.034     16.464      0.000       0.491       0.624\n",
            "C(AGEPH_cat_8, Treatment(reference=\"36-50\"))[T.26-30]         0.3273      0.025     12.919      0.000       0.278       0.377\n",
            "C(AGEPH_cat_8, Treatment(reference=\"36-50\"))[T.31-35]         0.0927      0.026      3.541      0.000       0.041       0.144\n",
            "C(AGEPH_cat_8, Treatment(reference=\"36-50\"))[T.51-55]        -0.0613      0.030     -2.062      0.039      -0.119      -0.003\n",
            "C(AGEPH_cat_8, Treatment(reference=\"36-50\"))[T.56-60]        -0.1558      0.034     -4.582      0.000      -0.222      -0.089\n",
            "C(AGEPH_cat_8, Treatment(reference=\"36-50\"))[T.>60]          -0.2356      0.024     -9.674      0.000      -0.283      -0.188\n",
            "C(split_2, Treatment(reference=\"Once\"))[T.Thrice&Monthly]     0.3934      0.020     19.749      0.000       0.354       0.432\n",
            "C(split_2, Treatment(reference=\"Once\"))[T.Twice]              0.1768      0.019      9.407      0.000       0.140       0.214\n",
            "fuelc[T.Petrol]                                              -0.1434      0.017     -8.529      0.000      -0.176      -0.110\n",
            "C(agecar_2, Treatment(reference=\">5\"))[T.0-1]                 0.1893      0.037      5.155      0.000       0.117       0.261\n",
            "C(agecar_2, Treatment(reference=\">5\"))[T.2-5]                -0.0664      0.019     -3.467      0.001      -0.104      -0.029\n",
            "C(coverp, Treatment(reference=\"MTPL\"))[T.MTPL+]              -0.0984      0.019     -5.217      0.000      -0.135      -0.061\n",
            "C(coverp, Treatment(reference=\"MTPL\"))[T.MTPL+++]            -0.1088      0.027     -4.040      0.000      -0.162      -0.056\n",
            "=============================================================================================================================\n"
          ]
        }
      ],
      "source": [
        "freq_glm5 = smf.glm('nbrtotc ~ C(AGEPH_cat_8,Treatment(reference=\"36-50\")) + C(split_2,Treatment(reference=\"Once\")) + fuelc + C(agecar_2,Treatment(reference=\">5\")) + C(coverp,Treatment(reference=\"MTPL\"))', data = train, exposure = train.duree, family = sm.families.Poisson(link=sm.families.links.log())).fit()\n",
        "print(freq_glm5.summary())"
      ]
    },
    {
      "cell_type": "markdown",
      "metadata": {
        "id": "iK5eVx1TQyFm"
      },
      "source": [
        "There are no high p-values. Can we gather other adjacent classes?"
      ]
    },
    {
      "cell_type": "code",
      "execution_count": null,
      "metadata": {
        "colab": {
          "base_uri": "https://localhost:8080/"
        },
        "id": "1xVu5LNJQ2nz",
        "outputId": "d11b094f-ae67-40ff-ac09-802e52d9f672"
      },
      "outputs": [
        {
          "output_type": "execute_result",
          "data": {
            "text/html": [
              "\n",
              "  <div id=\"df-e9c57fb5-bdf7-467f-8aff-e04a8c66a00a\">\n",
              "    <div class=\"colab-df-container\">\n",
              "      <div>\n",
              "<style scoped>\n",
              "    .dataframe tbody tr th:only-of-type {\n",
              "        vertical-align: middle;\n",
              "    }\n",
              "\n",
              "    .dataframe tbody tr th {\n",
              "        vertical-align: top;\n",
              "    }\n",
              "\n",
              "    .dataframe thead th {\n",
              "        text-align: right;\n",
              "    }\n",
              "</style>\n",
              "<table border=\"1\" class=\"dataframe\">\n",
              "  <thead>\n",
              "    <tr style=\"text-align: right;\">\n",
              "      <th></th>\n",
              "      <th>MTPL+</th>\n",
              "      <th>MTPL+++</th>\n",
              "    </tr>\n",
              "    <tr>\n",
              "      <th>coverp</th>\n",
              "      <th></th>\n",
              "      <th></th>\n",
              "    </tr>\n",
              "  </thead>\n",
              "  <tbody>\n",
              "    <tr>\n",
              "      <th>MTPL+</th>\n",
              "      <td>NaN</td>\n",
              "      <td>0.139</td>\n",
              "    </tr>\n",
              "    <tr>\n",
              "      <th>MTPL+++</th>\n",
              "      <td>0.139</td>\n",
              "      <td>NaN</td>\n",
              "    </tr>\n",
              "  </tbody>\n",
              "</table>\n",
              "</div>\n",
              "      <button class=\"colab-df-convert\" onclick=\"convertToInteractive('df-e9c57fb5-bdf7-467f-8aff-e04a8c66a00a')\"\n",
              "              title=\"Convert this dataframe to an interactive table.\"\n",
              "              style=\"display:none;\">\n",
              "        \n",
              "  <svg xmlns=\"http://www.w3.org/2000/svg\" height=\"24px\"viewBox=\"0 0 24 24\"\n",
              "       width=\"24px\">\n",
              "    <path d=\"M0 0h24v24H0V0z\" fill=\"none\"/>\n",
              "    <path d=\"M18.56 5.44l.94 2.06.94-2.06 2.06-.94-2.06-.94-.94-2.06-.94 2.06-2.06.94zm-11 1L8.5 8.5l.94-2.06 2.06-.94-2.06-.94L8.5 2.5l-.94 2.06-2.06.94zm10 10l.94 2.06.94-2.06 2.06-.94-2.06-.94-.94-2.06-.94 2.06-2.06.94z\"/><path d=\"M17.41 7.96l-1.37-1.37c-.4-.4-.92-.59-1.43-.59-.52 0-1.04.2-1.43.59L10.3 9.45l-7.72 7.72c-.78.78-.78 2.05 0 2.83L4 21.41c.39.39.9.59 1.41.59.51 0 1.02-.2 1.41-.59l7.78-7.78 2.81-2.81c.8-.78.8-2.07 0-2.86zM5.41 20L4 18.59l7.72-7.72 1.47 1.35L5.41 20z\"/>\n",
              "  </svg>\n",
              "      </button>\n",
              "      \n",
              "  <style>\n",
              "    .colab-df-container {\n",
              "      display:flex;\n",
              "      flex-wrap:wrap;\n",
              "      gap: 12px;\n",
              "    }\n",
              "\n",
              "    .colab-df-convert {\n",
              "      background-color: #E8F0FE;\n",
              "      border: none;\n",
              "      border-radius: 50%;\n",
              "      cursor: pointer;\n",
              "      display: none;\n",
              "      fill: #1967D2;\n",
              "      height: 32px;\n",
              "      padding: 0 0 0 0;\n",
              "      width: 32px;\n",
              "    }\n",
              "\n",
              "    .colab-df-convert:hover {\n",
              "      background-color: #E2EBFA;\n",
              "      box-shadow: 0px 1px 2px rgba(60, 64, 67, 0.3), 0px 1px 3px 1px rgba(60, 64, 67, 0.15);\n",
              "      fill: #174EA6;\n",
              "    }\n",
              "\n",
              "    [theme=dark] .colab-df-convert {\n",
              "      background-color: #3B4455;\n",
              "      fill: #D2E3FC;\n",
              "    }\n",
              "\n",
              "    [theme=dark] .colab-df-convert:hover {\n",
              "      background-color: #434B5C;\n",
              "      box-shadow: 0px 1px 3px 1px rgba(0, 0, 0, 0.15);\n",
              "      filter: drop-shadow(0px 1px 2px rgba(0, 0, 0, 0.3));\n",
              "      fill: #FFFFFF;\n",
              "    }\n",
              "  </style>\n",
              "\n",
              "      <script>\n",
              "        const buttonEl =\n",
              "          document.querySelector('#df-e9c57fb5-bdf7-467f-8aff-e04a8c66a00a button.colab-df-convert');\n",
              "        buttonEl.style.display =\n",
              "          google.colab.kernel.accessAllowed ? 'block' : 'none';\n",
              "\n",
              "        async function convertToInteractive(key) {\n",
              "          const element = document.querySelector('#df-e9c57fb5-bdf7-467f-8aff-e04a8c66a00a');\n",
              "          const dataTable =\n",
              "            await google.colab.kernel.invokeFunction('convertToInteractive',\n",
              "                                                     [key], {});\n",
              "          if (!dataTable) return;\n",
              "\n",
              "          const docLinkHtml = 'Like what you see? Visit the ' +\n",
              "            '<a target=\"_blank\" href=https://colab.research.google.com/notebooks/data_table.ipynb>data table notebook</a>'\n",
              "            + ' to learn more about interactive tables.';\n",
              "          element.innerHTML = '';\n",
              "          dataTable['output_type'] = 'display_data';\n",
              "          await google.colab.output.renderOutput(dataTable, element);\n",
              "          const docLink = document.createElement('div');\n",
              "          docLink.innerHTML = docLinkHtml;\n",
              "          element.appendChild(docLink);\n",
              "        }\n",
              "      </script>\n",
              "    </div>\n",
              "  </div>\n",
              "  "
            ],
            "text/plain": [
              "         MTPL+  MTPL+++\n",
              "coverp                 \n",
              "MTPL+      NaN    0.139\n",
              "MTPL+++  0.139      NaN"
            ]
          },
          "metadata": {},
          "execution_count": 88
        }
      ],
      "source": [
        "wald_table=Wald_hypothesis(freq_glm5,'coverp')\n",
        "wald_table=pd.DataFrame(wald_table, \n",
        "             columns=['MTPL+',\n",
        "                      'MTPL+++'])\n",
        "wald_table['coverp']=['MTPL+',\n",
        "                      'MTPL+++']\n",
        "wald_table.set_index('coverp')"
      ]
    },
    {
      "cell_type": "code",
      "execution_count": null,
      "metadata": {
        "colab": {
          "base_uri": "https://localhost:8080/"
        },
        "id": "TXgmbM2bROPs",
        "outputId": "0eec7b56-460b-4cdf-dfd4-e355ff2b36b0"
      },
      "outputs": [
        {
          "output_type": "stream",
          "name": "stdout",
          "text": [
            "MTPL       76161\n",
            "MTPL+      36977\n",
            "MTPL+++    17787\n",
            "Name: coverp, dtype: int64\n",
            "\n",
            "MTPL             76161\n",
            "MTPL+&MTPL+++    54764\n",
            "Name: coverp_2, dtype: int64\n",
            "MTPL       19248\n",
            "MTPL+       9096\n",
            "MTPL+++     4388\n",
            "Name: coverp, dtype: int64\n",
            "\n",
            "MTPL             19248\n",
            "MTPL+&MTPL+++    13484\n",
            "Name: coverp_2, dtype: int64\n",
            "MTPL       95409\n",
            "MTPL+      46073\n",
            "MTPL+++    22175\n",
            "Name: coverp, dtype: int64\n",
            "\n",
            "MTPL             95409\n",
            "MTPL+&MTPL+++    68248\n",
            "Name: coverp_2, dtype: int64\n"
          ]
        }
      ],
      "source": [
        "train['coverp_2']=train['coverp'].astype('object')\n",
        "train.loc[train['coverp'].isin([\"MTPL+\",\"MTPL+++\"]),'coverp_2']=\"MTPL+&MTPL+++\"\n",
        "train['coverp_2']=train['coverp_2'].astype('category')\n",
        "print(train.coverp.value_counts())\n",
        "print(\"\")\n",
        "print(train.coverp_2.value_counts())\n",
        "\n",
        "test['coverp_2']=test['coverp'].astype('object')\n",
        "test.loc[test['coverp'].isin([\"MTPL+\",\"MTPL+++\"]),'coverp_2']=\"MTPL+&MTPL+++\"\n",
        "test['coverp_2']=test['coverp_2'].astype('category')\n",
        "print(test.coverp.value_counts())\n",
        "print(\"\")\n",
        "print(test.coverp_2.value_counts())\n",
        "\n",
        "my_data['coverp_2']=my_data['coverp'].astype('object')\n",
        "my_data.loc[my_data['coverp'].isin([\"MTPL+\",\"MTPL+++\"]),'coverp_2']=\"MTPL+&MTPL+++\"\n",
        "my_data['coverp_2']=my_data['coverp_2'].astype('category')\n",
        "print(my_data.coverp.value_counts())\n",
        "print(\"\")\n",
        "print(my_data.coverp_2.value_counts())"
      ]
    },
    {
      "cell_type": "code",
      "execution_count": null,
      "metadata": {
        "colab": {
          "base_uri": "https://localhost:8080/"
        },
        "id": "ExASFwVeSLAb",
        "outputId": "235ef2fc-63ba-4279-d851-6d3bb8950042"
      },
      "outputs": [
        {
          "output_type": "stream",
          "name": "stdout",
          "text": [
            "                 Generalized Linear Model Regression Results                  \n",
            "==============================================================================\n",
            "Dep. Variable:                nbrtotc   No. Observations:               130925\n",
            "Model:                            GLM   Df Residuals:                   130911\n",
            "Model Family:                 Poisson   Df Model:                           13\n",
            "Link Function:                    log   Scale:                          1.0000\n",
            "Method:                          IRLS   Log-Likelihood:                -50409.\n",
            "Date:                Thu, 13 Jan 2022   Deviance:                       70551.\n",
            "Time:                        15:23:52   Pearson chi2:                 1.53e+05\n",
            "No. Iterations:                     6                                         \n",
            "Covariance Type:            nonrobust                                         \n",
            "=============================================================================================================================\n",
            "                                                                coef    std err          z      P>|z|      [0.025      0.975]\n",
            "-----------------------------------------------------------------------------------------------------------------------------\n",
            "Intercept                                                    -1.9899      0.021    -93.765      0.000      -2.031      -1.948\n",
            "C(AGEPH_cat_8, Treatment(reference=\"36-50\"))[T.17-22]         0.6818      0.052     13.210      0.000       0.581       0.783\n",
            "C(AGEPH_cat_8, Treatment(reference=\"36-50\"))[T.23-25]         0.5579      0.034     16.467      0.000       0.492       0.624\n",
            "C(AGEPH_cat_8, Treatment(reference=\"36-50\"))[T.26-30]         0.3274      0.025     12.928      0.000       0.278       0.377\n",
            "C(AGEPH_cat_8, Treatment(reference=\"36-50\"))[T.31-35]         0.0928      0.026      3.543      0.000       0.041       0.144\n",
            "C(AGEPH_cat_8, Treatment(reference=\"36-50\"))[T.51-55]        -0.0613      0.030     -2.062      0.039      -0.119      -0.003\n",
            "C(AGEPH_cat_8, Treatment(reference=\"36-50\"))[T.56-60]        -0.1557      0.034     -4.579      0.000      -0.222      -0.089\n",
            "C(AGEPH_cat_8, Treatment(reference=\"36-50\"))[T.>60]          -0.2354      0.024     -9.668      0.000      -0.283      -0.188\n",
            "C(split_2, Treatment(reference=\"Once\"))[T.Thrice&Monthly]     0.3929      0.020     19.764      0.000       0.354       0.432\n",
            "C(split_2, Treatment(reference=\"Once\"))[T.Twice]              0.1770      0.019      9.426      0.000       0.140       0.214\n",
            "fuelc[T.Petrol]                                              -0.1431      0.017     -8.521      0.000      -0.176      -0.110\n",
            "C(agecar_2, Treatment(reference=\">5\"))[T.0-1]                 0.1859      0.036      5.228      0.000       0.116       0.256\n",
            "C(agecar_2, Treatment(reference=\">5\"))[T.2-5]                -0.0680      0.019     -3.652      0.000      -0.105      -0.032\n",
            "C(coverp_2, Treatment(reference=\"MTPL\"))[T.MTPL+&MTPL+++]    -0.1011      0.017     -5.808      0.000      -0.135      -0.067\n",
            "=============================================================================================================================\n"
          ]
        }
      ],
      "source": [
        "freq_glm5 = smf.glm('nbrtotc ~ C(AGEPH_cat_8,Treatment(reference=\"36-50\")) + C(split_2,Treatment(reference=\"Once\")) + fuelc + C(agecar_2,Treatment(reference=\">5\")) + C(coverp_2,Treatment(reference=\"MTPL\"))', data = train, exposure = train.duree, family = sm.families.Poisson(link=sm.families.links.log())).fit()\n",
        "print(freq_glm5.summary())"
      ]
    },
    {
      "cell_type": "markdown",
      "metadata": {
        "id": "tL4_Dz8tSdrv"
      },
      "source": [
        "**Adding a sixth variable**"
      ]
    },
    {
      "cell_type": "code",
      "execution_count": null,
      "metadata": {
        "colab": {
          "base_uri": "https://localhost:8080/"
        },
        "id": "_IugPCYwpT_x",
        "outputId": "a00b644f-3e2d-46d9-a1bc-28d034efc4e8"
      },
      "outputs": [
        {
          "output_type": "stream",
          "name": "stdout",
          "text": [
            "0.01524155457308536\n",
            "0.06857370395376498\n",
            "0.07626678109783845\n",
            "0.012851041352533638\n",
            "0.13051881776582028\n"
          ]
        }
      ],
      "source": [
        "confusion_matrix=pd.crosstab(my_data[\"coverp_2\"], my_data[\"sexp\"])\n",
        "print(cramers_v(confusion_matrix.values))\n",
        "\n",
        "confusion_matrix=pd.crosstab(my_data[\"coverp_2\"], my_data[\"usec\"])\n",
        "print(cramers_v(confusion_matrix.values))\n",
        "\n",
        "confusion_matrix=pd.crosstab(my_data[\"coverp_2\"], my_data[\"fleetc\"])\n",
        "print(cramers_v(confusion_matrix.values))\n",
        "\n",
        "confusion_matrix=pd.crosstab(my_data[\"coverp_2\"], my_data[\"sportc\"])\n",
        "print(cramers_v(confusion_matrix.values))\n",
        "\n",
        "confusion_matrix=pd.crosstab(my_data[\"coverp_2\"], my_data[\"powerc\"])\n",
        "print(cramers_v(confusion_matrix.values))"
      ]
    },
    {
      "cell_type": "code",
      "execution_count": null,
      "metadata": {
        "id": "V9AmKZquf--M"
      },
      "outputs": [],
      "source": [
        "freq_glm6_sexp = smf.glm('nbrtotc ~ C(AGEPH_cat_8,Treatment(reference=\"36-50\")) + C(split_2,Treatment(reference=\"Once\")) + fuelc + C(agecar_2,Treatment(reference=\">5\")) + C(coverp_2,Treatment(reference=\"MTPL\")) + sexp', data = train, exposure = train.duree, family = sm.families.Poisson(link=sm.families.links.log())).fit()\n",
        "freq_glm6_usec = smf.glm('nbrtotc ~ C(AGEPH_cat_8,Treatment(reference=\"36-50\")) + C(split_2,Treatment(reference=\"Once\")) + fuelc + C(agecar_2,Treatment(reference=\">5\")) + C(coverp_2,Treatment(reference=\"MTPL\")) + usec', data = train, exposure = train.duree, family = sm.families.Poisson(link=sm.families.links.log())).fit()\n",
        "freq_glm6_fleetc = smf.glm('nbrtotc ~ C(AGEPH_cat_8,Treatment(reference=\"36-50\")) + C(split_2,Treatment(reference=\"Once\")) + fuelc + C(agecar_2,Treatment(reference=\">5\")) + C(coverp_2,Treatment(reference=\"MTPL\")) + fleetc', data = train, exposure = train.duree, family = sm.families.Poisson(link=sm.families.links.log())).fit()\n",
        "freq_glm6_sportc = smf.glm('nbrtotc ~ C(AGEPH_cat_8,Treatment(reference=\"36-50\")) + C(split_2,Treatment(reference=\"Once\")) + fuelc + C(agecar_2,Treatment(reference=\">5\")) + C(coverp_2,Treatment(reference=\"MTPL\")) + sportc', data = train, exposure = train.duree, family = sm.families.Poisson(link=sm.families.links.log())).fit()\n",
        "freq_glm6_powerc = smf.glm('nbrtotc ~ C(AGEPH_cat_8,Treatment(reference=\"36-50\")) + C(split_2,Treatment(reference=\"Once\")) + fuelc + C(agecar_2,Treatment(reference=\">5\")) + C(coverp_2,Treatment(reference=\"MTPL\")) + C(powerc,Treatment(reference=\"<66\"))', data = train, exposure = train.duree, family = sm.families.Poisson(link=sm.families.links.log())).fit()"
      ]
    },
    {
      "cell_type": "code",
      "execution_count": null,
      "metadata": {
        "colab": {
          "base_uri": "https://localhost:8080/"
        },
        "id": "OuXYLD7pf_HQ",
        "outputId": "564cd7f5-1924-43cb-afbe-f20d9ef5740c"
      },
      "outputs": [
        {
          "output_type": "stream",
          "name": "stdout",
          "text": [
            "70550.85886861527\n",
            "\n",
            "70549.99678536016\n",
            "70550.20535752954\n",
            "70548.6708447943\n",
            "70547.75648702448\n",
            "70521.14643209135\n",
            "\n",
            "\n",
            "100846.99883594149\n",
            "\n",
            "100848.13675268636\n",
            "100848.34532485575\n",
            "100846.81081212047\n",
            "100845.8964543507\n",
            "100821.28639941751\n"
          ]
        }
      ],
      "source": [
        "print(freq_glm5.deviance)\n",
        "print(\"\")\n",
        "print(freq_glm6_sexp.deviance)\n",
        "print(freq_glm6_usec.deviance)\n",
        "print(freq_glm6_fleetc.deviance)\n",
        "print(freq_glm6_sportc.deviance)\n",
        "print(freq_glm6_powerc.deviance)\n",
        "print(\"\")\n",
        "print(\"\")\n",
        "print(freq_glm5.aic)\n",
        "print(\"\")\n",
        "print(freq_glm6_sexp.aic)\n",
        "print(freq_glm6_usec.aic)\n",
        "print(freq_glm6_fleetc.aic)\n",
        "print(freq_glm6_sportc.aic)\n",
        "print(freq_glm6_powerc.aic)"
      ]
    },
    {
      "cell_type": "markdown",
      "metadata": {
        "id": "GmXibPdWgl4t"
      },
      "source": [
        "Looking at the metrics, we decide to add powerc as sixth variable to the model."
      ]
    },
    {
      "cell_type": "code",
      "execution_count": null,
      "metadata": {
        "colab": {
          "base_uri": "https://localhost:8080/"
        },
        "id": "rJU7b0_vgsOE",
        "outputId": "a8bbca5d-9e77-4f63-8b63-3d371d96f505"
      },
      "outputs": [
        {
          "output_type": "stream",
          "name": "stdout",
          "text": [
            "                 Generalized Linear Model Regression Results                  \n",
            "==============================================================================\n",
            "Dep. Variable:                nbrtotc   No. Observations:               130925\n",
            "Model:                            GLM   Df Residuals:                   130909\n",
            "Model Family:                 Poisson   Df Model:                           15\n",
            "Link Function:                    log   Scale:                          1.0000\n",
            "Method:                          IRLS   Log-Likelihood:                -50395.\n",
            "Date:                Thu, 13 Jan 2022   Deviance:                       70521.\n",
            "Time:                        15:24:03   Pearson chi2:                 1.53e+05\n",
            "No. Iterations:                     6                                         \n",
            "Covariance Type:            nonrobust                                         \n",
            "=============================================================================================================================\n",
            "                                                                coef    std err          z      P>|z|      [0.025      0.975]\n",
            "-----------------------------------------------------------------------------------------------------------------------------\n",
            "Intercept                                                    -2.0041      0.021    -93.580      0.000      -2.046      -1.962\n",
            "C(AGEPH_cat_8, Treatment(reference=\"36-50\"))[T.17-22]         0.6943      0.052     13.438      0.000       0.593       0.796\n",
            "C(AGEPH_cat_8, Treatment(reference=\"36-50\"))[T.23-25]         0.5645      0.034     16.650      0.000       0.498       0.631\n",
            "C(AGEPH_cat_8, Treatment(reference=\"36-50\"))[T.26-30]         0.3321      0.025     13.104      0.000       0.282       0.382\n",
            "C(AGEPH_cat_8, Treatment(reference=\"36-50\"))[T.31-35]         0.0947      0.026      3.616      0.000       0.043       0.146\n",
            "C(AGEPH_cat_8, Treatment(reference=\"36-50\"))[T.51-55]        -0.0635      0.030     -2.136      0.033      -0.122      -0.005\n",
            "C(AGEPH_cat_8, Treatment(reference=\"36-50\"))[T.56-60]        -0.1564      0.034     -4.599      0.000      -0.223      -0.090\n",
            "C(AGEPH_cat_8, Treatment(reference=\"36-50\"))[T.>60]          -0.2286      0.024     -9.379      0.000      -0.276      -0.181\n",
            "C(split_2, Treatment(reference=\"Once\"))[T.Thrice&Monthly]     0.3922      0.020     19.724      0.000       0.353       0.431\n",
            "C(split_2, Treatment(reference=\"Once\"))[T.Twice]              0.1815      0.019      9.651      0.000       0.145       0.218\n",
            "fuelc[T.Petrol]                                              -0.1558      0.017     -9.177      0.000      -0.189      -0.123\n",
            "C(agecar_2, Treatment(reference=\">5\"))[T.0-1]                 0.1690      0.036      4.731      0.000       0.099       0.239\n",
            "C(agecar_2, Treatment(reference=\">5\"))[T.2-5]                -0.0794      0.019     -4.228      0.000      -0.116      -0.043\n",
            "C(coverp_2, Treatment(reference=\"MTPL\"))[T.MTPL+&MTPL+++]    -0.1080      0.017     -6.187      0.000      -0.142      -0.074\n",
            "C(powerc, Treatment(reference=\"<66\"))[T.66-110]               0.0943      0.018      5.153      0.000       0.058       0.130\n",
            "C(powerc, Treatment(reference=\"<66\"))[T.>110]                 0.1787      0.078      2.276      0.023       0.025       0.332\n",
            "=============================================================================================================================\n"
          ]
        }
      ],
      "source": [
        "freq_glm6 = smf.glm('nbrtotc ~ C(AGEPH_cat_8,Treatment(reference=\"36-50\")) + C(split_2,Treatment(reference=\"Once\")) + fuelc + C(agecar_2,Treatment(reference=\">5\")) + C(coverp_2,Treatment(reference=\"MTPL\")) + C(powerc,Treatment(reference=\"<66\"))', data = train, exposure = train.duree, family = sm.families.Poisson(link=sm.families.links.log())).fit()\n",
        "print(freq_glm6.summary())"
      ]
    },
    {
      "cell_type": "markdown",
      "metadata": {
        "id": "uXHfmD1QTw4P"
      },
      "source": [
        "There are no high p-values. Can we gather other adjacent classes?"
      ]
    },
    {
      "cell_type": "code",
      "execution_count": null,
      "metadata": {
        "colab": {
          "base_uri": "https://localhost:8080/"
        },
        "id": "TWz2UjnTT2Os",
        "outputId": "741e348d-b3c0-42ac-a668-c97dfd178c5e"
      },
      "outputs": [
        {
          "output_type": "execute_result",
          "data": {
            "text/html": [
              "\n",
              "  <div id=\"df-e49bb91b-dab6-4bea-ae28-058d098363e6\">\n",
              "    <div class=\"colab-df-container\">\n",
              "      <div>\n",
              "<style scoped>\n",
              "    .dataframe tbody tr th:only-of-type {\n",
              "        vertical-align: middle;\n",
              "    }\n",
              "\n",
              "    .dataframe tbody tr th {\n",
              "        vertical-align: top;\n",
              "    }\n",
              "\n",
              "    .dataframe thead th {\n",
              "        text-align: right;\n",
              "    }\n",
              "</style>\n",
              "<table border=\"1\" class=\"dataframe\">\n",
              "  <thead>\n",
              "    <tr style=\"text-align: right;\">\n",
              "      <th></th>\n",
              "      <th>66-110</th>\n",
              "      <th>&gt;110</th>\n",
              "    </tr>\n",
              "    <tr>\n",
              "      <th>powerc</th>\n",
              "      <th></th>\n",
              "      <th></th>\n",
              "    </tr>\n",
              "  </thead>\n",
              "  <tbody>\n",
              "    <tr>\n",
              "      <th>66-110</th>\n",
              "      <td>NaN</td>\n",
              "      <td>1.132</td>\n",
              "    </tr>\n",
              "    <tr>\n",
              "      <th>&gt;110</th>\n",
              "      <td>1.132</td>\n",
              "      <td>NaN</td>\n",
              "    </tr>\n",
              "  </tbody>\n",
              "</table>\n",
              "</div>\n",
              "      <button class=\"colab-df-convert\" onclick=\"convertToInteractive('df-e49bb91b-dab6-4bea-ae28-058d098363e6')\"\n",
              "              title=\"Convert this dataframe to an interactive table.\"\n",
              "              style=\"display:none;\">\n",
              "        \n",
              "  <svg xmlns=\"http://www.w3.org/2000/svg\" height=\"24px\"viewBox=\"0 0 24 24\"\n",
              "       width=\"24px\">\n",
              "    <path d=\"M0 0h24v24H0V0z\" fill=\"none\"/>\n",
              "    <path d=\"M18.56 5.44l.94 2.06.94-2.06 2.06-.94-2.06-.94-.94-2.06-.94 2.06-2.06.94zm-11 1L8.5 8.5l.94-2.06 2.06-.94-2.06-.94L8.5 2.5l-.94 2.06-2.06.94zm10 10l.94 2.06.94-2.06 2.06-.94-2.06-.94-.94-2.06-.94 2.06-2.06.94z\"/><path d=\"M17.41 7.96l-1.37-1.37c-.4-.4-.92-.59-1.43-.59-.52 0-1.04.2-1.43.59L10.3 9.45l-7.72 7.72c-.78.78-.78 2.05 0 2.83L4 21.41c.39.39.9.59 1.41.59.51 0 1.02-.2 1.41-.59l7.78-7.78 2.81-2.81c.8-.78.8-2.07 0-2.86zM5.41 20L4 18.59l7.72-7.72 1.47 1.35L5.41 20z\"/>\n",
              "  </svg>\n",
              "      </button>\n",
              "      \n",
              "  <style>\n",
              "    .colab-df-container {\n",
              "      display:flex;\n",
              "      flex-wrap:wrap;\n",
              "      gap: 12px;\n",
              "    }\n",
              "\n",
              "    .colab-df-convert {\n",
              "      background-color: #E8F0FE;\n",
              "      border: none;\n",
              "      border-radius: 50%;\n",
              "      cursor: pointer;\n",
              "      display: none;\n",
              "      fill: #1967D2;\n",
              "      height: 32px;\n",
              "      padding: 0 0 0 0;\n",
              "      width: 32px;\n",
              "    }\n",
              "\n",
              "    .colab-df-convert:hover {\n",
              "      background-color: #E2EBFA;\n",
              "      box-shadow: 0px 1px 2px rgba(60, 64, 67, 0.3), 0px 1px 3px 1px rgba(60, 64, 67, 0.15);\n",
              "      fill: #174EA6;\n",
              "    }\n",
              "\n",
              "    [theme=dark] .colab-df-convert {\n",
              "      background-color: #3B4455;\n",
              "      fill: #D2E3FC;\n",
              "    }\n",
              "\n",
              "    [theme=dark] .colab-df-convert:hover {\n",
              "      background-color: #434B5C;\n",
              "      box-shadow: 0px 1px 3px 1px rgba(0, 0, 0, 0.15);\n",
              "      filter: drop-shadow(0px 1px 2px rgba(0, 0, 0, 0.3));\n",
              "      fill: #FFFFFF;\n",
              "    }\n",
              "  </style>\n",
              "\n",
              "      <script>\n",
              "        const buttonEl =\n",
              "          document.querySelector('#df-e49bb91b-dab6-4bea-ae28-058d098363e6 button.colab-df-convert');\n",
              "        buttonEl.style.display =\n",
              "          google.colab.kernel.accessAllowed ? 'block' : 'none';\n",
              "\n",
              "        async function convertToInteractive(key) {\n",
              "          const element = document.querySelector('#df-e49bb91b-dab6-4bea-ae28-058d098363e6');\n",
              "          const dataTable =\n",
              "            await google.colab.kernel.invokeFunction('convertToInteractive',\n",
              "                                                     [key], {});\n",
              "          if (!dataTable) return;\n",
              "\n",
              "          const docLinkHtml = 'Like what you see? Visit the ' +\n",
              "            '<a target=\"_blank\" href=https://colab.research.google.com/notebooks/data_table.ipynb>data table notebook</a>'\n",
              "            + ' to learn more about interactive tables.';\n",
              "          element.innerHTML = '';\n",
              "          dataTable['output_type'] = 'display_data';\n",
              "          await google.colab.output.renderOutput(dataTable, element);\n",
              "          const docLink = document.createElement('div');\n",
              "          docLink.innerHTML = docLinkHtml;\n",
              "          element.appendChild(docLink);\n",
              "        }\n",
              "      </script>\n",
              "    </div>\n",
              "  </div>\n",
              "  "
            ],
            "text/plain": [
              "        66-110   >110\n",
              "powerc               \n",
              "66-110     NaN  1.132\n",
              ">110     1.132    NaN"
            ]
          },
          "metadata": {},
          "execution_count": 95
        }
      ],
      "source": [
        "wald_table=Wald_hypothesis(freq_glm6,'powerc')\n",
        "wald_table=pd.DataFrame(wald_table, \n",
        "             columns=['66-110',\n",
        "                      '>110'])\n",
        "wald_table['powerc']=['66-110',\n",
        "                      '>110']\n",
        "wald_table.set_index('powerc')"
      ]
    },
    {
      "cell_type": "code",
      "execution_count": null,
      "metadata": {
        "colab": {
          "base_uri": "https://localhost:8080/"
        },
        "id": "OzZtUqPaUKcA",
        "outputId": "58ac2afa-edd1-4fbc-d8b3-7963753f59d6"
      },
      "outputs": [
        {
          "output_type": "stream",
          "name": "stdout",
          "text": [
            "<66       95839\n",
            "66-110    33761\n",
            ">110       1325\n",
            "Name: powerc, dtype: int64\n",
            "\n",
            "<66     95839\n",
            ">=66    35086\n",
            "Name: powerc_2, dtype: int64\n",
            "<66       23970\n",
            "66-110     8427\n",
            ">110        335\n",
            "Name: powerc, dtype: int64\n",
            "\n",
            "<66     23970\n",
            ">=66     8762\n",
            "Name: powerc_2, dtype: int64\n",
            "<66       119809\n",
            "66-110     42188\n",
            ">110        1660\n",
            "Name: powerc, dtype: int64\n",
            "\n",
            "<66     119809\n",
            ">=66     43848\n",
            "Name: powerc_2, dtype: int64\n"
          ]
        }
      ],
      "source": [
        "train['powerc_2']=train['powerc'].astype('object')\n",
        "train.loc[train['powerc'].isin([\"66-110\",\">110\"]),'powerc_2']=\">=66\"\n",
        "train['powerc_2']=train['powerc_2'].astype('category')\n",
        "print(train.powerc.value_counts())\n",
        "print(\"\")\n",
        "print(train.powerc_2.value_counts())\n",
        "\n",
        "test['powerc_2']=test['powerc'].astype('object')\n",
        "test.loc[test['powerc'].isin([\"66-110\",\">110\"]),'powerc_2']=\">=66\"\n",
        "test['powerc_2']=test['powerc_2'].astype('category')\n",
        "print(test.powerc.value_counts())\n",
        "print(\"\")\n",
        "print(test.powerc_2.value_counts())\n",
        "\n",
        "my_data['powerc_2']=my_data['powerc'].astype('object')\n",
        "my_data.loc[my_data['powerc'].isin([\"66-110\",\">110\"]),'powerc_2']=\">=66\"\n",
        "my_data['powerc_2']=my_data['powerc_2'].astype('category')\n",
        "print(my_data.powerc.value_counts())\n",
        "print(\"\")\n",
        "print(my_data.powerc_2.value_counts())"
      ]
    },
    {
      "cell_type": "code",
      "execution_count": null,
      "metadata": {
        "colab": {
          "base_uri": "https://localhost:8080/"
        },
        "id": "U8sazHBlU-Z4",
        "outputId": "8dfe86d7-8afb-49a5-c60f-5e0c672ccdbc"
      },
      "outputs": [
        {
          "output_type": "stream",
          "name": "stdout",
          "text": [
            "                 Generalized Linear Model Regression Results                  \n",
            "==============================================================================\n",
            "Dep. Variable:                nbrtotc   No. Observations:               130925\n",
            "Model:                            GLM   Df Residuals:                   130910\n",
            "Model Family:                 Poisson   Df Model:                           14\n",
            "Link Function:                    log   Scale:                          1.0000\n",
            "Method:                          IRLS   Log-Likelihood:                -50395.\n",
            "Date:                Thu, 13 Jan 2022   Deviance:                       70522.\n",
            "Time:                        15:24:05   Pearson chi2:                 1.53e+05\n",
            "No. Iterations:                     6                                         \n",
            "Covariance Type:            nonrobust                                         \n",
            "=============================================================================================================================\n",
            "                                                                coef    std err          z      P>|z|      [0.025      0.975]\n",
            "-----------------------------------------------------------------------------------------------------------------------------\n",
            "Intercept                                                    -2.0042      0.021    -93.589      0.000      -2.046      -1.962\n",
            "C(AGEPH_cat_8, Treatment(reference=\"36-50\"))[T.17-22]         0.6937      0.052     13.427      0.000       0.592       0.795\n",
            "C(AGEPH_cat_8, Treatment(reference=\"36-50\"))[T.23-25]         0.5643      0.034     16.645      0.000       0.498       0.631\n",
            "C(AGEPH_cat_8, Treatment(reference=\"36-50\"))[T.26-30]         0.3319      0.025     13.098      0.000       0.282       0.382\n",
            "C(AGEPH_cat_8, Treatment(reference=\"36-50\"))[T.31-35]         0.0946      0.026      3.611      0.000       0.043       0.146\n",
            "C(AGEPH_cat_8, Treatment(reference=\"36-50\"))[T.51-55]        -0.0633      0.030     -2.131      0.033      -0.122      -0.005\n",
            "C(AGEPH_cat_8, Treatment(reference=\"36-50\"))[T.56-60]        -0.1563      0.034     -4.596      0.000      -0.223      -0.090\n",
            "C(AGEPH_cat_8, Treatment(reference=\"36-50\"))[T.>60]          -0.2288      0.024     -9.386      0.000      -0.277      -0.181\n",
            "C(split_2, Treatment(reference=\"Once\"))[T.Thrice&Monthly]     0.3919      0.020     19.712      0.000       0.353       0.431\n",
            "C(split_2, Treatment(reference=\"Once\"))[T.Twice]              0.1811      0.019      9.634      0.000       0.144       0.218\n",
            "fuelc[T.Petrol]                                              -0.1549      0.017     -9.138      0.000      -0.188      -0.122\n",
            "C(agecar_2, Treatment(reference=\">5\"))[T.0-1]                 0.1682      0.036      4.709      0.000       0.098       0.238\n",
            "C(agecar_2, Treatment(reference=\">5\"))[T.2-5]                -0.0798      0.019     -4.251      0.000      -0.117      -0.043\n",
            "C(coverp_2, Treatment(reference=\"MTPL\"))[T.MTPL+&MTPL+++]    -0.1081      0.017     -6.190      0.000      -0.142      -0.074\n",
            "C(powerc_2, Treatment(reference=\"<66\"))[T.>=66]               0.0973      0.018      5.384      0.000       0.062       0.133\n",
            "=============================================================================================================================\n"
          ]
        }
      ],
      "source": [
        "freq_glm6 = smf.glm('nbrtotc ~ C(AGEPH_cat_8,Treatment(reference=\"36-50\")) + C(split_2,Treatment(reference=\"Once\")) + fuelc + C(agecar_2,Treatment(reference=\">5\")) + C(coverp_2,Treatment(reference=\"MTPL\")) + C(powerc_2,Treatment(reference=\"<66\"))', data = train, exposure = train.duree, family = sm.families.Poisson(link=sm.families.links.log())).fit()\n",
        "print(freq_glm6.summary())"
      ]
    },
    {
      "cell_type": "markdown",
      "metadata": {
        "id": "yLBS1YbDg8xh"
      },
      "source": [
        "**Adding a seventh variable?**"
      ]
    },
    {
      "cell_type": "code",
      "execution_count": null,
      "metadata": {
        "colab": {
          "base_uri": "https://localhost:8080/"
        },
        "id": "waSiPW83poX2",
        "outputId": "64adc552-de48-4aff-92bd-e5e3a0836921"
      },
      "outputs": [
        {
          "output_type": "stream",
          "name": "stdout",
          "text": [
            "0.12030880446155164\n",
            "0.10492533869368705\n",
            "0.025574158936814067\n",
            "0.15332996475471755\n"
          ]
        }
      ],
      "source": [
        "confusion_matrix=pd.crosstab(my_data[\"powerc_2\"], my_data[\"sexp\"])\n",
        "print(cramers_v(confusion_matrix.values))\n",
        "\n",
        "confusion_matrix=pd.crosstab(my_data[\"powerc_2\"], my_data[\"usec\"])\n",
        "print(cramers_v(confusion_matrix.values))\n",
        "\n",
        "confusion_matrix=pd.crosstab(my_data[\"powerc_2\"], my_data[\"fleetc\"])\n",
        "print(cramers_v(confusion_matrix.values))\n",
        "\n",
        "confusion_matrix=pd.crosstab(my_data[\"powerc_2\"], my_data[\"sportc\"])\n",
        "print(cramers_v(confusion_matrix.values))"
      ]
    },
    {
      "cell_type": "code",
      "execution_count": null,
      "metadata": {
        "id": "wnEGB2gahAk5"
      },
      "outputs": [],
      "source": [
        "freq_glm7_sexp = smf.glm('nbrtotc ~ C(AGEPH_cat_8,Treatment(reference=\"36-50\")) + C(split_2,Treatment(reference=\"Once\")) + fuelc + C(agecar_2,Treatment(reference=\">5\")) + C(coverp_2,Treatment(reference=\"MTPL\")) + C(powerc_2,Treatment(reference=\"<66\")) + sexp', data = train, exposure = train.duree, family = sm.families.Poisson(link=sm.families.links.log())).fit()\n",
        "freq_glm7_usec = smf.glm('nbrtotc ~ C(AGEPH_cat_8,Treatment(reference=\"36-50\")) + C(split_2,Treatment(reference=\"Once\")) + fuelc + C(agecar_2,Treatment(reference=\">5\")) + C(coverp_2,Treatment(reference=\"MTPL\")) + C(powerc_2,Treatment(reference=\"<66\")) + usec', data = train, exposure = train.duree, family = sm.families.Poisson(link=sm.families.links.log())).fit()\n",
        "freq_glm7_fleetc = smf.glm('nbrtotc ~ C(AGEPH_cat_8,Treatment(reference=\"36-50\")) + C(split_2,Treatment(reference=\"Once\")) + fuelc + C(agecar_2,Treatment(reference=\">5\")) + C(coverp_2,Treatment(reference=\"MTPL\")) + C(powerc_2,Treatment(reference=\"<66\")) + fleetc', data = train, exposure = train.duree, family = sm.families.Poisson(link=sm.families.links.log())).fit()\n",
        "freq_glm7_sportc = smf.glm('nbrtotc ~ C(AGEPH_cat_8,Treatment(reference=\"36-50\")) + C(split_2,Treatment(reference=\"Once\")) + fuelc + C(agecar_2,Treatment(reference=\">5\")) + C(coverp_2,Treatment(reference=\"MTPL\")) + C(powerc_2,Treatment(reference=\"<66\")) + sportc', data = train, exposure = train.duree, family = sm.families.Poisson(link=sm.families.links.log())).fit()"
      ]
    },
    {
      "cell_type": "code",
      "execution_count": null,
      "metadata": {
        "colab": {
          "base_uri": "https://localhost:8080/"
        },
        "id": "w8BcU4aChAw5",
        "outputId": "64155dbf-1d20-42a1-c260-bd0a7b8887b0"
      },
      "outputs": [
        {
          "output_type": "stream",
          "name": "stdout",
          "text": [
            "70522.25018710112\n",
            "\n",
            "70519.37267515363\n",
            "70522.1588607621\n",
            "70519.7965464787\n",
            "70521.47495708028\n",
            "\n",
            "\n",
            "100820.39015442731\n",
            "\n",
            "100819.51264247982\n",
            "100822.29882808829\n",
            "100819.93651380489\n",
            "100821.61492440646\n"
          ]
        }
      ],
      "source": [
        "print(freq_glm6.deviance)\n",
        "print(\"\")\n",
        "print(freq_glm7_sexp.deviance)\n",
        "print(freq_glm7_usec.deviance)\n",
        "print(freq_glm7_fleetc.deviance)\n",
        "print(freq_glm7_sportc.deviance)\n",
        "print(\"\")\n",
        "print(\"\")\n",
        "print(freq_glm6.aic)\n",
        "print(\"\")\n",
        "print(freq_glm7_sexp.aic)\n",
        "print(freq_glm7_usec.aic)\n",
        "print(freq_glm7_fleetc.aic)\n",
        "print(freq_glm7_sportc.aic)"
      ]
    },
    {
      "cell_type": "markdown",
      "metadata": {
        "id": "hu1bKYYThr8C"
      },
      "source": [
        "Looking at the metrics, we decide not to add a seventh variable. "
      ]
    },
    {
      "cell_type": "markdown",
      "metadata": {
        "id": "vvaqzVQnkMHI"
      },
      "source": [
        "To conclude, we perform 4 Wald tests to confirm whether the remaining variables should be added or not. "
      ]
    },
    {
      "cell_type": "code",
      "execution_count": null,
      "metadata": {
        "colab": {
          "base_uri": "https://localhost:8080/"
        },
        "id": "27OszOGbi5Wg",
        "outputId": "06c987ec-ba6d-4a01-d1a4-34ea435db20d"
      },
      "outputs": [
        {
          "output_type": "execute_result",
          "data": {
            "text/plain": [
              "<class 'statsmodels.stats.contrast.WaldTestResults'>\n",
              "                                                     chi2         P>chi2  df constraint\n",
              "Intercept                                     6069.786686   0.000000e+00              1\n",
              "C(AGEPH_cat_8, Treatment(reference=\"36-50\"))   836.593203  2.348692e-176              7\n",
              "C(split_2, Treatment(reference=\"Once\"))        390.400302   1.681325e-85              2\n",
              "fuelc                                           86.234995   1.597751e-20              1\n",
              "C(agecar_2, Treatment(reference=\">5\"))          52.347881   4.293406e-12              2\n",
              "C(coverp_2, Treatment(reference=\"MTPL\"))        38.658473   5.048364e-10              1\n",
              "C(powerc_2, Treatment(reference=\"<66\"))         31.026684   2.545053e-08              1\n",
              "sexp                                             2.889318   8.916869e-02              1"
            ]
          },
          "metadata": {},
          "execution_count": 101
        }
      ],
      "source": [
        "freq_glm7_sexp.wald_test_terms()"
      ]
    },
    {
      "cell_type": "code",
      "execution_count": null,
      "metadata": {
        "colab": {
          "base_uri": "https://localhost:8080/"
        },
        "id": "F3elMSWkoKKP",
        "outputId": "9c44e36b-3b29-4d8e-cc47-135db525d667"
      },
      "outputs": [
        {
          "output_type": "execute_result",
          "data": {
            "text/plain": [
              "<class 'statsmodels.stats.contrast.WaldTestResults'>\n",
              "                                                     chi2         P>chi2  df constraint\n",
              "Intercept                                     8667.683713   0.000000e+00              1\n",
              "C(AGEPH_cat_8, Treatment(reference=\"36-50\"))   860.046635  2.032012e-181              7\n",
              "C(split_2, Treatment(reference=\"Once\"))        391.385809   1.027192e-85              2\n",
              "fuelc                                           82.706382   9.519341e-20              1\n",
              "C(agecar_2, Treatment(reference=\">5\"))          52.449790   4.080118e-12              2\n",
              "C(coverp_2, Treatment(reference=\"MTPL\"))        38.409461   5.735366e-10              1\n",
              "C(powerc_2, Treatment(reference=\"<66\"))         28.408945   9.821050e-08              1\n",
              "usec                                             0.091620   7.621279e-01              1"
            ]
          },
          "metadata": {},
          "execution_count": 102
        }
      ],
      "source": [
        "freq_glm7_usec.wald_test_terms()"
      ]
    },
    {
      "cell_type": "code",
      "execution_count": null,
      "metadata": {
        "colab": {
          "base_uri": "https://localhost:8080/"
        },
        "id": "oyzh7mQVoLMN",
        "outputId": "0b4dcd3e-65cd-4d80-d153-db2692040a02"
      },
      "outputs": [
        {
          "output_type": "execute_result",
          "data": {
            "text/plain": [
              "<class 'statsmodels.stats.contrast.WaldTestResults'>\n",
              "                                                     chi2         P>chi2  df constraint\n",
              "Intercept                                     8708.626279   0.000000e+00              1\n",
              "C(AGEPH_cat_8, Treatment(reference=\"36-50\"))   855.367572  2.079996e-180              7\n",
              "C(split_2, Treatment(reference=\"Once\"))        385.507111   1.941755e-84              2\n",
              "fuelc                                           83.454559   6.519753e-20              1\n",
              "C(agecar_2, Treatment(reference=\">5\"))          52.353066   4.282290e-12              2\n",
              "C(coverp_2, Treatment(reference=\"MTPL\"))        36.755358   1.339220e-09              1\n",
              "C(powerc_2, Treatment(reference=\"<66\"))         29.254578   6.346609e-08              1\n",
              "fleetc                                           2.397834   1.215034e-01              1"
            ]
          },
          "metadata": {},
          "execution_count": 103
        }
      ],
      "source": [
        "freq_glm7_fleetc.wald_test_terms()"
      ]
    },
    {
      "cell_type": "code",
      "execution_count": null,
      "metadata": {
        "colab": {
          "base_uri": "https://localhost:8080/"
        },
        "id": "DBdlu3rfoRrd",
        "outputId": "63357af0-c993-41c9-dfb3-3756eb8adc2b"
      },
      "outputs": [
        {
          "output_type": "execute_result",
          "data": {
            "text/plain": [
              "<class 'statsmodels.stats.contrast.WaldTestResults'>\n",
              "                                                     chi2         P>chi2  df constraint\n",
              "Intercept                                     8752.390505   0.000000e+00              1\n",
              "C(AGEPH_cat_8, Treatment(reference=\"36-50\"))   853.084201  6.471349e-180              7\n",
              "C(split_2, Treatment(reference=\"Once\"))        391.717099   8.703875e-86              2\n",
              "fuelc                                           84.076120   4.760866e-20              1\n",
              "C(agecar_2, Treatment(reference=\">5\"))          52.341181   4.307814e-12              2\n",
              "C(coverp_2, Treatment(reference=\"MTPL\"))        38.207632   6.360316e-10              1\n",
              "C(powerc_2, Treatment(reference=\"<66\"))         26.625705   2.469364e-07              1\n",
              "sportc                                           0.791178   3.737442e-01              1"
            ]
          },
          "metadata": {},
          "execution_count": 104
        }
      ],
      "source": [
        "freq_glm7_sportc.wald_test_terms()"
      ]
    },
    {
      "cell_type": "markdown",
      "metadata": {
        "id": "4k8CCb3-ky4R"
      },
      "source": [
        "The Wald tests confirm that the remaining four variables are not significant."
      ]
    },
    {
      "cell_type": "markdown",
      "metadata": {
        "id": "qnm511HBZW9t"
      },
      "source": [
        "**Model performance**"
      ]
    },
    {
      "cell_type": "markdown",
      "metadata": {
        "id": "7poP8C82ZdkJ"
      },
      "source": [
        "We use the test dataset to validate our final model freq_glm6."
      ]
    },
    {
      "cell_type": "code",
      "execution_count": null,
      "metadata": {
        "colab": {
          "base_uri": "https://localhost:8080/"
        },
        "id": "o8i92HqmVEFG",
        "outputId": "e12f7edd-eb9f-47fd-fbd7-7ca3cebc3084"
      },
      "outputs": [
        {
          "output_type": "stream",
          "name": "stdout",
          "text": [
            "0.9290005227661272\n",
            "1.0767516979780056\n"
          ]
        }
      ],
      "source": [
        "train[\"fitted\"]=freq_glm6.predict(train, exposure = train.duree)\n",
        "print(mean_squared_error(train[\"nbrtotc\"]/train.duree,train[\"fitted\"]))\n",
        "\n",
        "test[\"predicted\"]=freq_glm6.predict(test, exposure = test.duree)\n",
        "print(mean_squared_error(test[\"nbrtotc\"]/test.duree,test[\"predicted\"] ))\n"
      ]
    },
    {
      "cell_type": "markdown",
      "metadata": {
        "id": "52nLkU51QGYq"
      },
      "source": [
        "####Method 2 : Neural Network"
      ]
    },
    {
      "cell_type": "markdown",
      "metadata": {
        "id": "lZb9XA77QQ3I"
      },
      "source": [
        "One Intercept without exposure"
      ]
    },
    {
      "cell_type": "code",
      "execution_count": null,
      "metadata": {
        "colab": {
          "base_uri": "https://localhost:8080/"
        },
        "id": "vDm1FA69QYOE",
        "outputId": "6d323734-3522-4381-d5f3-c84cb3bd9245"
      },
      "outputs": [
        {
          "output_type": "execute_result",
          "data": {
            "text/plain": [
              "1"
            ]
          },
          "metadata": {},
          "execution_count": 106
        }
      ],
      "source": [
        "# instantiate the Neural Network\n",
        "nn_freq_intercept = tf.keras.models.Sequential()\n",
        "# neural network structure - adding first layer (Dense-type, fully connected)\n",
        "nn_freq_intercept.add(tf.keras.layers.Dense(units = 1,\n",
        "                                activation = 'exponential', \n",
        "                                input_shape = (1,),\n",
        "                                use_bias = False))\n",
        "nn_freq_intercept.count_params()"
      ]
    },
    {
      "cell_type": "code",
      "execution_count": null,
      "metadata": {
        "id": "I9dtHOVqQ7Ck"
      },
      "outputs": [],
      "source": [
        "nn_freq_intercept.compile(optimizer = 'RMSprop', loss = 'poisson', metrics = [tf.keras.metrics.MeanSquaredError()])"
      ]
    },
    {
      "cell_type": "code",
      "execution_count": null,
      "metadata": {
        "colab": {
          "base_uri": "https://localhost:8080/"
        },
        "id": "_-Fy7bNFRPKy",
        "outputId": "e0e314c4-5c49-40f3-b34c-115c5cdc2584"
      },
      "outputs": [
        {
          "output_type": "stream",
          "name": "stdout",
          "text": [
            "size of input vector: 130925, size of counts vector: 130925\n"
          ]
        }
      ],
      "source": [
        "input_intercept = np.ones(train.shape[0])\n",
        "counts = np.array(train['nbrtotc'])\n",
        "print(f'size of input vector: {input_intercept.shape[0]}, size of counts vector: {counts.shape[0]}')"
      ]
    },
    {
      "cell_type": "code",
      "execution_count": null,
      "metadata": {
        "colab": {
          "base_uri": "https://localhost:8080/"
        },
        "id": "U0WaIVkoSQMm",
        "outputId": "b663d2d8-26cf-4348-9cc2-c7879c1654e7"
      },
      "outputs": [
        {
          "output_type": "execute_result",
          "data": {
            "text/plain": [
              "<keras.callbacks.History at 0x7fef05553f50>"
            ]
          },
          "metadata": {},
          "execution_count": 109
        }
      ],
      "source": [
        "# fit the neural netword\n",
        "nn_freq_intercept.fit(x = input_intercept,\n",
        "                      y = counts,\n",
        "                      epochs = 30,\n",
        "                      batch_size = 1024,\n",
        "                      validation_split = 0,\n",
        "                      verbose = 0)"
      ]
    },
    {
      "cell_type": "code",
      "execution_count": null,
      "metadata": {
        "colab": {
          "base_uri": "https://localhost:8080/"
        },
        "id": "ov4lW8AoSUUK",
        "outputId": "9c175b00-2cd3-4226-9ec1-555c4495a3db"
      },
      "outputs": [
        {
          "output_type": "execute_result",
          "data": {
            "text/plain": [
              "-2.086782932281494"
            ]
          },
          "metadata": {},
          "execution_count": 110
        }
      ],
      "source": [
        "# get_weights()\n",
        "float(nn_freq_intercept.get_weights()[0])"
      ]
    },
    {
      "cell_type": "code",
      "execution_count": null,
      "metadata": {
        "id": "naLWYteISqzm"
      },
      "outputs": [],
      "source": [
        "# prepare test data\n",
        "input_intercept_test = np.ones(test.shape[0])\n",
        "counts_test = np.array(test['nbrtotc'])\n",
        "exposure_test = np.array(test['duree']) # exposure= duree\n"
      ]
    },
    {
      "cell_type": "markdown",
      "metadata": {
        "id": "ljP52Z3gYdlp"
      },
      "source": [
        "compare with glm\n"
      ]
    },
    {
      "cell_type": "code",
      "execution_count": null,
      "metadata": {
        "colab": {
          "base_uri": "https://localhost:8080/",
          "height": 269
        },
        "id": "a0ns9hZtYgFI",
        "outputId": "048bc626-9845-4a0b-dead-dd7d3e6baed2"
      },
      "outputs": [
        {
          "output_type": "execute_result",
          "data": {
            "text/html": [
              "<table class=\"simpletable\">\n",
              "<caption>Generalized Linear Model Regression Results</caption>\n",
              "<tr>\n",
              "  <th>Dep. Variable:</th>        <td>nbrtotc</td>     <th>  No. Observations:  </th>  <td>130925</td> \n",
              "</tr>\n",
              "<tr>\n",
              "  <th>Model:</th>                  <td>GLM</td>       <th>  Df Residuals:      </th>  <td>130924</td> \n",
              "</tr>\n",
              "<tr>\n",
              "  <th>Model Family:</th>         <td>Poisson</td>     <th>  Df Model:          </th>  <td>     0</td> \n",
              "</tr>\n",
              "<tr>\n",
              "  <th>Link Function:</th>          <td>log</td>       <th>  Scale:             </th> <td>  1.0000</td>\n",
              "</tr>\n",
              "<tr>\n",
              "  <th>Method:</th>                <td>IRLS</td>       <th>  Log-Likelihood:    </th> <td> -51278.</td>\n",
              "</tr>\n",
              "<tr>\n",
              "  <th>Date:</th>            <td>Thu, 13 Jan 2022</td> <th>  Deviance:          </th> <td>  72287.</td>\n",
              "</tr>\n",
              "<tr>\n",
              "  <th>Time:</th>                <td>15:25:06</td>     <th>  Pearson chi2:      </th> <td>1.43e+05</td>\n",
              "</tr>\n",
              "<tr>\n",
              "  <th>No. Iterations:</th>          <td>6</td>        <th>                     </th>     <td> </td>   \n",
              "</tr>\n",
              "<tr>\n",
              "  <th>Covariance Type:</th>     <td>nonrobust</td>    <th>                     </th>     <td> </td>   \n",
              "</tr>\n",
              "</table>\n",
              "<table class=\"simpletable\">\n",
              "<tr>\n",
              "      <td></td>         <th>coef</th>     <th>std err</th>      <th>z</th>      <th>P>|z|</th>  <th>[0.025</th>    <th>0.975]</th>  \n",
              "</tr>\n",
              "<tr>\n",
              "  <th>Intercept</th> <td>   -2.0875</td> <td>    0.008</td> <td> -265.977</td> <td> 0.000</td> <td>   -2.103</td> <td>   -2.072</td>\n",
              "</tr>\n",
              "</table>"
            ],
            "text/plain": [
              "<class 'statsmodels.iolib.summary.Summary'>\n",
              "\"\"\"\n",
              "                 Generalized Linear Model Regression Results                  \n",
              "==============================================================================\n",
              "Dep. Variable:                nbrtotc   No. Observations:               130925\n",
              "Model:                            GLM   Df Residuals:                   130924\n",
              "Model Family:                 Poisson   Df Model:                            0\n",
              "Link Function:                    log   Scale:                          1.0000\n",
              "Method:                          IRLS   Log-Likelihood:                -51278.\n",
              "Date:                Thu, 13 Jan 2022   Deviance:                       72287.\n",
              "Time:                        15:25:06   Pearson chi2:                 1.43e+05\n",
              "No. Iterations:                     6                                         \n",
              "Covariance Type:            nonrobust                                         \n",
              "==============================================================================\n",
              "                 coef    std err          z      P>|z|      [0.025      0.975]\n",
              "------------------------------------------------------------------------------\n",
              "Intercept     -2.0875      0.008   -265.977      0.000      -2.103      -2.072\n",
              "==============================================================================\n",
              "\"\"\""
            ]
          },
          "metadata": {},
          "execution_count": 112
        }
      ],
      "source": [
        "glm_freq_intercept = sm.formula.glm(\"nbrtotc ~ 1\", data=train, family=sm.families.Poisson()).fit(); glm_freq_intercept.summary()\n"
      ]
    },
    {
      "cell_type": "code",
      "execution_count": null,
      "metadata": {
        "colab": {
          "base_uri": "https://localhost:8080/"
        },
        "id": "RrnOaWOtYwwJ",
        "outputId": "ffdd8e6b-9a3b-4e6e-d85c-ea6c309a1dbb"
      },
      "outputs": [
        {
          "output_type": "stream",
          "name": "stderr",
          "text": [
            "/usr/local/lib/python3.7/dist-packages/ipykernel_launcher.py:3: RuntimeWarning: divide by zero encountered in log\n",
            "  This is separate from the ipykernel package so we can avoid doing imports until\n"
          ]
        },
        {
          "output_type": "execute_result",
          "data": {
            "text/plain": [
              "72287.01343356622"
            ]
          },
          "metadata": {},
          "execution_count": 113
        }
      ],
      "source": [
        "\n",
        "mu = nn_freq_intercept.predict(input_intercept)[:,0]  # [:,0] selects the predictions for the first output node\n",
        "log_ratio = np.where(counts == 0, 0, np.log(counts / mu))\n",
        "deviance_nn = 2 * sum(counts * log_ratio - (counts - mu))\n",
        "deviance_nn"
      ]
    },
    {
      "cell_type": "markdown",
      "metadata": {
        "id": "_ijuiIJD67Sd"
      },
      "source": [
        "The deviance from GLM and NN are very close\n"
      ]
    },
    {
      "cell_type": "code",
      "execution_count": null,
      "metadata": {
        "colab": {
          "base_uri": "https://localhost:8080/"
        },
        "id": "I8l5CkAiZEvb",
        "outputId": "91f5e686-7e8c-4d8d-8ce7-ddfac03e154b"
      },
      "outputs": [
        {
          "output_type": "stream",
          "name": "stdout",
          "text": [
            "NN weights:-2.086782932281494, \n",
            "GLM coefficients:-2.087455234610742\n"
          ]
        }
      ],
      "source": [
        "# comparing the estimated parameter (difference reflects a different optimization technique)\n",
        "print(f'NN weights:{np.float(nn_freq_intercept.get_weights()[0])}, \\nGLM coefficients:{np.float(glm_freq_intercept.params)}')"
      ]
    },
    {
      "cell_type": "markdown",
      "metadata": {
        "id": "KhulZRoMbkxo"
      },
      "source": [
        "Comparing with exposure"
      ]
    },
    {
      "cell_type": "code",
      "source": [
        "glm_offset=freq_glm\n",
        "glm_offset.summary()"
      ],
      "metadata": {
        "colab": {
          "base_uri": "https://localhost:8080/",
          "height": 269
        },
        "id": "nZHK-srWzrOL",
        "outputId": "f94a3080-a779-49ea-aa57-484980c5286a"
      },
      "execution_count": null,
      "outputs": [
        {
          "output_type": "execute_result",
          "data": {
            "text/html": [
              "<table class=\"simpletable\">\n",
              "<caption>Generalized Linear Model Regression Results</caption>\n",
              "<tr>\n",
              "  <th>Dep. Variable:</th>        <td>nbrtotc</td>     <th>  No. Observations:  </th>  <td>130925</td> \n",
              "</tr>\n",
              "<tr>\n",
              "  <th>Model:</th>                  <td>GLM</td>       <th>  Df Residuals:      </th>  <td>130924</td> \n",
              "</tr>\n",
              "<tr>\n",
              "  <th>Model Family:</th>         <td>Poisson</td>     <th>  Df Model:          </th>  <td>     0</td> \n",
              "</tr>\n",
              "<tr>\n",
              "  <th>Link Function:</th>          <td>log</td>       <th>  Scale:             </th> <td>  1.0000</td>\n",
              "</tr>\n",
              "<tr>\n",
              "  <th>Method:</th>                <td>IRLS</td>       <th>  Log-Likelihood:    </th> <td> -51203.</td>\n",
              "</tr>\n",
              "<tr>\n",
              "  <th>Date:</th>            <td>Thu, 13 Jan 2022</td> <th>  Deviance:          </th> <td>  72137.</td>\n",
              "</tr>\n",
              "<tr>\n",
              "  <th>Time:</th>                <td>15:25:16</td>     <th>  Pearson chi2:      </th> <td>1.60e+05</td>\n",
              "</tr>\n",
              "<tr>\n",
              "  <th>No. Iterations:</th>          <td>6</td>        <th>                     </th>     <td> </td>   \n",
              "</tr>\n",
              "<tr>\n",
              "  <th>Covariance Type:</th>     <td>nonrobust</td>    <th>                     </th>     <td> </td>   \n",
              "</tr>\n",
              "</table>\n",
              "<table class=\"simpletable\">\n",
              "<tr>\n",
              "      <td></td>         <th>coef</th>     <th>std err</th>      <th>z</th>      <th>P>|z|</th>  <th>[0.025</th>    <th>0.975]</th>  \n",
              "</tr>\n",
              "<tr>\n",
              "  <th>Intercept</th> <td>   -1.9705</td> <td>    0.008</td> <td> -251.080</td> <td> 0.000</td> <td>   -1.986</td> <td>   -1.955</td>\n",
              "</tr>\n",
              "</table>"
            ],
            "text/plain": [
              "<class 'statsmodels.iolib.summary.Summary'>\n",
              "\"\"\"\n",
              "                 Generalized Linear Model Regression Results                  \n",
              "==============================================================================\n",
              "Dep. Variable:                nbrtotc   No. Observations:               130925\n",
              "Model:                            GLM   Df Residuals:                   130924\n",
              "Model Family:                 Poisson   Df Model:                            0\n",
              "Link Function:                    log   Scale:                          1.0000\n",
              "Method:                          IRLS   Log-Likelihood:                -51203.\n",
              "Date:                Thu, 13 Jan 2022   Deviance:                       72137.\n",
              "Time:                        15:25:16   Pearson chi2:                 1.60e+05\n",
              "No. Iterations:                     6                                         \n",
              "Covariance Type:            nonrobust                                         \n",
              "==============================================================================\n",
              "                 coef    std err          z      P>|z|      [0.025      0.975]\n",
              "------------------------------------------------------------------------------\n",
              "Intercept     -1.9705      0.008   -251.080      0.000      -1.986      -1.955\n",
              "==============================================================================\n",
              "\"\"\""
            ]
          },
          "metadata": {},
          "execution_count": 115
        }
      ]
    },
    {
      "cell_type": "code",
      "execution_count": null,
      "metadata": {
        "colab": {
          "base_uri": "https://localhost:8080/"
        },
        "id": "JypPlW-habv9",
        "outputId": "c94c6722-4dee-413c-b6de-7e4394475ef3"
      },
      "outputs": [
        {
          "output_type": "stream",
          "name": "stdout",
          "text": [
            "NN weights:-1.9700415134429932, \n",
            "\n",
            "GLM_offset coefficients:Intercept   -1.970542\n",
            "dtype: float64\n"
          ]
        }
      ],
      "source": [
        "# neural network architecture specification\n",
        "nn_freq_exposure = tf.keras.models.Sequential()\n",
        "nn_freq_exposure.add(tf.keras.layers.Dense(units = 1, activation = 'exponential', input_shape = (1,), use_bias = False))\n",
        "nn_freq_exposure.compile(optimizer = 'RMSprop', loss = 'poisson')\n",
        "\n",
        "# create a vector with exposure values\n",
        "exposure = np.array(train['duree']) # pd.Series must be converted to pd.array due to compatibility reasons with fit() method\n",
        "nn_freq_exposure.fit(x = input_intercept,\n",
        "                     y = counts/exposure,\n",
        "                     sample_weight = exposure,\n",
        "                     epochs = 20,\n",
        "                     batch_size = 1024,\n",
        "                     validation_split = 0,\n",
        "                     verbose = 0)\n",
        "# comparing the estimated parameter (difference reflects a different optimization technique)\n",
        "print(f'NN weights:{nn_freq_exposure.get_weights()[0][0][0]}, \\n\\nGLM_offset coefficients:{glm_offset.params}')"
      ]
    },
    {
      "cell_type": "code",
      "source": [
        "mu = nn_freq_exposure.predict(input_intercept)[:,0]*exposure  # [:,0] selects the predictions for the first output node\n",
        "log_ratio = np.where(counts == 0, 0, np.log(counts / mu))\n",
        "deviance_nn = 2 * sum(counts * log_ratio - (counts - mu))\n",
        "deviance_nn\n"
      ],
      "metadata": {
        "colab": {
          "base_uri": "https://localhost:8080/"
        },
        "id": "IperxRzZ0wtU",
        "outputId": "8a8bf2d8-37a7-4710-d683-15f6b8d10c16"
      },
      "execution_count": null,
      "outputs": [
        {
          "output_type": "stream",
          "name": "stderr",
          "text": [
            "/usr/local/lib/python3.7/dist-packages/ipykernel_launcher.py:2: RuntimeWarning: divide by zero encountered in log\n",
            "  \n"
          ]
        },
        {
          "output_type": "execute_result",
          "data": {
            "text/plain": [
              "72136.93976272705"
            ]
          },
          "metadata": {},
          "execution_count": 117
        }
      ]
    },
    {
      "cell_type": "markdown",
      "metadata": {
        "id": "hbOi23gTvIZl"
      },
      "source": [
        "We have so far compared a GLM with a rather simplistic NN without covariate without taking exposure into account and then taking exposure into account. We arrived at an estimate of the parameter very close in both cases.\n",
        "\n",
        "Below we will add a covariate and compare the models."
      ]
    },
    {
      "cell_type": "code",
      "execution_count": null,
      "metadata": {
        "id": "cZ2X1BzvwWZd"
      },
      "outputs": [],
      "source": [
        "# neural network architecture specification\n",
        "nn_freq_ageph = tf.keras.models.Sequential()\n",
        "nn_freq_ageph.add(tf.keras.layers.BatchNormalization(input_shape = (1,))) # layer_batch_normalization centers and scales the input features\n",
        "nn_freq_ageph.add(tf.keras.layers.Dense(units = 5, activation = 'relu')) # Hidden layer with 5 nodes and relu activation function\n",
        "nn_freq_ageph.add(tf.keras.layers.Dense(units = 1, activation = 'exponential', use_bias = True)) \n",
        "nn_freq_ageph.compile(optimizer = 'RMSprop', loss = 'poisson', metrics = [tf.keras.metrics.MeanSquaredError()])"
      ]
    },
    {
      "cell_type": "code",
      "execution_count": null,
      "metadata": {
        "colab": {
          "base_uri": "https://localhost:8080/"
        },
        "id": "kVBOwV0HwzeB",
        "outputId": "2e14429c-95f9-4a95-a117-6a9e9ec36a53"
      },
      "outputs": [
        {
          "output_type": "stream",
          "name": "stdout",
          "text": [
            "Model: \"sequential_2\"\n",
            "_________________________________________________________________\n",
            " Layer (type)                Output Shape              Param #   \n",
            "=================================================================\n",
            " batch_normalization (BatchN  (None, 1)                4         \n",
            " ormalization)                                                   \n",
            "                                                                 \n",
            " dense_2 (Dense)             (None, 5)                 10        \n",
            "                                                                 \n",
            " dense_3 (Dense)             (None, 1)                 6         \n",
            "                                                                 \n",
            "=================================================================\n",
            "Total params: 20\n",
            "Trainable params: 18\n",
            "Non-trainable params: 2\n",
            "_________________________________________________________________\n",
            "Epoch 1/40\n",
            "128/128 [==============================] - 1s 2ms/step - loss: 0.8088 - mean_squared_error: 1.5171\n",
            "Epoch 2/40\n",
            "128/128 [==============================] - 0s 2ms/step - loss: 0.5783 - mean_squared_error: 1.1182\n",
            "Epoch 3/40\n",
            "128/128 [==============================] - 0s 2ms/step - loss: 0.4432 - mean_squared_error: 0.9743\n",
            "Epoch 4/40\n",
            "128/128 [==============================] - 0s 2ms/step - loss: 0.3905 - mean_squared_error: 0.9343\n",
            "Epoch 5/40\n",
            "128/128 [==============================] - 0s 2ms/step - loss: 0.3739 - mean_squared_error: 0.9261\n",
            "Epoch 6/40\n",
            "128/128 [==============================] - 0s 2ms/step - loss: 0.3675 - mean_squared_error: 0.9242\n",
            "Epoch 7/40\n",
            "128/128 [==============================] - 0s 2ms/step - loss: 0.3654 - mean_squared_error: 0.9234\n",
            "Epoch 8/40\n",
            "128/128 [==============================] - 0s 1ms/step - loss: 0.3648 - mean_squared_error: 0.9232\n",
            "Epoch 9/40\n",
            "128/128 [==============================] - 0s 2ms/step - loss: 0.3646 - mean_squared_error: 0.9229\n",
            "Epoch 10/40\n",
            "128/128 [==============================] - 0s 2ms/step - loss: 0.3645 - mean_squared_error: 0.9228\n",
            "Epoch 11/40\n",
            "128/128 [==============================] - 0s 2ms/step - loss: 0.3644 - mean_squared_error: 0.9228\n",
            "Epoch 12/40\n",
            "128/128 [==============================] - 0s 2ms/step - loss: 0.3645 - mean_squared_error: 0.9227\n",
            "Epoch 13/40\n",
            "128/128 [==============================] - 0s 2ms/step - loss: 0.3644 - mean_squared_error: 0.9227\n",
            "Epoch 14/40\n",
            "128/128 [==============================] - 0s 2ms/step - loss: 0.3644 - mean_squared_error: 0.9227\n",
            "Epoch 15/40\n",
            "128/128 [==============================] - 0s 2ms/step - loss: 0.3644 - mean_squared_error: 0.9227\n",
            "Epoch 16/40\n",
            "128/128 [==============================] - 0s 2ms/step - loss: 0.3644 - mean_squared_error: 0.9226\n",
            "Epoch 17/40\n",
            "128/128 [==============================] - 0s 2ms/step - loss: 0.3644 - mean_squared_error: 0.9227\n",
            "Epoch 18/40\n",
            "128/128 [==============================] - 0s 2ms/step - loss: 0.3644 - mean_squared_error: 0.9226\n",
            "Epoch 19/40\n",
            "128/128 [==============================] - 0s 2ms/step - loss: 0.3644 - mean_squared_error: 0.9226\n",
            "Epoch 20/40\n",
            "128/128 [==============================] - 0s 2ms/step - loss: 0.3644 - mean_squared_error: 0.9226\n",
            "Epoch 21/40\n",
            "128/128 [==============================] - 0s 1ms/step - loss: 0.3644 - mean_squared_error: 0.9226\n",
            "Epoch 22/40\n",
            "128/128 [==============================] - 0s 2ms/step - loss: 0.3644 - mean_squared_error: 0.9225\n",
            "Epoch 23/40\n",
            "128/128 [==============================] - 0s 2ms/step - loss: 0.3644 - mean_squared_error: 0.9226\n",
            "Epoch 24/40\n",
            "128/128 [==============================] - 0s 2ms/step - loss: 0.3644 - mean_squared_error: 0.9226\n",
            "Epoch 25/40\n",
            "128/128 [==============================] - 0s 2ms/step - loss: 0.3644 - mean_squared_error: 0.9226\n",
            "Epoch 26/40\n",
            "128/128 [==============================] - 0s 2ms/step - loss: 0.3643 - mean_squared_error: 0.9225\n",
            "Epoch 27/40\n",
            "128/128 [==============================] - 0s 2ms/step - loss: 0.3644 - mean_squared_error: 0.9226\n",
            "Epoch 28/40\n",
            "128/128 [==============================] - 0s 2ms/step - loss: 0.3644 - mean_squared_error: 0.9226\n",
            "Epoch 29/40\n",
            "128/128 [==============================] - 0s 2ms/step - loss: 0.3644 - mean_squared_error: 0.9225\n",
            "Epoch 30/40\n",
            "128/128 [==============================] - 0s 2ms/step - loss: 0.3644 - mean_squared_error: 0.9226\n",
            "Epoch 31/40\n",
            "128/128 [==============================] - 0s 2ms/step - loss: 0.3644 - mean_squared_error: 0.9225\n",
            "Epoch 32/40\n",
            "128/128 [==============================] - 0s 2ms/step - loss: 0.3644 - mean_squared_error: 0.9225\n",
            "Epoch 33/40\n",
            "128/128 [==============================] - 0s 2ms/step - loss: 0.3644 - mean_squared_error: 0.9225\n",
            "Epoch 34/40\n",
            "128/128 [==============================] - 0s 2ms/step - loss: 0.3644 - mean_squared_error: 0.9226\n",
            "Epoch 35/40\n",
            "128/128 [==============================] - 0s 2ms/step - loss: 0.3644 - mean_squared_error: 0.9225\n",
            "Epoch 36/40\n",
            "128/128 [==============================] - 0s 2ms/step - loss: 0.3644 - mean_squared_error: 0.9225\n",
            "Epoch 37/40\n",
            "128/128 [==============================] - 0s 1ms/step - loss: 0.3644 - mean_squared_error: 0.9225\n",
            "Epoch 38/40\n",
            "128/128 [==============================] - 0s 2ms/step - loss: 0.3643 - mean_squared_error: 0.9224\n",
            "Epoch 39/40\n",
            "128/128 [==============================] - 0s 2ms/step - loss: 0.3644 - mean_squared_error: 0.9225\n",
            "Epoch 40/40\n",
            "128/128 [==============================] - 0s 2ms/step - loss: 0.3643 - mean_squared_error: 0.9226\n"
          ]
        },
        {
          "output_type": "execute_result",
          "data": {
            "text/plain": [
              "<keras.callbacks.History at 0x7fef020cb3d0>"
            ]
          },
          "metadata": {},
          "execution_count": 119
        }
      ],
      "source": [
        "nn_freq_ageph.summary()\n",
        "ageph = np.array(train['AGEPH'])\n",
        "nn_freq_ageph.fit(ageph,\n",
        "                 counts/exposure,\n",
        "                 sample_weight = exposure,\n",
        "                 epochs = 40,\n",
        "                 batch_size = 1024,\n",
        "                 validation_split = 0,\n",
        "                 verbose = 1)\n",
        "\n"
      ]
    },
    {
      "cell_type": "code",
      "execution_count": null,
      "metadata": {
        "colab": {
          "base_uri": "https://localhost:8080/",
          "height": 391
        },
        "id": "I6b2dzN323AV",
        "outputId": "38f35bb4-f321-4120-8f61-8c10219e64d6"
      },
      "outputs": [
        {
          "output_type": "execute_result",
          "data": {
            "text/plain": [
              "[<matplotlib.lines.Line2D at 0x7fef04bbcd10>]"
            ]
          },
          "metadata": {},
          "execution_count": 120
        },
        {
          "output_type": "display_data",
          "data": {
            "image/png": "[encoded data removed]",
            "text/plain": [
              "<Figure size 1080x432 with 1 Axes>"
            ]
          },
          "metadata": {
            "needs_background": "light"
          }
        }
      ],
      "source": [
        "# plotting\n",
        "age = tf.cast(np.array(range(18,96)), tf.float32)\n",
        "nn_pred = nn_freq_ageph.predict(age)\n",
        "plt.plot(age, nn_pred)"
      ]
    },
    {
      "cell_type": "code",
      "execution_count": null,
      "metadata": {
        "colab": {
          "base_uri": "https://localhost:8080/",
          "height": 541
        },
        "id": "z5JEo3Ft4Fp_",
        "outputId": "d224d779-3459-4dc0-eda1-d4e94348c5a5"
      },
      "outputs": [
        {
          "output_type": "stream",
          "name": "stdout",
          "text": [
            "(36, 50]    43404\n",
            "(60, 96]    27643\n",
            "(30, 36]    17747\n",
            "(25, 30]    12826\n",
            "(50, 55]    12543\n",
            "(55, 60]    10105\n",
            "(22, 25]     4901\n",
            "(16, 22]     1756\n",
            "Name: ageph_binned, dtype: int64\n"
          ]
        },
        {
          "output_type": "display_data",
          "data": {
            "image/png": "[encoded data removed]",
            "text/plain": [
              "<Figure size 1080x432 with 1 Axes>"
            ]
          },
          "metadata": {
            "needs_background": "light"
          }
        }
      ],
      "source": [
        "# bin for train dataset\n",
        "bins = [16,22,25,30,36,50,55,60,96]\n",
        "train['ageph_binned'] = pd.cut(train['AGEPH'], bins = bins); print(train.ageph_binned.value_counts());\n",
        "glm_age_binned = sm.formula.glm(\"nbrtotc ~ ageph_binned\", \n",
        "                            data=train, \n",
        "                            offset = np.log(train.duree),\n",
        "                            family=sm.families.Poisson()).fit(); \n",
        "\n",
        "\n",
        "age_binned = pd.cut(np.array(range(18,96)), bins = bins);\n",
        "glm_pred = glm_age_binned.predict(pd.DataFrame({'ageph_binned':age_binned}))\n",
        "\n",
        "plt.plot(age, nn_pred, label = 'NN')\n",
        "plt.plot(age, glm_pred, label = \"GLM\")\n",
        "plt.xlabel('age')\n",
        "plt.ylabel('fitted_effect')\n",
        "plt.legend()\n",
        "plt.show()\n"
      ]
    },
    {
      "cell_type": "markdown",
      "metadata": {
        "id": "0EeDopexFH1T"
      },
      "source": [
        "As we see on the graph, the Neural Network fits a smooth age effect, but does not capture:\n",
        "the elevated risk for young drivers and\n",
        "the increased risk at old ages\n"
      ]
    },
    {
      "cell_type": "markdown",
      "metadata": {
        "id": "ZoBa1o6RLZ2r"
      },
      "source": [
        "*In the code below , we will fit a neural network with the same input as the last GLM we chose in the Method 1. We will then evaluate and compare performance with deviance, mse of the model. We will try to fit different network with different size for the analysis*\n"
      ]
    },
    {
      "cell_type": "code",
      "execution_count": null,
      "metadata": {
        "colab": {
          "base_uri": "https://localhost:8080/"
        },
        "id": "sWFnES4eXTiQ",
        "outputId": "cdf0627b-cd32-4d43-e4b6-3edb576cc906"
      },
      "outputs": [
        {
          "output_type": "stream",
          "name": "stdout",
          "text": [
            "(130925, 6)\n",
            "(130925, 31)\n",
            "[[1 0 0 ... 1 0 0]\n",
            " [0 1 0 ... 1 0 0]\n",
            " [0 0 1 ... 1 0 0]\n",
            " ...\n",
            " [0 0 0 ... 1 0 0]\n",
            " [0 0 0 ... 1 0 0]\n",
            " [0 0 0 ... 1 0 0]]\n",
            "Epoch 1/40\n",
            "128/128 [==============================] - 1s 1ms/step - loss: 0.8080 - mean_squared_error: 1.6903\n",
            "Epoch 2/40\n",
            "128/128 [==============================] - 0s 1ms/step - loss: 0.4791 - mean_squared_error: 1.0246\n",
            "Epoch 3/40\n",
            "128/128 [==============================] - 0s 1ms/step - loss: 0.3895 - mean_squared_error: 0.9346\n",
            "Epoch 4/40\n",
            "128/128 [==============================] - 0s 2ms/step - loss: 0.3726 - mean_squared_error: 0.9261\n",
            "Epoch 5/40\n",
            "128/128 [==============================] - 0s 1ms/step - loss: 0.3668 - mean_squared_error: 0.9239\n",
            "Epoch 6/40\n",
            "128/128 [==============================] - 0s 1ms/step - loss: 0.3641 - mean_squared_error: 0.9227\n",
            "Epoch 7/40\n",
            "128/128 [==============================] - 0s 1ms/step - loss: 0.3629 - mean_squared_error: 0.9221\n",
            "Epoch 8/40\n",
            "128/128 [==============================] - 0s 1ms/step - loss: 0.3626 - mean_squared_error: 0.9218\n",
            "Epoch 9/40\n",
            "128/128 [==============================] - 0s 2ms/step - loss: 0.3624 - mean_squared_error: 0.9217\n",
            "Epoch 10/40\n",
            "128/128 [==============================] - 0s 1ms/step - loss: 0.3623 - mean_squared_error: 0.9216\n",
            "Epoch 11/40\n",
            "128/128 [==============================] - 0s 1ms/step - loss: 0.3623 - mean_squared_error: 0.9215\n",
            "Epoch 12/40\n",
            "128/128 [==============================] - 0s 1ms/step - loss: 0.3622 - mean_squared_error: 0.9215\n",
            "Epoch 13/40\n",
            "128/128 [==============================] - 0s 1ms/step - loss: 0.3622 - mean_squared_error: 0.9214\n",
            "Epoch 14/40\n",
            "128/128 [==============================] - 0s 1ms/step - loss: 0.3622 - mean_squared_error: 0.9214\n",
            "Epoch 15/40\n",
            "128/128 [==============================] - 0s 1ms/step - loss: 0.3622 - mean_squared_error: 0.9214\n",
            "Epoch 16/40\n",
            "128/128 [==============================] - 0s 1ms/step - loss: 0.3622 - mean_squared_error: 0.9214\n",
            "Epoch 17/40\n",
            "128/128 [==============================] - 0s 1ms/step - loss: 0.3622 - mean_squared_error: 0.9214\n",
            "Epoch 18/40\n",
            "128/128 [==============================] - 0s 1ms/step - loss: 0.3622 - mean_squared_error: 0.9214\n",
            "Epoch 19/40\n",
            "128/128 [==============================] - 0s 1ms/step - loss: 0.3622 - mean_squared_error: 0.9213\n",
            "Epoch 20/40\n",
            "128/128 [==============================] - 0s 2ms/step - loss: 0.3622 - mean_squared_error: 0.9213\n",
            "Epoch 21/40\n",
            "128/128 [==============================] - 0s 1ms/step - loss: 0.3622 - mean_squared_error: 0.9213\n",
            "Epoch 22/40\n",
            "128/128 [==============================] - 0s 1ms/step - loss: 0.3622 - mean_squared_error: 0.9213\n",
            "Epoch 23/40\n",
            "128/128 [==============================] - 0s 1ms/step - loss: 0.3622 - mean_squared_error: 0.9213\n",
            "Epoch 24/40\n",
            "128/128 [==============================] - 0s 1ms/step - loss: 0.3622 - mean_squared_error: 0.9213\n",
            "Epoch 25/40\n",
            "128/128 [==============================] - 0s 1ms/step - loss: 0.3622 - mean_squared_error: 0.9213\n",
            "Epoch 26/40\n",
            "128/128 [==============================] - 0s 1ms/step - loss: 0.3622 - mean_squared_error: 0.9213\n",
            "Epoch 27/40\n",
            "128/128 [==============================] - 0s 2ms/step - loss: 0.3622 - mean_squared_error: 0.9213\n",
            "Epoch 28/40\n",
            "128/128 [==============================] - 0s 1ms/step - loss: 0.3622 - mean_squared_error: 0.9213\n",
            "Epoch 29/40\n",
            "128/128 [==============================] - 0s 1ms/step - loss: 0.3622 - mean_squared_error: 0.9213\n",
            "Epoch 30/40\n",
            "128/128 [==============================] - 0s 1ms/step - loss: 0.3622 - mean_squared_error: 0.9213\n",
            "Epoch 31/40\n",
            "128/128 [==============================] - 0s 1ms/step - loss: 0.3622 - mean_squared_error: 0.9213\n",
            "Epoch 32/40\n",
            "128/128 [==============================] - 0s 1ms/step - loss: 0.3622 - mean_squared_error: 0.9213\n",
            "Epoch 33/40\n",
            "128/128 [==============================] - 0s 2ms/step - loss: 0.3622 - mean_squared_error: 0.9213\n",
            "Epoch 34/40\n",
            "128/128 [==============================] - 0s 1ms/step - loss: 0.3622 - mean_squared_error: 0.9213\n",
            "Epoch 35/40\n",
            "128/128 [==============================] - 0s 1ms/step - loss: 0.3622 - mean_squared_error: 0.9213\n",
            "Epoch 36/40\n",
            "128/128 [==============================] - 0s 2ms/step - loss: 0.3622 - mean_squared_error: 0.9213\n",
            "Epoch 37/40\n",
            "128/128 [==============================] - 0s 1ms/step - loss: 0.3622 - mean_squared_error: 0.9213\n",
            "Epoch 38/40\n",
            "128/128 [==============================] - 0s 1ms/step - loss: 0.3622 - mean_squared_error: 0.9213\n",
            "Epoch 39/40\n",
            "128/128 [==============================] - 0s 1ms/step - loss: 0.3622 - mean_squared_error: 0.9213\n",
            "Epoch 40/40\n",
            "128/128 [==============================] - 0s 1ms/step - loss: 0.3622 - mean_squared_error: 0.9213\n"
          ]
        },
        {
          "output_type": "execute_result",
          "data": {
            "text/plain": [
              "<keras.callbacks.History at 0x7f789f8b6ed0>"
            ]
          },
          "metadata": {},
          "execution_count": 260
        }
      ],
      "source": [
        "\n",
        "preprocessing = ColumnTransformer([\n",
        "   \n",
        "  (\"nom\", OneHotEncoder(), ['AGEPH_cat']),\n",
        "  (\"nom2\", OneHotEncoder(), ['split']),\n",
        "  (\"nom3\", OneHotEncoder(), ['fuelc']),\n",
        "  (\"nom4\", OneHotEncoder(), ['agecar']),\n",
        "  (\"nom5\", OneHotEncoder(), ['coverp']),\n",
        "  (\"nom6\", OneHotEncoder(), ['powerc'])\n",
        "  \n",
        "  \n",
        "])\n",
        "\n",
        "X_train_sub=my_data_X_train[['AGEPH_cat', 'split', 'fuelc', 'agecar','coverp', 'powerc']]\n",
        "X_test_sub=my_data_X_test[['AGEPH_cat','split', 'fuelc', 'agecar', 'coverp', 'powerc']]\n",
        "\n",
        "preprocessing.fit(X_train_sub,my_data_y_train)\n",
        "X_train_sub_trans=preprocessing.transform(X_train_sub)\n",
        "X_test_sub_trans=preprocessing.transform(X_test_sub)\n",
        "\n",
        "print(X_train_sub.shape)\n",
        "print(X_train_sub_trans.shape)\n",
        "input_intercept = X_train_sub_trans\n",
        "print(input_intercept)\n",
        "\n",
        "\n",
        "# create a vector with exposure values\n",
        "exposure = np.array(train['duree']) # pd.Series must be converted to pd.array due to compatibility reasons with fit() method\n",
        "# neural network architecture specification\n",
        "nn_freq_ageph = tf.keras.models.Sequential()\n",
        "nn_freq_ageph.add(tf.keras.layers.Dense(units = 1, activation = 'exponential', input_shape = (31,), use_bias =True))\n",
        "nn_freq_ageph.compile(optimizer = 'RMSprop', loss = 'poisson', metrics = [tf.keras.metrics.MeanSquaredError()])\n",
        "\n",
        "nn_freq_ageph.fit(input_intercept,\n",
        "                counts/exposure,\n",
        "                 sample_weight = exposure,\n",
        "                epochs = 40,\n",
        "                 batch_size = 1024,\n",
        "                validation_split = 0,\n",
        "                 verbose = 1)\n"
      ]
    },
    {
      "cell_type": "code",
      "execution_count": null,
      "metadata": {
        "colab": {
          "base_uri": "https://localhost:8080/"
        },
        "id": "cr7zYvwPlXTQ",
        "outputId": "8cdef3aa-7624-4e15-bb62-d56835bca144"
      },
      "outputs": [
        {
          "output_type": "stream",
          "name": "stdout",
          "text": [
            "[0.14625238 0.11521807 0.09270171 ... 0.13854036 0.11416193 0.00335105]\n",
            "[[0.14625238]\n",
            " [0.11521807]\n",
            " [0.09270171]\n",
            " ...\n",
            " [0.13854036]\n",
            " [0.11416193]\n",
            " [0.13590382]]\n"
          ]
        },
        {
          "output_type": "stream",
          "name": "stderr",
          "text": [
            "/usr/local/lib/python3.7/dist-packages/ipykernel_launcher.py:4: RuntimeWarning: divide by zero encountered in log\n",
            "  after removing the cwd from sys.path.\n"
          ]
        },
        {
          "output_type": "execute_result",
          "data": {
            "text/plain": [
              "70514.675431349"
            ]
          },
          "metadata": {},
          "execution_count": 261
        }
      ],
      "source": [
        "mu = nn_freq_ageph.predict(input_intercept)[:,0]*exposure\n",
        "print(mu)\n",
        "print(nn_freq_ageph.predict(input_intercept))\n",
        "log_ratio = np.where(counts == 0, 0, np.log(counts / mu))\n",
        "deviance_nn = 2 * sum(counts * log_ratio - (counts - mu))\n",
        "deviance_nn\n"
      ]
    },
    {
      "cell_type": "code",
      "execution_count": null,
      "metadata": {
        "colab": {
          "base_uri": "https://localhost:8080/"
        },
        "id": "G_7Zp8IGvRio",
        "outputId": "08600c6c-e013-4be9-853f-a04bd0a30986"
      },
      "outputs": [
        {
          "output_type": "stream",
          "name": "stdout",
          "text": [
            "Model: \"sequential_11\"\n",
            "_________________________________________________________________\n",
            " Layer (type)                Output Shape              Param #   \n",
            "=================================================================\n",
            " dense_14 (Dense)            (None, 5)                 160       \n",
            "                                                                 \n",
            " dense_15 (Dense)            (None, 1)                 6         \n",
            "                                                                 \n",
            "=================================================================\n",
            "Total params: 166\n",
            "Trainable params: 166\n",
            "Non-trainable params: 0\n",
            "_________________________________________________________________\n",
            "Epoch 1/40\n",
            "128/128 [==============================] - 1s 2ms/step - loss: 0.6511 - mean_squared_error: 1.2901\n",
            "Epoch 2/40\n",
            "128/128 [==============================] - 0s 3ms/step - loss: 0.3833 - mean_squared_error: 0.9304\n",
            "Epoch 3/40\n",
            "128/128 [==============================] - 0s 2ms/step - loss: 0.3662 - mean_squared_error: 0.9230\n",
            "Epoch 4/40\n",
            "128/128 [==============================] - 0s 2ms/step - loss: 0.3635 - mean_squared_error: 0.9222\n",
            "Epoch 5/40\n",
            "128/128 [==============================] - 0s 2ms/step - loss: 0.3628 - mean_squared_error: 0.9218\n",
            "Epoch 6/40\n",
            "128/128 [==============================] - 0s 2ms/step - loss: 0.3626 - mean_squared_error: 0.9217\n",
            "Epoch 7/40\n",
            "128/128 [==============================] - 0s 2ms/step - loss: 0.3625 - mean_squared_error: 0.9216\n",
            "Epoch 8/40\n",
            "128/128 [==============================] - 0s 2ms/step - loss: 0.3624 - mean_squared_error: 0.9216\n",
            "Epoch 9/40\n",
            "128/128 [==============================] - 0s 2ms/step - loss: 0.3624 - mean_squared_error: 0.9215\n",
            "Epoch 10/40\n",
            "128/128 [==============================] - 0s 2ms/step - loss: 0.3623 - mean_squared_error: 0.9215\n",
            "Epoch 11/40\n",
            "128/128 [==============================] - 0s 2ms/step - loss: 0.3623 - mean_squared_error: 0.9214\n",
            "Epoch 12/40\n",
            "128/128 [==============================] - 0s 2ms/step - loss: 0.3623 - mean_squared_error: 0.9214\n",
            "Epoch 13/40\n",
            "128/128 [==============================] - 0s 2ms/step - loss: 0.3623 - mean_squared_error: 0.9214\n",
            "Epoch 14/40\n",
            "128/128 [==============================] - 0s 2ms/step - loss: 0.3623 - mean_squared_error: 0.9214\n",
            "Epoch 15/40\n",
            "128/128 [==============================] - 0s 2ms/step - loss: 0.3623 - mean_squared_error: 0.9214\n",
            "Epoch 16/40\n",
            "128/128 [==============================] - 0s 2ms/step - loss: 0.3622 - mean_squared_error: 0.9213\n",
            "Epoch 17/40\n",
            "128/128 [==============================] - 0s 2ms/step - loss: 0.3623 - mean_squared_error: 0.9214\n",
            "Epoch 18/40\n",
            "128/128 [==============================] - 0s 2ms/step - loss: 0.3622 - mean_squared_error: 0.9214\n",
            "Epoch 19/40\n",
            "128/128 [==============================] - 0s 2ms/step - loss: 0.3622 - mean_squared_error: 0.9213\n",
            "Epoch 20/40\n",
            "128/128 [==============================] - 0s 2ms/step - loss: 0.3622 - mean_squared_error: 0.9213\n",
            "Epoch 21/40\n",
            "128/128 [==============================] - 0s 2ms/step - loss: 0.3622 - mean_squared_error: 0.9213\n",
            "Epoch 22/40\n",
            "128/128 [==============================] - 0s 2ms/step - loss: 0.3622 - mean_squared_error: 0.9213\n",
            "Epoch 23/40\n",
            "128/128 [==============================] - 0s 2ms/step - loss: 0.3622 - mean_squared_error: 0.9212\n",
            "Epoch 24/40\n",
            "128/128 [==============================] - 0s 2ms/step - loss: 0.3622 - mean_squared_error: 0.9213\n",
            "Epoch 25/40\n",
            "128/128 [==============================] - 0s 2ms/step - loss: 0.3622 - mean_squared_error: 0.9213\n",
            "Epoch 26/40\n",
            "128/128 [==============================] - 0s 2ms/step - loss: 0.3621 - mean_squared_error: 0.9213\n",
            "Epoch 27/40\n",
            "128/128 [==============================] - 0s 2ms/step - loss: 0.3622 - mean_squared_error: 0.9212\n",
            "Epoch 28/40\n",
            "128/128 [==============================] - 0s 2ms/step - loss: 0.3621 - mean_squared_error: 0.9213\n",
            "Epoch 29/40\n",
            "128/128 [==============================] - 0s 2ms/step - loss: 0.3621 - mean_squared_error: 0.9213\n",
            "Epoch 30/40\n",
            "128/128 [==============================] - 0s 2ms/step - loss: 0.3621 - mean_squared_error: 0.9212\n",
            "Epoch 31/40\n",
            "128/128 [==============================] - 0s 2ms/step - loss: 0.3621 - mean_squared_error: 0.9212\n",
            "Epoch 32/40\n",
            "128/128 [==============================] - 0s 2ms/step - loss: 0.3621 - mean_squared_error: 0.9212\n",
            "Epoch 33/40\n",
            "128/128 [==============================] - 0s 2ms/step - loss: 0.3621 - mean_squared_error: 0.9212\n",
            "Epoch 34/40\n",
            "128/128 [==============================] - 0s 2ms/step - loss: 0.3621 - mean_squared_error: 0.9212\n",
            "Epoch 35/40\n",
            "128/128 [==============================] - 0s 2ms/step - loss: 0.3621 - mean_squared_error: 0.9212\n",
            "Epoch 36/40\n",
            "128/128 [==============================] - 0s 2ms/step - loss: 0.3620 - mean_squared_error: 0.9212\n",
            "Epoch 37/40\n",
            "128/128 [==============================] - 0s 2ms/step - loss: 0.3621 - mean_squared_error: 0.9212\n",
            "Epoch 38/40\n",
            "128/128 [==============================] - 0s 2ms/step - loss: 0.3621 - mean_squared_error: 0.9212\n",
            "Epoch 39/40\n",
            "128/128 [==============================] - 0s 2ms/step - loss: 0.3620 - mean_squared_error: 0.9212\n",
            "Epoch 40/40\n",
            "128/128 [==============================] - 0s 2ms/step - loss: 0.3620 - mean_squared_error: 0.9212\n"
          ]
        },
        {
          "output_type": "execute_result",
          "data": {
            "text/plain": [
              "<keras.callbacks.History at 0x7f789d3a6b50>"
            ]
          },
          "metadata": {},
          "execution_count": 262
        }
      ],
      "source": [
        "\n",
        "# neural network architecture specification\n",
        "nn_freq_ageph = tf.keras.models.Sequential()\n",
        "nn_freq_ageph.add(tf.keras.layers.Dense(units = 5, activation = 'relu', input_shape = (31,)))\n",
        "nn_freq_ageph.add(tf.keras.layers.Dense(units = 1, activation = 'exponential', use_bias = True)) \n",
        "nn_freq_ageph.summary()\n",
        "\n",
        "nn_freq_ageph.compile(optimizer = 'RMSprop', loss = 'poisson', metrics = [tf.keras.metrics.MeanSquaredError()])\n",
        "\n",
        "nn_freq_ageph.fit(input_intercept,\n",
        "                counts/exposure,\n",
        "                 sample_weight = exposure,\n",
        "                epochs = 40,\n",
        "                 batch_size = 1024,\n",
        "                validation_split = 0,\n",
        "                 verbose = 1)\n"
      ]
    },
    {
      "cell_type": "code",
      "execution_count": null,
      "metadata": {
        "colab": {
          "base_uri": "https://localhost:8080/"
        },
        "id": "LoglDYO3wgbo",
        "outputId": "85ee8ad3-d991-4d2c-8a38-70e2ae5e0e46"
      },
      "outputs": [
        {
          "output_type": "stream",
          "name": "stderr",
          "text": [
            "/usr/local/lib/python3.7/dist-packages/ipykernel_launcher.py:2: RuntimeWarning: divide by zero encountered in log\n",
            "  \n"
          ]
        },
        {
          "output_type": "execute_result",
          "data": {
            "text/plain": [
              "70458.62738996182"
            ]
          },
          "metadata": {},
          "execution_count": 263
        }
      ],
      "source": [
        "mu = nn_freq_ageph.predict(input_intercept)[:,0]*exposure\n",
        "log_ratio = np.where(counts == 0, 0, np.log(counts / mu))\n",
        "deviance_nn = 2 * sum(counts * log_ratio - (counts - mu))\n",
        "\n",
        "deviance_nn"
      ]
    },
    {
      "cell_type": "code",
      "execution_count": null,
      "metadata": {
        "colab": {
          "base_uri": "https://localhost:8080/"
        },
        "id": "X6lRUQgKwtVU",
        "outputId": "7578c84f-6e8f-4c29-bae5-c2a5bf7e034c"
      },
      "outputs": [
        {
          "output_type": "stream",
          "name": "stdout",
          "text": [
            "test Poisson loss, test MSE: [0.36235108971595764, 1.0689622163772583]\n"
          ]
        }
      ],
      "source": [
        "# evaluate performance of nn_freq_ageph on test data\n",
        "ageph_test=X_test_sub_trans\n",
        "counts_test = np.array(test['nbrtotc'])\n",
        "exposure_test = np.array(test['duree'])\n",
        "results=nn_freq_ageph.evaluate(ageph_test, counts_test/exposure_test, sample_weight=exposure_test, verbose = 0)\n",
        "\n",
        "print(\"test Poisson loss, test MSE:\", results)"
      ]
    },
    {
      "cell_type": "code",
      "execution_count": null,
      "metadata": {
        "colab": {
          "base_uri": "https://localhost:8080/"
        },
        "id": "q2E8aSbgLu1D",
        "outputId": "62e4f9af-0268-4b2b-9334-f147cf737654"
      },
      "outputs": [
        {
          "output_type": "stream",
          "name": "stdout",
          "text": [
            "train Poisson loss, test MSE: [0.3619447946548462, 0.9210168123245239]\n"
          ]
        }
      ],
      "source": [
        "ageph_train=X_train_sub_trans\n",
        "counts = np.array(train['nbrtotc'])\n",
        "exposure= np.array(train['duree'])\n",
        "results=nn_freq_ageph.evaluate(ageph_train, counts/exposure, sample_weight=exposure, verbose = 0)\n",
        "\n",
        "print(\"train Poisson loss, test MSE:\", results)"
      ]
    },
    {
      "cell_type": "code",
      "execution_count": null,
      "metadata": {
        "colab": {
          "base_uri": "https://localhost:8080/"
        },
        "id": "0fNhD02lMUjx",
        "outputId": "66d381bc-1aac-498f-c0a8-4e86d6a636c3"
      },
      "outputs": [
        {
          "output_type": "stream",
          "name": "stdout",
          "text": [
            "1\n"
          ]
        },
        {
          "output_type": "stream",
          "name": "stderr",
          "text": [
            "/usr/local/lib/python3.7/dist-packages/ipykernel_launcher.py:18: RuntimeWarning: divide by zero encountered in log\n"
          ]
        },
        {
          "output_type": "stream",
          "name": "stdout",
          "text": [
            "model with   optimizer= RMSprop   and activation= relu 1   neurons in the hiden layer test Poisson loss, test MSE: [0.36820894479751587, 1.0716134309768677]  deviance 72136.96395865525\n",
            "2\n",
            "model with   optimizer= RMSprop   and activation= relu 2   neurons in the hiden layer test Poisson loss, test MSE: [0.3621821999549866, 1.0688822269439697]  deviance 70514.07386642542\n",
            "3\n",
            "model with   optimizer= RMSprop   and activation= relu 3   neurons in the hiden layer test Poisson loss, test MSE: [0.3621944189071655, 1.068958044052124]  deviance 70510.91061239215\n",
            "4\n",
            "model with   optimizer= RMSprop   and activation= relu 4   neurons in the hiden layer test Poisson loss, test MSE: [0.3622715473175049, 1.0689938068389893]  deviance 70486.61203069979\n",
            "5\n",
            "model with   optimizer= RMSprop   and activation= relu 5   neurons in the hiden layer test Poisson loss, test MSE: [0.36231186985969543, 1.0689069032669067]  deviance 70433.24190467419\n",
            "6\n",
            "model with   optimizer= RMSprop   and activation= relu 6   neurons in the hiden layer test Poisson loss, test MSE: [0.36211898922920227, 1.0690553188323975]  deviance 70456.4698175393\n",
            "7\n",
            "model with   optimizer= RMSprop   and activation= relu 7   neurons in the hiden layer test Poisson loss, test MSE: [0.36217957735061646, 1.0691945552825928]  deviance 70370.98836385914\n",
            "8\n",
            "model with   optimizer= RMSprop   and activation= relu 8   neurons in the hiden layer test Poisson loss, test MSE: [0.3620258867740631, 1.0689233541488647]  deviance 70409.0975514285\n",
            "9\n",
            "model with   optimizer= RMSprop   and activation= relu 9   neurons in the hiden layer test Poisson loss, test MSE: [0.3624267876148224, 1.0688395500183105]  deviance 70361.46059502209\n",
            "10\n",
            "model with   optimizer= RMSprop   and activation= relu 10   neurons in the hiden layer test Poisson loss, test MSE: [0.36233338713645935, 1.06880521774292]  deviance 70352.52255901427\n",
            "1\n",
            "model with   optimizer= adam   and activation= relu 1   neurons in the hiden layer test Poisson loss, test MSE: [0.36218827962875366, 1.0688825845718384]  deviance 70513.47314622429\n",
            "2\n",
            "model with   optimizer= adam   and activation= relu 2   neurons in the hiden layer test Poisson loss, test MSE: [0.36822789907455444, 1.0714737176895142]  deviance 72147.76077125299\n",
            "3\n",
            "model with   optimizer= adam   and activation= relu 3   neurons in the hiden layer test Poisson loss, test MSE: [0.36827489733695984, 1.0714370012283325]  deviance 72154.9231316916\n",
            "4\n",
            "model with   optimizer= adam   and activation= relu 4   neurons in the hiden layer test Poisson loss, test MSE: [0.3621472418308258, 1.0689653158187866]  deviance 70506.58049818141\n",
            "5\n",
            "model with   optimizer= adam   and activation= relu 5   neurons in the hiden layer test Poisson loss, test MSE: [0.36221107840538025, 1.0691795349121094]  deviance 70482.29569360288\n",
            "6\n",
            "model with   optimizer= adam   and activation= relu 6   neurons in the hiden layer test Poisson loss, test MSE: [0.3621664345264435, 1.0689575672149658]  deviance 70434.2214172415\n",
            "7\n",
            "model with   optimizer= adam   and activation= relu 7   neurons in the hiden layer test Poisson loss, test MSE: [0.3621768057346344, 1.0687841176986694]  deviance 70382.6456413039\n",
            "8\n",
            "model with   optimizer= adam   and activation= relu 8   neurons in the hiden layer test Poisson loss, test MSE: [0.36229467391967773, 1.0691843032836914]  deviance 70427.2102891218\n",
            "9\n",
            "model with   optimizer= adam   and activation= relu 9   neurons in the hiden layer test Poisson loss, test MSE: [0.3622708320617676, 1.0687925815582275]  deviance 70414.36397135764\n",
            "10\n",
            "model with   optimizer= adam   and activation= relu 10   neurons in the hiden layer test Poisson loss, test MSE: [0.36209818720817566, 1.068621039390564]  deviance 70406.89261090073\n",
            "1\n",
            "model with   optimizer= RMSprop   and activation= softmax 1   neurons in the hiden layer test Poisson loss, test MSE: [0.36820921301841736, 1.071611762046814]  deviance 72136.97031189772\n",
            "2\n",
            "model with   optimizer= RMSprop   and activation= softmax 2   neurons in the hiden layer test Poisson loss, test MSE: [0.362332284450531, 1.0688837766647339]  deviance 70530.62602822256\n",
            "3\n",
            "model with   optimizer= RMSprop   and activation= softmax 3   neurons in the hiden layer test Poisson loss, test MSE: [0.36234521865844727, 1.068981647491455]  deviance 70481.44047865181\n",
            "4\n",
            "model with   optimizer= RMSprop   and activation= softmax 4   neurons in the hiden layer test Poisson loss, test MSE: [0.3622542917728424, 1.0690923929214478]  deviance 70445.80338017341\n",
            "5\n",
            "model with   optimizer= RMSprop   and activation= softmax 5   neurons in the hiden layer test Poisson loss, test MSE: [0.3621957004070282, 1.0689690113067627]  deviance 70453.89774797694\n",
            "6\n",
            "model with   optimizer= RMSprop   and activation= softmax 6   neurons in the hiden layer test Poisson loss, test MSE: [0.36231401562690735, 1.0690537691116333]  deviance 70462.93414504292\n",
            "7\n",
            "model with   optimizer= RMSprop   and activation= softmax 7   neurons in the hiden layer test Poisson loss, test MSE: [0.36228054761886597, 1.0691312551498413]  deviance 70497.23080395564\n",
            "8\n",
            "model with   optimizer= RMSprop   and activation= softmax 8   neurons in the hiden layer test Poisson loss, test MSE: [0.36226174235343933, 1.069075584411621]  deviance 70437.31194932859\n",
            "9\n",
            "model with   optimizer= RMSprop   and activation= softmax 9   neurons in the hiden layer test Poisson loss, test MSE: [0.36230212450027466, 1.0690603256225586]  deviance 70431.97424206966\n",
            "10\n",
            "model with   optimizer= RMSprop   and activation= softmax 10   neurons in the hiden layer test Poisson loss, test MSE: [0.362234503030777, 1.0691379308700562]  deviance 70464.53451290102\n",
            "1\n",
            "model with   optimizer= adam   and activation= softmax 1   neurons in the hiden layer test Poisson loss, test MSE: [0.36820846796035767, 1.0716279745101929]  deviance 72136.95231644184\n",
            "2\n",
            "model with   optimizer= adam   and activation= softmax 2   neurons in the hiden layer test Poisson loss, test MSE: [0.36238721013069153, 1.068953275680542]  deviance 70542.39551963996\n",
            "3\n",
            "model with   optimizer= adam   and activation= softmax 3   neurons in the hiden layer test Poisson loss, test MSE: [0.36246761679649353, 1.069054126739502]  deviance 70585.21850650151\n",
            "4\n",
            "model with   optimizer= adam   and activation= softmax 4   neurons in the hiden layer test Poisson loss, test MSE: [0.36227595806121826, 1.0688449144363403]  deviance 70490.27416541328\n",
            "5\n",
            "model with   optimizer= adam   and activation= softmax 5   neurons in the hiden layer test Poisson loss, test MSE: [0.362339586019516, 1.0688620805740356]  deviance 70546.46245474304\n",
            "6\n",
            "model with   optimizer= adam   and activation= softmax 6   neurons in the hiden layer test Poisson loss, test MSE: [0.36230531334877014, 1.0689548254013062]  deviance 70479.92766066862\n",
            "7\n",
            "model with   optimizer= adam   and activation= softmax 7   neurons in the hiden layer test Poisson loss, test MSE: [0.36227089166641235, 1.0689427852630615]  deviance 70498.24669375744\n",
            "8\n",
            "model with   optimizer= adam   and activation= softmax 8   neurons in the hiden layer test Poisson loss, test MSE: [0.36218392848968506, 1.0689133405685425]  deviance 70512.82422218302\n",
            "9\n",
            "model with   optimizer= adam   and activation= softmax 9   neurons in the hiden layer test Poisson loss, test MSE: [0.3622871935367584, 1.0688755512237549]  deviance 70503.56053029445\n",
            "10\n",
            "model with   optimizer= adam   and activation= softmax 10   neurons in the hiden layer test Poisson loss, test MSE: [0.3622741103172302, 1.0688608884811401]  deviance 70526.99082553296\n",
            "1\n",
            "model with   optimizer= RMSprop   and activation= sigmoid 1   neurons in the hiden layer test Poisson loss, test MSE: [0.3622870445251465, 1.0688756704330444]  deviance 70532.22561437197\n",
            "2\n",
            "model with   optimizer= RMSprop   and activation= sigmoid 2   neurons in the hiden layer test Poisson loss, test MSE: [0.3621984124183655, 1.068864345550537]  deviance 70517.95959557811\n",
            "3\n",
            "model with   optimizer= RMSprop   and activation= sigmoid 3   neurons in the hiden layer test Poisson loss, test MSE: [0.36246371269226074, 1.0690566301345825]  deviance 70530.67523252958\n",
            "4\n",
            "model with   optimizer= RMSprop   and activation= sigmoid 4   neurons in the hiden layer test Poisson loss, test MSE: [0.36219972372055054, 1.068985939025879]  deviance 70504.28437208665\n",
            "5\n",
            "model with   optimizer= RMSprop   and activation= sigmoid 5   neurons in the hiden layer test Poisson loss, test MSE: [0.3622398376464844, 1.069010853767395]  deviance 70457.72498971876\n",
            "6\n",
            "model with   optimizer= RMSprop   and activation= sigmoid 6   neurons in the hiden layer test Poisson loss, test MSE: [0.36212870478630066, 1.0688886642456055]  deviance 70470.15591885742\n",
            "7\n",
            "model with   optimizer= RMSprop   and activation= sigmoid 7   neurons in the hiden layer test Poisson loss, test MSE: [0.36220312118530273, 1.0689525604248047]  deviance 70475.73993189802\n",
            "8\n",
            "model with   optimizer= RMSprop   and activation= sigmoid 8   neurons in the hiden layer test Poisson loss, test MSE: [0.3621521294116974, 1.068959355354309]  deviance 70467.30979405587\n",
            "9\n",
            "model with   optimizer= RMSprop   and activation= sigmoid 9   neurons in the hiden layer test Poisson loss, test MSE: [0.3622152507305145, 1.0686663389205933]  deviance 70467.09782241001\n",
            "10\n",
            "model with   optimizer= RMSprop   and activation= sigmoid 10   neurons in the hiden layer test Poisson loss, test MSE: [0.36215564608573914, 1.0689568519592285]  deviance 70465.46176261622\n",
            "1\n",
            "model with   optimizer= adam   and activation= sigmoid 1   neurons in the hiden layer test Poisson loss, test MSE: [0.3682869076728821, 1.0714480876922607]  deviance 72155.47025451592\n",
            "2\n",
            "model with   optimizer= adam   and activation= sigmoid 2   neurons in the hiden layer test Poisson loss, test MSE: [0.3622458875179291, 1.0690269470214844]  deviance 70519.8333250987\n",
            "3\n",
            "model with   optimizer= adam   and activation= sigmoid 3   neurons in the hiden layer test Poisson loss, test MSE: [0.3622083067893982, 1.0688667297363281]  deviance 70500.2548858756\n",
            "4\n",
            "model with   optimizer= adam   and activation= sigmoid 4   neurons in the hiden layer test Poisson loss, test MSE: [0.3625212013721466, 1.069015622138977]  deviance 70543.55724966933\n",
            "5\n",
            "model with   optimizer= adam   and activation= sigmoid 5   neurons in the hiden layer test Poisson loss, test MSE: [0.36534783244132996, 1.070239543914795]  deviance 71319.82076954888\n",
            "6\n",
            "model with   optimizer= adam   and activation= sigmoid 6   neurons in the hiden layer test Poisson loss, test MSE: [0.3621057868003845, 1.0687825679779053]  deviance 70492.02832995295\n",
            "7\n",
            "model with   optimizer= adam   and activation= sigmoid 7   neurons in the hiden layer test Poisson loss, test MSE: [0.36229172348976135, 1.0691841840744019]  deviance 70530.71995659063\n",
            "8\n",
            "model with   optimizer= adam   and activation= sigmoid 8   neurons in the hiden layer test Poisson loss, test MSE: [0.3621373176574707, 1.0688731670379639]  deviance 70481.52828383174\n",
            "9\n",
            "model with   optimizer= adam   and activation= sigmoid 9   neurons in the hiden layer test Poisson loss, test MSE: [0.3620733618736267, 1.0689516067504883]  deviance 70491.62264497197\n",
            "10\n",
            "model with   optimizer= adam   and activation= sigmoid 10   neurons in the hiden layer test Poisson loss, test MSE: [0.36217713356018066, 1.0687860250473022]  deviance 70496.91349835832\n"
          ]
        }
      ],
      "source": [
        "def best_NN(j, activation, optimizer):\n",
        "  i = 1\n",
        "  while i <= j:\n",
        "    print(i)\n",
        "    tf.keras.backend.clear_session()\n",
        "    nn_freq_ageph = tf.keras.models.Sequential()\n",
        "    nn_freq_ageph.add(tf.keras.layers.Dense(units = i, activation = activation, input_shape = (31,)))\n",
        "    nn_freq_ageph.add(tf.keras.layers.Dense(units = 1, activation = 'exponential', use_bias = True)) \n",
        "    nn_freq_ageph.compile(optimizer = optimizer, loss = 'poisson', metrics = [tf.keras.metrics.MeanSquaredError()])\n",
        "    nn_freq_ageph.fit(input_intercept,\n",
        "                counts/exposure,\n",
        "                 sample_weight = exposure,\n",
        "                epochs = 40,\n",
        "                 batch_size = 1024,\n",
        "                validation_split = 0,\n",
        "                 verbose = 0)\n",
        "    mu = nn_freq_ageph.predict(input_intercept)[:,0]*exposure\n",
        "    log_ratio = np.where(counts == 0, 0, np.log(counts / mu))\n",
        "    deviance_nn = 2 * sum(counts * log_ratio - (counts - mu))\n",
        "    results_test=nn_freq_ageph.evaluate(ageph_test, counts_test/exposure_test, sample_weight=exposure_test, verbose = 0)\n",
        "    print(\"model with\",\" \", \"optimizer=\", str(optimizer), \" \" , \"and activation=\", str(activation), str(i), \" \", \"neurons in the hiden layer\",\"test Poisson loss, test MSE:\", results_test , \" deviance\", str(deviance_nn))\n",
        "    i += 1\n",
        "\n",
        "\n",
        "\n",
        "np.random.seed(8)\n",
        "\n",
        "best_NN(10, 'relu','RMSprop')\n",
        "best_NN(10, 'relu','adam')\n",
        "best_NN(10, 'softmax','RMSprop')\n",
        "best_NN(10, 'softmax','adam')\n",
        "best_NN(10, 'sigmoid','RMSprop')\n",
        "best_NN(10, 'sigmoid','adam')\n",
        "\n"
      ]
    }
  ],
  "metadata": {
    "colab": {
      "collapsed_sections": [
        "brtzEflc8x6Y",
        "dfP7LiSRmHrT"
      ],
      "name": "Kopie van read_data_assignment.ipynb",
      "provenance": [],
      "toc_visible": true
    },
    "kernelspec": {
      "display_name": "Python 3",
      "name": "python3"
    },
    "language_info": {
      "name": "python"
    }
  },
  "nbformat": 4,
  "nbformat_minor": 0
}