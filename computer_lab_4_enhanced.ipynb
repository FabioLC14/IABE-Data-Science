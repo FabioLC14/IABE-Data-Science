{
  "nbformat": 4,
  "nbformat_minor": 0,
  "metadata": {
    "colab": {
      "name": "computer_lab_4_enhanced.ipynb",
      "provenance": [],
      "collapsed_sections": [
        "6J2TN498QP_Z"
      ],
      "toc_visible": true
    },
    "kernelspec": {
      "display_name": "Python 3 (ipykernel)",
      "language": "python",
      "name": "python3"
    },
    "language_info": {
      "codemirror_mode": {
        "name": "ipython",
        "version": 3
      },
      "file_extension": ".py",
      "mimetype": "text/x-python",
      "name": "python",
      "nbconvert_exporter": "python",
      "pygments_lexer": "ipython3",
      "version": "3.7.11"
    }
  },
  "cells": [
    {
      "cell_type": "markdown",
      "metadata": {
        "id": "Ll-0K6jlXkXd"
      },
      "source": [
        "<center> <h1> <span style=\"color:black\"> IABE Data Science Certificate - Module 1 - Computer lab 4  </h1> </center> \n",
        "<center> <h2> <span style=\"color:red\"> Programming : Neural Networks </h1> </center>"
      ]
    },
    {
      "cell_type": "markdown",
      "metadata": {
        "id": "P58TOeTnO3fS"
      },
      "source": [
        "# Agenda\n",
        "\n",
        "* [Chapter 1 - Getting started](#one)\n",
        "    + [1.1 Libraries](#one-one)\n",
        "    + [1.2 Data](#one-two)\n",
        "    + [1.3 Tensors](#one-three)\n",
        "\n",
        "\n",
        "* [Chapter 2 - Fitting a GLM with a Neural Network](#two)\n",
        "    + [2.1 A GLM with only an intercept](#two-one)\n",
        "    + [2.2 A binomial Neural Network](#two-two)\n",
        "    + [2.3 Including exposure](#two-three)\n",
        "    + [2.4 Adding covariates](#two-four)\n",
        "    \n",
        "    \n",
        "* [Chapter 3 - Deep Neural Networks](#three)\n",
        "    + [3.1 Hidden layers](#three-one)\n",
        "    + [3.2 CANN - Combined Actuarial Neural Network](#three-two)"
      ]
    },
    {
      "cell_type": "markdown",
      "metadata": {
        "id": "TCqCYHUh0prC"
      },
      "source": [
        "# Chapter 1 - Getting started <a name=\"one\"></a>"
      ]
    },
    {
      "cell_type": "markdown",
      "metadata": {
        "id": "ViU8bV0IPn_S"
      },
      "source": [
        "## 1.1 Libraries <a name=\"one-one\"></a>"
      ]
    },
    {
      "cell_type": "code",
      "metadata": {
        "id": "ch2EXlCZYOPT",
        "colab": {
          "base_uri": "https://localhost:8080/"
        },
        "outputId": "9afe575c-53b9-4059-bbd9-5b7b3fdecb7d"
      },
      "source": [
        "import pandas as pd\n",
        "import numpy as np\n",
        "import tensorflow as tf\n",
        "from tensorflow.keras.utils import plot_model\n",
        "from sklearn.model_selection import train_test_split\n",
        "import statsmodels.api as sm\n",
        "import matplotlib.pyplot as plt"
      ],
      "execution_count": null,
      "outputs": [
        {
          "output_type": "stream",
          "name": "stderr",
          "text": [
            "/usr/local/lib/python3.7/dist-packages/statsmodels/tools/_testing.py:19: FutureWarning: pandas.util.testing is deprecated. Use the functions in the public API at pandas.testing instead.\n",
            "  import pandas.util.testing as tm\n"
          ]
        }
      ]
    },
    {
      "cell_type": "markdown",
      "metadata": {
        "id": "zQIbXopv0wAe"
      },
      "source": [
        "## 1.2 MTPL data <a name=\"one-two\"></a>"
      ]
    },
    {
      "cell_type": "markdown",
      "metadata": {
        "id": "v6FYFWod0wAe"
      },
      "source": [
        "We will (once again) use the Motor Third Party Liability data set. There are 163,231 policyholders in this data set."
      ]
    },
    {
      "cell_type": "markdown",
      "metadata": {
        "id": "o29sazN30wAf"
      },
      "source": [
        "The frequency of claiming ( nclaims ) and corresponding severity ( avg , the amount paid on average per claim reported by a\n",
        "policyholder) are the target variables in this data set."
      ]
    },
    {
      "cell_type": "markdown",
      "metadata": {
        "id": "NfZkA_V60wAf"
      },
      "source": [
        "Predictor variables are:\n",
        "* the exposure-to-risk, the duration of the insurance coverage (max. 1 year)\n",
        "* factor variables, e.g. gender, coverage, fuel\n",
        "* continuous, numeric variables, e.g. age of the policyholder, age of the car\n",
        "* spatial information: postal code (in Belgium) of the municipality where the policyholder resides.  \n",
        "\n",
        "More details in [Henckaerts et al. (2018, Scandinavian Actuarial Journal)](https://katrienantonio.github.io/projects/2019/06/13/machine-learning/#data-driven) and [Henckaerts et al. (2019, arxiv)](https://katrienantonio.github.io/projects/2019/06/13/machine-learning/#tree-based-pricing)."
      ]
    },
    {
      "cell_type": "code",
      "metadata": {
        "id": "Gr9Y7hYUycLk"
      },
      "source": [
        "# load data using separator to correctly parse from .txt\n",
        "df = pd.read_csv(\"https://katrienantonio.github.io/hands-on-machine-learning-R-module-1/data/PC_data.txt\", sep=r\"\\s+\")"
      ],
      "execution_count": null,
      "outputs": []
    },
    {
      "cell_type": "code",
      "metadata": {
        "id": "VzIxp76BycLl"
      },
      "source": [
        "# column names to smaller case\n",
        "df.columns = map(str.lower, df.columns)"
      ],
      "execution_count": null,
      "outputs": []
    },
    {
      "cell_type": "code",
      "metadata": {
        "colab": {
          "base_uri": "https://localhost:8080/",
          "height": 206
        },
        "id": "owtaOE4OycLl",
        "outputId": "f49eb683-bf0b-43ac-f3a6-3003e751ffc3"
      },
      "source": [
        "# rename exp to expo\n",
        "df.rename(columns={'exp':'expo'}, inplace = True); df.head()"
      ],
      "execution_count": null,
      "outputs": [
        {
          "output_type": "execute_result",
          "data": {
            "text/html": [
              "<div>\n",
              "<style scoped>\n",
              "    .dataframe tbody tr th:only-of-type {\n",
              "        vertical-align: middle;\n",
              "    }\n",
              "\n",
              "    .dataframe tbody tr th {\n",
              "        vertical-align: top;\n",
              "    }\n",
              "\n",
              "    .dataframe thead th {\n",
              "        text-align: right;\n",
              "    }\n",
              "</style>\n",
              "<table border=\"1\" class=\"dataframe\">\n",
              "  <thead>\n",
              "    <tr style=\"text-align: right;\">\n",
              "      <th></th>\n",
              "      <th>id</th>\n",
              "      <th>nclaims</th>\n",
              "      <th>amount</th>\n",
              "      <th>avg</th>\n",
              "      <th>expo</th>\n",
              "      <th>coverage</th>\n",
              "      <th>fuel</th>\n",
              "      <th>use</th>\n",
              "      <th>fleet</th>\n",
              "      <th>sex</th>\n",
              "      <th>ageph</th>\n",
              "      <th>bm</th>\n",
              "      <th>agec</th>\n",
              "      <th>power</th>\n",
              "      <th>pc</th>\n",
              "      <th>town</th>\n",
              "      <th>long</th>\n",
              "      <th>lat</th>\n",
              "    </tr>\n",
              "  </thead>\n",
              "  <tbody>\n",
              "    <tr>\n",
              "      <th>0</th>\n",
              "      <td>1</td>\n",
              "      <td>1</td>\n",
              "      <td>1618.001036</td>\n",
              "      <td>1618.001036</td>\n",
              "      <td>1.000000</td>\n",
              "      <td>TPL</td>\n",
              "      <td>gasoline</td>\n",
              "      <td>private</td>\n",
              "      <td>N</td>\n",
              "      <td>male</td>\n",
              "      <td>50</td>\n",
              "      <td>5</td>\n",
              "      <td>12</td>\n",
              "      <td>77</td>\n",
              "      <td>1000</td>\n",
              "      <td>BRUSSEL</td>\n",
              "      <td>4.355223</td>\n",
              "      <td>50.845386</td>\n",
              "    </tr>\n",
              "    <tr>\n",
              "      <th>1</th>\n",
              "      <td>2</td>\n",
              "      <td>0</td>\n",
              "      <td>0.000000</td>\n",
              "      <td>NaN</td>\n",
              "      <td>1.000000</td>\n",
              "      <td>PO</td>\n",
              "      <td>gasoline</td>\n",
              "      <td>private</td>\n",
              "      <td>N</td>\n",
              "      <td>female</td>\n",
              "      <td>64</td>\n",
              "      <td>5</td>\n",
              "      <td>3</td>\n",
              "      <td>66</td>\n",
              "      <td>1000</td>\n",
              "      <td>BRUSSEL</td>\n",
              "      <td>4.355223</td>\n",
              "      <td>50.845386</td>\n",
              "    </tr>\n",
              "    <tr>\n",
              "      <th>2</th>\n",
              "      <td>3</td>\n",
              "      <td>0</td>\n",
              "      <td>0.000000</td>\n",
              "      <td>NaN</td>\n",
              "      <td>1.000000</td>\n",
              "      <td>TPL</td>\n",
              "      <td>diesel</td>\n",
              "      <td>private</td>\n",
              "      <td>N</td>\n",
              "      <td>male</td>\n",
              "      <td>60</td>\n",
              "      <td>0</td>\n",
              "      <td>10</td>\n",
              "      <td>70</td>\n",
              "      <td>1000</td>\n",
              "      <td>BRUSSEL</td>\n",
              "      <td>4.355223</td>\n",
              "      <td>50.845386</td>\n",
              "    </tr>\n",
              "    <tr>\n",
              "      <th>3</th>\n",
              "      <td>4</td>\n",
              "      <td>0</td>\n",
              "      <td>0.000000</td>\n",
              "      <td>NaN</td>\n",
              "      <td>1.000000</td>\n",
              "      <td>TPL</td>\n",
              "      <td>gasoline</td>\n",
              "      <td>private</td>\n",
              "      <td>N</td>\n",
              "      <td>male</td>\n",
              "      <td>77</td>\n",
              "      <td>0</td>\n",
              "      <td>15</td>\n",
              "      <td>57</td>\n",
              "      <td>1000</td>\n",
              "      <td>BRUSSEL</td>\n",
              "      <td>4.355223</td>\n",
              "      <td>50.845386</td>\n",
              "    </tr>\n",
              "    <tr>\n",
              "      <th>4</th>\n",
              "      <td>5</td>\n",
              "      <td>1</td>\n",
              "      <td>155.974606</td>\n",
              "      <td>155.974606</td>\n",
              "      <td>0.046575</td>\n",
              "      <td>TPL</td>\n",
              "      <td>gasoline</td>\n",
              "      <td>private</td>\n",
              "      <td>N</td>\n",
              "      <td>female</td>\n",
              "      <td>28</td>\n",
              "      <td>9</td>\n",
              "      <td>7</td>\n",
              "      <td>70</td>\n",
              "      <td>1000</td>\n",
              "      <td>BRUSSEL</td>\n",
              "      <td>4.355223</td>\n",
              "      <td>50.845386</td>\n",
              "    </tr>\n",
              "  </tbody>\n",
              "</table>\n",
              "</div>"
            ],
            "text/plain": [
              "   id  nclaims       amount          avg  ...    pc     town      long        lat\n",
              "0   1        1  1618.001036  1618.001036  ...  1000  BRUSSEL  4.355223  50.845386\n",
              "1   2        0     0.000000          NaN  ...  1000  BRUSSEL  4.355223  50.845386\n",
              "2   3        0     0.000000          NaN  ...  1000  BRUSSEL  4.355223  50.845386\n",
              "3   4        0     0.000000          NaN  ...  1000  BRUSSEL  4.355223  50.845386\n",
              "4   5        1   155.974606   155.974606  ...  1000  BRUSSEL  4.355223  50.845386\n",
              "\n",
              "[5 rows x 18 columns]"
            ]
          },
          "metadata": {},
          "execution_count": 6
        }
      ]
    },
    {
      "cell_type": "code",
      "metadata": {
        "colab": {
          "base_uri": "https://localhost:8080/"
        },
        "id": "Z_C05rccycLm",
        "outputId": "b58d4c01-a2f1-452d-935c-df4c88345391"
      },
      "source": [
        "# train/test split using sklearn\n",
        "train, test = train_test_split(df, test_size=0.25); print(f'train size:{train.shape}, test size:{test.shape}')"
      ],
      "execution_count": null,
      "outputs": [
        {
          "output_type": "stream",
          "name": "stdout",
          "text": [
            "train size:(122423, 18), test size:(40808, 18)\n"
          ]
        }
      ]
    },
    {
      "cell_type": "code",
      "metadata": {
        "colab": {
          "base_uri": "https://localhost:8080/"
        },
        "id": "bNxM5ETyycLm",
        "outputId": "89fc1236-ca1b-49af-b56a-177376bf5158"
      },
      "source": [
        "# Reshuffling of the training observations\n",
        "train = train.sample(frac = 1); print(f'train size:{train.shape}')"
      ],
      "execution_count": null,
      "outputs": [
        {
          "output_type": "stream",
          "name": "stdout",
          "text": [
            "train size:(122423, 18)\n"
          ]
        }
      ]
    },
    {
      "cell_type": "markdown",
      "metadata": {
        "id": "6J2TN498QP_Z"
      },
      "source": [
        "## 1.3 Tensors <a name=\"one-three\"></a>"
      ]
    },
    {
      "cell_type": "markdown",
      "metadata": {
        "id": "ROYD1mu30prE"
      },
      "source": [
        "**TensorFlow** is an end-to-end open source platform for machine learning. It has a comprehensive, flexible ecosystem of tools, libraries and community resources that lets researchers push the state-of-the-art in ML and developers easily build and deploy ML powered applications."
      ]
    },
    {
      "cell_type": "markdown",
      "metadata": {
        "id": "wDT7b9ap0prE"
      },
      "source": [
        "**Keras** is a high-level neural networks library that is running on the top of TensorFlow. Using Keras in deep learning allows for easy and fast prototyping as well as running seamlessly on CPU and GPU. This framework is written in Python code which is easy to debug and allows ease for extensibility."
      ]
    },
    {
      "cell_type": "markdown",
      "metadata": {
        "id": "jeNy-jCN0prF"
      },
      "source": [
        "In a big data world with structured and unstructured data, our input can be:\n",
        "* a single time series: 1-dimensional, with 1 axis\n",
        "* one sound fragment: 2-dimensional, with 2 axes\n",
        "* one image in color: 3-dimensional, with 3 axes\n",
        "* one movie: 4-dimensional, with 4 axes"
      ]
    },
    {
      "cell_type": "markdown",
      "metadata": {
        "id": "FgMb25B00prF"
      },
      "source": [
        "We require a framework that can flexibly adjust to all these data structures!"
      ]
    },
    {
      "cell_type": "markdown",
      "metadata": {
        "id": "MlAjDr-E0prF"
      },
      "source": [
        "TensorFlow is this flexible framework which consists of highly optimized functions based on tensors. What is a tensor?\n",
        "* **1-dimensional tensor** is a vector (e.g. closing daily stock price during 250 days)\n",
        "<img src=\"https://github.com/loremarchi/hands-on-machine-learning-R-module-3-python/blob/main/imgs/tensor1.png?raw=1\" alt=\"tensor1\" style=\"width: 300px;\"/>\n",
        "* **2-dimensional tensor** is a matrix (e.g. a tabular data set with observations and features)\n",
        "<img src=\"https://github.com/loremarchi/hands-on-machine-learning-R-module-3-python/blob/main/imgs/tensor2.png?raw=1\" alt=\"tensor2\" style=\"width: 300px;\"/>"
      ]
    },
    {
      "cell_type": "markdown",
      "metadata": {
        "id": "_MRMQnaz0prF"
      },
      "source": [
        "* **3-dimensional tensor**, e.g. stock price dataset where one year of data can then be stored in a 3D tensor **(samples, timesteps, features)**, here **(250, 390, 3)**\n",
        "    * each minute we record the current price, lowest price and highest price\n",
        "    * a trading day has 390 minutes and a trading year has 250 days.\n",
        "<figure>\n",
        "<img src=\"https://github.com/loremarchi/hands-on-machine-learning-R-module-3-python/blob/main/imgs/tensor3.png?raw=1\" alt=\"tensor3\" style=\"width: 400px;\"/>\n",
        "<figcaption><center>Source: <a href=\"https://github.com/rstudio-conf-2020/dl-keras-tf\">Bradley Boehmke</a>.<p></p></center></figcaption>\n",
        "</figure>"
      ]
    },
    {
      "cell_type": "markdown",
      "metadata": {
        "id": "fNERr1nc0prG"
      },
      "source": [
        "* **4-dimensional tensor**, e.g. picture an image data set where\n",
        "    * each image has a specific height and width\n",
        "    * three color channels (Red, Green, Blue) are registered\n",
        "    * a collection of images are stored in the structure **(samples, height, width, channels)**\n",
        "<figure>\n",
        "<img src=\"https://github.com/loremarchi/hands-on-machine-learning-R-module-3-python/blob/main/imgs/tensor4.png?raw=1\" alt=\"tensor4\" style=\"width: 400px;\"/>\n",
        "<figcaption><center>Source: <a href=\"https://github.com/rstudio-conf-2020/dl-keras-tf\">Bradley Boehmke</a>.<p></p></center></figcaption>\n",
        "</figure>"
      ]
    },
    {
      "cell_type": "markdown",
      "metadata": {
        "id": "dS1C8b2h0prG"
      },
      "source": [
        "* **5-dimensional tensor**, e.g. Let's picture an video data set where\n",
        "    * each video sample is one minute long and has anumber of frames per second (e.g. 4 frames persecond)\n",
        "    * each frame has a specific height (e.g. 256 pixels) andwidth (e.g. 144 pixels)\n",
        "    * three color channels (Red, Green, Blue)\n",
        "    * multiple images ( samples ) are stored.\n",
        "    * a collection of images can be stored in a 4D tensor(samples, frames, height, width, channels) whichbecomes here (samples, 240, 256, 144, 3) .\n",
        "<figure>\n",
        "<img src=\"https://github.com/loremarchi/hands-on-machine-learning-R-module-3-python/blob/main/imgs/tensor5.png?raw=1\" alt=\"tensor5\" style=\"width: 400px;\"/>\n",
        "<figcaption><center>Source: <a href=\"https://github.com/rstudio-conf-2020/dl-keras-tf\">Bradley Boehmke</a>.<p></p></center></figcaption>\n",
        "</figure>"
      ]
    },
    {
      "cell_type": "code",
      "metadata": {
        "colab": {
          "base_uri": "https://localhost:8080/"
        },
        "id": "jULp1LWm0prI",
        "outputId": "1474c104-ac2a-4084-bffa-3d10e5b0e93b"
      },
      "source": [
        "# create 2D tensor (3x2) with custom values\n",
        "x = tf.constant([1,2,3,4,5,6], shape = [3,2], dtype=tf.float32); x"
      ],
      "execution_count": null,
      "outputs": [
        {
          "data": {
            "text/plain": [
              "<tf.Tensor: shape=(3, 2), dtype=float32, numpy=\n",
              "array([[1., 2.],\n",
              "       [3., 4.],\n",
              "       [5., 6.]], dtype=float32)>"
            ]
          },
          "execution_count": 7,
          "metadata": {},
          "output_type": "execute_result"
        }
      ]
    },
    {
      "cell_type": "code",
      "metadata": {
        "colab": {
          "base_uri": "https://localhost:8080/"
        },
        "id": "ZNgA_ZEb0prI",
        "outputId": "47c6eb88-2dd6-4eeb-9835-2d2fb01aa219"
      },
      "source": [
        "# create 2D tensor (2x2) with only unit values\n",
        "ones = tf.ones(shape=[2,2], dtype=tf.float32); ones"
      ],
      "execution_count": null,
      "outputs": [
        {
          "data": {
            "text/plain": [
              "<tf.Tensor: shape=(2, 2), dtype=float32, numpy=\n",
              "array([[1., 1.],\n",
              "       [1., 1.]], dtype=float32)>"
            ]
          },
          "execution_count": 8,
          "metadata": {},
          "output_type": "execute_result"
        }
      ]
    },
    {
      "cell_type": "code",
      "metadata": {
        "colab": {
          "base_uri": "https://localhost:8080/"
        },
        "id": "37d8I4fL0prJ",
        "outputId": "1f0ba7c4-d8ac-4daf-8171-043d118f927f"
      },
      "source": [
        "# column-wise mean\n",
        "tf.math.reduce_mean(x, axis = 0)"
      ],
      "execution_count": null,
      "outputs": [
        {
          "data": {
            "text/plain": [
              "<tf.Tensor: shape=(2,), dtype=float32, numpy=array([3., 4.], dtype=float32)>"
            ]
          },
          "execution_count": 9,
          "metadata": {},
          "output_type": "execute_result"
        }
      ]
    },
    {
      "cell_type": "code",
      "metadata": {
        "colab": {
          "base_uri": "https://localhost:8080/"
        },
        "id": "K3VDQkkM0prJ",
        "outputId": "a8a50155-9b8f-4c18-8070-cf928294d45b"
      },
      "source": [
        "# row-wise mean\n",
        "tf.math.reduce_mean(x, axis = 1)"
      ],
      "execution_count": null,
      "outputs": [
        {
          "data": {
            "text/plain": [
              "<tf.Tensor: shape=(3,), dtype=float32, numpy=array([1.5, 3.5, 5.5], dtype=float32)>"
            ]
          },
          "execution_count": 10,
          "metadata": {},
          "output_type": "execute_result"
        }
      ]
    },
    {
      "cell_type": "markdown",
      "metadata": {
        "id": "aYAXa5nw0prJ"
      },
      "source": [
        "**Note that** Object x is also numpy-compatible, so it is possible to calculate the mean using _np.mean_. _tf.reduce_mean_ is multi-threaded, typically calculated on your GPU. _np.mean_ is calculated on a single CPU."
      ]
    },
    {
      "cell_type": "code",
      "metadata": {
        "colab": {
          "base_uri": "https://localhost:8080/"
        },
        "id": "S44ucafn0prJ",
        "outputId": "ffbe9260-399e-4111-e124-87592194f1f6"
      },
      "source": [
        "# row-wise mean\n",
        "np.mean(x, axis = 1)"
      ],
      "execution_count": null,
      "outputs": [
        {
          "data": {
            "text/plain": [
              "array([1.5, 3.5, 5.5], dtype=float32)"
            ]
          },
          "execution_count": 11,
          "metadata": {},
          "output_type": "execute_result"
        }
      ]
    },
    {
      "cell_type": "code",
      "metadata": {
        "colab": {
          "base_uri": "https://localhost:8080/"
        },
        "id": "JFV_YEpn0prK",
        "outputId": "e94418d8-d187-448c-bc36-f73146f1a3df"
      },
      "source": [
        "# column-wise mean\n",
        "np.mean(x, axis = 0)"
      ],
      "execution_count": null,
      "outputs": [
        {
          "data": {
            "text/plain": [
              "array([3., 4.], dtype=float32)"
            ]
          },
          "execution_count": 12,
          "metadata": {},
          "output_type": "execute_result"
        }
      ]
    },
    {
      "cell_type": "code",
      "metadata": {
        "colab": {
          "base_uri": "https://localhost:8080/"
        },
        "id": "uCM-6Blp0prK",
        "outputId": "5e0202b6-32ed-416b-91e7-c2e6ba1d66cd"
      },
      "source": [
        "# general matrix mean\n",
        "np.mean(x)"
      ],
      "execution_count": null,
      "outputs": [
        {
          "data": {
            "text/plain": [
              "3.5"
            ]
          },
          "execution_count": 13,
          "metadata": {},
          "output_type": "execute_result"
        }
      ]
    },
    {
      "cell_type": "markdown",
      "metadata": {
        "id": "Dt-i9h8Y0prL"
      },
      "source": [
        "**Question 1:** Create a 3-dimensional tensor with values 1,...,12 and shape (2,3,2)"
      ]
    },
    {
      "cell_type": "code",
      "metadata": {
        "colab": {
          "base_uri": "https://localhost:8080/"
        },
        "id": "7ZxpfE2y0prL",
        "outputId": "a63e5c58-0b71-40f6-c94a-89374d804365"
      },
      "source": [
        "x = tf.constant([i+1 for i in range(12)], shape=(2,3,2), dtype = tf.float32); x"
      ],
      "execution_count": null,
      "outputs": [
        {
          "data": {
            "text/plain": [
              "<tf.Tensor: shape=(2, 3, 2), dtype=float32, numpy=\n",
              "array([[[ 1.,  2.],\n",
              "        [ 3.,  4.],\n",
              "        [ 5.,  6.]],\n",
              "\n",
              "       [[ 7.,  8.],\n",
              "        [ 9., 10.],\n",
              "        [11., 12.]]], dtype=float32)>"
            ]
          },
          "execution_count": 14,
          "metadata": {},
          "output_type": "execute_result"
        }
      ]
    },
    {
      "cell_type": "markdown",
      "metadata": {
        "id": "jLkNdLuT0prL"
      },
      "source": [
        "**Question 2:** Calculate the logarithm"
      ]
    },
    {
      "cell_type": "code",
      "metadata": {
        "colab": {
          "base_uri": "https://localhost:8080/"
        },
        "id": "etSrp3yg0prL",
        "outputId": "1f45c883-ad09-4f41-870c-e0e416ad9740"
      },
      "source": [
        "log_x = tf.math.log(x); log_x"
      ],
      "execution_count": null,
      "outputs": [
        {
          "data": {
            "text/plain": [
              "<tf.Tensor: shape=(2, 3, 2), dtype=float32, numpy=\n",
              "array([[[0.       , 0.6931472],\n",
              "        [1.0986123, 1.3862944],\n",
              "        [1.609438 , 1.7917595]],\n",
              "\n",
              "       [[1.9459102, 2.0794415],\n",
              "        [2.1972246, 2.3025851],\n",
              "        [2.3978953, 2.4849067]]], dtype=float32)>"
            ]
          },
          "execution_count": 15,
          "metadata": {},
          "output_type": "execute_result"
        }
      ]
    },
    {
      "cell_type": "markdown",
      "metadata": {
        "id": "CF4kVln60prM"
      },
      "source": [
        "**Question 3:** Calculate the mean over the last axis"
      ]
    },
    {
      "cell_type": "code",
      "metadata": {
        "colab": {
          "base_uri": "https://localhost:8080/"
        },
        "id": "Z8fR1KyA0prM",
        "outputId": "496da336-7f20-463f-fcbc-bb10d6b6f32c"
      },
      "source": [
        "mean_x_ax3 = tf.math.reduce_mean(x, axis = 2); mean_x_ax3"
      ],
      "execution_count": null,
      "outputs": [
        {
          "data": {
            "text/plain": [
              "<tf.Tensor: shape=(2, 3), dtype=float32, numpy=\n",
              "array([[ 1.5,  3.5,  5.5],\n",
              "       [ 7.5,  9.5, 11.5]], dtype=float32)>"
            ]
          },
          "execution_count": 16,
          "metadata": {},
          "output_type": "execute_result"
        }
      ]
    },
    {
      "cell_type": "markdown",
      "metadata": {
        "id": "thiUFkS-0wAn"
      },
      "source": [
        "# Chapter 2 - Fitting a GLM with a Neural Network <a name=\"two\"></a>"
      ]
    },
    {
      "cell_type": "markdown",
      "metadata": {
        "id": "CcsCJveF0wAn"
      },
      "source": [
        "In a neural network:\n",
        "* input travels through a **sequence** of layers, and gets transformed into the output\n",
        "* layers in-between the input layer and the output layer are called hidden layers\n",
        "\n",
        "<img src=\"https://github.com/loremarchi/hands-on-machine-learning-R-module-3-python/blob/main/imgs/nn_6.png?raw=1\" \n",
        "align=\"center\"/>"
      ]
    },
    {
      "cell_type": "markdown",
      "metadata": {
        "id": "wEKq_slLycLm"
      },
      "source": [
        "Claim frequency is usually modelled via GLM with log-link function:"
      ]
    },
    {
      "cell_type": "markdown",
      "metadata": {
        "id": "stK5FZo9ycLn"
      },
      "source": [
        "$$\n",
        "\\begin{align}\n",
        "Y \\sim Poisson(\\lambda = \\exp(x'\\beta))\n",
        "\\end{align}\n",
        "$$"
      ]
    },
    {
      "cell_type": "markdown",
      "metadata": {
        "id": "TJjp7gphycLn"
      },
      "source": [
        "We now redefine this model as a neural network:"
      ]
    },
    {
      "cell_type": "markdown",
      "metadata": {
        "id": "pKGlp5JJycLn"
      },
      "source": [
        "<img src=\"https://github.com/loremarchi/hands-on-machine-learning-R-module-3-python/blob/main/imgs/glm_vs_nn.jpg?raw=1\" \n",
        "align=\"center\"/>"
      ]
    },
    {
      "cell_type": "markdown",
      "metadata": {
        "id": "xxeyQC7RG-fO"
      },
      "source": [
        "There are no hidden nodes in a GLM, the output is directly connected to the input!"
      ]
    },
    {
      "cell_type": "markdown",
      "metadata": {
        "id": "psIW0VjUycLn"
      },
      "source": [
        "## 2.1 A GLM with only an intercept <a name=\"two-one\"></a>"
      ]
    },
    {
      "cell_type": "markdown",
      "metadata": {
        "id": "Qq5kdsp8ycLn"
      },
      "source": [
        "Consider the simplest case of a Poisson GLM with only an intercept:"
      ]
    },
    {
      "cell_type": "markdown",
      "metadata": {
        "id": "XyG34oUYycLn"
      },
      "source": [
        "$$\n",
        "\\begin{align}\n",
        "Y \\sim Poisson(\\lambda = \\exp(1\\cdot\\beta))\n",
        "\\end{align}\n",
        "$$"
      ]
    },
    {
      "cell_type": "markdown",
      "metadata": {
        "id": "9-AVLy5dIiC7"
      },
      "source": [
        "![NN_intercept.png](data:image/png;base64,iVBORw0KGgoAAAANSUhEUgAAARYAAAAzCAMAAAESgufaAAAAAXNSR0IArs4c6QAAAARnQU1BAACxjwv8YQUAAAHFUExURQAAADlVji5dizNZjCtViqenp6WlpS9Qki5TkC1SkC9TkC5TkC5Rji9TkC9Sj6WlpS5SjzBTjy5Tjy9RkC9Rji9Sjy9Sji5Tjy5Sji5RjjBRjy5SjzBSjy9SjqWlpS9RkC9SjzBSjy9Sjy9Sjqampi9Sjy9Tjy9Rjy9Sjy9TjzBSjy5Sjy9TjjBSjy9Sjy9SjzBTjjBTjy9SjzBSjzBTji9Sjy9Sjy9TjjBSjjBTjjFSjzBSkC9SkDRajDlSkC9SjzRbizpTkD9vg0FygUR5fUV5fUd7fEd9fEl/e02Hd06JdU+KdlFUklVUkleYb1txl1yha11Vkl5VkmFUk2JVk2OuZWSvZGVVk2WyY2i2YWi2Ymp7mmq7X2u7YG3AXW7BXW9Vk2/DW3FVk3JWk3PLWHTMWHXNVnXNV3fRVHfSVH3cUH7dT3/fT4DhToHjTYHkTYNWlIftSIjvR4jwR4v1RI5XlY/9QpD+QZH/QJ5Xl59XlqJYl6WlpadYl6dYmK1Yl61ZmLNYmLRZmLdYmMBZmcFamcNZmMNZmchZmclZmdVam9Zamthbmttam91am95bm+pbnOxbnO1bnPNcnP1cnf5cnf9cnfcfNnoAAAA/dFJOUwAJCxQYIDA2Nz5HU1hcXWBkZml3eIKDhIWKkJubnp+jpLG0vr/N0tjb3d3h4+Pm6Onp7/Dw8vP09PX1/P7+/sCKDNwAAAAJcEhZcwAAFxEAABcRAcom8z8AAAVySURBVFhH7Zn5XxNHGMZXVE61coT7MpwtGlpb7IH6qqjggUUFQQueeBevQhskCirexaO0+Xs7M/uEzG5mwywfhmZTvj8k2d133ud9Zic7s7sWo4t/eFDVyD/3RaPRcbGtIM5gXywkGi2yd7nhISwoImIIOx3UxxBj5/kau104YrDPTR4P6WY/aFKpZDP9bCP/su15YPdLGilrP5OaRzleQbyceFG6mFhExJBGnm+sPB7C7akQMfzH0EVhTwktol9IyKXpJC9I6NgN7SScHrGtjZ2E029ZIeTg6BdUzxoiB4esMFJwfKSJWWGk4LCGR5GDgRhNziIHg29WIonvPq5EkkTDnKa2LfjpD6lh4XFeyt12bOpTeJWX8l40LBd+GH4tlQs/DN4QORgl9lFdkINRIo28aC8O65EcefFBawApODiuARt5U0jBsR4iAwchGsRi9Z+QgWPdRAYOQjSINVuvkYEj98sEQvSQ+mXBKkUKhr9TXYoUDNZwqZgRHNZlqZgZsWUnGRCH/IA0U/ZWNd2+1+d35HKq6e2HYblhNdHQrcn7l/qIvK+0qwpTnH6z+PH5sFOxQjrdjIGVuPNHhTROGFMJxXxnJZwRr4lqdch3VsKZEYql0gU8icmuKZWu/Em4YmqvcCY67XYmSO0VzkKnFb4OdRcmOqaeXdwsK/wS6i7IivwGcReGaonFmiN/QdwFWSF5EpAwUksz/wzJs4cEU1SPl16PlfVqoB4vg1xRVUyPzznbH6pi+m3F0AFUkGDcxAmSCR1EBQnmk4qFdAJlsEUVfYm9JimkayiDrcboK+xNkFPV1NXWuLJV4srwVtzS2NbVVJWDrbXAQ3EjUd/Fe5O3h4iqscswTHH42YfFt9NuxXa6i9ESjZ6gQuw1STu9x2iJx6/JiuS83lEl9puDnNe7pCKNo4gEB0I4YgqaRxEJDkKxewQlJKE8+5AhumdQQhJbsaQHBcgYvdiV9KMAGaGonI+OlopWZlDOR2eZYlEv5J0Y7JiiQcg7YYqdE1B3YrCWzgWoO2GK6iVDdMDEXym2mX+qlwzxqZBXLdfDovXqwlZ1rBqPWl6GvWp5GEH71YQvMWObPWr5FFn7WnJ912LqHOWu4ByZGbusknRjN5P+05l0rVOfpP9mDsiouVG5ZsgXR0yhWjNAMWUtta/cPmCMlLXU/iVF9xqzAvvN4V5jSory2vv4mq+9rzoV+T3JpfuTt9b2nuT5x8U3KfcknIy5V1ti0/Yde0li747tm3Aoa/Drsex7omOjjzCGBY9GjxHtKUNAFlD2A9Hl2c/41wg+z1729lhMdER+ZSJx8zBRMcICDfN4Rn67I/H6tMpjA9F5dIKSC0QNCA0szOMTdIKSp26P2yhlbkxhnGgrwgMJ8+iejVOYd3hspVPwnpZT1IoGAaSVHsB7Wh4kPe6kKzC+DFeoA00Cxy56AePL8AIeN+ymG7C9LDdo9wbRKGAwj69ge1le2R7r6BxMa3CO6myhYFFHj2Fag8fcYwEdgmUtDlEBpDKcL8SjL5sCOgnLWpxkHmtpDI61GKMaaGU4/O1qPbqmlubgWIs55rGF7sCxFneoxZbKdMRLZ3RNC72DYy3eMY9Ef8CxFr/TL9ALED/TP3Csxd9ErCd/hWMtAjdamnP5aPkTjrXgo6WGRuFYizGqhW6Gw7uFdwmnhmbhWIs55jFrZyJ0CWcFM9H6usWNWLf4XOV+9z9Y5X5re+zQvyfaKRoEkA79e6JdaLJ+B51EuoO2rK16z1u2ITyQMI86z1ucHhuILsC/kvPZ8XTuKfwreaLyWEx02OtZ7pHseZZ72utZ7hlPj2V71E/+f8ymJ//Mo+rJ/09pPa6/J2JY1r8RFfHBMu/r7AAAAABJRU5ErkJggg==)"
      ]
    },
    {
      "cell_type": "markdown",
      "metadata": {
        "id": "cknXm464ycLo"
      },
      "source": [
        "Let's fit a neural network with the following parametrization:\n",
        "* There is one input node (intercept, constant one)\n",
        "* There is one output node (number of claims)\n",
        "* There is one connection from the input to the output node\n",
        "* There are no hidden layers"
      ]
    },
    {
      "cell_type": "markdown",
      "metadata": {
        "id": "V_nEfwVnJVUa"
      },
      "source": [
        "Keras and TensorFlow 2.0 provide three methods to implement your own neural network architectures:\n",
        "\n",
        "* Sequential API\n",
        "* Functional API\n",
        "* Model subclassing\n",
        "\n",
        "**tf.keras.models.Sequential()** starts the specification of a new Neural Network using the sequential API"
      ]
    },
    {
      "cell_type": "code",
      "metadata": {
        "id": "nIgWxKrvJSLp"
      },
      "source": [
        "# instantiate the Neural Network\n",
        "nn_freq_intercept = tf.keras.models.Sequential()"
      ],
      "execution_count": null,
      "outputs": []
    },
    {
      "cell_type": "markdown",
      "metadata": {
        "id": "QX_EANq7JSL7"
      },
      "source": [
        "Sequentially add new layers using **add()**\n",
        "\n",
        "```python\n",
        "nn_freq_intercept.add(tf.keras.layers.Dense(units = 1,\n",
        "                                activation = 'exponential',\n",
        "                                input_shape = (1,),\n",
        "                                use_bias = False)) \n",
        "```\n",
        "\n",
        "There are different types of layers. **Dense layers** connect each node from the previous layer to each node of the current layer.\n",
        "\n",
        "* **units = 1**: number of nodes in the given layer\n",
        "* **activation = 'exponential'**: at the end of this layer, apply the exponential function to all nodes\n",
        "* **input_shape = (1,)**: the input layer is not explicitely specified, instead we specify the number of nodes in the input layer as an argument in the second layer of the neural network\n",
        "* **use_bias = False**: by default the neural network adds an intercept - called bias - to the computation of each node. We do not need this bias term here, as we explictely include the intercept as the input node."
      ]
    },
    {
      "cell_type": "code",
      "metadata": {
        "id": "3_OHO17NJSL8"
      },
      "source": [
        "# neural network structure - adding first layer (Dense-type, fully connected)\n",
        "nn_freq_intercept.add(tf.keras.layers.Dense(units = 1,\n",
        "                                activation = 'exponential', \n",
        "                                input_shape = (1,),\n",
        "                                use_bias = False))"
      ],
      "execution_count": null,
      "outputs": []
    },
    {
      "cell_type": "markdown",
      "metadata": {
        "id": "w14I1nc1ycLp"
      },
      "source": [
        "**QUESTION:** how many parameters does this model have?"
      ]
    },
    {
      "cell_type": "code",
      "metadata": {
        "colab": {
          "base_uri": "https://localhost:8080/"
        },
        "id": "WU9RjgxzycLp",
        "outputId": "af76a2d0-cdc5-44ea-9de2-15bcbbade407"
      },
      "source": [
        "# answer\n",
        "nn_freq_intercept.count_params()"
      ],
      "execution_count": null,
      "outputs": [
        {
          "output_type": "execute_result",
          "data": {
            "text/plain": [
              "1"
            ]
          },
          "metadata": {},
          "execution_count": 11
        }
      ]
    },
    {
      "cell_type": "code",
      "metadata": {
        "colab": {
          "base_uri": "https://localhost:8080/"
        },
        "id": "LREYGYnNycLp",
        "outputId": "32dadcbc-dc46-41da-c70b-cbd3b7ff8735"
      },
      "source": [
        "# summary of the structure of the neural netweork\n",
        "nn_freq_intercept.summary()"
      ],
      "execution_count": null,
      "outputs": [
        {
          "output_type": "stream",
          "name": "stdout",
          "text": [
            "Model: \"sequential\"\n",
            "_________________________________________________________________\n",
            " Layer (type)                Output Shape              Param #   \n",
            "=================================================================\n",
            " dense (Dense)               (None, 1)                 1         \n",
            "                                                                 \n",
            "=================================================================\n",
            "Total params: 1\n",
            "Trainable params: 1\n",
            "Non-trainable params: 0\n",
            "_________________________________________________________________\n"
          ]
        }
      ]
    },
    {
      "cell_type": "markdown",
      "metadata": {
        "id": "tXrIChgSQE7N"
      },
      "source": [
        "Once the architecture is finished, we compile the model and specify the loss function\n",
        "\n",
        "* optimizer: algorithm used to calibrate the model.\n",
        "* loss: loss function to minimize. \n",
        "\n",
        "For Poisson regression, we specify **loss = 'poisson'**.\n",
        "\n"
      ]
    },
    {
      "cell_type": "code",
      "metadata": {
        "id": "ipoEYZCJQvJN"
      },
      "source": [
        "nn_freq_intercept.compile(optimizer = 'RMSprop', loss = 'poisson', metrics = [tf.keras.metrics.MeanSquaredError()])"
      ],
      "execution_count": null,
      "outputs": []
    },
    {
      "cell_type": "code",
      "metadata": {
        "colab": {
          "base_uri": "https://localhost:8080/"
        },
        "id": "JEbeNG5iycLp",
        "outputId": "48616b5e-a23c-4b34-ac69-79c7718c2929"
      },
      "source": [
        "# create input/output vectors\n",
        "input_intercept = np.ones(train.shape[0])\n",
        "counts = np.array(train['nclaims'])\n",
        "print(f'size of input vector: {input_intercept.shape[0]}, size of counts vector: {counts.shape[0]}')"
      ],
      "execution_count": null,
      "outputs": [
        {
          "output_type": "stream",
          "name": "stdout",
          "text": [
            "size of input vector: 122423, size of counts vector: 122423\n"
          ]
        }
      ]
    },
    {
      "cell_type": "markdown",
      "metadata": {
        "id": "3_UPytowycLq"
      },
      "source": [
        "The **fit()** method shows the following parametrization:\n",
        "* **x = input_intercept**: input_intercept contains the values of the nodes in the input layer.\n",
        "* **y = counts**: use the claim counts as target.\n",
        "* **epochs = 20**: perform 20 training iterations over the complete data.\n",
        "* **batch_size = 1024**: use batches with 1024 observations to update weights.\n",
        "* **validation_split = 0**: don't use a validation set, so all observations are used for training.\n",
        "* **verbose = 0**: silence keras such that no output is generated during fitting.\n"
      ]
    },
    {
      "cell_type": "code",
      "metadata": {
        "colab": {
          "base_uri": "https://localhost:8080/"
        },
        "id": "T2Obx-0hycLq",
        "outputId": "a1865e35-4df0-412b-cdeb-57ea7bfbdfbe"
      },
      "source": [
        "# fit the neural netword\n",
        "nn_freq_intercept.fit(x = input_intercept,\n",
        "                      y = counts,\n",
        "                      epochs = 30,\n",
        "                      batch_size = 1024,\n",
        "                      validation_split = 0,\n",
        "                      verbose = 0)"
      ],
      "execution_count": null,
      "outputs": [
        {
          "output_type": "execute_result",
          "data": {
            "text/plain": [
              "<keras.callbacks.History at 0x7f05ef434150>"
            ]
          },
          "metadata": {},
          "execution_count": 16
        }
      ]
    },
    {
      "cell_type": "code",
      "metadata": {
        "colab": {
          "base_uri": "https://localhost:8080/"
        },
        "id": "fbsSmZkCycLq",
        "outputId": "56e4c86d-0890-45fb-8547-6a2b62b59398"
      },
      "source": [
        "# get_weights()\n",
        "float(nn_freq_intercept.get_weights()[0])"
      ],
      "execution_count": null,
      "outputs": [
        {
          "output_type": "execute_result",
          "data": {
            "text/plain": [
              "-2.086961507797241"
            ]
          },
          "metadata": {},
          "execution_count": 17
        }
      ]
    },
    {
      "cell_type": "code",
      "metadata": {
        "id": "upZkimJoTLBB"
      },
      "source": [
        "# prepare test data\n",
        "input_intercept_test = np.ones(test.shape[0])\n",
        "counts_test = np.array(test['nclaims'])\n",
        "exposure_test = np.array(test['expo'])"
      ],
      "execution_count": null,
      "outputs": []
    },
    {
      "cell_type": "code",
      "metadata": {
        "colab": {
          "base_uri": "https://localhost:8080/"
        },
        "id": "5NVHdOEsTLBC",
        "outputId": "30827d52-5e06-49e9-f1d2-08ce4049372f"
      },
      "source": [
        "# evaluate the model on the test data using `evaluate`\n",
        "print(f'size of input vector: {input_intercept_test.shape[0]}, size of counts vector: {counts_test.shape[0]}')\n",
        "results = nn_freq_intercept.evaluate(input_intercept_test, counts_test, verbose=0)\n",
        "print(\"test Poisson loss, test MSE:\", results)"
      ],
      "execution_count": null,
      "outputs": [
        {
          "output_type": "stream",
          "name": "stdout",
          "text": [
            "size of input vector: 40808, size of counts vector: 40808\n",
            "test Poisson loss, test MSE: [0.3801775872707367, 0.1318729668855667]\n"
          ]
        }
      ]
    },
    {
      "cell_type": "markdown",
      "metadata": {
        "id": "qPplnghrWr7U"
      },
      "source": [
        "**Note**: This is the average loss per observation. The total loss is obtained by multiplying the average loss per observation by the total number of observations."
      ]
    },
    {
      "cell_type": "markdown",
      "metadata": {
        "id": "BpmwnjYkycLq"
      },
      "source": [
        "We compare the results of our neural network with the same model specified as a GLM:"
      ]
    },
    {
      "cell_type": "code",
      "metadata": {
        "colab": {
          "base_uri": "https://localhost:8080/",
          "height": 273
        },
        "id": "L9pv7dF3ycLr",
        "outputId": "00af41db-17de-47c5-835b-e608bb0764fb"
      },
      "source": [
        "glm_freq_intercept = sm.formula.glm(\"nclaims ~ 1\", data=train, family=sm.families.Poisson()).fit(); glm_freq_intercept.summary()"
      ],
      "execution_count": null,
      "outputs": [
        {
          "output_type": "execute_result",
          "data": {
            "text/html": [
              "<table class=\"simpletable\">\n",
              "<caption>Generalized Linear Model Regression Results</caption>\n",
              "<tr>\n",
              "  <th>Dep. Variable:</th>        <td>nclaims</td>     <th>  No. Observations:  </th>  <td>122423</td> \n",
              "</tr>\n",
              "<tr>\n",
              "  <th>Model:</th>                  <td>GLM</td>       <th>  Df Residuals:      </th>  <td>122422</td> \n",
              "</tr>\n",
              "<tr>\n",
              "  <th>Model Family:</th>         <td>Poisson</td>     <th>  Df Model:          </th>  <td>     0</td> \n",
              "</tr>\n",
              "<tr>\n",
              "  <th>Link Function:</th>          <td>log</td>       <th>  Scale:             </th> <td>  1.0000</td>\n",
              "</tr>\n",
              "<tr>\n",
              "  <th>Method:</th>                <td>IRLS</td>       <th>  Log-Likelihood:    </th> <td> -48071.</td>\n",
              "</tr>\n",
              "<tr>\n",
              "  <th>Date:</th>            <td>Wed, 01 Dec 2021</td> <th>  Deviance:          </th> <td>  67783.</td>\n",
              "</tr>\n",
              "<tr>\n",
              "  <th>Time:</th>                <td>09:32:27</td>     <th>  Pearson chi2:      </th> <td>1.34e+05</td>\n",
              "</tr>\n",
              "<tr>\n",
              "  <th>No. Iterations:</th>          <td>6</td>        <th>                     </th>     <td> </td>   \n",
              "</tr>\n",
              "<tr>\n",
              "  <th>Covariance Type:</th>     <td>nonrobust</td>    <th>                     </th>     <td> </td>   \n",
              "</tr>\n",
              "</table>\n",
              "<table class=\"simpletable\">\n",
              "<tr>\n",
              "      <td></td>         <th>coef</th>     <th>std err</th>      <th>z</th>      <th>P>|z|</th>  <th>[0.025</th>    <th>0.975]</th>  \n",
              "</tr>\n",
              "<tr>\n",
              "  <th>Intercept</th> <td>   -2.0843</td> <td>    0.008</td> <td> -257.212</td> <td> 0.000</td> <td>   -2.100</td> <td>   -2.068</td>\n",
              "</tr>\n",
              "</table>"
            ],
            "text/plain": [
              "<class 'statsmodels.iolib.summary.Summary'>\n",
              "\"\"\"\n",
              "                 Generalized Linear Model Regression Results                  \n",
              "==============================================================================\n",
              "Dep. Variable:                nclaims   No. Observations:               122423\n",
              "Model:                            GLM   Df Residuals:                   122422\n",
              "Model Family:                 Poisson   Df Model:                            0\n",
              "Link Function:                    log   Scale:                          1.0000\n",
              "Method:                          IRLS   Log-Likelihood:                -48071.\n",
              "Date:                Wed, 01 Dec 2021   Deviance:                       67783.\n",
              "Time:                        09:32:27   Pearson chi2:                 1.34e+05\n",
              "No. Iterations:                     6                                         \n",
              "Covariance Type:            nonrobust                                         \n",
              "==============================================================================\n",
              "                 coef    std err          z      P>|z|      [0.025      0.975]\n",
              "------------------------------------------------------------------------------\n",
              "Intercept     -2.0843      0.008   -257.212      0.000      -2.100      -2.068\n",
              "==============================================================================\n",
              "\"\"\""
            ]
          },
          "metadata": {},
          "execution_count": 22
        }
      ]
    },
    {
      "cell_type": "markdown",
      "metadata": {
        "id": "hSyvmo6OTLBC"
      },
      "source": [
        "To compare the in-sample deviance of the neural network and the GLM, we have to manually compute the deviance of the neural network:\n",
        "\n",
        "\n"
      ]
    },
    {
      "cell_type": "markdown",
      "metadata": {
        "id": "_iAGDG1JUELp"
      },
      "source": [
        "\n",
        "$$\n",
        "\\begin{align}\n",
        "\\mathcal{D}= 2 \\cdot \\sum_{i}{Y_i \\cdot \\log\\left(\\frac{Y_i}{\\mu_i}\\right) - (Y_i - \\mu_i)},\n",
        "\\end{align}\n",
        "$$\n",
        "where $\\log\\left(\\frac{Y_i}{\\mu_i}\\right)$ is set to zero when $Y_i = 0$."
      ]
    },
    {
      "cell_type": "code",
      "metadata": {
        "id": "9HSO54G5U-7U"
      },
      "source": [
        "mu = nn_freq_intercept.predict(input_intercept)[:,0]"
      ],
      "execution_count": null,
      "outputs": []
    },
    {
      "cell_type": "code",
      "metadata": {
        "colab": {
          "base_uri": "https://localhost:8080/"
        },
        "id": "griruz_ZTLBC",
        "outputId": "c0e9e503-e6c2-4091-f38d-f7e538503151"
      },
      "source": [
        "# deviance residuals of poisson neural regression\n",
        "mu = nn_freq_intercept.predict(input_intercept)[:,0]  # [:,0] selects the predictions for the first output node\n",
        "log_ratio = np.where(counts == 0, 0, np.log(counts / mu))\n",
        "\n",
        "deviance_nn = 2 * sum(counts * log_ratio - (counts - mu))\n",
        "\n",
        "deviance_nn"
      ],
      "execution_count": null,
      "outputs": [
        {
          "output_type": "stream",
          "name": "stderr",
          "text": [
            "/usr/local/lib/python3.7/dist-packages/ipykernel_launcher.py:3: RuntimeWarning: divide by zero encountered in log\n",
            "  This is separate from the ipykernel package so we can avoid doing imports until\n"
          ]
        },
        {
          "output_type": "execute_result",
          "data": {
            "text/plain": [
              "67782.80905417354"
            ]
          },
          "metadata": {},
          "execution_count": 30
        }
      ]
    },
    {
      "cell_type": "code",
      "metadata": {
        "colab": {
          "base_uri": "https://localhost:8080/"
        },
        "id": "0ITnmpbxycLr",
        "outputId": "b8c07855-f244-45d6-c757-6063773e5741"
      },
      "source": [
        "# comparing the estimated parameter (difference reflects a different optimization technique)\n",
        "print(f'NN weights:{np.float(nn_freq_intercept.get_weights()[0])}, \\nGLM coefficients:{np.float(glm_freq_intercept.params)}')"
      ],
      "execution_count": null,
      "outputs": [
        {
          "output_type": "stream",
          "name": "stdout",
          "text": [
            "NN weights:-2.086961507797241, \n",
            "GLM coefficients:-2.0843464224020307\n"
          ]
        }
      ]
    },
    {
      "cell_type": "markdown",
      "metadata": {
        "id": "kdDGEcu5ycLr"
      },
      "source": [
        "## 2.2 Your Turn! <a name=\"two-two\"></a>"
      ]
    },
    {
      "cell_type": "markdown",
      "metadata": {
        "id": "e5l87rcmycLr"
      },
      "source": [
        "**QUESTION 1:** adapt this code to replicate a **binomial** GLM with a **logit link function**. Add **accuracy** as a metric in your model. Consider the following hint:\n",
        "* _Hint 1:_ the sigmoid activation function is the inverse of the logit link function.\n",
        "* _Hint 2:_ the binary_crossentropy loss maximizes the loglikelihood of Bernoulli outcomes:\n",
        "$$\n",
        "\\begin{align}\n",
        "\\sum^{n}_{i=1}{(y_{i}\\cdot log(p_{i})+(1-y_{i})\\cdot log(1-p_{i})).}\n",
        "\\end{align}\n",
        "$$"
      ]
    },
    {
      "cell_type": "code",
      "metadata": {
        "id": "r90ejN2aycLs"
      },
      "source": [
        "# setting up neural network\n",
        "exercize_nn = tf.keras.models.Sequential()\n",
        "exercize_nn.add(tf.keras.layers.Dense(units = 1, activation = 'sigmoid', input_shape = (1,), use_bias = False))\n",
        "exercize_nn.compile(optimizer = 'RMSprop', loss = 'binary_crossentropy', metrics = ['accuracy'])"
      ],
      "execution_count": null,
      "outputs": []
    },
    {
      "cell_type": "markdown",
      "metadata": {
        "id": "fEuqbNF2ycLs"
      },
      "source": [
        "**QUESTION 2:** fit your neural network."
      ]
    },
    {
      "cell_type": "code",
      "metadata": {
        "colab": {
          "base_uri": "https://localhost:8080/"
        },
        "id": "vDazpFlNycLs",
        "outputId": "441a833f-f055-4399-cf9d-dc22d97aaa11"
      },
      "source": [
        "exercize_nn.fit(x = input_intercept,\n",
        "                y = counts > 0, \n",
        "                epochs = 40, \n",
        "                batch_size = 1024, \n",
        "                validation_split = 0, \n",
        "                verbose = 1)"
      ],
      "execution_count": null,
      "outputs": [
        {
          "name": "stdout",
          "output_type": "stream",
          "text": [
            "Epoch 1/40\n",
            "120/120 [==============================] - 0s 342us/step - loss: 0.4945 - accuracy: 0.8879\n",
            "Epoch 2/40\n",
            "120/120 [==============================] - 0s 292us/step - loss: 0.4684 - accuracy: 0.8879\n",
            "Epoch 3/40\n",
            "120/120 [==============================] - 0s 383us/step - loss: 0.4454 - accuracy: 0.8879\n",
            "Epoch 4/40\n",
            "120/120 [==============================] - 0s 383us/step - loss: 0.4254 - accuracy: 0.8879\n",
            "Epoch 5/40\n",
            "120/120 [==============================] - 0s 308us/step - loss: 0.4083 - accuracy: 0.8879\n",
            "Epoch 6/40\n",
            "120/120 [==============================] - 0s 317us/step - loss: 0.3936 - accuracy: 0.8879\n",
            "Epoch 7/40\n",
            "120/120 [==============================] - 0s 300us/step - loss: 0.3815 - accuracy: 0.8879\n",
            "Epoch 8/40\n",
            "120/120 [==============================] - 0s 317us/step - loss: 0.3717 - accuracy: 0.8879\n",
            "Epoch 9/40\n",
            "120/120 [==============================] - 0s 308us/step - loss: 0.3641 - accuracy: 0.8879\n",
            "Epoch 10/40\n",
            "120/120 [==============================] - 0s 317us/step - loss: 0.3583 - accuracy: 0.8879\n",
            "Epoch 11/40\n",
            "120/120 [==============================] - 0s 300us/step - loss: 0.3544 - accuracy: 0.8879\n",
            "Epoch 12/40\n",
            "120/120 [==============================] - 0s 317us/step - loss: 0.3521 - accuracy: 0.8879\n",
            "Epoch 13/40\n",
            "120/120 [==============================] - 0s 309us/step - loss: 0.3511 - accuracy: 0.8879\n",
            "Epoch 14/40\n",
            "120/120 [==============================] - 0s 317us/step - loss: 0.3509 - accuracy: 0.8879\n",
            "Epoch 15/40\n",
            "120/120 [==============================] - 0s 442us/step - loss: 0.3509 - accuracy: 0.8879\n",
            "Epoch 16/40\n",
            "120/120 [==============================] - 0s 312us/step - loss: 0.3509 - accuracy: 0.8879\n",
            "Epoch 17/40\n",
            "120/120 [==============================] - 0s 301us/step - loss: 0.3509 - accuracy: 0.8879\n",
            "Epoch 18/40\n",
            "120/120 [==============================] - 0s 301us/step - loss: 0.3509 - accuracy: 0.8879\n",
            "Epoch 19/40\n",
            "120/120 [==============================] - 0s 300us/step - loss: 0.3509 - accuracy: 0.8879\n",
            "Epoch 20/40\n",
            "120/120 [==============================] - 0s 292us/step - loss: 0.3509 - accuracy: 0.8879\n",
            "Epoch 21/40\n",
            "120/120 [==============================] - 0s 300us/step - loss: 0.3509 - accuracy: 0.8879\n",
            "Epoch 22/40\n",
            "120/120 [==============================] - 0s 283us/step - loss: 0.3509 - accuracy: 0.8879\n",
            "Epoch 23/40\n",
            "120/120 [==============================] - 0s 300us/step - loss: 0.3509 - accuracy: 0.8879\n",
            "Epoch 24/40\n",
            "120/120 [==============================] - 0s 308us/step - loss: 0.3509 - accuracy: 0.8879\n",
            "Epoch 25/40\n",
            "120/120 [==============================] - 0s 292us/step - loss: 0.3509 - accuracy: 0.8879\n",
            "Epoch 26/40\n",
            "120/120 [==============================] - 0s 301us/step - loss: 0.3509 - accuracy: 0.8879\n",
            "Epoch 27/40\n",
            "120/120 [==============================] - 0s 293us/step - loss: 0.3509 - accuracy: 0.8879\n",
            "Epoch 28/40\n",
            "120/120 [==============================] - 0s 308us/step - loss: 0.3509 - accuracy: 0.8879\n",
            "Epoch 29/40\n",
            "120/120 [==============================] - 0s 308us/step - loss: 0.3509 - accuracy: 0.8879\n",
            "Epoch 30/40\n",
            "120/120 [==============================] - 0s 292us/step - loss: 0.3509 - accuracy: 0.8879\n",
            "Epoch 31/40\n",
            "120/120 [==============================] - 0s 300us/step - loss: 0.3509 - accuracy: 0.8879\n",
            "Epoch 32/40\n",
            "120/120 [==============================] - 0s 285us/step - loss: 0.3509 - accuracy: 0.8879\n",
            "Epoch 33/40\n",
            "120/120 [==============================] - 0s 317us/step - loss: 0.3509 - accuracy: 0.8879\n",
            "Epoch 34/40\n",
            "120/120 [==============================] - 0s 300us/step - loss: 0.3509 - accuracy: 0.8879\n",
            "Epoch 35/40\n",
            "120/120 [==============================] - 0s 300us/step - loss: 0.3509 - accuracy: 0.8879\n",
            "Epoch 36/40\n",
            "120/120 [==============================] - 0s 308us/step - loss: 0.3509 - accuracy: 0.8879\n",
            "Epoch 37/40\n",
            "120/120 [==============================] - 0s 300us/step - loss: 0.3509 - accuracy: 0.8879\n",
            "Epoch 38/40\n",
            "120/120 [==============================] - 0s 292us/step - loss: 0.3509 - accuracy: 0.8879\n",
            "Epoch 39/40\n",
            "120/120 [==============================] - 0s 296us/step - loss: 0.3509 - accuracy: 0.8879\n",
            "Epoch 40/40\n",
            "120/120 [==============================] - 0s 292us/step - loss: 0.3509 - accuracy: 0.8879\n"
          ]
        },
        {
          "data": {
            "text/plain": [
              "<tensorflow.python.keras.callbacks.History at 0x1431ff1cd88>"
            ]
          },
          "execution_count": 52,
          "metadata": {},
          "output_type": "execute_result"
        }
      ]
    },
    {
      "cell_type": "markdown",
      "metadata": {
        "id": "oQgGK_L-ycLs"
      },
      "source": [
        "**QUESTION 3:** compare your fitted neural network with a GLM.\n",
        "* _Hint 1:_ to accomodate the fitting of the logistic regression of a categorical vector, we create a binary proxy variable nclaims_proxy with the following characteristics:\n",
        "    * proxy = 0 when x = 0\n",
        "    * proxy = 1 when x > 0"
      ]
    },
    {
      "cell_type": "code",
      "metadata": {
        "id": "LnioXs2LycLs"
      },
      "source": [
        "train['nclaims_proxy'] = np.where(train['nclaims'] > 0, 1, 0)"
      ],
      "execution_count": null,
      "outputs": []
    },
    {
      "cell_type": "code",
      "metadata": {
        "colab": {
          "base_uri": "https://localhost:8080/"
        },
        "id": "TacoYhINycLs",
        "outputId": "ebe4c0a2-7a0b-4b5e-f9a9-bd4f2e884cd9"
      },
      "source": [
        "exercize_glm = sm.formula.glm(\"nclaims_proxy ~ 1 + 1\", # it must be fitted this way or 0/1 labels get switched\n",
        "                            data=train, \n",
        "                            family=sm.families.Binomial(sm.families.links.logit())).fit();\n",
        "\n",
        "print(f'NN weights:{np.float(exercize_nn.get_weights()[0])}, \\nGLM coefficients:{np.float(exercize_glm.params)}')"
      ],
      "execution_count": null,
      "outputs": [
        {
          "name": "stdout",
          "output_type": "stream",
          "text": [
            "NN weights:-2.0677490234375, \n",
            "GLM coefficients:-2.069600609448125\n"
          ]
        },
        {
          "name": "stderr",
          "output_type": "stream",
          "text": [
            "C:\\Users\\u0149060\\Anaconda3\\envs\\dev_env\\lib\\site-packages\\ipykernel_launcher.py:5: DeprecationWarning: `np.float` is a deprecated alias for the builtin `float`. To silence this warning, use `float` by itself. Doing this will not modify any behavior and is safe. If you specifically wanted the numpy scalar type, use `np.float64` here.\n",
            "Deprecated in NumPy 1.20; for more details and guidance: https://numpy.org/devdocs/release/1.20.0-notes.html#deprecations\n",
            "  \"\"\"\n"
          ]
        }
      ]
    },
    {
      "cell_type": "code",
      "metadata": {
        "id": "QbFt-lyjycLs"
      },
      "source": [
        "# reproducibility test\n",
        "# NN weights:-2.0633275508880615, \n",
        "# GLM coefficients:-2.0620717063272846"
      ],
      "execution_count": null,
      "outputs": []
    },
    {
      "cell_type": "code",
      "metadata": {
        "colab": {
          "base_uri": "https://localhost:8080/",
          "height": 268
        },
        "id": "rilge2ewycLt",
        "outputId": "482dfea1-5823-4f74-e947-b3e0fc307346"
      },
      "source": [
        "exercize_glm.summary()"
      ],
      "execution_count": null,
      "outputs": [
        {
          "data": {
            "text/html": [
              "<table class=\"simpletable\">\n",
              "<caption>Generalized Linear Model Regression Results</caption>\n",
              "<tr>\n",
              "  <th>Dep. Variable:</th>     <td>nclaims_proxy</td>  <th>  No. Observations:  </th>  <td>122423</td>  \n",
              "</tr>\n",
              "<tr>\n",
              "  <th>Model:</th>                  <td>GLM</td>       <th>  Df Residuals:      </th>  <td>122422</td>  \n",
              "</tr>\n",
              "<tr>\n",
              "  <th>Model Family:</th>        <td>Binomial</td>     <th>  Df Model:          </th>  <td>     0</td>  \n",
              "</tr>\n",
              "<tr>\n",
              "  <th>Link Function:</th>         <td>logit</td>      <th>  Scale:             </th> <td>  1.0000</td> \n",
              "</tr>\n",
              "<tr>\n",
              "  <th>Method:</th>                <td>IRLS</td>       <th>  Log-Likelihood:    </th> <td> -42953.</td> \n",
              "</tr>\n",
              "<tr>\n",
              "  <th>Date:</th>            <td>Wed, 01 Dec 2021</td> <th>  Deviance:          </th> <td>  85906.</td> \n",
              "</tr>\n",
              "<tr>\n",
              "  <th>Time:</th>                <td>10:06:20</td>     <th>  Pearson chi2:      </th> <td>1.22e+05</td> \n",
              "</tr>\n",
              "<tr>\n",
              "  <th>No. Iterations:</th>          <td>5</td>        <th>  Pseudo R-squ. (CS):</th> <td>1.110e-16</td>\n",
              "</tr>\n",
              "<tr>\n",
              "  <th>Covariance Type:</th>     <td>nonrobust</td>    <th>                     </th>     <td> </td>    \n",
              "</tr>\n",
              "</table>\n",
              "<table class=\"simpletable\">\n",
              "<tr>\n",
              "      <td></td>         <th>coef</th>     <th>std err</th>      <th>z</th>      <th>P>|z|</th>  <th>[0.025</th>    <th>0.975]</th>  \n",
              "</tr>\n",
              "<tr>\n",
              "  <th>Intercept</th> <td>   -2.0696</td> <td>    0.009</td> <td> -228.444</td> <td> 0.000</td> <td>   -2.087</td> <td>   -2.052</td>\n",
              "</tr>\n",
              "</table>"
            ],
            "text/plain": [
              "<class 'statsmodels.iolib.summary.Summary'>\n",
              "\"\"\"\n",
              "                 Generalized Linear Model Regression Results                  \n",
              "==============================================================================\n",
              "Dep. Variable:          nclaims_proxy   No. Observations:               122423\n",
              "Model:                            GLM   Df Residuals:                   122422\n",
              "Model Family:                Binomial   Df Model:                            0\n",
              "Link Function:                  logit   Scale:                          1.0000\n",
              "Method:                          IRLS   Log-Likelihood:                -42953.\n",
              "Date:                Wed, 01 Dec 2021   Deviance:                       85906.\n",
              "Time:                        10:06:20   Pearson chi2:                 1.22e+05\n",
              "No. Iterations:                     5   Pseudo R-squ. (CS):          1.110e-16\n",
              "Covariance Type:            nonrobust                                         \n",
              "==============================================================================\n",
              "                 coef    std err          z      P>|z|      [0.025      0.975]\n",
              "------------------------------------------------------------------------------\n",
              "Intercept     -2.0696      0.009   -228.444      0.000      -2.087      -2.052\n",
              "==============================================================================\n",
              "\"\"\""
            ]
          },
          "execution_count": 56,
          "metadata": {},
          "output_type": "execute_result"
        }
      ]
    },
    {
      "cell_type": "code",
      "metadata": {
        "id": "thMlDJTrTLBE",
        "outputId": "12ac6d8f-23d7-4587-cd4e-70422da00073"
      },
      "source": [
        "exercize_nn.predict(input_intercept).min()"
      ],
      "execution_count": null,
      "outputs": [
        {
          "data": {
            "text/plain": [
              "0.11227116"
            ]
          },
          "execution_count": 57,
          "metadata": {},
          "output_type": "execute_result"
        }
      ]
    },
    {
      "cell_type": "code",
      "metadata": {
        "colab": {
          "base_uri": "https://localhost:8080/"
        },
        "id": "OhojkziLycLt",
        "outputId": "c32c7630-6d78-4d29-b8a5-10e717b92337"
      },
      "source": [
        "# vector of fitted values\n",
        "exercize_glm.predict()"
      ],
      "execution_count": null,
      "outputs": [
        {
          "data": {
            "text/plain": [
              "array([0.11208678, 0.11208678, 0.11208678, ..., 0.11208678, 0.11208678,\n",
              "       0.11208678])"
            ]
          },
          "execution_count": 58,
          "metadata": {},
          "output_type": "execute_result"
        }
      ]
    },
    {
      "cell_type": "code",
      "metadata": {
        "colab": {
          "base_uri": "https://localhost:8080/"
        },
        "id": "MlQvM3VtycLt",
        "outputId": "a187174e-5205-4463-e395-08b91a4c5870"
      },
      "source": [
        "# Q3: compare prediction\n",
        "np.unique(np.round(exercize_glm.predict(),5))"
      ],
      "execution_count": null,
      "outputs": [
        {
          "data": {
            "text/plain": [
              "array([0.11209])"
            ]
          },
          "execution_count": 59,
          "metadata": {},
          "output_type": "execute_result"
        }
      ]
    },
    {
      "cell_type": "code",
      "metadata": {
        "colab": {
          "base_uri": "https://localhost:8080/"
        },
        "id": "Pid0Oov_ycLt",
        "outputId": "d98a62ff-11ff-4b2b-d408-fb0e30d3a50f"
      },
      "source": [
        "# pretty much similar\n",
        "np.unique(np.round(exercize_nn.predict(x = input_intercept),5))"
      ],
      "execution_count": null,
      "outputs": [
        {
          "data": {
            "text/plain": [
              "array([0.11227], dtype=float32)"
            ]
          },
          "execution_count": 60,
          "metadata": {},
          "output_type": "execute_result"
        }
      ]
    },
    {
      "cell_type": "code",
      "metadata": {
        "id": "cAMM40p0ycLt",
        "outputId": "b7f34990-a2b5-4e3b-f71f-865e6404ab80"
      },
      "source": [
        "# we can now delete the proxy variable from the dataset\n",
        "train = train.drop('nclaims_proxy',1)"
      ],
      "execution_count": null,
      "outputs": [
        {
          "name": "stderr",
          "output_type": "stream",
          "text": [
            "C:\\Users\\u0149060\\Anaconda3\\envs\\dev_env\\lib\\site-packages\\ipykernel_launcher.py:2: FutureWarning: In a future version of pandas all arguments of DataFrame.drop except for the argument 'labels' will be keyword-only\n",
            "  \n"
          ]
        }
      ]
    },
    {
      "cell_type": "markdown",
      "metadata": {
        "id": "FOrZ2lVUycLu"
      },
      "source": [
        "## 2.3 Taking exposure into account in a neural network <a name=\"two-three\"></a>"
      ]
    },
    {
      "cell_type": "markdown",
      "metadata": {
        "id": "-bMEXD9CY5UA"
      },
      "source": [
        "$$\n",
        "\\begin{align}\n",
        "Y \\sim Poisson(\\lambda = expo \\cdot \\exp(1\\cdot\\beta))\n",
        "\\end{align}\n",
        "$$"
      ]
    },
    {
      "cell_type": "markdown",
      "metadata": {
        "id": "z5dF-XaKY5UB"
      },
      "source": [
        "![NN_intercept.png](data:image/png;base64,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)"
      ]
    },
    {
      "cell_type": "markdown",
      "metadata": {
        "id": "V7jaTw1pycLu"
      },
      "source": [
        "The Poisson loss function, including exposure, is:\n",
        "$$\n",
        "\\begin{align}\n",
        "\\mathcal{L}=\\sum_{i}{expo_{i}\\cdot \\lambda_{i}-y_{i}\\cdot log(expo_{i}\\cdot \\lambda_{i})},\n",
        "\\end{align}\n",
        "$$\n",
        "which is proportional to:\n",
        "$$\n",
        "\\begin{align}\n",
        "\\mathcal{L}=\\sum_{i}{expo_{i}\\cdot (\\lambda_{i}-\\frac{y_{i}}{expo_{i}}log(\\lambda_{i}))}.\n",
        "\\end{align}\n",
        "$$"
      ]
    },
    {
      "cell_type": "markdown",
      "metadata": {
        "id": "gQ1XOyf5ycLu"
      },
      "source": [
        "This is the loss of a Poisson model with:\n",
        "* observations $\\frac{y_{i}}{expo_{i}}$ and\n",
        "* weights $expo_{i}$"
      ]
    },
    {
      "cell_type": "markdown",
      "metadata": {
        "id": "cPJ9iEKhycLu"
      },
      "source": [
        "Notice indeed how the parameter estimates of the following two GLMs are identical."
      ]
    },
    {
      "cell_type": "markdown",
      "metadata": {
        "id": "SIWlk5A1ycLu"
      },
      "source": [
        "a) Including **expo** as an offset"
      ]
    },
    {
      "cell_type": "code",
      "metadata": {
        "colab": {
          "base_uri": "https://localhost:8080/",
          "height": 268
        },
        "id": "55XtR8LfycLu",
        "outputId": "fd576b28-e2fb-4d69-e083-5af226fa2ba7"
      },
      "source": [
        "# GLM with offset\n",
        "glm_offset = sm.formula.glm(\"nclaims ~ 1\", \n",
        "                            data=train, \n",
        "                            offset = np.log(train.expo),\n",
        "                            family=sm.families.Poisson()).fit(); \n",
        "glm_offset.summary()"
      ],
      "execution_count": null,
      "outputs": [
        {
          "data": {
            "text/html": [
              "<table class=\"simpletable\">\n",
              "<caption>Generalized Linear Model Regression Results</caption>\n",
              "<tr>\n",
              "  <th>Dep. Variable:</th>        <td>nclaims</td>     <th>  No. Observations:  </th>  <td>122423</td> \n",
              "</tr>\n",
              "<tr>\n",
              "  <th>Model:</th>                  <td>GLM</td>       <th>  Df Residuals:      </th>  <td>122422</td> \n",
              "</tr>\n",
              "<tr>\n",
              "  <th>Model Family:</th>         <td>Poisson</td>     <th>  Df Model:          </th>  <td>     0</td> \n",
              "</tr>\n",
              "<tr>\n",
              "  <th>Link Function:</th>          <td>Log</td>       <th>  Scale:             </th> <td>  1.0000</td>\n",
              "</tr>\n",
              "<tr>\n",
              "  <th>Method:</th>                <td>IRLS</td>       <th>  Log-Likelihood:    </th> <td> -47759.</td>\n",
              "</tr>\n",
              "<tr>\n",
              "  <th>Date:</th>            <td>Wed, 01 Dec 2021</td> <th>  Deviance:          </th> <td>  67234.</td>\n",
              "</tr>\n",
              "<tr>\n",
              "  <th>Time:</th>                <td>10:06:28</td>     <th>  Pearson chi2:      </th> <td>1.48e+05</td>\n",
              "</tr>\n",
              "<tr>\n",
              "  <th>No. Iterations:</th>          <td>6</td>        <th>  Pseudo R-squ. (CS):</th>  <td> 0.000</td> \n",
              "</tr>\n",
              "<tr>\n",
              "  <th>Covariance Type:</th>     <td>nonrobust</td>    <th>                     </th>     <td> </td>   \n",
              "</tr>\n",
              "</table>\n",
              "<table class=\"simpletable\">\n",
              "<tr>\n",
              "      <td></td>         <th>coef</th>     <th>std err</th>      <th>z</th>      <th>P>|z|</th>  <th>[0.025</th>    <th>0.975]</th>  \n",
              "</tr>\n",
              "<tr>\n",
              "  <th>Intercept</th> <td>   -1.9734</td> <td>    0.008</td> <td> -242.868</td> <td> 0.000</td> <td>   -1.989</td> <td>   -1.957</td>\n",
              "</tr>\n",
              "</table>"
            ],
            "text/plain": [
              "<class 'statsmodels.iolib.summary.Summary'>\n",
              "\"\"\"\n",
              "                 Generalized Linear Model Regression Results                  \n",
              "==============================================================================\n",
              "Dep. Variable:                nclaims   No. Observations:               122423\n",
              "Model:                            GLM   Df Residuals:                   122422\n",
              "Model Family:                 Poisson   Df Model:                            0\n",
              "Link Function:                    Log   Scale:                          1.0000\n",
              "Method:                          IRLS   Log-Likelihood:                -47759.\n",
              "Date:                Wed, 01 Dec 2021   Deviance:                       67234.\n",
              "Time:                        10:06:28   Pearson chi2:                 1.48e+05\n",
              "No. Iterations:                     6   Pseudo R-squ. (CS):              0.000\n",
              "Covariance Type:            nonrobust                                         \n",
              "==============================================================================\n",
              "                 coef    std err          z      P>|z|      [0.025      0.975]\n",
              "------------------------------------------------------------------------------\n",
              "Intercept     -1.9734      0.008   -242.868      0.000      -1.989      -1.957\n",
              "==============================================================================\n",
              "\"\"\""
            ]
          },
          "execution_count": 62,
          "metadata": {},
          "output_type": "execute_result"
        }
      ]
    },
    {
      "cell_type": "markdown",
      "metadata": {
        "id": "sO0EXQ28ycLv"
      },
      "source": [
        "b) Including **expo** as weights"
      ]
    },
    {
      "cell_type": "code",
      "metadata": {
        "colab": {
          "base_uri": "https://localhost:8080/",
          "height": 268
        },
        "id": "VQZMYP1yycLv",
        "outputId": "e83cfbad-6121-44eb-ca2d-f94443ea9e0b"
      },
      "source": [
        "# GLM including weights\n",
        "train['claims_per_expo'] = train.nclaims / train.expo\n",
        "\n",
        "glm_weights = sm.formula.glm(\"claims_per_expo ~ 1\", \n",
        "                             data=train, \n",
        "                             freq_weights = train.expo, \n",
        "                             family=sm.families.Poisson()).fit(); \n",
        "glm_weights.summary()"
      ],
      "execution_count": null,
      "outputs": [
        {
          "data": {
            "text/html": [
              "<table class=\"simpletable\">\n",
              "<caption>Generalized Linear Model Regression Results</caption>\n",
              "<tr>\n",
              "  <th>Dep. Variable:</th>    <td>claims_per_expo</td> <th>  No. Observations:  </th>   <td>122423</td>  \n",
              "</tr>\n",
              "<tr>\n",
              "  <th>Model:</th>                  <td>GLM</td>       <th>  Df Residuals:      </th>  <td>108979.41</td>\n",
              "</tr>\n",
              "<tr>\n",
              "  <th>Model Family:</th>         <td>Poisson</td>     <th>  Df Model:          </th>   <td>     0</td>  \n",
              "</tr>\n",
              "<tr>\n",
              "  <th>Link Function:</th>          <td>Log</td>       <th>  Scale:             </th>  <td>  1.0000</td> \n",
              "</tr>\n",
              "<tr>\n",
              "  <th>Method:</th>                <td>IRLS</td>       <th>  Log-Likelihood:    </th>  <td> -47033.</td> \n",
              "</tr>\n",
              "<tr>\n",
              "  <th>Date:</th>            <td>Wed, 01 Dec 2021</td> <th>  Deviance:          </th>  <td>  67234.</td> \n",
              "</tr>\n",
              "<tr>\n",
              "  <th>Time:</th>                <td>10:06:30</td>     <th>  Pearson chi2:      </th>  <td>1.48e+05</td> \n",
              "</tr>\n",
              "<tr>\n",
              "  <th>No. Iterations:</th>          <td>6</td>        <th>  Pseudo R-squ. (CS):</th> <td>-4.441e-16</td>\n",
              "</tr>\n",
              "<tr>\n",
              "  <th>Covariance Type:</th>     <td>nonrobust</td>    <th>                     </th>      <td> </td>    \n",
              "</tr>\n",
              "</table>\n",
              "<table class=\"simpletable\">\n",
              "<tr>\n",
              "      <td></td>         <th>coef</th>     <th>std err</th>      <th>z</th>      <th>P>|z|</th>  <th>[0.025</th>    <th>0.975]</th>  \n",
              "</tr>\n",
              "<tr>\n",
              "  <th>Intercept</th> <td>   -1.9734</td> <td>    0.008</td> <td> -242.868</td> <td> 0.000</td> <td>   -1.989</td> <td>   -1.957</td>\n",
              "</tr>\n",
              "</table>"
            ],
            "text/plain": [
              "<class 'statsmodels.iolib.summary.Summary'>\n",
              "\"\"\"\n",
              "                 Generalized Linear Model Regression Results                  \n",
              "==============================================================================\n",
              "Dep. Variable:        claims_per_expo   No. Observations:               122423\n",
              "Model:                            GLM   Df Residuals:                108979.41\n",
              "Model Family:                 Poisson   Df Model:                            0\n",
              "Link Function:                    Log   Scale:                          1.0000\n",
              "Method:                          IRLS   Log-Likelihood:                -47033.\n",
              "Date:                Wed, 01 Dec 2021   Deviance:                       67234.\n",
              "Time:                        10:06:30   Pearson chi2:                 1.48e+05\n",
              "No. Iterations:                     6   Pseudo R-squ. (CS):         -4.441e-16\n",
              "Covariance Type:            nonrobust                                         \n",
              "==============================================================================\n",
              "                 coef    std err          z      P>|z|      [0.025      0.975]\n",
              "------------------------------------------------------------------------------\n",
              "Intercept     -1.9734      0.008   -242.868      0.000      -1.989      -1.957\n",
              "==============================================================================\n",
              "\"\"\""
            ]
          },
          "execution_count": 63,
          "metadata": {},
          "output_type": "execute_result"
        }
      ]
    },
    {
      "cell_type": "markdown",
      "metadata": {
        "id": "s6N_1pPwycLv"
      },
      "source": [
        "We use the weight argument to also include exposure in our Neural Networks."
      ]
    },
    {
      "cell_type": "code",
      "metadata": {
        "id": "2afDn7stycLv"
      },
      "source": [
        "# neural network architecture specification\n",
        "nn_freq_exposure = tf.keras.models.Sequential()\n",
        "nn_freq_exposure.add(tf.keras.layers.Dense(units = 1, activation = 'exponential', input_shape = (1,), use_bias = False))\n",
        "nn_freq_exposure.compile(optimizer = 'RMSprop', loss = 'poisson')"
      ],
      "execution_count": null,
      "outputs": []
    },
    {
      "cell_type": "markdown",
      "metadata": {
        "id": "3VOqdt_ZqUW_"
      },
      "source": [
        "Remark that the archetecture of our Neural Network remains the same"
      ]
    },
    {
      "cell_type": "code",
      "metadata": {
        "id": "1_GDJRDUycLw"
      },
      "source": [
        "# create a vector with exposure values\n",
        "exposure = np.array(train['expo']) # pd.Series must be converted to pd.array due to compatibility reasons with fit() method"
      ],
      "execution_count": null,
      "outputs": []
    },
    {
      "cell_type": "code",
      "metadata": {
        "colab": {
          "base_uri": "https://localhost:8080/"
        },
        "id": "t0Jf5HmZycLw",
        "scrolled": true,
        "outputId": "3e15f44f-b01f-42d8-c1c8-fa5e085a1069"
      },
      "source": [
        "# divide claim counts by exposure and use weights\n",
        "nn_freq_exposure.fit(x = input_intercept,\n",
        "                     y = counts/exposure,\n",
        "                     sample_weight = exposure,\n",
        "                     epochs = 20,\n",
        "                     batch_size = 1024,\n",
        "                     validation_split = 0,\n",
        "                     verbose = 0)"
      ],
      "execution_count": null,
      "outputs": [
        {
          "data": {
            "text/plain": [
              "<tensorflow.python.keras.callbacks.History at 0x143203785c8>"
            ]
          },
          "execution_count": 66,
          "metadata": {},
          "output_type": "execute_result"
        }
      ]
    },
    {
      "cell_type": "code",
      "metadata": {
        "colab": {
          "base_uri": "https://localhost:8080/"
        },
        "id": "EL_z4mDFycLw",
        "outputId": "b8856ddf-8d7e-4c6d-c3dc-a1d351695856"
      },
      "source": [
        "# get_weights()\n",
        "float(nn_freq_exposure.get_weights()[0])"
      ],
      "execution_count": null,
      "outputs": [
        {
          "data": {
            "text/plain": [
              "-1.9487924575805664"
            ]
          },
          "execution_count": 67,
          "metadata": {},
          "output_type": "execute_result"
        }
      ]
    },
    {
      "cell_type": "code",
      "metadata": {
        "colab": {
          "base_uri": "https://localhost:8080/"
        },
        "id": "xOnq7mVsycLw",
        "outputId": "a6b76c8a-1015-4388-bae9-3669f21adae5"
      },
      "source": [
        "# comparing the estimated parameter (difference reflects a different optimization technique)\n",
        "print(f'NN weights:{nn_freq_exposure.get_weights()[0][0][0]}, \\n\\nGLM_offset coefficients:{glm_offset.params}, \\n\\nGLM_weights coefficients:{glm_weights.params}')"
      ],
      "execution_count": null,
      "outputs": [
        {
          "name": "stdout",
          "output_type": "stream",
          "text": [
            "NN weights:-1.9487924575805664, \n",
            "\n",
            "GLM_offset coefficients:Intercept   -1.973366\n",
            "dtype: float64, \n",
            "\n",
            "GLM_weights coefficients:Intercept   -1.973366\n",
            "dtype: float64\n"
          ]
        }
      ]
    },
    {
      "cell_type": "markdown",
      "metadata": {
        "id": "BwVIdxPJl0Ik"
      },
      "source": [
        "## 2.4 Adding covariates <a name=\"two-four\"></a>"
      ]
    },
    {
      "cell_type": "markdown",
      "metadata": {
        "id": "1Ndd-NpPZEYF"
      },
      "source": [
        "$$\n",
        "\\begin{align}\n",
        "Y \\sim Poisson(\\lambda = expo \\cdot \\exp(\\beta_0 + ageph \\cdot \\beta))\n",
        "\\end{align}\n",
        "$$"
      ]
    },
    {
      "cell_type": "markdown",
      "metadata": {
        "id": "aId4GTADZEYF"
      },
      "source": [
        "![NN_intercept.png](data:image/png;base64,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)"
      ]
    },
    {
      "cell_type": "markdown",
      "metadata": {
        "id": "QTaulSSHsM-0"
      },
      "source": [
        "We now fit a frequency model with:\n",
        "* An intercept\n",
        "* A single covariate age"
      ]
    },
    {
      "cell_type": "code",
      "metadata": {
        "id": "4KfLmCo6l0Ik"
      },
      "source": [
        "# create a vector with ageph (pd.Series must be converted to pd.array due to compatibility reasons with fit() method)\n",
        "ageph = np.array(train['ageph'])"
      ],
      "execution_count": null,
      "outputs": []
    },
    {
      "cell_type": "code",
      "metadata": {
        "id": "h-bNbXWHl0Ik"
      },
      "source": [
        "# neural network architecture specification\n",
        "nn_freq_ageph = tf.keras.models.Sequential()\n",
        "nn_freq_ageph.add(tf.keras.layers.Dense(units = 1, activation = 'exponential', input_shape = (1,), use_bias = True)) # Notice how we set use_bias = TRUE for the intercept.\n",
        "nn_freq_ageph.compile(optimizer = 'RMSprop', loss = 'poisson')"
      ],
      "execution_count": null,
      "outputs": []
    },
    {
      "cell_type": "code",
      "metadata": {
        "colab": {
          "base_uri": "https://localhost:8080/"
        },
        "id": "k8imZX5xl0Ik",
        "outputId": "6b096db4-cb54-4b37-f59d-541161855e30"
      },
      "source": [
        "nn_freq_ageph.fit(ageph, # ageph is now our input\n",
        "                 counts/exposure,\n",
        "                 sample_weight = exposure,\n",
        "                 epochs = 20,\n",
        "                 batch_size = 1024,\n",
        "                 validation_split = 0,\n",
        "                 verbose = 0)"
      ],
      "execution_count": null,
      "outputs": [
        {
          "data": {
            "text/plain": [
              "<tensorflow.python.keras.callbacks.History at 0x14322ad9588>"
            ]
          },
          "execution_count": 71,
          "metadata": {},
          "output_type": "execute_result"
        }
      ]
    },
    {
      "cell_type": "code",
      "metadata": {
        "colab": {
          "base_uri": "https://localhost:8080/"
        },
        "id": "62gnMOsLl0Ik",
        "outputId": "7c9ccfc3-5d6b-4541-d5a6-8b67080d9f9d"
      },
      "source": [
        "nn_freq_ageph.get_weights()"
      ],
      "execution_count": null,
      "outputs": [
        {
          "data": {
            "text/plain": [
              "[array([[-0.02477216]], dtype=float32), array([-0.8522962], dtype=float32)]"
            ]
          },
          "execution_count": 72,
          "metadata": {},
          "output_type": "execute_result"
        }
      ]
    },
    {
      "cell_type": "markdown",
      "metadata": {
        "id": "c7KJ8JAitigc"
      },
      "source": [
        "Compare with GLM"
      ]
    },
    {
      "cell_type": "code",
      "metadata": {
        "colab": {
          "base_uri": "https://localhost:8080/",
          "height": 289
        },
        "id": "YU1B1X1WtiE0",
        "outputId": "3a26f863-4c4d-491f-f9ad-5788db09dd28"
      },
      "source": [
        "glm_age = sm.formula.glm(\"nclaims ~ ageph\", \n",
        "                            data=train, \n",
        "                            offset = np.log(train.expo),\n",
        "                            family=sm.families.Poisson()).fit(); \n",
        "glm_age.summary()"
      ],
      "execution_count": null,
      "outputs": [
        {
          "data": {
            "text/html": [
              "<table class=\"simpletable\">\n",
              "<caption>Generalized Linear Model Regression Results</caption>\n",
              "<tr>\n",
              "  <th>Dep. Variable:</th>        <td>nclaims</td>     <th>  No. Observations:  </th>  <td>122423</td> \n",
              "</tr>\n",
              "<tr>\n",
              "  <th>Model:</th>                  <td>GLM</td>       <th>  Df Residuals:      </th>  <td>122421</td> \n",
              "</tr>\n",
              "<tr>\n",
              "  <th>Model Family:</th>         <td>Poisson</td>     <th>  Df Model:          </th>  <td>     1</td> \n",
              "</tr>\n",
              "<tr>\n",
              "  <th>Link Function:</th>          <td>Log</td>       <th>  Scale:             </th> <td>  1.0000</td>\n",
              "</tr>\n",
              "<tr>\n",
              "  <th>Method:</th>                <td>IRLS</td>       <th>  Log-Likelihood:    </th> <td> -47362.</td>\n",
              "</tr>\n",
              "<tr>\n",
              "  <th>Date:</th>            <td>Wed, 01 Dec 2021</td> <th>  Deviance:          </th> <td>  66439.</td>\n",
              "</tr>\n",
              "<tr>\n",
              "  <th>Time:</th>                <td>10:06:47</td>     <th>  Pearson chi2:      </th> <td>1.46e+05</td>\n",
              "</tr>\n",
              "<tr>\n",
              "  <th>No. Iterations:</th>          <td>6</td>        <th>  Pseudo R-squ. (CS):</th> <td>0.006478</td>\n",
              "</tr>\n",
              "<tr>\n",
              "  <th>Covariance Type:</th>     <td>nonrobust</td>    <th>                     </th>     <td> </td>   \n",
              "</tr>\n",
              "</table>\n",
              "<table class=\"simpletable\">\n",
              "<tr>\n",
              "      <td></td>         <th>coef</th>     <th>std err</th>      <th>z</th>      <th>P>|z|</th>  <th>[0.025</th>    <th>0.975]</th>  \n",
              "</tr>\n",
              "<tr>\n",
              "  <th>Intercept</th> <td>   -1.2481</td> <td>    0.026</td> <td>  -47.098</td> <td> 0.000</td> <td>   -1.300</td> <td>   -1.196</td>\n",
              "</tr>\n",
              "<tr>\n",
              "  <th>ageph</th>     <td>   -0.0159</td> <td>    0.001</td> <td>  -27.713</td> <td> 0.000</td> <td>   -0.017</td> <td>   -0.015</td>\n",
              "</tr>\n",
              "</table>"
            ],
            "text/plain": [
              "<class 'statsmodels.iolib.summary.Summary'>\n",
              "\"\"\"\n",
              "                 Generalized Linear Model Regression Results                  \n",
              "==============================================================================\n",
              "Dep. Variable:                nclaims   No. Observations:               122423\n",
              "Model:                            GLM   Df Residuals:                   122421\n",
              "Model Family:                 Poisson   Df Model:                            1\n",
              "Link Function:                    Log   Scale:                          1.0000\n",
              "Method:                          IRLS   Log-Likelihood:                -47362.\n",
              "Date:                Wed, 01 Dec 2021   Deviance:                       66439.\n",
              "Time:                        10:06:47   Pearson chi2:                 1.46e+05\n",
              "No. Iterations:                     6   Pseudo R-squ. (CS):           0.006478\n",
              "Covariance Type:            nonrobust                                         \n",
              "==============================================================================\n",
              "                 coef    std err          z      P>|z|      [0.025      0.975]\n",
              "------------------------------------------------------------------------------\n",
              "Intercept     -1.2481      0.026    -47.098      0.000      -1.300      -1.196\n",
              "ageph         -0.0159      0.001    -27.713      0.000      -0.017      -0.015\n",
              "==============================================================================\n",
              "\"\"\""
            ]
          },
          "execution_count": 73,
          "metadata": {},
          "output_type": "execute_result"
        }
      ]
    },
    {
      "cell_type": "markdown",
      "metadata": {
        "id": "_YNTM6Cu0DH3"
      },
      "source": [
        "If the Neural Network and the GLM do not agree, you should let the Neural Network run for some more epochs. The GLM is much more efficient at fitting GLMs."
      ]
    },
    {
      "cell_type": "markdown",
      "metadata": {
        "id": "zp7PSJUC0VeY"
      },
      "source": [
        "# Chapter 3 - Deep Neural Networks <a name=\"three\"></a>"
      ]
    },
    {
      "cell_type": "markdown",
      "metadata": {
        "id": "cUTN2kU7F4oJ"
      },
      "source": [
        "## 3.1 Hidden layers <a name=\"three-one\"></a>"
      ]
    },
    {
      "cell_type": "markdown",
      "metadata": {
        "id": "hPPHyz9E0a2f"
      },
      "source": [
        "Time to go beyond the GLM case and include hidden layers in our Neural Network"
      ]
    },
    {
      "cell_type": "code",
      "metadata": {
        "id": "1MpChLfJ0s4l"
      },
      "source": [
        "# neural network architecture specification\n",
        "nn_freq_ageph = tf.keras.models.Sequential()\n",
        "nn_freq_ageph.add(tf.keras.layers.BatchNormalization(input_shape = (1,))) # layer_batch_normalization centers and scales the input features\n",
        "nn_freq_ageph.add(tf.keras.layers.Dense(units = 5, activation = 'relu')) # Hidden layer with 5 nodes and relu activation function\n",
        "nn_freq_ageph.add(tf.keras.layers.Dense(units = 1, activation = 'exponential', use_bias = True)) \n",
        "nn_freq_ageph.compile(optimizer = 'RMSprop', loss = 'poisson', metrics = [tf.keras.metrics.MeanSquaredError()])"
      ],
      "execution_count": null,
      "outputs": []
    },
    {
      "cell_type": "code",
      "metadata": {
        "colab": {
          "base_uri": "https://localhost:8080/"
        },
        "id": "kv_IuZN107Gu",
        "outputId": "085fa6f8-612d-4093-b05e-7b3081321e0c"
      },
      "source": [
        "nn_freq_ageph.summary()"
      ],
      "execution_count": null,
      "outputs": [
        {
          "name": "stdout",
          "output_type": "stream",
          "text": [
            "Model: \"sequential_6\"\n",
            "_________________________________________________________________\n",
            "Layer (type)                 Output Shape              Param #   \n",
            "=================================================================\n",
            "batch_normalization (BatchNo (None, 1)                 4         \n",
            "_________________________________________________________________\n",
            "dense_6 (Dense)              (None, 5)                 10        \n",
            "_________________________________________________________________\n",
            "dense_7 (Dense)              (None, 1)                 6         \n",
            "=================================================================\n",
            "Total params: 20\n",
            "Trainable params: 18\n",
            "Non-trainable params: 2\n",
            "_________________________________________________________________\n"
          ]
        }
      ]
    },
    {
      "cell_type": "code",
      "metadata": {
        "colab": {
          "base_uri": "https://localhost:8080/"
        },
        "id": "8W_Bbxhr0s4m",
        "outputId": "78b68583-55eb-4e76-a031-850c9c0bf4c2"
      },
      "source": [
        "nn_freq_ageph.fit(ageph,\n",
        "                 counts/exposure,\n",
        "                 sample_weight = exposure,\n",
        "                 epochs = 40,\n",
        "                 batch_size = 1024,\n",
        "                 validation_split = 0,\n",
        "                 verbose = 1)"
      ],
      "execution_count": null,
      "outputs": [
        {
          "name": "stdout",
          "output_type": "stream",
          "text": [
            "Epoch 1/40\n",
            "  1/120 [..............................] - ETA: 0s - loss: 0.8599 - mean_squared_error: 1.5343WARNING:tensorflow:Callbacks method `on_train_batch_begin` is slow compared to the batch time (batch time: 0.0000s vs `on_train_batch_begin` time: 0.0010s). Check your callbacks.\n",
            "120/120 [==============================] - 0s 505us/step - loss: 0.6840 - mean_squared_error: 1.0618\n",
            "Epoch 2/40\n",
            "120/120 [==============================] - 0s 461us/step - loss: 0.4976 - mean_squared_error: 0.8168\n",
            "Epoch 3/40\n",
            "120/120 [==============================] - 0s 427us/step - loss: 0.4179 - mean_squared_error: 0.7399\n",
            "Epoch 4/40\n",
            "120/120 [==============================] - 0s 517us/step - loss: 0.3830 - mean_squared_error: 0.7150\n",
            "Epoch 5/40\n",
            "120/120 [==============================] - 0s 672us/step - loss: 0.3696 - mean_squared_error: 0.7093\n",
            "Epoch 6/40\n",
            "120/120 [==============================] - 0s 433us/step - loss: 0.3660 - mean_squared_error: 0.7080\n",
            "Epoch 7/40\n",
            "120/120 [==============================] - 0s 429us/step - loss: 0.3650 - mean_squared_error: 0.7075\n",
            "Epoch 8/40\n",
            "120/120 [==============================] - 0s 477us/step - loss: 0.3647 - mean_squared_error: 0.7073\n",
            "Epoch 9/40\n",
            "120/120 [==============================] - 0s 425us/step - loss: 0.3645 - mean_squared_error: 0.7072\n",
            "Epoch 10/40\n",
            "120/120 [==============================] - 0s 426us/step - loss: 0.3644 - mean_squared_error: 0.7071\n",
            "Epoch 11/40\n",
            "120/120 [==============================] - 0s 409us/step - loss: 0.3644 - mean_squared_error: 0.7070\n",
            "Epoch 12/40\n",
            "120/120 [==============================] - 0s 433us/step - loss: 0.3644 - mean_squared_error: 0.7070\n",
            "Epoch 13/40\n",
            "120/120 [==============================] - 0s 433us/step - loss: 0.3643 - mean_squared_error: 0.7070\n",
            "Epoch 14/40\n",
            "120/120 [==============================] - 0s 425us/step - loss: 0.3643 - mean_squared_error: 0.7070\n",
            "Epoch 15/40\n",
            "120/120 [==============================] - 0s 427us/step - loss: 0.3643 - mean_squared_error: 0.7070\n",
            "Epoch 16/40\n",
            "120/120 [==============================] - 0s 442us/step - loss: 0.3643 - mean_squared_error: 0.7069\n",
            "Epoch 17/40\n",
            "120/120 [==============================] - 0s 433us/step - loss: 0.3642 - mean_squared_error: 0.7069\n",
            "Epoch 18/40\n",
            "120/120 [==============================] - 0s 425us/step - loss: 0.3642 - mean_squared_error: 0.7069\n",
            "Epoch 19/40\n",
            "120/120 [==============================] - 0s 442us/step - loss: 0.3643 - mean_squared_error: 0.7070\n",
            "Epoch 20/40\n",
            "120/120 [==============================] - 0s 417us/step - loss: 0.3642 - mean_squared_error: 0.7069\n",
            "Epoch 21/40\n",
            "120/120 [==============================] - 0s 450us/step - loss: 0.3642 - mean_squared_error: 0.7069\n",
            "Epoch 22/40\n",
            "120/120 [==============================] - 0s 433us/step - loss: 0.3642 - mean_squared_error: 0.7069\n",
            "Epoch 23/40\n",
            "120/120 [==============================] - 0s 442us/step - loss: 0.3642 - mean_squared_error: 0.7069\n",
            "Epoch 24/40\n",
            "120/120 [==============================] - 0s 417us/step - loss: 0.3642 - mean_squared_error: 0.7069\n",
            "Epoch 25/40\n",
            "120/120 [==============================] - 0s 401us/step - loss: 0.3642 - mean_squared_error: 0.7069\n",
            "Epoch 26/40\n",
            "120/120 [==============================] - 0s 408us/step - loss: 0.3642 - mean_squared_error: 0.7069\n",
            "Epoch 27/40\n",
            "120/120 [==============================] - 0s 425us/step - loss: 0.3642 - mean_squared_error: 0.7069\n",
            "Epoch 28/40\n",
            "120/120 [==============================] - 0s 417us/step - loss: 0.3642 - mean_squared_error: 0.7069\n",
            "Epoch 29/40\n",
            "120/120 [==============================] - 0s 425us/step - loss: 0.3641 - mean_squared_error: 0.7069\n",
            "Epoch 30/40\n",
            "120/120 [==============================] - 0s 417us/step - loss: 0.3641 - mean_squared_error: 0.7069\n",
            "Epoch 31/40\n",
            "120/120 [==============================] - 0s 425us/step - loss: 0.3641 - mean_squared_error: 0.7069\n",
            "Epoch 32/40\n",
            "120/120 [==============================] - 0s 408us/step - loss: 0.3641 - mean_squared_error: 0.7069\n",
            "Epoch 33/40\n",
            "120/120 [==============================] - 0s 439us/step - loss: 0.3641 - mean_squared_error: 0.7069\n",
            "Epoch 34/40\n",
            "120/120 [==============================] - 0s 425us/step - loss: 0.3641 - mean_squared_error: 0.7069\n",
            "Epoch 35/40\n",
            "120/120 [==============================] - 0s 425us/step - loss: 0.3641 - mean_squared_error: 0.7069\n",
            "Epoch 36/40\n",
            "120/120 [==============================] - 0s 425us/step - loss: 0.3641 - mean_squared_error: 0.7069\n",
            "Epoch 37/40\n",
            "120/120 [==============================] - 0s 417us/step - loss: 0.3641 - mean_squared_error: 0.7069\n",
            "Epoch 38/40\n",
            "120/120 [==============================] - 0s 426us/step - loss: 0.3641 - mean_squared_error: 0.7069\n",
            "Epoch 39/40\n",
            "120/120 [==============================] - 0s 442us/step - loss: 0.3642 - mean_squared_error: 0.7069\n",
            "Epoch 40/40\n",
            "120/120 [==============================] - 0s 417us/step - loss: 0.3641 - mean_squared_error: 0.7069\n"
          ]
        },
        {
          "data": {
            "text/plain": [
              "<tensorflow.python.keras.callbacks.History at 0x1431fee9c08>"
            ]
          },
          "execution_count": 76,
          "metadata": {},
          "output_type": "execute_result"
        }
      ]
    },
    {
      "cell_type": "code",
      "metadata": {
        "colab": {
          "base_uri": "https://localhost:8080/",
          "height": 283
        },
        "id": "iHqBTQ7c0s4o",
        "outputId": "acc85370-9253-41fd-ed7b-edab7bd4a9e5"
      },
      "source": [
        "# plotting\n",
        "age = tf.cast(np.array(range(18,96)), tf.float32)\n",
        "nn_pred = nn_freq_ageph.predict(age)\n",
        "plt.plot(age, nn_pred)"
      ],
      "execution_count": null,
      "outputs": [
        {
          "data": {
            "text/plain": [
              "[<matplotlib.lines.Line2D at 0x1432c355ec8>]"
            ]
          },
          "execution_count": 77,
          "metadata": {},
          "output_type": "execute_result"
        },
        {
          "data": {
            "image/png": "[encoded data removed]",
            "text/plain": [
              "<Figure size 432x288 with 1 Axes>"
            ]
          },
          "metadata": {
            "needs_background": "light"
          },
          "output_type": "display_data"
        }
      ]
    },
    {
      "cell_type": "markdown",
      "metadata": {
        "id": "QmdXHwhGGR54"
      },
      "source": [
        "## 3.2 CANN - Combined Actuarial Neural Network <a name=\"three-two\"></a>"
      ]
    },
    {
      "cell_type": "code",
      "metadata": {
        "colab": {
          "base_uri": "https://localhost:8080/"
        },
        "id": "q4S9F3_jGkJm",
        "outputId": "fd690710-acbc-4194-ac2a-5c1837623659"
      },
      "source": [
        "# bin for train dataset\n",
        "bins = [17, 22, 30, 40, 50, 60, 70, 80, 120]\n",
        "train['ageph_binned'] = pd.cut(train['ageph'], bins = bins); print(train.ageph_binned.value_counts());"
      ],
      "execution_count": null,
      "outputs": [
        {
          "name": "stdout",
          "output_type": "stream",
          "text": [
            "(40, 50]     29034\n",
            "(30, 40]     27949\n",
            "(50, 60]     21389\n",
            "(22, 30]     16612\n",
            "(60, 70]     16541\n",
            "(70, 80]      8160\n",
            "(17, 22]      1649\n",
            "(80, 120]     1089\n",
            "Name: ageph_binned, dtype: int64\n"
          ]
        }
      ]
    },
    {
      "cell_type": "code",
      "metadata": {
        "id": "nykzJ20sHXdx"
      },
      "source": [
        "glm_age_binned = sm.formula.glm(\"nclaims ~ ageph_binned\", \n",
        "                            data=train, \n",
        "                            offset = np.log(train.expo),\n",
        "                            family=sm.families.Poisson()).fit(); "
      ],
      "execution_count": null,
      "outputs": []
    },
    {
      "cell_type": "code",
      "metadata": {
        "id": "UZAfYsUFTLBK",
        "outputId": "a3f18f1b-e35d-4437-ec9b-d25da4bdfc2a"
      },
      "source": [
        "# plotting\n",
        "age_binned = pd.cut(np.array(range(18,96)), bins = bins);\n",
        "glm_pred = glm_age_binned.predict(pd.DataFrame({'ageph_binned':age_binned}))\n",
        "\n",
        "plt.plot(age, nn_pred, label = 'NN')\n",
        "plt.plot(age, glm_pred, label = \"GLM\")\n",
        "plt.xlabel('age')\n",
        "plt.ylabel('fitted_effect')\n",
        "plt.legend()\n",
        "plt.show()"
      ],
      "execution_count": null,
      "outputs": [
        {
          "data": {
            "image/png": "[encoded data removed]",
            "text/plain": [
              "<Figure size 432x288 with 1 Axes>"
            ]
          },
          "metadata": {
            "needs_background": "light"
          },
          "output_type": "display_data"
        }
      ]
    },
    {
      "cell_type": "markdown",
      "metadata": {
        "id": "MrctfviJTLBK"
      },
      "source": [
        "Now let's see how the two models perform on the test data:"
      ]
    },
    {
      "cell_type": "code",
      "metadata": {
        "id": "qZDFBMY1TLBK",
        "outputId": "e1198ef1-5a71-4404-ee0f-584114efd73c"
      },
      "source": [
        "# bin for test dataset\n",
        "bins = [17, 22, 30, 40, 50, 60, 70, 80, 120]\n",
        "test['ageph_binned'] = pd.cut(test['ageph'], bins = bins); print(test.ageph_binned.value_counts());"
      ],
      "execution_count": null,
      "outputs": [
        {
          "name": "stdout",
          "output_type": "stream",
          "text": [
            "(30, 40]     9647\n",
            "(40, 50]     9592\n",
            "(50, 60]     6876\n",
            "(60, 70]     5510\n",
            "(22, 30]     5505\n",
            "(70, 80]     2764\n",
            "(17, 22]      529\n",
            "(80, 120]     385\n",
            "Name: ageph_binned, dtype: int64\n"
          ]
        }
      ]
    },
    {
      "cell_type": "code",
      "metadata": {
        "id": "yZd7crDBTLBL"
      },
      "source": [
        "# create a vector with ageph (pd.Series must be converted to pd.array due to compatibility reasons with fit() method)\n",
        "ageph_test = np.array(test['ageph'])"
      ],
      "execution_count": null,
      "outputs": []
    },
    {
      "cell_type": "code",
      "metadata": {
        "id": "TRAPbohTTLBL"
      },
      "source": [
        "# predicting on test set using NN\n",
        "nn_pred_on_test = nn_freq_ageph.predict(ageph_test)"
      ],
      "execution_count": null,
      "outputs": []
    },
    {
      "cell_type": "code",
      "metadata": {
        "id": "f3DnBhOlTLBL"
      },
      "source": [
        "# predicting on test set using GLM\n",
        "age_binned_test = pd.cut(ageph_test, bins = bins);\n",
        "glm_pred_on_test = glm_age_binned.predict(pd.DataFrame({'ageph_binned':age_binned_test}))"
      ],
      "execution_count": null,
      "outputs": []
    },
    {
      "cell_type": "code",
      "metadata": {
        "id": "ZcyUn0s7TLBL",
        "outputId": "79a67a59-35ee-4aa2-8627-37ab0774db2d"
      },
      "source": [
        "# evaluate performance of nn_freq_ageph on test data\n",
        "nn_freq_ageph.evaluate(ageph_test, counts_test/exposure_test, sample_weight=exposure_test, verbose = 0)"
      ],
      "execution_count": null,
      "outputs": [
        {
          "name": "stdout",
          "output_type": "stream",
          "text": [
            "1276/1276 [==============================] - 0s 283us/step - loss: 0.3651 - mean_squared_error: 1.6879\n"
          ]
        },
        {
          "data": {
            "text/plain": [
              "[0.3651430606842041, 1.6879297494888306]"
            ]
          },
          "execution_count": 85,
          "metadata": {},
          "output_type": "execute_result"
        }
      ]
    },
    {
      "cell_type": "markdown",
      "metadata": {
        "id": "ef6_pRsPGfhZ"
      },
      "source": [
        "The Neural Network fits a smooth age effect, but does not capture:\n",
        "* The elevated risk for young drivers\n",
        "* The increased risk at old ages\n",
        "\n",
        "For simple problems, simple models and expert opinion is often better suited than Neural Networks. At the same time Neural Networks are very good at finding complex patterns and interactions in the data."
      ]
    },
    {
      "cell_type": "markdown",
      "metadata": {
        "id": "LYK06Qm5J0f-"
      },
      "source": [
        "Can we combine the insides of a well understood actuarial model with the flexibility of a Neural Network: <a href='https://www.cambridge.org/core/journals/astin-bulletin-journal-of-the-iaa/article/editorial-yes-we-cann/66E8BEC373B5CCEF3BF3303D442D6B75' target='_blank'>Yes we CANN!</a>"
      ]
    },
    {
      "cell_type": "markdown",
      "metadata": {
        "id": "6VYSBErWLgi8"
      },
      "source": [
        "Using a skip connection we immediately connect the output of our GLM model with the output of the Neural Network"
      ]
    },
    {
      "cell_type": "markdown",
      "metadata": {
        "id": "x8RuVrQhJi21"
      },
      "source": [
        "<figure>\n",
        "<img src=\"https://github.com/loremarchi/hands-on-machine-learning-R-module-3-python/blob/main/imgs/skip_conn.png?raw=1\" alt=\"autoencoder_schema\" style=\"width: 300px;\"/>\n",
        "<figcaption><center>Figure taken from <a href=\"https://papers.ssrn.com/sol3/papers.cfm?abstract_id=3320525\">Schelldorfer and Wuthrich (2019)</a>.<p></p></center></figcaption>\n",
        "</figure>"
      ]
    },
    {
      "cell_type": "markdown",
      "metadata": {
        "id": "kODhP2WCLD-v"
      },
      "source": [
        "The output node, without skip connection, calculates:\n",
        "$$\n",
        "\\begin{align}\n",
        "f_{activation}{(\\sum_{i}w_{i}h_{i}+b)}.\n",
        "\\end{align}\n",
        "$$"
      ]
    },
    {
      "cell_type": "markdown",
      "metadata": {
        "id": "ewW9q8XrLD-v"
      },
      "source": [
        "With a skip connection, this simply becomes, where s is the value of the skip connection:\n",
        "$$\n",
        "\\begin{align}\n",
        "f_{activation}{(\\sum_{i}w_{i}h_{i}+b+s)}.\n",
        "\\end{align}\n",
        "$$"
      ]
    },
    {
      "cell_type": "markdown",
      "metadata": {
        "id": "g7c_IP-gLD-v"
      },
      "source": [
        "We take a linear combination of the last hidden layer outputs and add the skip input, before applying the activation function.\n",
        "So, what can we do with this? Let's take a claim frequency example with the exponential activation function:\n",
        "* Adding exposure as an offset term:\n",
        "$$\n",
        "\\begin{align}\n",
        "output = \\exp{(\\sum_{i}w_{i}h_{i}+b+log(expo))} = expo\\cdot \\exp(\\sum_{i}w_{i}h_{i}+b)\n",
        "\\end{align}\n",
        "$$\n",
        "* Adding a base prediction:\n",
        "$$\n",
        "\\begin{align}\n",
        "output = \\exp{(\\sum_{i}w_{i}h_{i}+b+log(base))} = base\\cdot \\exp(\\sum_{i}w_{i}h_{i}+b)\n",
        "\\end{align}\n",
        "$$\n",
        "* The combination of both:\n",
        "$$\n",
        "\\begin{align}\n",
        "output = \\exp{(\\sum_{i}w_{i}h_{i}+b+log(expo\\cdot base))} = expo\\cdot base\\cdot \\exp(\\sum_{i}w_{i}h_{i}+b)\n",
        "\\end{align}\n",
        "$$"
      ]
    },
    {
      "cell_type": "markdown",
      "metadata": {
        "id": "Eo0pua7oLD-w"
      },
      "source": [
        "A skip connection allows us to guide the neural net in the right direction and to model adjustments on top of the base\n",
        "predictions, for example obtained via a GLM or GAM. In the actuarial lingo this is called a Combined Actuarial Neural Network\n",
        "(CANN)."
      ]
    },
    {
      "cell_type": "markdown",
      "metadata": {
        "id": "blTZBmEUL1uU"
      },
      "source": [
        "For the implementation of this model, we have to leave the sequential API as there is no longer a single path from input to output"
      ]
    },
    {
      "cell_type": "code",
      "metadata": {
        "id": "SY_1cHzEMEJT"
      },
      "source": [
        "# When using the procedural API, we have to explicitely define the input layers\n",
        "# In this case, there are two input layers, one for the covariates and one for the skip connection.\n",
        "\n",
        "input_nn = tf.keras.layers.Input(shape = (1,), name = 'nn')\n",
        "input_skip = tf.keras.layers.Input(shape = (1,), name = 'skip')"
      ],
      "execution_count": null,
      "outputs": []
    },
    {
      "cell_type": "code",
      "metadata": {
        "id": "9a4DAxI7MNB8"
      },
      "source": [
        "# Each layer is defined as a function of the previous layer in the network\n",
        "norm_nn = tf.keras.layers.BatchNormalization()(input_nn)\n",
        "dense_1 = tf.keras.layers.Dense(units = 16, activation = 'relu')(norm_nn)\n",
        "# Notice we use a linear activation function. Only after combination with the skip connection we apply the exponential activation function\n",
        "output_nn = tf.keras.layers.Dense(units = 1, activation = 'linear')(dense_1) "
      ],
      "execution_count": null,
      "outputs": []
    },
    {
      "cell_type": "code",
      "metadata": {
        "id": "sUTG4tctM4-u"
      },
      "source": [
        "# Combine the output of the first part of the neural network with the skip connection via layer_add \n",
        "interm = tf.keras.layers.Add()([output_nn, input_skip])"
      ],
      "execution_count": null,
      "outputs": []
    },
    {
      "cell_type": "markdown",
      "metadata": {
        "id": "Q7PkkotuNvbT"
      },
      "source": [
        "Finally we want to apply the exponential function to the sum of output_nn and input_skip. We acthieve this by adding a dense layer with fixed weights one for both inputs and an exponential activation function. The model then computes:\n",
        "\n",
        "$$\n",
        "\\begin{align}\n",
        "output = \\exp(1 \\cdot \\texttt{output_nn} + 1 \\cdot \\texttt{input_skip})\n",
        "\\end{align}\n",
        "$$\n",
        "\n"
      ]
    },
    {
      "cell_type": "code",
      "metadata": {
        "id": "hYS5jbujNIJT"
      },
      "source": [
        "init = tf.constant_initializer(np.ones((1,1)))\n",
        "output = tf.keras.layers.Dense(units = 1, \n",
        "                               activation = 'exponential', \n",
        "                               trainable = False,\n",
        "                               kernel_initializer = init,\n",
        "                               name = 'output')(interm)"
      ],
      "execution_count": null,
      "outputs": []
    },
    {
      "cell_type": "code",
      "metadata": {
        "id": "h64mZJYgOl36"
      },
      "source": [
        "# Finally we compile the full model\n",
        "cann = tf.keras.models.Model(inputs = [input_nn, input_skip], outputs = output)\n",
        "cann.compile(optimizer = 'RMSprop', loss = 'poisson', metrics = [tf.keras.metrics.MeanSquaredError()])"
      ],
      "execution_count": null,
      "outputs": []
    },
    {
      "cell_type": "markdown",
      "metadata": {
        "id": "6oQBcBRPPLUh"
      },
      "source": [
        "Tensorflow is endowed with a specific utility to visualize the structure of the network. We can indeed see the skip connection via layer_add:"
      ]
    },
    {
      "cell_type": "code",
      "metadata": {
        "colab": {
          "base_uri": "https://localhost:8080/",
          "height": 644
        },
        "id": "z8bYr6KBO44q",
        "outputId": "ecd0cab6-429a-4b3c-99a4-c895d8fe05ef"
      },
      "source": [
        "# model structure\n",
        "tf.keras.utils.plot_model(model=cann, show_shapes=True)"
      ],
      "execution_count": null,
      "outputs": [
        {
          "name": "stdout",
          "output_type": "stream",
          "text": [
            "('Failed to import pydot. You must `pip install pydot` and install graphviz (https://graphviz.gitlab.io/download/), ', 'for `pydotprint` to work.')\n"
          ]
        }
      ]
    },
    {
      "cell_type": "code",
      "metadata": {
        "id": "w4o4Ca9OJi22"
      },
      "source": [
        "skip_glm = glm_age_binned.predict(linear = True)"
      ],
      "execution_count": null,
      "outputs": []
    },
    {
      "cell_type": "markdown",
      "metadata": {
        "id": "NzincQ1XJi22"
      },
      "source": [
        "Collect the CANN input data in a named list:"
      ]
    },
    {
      "cell_type": "code",
      "metadata": {
        "id": "PhG9oIiuJi23"
      },
      "source": [
        "cann_input = {'nn':np.array(train['ageph']), 'skip':np.array(skip_glm)}"
      ],
      "execution_count": null,
      "outputs": []
    },
    {
      "cell_type": "markdown",
      "metadata": {
        "id": "AOKmpJHxJi24"
      },
      "source": [
        "Fit the CANN like we have seen before:"
      ]
    },
    {
      "cell_type": "code",
      "metadata": {
        "colab": {
          "base_uri": "https://localhost:8080/"
        },
        "id": "O0YB6r3JJi24",
        "outputId": "356c96f3-b90d-4843-8fae-a487cf337da0"
      },
      "source": [
        "# we no longer include exposure as exposure is included via the skip connection\n",
        "cann.fit(x = cann_input,\n",
        "         y = counts,\n",
        "         epochs = 40,\n",
        "         batch_size = 1024,\n",
        "         validation_split = 0,\n",
        "         verbose = 1)"
      ],
      "execution_count": null,
      "outputs": [
        {
          "name": "stdout",
          "output_type": "stream",
          "text": [
            "Epoch 1/40\n",
            "120/120 [==============================] - 0s 511us/step - loss: 0.3780 - mean_squared_error: 0.1331\n",
            "Epoch 2/40\n",
            "120/120 [==============================] - 0s 502us/step - loss: 0.3780 - mean_squared_error: 0.1331\n",
            "Epoch 3/40\n",
            "120/120 [==============================] - 0s 509us/step - loss: 0.3780 - mean_squared_error: 0.1331\n",
            "Epoch 4/40\n",
            "120/120 [==============================] - 0s 500us/step - loss: 0.3780 - mean_squared_error: 0.1331\n",
            "Epoch 5/40\n",
            "120/120 [==============================] - 0s 508us/step - loss: 0.3780 - mean_squared_error: 0.1331\n",
            "Epoch 6/40\n",
            "120/120 [==============================] - 0s 542us/step - loss: 0.3780 - mean_squared_error: 0.1331\n",
            "Epoch 7/40\n",
            "120/120 [==============================] - 0s 523us/step - loss: 0.3780 - mean_squared_error: 0.1331\n",
            "Epoch 8/40\n",
            "120/120 [==============================] - 0s 517us/step - loss: 0.3780 - mean_squared_error: 0.1331\n",
            "Epoch 9/40\n",
            "120/120 [==============================] - 0s 526us/step - loss: 0.3780 - mean_squared_error: 0.1331\n",
            "Epoch 10/40\n",
            "120/120 [==============================] - 0s 498us/step - loss: 0.3780 - mean_squared_error: 0.1331\n",
            "Epoch 11/40\n",
            "120/120 [==============================] - 0s 509us/step - loss: 0.3780 - mean_squared_error: 0.1331\n",
            "Epoch 12/40\n",
            "120/120 [==============================] - 0s 525us/step - loss: 0.3780 - mean_squared_error: 0.1331\n",
            "Epoch 13/40\n",
            "120/120 [==============================] - 0s 500us/step - loss: 0.3780 - mean_squared_error: 0.1331\n",
            "Epoch 14/40\n",
            "120/120 [==============================] - 0s 500us/step - loss: 0.3780 - mean_squared_error: 0.1331\n",
            "Epoch 15/40\n",
            "120/120 [==============================] - 0s 500us/step - loss: 0.3780 - mean_squared_error: 0.1331\n",
            "Epoch 16/40\n",
            "120/120 [==============================] - 0s 500us/step - loss: 0.3780 - mean_squared_error: 0.1331\n",
            "Epoch 17/40\n",
            "120/120 [==============================] - 0s 500us/step - loss: 0.3780 - mean_squared_error: 0.1331\n",
            "Epoch 18/40\n",
            "120/120 [==============================] - 0s 517us/step - loss: 0.3780 - mean_squared_error: 0.1331\n",
            "Epoch 19/40\n",
            "120/120 [==============================] - 0s 484us/step - loss: 0.3779 - mean_squared_error: 0.1331\n",
            "Epoch 20/40\n",
            "120/120 [==============================] - 0s 512us/step - loss: 0.3780 - mean_squared_error: 0.1331\n",
            "Epoch 21/40\n",
            "120/120 [==============================] - 0s 500us/step - loss: 0.3780 - mean_squared_error: 0.1331\n",
            "Epoch 22/40\n",
            "120/120 [==============================] - 0s 509us/step - loss: 0.3780 - mean_squared_error: 0.1331\n",
            "Epoch 23/40\n",
            "120/120 [==============================] - 0s 508us/step - loss: 0.3780 - mean_squared_error: 0.1331\n",
            "Epoch 24/40\n",
            "120/120 [==============================] - 0s 485us/step - loss: 0.3780 - mean_squared_error: 0.1331\n",
            "Epoch 25/40\n",
            "120/120 [==============================] - 0s 493us/step - loss: 0.3780 - mean_squared_error: 0.1331\n",
            "Epoch 26/40\n",
            "120/120 [==============================] - 0s 493us/step - loss: 0.3780 - mean_squared_error: 0.1331\n",
            "Epoch 27/40\n",
            "120/120 [==============================] - 0s 550us/step - loss: 0.3780 - mean_squared_error: 0.1331\n",
            "Epoch 28/40\n",
            "120/120 [==============================] - 0s 518us/step - loss: 0.3780 - mean_squared_error: 0.1331\n",
            "Epoch 29/40\n",
            "120/120 [==============================] - 0s 499us/step - loss: 0.3779 - mean_squared_error: 0.1331\n",
            "Epoch 30/40\n",
            "120/120 [==============================] - 0s 492us/step - loss: 0.3779 - mean_squared_error: 0.1331\n",
            "Epoch 31/40\n",
            "120/120 [==============================] - 0s 500us/step - loss: 0.3780 - mean_squared_error: 0.1331\n",
            "Epoch 32/40\n",
            "120/120 [==============================] - 0s 477us/step - loss: 0.3780 - mean_squared_error: 0.1331\n",
            "Epoch 33/40\n",
            "120/120 [==============================] - 0s 486us/step - loss: 0.3780 - mean_squared_error: 0.1331\n",
            "Epoch 34/40\n",
            "120/120 [==============================] - 0s 492us/step - loss: 0.3780 - mean_squared_error: 0.1331\n",
            "Epoch 35/40\n",
            "120/120 [==============================] - 0s 500us/step - loss: 0.3780 - mean_squared_error: 0.1331\n",
            "Epoch 36/40\n",
            "120/120 [==============================] - 0s 492us/step - loss: 0.3779 - mean_squared_error: 0.1331\n",
            "Epoch 37/40\n",
            "120/120 [==============================] - 0s 492us/step - loss: 0.3779 - mean_squared_error: 0.1331\n",
            "Epoch 38/40\n",
            "120/120 [==============================] - 0s 501us/step - loss: 0.3780 - mean_squared_error: 0.1331\n",
            "Epoch 39/40\n",
            "120/120 [==============================] - 0s 487us/step - loss: 0.3780 - mean_squared_error: 0.1331\n",
            "Epoch 40/40\n",
            "120/120 [==============================] - 0s 483us/step - loss: 0.3779 - mean_squared_error: 0.1331\n"
          ]
        },
        {
          "data": {
            "text/plain": [
              "<tensorflow.python.keras.callbacks.History at 0x1432ce22648>"
            ]
          },
          "execution_count": 94,
          "metadata": {},
          "output_type": "execute_result"
        }
      ]
    },
    {
      "cell_type": "code",
      "metadata": {
        "id": "CyuBgBlHJi24"
      },
      "source": [
        "age = np.array(list(range(18,96)))\n",
        "skip_zeros = np.zeros(age.shape[0])\n",
        "age_skip_0 = pd.DataFrame({'ageph':age,\n",
        "                           'skip':skip_zeros})\n",
        "age_skip_0['cann'] = cann.predict(x={'nn':tf.cast(age_skip_0['ageph'], dtype = tf.float32),\n",
        "                                     'skip':tf.cast(age_skip_0['skip'], dtype = tf.float32)})"
      ],
      "execution_count": null,
      "outputs": []
    },
    {
      "cell_type": "code",
      "metadata": {
        "colab": {
          "base_uri": "https://localhost:8080/",
          "height": 281
        },
        "id": "SJFCtMtAJi25",
        "outputId": "2907cf43-28f7-4644-e82f-7164f3b27e5f"
      },
      "source": [
        "plt.plot(age_skip_0.ageph, age_skip_0.cann, label = \"NN Adjustment\")\n",
        "plt.xlabel('age')\n",
        "plt.ylabel('effect')\n",
        "plt.legend()\n",
        "plt.show()"
      ],
      "execution_count": null,
      "outputs": [
        {
          "data": {
            "image/png": "[encoded data removed]",
            "text/plain": [
              "<Figure size 432x288 with 1 Axes>"
            ]
          },
          "metadata": {
            "needs_background": "light"
          },
          "output_type": "display_data"
        }
      ]
    },
    {
      "cell_type": "code",
      "metadata": {
        "colab": {
          "base_uri": "https://localhost:8080/",
          "height": 206
        },
        "id": "AaS0u2wbJi25",
        "outputId": "4ea72eb5-0e6b-4f93-f1ae-925b4b64f9a7"
      },
      "source": [
        "df = pd.DataFrame({'ageph':np.array(range(18,96)),\n",
        "                   'skip': np.log(glm_pred)})\n",
        "\n",
        "df['cann'] = cann.predict(x={'nn':tf.cast(df.ageph, dtype = tf.float32), \n",
        "                             'skip':tf.cast(df.skip, dtype = tf.float32)}); df.head()"
      ],
      "execution_count": null,
      "outputs": [
        {
          "data": {
            "text/html": [
              "<div>\n",
              "<style scoped>\n",
              "    .dataframe tbody tr th:only-of-type {\n",
              "        vertical-align: middle;\n",
              "    }\n",
              "\n",
              "    .dataframe tbody tr th {\n",
              "        vertical-align: top;\n",
              "    }\n",
              "\n",
              "    .dataframe thead th {\n",
              "        text-align: right;\n",
              "    }\n",
              "</style>\n",
              "<table border=\"1\" class=\"dataframe\">\n",
              "  <thead>\n",
              "    <tr style=\"text-align: right;\">\n",
              "      <th></th>\n",
              "      <th>ageph</th>\n",
              "      <th>skip</th>\n",
              "      <th>cann</th>\n",
              "    </tr>\n",
              "  </thead>\n",
              "  <tbody>\n",
              "    <tr>\n",
              "      <th>0</th>\n",
              "      <td>18</td>\n",
              "      <td>-1.28079</td>\n",
              "      <td>0.306700</td>\n",
              "    </tr>\n",
              "    <tr>\n",
              "      <th>1</th>\n",
              "      <td>19</td>\n",
              "      <td>-1.28079</td>\n",
              "      <td>0.304836</td>\n",
              "    </tr>\n",
              "    <tr>\n",
              "      <th>2</th>\n",
              "      <td>20</td>\n",
              "      <td>-1.28079</td>\n",
              "      <td>0.302983</td>\n",
              "    </tr>\n",
              "    <tr>\n",
              "      <th>3</th>\n",
              "      <td>21</td>\n",
              "      <td>-1.28079</td>\n",
              "      <td>0.301142</td>\n",
              "    </tr>\n",
              "    <tr>\n",
              "      <th>4</th>\n",
              "      <td>22</td>\n",
              "      <td>-1.28079</td>\n",
              "      <td>0.299311</td>\n",
              "    </tr>\n",
              "  </tbody>\n",
              "</table>\n",
              "</div>"
            ],
            "text/plain": [
              "   ageph     skip      cann\n",
              "0     18 -1.28079  0.306700\n",
              "1     19 -1.28079  0.304836\n",
              "2     20 -1.28079  0.302983\n",
              "3     21 -1.28079  0.301142\n",
              "4     22 -1.28079  0.299311"
            ]
          },
          "execution_count": 97,
          "metadata": {},
          "output_type": "execute_result"
        }
      ]
    },
    {
      "cell_type": "code",
      "metadata": {
        "colab": {
          "base_uri": "https://localhost:8080/",
          "height": 279
        },
        "id": "DKk1iYulJi25",
        "outputId": "5f284c4f-10db-4b8b-d924-683aa1cd17cc"
      },
      "source": [
        "# plotting\n",
        "plt.plot(age, np.exp(df.skip), label = \"GLM\") # note that we transform the data via np.exp\n",
        "plt.plot(age, df.cann, label = \"CANN\")\n",
        "plt.xlabel('age')\n",
        "plt.ylabel('fitted_effect')\n",
        "plt.legend()\n",
        "plt.show()"
      ],
      "execution_count": null,
      "outputs": [
        {
          "data": {
            "image/png": "[encoded data removed]",
            "text/plain": [
              "<Figure size 432x288 with 1 Axes>"
            ]
          },
          "metadata": {
            "needs_background": "light"
          },
          "output_type": "display_data"
        }
      ]
    },
    {
      "cell_type": "markdown",
      "metadata": {
        "id": "5SWEZ7HsZcc9"
      },
      "source": [
        "Evaluate our loss function (Poisson) on the test data set"
      ]
    },
    {
      "cell_type": "code",
      "metadata": {
        "id": "3ABlgML2TLBP",
        "outputId": "075199b6-2ef3-46c2-ce05-c901ecb891c5"
      },
      "source": [
        "cann.evaluate([ageph_test, np.log(glm_pred_on_test)], counts_test, verbose=0)"
      ],
      "execution_count": null,
      "outputs": [
        {
          "name": "stdout",
          "output_type": "stream",
          "text": [
            "40/40 [==============================] - 0s 400us/step - loss: 0.3816 - mean_squared_error: 0.1374\n"
          ]
        },
        {
          "data": {
            "text/plain": [
              "[0.3816250264644623, 0.1373864859342575]"
            ]
          },
          "execution_count": 99,
          "metadata": {},
          "output_type": "execute_result"
        }
      ]
    }
  ]
}