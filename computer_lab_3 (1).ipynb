{
  "nbformat": 4,
  "nbformat_minor": 0,
  "metadata": {
    "colab": {
      "name": "computer_lab_3.ipynb",
      "provenance": [],
      "collapsed_sections": [],
      "toc_visible": true
    },
    "kernelspec": {
      "name": "python3",
      "display_name": "Python 3"
    },
    "language_info": {
      "name": "python"
    }
  },
  "cells": [
    {
      "cell_type": "markdown",
      "metadata": {
        "id": "Q5NmxNrTZkAG"
      },
      "source": [
        "<center> <h1> <span style=\"color:black\"> IABE Data Science Certificate - Module 1 - Computer lab 3  </h1> </center> \n",
        "<center> <h2> <span style=\"color:red\"> Programming : refinements of GLMs + regularized regression models </h1> </center>"
      ]
    },
    {
      "cell_type": "markdown",
      "metadata": {
        "id": "M1YEjmm9lqJS"
      },
      "source": [
        "# Agenda\n",
        "* [Chapter 1 - Import of libraries and datasets](#one)\n",
        "    + [1.1 Libraries](#one-one)\n",
        "    + [1.2 Data sets](#one-two)\n",
        "* [Chapter 2 - Exploratory data analysis](#two)\n",
        "    + [2.1 Visualizing the distribution of the target variable](#two-one)\n",
        "    + [2.2 Visualizing the distribution of the features paying attention to \n",
        "    risk factors of different types](#two-two)\n",
        "    + [2.3 Visualizing the empirical distribution of the target as a function of one of the features: a marginal analysis](#two-three)\n",
        "* [Chapter 3 - More on fitting GLMs with {statsmodels} and {statsmodels.formula.api}](#three)\n",
        "    + [3.1 A frequency and a severity GLM with only a factor variable](#three-one)\n",
        "    + [3.2 A GLM with a continuous covariate](#three-two)\n",
        "    + [3.3 A GLM with a binned continuous covariate](#three-three)\n",
        "    + [3.4 A frequency GLM with multiple types of features](#three-four)\n",
        "* [Chapter 4 - Regularized (G)LMs with {statsmodels} and {scikit-learn}](#four)\n",
        "    + [4.1 A regularized Poisson model with {statsmodels}](#four-one)\n",
        "    + [4.2 A regularized linear regression model with {scikit-learn}](#four-two)\n",
        "    + [4.3 Avoiding data leakage with pipelines](#four-three)\n"
      ]
    },
    {
      "cell_type": "markdown",
      "metadata": {
        "id": "_jT6T4kbZ8Pl"
      },
      "source": [
        "# Chapter 1 - Import of libraries and datasets <a name=\"one\"></a>"
      ]
    },
    {
      "cell_type": "markdown",
      "metadata": {
        "id": "Kv13FN5ZauVW"
      },
      "source": [
        "## 1.1 Libraries <a name=\"one-one\"></a>"
      ]
    },
    {
      "cell_type": "code",
      "metadata": {
        "id": "DKXUBH1cF1mg"
      },
      "source": [
        "import random\n",
        "import numpy as np \n",
        "import pandas as pd \n",
        "import matplotlib.pyplot as plt\n",
        "import seaborn as sns\n",
        "import statsmodels.api as sm\n",
        "import statsmodels.formula.api as smf"
      ],
      "execution_count": 36,
      "outputs": []
    },
    {
      "cell_type": "markdown",
      "metadata": {
        "id": "LOTTZBufH5l3"
      },
      "source": [
        "## 1.2 Load the data sets <a name=\"one-two\"></a>"
      ]
    },
    {
      "cell_type": "markdown",
      "metadata": {
        "id": "TPMeyDoBmVUJ"
      },
      "source": [
        "### 1.2.1 MTPL data"
      ]
    },
    {
      "cell_type": "code",
      "metadata": {
        "id": "7C-5qltAeRCx"
      },
      "source": [
        "mtpl_orig = pd.read_csv(\"https://katrienantonio.github.io/hands-on-machine-learning-R-module-1/data/PC_data.txt\", delimiter = \"\\t\")"
      ],
      "execution_count": null,
      "outputs": []
    },
    {
      "cell_type": "code",
      "metadata": {
        "colab": {
          "base_uri": "https://localhost:8080/",
          "height": 204
        },
        "id": "pgcMmWwpIjY5",
        "outputId": "f06b8cab-9f74-4177-cd6b-8b66ddbe943e"
      },
      "source": [
        "mtpl_orig.head()"
      ],
      "execution_count": null,
      "outputs": [
        {
          "output_type": "execute_result",
          "data": {
            "text/html": [
              "<div>\n",
              "<style scoped>\n",
              "    .dataframe tbody tr th:only-of-type {\n",
              "        vertical-align: middle;\n",
              "    }\n",
              "\n",
              "    .dataframe tbody tr th {\n",
              "        vertical-align: top;\n",
              "    }\n",
              "\n",
              "    .dataframe thead th {\n",
              "        text-align: right;\n",
              "    }\n",
              "</style>\n",
              "<table border=\"1\" class=\"dataframe\">\n",
              "  <thead>\n",
              "    <tr style=\"text-align: right;\">\n",
              "      <th></th>\n",
              "      <th>ID</th>\n",
              "      <th>NCLAIMS</th>\n",
              "      <th>AMOUNT</th>\n",
              "      <th>AVG</th>\n",
              "      <th>EXP</th>\n",
              "      <th>COVERAGE</th>\n",
              "      <th>FUEL</th>\n",
              "      <th>USE</th>\n",
              "      <th>FLEET</th>\n",
              "      <th>SEX</th>\n",
              "      <th>AGEPH</th>\n",
              "      <th>BM</th>\n",
              "      <th>AGEC</th>\n",
              "      <th>POWER</th>\n",
              "      <th>PC</th>\n",
              "      <th>TOWN</th>\n",
              "      <th>LONG</th>\n",
              "      <th>LAT</th>\n",
              "    </tr>\n",
              "  </thead>\n",
              "  <tbody>\n",
              "    <tr>\n",
              "      <th>0</th>\n",
              "      <td>1</td>\n",
              "      <td>1</td>\n",
              "      <td>1618.001036</td>\n",
              "      <td>1618.001036</td>\n",
              "      <td>1.000000</td>\n",
              "      <td>TPL</td>\n",
              "      <td>gasoline</td>\n",
              "      <td>private</td>\n",
              "      <td>N</td>\n",
              "      <td>male</td>\n",
              "      <td>50</td>\n",
              "      <td>5</td>\n",
              "      <td>12</td>\n",
              "      <td>77</td>\n",
              "      <td>1000</td>\n",
              "      <td>BRUSSEL</td>\n",
              "      <td>4.355223</td>\n",
              "      <td>50.845386</td>\n",
              "    </tr>\n",
              "    <tr>\n",
              "      <th>1</th>\n",
              "      <td>2</td>\n",
              "      <td>0</td>\n",
              "      <td>0.000000</td>\n",
              "      <td>NaN</td>\n",
              "      <td>1.000000</td>\n",
              "      <td>PO</td>\n",
              "      <td>gasoline</td>\n",
              "      <td>private</td>\n",
              "      <td>N</td>\n",
              "      <td>female</td>\n",
              "      <td>64</td>\n",
              "      <td>5</td>\n",
              "      <td>3</td>\n",
              "      <td>66</td>\n",
              "      <td>1000</td>\n",
              "      <td>BRUSSEL</td>\n",
              "      <td>4.355223</td>\n",
              "      <td>50.845386</td>\n",
              "    </tr>\n",
              "    <tr>\n",
              "      <th>2</th>\n",
              "      <td>3</td>\n",
              "      <td>0</td>\n",
              "      <td>0.000000</td>\n",
              "      <td>NaN</td>\n",
              "      <td>1.000000</td>\n",
              "      <td>TPL</td>\n",
              "      <td>diesel</td>\n",
              "      <td>private</td>\n",
              "      <td>N</td>\n",
              "      <td>male</td>\n",
              "      <td>60</td>\n",
              "      <td>0</td>\n",
              "      <td>10</td>\n",
              "      <td>70</td>\n",
              "      <td>1000</td>\n",
              "      <td>BRUSSEL</td>\n",
              "      <td>4.355223</td>\n",
              "      <td>50.845386</td>\n",
              "    </tr>\n",
              "    <tr>\n",
              "      <th>3</th>\n",
              "      <td>4</td>\n",
              "      <td>0</td>\n",
              "      <td>0.000000</td>\n",
              "      <td>NaN</td>\n",
              "      <td>1.000000</td>\n",
              "      <td>TPL</td>\n",
              "      <td>gasoline</td>\n",
              "      <td>private</td>\n",
              "      <td>N</td>\n",
              "      <td>male</td>\n",
              "      <td>77</td>\n",
              "      <td>0</td>\n",
              "      <td>15</td>\n",
              "      <td>57</td>\n",
              "      <td>1000</td>\n",
              "      <td>BRUSSEL</td>\n",
              "      <td>4.355223</td>\n",
              "      <td>50.845386</td>\n",
              "    </tr>\n",
              "    <tr>\n",
              "      <th>4</th>\n",
              "      <td>5</td>\n",
              "      <td>1</td>\n",
              "      <td>155.974606</td>\n",
              "      <td>155.974606</td>\n",
              "      <td>0.046575</td>\n",
              "      <td>TPL</td>\n",
              "      <td>gasoline</td>\n",
              "      <td>private</td>\n",
              "      <td>N</td>\n",
              "      <td>female</td>\n",
              "      <td>28</td>\n",
              "      <td>9</td>\n",
              "      <td>7</td>\n",
              "      <td>70</td>\n",
              "      <td>1000</td>\n",
              "      <td>BRUSSEL</td>\n",
              "      <td>4.355223</td>\n",
              "      <td>50.845386</td>\n",
              "    </tr>\n",
              "  </tbody>\n",
              "</table>\n",
              "</div>"
            ],
            "text/plain": [
              "   ID  NCLAIMS       AMOUNT          AVG  ...    PC     TOWN      LONG        LAT\n",
              "0   1        1  1618.001036  1618.001036  ...  1000  BRUSSEL  4.355223  50.845386\n",
              "1   2        0     0.000000          NaN  ...  1000  BRUSSEL  4.355223  50.845386\n",
              "2   3        0     0.000000          NaN  ...  1000  BRUSSEL  4.355223  50.845386\n",
              "3   4        0     0.000000          NaN  ...  1000  BRUSSEL  4.355223  50.845386\n",
              "4   5        1   155.974606   155.974606  ...  1000  BRUSSEL  4.355223  50.845386\n",
              "\n",
              "[5 rows x 18 columns]"
            ]
          },
          "metadata": {},
          "execution_count": 87
        }
      ]
    },
    {
      "cell_type": "markdown",
      "metadata": {
        "id": "Sob2WzsuhN96"
      },
      "source": [
        "As before, after reading the original data set we start with some data preparation steps: change upper to lower case in the variable names and rename `EXP` to `expo` to refer to the exposure measure."
      ]
    },
    {
      "cell_type": "code",
      "metadata": {
        "colab": {
          "base_uri": "https://localhost:8080/",
          "height": 204
        },
        "id": "vxEWn4h0Izmo",
        "outputId": "f88593bb-e2dc-46f4-fe95-8310b0f1e8d4"
      },
      "source": [
        "mtpl = mtpl_orig\n",
        "mtpl.columns = mtpl_orig.columns.str.lower()\n",
        "mtpl = mtpl.rename(columns= {'exp': 'expo'})\n",
        "mtpl.head()"
      ],
      "execution_count": null,
      "outputs": [
        {
          "output_type": "execute_result",
          "data": {
            "text/html": [
              "<div>\n",
              "<style scoped>\n",
              "    .dataframe tbody tr th:only-of-type {\n",
              "        vertical-align: middle;\n",
              "    }\n",
              "\n",
              "    .dataframe tbody tr th {\n",
              "        vertical-align: top;\n",
              "    }\n",
              "\n",
              "    .dataframe thead th {\n",
              "        text-align: right;\n",
              "    }\n",
              "</style>\n",
              "<table border=\"1\" class=\"dataframe\">\n",
              "  <thead>\n",
              "    <tr style=\"text-align: right;\">\n",
              "      <th></th>\n",
              "      <th>id</th>\n",
              "      <th>nclaims</th>\n",
              "      <th>amount</th>\n",
              "      <th>avg</th>\n",
              "      <th>expo</th>\n",
              "      <th>coverage</th>\n",
              "      <th>fuel</th>\n",
              "      <th>use</th>\n",
              "      <th>fleet</th>\n",
              "      <th>sex</th>\n",
              "      <th>ageph</th>\n",
              "      <th>bm</th>\n",
              "      <th>agec</th>\n",
              "      <th>power</th>\n",
              "      <th>pc</th>\n",
              "      <th>town</th>\n",
              "      <th>long</th>\n",
              "      <th>lat</th>\n",
              "    </tr>\n",
              "  </thead>\n",
              "  <tbody>\n",
              "    <tr>\n",
              "      <th>0</th>\n",
              "      <td>1</td>\n",
              "      <td>1</td>\n",
              "      <td>1618.001036</td>\n",
              "      <td>1618.001036</td>\n",
              "      <td>1.000000</td>\n",
              "      <td>TPL</td>\n",
              "      <td>gasoline</td>\n",
              "      <td>private</td>\n",
              "      <td>N</td>\n",
              "      <td>male</td>\n",
              "      <td>50</td>\n",
              "      <td>5</td>\n",
              "      <td>12</td>\n",
              "      <td>77</td>\n",
              "      <td>1000</td>\n",
              "      <td>BRUSSEL</td>\n",
              "      <td>4.355223</td>\n",
              "      <td>50.845386</td>\n",
              "    </tr>\n",
              "    <tr>\n",
              "      <th>1</th>\n",
              "      <td>2</td>\n",
              "      <td>0</td>\n",
              "      <td>0.000000</td>\n",
              "      <td>NaN</td>\n",
              "      <td>1.000000</td>\n",
              "      <td>PO</td>\n",
              "      <td>gasoline</td>\n",
              "      <td>private</td>\n",
              "      <td>N</td>\n",
              "      <td>female</td>\n",
              "      <td>64</td>\n",
              "      <td>5</td>\n",
              "      <td>3</td>\n",
              "      <td>66</td>\n",
              "      <td>1000</td>\n",
              "      <td>BRUSSEL</td>\n",
              "      <td>4.355223</td>\n",
              "      <td>50.845386</td>\n",
              "    </tr>\n",
              "    <tr>\n",
              "      <th>2</th>\n",
              "      <td>3</td>\n",
              "      <td>0</td>\n",
              "      <td>0.000000</td>\n",
              "      <td>NaN</td>\n",
              "      <td>1.000000</td>\n",
              "      <td>TPL</td>\n",
              "      <td>diesel</td>\n",
              "      <td>private</td>\n",
              "      <td>N</td>\n",
              "      <td>male</td>\n",
              "      <td>60</td>\n",
              "      <td>0</td>\n",
              "      <td>10</td>\n",
              "      <td>70</td>\n",
              "      <td>1000</td>\n",
              "      <td>BRUSSEL</td>\n",
              "      <td>4.355223</td>\n",
              "      <td>50.845386</td>\n",
              "    </tr>\n",
              "    <tr>\n",
              "      <th>3</th>\n",
              "      <td>4</td>\n",
              "      <td>0</td>\n",
              "      <td>0.000000</td>\n",
              "      <td>NaN</td>\n",
              "      <td>1.000000</td>\n",
              "      <td>TPL</td>\n",
              "      <td>gasoline</td>\n",
              "      <td>private</td>\n",
              "      <td>N</td>\n",
              "      <td>male</td>\n",
              "      <td>77</td>\n",
              "      <td>0</td>\n",
              "      <td>15</td>\n",
              "      <td>57</td>\n",
              "      <td>1000</td>\n",
              "      <td>BRUSSEL</td>\n",
              "      <td>4.355223</td>\n",
              "      <td>50.845386</td>\n",
              "    </tr>\n",
              "    <tr>\n",
              "      <th>4</th>\n",
              "      <td>5</td>\n",
              "      <td>1</td>\n",
              "      <td>155.974606</td>\n",
              "      <td>155.974606</td>\n",
              "      <td>0.046575</td>\n",
              "      <td>TPL</td>\n",
              "      <td>gasoline</td>\n",
              "      <td>private</td>\n",
              "      <td>N</td>\n",
              "      <td>female</td>\n",
              "      <td>28</td>\n",
              "      <td>9</td>\n",
              "      <td>7</td>\n",
              "      <td>70</td>\n",
              "      <td>1000</td>\n",
              "      <td>BRUSSEL</td>\n",
              "      <td>4.355223</td>\n",
              "      <td>50.845386</td>\n",
              "    </tr>\n",
              "  </tbody>\n",
              "</table>\n",
              "</div>"
            ],
            "text/plain": [
              "   id  nclaims       amount          avg  ...    pc     town      long        lat\n",
              "0   1        1  1618.001036  1618.001036  ...  1000  BRUSSEL  4.355223  50.845386\n",
              "1   2        0     0.000000          NaN  ...  1000  BRUSSEL  4.355223  50.845386\n",
              "2   3        0     0.000000          NaN  ...  1000  BRUSSEL  4.355223  50.845386\n",
              "3   4        0     0.000000          NaN  ...  1000  BRUSSEL  4.355223  50.845386\n",
              "4   5        1   155.974606   155.974606  ...  1000  BRUSSEL  4.355223  50.845386\n",
              "\n",
              "[5 rows x 18 columns]"
            ]
          },
          "metadata": {},
          "execution_count": 88
        }
      ]
    },
    {
      "cell_type": "code",
      "metadata": {
        "colab": {
          "base_uri": "https://localhost:8080/"
        },
        "id": "suTtbSw6JAmO",
        "outputId": "f9adb4d7-e15d-44ff-a4b6-65bbe68c7cff"
      },
      "source": [
        "mtpl.shape"
      ],
      "execution_count": null,
      "outputs": [
        {
          "output_type": "execute_result",
          "data": {
            "text/plain": [
              "(163231, 18)"
            ]
          },
          "metadata": {},
          "execution_count": 89
        }
      ]
    },
    {
      "cell_type": "markdown",
      "metadata": {
        "id": "cGnNfiIWmkYx"
      },
      "source": [
        "### 1.2.1 Ames housing data"
      ]
    },
    {
      "cell_type": "markdown",
      "metadata": {
        "id": "ufOTuLcgz5P-"
      },
      "source": [
        "Later on in today's computer lab we demonstrate regularized linear regression on the Ames housing data set. "
      ]
    },
    {
      "cell_type": "code",
      "metadata": {
        "id": "yrJjhOsfzUjX"
      },
      "source": [
        "ames_orig = pd.read_csv(\"https://katrienantonio.github.io/hands-on-machine-learning-R-module-1/data/ames_python.csv\")"
      ],
      "execution_count": 37,
      "outputs": []
    },
    {
      "cell_type": "code",
      "metadata": {
        "colab": {
          "base_uri": "https://localhost:8080/"
        },
        "id": "JNu1_yvNziYF",
        "outputId": "be9615ca-0c4a-47a9-c843-00f99cb8db6a"
      },
      "source": [
        "ames_orig.shape"
      ],
      "execution_count": 38,
      "outputs": [
        {
          "output_type": "execute_result",
          "data": {
            "text/plain": [
              "(2930, 82)"
            ]
          },
          "metadata": {},
          "execution_count": 38
        }
      ]
    },
    {
      "cell_type": "code",
      "metadata": {
        "colab": {
          "base_uri": "https://localhost:8080/",
          "height": 454
        },
        "id": "_kI599fBzlrq",
        "outputId": "273d2d53-f7c7-403e-f7b0-7c7f63538782"
      },
      "source": [
        "ames_orig"
      ],
      "execution_count": 39,
      "outputs": [
        {
          "output_type": "execute_result",
          "data": {
            "text/html": [
              "<div>\n",
              "<style scoped>\n",
              "    .dataframe tbody tr th:only-of-type {\n",
              "        vertical-align: middle;\n",
              "    }\n",
              "\n",
              "    .dataframe tbody tr th {\n",
              "        vertical-align: top;\n",
              "    }\n",
              "\n",
              "    .dataframe thead th {\n",
              "        text-align: right;\n",
              "    }\n",
              "</style>\n",
              "<table border=\"1\" class=\"dataframe\">\n",
              "  <thead>\n",
              "    <tr style=\"text-align: right;\">\n",
              "      <th></th>\n",
              "      <th>Unnamed: 0</th>\n",
              "      <th>MS_SubClass</th>\n",
              "      <th>MS_Zoning</th>\n",
              "      <th>Lot_Frontage</th>\n",
              "      <th>Lot_Area</th>\n",
              "      <th>Street</th>\n",
              "      <th>Alley</th>\n",
              "      <th>Lot_Shape</th>\n",
              "      <th>Land_Contour</th>\n",
              "      <th>Utilities</th>\n",
              "      <th>Lot_Config</th>\n",
              "      <th>Land_Slope</th>\n",
              "      <th>Neighborhood</th>\n",
              "      <th>Condition_1</th>\n",
              "      <th>Condition_2</th>\n",
              "      <th>Bldg_Type</th>\n",
              "      <th>House_Style</th>\n",
              "      <th>Overall_Qual</th>\n",
              "      <th>Overall_Cond</th>\n",
              "      <th>Year_Built</th>\n",
              "      <th>Year_Remod_Add</th>\n",
              "      <th>Roof_Style</th>\n",
              "      <th>Roof_Matl</th>\n",
              "      <th>Exterior_1st</th>\n",
              "      <th>Exterior_2nd</th>\n",
              "      <th>Mas_Vnr_Type</th>\n",
              "      <th>Mas_Vnr_Area</th>\n",
              "      <th>Exter_Qual</th>\n",
              "      <th>Exter_Cond</th>\n",
              "      <th>Foundation</th>\n",
              "      <th>Bsmt_Qual</th>\n",
              "      <th>Bsmt_Cond</th>\n",
              "      <th>Bsmt_Exposure</th>\n",
              "      <th>BsmtFin_Type_1</th>\n",
              "      <th>BsmtFin_SF_1</th>\n",
              "      <th>BsmtFin_Type_2</th>\n",
              "      <th>BsmtFin_SF_2</th>\n",
              "      <th>Bsmt_Unf_SF</th>\n",
              "      <th>Total_Bsmt_SF</th>\n",
              "      <th>Heating</th>\n",
              "      <th>...</th>\n",
              "      <th>Electrical</th>\n",
              "      <th>First_Flr_SF</th>\n",
              "      <th>Second_Flr_SF</th>\n",
              "      <th>Low_Qual_Fin_SF</th>\n",
              "      <th>Gr_Liv_Area</th>\n",
              "      <th>Bsmt_Full_Bath</th>\n",
              "      <th>Bsmt_Half_Bath</th>\n",
              "      <th>Full_Bath</th>\n",
              "      <th>Half_Bath</th>\n",
              "      <th>Bedroom_AbvGr</th>\n",
              "      <th>Kitchen_AbvGr</th>\n",
              "      <th>Kitchen_Qual</th>\n",
              "      <th>TotRms_AbvGrd</th>\n",
              "      <th>Functional</th>\n",
              "      <th>Fireplaces</th>\n",
              "      <th>Fireplace_Qu</th>\n",
              "      <th>Garage_Type</th>\n",
              "      <th>Garage_Finish</th>\n",
              "      <th>Garage_Cars</th>\n",
              "      <th>Garage_Area</th>\n",
              "      <th>Garage_Qual</th>\n",
              "      <th>Garage_Cond</th>\n",
              "      <th>Paved_Drive</th>\n",
              "      <th>Wood_Deck_SF</th>\n",
              "      <th>Open_Porch_SF</th>\n",
              "      <th>Enclosed_Porch</th>\n",
              "      <th>Three_season_porch</th>\n",
              "      <th>Screen_Porch</th>\n",
              "      <th>Pool_Area</th>\n",
              "      <th>Pool_QC</th>\n",
              "      <th>Fence</th>\n",
              "      <th>Misc_Feature</th>\n",
              "      <th>Misc_Val</th>\n",
              "      <th>Mo_Sold</th>\n",
              "      <th>Year_Sold</th>\n",
              "      <th>Sale_Type</th>\n",
              "      <th>Sale_Condition</th>\n",
              "      <th>Sale_Price</th>\n",
              "      <th>Longitude</th>\n",
              "      <th>Latitude</th>\n",
              "    </tr>\n",
              "  </thead>\n",
              "  <tbody>\n",
              "    <tr>\n",
              "      <th>0</th>\n",
              "      <td>1</td>\n",
              "      <td>One_Story_1946_and_Newer_All_Styles</td>\n",
              "      <td>Residential_Low_Density</td>\n",
              "      <td>141</td>\n",
              "      <td>31770</td>\n",
              "      <td>Pave</td>\n",
              "      <td>No_Alley_Access</td>\n",
              "      <td>Slightly_Irregular</td>\n",
              "      <td>Lvl</td>\n",
              "      <td>AllPub</td>\n",
              "      <td>Corner</td>\n",
              "      <td>Gtl</td>\n",
              "      <td>North_Ames</td>\n",
              "      <td>Norm</td>\n",
              "      <td>Norm</td>\n",
              "      <td>OneFam</td>\n",
              "      <td>One_Story</td>\n",
              "      <td>Above_Average</td>\n",
              "      <td>Average</td>\n",
              "      <td>1960</td>\n",
              "      <td>1960</td>\n",
              "      <td>Hip</td>\n",
              "      <td>CompShg</td>\n",
              "      <td>BrkFace</td>\n",
              "      <td>Plywood</td>\n",
              "      <td>Stone</td>\n",
              "      <td>112</td>\n",
              "      <td>Typical</td>\n",
              "      <td>Typical</td>\n",
              "      <td>CBlock</td>\n",
              "      <td>Typical</td>\n",
              "      <td>Good</td>\n",
              "      <td>Gd</td>\n",
              "      <td>BLQ</td>\n",
              "      <td>2</td>\n",
              "      <td>Unf</td>\n",
              "      <td>0</td>\n",
              "      <td>441</td>\n",
              "      <td>1080</td>\n",
              "      <td>GasA</td>\n",
              "      <td>...</td>\n",
              "      <td>SBrkr</td>\n",
              "      <td>1656</td>\n",
              "      <td>0</td>\n",
              "      <td>0</td>\n",
              "      <td>1656</td>\n",
              "      <td>1</td>\n",
              "      <td>0</td>\n",
              "      <td>1</td>\n",
              "      <td>0</td>\n",
              "      <td>3</td>\n",
              "      <td>1</td>\n",
              "      <td>Typical</td>\n",
              "      <td>7</td>\n",
              "      <td>Typ</td>\n",
              "      <td>2</td>\n",
              "      <td>Good</td>\n",
              "      <td>Attchd</td>\n",
              "      <td>Fin</td>\n",
              "      <td>2</td>\n",
              "      <td>528</td>\n",
              "      <td>Typical</td>\n",
              "      <td>Typical</td>\n",
              "      <td>Partial_Pavement</td>\n",
              "      <td>210</td>\n",
              "      <td>62</td>\n",
              "      <td>0</td>\n",
              "      <td>0</td>\n",
              "      <td>0</td>\n",
              "      <td>0</td>\n",
              "      <td>No_Pool</td>\n",
              "      <td>No_Fence</td>\n",
              "      <td>None</td>\n",
              "      <td>0</td>\n",
              "      <td>5</td>\n",
              "      <td>2010</td>\n",
              "      <td>WD</td>\n",
              "      <td>Normal</td>\n",
              "      <td>215000</td>\n",
              "      <td>-93.619754</td>\n",
              "      <td>42.054035</td>\n",
              "    </tr>\n",
              "    <tr>\n",
              "      <th>1</th>\n",
              "      <td>2</td>\n",
              "      <td>One_Story_1946_and_Newer_All_Styles</td>\n",
              "      <td>Residential_High_Density</td>\n",
              "      <td>80</td>\n",
              "      <td>11622</td>\n",
              "      <td>Pave</td>\n",
              "      <td>No_Alley_Access</td>\n",
              "      <td>Regular</td>\n",
              "      <td>Lvl</td>\n",
              "      <td>AllPub</td>\n",
              "      <td>Inside</td>\n",
              "      <td>Gtl</td>\n",
              "      <td>North_Ames</td>\n",
              "      <td>Feedr</td>\n",
              "      <td>Norm</td>\n",
              "      <td>OneFam</td>\n",
              "      <td>One_Story</td>\n",
              "      <td>Average</td>\n",
              "      <td>Above_Average</td>\n",
              "      <td>1961</td>\n",
              "      <td>1961</td>\n",
              "      <td>Gable</td>\n",
              "      <td>CompShg</td>\n",
              "      <td>VinylSd</td>\n",
              "      <td>VinylSd</td>\n",
              "      <td>None</td>\n",
              "      <td>0</td>\n",
              "      <td>Typical</td>\n",
              "      <td>Typical</td>\n",
              "      <td>CBlock</td>\n",
              "      <td>Typical</td>\n",
              "      <td>Typical</td>\n",
              "      <td>No</td>\n",
              "      <td>Rec</td>\n",
              "      <td>6</td>\n",
              "      <td>LwQ</td>\n",
              "      <td>144</td>\n",
              "      <td>270</td>\n",
              "      <td>882</td>\n",
              "      <td>GasA</td>\n",
              "      <td>...</td>\n",
              "      <td>SBrkr</td>\n",
              "      <td>896</td>\n",
              "      <td>0</td>\n",
              "      <td>0</td>\n",
              "      <td>896</td>\n",
              "      <td>0</td>\n",
              "      <td>0</td>\n",
              "      <td>1</td>\n",
              "      <td>0</td>\n",
              "      <td>2</td>\n",
              "      <td>1</td>\n",
              "      <td>Typical</td>\n",
              "      <td>5</td>\n",
              "      <td>Typ</td>\n",
              "      <td>0</td>\n",
              "      <td>No_Fireplace</td>\n",
              "      <td>Attchd</td>\n",
              "      <td>Unf</td>\n",
              "      <td>1</td>\n",
              "      <td>730</td>\n",
              "      <td>Typical</td>\n",
              "      <td>Typical</td>\n",
              "      <td>Paved</td>\n",
              "      <td>140</td>\n",
              "      <td>0</td>\n",
              "      <td>0</td>\n",
              "      <td>0</td>\n",
              "      <td>120</td>\n",
              "      <td>0</td>\n",
              "      <td>No_Pool</td>\n",
              "      <td>Minimum_Privacy</td>\n",
              "      <td>None</td>\n",
              "      <td>0</td>\n",
              "      <td>6</td>\n",
              "      <td>2010</td>\n",
              "      <td>WD</td>\n",
              "      <td>Normal</td>\n",
              "      <td>105000</td>\n",
              "      <td>-93.619756</td>\n",
              "      <td>42.053014</td>\n",
              "    </tr>\n",
              "    <tr>\n",
              "      <th>2</th>\n",
              "      <td>3</td>\n",
              "      <td>One_Story_1946_and_Newer_All_Styles</td>\n",
              "      <td>Residential_Low_Density</td>\n",
              "      <td>81</td>\n",
              "      <td>14267</td>\n",
              "      <td>Pave</td>\n",
              "      <td>No_Alley_Access</td>\n",
              "      <td>Slightly_Irregular</td>\n",
              "      <td>Lvl</td>\n",
              "      <td>AllPub</td>\n",
              "      <td>Corner</td>\n",
              "      <td>Gtl</td>\n",
              "      <td>North_Ames</td>\n",
              "      <td>Norm</td>\n",
              "      <td>Norm</td>\n",
              "      <td>OneFam</td>\n",
              "      <td>One_Story</td>\n",
              "      <td>Above_Average</td>\n",
              "      <td>Above_Average</td>\n",
              "      <td>1958</td>\n",
              "      <td>1958</td>\n",
              "      <td>Hip</td>\n",
              "      <td>CompShg</td>\n",
              "      <td>Wd Sdng</td>\n",
              "      <td>Wd Sdng</td>\n",
              "      <td>BrkFace</td>\n",
              "      <td>108</td>\n",
              "      <td>Typical</td>\n",
              "      <td>Typical</td>\n",
              "      <td>CBlock</td>\n",
              "      <td>Typical</td>\n",
              "      <td>Typical</td>\n",
              "      <td>No</td>\n",
              "      <td>ALQ</td>\n",
              "      <td>1</td>\n",
              "      <td>Unf</td>\n",
              "      <td>0</td>\n",
              "      <td>406</td>\n",
              "      <td>1329</td>\n",
              "      <td>GasA</td>\n",
              "      <td>...</td>\n",
              "      <td>SBrkr</td>\n",
              "      <td>1329</td>\n",
              "      <td>0</td>\n",
              "      <td>0</td>\n",
              "      <td>1329</td>\n",
              "      <td>0</td>\n",
              "      <td>0</td>\n",
              "      <td>1</td>\n",
              "      <td>1</td>\n",
              "      <td>3</td>\n",
              "      <td>1</td>\n",
              "      <td>Good</td>\n",
              "      <td>6</td>\n",
              "      <td>Typ</td>\n",
              "      <td>0</td>\n",
              "      <td>No_Fireplace</td>\n",
              "      <td>Attchd</td>\n",
              "      <td>Unf</td>\n",
              "      <td>1</td>\n",
              "      <td>312</td>\n",
              "      <td>Typical</td>\n",
              "      <td>Typical</td>\n",
              "      <td>Paved</td>\n",
              "      <td>393</td>\n",
              "      <td>36</td>\n",
              "      <td>0</td>\n",
              "      <td>0</td>\n",
              "      <td>0</td>\n",
              "      <td>0</td>\n",
              "      <td>No_Pool</td>\n",
              "      <td>No_Fence</td>\n",
              "      <td>Gar2</td>\n",
              "      <td>12500</td>\n",
              "      <td>6</td>\n",
              "      <td>2010</td>\n",
              "      <td>WD</td>\n",
              "      <td>Normal</td>\n",
              "      <td>172000</td>\n",
              "      <td>-93.619387</td>\n",
              "      <td>42.052659</td>\n",
              "    </tr>\n",
              "    <tr>\n",
              "      <th>3</th>\n",
              "      <td>4</td>\n",
              "      <td>One_Story_1946_and_Newer_All_Styles</td>\n",
              "      <td>Residential_Low_Density</td>\n",
              "      <td>93</td>\n",
              "      <td>11160</td>\n",
              "      <td>Pave</td>\n",
              "      <td>No_Alley_Access</td>\n",
              "      <td>Regular</td>\n",
              "      <td>Lvl</td>\n",
              "      <td>AllPub</td>\n",
              "      <td>Corner</td>\n",
              "      <td>Gtl</td>\n",
              "      <td>North_Ames</td>\n",
              "      <td>Norm</td>\n",
              "      <td>Norm</td>\n",
              "      <td>OneFam</td>\n",
              "      <td>One_Story</td>\n",
              "      <td>Good</td>\n",
              "      <td>Average</td>\n",
              "      <td>1968</td>\n",
              "      <td>1968</td>\n",
              "      <td>Hip</td>\n",
              "      <td>CompShg</td>\n",
              "      <td>BrkFace</td>\n",
              "      <td>BrkFace</td>\n",
              "      <td>None</td>\n",
              "      <td>0</td>\n",
              "      <td>Good</td>\n",
              "      <td>Typical</td>\n",
              "      <td>CBlock</td>\n",
              "      <td>Typical</td>\n",
              "      <td>Typical</td>\n",
              "      <td>No</td>\n",
              "      <td>ALQ</td>\n",
              "      <td>1</td>\n",
              "      <td>Unf</td>\n",
              "      <td>0</td>\n",
              "      <td>1045</td>\n",
              "      <td>2110</td>\n",
              "      <td>GasA</td>\n",
              "      <td>...</td>\n",
              "      <td>SBrkr</td>\n",
              "      <td>2110</td>\n",
              "      <td>0</td>\n",
              "      <td>0</td>\n",
              "      <td>2110</td>\n",
              "      <td>1</td>\n",
              "      <td>0</td>\n",
              "      <td>2</td>\n",
              "      <td>1</td>\n",
              "      <td>3</td>\n",
              "      <td>1</td>\n",
              "      <td>Excellent</td>\n",
              "      <td>8</td>\n",
              "      <td>Typ</td>\n",
              "      <td>2</td>\n",
              "      <td>Typical</td>\n",
              "      <td>Attchd</td>\n",
              "      <td>Fin</td>\n",
              "      <td>2</td>\n",
              "      <td>522</td>\n",
              "      <td>Typical</td>\n",
              "      <td>Typical</td>\n",
              "      <td>Paved</td>\n",
              "      <td>0</td>\n",
              "      <td>0</td>\n",
              "      <td>0</td>\n",
              "      <td>0</td>\n",
              "      <td>0</td>\n",
              "      <td>0</td>\n",
              "      <td>No_Pool</td>\n",
              "      <td>No_Fence</td>\n",
              "      <td>None</td>\n",
              "      <td>0</td>\n",
              "      <td>4</td>\n",
              "      <td>2010</td>\n",
              "      <td>WD</td>\n",
              "      <td>Normal</td>\n",
              "      <td>244000</td>\n",
              "      <td>-93.617320</td>\n",
              "      <td>42.051245</td>\n",
              "    </tr>\n",
              "    <tr>\n",
              "      <th>4</th>\n",
              "      <td>5</td>\n",
              "      <td>Two_Story_1946_and_Newer</td>\n",
              "      <td>Residential_Low_Density</td>\n",
              "      <td>74</td>\n",
              "      <td>13830</td>\n",
              "      <td>Pave</td>\n",
              "      <td>No_Alley_Access</td>\n",
              "      <td>Slightly_Irregular</td>\n",
              "      <td>Lvl</td>\n",
              "      <td>AllPub</td>\n",
              "      <td>Inside</td>\n",
              "      <td>Gtl</td>\n",
              "      <td>Gilbert</td>\n",
              "      <td>Norm</td>\n",
              "      <td>Norm</td>\n",
              "      <td>OneFam</td>\n",
              "      <td>Two_Story</td>\n",
              "      <td>Average</td>\n",
              "      <td>Average</td>\n",
              "      <td>1997</td>\n",
              "      <td>1998</td>\n",
              "      <td>Gable</td>\n",
              "      <td>CompShg</td>\n",
              "      <td>VinylSd</td>\n",
              "      <td>VinylSd</td>\n",
              "      <td>None</td>\n",
              "      <td>0</td>\n",
              "      <td>Typical</td>\n",
              "      <td>Typical</td>\n",
              "      <td>PConc</td>\n",
              "      <td>Good</td>\n",
              "      <td>Typical</td>\n",
              "      <td>No</td>\n",
              "      <td>GLQ</td>\n",
              "      <td>3</td>\n",
              "      <td>Unf</td>\n",
              "      <td>0</td>\n",
              "      <td>137</td>\n",
              "      <td>928</td>\n",
              "      <td>GasA</td>\n",
              "      <td>...</td>\n",
              "      <td>SBrkr</td>\n",
              "      <td>928</td>\n",
              "      <td>701</td>\n",
              "      <td>0</td>\n",
              "      <td>1629</td>\n",
              "      <td>0</td>\n",
              "      <td>0</td>\n",
              "      <td>2</td>\n",
              "      <td>1</td>\n",
              "      <td>3</td>\n",
              "      <td>1</td>\n",
              "      <td>Typical</td>\n",
              "      <td>6</td>\n",
              "      <td>Typ</td>\n",
              "      <td>1</td>\n",
              "      <td>Typical</td>\n",
              "      <td>Attchd</td>\n",
              "      <td>Fin</td>\n",
              "      <td>2</td>\n",
              "      <td>482</td>\n",
              "      <td>Typical</td>\n",
              "      <td>Typical</td>\n",
              "      <td>Paved</td>\n",
              "      <td>212</td>\n",
              "      <td>34</td>\n",
              "      <td>0</td>\n",
              "      <td>0</td>\n",
              "      <td>0</td>\n",
              "      <td>0</td>\n",
              "      <td>No_Pool</td>\n",
              "      <td>Minimum_Privacy</td>\n",
              "      <td>None</td>\n",
              "      <td>0</td>\n",
              "      <td>3</td>\n",
              "      <td>2010</td>\n",
              "      <td>WD</td>\n",
              "      <td>Normal</td>\n",
              "      <td>189900</td>\n",
              "      <td>-93.638933</td>\n",
              "      <td>42.060899</td>\n",
              "    </tr>\n",
              "    <tr>\n",
              "      <th>...</th>\n",
              "      <td>...</td>\n",
              "      <td>...</td>\n",
              "      <td>...</td>\n",
              "      <td>...</td>\n",
              "      <td>...</td>\n",
              "      <td>...</td>\n",
              "      <td>...</td>\n",
              "      <td>...</td>\n",
              "      <td>...</td>\n",
              "      <td>...</td>\n",
              "      <td>...</td>\n",
              "      <td>...</td>\n",
              "      <td>...</td>\n",
              "      <td>...</td>\n",
              "      <td>...</td>\n",
              "      <td>...</td>\n",
              "      <td>...</td>\n",
              "      <td>...</td>\n",
              "      <td>...</td>\n",
              "      <td>...</td>\n",
              "      <td>...</td>\n",
              "      <td>...</td>\n",
              "      <td>...</td>\n",
              "      <td>...</td>\n",
              "      <td>...</td>\n",
              "      <td>...</td>\n",
              "      <td>...</td>\n",
              "      <td>...</td>\n",
              "      <td>...</td>\n",
              "      <td>...</td>\n",
              "      <td>...</td>\n",
              "      <td>...</td>\n",
              "      <td>...</td>\n",
              "      <td>...</td>\n",
              "      <td>...</td>\n",
              "      <td>...</td>\n",
              "      <td>...</td>\n",
              "      <td>...</td>\n",
              "      <td>...</td>\n",
              "      <td>...</td>\n",
              "      <td>...</td>\n",
              "      <td>...</td>\n",
              "      <td>...</td>\n",
              "      <td>...</td>\n",
              "      <td>...</td>\n",
              "      <td>...</td>\n",
              "      <td>...</td>\n",
              "      <td>...</td>\n",
              "      <td>...</td>\n",
              "      <td>...</td>\n",
              "      <td>...</td>\n",
              "      <td>...</td>\n",
              "      <td>...</td>\n",
              "      <td>...</td>\n",
              "      <td>...</td>\n",
              "      <td>...</td>\n",
              "      <td>...</td>\n",
              "      <td>...</td>\n",
              "      <td>...</td>\n",
              "      <td>...</td>\n",
              "      <td>...</td>\n",
              "      <td>...</td>\n",
              "      <td>...</td>\n",
              "      <td>...</td>\n",
              "      <td>...</td>\n",
              "      <td>...</td>\n",
              "      <td>...</td>\n",
              "      <td>...</td>\n",
              "      <td>...</td>\n",
              "      <td>...</td>\n",
              "      <td>...</td>\n",
              "      <td>...</td>\n",
              "      <td>...</td>\n",
              "      <td>...</td>\n",
              "      <td>...</td>\n",
              "      <td>...</td>\n",
              "      <td>...</td>\n",
              "      <td>...</td>\n",
              "      <td>...</td>\n",
              "      <td>...</td>\n",
              "      <td>...</td>\n",
              "    </tr>\n",
              "    <tr>\n",
              "      <th>2925</th>\n",
              "      <td>2926</td>\n",
              "      <td>Split_or_Multilevel</td>\n",
              "      <td>Residential_Low_Density</td>\n",
              "      <td>37</td>\n",
              "      <td>7937</td>\n",
              "      <td>Pave</td>\n",
              "      <td>No_Alley_Access</td>\n",
              "      <td>Slightly_Irregular</td>\n",
              "      <td>Lvl</td>\n",
              "      <td>AllPub</td>\n",
              "      <td>CulDSac</td>\n",
              "      <td>Gtl</td>\n",
              "      <td>Mitchell</td>\n",
              "      <td>Norm</td>\n",
              "      <td>Norm</td>\n",
              "      <td>OneFam</td>\n",
              "      <td>SLvl</td>\n",
              "      <td>Above_Average</td>\n",
              "      <td>Above_Average</td>\n",
              "      <td>1984</td>\n",
              "      <td>1984</td>\n",
              "      <td>Gable</td>\n",
              "      <td>CompShg</td>\n",
              "      <td>HdBoard</td>\n",
              "      <td>HdBoard</td>\n",
              "      <td>None</td>\n",
              "      <td>0</td>\n",
              "      <td>Typical</td>\n",
              "      <td>Typical</td>\n",
              "      <td>CBlock</td>\n",
              "      <td>Typical</td>\n",
              "      <td>Typical</td>\n",
              "      <td>Av</td>\n",
              "      <td>GLQ</td>\n",
              "      <td>3</td>\n",
              "      <td>Unf</td>\n",
              "      <td>0</td>\n",
              "      <td>184</td>\n",
              "      <td>1003</td>\n",
              "      <td>GasA</td>\n",
              "      <td>...</td>\n",
              "      <td>SBrkr</td>\n",
              "      <td>1003</td>\n",
              "      <td>0</td>\n",
              "      <td>0</td>\n",
              "      <td>1003</td>\n",
              "      <td>1</td>\n",
              "      <td>0</td>\n",
              "      <td>1</td>\n",
              "      <td>0</td>\n",
              "      <td>3</td>\n",
              "      <td>1</td>\n",
              "      <td>Typical</td>\n",
              "      <td>6</td>\n",
              "      <td>Typ</td>\n",
              "      <td>0</td>\n",
              "      <td>No_Fireplace</td>\n",
              "      <td>Detchd</td>\n",
              "      <td>Unf</td>\n",
              "      <td>2</td>\n",
              "      <td>588</td>\n",
              "      <td>Typical</td>\n",
              "      <td>Typical</td>\n",
              "      <td>Paved</td>\n",
              "      <td>120</td>\n",
              "      <td>0</td>\n",
              "      <td>0</td>\n",
              "      <td>0</td>\n",
              "      <td>0</td>\n",
              "      <td>0</td>\n",
              "      <td>No_Pool</td>\n",
              "      <td>Good_Privacy</td>\n",
              "      <td>None</td>\n",
              "      <td>0</td>\n",
              "      <td>3</td>\n",
              "      <td>2006</td>\n",
              "      <td>WD</td>\n",
              "      <td>Normal</td>\n",
              "      <td>142500</td>\n",
              "      <td>-93.604776</td>\n",
              "      <td>41.988964</td>\n",
              "    </tr>\n",
              "    <tr>\n",
              "      <th>2926</th>\n",
              "      <td>2927</td>\n",
              "      <td>One_Story_1946_and_Newer_All_Styles</td>\n",
              "      <td>Residential_Low_Density</td>\n",
              "      <td>0</td>\n",
              "      <td>8885</td>\n",
              "      <td>Pave</td>\n",
              "      <td>No_Alley_Access</td>\n",
              "      <td>Slightly_Irregular</td>\n",
              "      <td>Low</td>\n",
              "      <td>AllPub</td>\n",
              "      <td>Inside</td>\n",
              "      <td>Mod</td>\n",
              "      <td>Mitchell</td>\n",
              "      <td>Norm</td>\n",
              "      <td>Norm</td>\n",
              "      <td>OneFam</td>\n",
              "      <td>One_Story</td>\n",
              "      <td>Average</td>\n",
              "      <td>Average</td>\n",
              "      <td>1983</td>\n",
              "      <td>1983</td>\n",
              "      <td>Gable</td>\n",
              "      <td>CompShg</td>\n",
              "      <td>HdBoard</td>\n",
              "      <td>HdBoard</td>\n",
              "      <td>None</td>\n",
              "      <td>0</td>\n",
              "      <td>Typical</td>\n",
              "      <td>Typical</td>\n",
              "      <td>CBlock</td>\n",
              "      <td>Good</td>\n",
              "      <td>Typical</td>\n",
              "      <td>Av</td>\n",
              "      <td>BLQ</td>\n",
              "      <td>2</td>\n",
              "      <td>ALQ</td>\n",
              "      <td>324</td>\n",
              "      <td>239</td>\n",
              "      <td>864</td>\n",
              "      <td>GasA</td>\n",
              "      <td>...</td>\n",
              "      <td>SBrkr</td>\n",
              "      <td>902</td>\n",
              "      <td>0</td>\n",
              "      <td>0</td>\n",
              "      <td>902</td>\n",
              "      <td>1</td>\n",
              "      <td>0</td>\n",
              "      <td>1</td>\n",
              "      <td>0</td>\n",
              "      <td>2</td>\n",
              "      <td>1</td>\n",
              "      <td>Typical</td>\n",
              "      <td>5</td>\n",
              "      <td>Typ</td>\n",
              "      <td>0</td>\n",
              "      <td>No_Fireplace</td>\n",
              "      <td>Attchd</td>\n",
              "      <td>Unf</td>\n",
              "      <td>2</td>\n",
              "      <td>484</td>\n",
              "      <td>Typical</td>\n",
              "      <td>Typical</td>\n",
              "      <td>Paved</td>\n",
              "      <td>164</td>\n",
              "      <td>0</td>\n",
              "      <td>0</td>\n",
              "      <td>0</td>\n",
              "      <td>0</td>\n",
              "      <td>0</td>\n",
              "      <td>No_Pool</td>\n",
              "      <td>Minimum_Privacy</td>\n",
              "      <td>None</td>\n",
              "      <td>0</td>\n",
              "      <td>6</td>\n",
              "      <td>2006</td>\n",
              "      <td>WD</td>\n",
              "      <td>Normal</td>\n",
              "      <td>131000</td>\n",
              "      <td>-93.602680</td>\n",
              "      <td>41.988314</td>\n",
              "    </tr>\n",
              "    <tr>\n",
              "      <th>2927</th>\n",
              "      <td>2928</td>\n",
              "      <td>Split_Foyer</td>\n",
              "      <td>Residential_Low_Density</td>\n",
              "      <td>62</td>\n",
              "      <td>10441</td>\n",
              "      <td>Pave</td>\n",
              "      <td>No_Alley_Access</td>\n",
              "      <td>Regular</td>\n",
              "      <td>Lvl</td>\n",
              "      <td>AllPub</td>\n",
              "      <td>Inside</td>\n",
              "      <td>Gtl</td>\n",
              "      <td>Mitchell</td>\n",
              "      <td>Norm</td>\n",
              "      <td>Norm</td>\n",
              "      <td>OneFam</td>\n",
              "      <td>SFoyer</td>\n",
              "      <td>Average</td>\n",
              "      <td>Average</td>\n",
              "      <td>1992</td>\n",
              "      <td>1992</td>\n",
              "      <td>Gable</td>\n",
              "      <td>CompShg</td>\n",
              "      <td>HdBoard</td>\n",
              "      <td>Wd Shng</td>\n",
              "      <td>None</td>\n",
              "      <td>0</td>\n",
              "      <td>Typical</td>\n",
              "      <td>Typical</td>\n",
              "      <td>PConc</td>\n",
              "      <td>Good</td>\n",
              "      <td>Typical</td>\n",
              "      <td>Av</td>\n",
              "      <td>GLQ</td>\n",
              "      <td>3</td>\n",
              "      <td>Unf</td>\n",
              "      <td>0</td>\n",
              "      <td>575</td>\n",
              "      <td>912</td>\n",
              "      <td>GasA</td>\n",
              "      <td>...</td>\n",
              "      <td>SBrkr</td>\n",
              "      <td>970</td>\n",
              "      <td>0</td>\n",
              "      <td>0</td>\n",
              "      <td>970</td>\n",
              "      <td>0</td>\n",
              "      <td>1</td>\n",
              "      <td>1</td>\n",
              "      <td>0</td>\n",
              "      <td>3</td>\n",
              "      <td>1</td>\n",
              "      <td>Typical</td>\n",
              "      <td>6</td>\n",
              "      <td>Typ</td>\n",
              "      <td>0</td>\n",
              "      <td>No_Fireplace</td>\n",
              "      <td>No_Garage</td>\n",
              "      <td>No_Garage</td>\n",
              "      <td>0</td>\n",
              "      <td>0</td>\n",
              "      <td>No_Garage</td>\n",
              "      <td>No_Garage</td>\n",
              "      <td>Paved</td>\n",
              "      <td>80</td>\n",
              "      <td>32</td>\n",
              "      <td>0</td>\n",
              "      <td>0</td>\n",
              "      <td>0</td>\n",
              "      <td>0</td>\n",
              "      <td>No_Pool</td>\n",
              "      <td>Minimum_Privacy</td>\n",
              "      <td>Shed</td>\n",
              "      <td>700</td>\n",
              "      <td>7</td>\n",
              "      <td>2006</td>\n",
              "      <td>WD</td>\n",
              "      <td>Normal</td>\n",
              "      <td>132000</td>\n",
              "      <td>-93.606847</td>\n",
              "      <td>41.986510</td>\n",
              "    </tr>\n",
              "    <tr>\n",
              "      <th>2928</th>\n",
              "      <td>2929</td>\n",
              "      <td>One_Story_1946_and_Newer_All_Styles</td>\n",
              "      <td>Residential_Low_Density</td>\n",
              "      <td>77</td>\n",
              "      <td>10010</td>\n",
              "      <td>Pave</td>\n",
              "      <td>No_Alley_Access</td>\n",
              "      <td>Regular</td>\n",
              "      <td>Lvl</td>\n",
              "      <td>AllPub</td>\n",
              "      <td>Inside</td>\n",
              "      <td>Mod</td>\n",
              "      <td>Mitchell</td>\n",
              "      <td>Norm</td>\n",
              "      <td>Norm</td>\n",
              "      <td>OneFam</td>\n",
              "      <td>One_Story</td>\n",
              "      <td>Average</td>\n",
              "      <td>Average</td>\n",
              "      <td>1974</td>\n",
              "      <td>1975</td>\n",
              "      <td>Gable</td>\n",
              "      <td>CompShg</td>\n",
              "      <td>HdBoard</td>\n",
              "      <td>HdBoard</td>\n",
              "      <td>None</td>\n",
              "      <td>0</td>\n",
              "      <td>Typical</td>\n",
              "      <td>Typical</td>\n",
              "      <td>CBlock</td>\n",
              "      <td>Good</td>\n",
              "      <td>Typical</td>\n",
              "      <td>Av</td>\n",
              "      <td>ALQ</td>\n",
              "      <td>1</td>\n",
              "      <td>LwQ</td>\n",
              "      <td>123</td>\n",
              "      <td>195</td>\n",
              "      <td>1389</td>\n",
              "      <td>GasA</td>\n",
              "      <td>...</td>\n",
              "      <td>SBrkr</td>\n",
              "      <td>1389</td>\n",
              "      <td>0</td>\n",
              "      <td>0</td>\n",
              "      <td>1389</td>\n",
              "      <td>1</td>\n",
              "      <td>0</td>\n",
              "      <td>1</td>\n",
              "      <td>0</td>\n",
              "      <td>2</td>\n",
              "      <td>1</td>\n",
              "      <td>Typical</td>\n",
              "      <td>6</td>\n",
              "      <td>Typ</td>\n",
              "      <td>1</td>\n",
              "      <td>Typical</td>\n",
              "      <td>Attchd</td>\n",
              "      <td>RFn</td>\n",
              "      <td>2</td>\n",
              "      <td>418</td>\n",
              "      <td>Typical</td>\n",
              "      <td>Typical</td>\n",
              "      <td>Paved</td>\n",
              "      <td>240</td>\n",
              "      <td>38</td>\n",
              "      <td>0</td>\n",
              "      <td>0</td>\n",
              "      <td>0</td>\n",
              "      <td>0</td>\n",
              "      <td>No_Pool</td>\n",
              "      <td>No_Fence</td>\n",
              "      <td>None</td>\n",
              "      <td>0</td>\n",
              "      <td>4</td>\n",
              "      <td>2006</td>\n",
              "      <td>WD</td>\n",
              "      <td>Normal</td>\n",
              "      <td>170000</td>\n",
              "      <td>-93.600190</td>\n",
              "      <td>41.990921</td>\n",
              "    </tr>\n",
              "    <tr>\n",
              "      <th>2929</th>\n",
              "      <td>2930</td>\n",
              "      <td>Two_Story_1946_and_Newer</td>\n",
              "      <td>Residential_Low_Density</td>\n",
              "      <td>74</td>\n",
              "      <td>9627</td>\n",
              "      <td>Pave</td>\n",
              "      <td>No_Alley_Access</td>\n",
              "      <td>Regular</td>\n",
              "      <td>Lvl</td>\n",
              "      <td>AllPub</td>\n",
              "      <td>Inside</td>\n",
              "      <td>Mod</td>\n",
              "      <td>Mitchell</td>\n",
              "      <td>Norm</td>\n",
              "      <td>Norm</td>\n",
              "      <td>OneFam</td>\n",
              "      <td>Two_Story</td>\n",
              "      <td>Good</td>\n",
              "      <td>Average</td>\n",
              "      <td>1993</td>\n",
              "      <td>1994</td>\n",
              "      <td>Gable</td>\n",
              "      <td>CompShg</td>\n",
              "      <td>HdBoard</td>\n",
              "      <td>HdBoard</td>\n",
              "      <td>BrkFace</td>\n",
              "      <td>94</td>\n",
              "      <td>Typical</td>\n",
              "      <td>Typical</td>\n",
              "      <td>PConc</td>\n",
              "      <td>Good</td>\n",
              "      <td>Typical</td>\n",
              "      <td>Av</td>\n",
              "      <td>LwQ</td>\n",
              "      <td>4</td>\n",
              "      <td>Unf</td>\n",
              "      <td>0</td>\n",
              "      <td>238</td>\n",
              "      <td>996</td>\n",
              "      <td>GasA</td>\n",
              "      <td>...</td>\n",
              "      <td>SBrkr</td>\n",
              "      <td>996</td>\n",
              "      <td>1004</td>\n",
              "      <td>0</td>\n",
              "      <td>2000</td>\n",
              "      <td>0</td>\n",
              "      <td>0</td>\n",
              "      <td>2</td>\n",
              "      <td>1</td>\n",
              "      <td>3</td>\n",
              "      <td>1</td>\n",
              "      <td>Typical</td>\n",
              "      <td>9</td>\n",
              "      <td>Typ</td>\n",
              "      <td>1</td>\n",
              "      <td>Typical</td>\n",
              "      <td>Attchd</td>\n",
              "      <td>Fin</td>\n",
              "      <td>3</td>\n",
              "      <td>650</td>\n",
              "      <td>Typical</td>\n",
              "      <td>Typical</td>\n",
              "      <td>Paved</td>\n",
              "      <td>190</td>\n",
              "      <td>48</td>\n",
              "      <td>0</td>\n",
              "      <td>0</td>\n",
              "      <td>0</td>\n",
              "      <td>0</td>\n",
              "      <td>No_Pool</td>\n",
              "      <td>No_Fence</td>\n",
              "      <td>None</td>\n",
              "      <td>0</td>\n",
              "      <td>11</td>\n",
              "      <td>2006</td>\n",
              "      <td>WD</td>\n",
              "      <td>Normal</td>\n",
              "      <td>188000</td>\n",
              "      <td>-93.599996</td>\n",
              "      <td>41.989265</td>\n",
              "    </tr>\n",
              "  </tbody>\n",
              "</table>\n",
              "<p>2930 rows × 82 columns</p>\n",
              "</div>"
            ],
            "text/plain": [
              "      Unnamed: 0                          MS_SubClass  ...  Longitude   Latitude\n",
              "0              1  One_Story_1946_and_Newer_All_Styles  ... -93.619754  42.054035\n",
              "1              2  One_Story_1946_and_Newer_All_Styles  ... -93.619756  42.053014\n",
              "2              3  One_Story_1946_and_Newer_All_Styles  ... -93.619387  42.052659\n",
              "3              4  One_Story_1946_and_Newer_All_Styles  ... -93.617320  42.051245\n",
              "4              5             Two_Story_1946_and_Newer  ... -93.638933  42.060899\n",
              "...          ...                                  ...  ...        ...        ...\n",
              "2925        2926                  Split_or_Multilevel  ... -93.604776  41.988964\n",
              "2926        2927  One_Story_1946_and_Newer_All_Styles  ... -93.602680  41.988314\n",
              "2927        2928                          Split_Foyer  ... -93.606847  41.986510\n",
              "2928        2929  One_Story_1946_and_Newer_All_Styles  ... -93.600190  41.990921\n",
              "2929        2930             Two_Story_1946_and_Newer  ... -93.599996  41.989265\n",
              "\n",
              "[2930 rows x 82 columns]"
            ]
          },
          "metadata": {},
          "execution_count": 39
        }
      ]
    },
    {
      "cell_type": "code",
      "metadata": {
        "colab": {
          "base_uri": "https://localhost:8080/"
        },
        "id": "v5NIF6FWzzee",
        "outputId": "8658c35e-0804-4aba-e948-de2f6cc92b31"
      },
      "source": [
        "ames_orig.info()"
      ],
      "execution_count": 40,
      "outputs": [
        {
          "output_type": "stream",
          "name": "stdout",
          "text": [
            "<class 'pandas.core.frame.DataFrame'>\n",
            "RangeIndex: 2930 entries, 0 to 2929\n",
            "Data columns (total 82 columns):\n",
            " #   Column              Non-Null Count  Dtype  \n",
            "---  ------              --------------  -----  \n",
            " 0   Unnamed: 0          2930 non-null   int64  \n",
            " 1   MS_SubClass         2930 non-null   object \n",
            " 2   MS_Zoning           2930 non-null   object \n",
            " 3   Lot_Frontage        2930 non-null   int64  \n",
            " 4   Lot_Area            2930 non-null   int64  \n",
            " 5   Street              2930 non-null   object \n",
            " 6   Alley               2930 non-null   object \n",
            " 7   Lot_Shape           2930 non-null   object \n",
            " 8   Land_Contour        2930 non-null   object \n",
            " 9   Utilities           2930 non-null   object \n",
            " 10  Lot_Config          2930 non-null   object \n",
            " 11  Land_Slope          2930 non-null   object \n",
            " 12  Neighborhood        2930 non-null   object \n",
            " 13  Condition_1         2930 non-null   object \n",
            " 14  Condition_2         2930 non-null   object \n",
            " 15  Bldg_Type           2930 non-null   object \n",
            " 16  House_Style         2930 non-null   object \n",
            " 17  Overall_Qual        2930 non-null   object \n",
            " 18  Overall_Cond        2930 non-null   object \n",
            " 19  Year_Built          2930 non-null   int64  \n",
            " 20  Year_Remod_Add      2930 non-null   int64  \n",
            " 21  Roof_Style          2930 non-null   object \n",
            " 22  Roof_Matl           2930 non-null   object \n",
            " 23  Exterior_1st        2930 non-null   object \n",
            " 24  Exterior_2nd        2930 non-null   object \n",
            " 25  Mas_Vnr_Type        2930 non-null   object \n",
            " 26  Mas_Vnr_Area        2930 non-null   int64  \n",
            " 27  Exter_Qual          2930 non-null   object \n",
            " 28  Exter_Cond          2930 non-null   object \n",
            " 29  Foundation          2930 non-null   object \n",
            " 30  Bsmt_Qual           2930 non-null   object \n",
            " 31  Bsmt_Cond           2930 non-null   object \n",
            " 32  Bsmt_Exposure       2930 non-null   object \n",
            " 33  BsmtFin_Type_1      2930 non-null   object \n",
            " 34  BsmtFin_SF_1        2930 non-null   int64  \n",
            " 35  BsmtFin_Type_2      2930 non-null   object \n",
            " 36  BsmtFin_SF_2        2930 non-null   int64  \n",
            " 37  Bsmt_Unf_SF         2930 non-null   int64  \n",
            " 38  Total_Bsmt_SF       2930 non-null   int64  \n",
            " 39  Heating             2930 non-null   object \n",
            " 40  Heating_QC          2930 non-null   object \n",
            " 41  Central_Air         2930 non-null   object \n",
            " 42  Electrical          2930 non-null   object \n",
            " 43  First_Flr_SF        2930 non-null   int64  \n",
            " 44  Second_Flr_SF       2930 non-null   int64  \n",
            " 45  Low_Qual_Fin_SF     2930 non-null   int64  \n",
            " 46  Gr_Liv_Area         2930 non-null   int64  \n",
            " 47  Bsmt_Full_Bath      2930 non-null   int64  \n",
            " 48  Bsmt_Half_Bath      2930 non-null   int64  \n",
            " 49  Full_Bath           2930 non-null   int64  \n",
            " 50  Half_Bath           2930 non-null   int64  \n",
            " 51  Bedroom_AbvGr       2930 non-null   int64  \n",
            " 52  Kitchen_AbvGr       2930 non-null   int64  \n",
            " 53  Kitchen_Qual        2930 non-null   object \n",
            " 54  TotRms_AbvGrd       2930 non-null   int64  \n",
            " 55  Functional          2930 non-null   object \n",
            " 56  Fireplaces          2930 non-null   int64  \n",
            " 57  Fireplace_Qu        2930 non-null   object \n",
            " 58  Garage_Type         2930 non-null   object \n",
            " 59  Garage_Finish       2930 non-null   object \n",
            " 60  Garage_Cars         2930 non-null   int64  \n",
            " 61  Garage_Area         2930 non-null   int64  \n",
            " 62  Garage_Qual         2930 non-null   object \n",
            " 63  Garage_Cond         2930 non-null   object \n",
            " 64  Paved_Drive         2930 non-null   object \n",
            " 65  Wood_Deck_SF        2930 non-null   int64  \n",
            " 66  Open_Porch_SF       2930 non-null   int64  \n",
            " 67  Enclosed_Porch      2930 non-null   int64  \n",
            " 68  Three_season_porch  2930 non-null   int64  \n",
            " 69  Screen_Porch        2930 non-null   int64  \n",
            " 70  Pool_Area           2930 non-null   int64  \n",
            " 71  Pool_QC             2930 non-null   object \n",
            " 72  Fence               2930 non-null   object \n",
            " 73  Misc_Feature        2930 non-null   object \n",
            " 74  Misc_Val            2930 non-null   int64  \n",
            " 75  Mo_Sold             2930 non-null   int64  \n",
            " 76  Year_Sold           2930 non-null   int64  \n",
            " 77  Sale_Type           2930 non-null   object \n",
            " 78  Sale_Condition      2930 non-null   object \n",
            " 79  Sale_Price          2930 non-null   int64  \n",
            " 80  Longitude           2930 non-null   float64\n",
            " 81  Latitude            2930 non-null   float64\n",
            "dtypes: float64(2), int64(34), object(46)\n",
            "memory usage: 1.8+ MB\n"
          ]
        }
      ]
    },
    {
      "cell_type": "markdown",
      "metadata": {
        "id": "ZjEtOXqhJFni"
      },
      "source": [
        "# 2. Exploratory data analysis <a name=\"two\"></a>"
      ]
    },
    {
      "cell_type": "markdown",
      "metadata": {
        "id": "Ghm2Ijeahtkn"
      },
      "source": [
        "## 2.1 Some simple summary statistics <a name=\"two-one\"></a>"
      ]
    },
    {
      "cell_type": "markdown",
      "metadata": {
        "id": "Jv8rqQexnYOz"
      },
      "source": [
        "How would you calculate the empirical claim frequency per unit of exposure to risk? Like this ..."
      ]
    },
    {
      "cell_type": "code",
      "metadata": {
        "colab": {
          "base_uri": "https://localhost:8080/"
        },
        "id": "VrQ5HbBzJwg4",
        "outputId": "cb506988-da65-4af8-c983-24709e6f9605"
      },
      "source": [
        "mtpl[\"nclaims\"].mean()"
      ],
      "execution_count": null,
      "outputs": [
        {
          "output_type": "execute_result",
          "data": {
            "text/plain": [
              "0.12397154952184328"
            ]
          },
          "metadata": {},
          "execution_count": 178
        }
      ]
    },
    {
      "cell_type": "markdown",
      "metadata": {
        "id": "w6ZtJd7jj-1m"
      },
      "source": [
        "... or rather like this:"
      ]
    },
    {
      "cell_type": "code",
      "metadata": {
        "colab": {
          "base_uri": "https://localhost:8080/"
        },
        "id": "Vhn8pGPgJN4k",
        "outputId": "8376dd23-bc45-44b6-c457-c99b69a39227"
      },
      "source": [
        "mtpl.nclaims.sum()/mtpl.expo.sum()"
      ],
      "execution_count": null,
      "outputs": [
        {
          "output_type": "execute_result",
          "data": {
            "text/plain": [
              "0.1393352157253468"
            ]
          },
          "metadata": {},
          "execution_count": 179
        }
      ]
    },
    {
      "cell_type": "markdown",
      "metadata": {
        "id": "90PVqv9HnpF6"
      },
      "source": [
        "Let's inspect the empirical distribution of the number of claims reported"
      ]
    },
    {
      "cell_type": "code",
      "metadata": {
        "colab": {
          "base_uri": "https://localhost:8080/"
        },
        "id": "YslvYeByKRji",
        "outputId": "761ef642-c663-47aa-ff7e-f997eeb00949"
      },
      "source": [
        "mtpl[\"nclaims\"].value_counts()"
      ],
      "execution_count": null,
      "outputs": [
        {
          "output_type": "execute_result",
          "data": {
            "text/plain": [
              "0    144936\n",
              "1     16556\n",
              "2      1558\n",
              "3       162\n",
              "4        17\n",
              "5         2\n",
              "Name: nclaims, dtype: int64"
            ]
          },
          "metadata": {},
          "execution_count": 180
        }
      ]
    },
    {
      "cell_type": "markdown",
      "metadata": {
        "id": "0GQswbqgh2y6"
      },
      "source": [
        "## 2.2 Exploratory graphs <a name=\"two-two\"></a>"
      ]
    },
    {
      "cell_type": "markdown",
      "metadata": {
        "id": "iaKblsYItGG3"
      },
      "source": [
        "### 2.2.1 Visualizing the distribution of the target variable"
      ]
    },
    {
      "cell_type": "markdown",
      "metadata": {
        "id": "QKiViQxpoDLt"
      },
      "source": [
        "For `mtpl` we first construct a simple bar plot to picture the empirical distribution of the number of claims reported."
      ]
    },
    {
      "cell_type": "code",
      "metadata": {
        "colab": {
          "base_uri": "https://localhost:8080/",
          "height": 280
        },
        "id": "Ooyj4joUZvU4",
        "outputId": "95ec3375-1672-44b4-b935-8d79224900be"
      },
      "source": [
        "mtpl[\"nclaims\"].value_counts().plot(kind = \"bar\")"
      ],
      "execution_count": null,
      "outputs": [
        {
          "output_type": "execute_result",
          "data": {
            "text/plain": [
              "<matplotlib.axes._subplots.AxesSubplot at 0x7fac0389b990>"
            ]
          },
          "metadata": {},
          "execution_count": 181
        },
        {
          "output_type": "display_data",
          "data": {
            "image/png": "[encoded data removed]",
            "text/plain": [
              "<Figure size 432x288 with 1 Axes>"
            ]
          },
          "metadata": {
            "needs_background": "light"
          }
        }
      ]
    },
    {
      "cell_type": "markdown",
      "metadata": {
        "id": "yVz34Ox6tVTg"
      },
      "source": [
        "We now show how to customize our plots. Below we specify the KU Leuven blue-green-ish for further use in our graphs."
      ]
    },
    {
      "cell_type": "code",
      "metadata": {
        "id": "kF9hwrU-L9f5"
      },
      "source": [
        "KULbg =  \"#116E8A\""
      ],
      "execution_count": 8,
      "outputs": []
    },
    {
      "cell_type": "code",
      "metadata": {
        "colab": {
          "base_uri": "https://localhost:8080/",
          "height": 266
        },
        "id": "NJo35S82qGyU",
        "outputId": "de6658c8-58c8-4c13-a091-374ac05a1a8b"
      },
      "source": [
        "emp_freq = mtpl.groupby(\"nclaims\").agg(tot_obs = ('nclaims', 'count'), tot_expo = ('expo', 'sum'))\n",
        "emp_freq"
      ],
      "execution_count": null,
      "outputs": [
        {
          "output_type": "execute_result",
          "data": {
            "text/html": [
              "<div>\n",
              "<style scoped>\n",
              "    .dataframe tbody tr th:only-of-type {\n",
              "        vertical-align: middle;\n",
              "    }\n",
              "\n",
              "    .dataframe tbody tr th {\n",
              "        vertical-align: top;\n",
              "    }\n",
              "\n",
              "    .dataframe thead th {\n",
              "        text-align: right;\n",
              "    }\n",
              "</style>\n",
              "<table border=\"1\" class=\"dataframe\">\n",
              "  <thead>\n",
              "    <tr style=\"text-align: right;\">\n",
              "      <th></th>\n",
              "      <th>tot_obs</th>\n",
              "      <th>tot_expo</th>\n",
              "    </tr>\n",
              "    <tr>\n",
              "      <th>nclaims</th>\n",
              "      <th></th>\n",
              "      <th></th>\n",
              "    </tr>\n",
              "  </thead>\n",
              "  <tbody>\n",
              "    <tr>\n",
              "      <th>0</th>\n",
              "      <td>144936</td>\n",
              "      <td>128256.276712</td>\n",
              "    </tr>\n",
              "    <tr>\n",
              "      <th>1</th>\n",
              "      <td>16556</td>\n",
              "      <td>15366.750685</td>\n",
              "    </tr>\n",
              "    <tr>\n",
              "      <th>2</th>\n",
              "      <td>1558</td>\n",
              "      <td>1443.301370</td>\n",
              "    </tr>\n",
              "    <tr>\n",
              "      <th>3</th>\n",
              "      <td>162</td>\n",
              "      <td>150.454795</td>\n",
              "    </tr>\n",
              "    <tr>\n",
              "      <th>4</th>\n",
              "      <td>17</td>\n",
              "      <td>14.328767</td>\n",
              "    </tr>\n",
              "    <tr>\n",
              "      <th>5</th>\n",
              "      <td>2</td>\n",
              "      <td>1.375342</td>\n",
              "    </tr>\n",
              "  </tbody>\n",
              "</table>\n",
              "</div>"
            ],
            "text/plain": [
              "         tot_obs       tot_expo\n",
              "nclaims                        \n",
              "0         144936  128256.276712\n",
              "1          16556   15366.750685\n",
              "2           1558    1443.301370\n",
              "3            162     150.454795\n",
              "4             17      14.328767\n",
              "5              2       1.375342"
            ]
          },
          "metadata": {},
          "execution_count": 183
        }
      ]
    },
    {
      "cell_type": "markdown",
      "metadata": {
        "id": "KBSR4QMkBqu_"
      },
      "source": [
        "Mind the difference between the above structure of `emp_freq` and the one below:"
      ]
    },
    {
      "cell_type": "code",
      "metadata": {
        "colab": {
          "base_uri": "https://localhost:8080/",
          "height": 235
        },
        "id": "tKQW8TLZspbY",
        "outputId": "2f7e5219-7385-404c-ca15-42adb86a81ee"
      },
      "source": [
        "emp_freq.reset_index(inplace = True)\n",
        "emp_freq"
      ],
      "execution_count": null,
      "outputs": [
        {
          "output_type": "execute_result",
          "data": {
            "text/html": [
              "<div>\n",
              "<style scoped>\n",
              "    .dataframe tbody tr th:only-of-type {\n",
              "        vertical-align: middle;\n",
              "    }\n",
              "\n",
              "    .dataframe tbody tr th {\n",
              "        vertical-align: top;\n",
              "    }\n",
              "\n",
              "    .dataframe thead th {\n",
              "        text-align: right;\n",
              "    }\n",
              "</style>\n",
              "<table border=\"1\" class=\"dataframe\">\n",
              "  <thead>\n",
              "    <tr style=\"text-align: right;\">\n",
              "      <th></th>\n",
              "      <th>index</th>\n",
              "      <th>nclaims</th>\n",
              "      <th>tot_obs</th>\n",
              "      <th>tot_expo</th>\n",
              "    </tr>\n",
              "  </thead>\n",
              "  <tbody>\n",
              "    <tr>\n",
              "      <th>0</th>\n",
              "      <td>0</td>\n",
              "      <td>0</td>\n",
              "      <td>144936</td>\n",
              "      <td>128256.276712</td>\n",
              "    </tr>\n",
              "    <tr>\n",
              "      <th>1</th>\n",
              "      <td>1</td>\n",
              "      <td>1</td>\n",
              "      <td>16556</td>\n",
              "      <td>15366.750685</td>\n",
              "    </tr>\n",
              "    <tr>\n",
              "      <th>2</th>\n",
              "      <td>2</td>\n",
              "      <td>2</td>\n",
              "      <td>1558</td>\n",
              "      <td>1443.301370</td>\n",
              "    </tr>\n",
              "    <tr>\n",
              "      <th>3</th>\n",
              "      <td>3</td>\n",
              "      <td>3</td>\n",
              "      <td>162</td>\n",
              "      <td>150.454795</td>\n",
              "    </tr>\n",
              "    <tr>\n",
              "      <th>4</th>\n",
              "      <td>4</td>\n",
              "      <td>4</td>\n",
              "      <td>17</td>\n",
              "      <td>14.328767</td>\n",
              "    </tr>\n",
              "    <tr>\n",
              "      <th>5</th>\n",
              "      <td>5</td>\n",
              "      <td>5</td>\n",
              "      <td>2</td>\n",
              "      <td>1.375342</td>\n",
              "    </tr>\n",
              "  </tbody>\n",
              "</table>\n",
              "</div>"
            ],
            "text/plain": [
              "   index  nclaims  tot_obs       tot_expo\n",
              "0      0        0   144936  128256.276712\n",
              "1      1        1    16556   15366.750685\n",
              "2      2        2     1558    1443.301370\n",
              "3      3        3      162     150.454795\n",
              "4      4        4       17      14.328767\n",
              "5      5        5        2       1.375342"
            ]
          },
          "metadata": {},
          "execution_count": 185
        }
      ]
    },
    {
      "cell_type": "code",
      "metadata": {
        "colab": {
          "base_uri": "https://localhost:8080/",
          "height": 350
        },
        "id": "Rv95J7JCLter",
        "outputId": "75597507-eaa8-44c9-85de-6d0f4a9d16b0"
      },
      "source": [
        "plt.figure(figsize = (10, 5))\n",
        "sns.barplot(data = emp_freq, x = \"nclaims\", y = \"tot_expo\", color = KULbg, alpha = 0.5, edgecolor = 'black', linewidth = 1)\n",
        "plt.ylabel(\"Abs freq (in exposure)\")\n",
        "plt.xlabel(\"nclaims\")\n",
        "plt.title('MTPL - number of claims')\n",
        "plt.show()"
      ],
      "execution_count": null,
      "outputs": [
        {
          "output_type": "display_data",
          "data": {
            "image/png": "[encoded data removed]",
            "text/plain": [
              "<Figure size 720x360 with 1 Axes>"
            ]
          },
          "metadata": {
            "needs_background": "light"
          }
        }
      ]
    },
    {
      "cell_type": "markdown",
      "metadata": {
        "id": "guL0g5xomIsQ"
      },
      "source": [
        "Next to `nclaims`, we also explore the distribution of `avg`, the severity paid per reported claim."
      ]
    },
    {
      "cell_type": "code",
      "metadata": {
        "colab": {
          "base_uri": "https://localhost:8080/",
          "height": 334
        },
        "id": "wDEKlwBSTUk-",
        "outputId": "3dd7946a-cdef-423e-8dfb-45927a95f856"
      },
      "source": [
        "plt.figure(figsize=(10,5));\n",
        "sns.histplot(data=mtpl, x= \"avg\", color=KULbg, alpha=0.5, bins=30, binrange=[0,20000])\n",
        "plt.xlabel(\"claim severity\")\n",
        "plt.show() "
      ],
      "execution_count": null,
      "outputs": [
        {
          "output_type": "display_data",
          "data": {
            "image/png": "[encoded data removed]",
            "text/plain": [
              "<Figure size 720x360 with 1 Axes>"
            ]
          },
          "metadata": {
            "needs_background": "light"
          }
        }
      ]
    },
    {
      "cell_type": "markdown",
      "metadata": {
        "id": "piODx58m0RHb"
      },
      "source": [
        "With similar instructions we can inspect the distribution of `Sale_Price` in the Ames housing data set."
      ]
    },
    {
      "cell_type": "code",
      "metadata": {
        "colab": {
          "base_uri": "https://localhost:8080/",
          "height": 337
        },
        "id": "fpdfo-5V0Y4i",
        "outputId": "64867667-4e86-42e7-e4e7-538a6f8b0972"
      },
      "source": [
        "plt.figure(figsize=(10,5));\n",
        "sns.histplot(data = ames_orig, x = \"Sale_Price\", color = KULbg, alpha = 0.5, bins = 30)\n",
        "plt.xlabel(\"Sale_Price\")\n",
        "plt.show() "
      ],
      "execution_count": 9,
      "outputs": [
        {
          "output_type": "display_data",
          "data": {
            "image/png": "[encoded data removed]",
            "text/plain": [
              "<Figure size 720x360 with 1 Axes>"
            ]
          },
          "metadata": {
            "needs_background": "light"
          }
        }
      ]
    },
    {
      "cell_type": "code",
      "metadata": {
        "id": "_F8-7T4x1smC"
      },
      "source": [
        "ames_orig[\"log_Sale_Price\"] = np.log(ames_orig[\"Sale_Price\"])"
      ],
      "execution_count": 10,
      "outputs": []
    },
    {
      "cell_type": "code",
      "metadata": {
        "colab": {
          "base_uri": "https://localhost:8080/",
          "height": 335
        },
        "id": "s7OTxWkw13nD",
        "outputId": "0e2e123d-8229-46f5-f656-19034c1aa735"
      },
      "source": [
        "plt.figure(figsize=(10,5));\n",
        "sns.histplot(data = ames_orig, x = \"log_Sale_Price\", color = KULbg, alpha = 0.5, bins = 30)\n",
        "plt.xlabel(\"Sale_Price\")\n",
        "plt.show() "
      ],
      "execution_count": 11,
      "outputs": [
        {
          "output_type": "display_data",
          "data": {
            "image/png": "[encoded data removed]",
            "text/plain": [
              "<Figure size 720x360 with 1 Axes>"
            ]
          },
          "metadata": {
            "needs_background": "light"
          }
        }
      ]
    },
    {
      "cell_type": "markdown",
      "metadata": {
        "id": "M_I_FyGVdxsd"
      },
      "source": [
        "### 2.2.2 Visualizing the distribution of the features paying attention to risk factors of different types"
      ]
    },
    {
      "cell_type": "markdown",
      "metadata": {
        "id": "5t5IlYILlCwi"
      },
      "source": [
        "#### Changing the type of a variable"
      ]
    },
    {
      "cell_type": "markdown",
      "metadata": {
        "id": "aIEODzS6katm"
      },
      "source": [
        "We first inspect the type of each column in the `mtpl` data frame. What is the data type of `coverage` for instance?"
      ]
    },
    {
      "cell_type": "code",
      "metadata": {
        "colab": {
          "base_uri": "https://localhost:8080/"
        },
        "id": "exN3E-pVXFbA",
        "outputId": "4c8582df-87a5-4a3e-ecf3-e3eaa91fd33d"
      },
      "source": [
        "mtpl.info()"
      ],
      "execution_count": null,
      "outputs": [
        {
          "output_type": "stream",
          "name": "stdout",
          "text": [
            "<class 'pandas.core.frame.DataFrame'>\n",
            "RangeIndex: 163231 entries, 0 to 163230\n",
            "Data columns (total 18 columns):\n",
            " #   Column    Non-Null Count   Dtype  \n",
            "---  ------    --------------   -----  \n",
            " 0   id        163231 non-null  int64  \n",
            " 1   nclaims   163231 non-null  int64  \n",
            " 2   amount    163231 non-null  float64\n",
            " 3   avg       18295 non-null   float64\n",
            " 4   expo      163231 non-null  float64\n",
            " 5   coverage  163231 non-null  object \n",
            " 6   fuel      163231 non-null  object \n",
            " 7   use       163231 non-null  object \n",
            " 8   fleet     163231 non-null  object \n",
            " 9   sex       163231 non-null  object \n",
            " 10  ageph     163231 non-null  int64  \n",
            " 11  bm        163231 non-null  int64  \n",
            " 12  agec      163231 non-null  int64  \n",
            " 13  power     163231 non-null  int64  \n",
            " 14  pc        163231 non-null  int64  \n",
            " 15  town      163231 non-null  object \n",
            " 16  long      163231 non-null  float64\n",
            " 17  lat       163231 non-null  float64\n",
            "dtypes: float64(5), int64(7), object(6)\n",
            "memory usage: 22.4+ MB\n"
          ]
        }
      ]
    },
    {
      "cell_type": "code",
      "metadata": {
        "colab": {
          "base_uri": "https://localhost:8080/"
        },
        "id": "fKxje6XVbkYw",
        "outputId": "a2f1e63c-b101-42fa-ee5f-17602b77c3c6"
      },
      "source": [
        "mtpl.coverage"
      ],
      "execution_count": null,
      "outputs": [
        {
          "output_type": "execute_result",
          "data": {
            "text/plain": [
              "0         TPL\n",
              "1          PO\n",
              "2         TPL\n",
              "3         TPL\n",
              "4         TPL\n",
              "         ... \n",
              "163226    TPL\n",
              "163227    TPL\n",
              "163228    TPL\n",
              "163229    TPL\n",
              "163230     FO\n",
              "Name: coverage, Length: 163231, dtype: object"
            ]
          },
          "metadata": {},
          "execution_count": 192
        }
      ]
    },
    {
      "cell_type": "markdown",
      "metadata": {
        "id": "LdqA_7gokrol"
      },
      "source": [
        "We transform the variables `coverage`, `fuel`, `use`, `fleet` and `sex` to type categorical for further use in data exploration and the predictive modeling steps. \n"
      ]
    },
    {
      "cell_type": "code",
      "metadata": {
        "id": "tsE5vM84rPqF"
      },
      "source": [
        "for c in [\"coverage\", \"fuel\", \"use\", \"fleet\", \"sex\"]:\n",
        "    mtpl[c]=pd.Categorical(mtpl[c])    "
      ],
      "execution_count": null,
      "outputs": []
    },
    {
      "cell_type": "code",
      "metadata": {
        "colab": {
          "base_uri": "https://localhost:8080/"
        },
        "id": "S9CFbBY9bofW",
        "outputId": "15551bda-70dc-4878-c3d2-b91e92b3fa27"
      },
      "source": [
        "mtpl.coverage"
      ],
      "execution_count": null,
      "outputs": [
        {
          "output_type": "execute_result",
          "data": {
            "text/plain": [
              "0         TPL\n",
              "1          PO\n",
              "2         TPL\n",
              "3         TPL\n",
              "4         TPL\n",
              "         ... \n",
              "163226    TPL\n",
              "163227    TPL\n",
              "163228    TPL\n",
              "163229    TPL\n",
              "163230     FO\n",
              "Name: coverage, Length: 163231, dtype: category\n",
              "Categories (3, object): ['FO', 'PO', 'TPL']"
            ]
          },
          "metadata": {},
          "execution_count": 194
        }
      ]
    },
    {
      "cell_type": "code",
      "metadata": {
        "colab": {
          "base_uri": "https://localhost:8080/"
        },
        "id": "IA_Nj1m2bvi8",
        "outputId": "68b8b6ef-0a55-4ba5-9766-a7ef31857603"
      },
      "source": [
        "mtpl.town"
      ],
      "execution_count": null,
      "outputs": [
        {
          "output_type": "execute_result",
          "data": {
            "text/plain": [
              "0          BRUSSEL\n",
              "1          BRUSSEL\n",
              "2          BRUSSEL\n",
              "3          BRUSSEL\n",
              "4          BRUSSEL\n",
              "            ...   \n",
              "163226    MALDEGEM\n",
              "163227    MALDEGEM\n",
              "163228    MALDEGEM\n",
              "163229    MALDEGEM\n",
              "163230    MALDEGEM\n",
              "Name: town, Length: 163231, dtype: object"
            ]
          },
          "metadata": {},
          "execution_count": 195
        }
      ]
    },
    {
      "cell_type": "code",
      "metadata": {
        "id": "gwi_CHgbYvzi"
      },
      "source": [
        "mtpl[\"town\"] = mtpl[\"town\"].astype(\"string\")"
      ],
      "execution_count": null,
      "outputs": []
    },
    {
      "cell_type": "code",
      "metadata": {
        "colab": {
          "base_uri": "https://localhost:8080/"
        },
        "id": "Ei_beWElbyne",
        "outputId": "b51fc2aa-84b3-47fe-eaec-0b480500424b"
      },
      "source": [
        "mtpl.town"
      ],
      "execution_count": null,
      "outputs": [
        {
          "output_type": "execute_result",
          "data": {
            "text/plain": [
              "0          BRUSSEL\n",
              "1          BRUSSEL\n",
              "2          BRUSSEL\n",
              "3          BRUSSEL\n",
              "4          BRUSSEL\n",
              "            ...   \n",
              "163226    MALDEGEM\n",
              "163227    MALDEGEM\n",
              "163228    MALDEGEM\n",
              "163229    MALDEGEM\n",
              "163230    MALDEGEM\n",
              "Name: town, Length: 163231, dtype: string"
            ]
          },
          "metadata": {},
          "execution_count": 197
        }
      ]
    },
    {
      "cell_type": "code",
      "metadata": {
        "colab": {
          "base_uri": "https://localhost:8080/"
        },
        "id": "K3ANW1-JYHb0",
        "outputId": "7bf879a2-7735-4bbe-9905-89a950ab30af"
      },
      "source": [
        "mtpl.info()"
      ],
      "execution_count": null,
      "outputs": [
        {
          "output_type": "stream",
          "name": "stdout",
          "text": [
            "<class 'pandas.core.frame.DataFrame'>\n",
            "RangeIndex: 163231 entries, 0 to 163230\n",
            "Data columns (total 18 columns):\n",
            " #   Column    Non-Null Count   Dtype   \n",
            "---  ------    --------------   -----   \n",
            " 0   id        163231 non-null  int64   \n",
            " 1   nclaims   163231 non-null  int64   \n",
            " 2   amount    163231 non-null  float64 \n",
            " 3   avg       18295 non-null   float64 \n",
            " 4   expo      163231 non-null  float64 \n",
            " 5   coverage  163231 non-null  category\n",
            " 6   fuel      163231 non-null  category\n",
            " 7   use       163231 non-null  category\n",
            " 8   fleet     163231 non-null  category\n",
            " 9   sex       163231 non-null  category\n",
            " 10  ageph     163231 non-null  int64   \n",
            " 11  bm        163231 non-null  int64   \n",
            " 12  agec      163231 non-null  int64   \n",
            " 13  power     163231 non-null  int64   \n",
            " 14  pc        163231 non-null  int64   \n",
            " 15  town      163231 non-null  string  \n",
            " 16  long      163231 non-null  float64 \n",
            " 17  lat       163231 non-null  float64 \n",
            "dtypes: category(5), float64(5), int64(7), string(1)\n",
            "memory usage: 17.0 MB\n"
          ]
        }
      ]
    },
    {
      "cell_type": "markdown",
      "metadata": {
        "id": "AfQYMW2tc14u"
      },
      "source": [
        "#### A type-specific exploratory analysis of the risk factors"
      ]
    },
    {
      "cell_type": "markdown",
      "metadata": {
        "id": "AtgVAFOKlld7"
      },
      "source": [
        "##### Exploring a factor variable"
      ]
    },
    {
      "cell_type": "code",
      "metadata": {
        "colab": {
          "base_uri": "https://localhost:8080/"
        },
        "id": "jFal8Vi-LWs2",
        "outputId": "bee4b06d-7756-40df-c454-6cf00a74abc4"
      },
      "source": [
        "mtpl[\"sex\"].value_counts()"
      ],
      "execution_count": null,
      "outputs": [
        {
          "output_type": "execute_result",
          "data": {
            "text/plain": [
              "male      120056\n",
              "female     43175\n",
              "Name: sex, dtype: int64"
            ]
          },
          "metadata": {},
          "execution_count": 199
        }
      ]
    },
    {
      "cell_type": "code",
      "metadata": {
        "colab": {
          "base_uri": "https://localhost:8080/",
          "height": 308
        },
        "id": "UJPHXUWrhY0U",
        "outputId": "dbf0ef4b-9cb2-4a7c-8aa8-a83d6fb0f3b9"
      },
      "source": [
        "mtpl[\"sex\"].value_counts().plot(kind = \"bar\")"
      ],
      "execution_count": null,
      "outputs": [
        {
          "output_type": "execute_result",
          "data": {
            "text/plain": [
              "<matplotlib.axes._subplots.AxesSubplot at 0x7fac02fbb210>"
            ]
          },
          "metadata": {},
          "execution_count": 200
        },
        {
          "output_type": "display_data",
          "data": {
            "image/png": "[encoded data removed]",
            "text/plain": [
              "<Figure size 432x288 with 1 Axes>"
            ]
          },
          "metadata": {
            "needs_background": "light"
          }
        }
      ]
    },
    {
      "cell_type": "code",
      "metadata": {
        "colab": {
          "base_uri": "https://localhost:8080/"
        },
        "id": "-wWkvO8rJR1O",
        "outputId": "1bfdb5bb-b502-4b53-d3e7-c8b55907289d"
      },
      "source": [
        "mtpl.groupby(\"sex\").agg({'nclaims':sum}).values / mtpl.groupby(\"sex\").agg({'expo':sum}).values"
      ],
      "execution_count": null,
      "outputs": [
        {
          "output_type": "execute_result",
          "data": {
            "text/plain": [
              "array([[0.14843248],\n",
              "       [0.13611639]])"
            ]
          },
          "metadata": {},
          "execution_count": 201
        }
      ]
    },
    {
      "cell_type": "code",
      "metadata": {
        "colab": {
          "base_uri": "https://localhost:8080/"
        },
        "id": "rLI0EsndhhZS",
        "outputId": "54c4c75b-773c-492f-da8a-0e362d767dea"
      },
      "source": [
        "mtpl.groupby(\"sex\")[\"nclaims\"].sum() / mtpl.groupby(\"sex\")[\"expo\"].sum()"
      ],
      "execution_count": null,
      "outputs": [
        {
          "output_type": "execute_result",
          "data": {
            "text/plain": [
              "sex\n",
              "female    0.148432\n",
              "male      0.136116\n",
              "dtype: float64"
            ]
          },
          "metadata": {},
          "execution_count": 202
        }
      ]
    },
    {
      "cell_type": "code",
      "metadata": {
        "colab": {
          "base_uri": "https://localhost:8080/",
          "height": 304
        },
        "id": "OPCg-WJKKo8H",
        "outputId": "9df9ea26-cfce-42fa-e0f7-12ff85100d1a"
      },
      "source": [
        "(mtpl.groupby(\"sex\")[\"nclaims\"].sum() / mtpl.groupby(\"sex\")[\"expo\"].sum()).plot(kind = \"bar\");"
      ],
      "execution_count": null,
      "outputs": [
        {
          "output_type": "display_data",
          "data": {
            "image/png": "[encoded data removed]",
            "text/plain": [
              "<Figure size 432x288 with 1 Axes>"
            ]
          },
          "metadata": {
            "needs_background": "light"
          }
        }
      ]
    },
    {
      "cell_type": "markdown",
      "metadata": {
        "id": "JQpbT0Lch8CD"
      },
      "source": [
        "#### Exploring a continuous variable"
      ]
    },
    {
      "cell_type": "code",
      "metadata": {
        "colab": {
          "base_uri": "https://localhost:8080/",
          "height": 350
        },
        "id": "qy9f9qCqMLat",
        "outputId": "8caa2d8c-6ca8-42da-e20e-d2364b76309d"
      },
      "source": [
        "plt.figure(figsize = (10, 5))\n",
        "sns.histplot(data = mtpl, x = \"ageph\", color = KULbg, binwidth = 2, alpha = 0.5)\n",
        "plt.ylabel(\"Absolute frequency\")\n",
        "plt.title('MTPL - age policyholder')\n",
        "plt.show()"
      ],
      "execution_count": null,
      "outputs": [
        {
          "output_type": "display_data",
          "data": {
            "image/png": "[encoded data removed]",
            "text/plain": [
              "<Figure size 720x360 with 1 Axes>"
            ]
          },
          "metadata": {
            "needs_background": "light"
          }
        }
      ]
    },
    {
      "cell_type": "markdown",
      "metadata": {
        "id": "5cLRwpU5yFbi"
      },
      "source": [
        "### 2.2.3 Visualizing the empirical distribution of the target as a function of one of the features: a marginal analysis "
      ]
    },
    {
      "cell_type": "code",
      "metadata": {
        "colab": {
          "base_uri": "https://localhost:8080/",
          "height": 235
        },
        "id": "5jQ07-ceMjQw",
        "outputId": "cfa1c593-585a-4316-a5a8-a1b5aaf0b86d"
      },
      "source": [
        "freq_by_age = mtpl.groupby(\"ageph\").agg(tot_claims = ('nclaims', 'sum'), tot_expo = ('expo', 'sum'))\n",
        "freq_by_age.head()"
      ],
      "execution_count": null,
      "outputs": [
        {
          "output_type": "execute_result",
          "data": {
            "text/html": [
              "<div>\n",
              "<style scoped>\n",
              "    .dataframe tbody tr th:only-of-type {\n",
              "        vertical-align: middle;\n",
              "    }\n",
              "\n",
              "    .dataframe tbody tr th {\n",
              "        vertical-align: top;\n",
              "    }\n",
              "\n",
              "    .dataframe thead th {\n",
              "        text-align: right;\n",
              "    }\n",
              "</style>\n",
              "<table border=\"1\" class=\"dataframe\">\n",
              "  <thead>\n",
              "    <tr style=\"text-align: right;\">\n",
              "      <th></th>\n",
              "      <th>tot_claims</th>\n",
              "      <th>tot_expo</th>\n",
              "    </tr>\n",
              "    <tr>\n",
              "      <th>ageph</th>\n",
              "      <th></th>\n",
              "      <th></th>\n",
              "    </tr>\n",
              "  </thead>\n",
              "  <tbody>\n",
              "    <tr>\n",
              "      <th>18</th>\n",
              "      <td>5</td>\n",
              "      <td>4.621918</td>\n",
              "    </tr>\n",
              "    <tr>\n",
              "      <th>19</th>\n",
              "      <td>28</td>\n",
              "      <td>93.021918</td>\n",
              "    </tr>\n",
              "    <tr>\n",
              "      <th>20</th>\n",
              "      <td>113</td>\n",
              "      <td>342.284932</td>\n",
              "    </tr>\n",
              "    <tr>\n",
              "      <th>21</th>\n",
              "      <td>165</td>\n",
              "      <td>597.389041</td>\n",
              "    </tr>\n",
              "    <tr>\n",
              "      <th>22</th>\n",
              "      <td>202</td>\n",
              "      <td>778.827397</td>\n",
              "    </tr>\n",
              "  </tbody>\n",
              "</table>\n",
              "</div>"
            ],
            "text/plain": [
              "       tot_claims    tot_expo\n",
              "ageph                        \n",
              "18              5    4.621918\n",
              "19             28   93.021918\n",
              "20            113  342.284932\n",
              "21            165  597.389041\n",
              "22            202  778.827397"
            ]
          },
          "metadata": {},
          "execution_count": 205
        }
      ]
    },
    {
      "cell_type": "code",
      "metadata": {
        "colab": {
          "base_uri": "https://localhost:8080/",
          "height": 204
        },
        "id": "e2uFVfolNY6m",
        "outputId": "9245d14b-647e-4bb8-ca5e-e50a109f6858"
      },
      "source": [
        "freq_by_age.reset_index(inplace = True)\n",
        "freq_by_age[\"emp_freq\"] = freq_by_age[\"tot_claims\"] / freq_by_age[\"tot_expo\"]\n",
        "freq_by_age.head()"
      ],
      "execution_count": null,
      "outputs": [
        {
          "output_type": "execute_result",
          "data": {
            "text/html": [
              "<div>\n",
              "<style scoped>\n",
              "    .dataframe tbody tr th:only-of-type {\n",
              "        vertical-align: middle;\n",
              "    }\n",
              "\n",
              "    .dataframe tbody tr th {\n",
              "        vertical-align: top;\n",
              "    }\n",
              "\n",
              "    .dataframe thead th {\n",
              "        text-align: right;\n",
              "    }\n",
              "</style>\n",
              "<table border=\"1\" class=\"dataframe\">\n",
              "  <thead>\n",
              "    <tr style=\"text-align: right;\">\n",
              "      <th></th>\n",
              "      <th>ageph</th>\n",
              "      <th>tot_claims</th>\n",
              "      <th>tot_expo</th>\n",
              "      <th>emp_freq</th>\n",
              "    </tr>\n",
              "  </thead>\n",
              "  <tbody>\n",
              "    <tr>\n",
              "      <th>0</th>\n",
              "      <td>18</td>\n",
              "      <td>5</td>\n",
              "      <td>4.621918</td>\n",
              "      <td>1.081802</td>\n",
              "    </tr>\n",
              "    <tr>\n",
              "      <th>1</th>\n",
              "      <td>19</td>\n",
              "      <td>28</td>\n",
              "      <td>93.021918</td>\n",
              "      <td>0.301004</td>\n",
              "    </tr>\n",
              "    <tr>\n",
              "      <th>2</th>\n",
              "      <td>20</td>\n",
              "      <td>113</td>\n",
              "      <td>342.284932</td>\n",
              "      <td>0.330134</td>\n",
              "    </tr>\n",
              "    <tr>\n",
              "      <th>3</th>\n",
              "      <td>21</td>\n",
              "      <td>165</td>\n",
              "      <td>597.389041</td>\n",
              "      <td>0.276202</td>\n",
              "    </tr>\n",
              "    <tr>\n",
              "      <th>4</th>\n",
              "      <td>22</td>\n",
              "      <td>202</td>\n",
              "      <td>778.827397</td>\n",
              "      <td>0.259364</td>\n",
              "    </tr>\n",
              "  </tbody>\n",
              "</table>\n",
              "</div>"
            ],
            "text/plain": [
              "   ageph  tot_claims    tot_expo  emp_freq\n",
              "0     18           5    4.621918  1.081802\n",
              "1     19          28   93.021918  0.301004\n",
              "2     20         113  342.284932  0.330134\n",
              "3     21         165  597.389041  0.276202\n",
              "4     22         202  778.827397  0.259364"
            ]
          },
          "metadata": {},
          "execution_count": 206
        }
      ]
    },
    {
      "cell_type": "code",
      "metadata": {
        "colab": {
          "base_uri": "https://localhost:8080/",
          "height": 458
        },
        "id": "RyEZCliVOmDJ",
        "outputId": "722c8d92-94c0-4d9d-a25f-815301616c1e"
      },
      "source": [
        "plt.figure(figsize = (20, 7))\n",
        "sns.barplot(data = freq_by_age, x = \"ageph\", y = \"emp_freq\", color = KULbg, alpha = 0.5, edgecolor = 'black', linewidth = 1)\n",
        "plt.ylabel(\"Empirical claim frequency\")\n",
        "plt.title('MTPL - empirical claim freq per age policyholder')\n",
        "plt.show()"
      ],
      "execution_count": null,
      "outputs": [
        {
          "output_type": "display_data",
          "data": {
            "image/png": "[encoded data removed]",
            "text/plain": [
              "<Figure size 1440x504 with 1 Axes>"
            ]
          },
          "metadata": {
            "needs_background": "light"
          }
        }
      ]
    },
    {
      "cell_type": "code",
      "metadata": {
        "colab": {
          "base_uri": "https://localhost:8080/",
          "height": 204
        },
        "id": "xGHTDNTJSiRO",
        "outputId": "84b1c662-daa6-46b6-e38a-7c6031e9151f"
      },
      "source": [
        "freq_by_bm = mtpl.groupby(\"bm\").agg(tot_claims = ('nclaims', 'sum'), tot_expo = ('expo', 'sum'))\n",
        "freq_by_bm.reset_index(inplace = True)\n",
        "freq_by_bm[\"emp_freq\"] = freq_by_bm[\"tot_claims\"] / freq_by_bm[\"tot_expo\"]\n",
        "freq_by_bm.head()"
      ],
      "execution_count": null,
      "outputs": [
        {
          "output_type": "execute_result",
          "data": {
            "text/html": [
              "<div>\n",
              "<style scoped>\n",
              "    .dataframe tbody tr th:only-of-type {\n",
              "        vertical-align: middle;\n",
              "    }\n",
              "\n",
              "    .dataframe tbody tr th {\n",
              "        vertical-align: top;\n",
              "    }\n",
              "\n",
              "    .dataframe thead th {\n",
              "        text-align: right;\n",
              "    }\n",
              "</style>\n",
              "<table border=\"1\" class=\"dataframe\">\n",
              "  <thead>\n",
              "    <tr style=\"text-align: right;\">\n",
              "      <th></th>\n",
              "      <th>bm</th>\n",
              "      <th>tot_claims</th>\n",
              "      <th>tot_expo</th>\n",
              "      <th>emp_freq</th>\n",
              "    </tr>\n",
              "  </thead>\n",
              "  <tbody>\n",
              "    <tr>\n",
              "      <th>0</th>\n",
              "      <td>0</td>\n",
              "      <td>5597</td>\n",
              "      <td>55621.613699</td>\n",
              "      <td>0.100626</td>\n",
              "    </tr>\n",
              "    <tr>\n",
              "      <th>1</th>\n",
              "      <td>1</td>\n",
              "      <td>2894</td>\n",
              "      <td>24860.400000</td>\n",
              "      <td>0.116410</td>\n",
              "    </tr>\n",
              "    <tr>\n",
              "      <th>2</th>\n",
              "      <td>2</td>\n",
              "      <td>1110</td>\n",
              "      <td>8666.923288</td>\n",
              "      <td>0.128073</td>\n",
              "    </tr>\n",
              "    <tr>\n",
              "      <th>3</th>\n",
              "      <td>3</td>\n",
              "      <td>581</td>\n",
              "      <td>3286.476712</td>\n",
              "      <td>0.176785</td>\n",
              "    </tr>\n",
              "    <tr>\n",
              "      <th>4</th>\n",
              "      <td>4</td>\n",
              "      <td>1071</td>\n",
              "      <td>7257.002740</td>\n",
              "      <td>0.147582</td>\n",
              "    </tr>\n",
              "  </tbody>\n",
              "</table>\n",
              "</div>"
            ],
            "text/plain": [
              "   bm  tot_claims      tot_expo  emp_freq\n",
              "0   0        5597  55621.613699  0.100626\n",
              "1   1        2894  24860.400000  0.116410\n",
              "2   2        1110   8666.923288  0.128073\n",
              "3   3         581   3286.476712  0.176785\n",
              "4   4        1071   7257.002740  0.147582"
            ]
          },
          "metadata": {},
          "execution_count": 208
        }
      ]
    },
    {
      "cell_type": "code",
      "metadata": {
        "colab": {
          "base_uri": "https://localhost:8080/",
          "height": 458
        },
        "id": "LW6vJkGkSr0J",
        "outputId": "e9aabed2-224a-4df6-a321-e3828e64f672"
      },
      "source": [
        "plt.figure(figsize = (15, 7))\n",
        "sns.barplot(data = freq_by_bm, x = \"bm\", y = \"emp_freq\", color = KULbg, alpha = 0.5, edgecolor = 'black', linewidth = 1)\n",
        "plt.ylabel(\"Empirical claim frequency\")\n",
        "plt.title('MTPL - empirical claim freq per level in the BM scale')\n",
        "plt.show()"
      ],
      "execution_count": null,
      "outputs": [
        {
          "output_type": "display_data",
          "data": {
            "image/png": "[encoded data removed]",
            "text/plain": [
              "<Figure size 1080x504 with 1 Axes>"
            ]
          },
          "metadata": {
            "needs_background": "light"
          }
        }
      ]
    },
    {
      "cell_type": "markdown",
      "metadata": {
        "id": "9T0yKKH8kw_p"
      },
      "source": [
        "# 3. More on fitting GLMs with {statsmodels} and the {statsmodels.formula.api} <a name=\"three\"></a>"
      ]
    },
    {
      "cell_type": "markdown",
      "metadata": {
        "id": "zowy7XnUnAdx"
      },
      "source": [
        "## 3.1 A frequency and severity GLM with only a factor variable <a name=\"three-one\"></a>"
      ]
    },
    {
      "cell_type": "markdown",
      "metadata": {
        "id": "MQZx35ByrNLP"
      },
      "source": [
        "### 3.1.1 Frequency GLM"
      ]
    },
    {
      "cell_type": "markdown",
      "metadata": {
        "id": "L81GDMSZnG1Y"
      },
      "source": [
        "We first calibrate the following GLM\n",
        "\n",
        "$$N_i \\sim \\text{POI}(\\mu_i)$$\n",
        "\n",
        "where $$\\mu_i = d_i \\exp{(\\beta_0 + \\beta_1 \\mathbb{I}(male_i))}$$\n",
        "and $d_i$ is the exposure for record $i$."
      ]
    },
    {
      "cell_type": "code",
      "metadata": {
        "colab": {
          "base_uri": "https://localhost:8080/"
        },
        "id": "hwX8694AU2C2",
        "outputId": "27838d6b-23f5-4350-b56d-de782fc6f74c"
      },
      "source": [
        "freq_glm_sex = smf.glm(formula='nclaims ~ sex', data= mtpl, exposure = mtpl.expo, family = sm.families.Poisson(link=sm.families.links.log())).fit()\n",
        "print(freq_glm_sex.summary())"
      ],
      "execution_count": null,
      "outputs": [
        {
          "output_type": "stream",
          "name": "stdout",
          "text": [
            "                 Generalized Linear Model Regression Results                  \n",
            "==============================================================================\n",
            "Dep. Variable:                nclaims   No. Observations:               163231\n",
            "Model:                            GLM   Df Residuals:                   163229\n",
            "Model Family:                 Poisson   Df Model:                            1\n",
            "Link Function:                    log   Scale:                          1.0000\n",
            "Method:                          IRLS   Log-Likelihood:                -63823.\n",
            "Date:                Mon, 15 Nov 2021   Deviance:                       89914.\n",
            "Time:                        19:18:23   Pearson chi2:                 2.01e+05\n",
            "No. Iterations:                     6                                         \n",
            "Covariance Type:            nonrobust                                         \n",
            "===============================================================================\n",
            "                  coef    std err          z      P>|z|      [0.025      0.975]\n",
            "-------------------------------------------------------------------------------\n",
            "Intercept      -1.9076      0.013   -143.186      0.000      -1.934      -1.882\n",
            "sex[T.male]    -0.0866      0.016     -5.523      0.000      -0.117      -0.056\n",
            "===============================================================================\n"
          ]
        }
      ]
    },
    {
      "cell_type": "code",
      "metadata": {
        "colab": {
          "base_uri": "https://localhost:8080/"
        },
        "id": "b8JBuDYTVMIK",
        "outputId": "44830ede-3b3a-4272-e16d-de34f8ee15b0"
      },
      "source": [
        "print(freq_glm_sex.summary().tables[1])"
      ],
      "execution_count": null,
      "outputs": [
        {
          "output_type": "stream",
          "name": "stdout",
          "text": [
            "===============================================================================\n",
            "                  coef    std err          z      P>|z|      [0.025      0.975]\n",
            "-------------------------------------------------------------------------------\n",
            "Intercept      -1.9076      0.013   -143.186      0.000      -1.934      -1.882\n",
            "sex[T.male]    -0.0866      0.016     -5.523      0.000      -0.117      -0.056\n",
            "===============================================================================\n"
          ]
        }
      ]
    },
    {
      "cell_type": "markdown",
      "metadata": {
        "id": "_nymdM0jpDoX"
      },
      "source": [
        "The fitted GLM is stored in `freq_glm_sex` and we now use this fitted model to predict the expected claim frequency for a specified risk profile. In the illustrations below we calculate these predictions for a male vs female driver, both with an exposure equal to 1. "
      ]
    },
    {
      "cell_type": "code",
      "metadata": {
        "colab": {
          "base_uri": "https://localhost:8080/"
        },
        "id": "kGBcbSxlaF8w",
        "outputId": "02dd1ab0-9ef1-4015-ca15-f39fda9e26cc"
      },
      "source": [
        "male_driver = pd.DataFrame({'expo':[1], 'sex':['male']})\n",
        "print(male_driver)\n",
        "print(\"\")\n",
        "print(f\"Predicted annual claim frequency for a male driver: {freq_glm_sex.predict(male_driver)[0]}\")"
      ],
      "execution_count": null,
      "outputs": [
        {
          "output_type": "stream",
          "name": "stdout",
          "text": [
            "   expo   sex\n",
            "0     1  male\n",
            "\n",
            "Predicted annual claim frequency for a male driver: 0.13611639486276417\n"
          ]
        }
      ]
    },
    {
      "cell_type": "code",
      "metadata": {
        "colab": {
          "base_uri": "https://localhost:8080/"
        },
        "id": "Cf9b7QMiaRoK",
        "outputId": "6300b458-bd07-4e35-b24d-416acfabee7c"
      },
      "source": [
        "female_driver= pd.DataFrame({'expo':[1], 'sex':['female']})\n",
        "print(female_driver)\n",
        "print(\"\")\n",
        "print(f\"Predicted annual claim frequency for a fermale driver: {freq_glm_sex.predict(female_driver)[0]}\")"
      ],
      "execution_count": null,
      "outputs": [
        {
          "output_type": "stream",
          "name": "stdout",
          "text": [
            "   expo     sex\n",
            "0     1  female\n",
            "\n",
            "Predicted annual claim frequency for a fermale driver: 0.14843248007929558\n"
          ]
        }
      ]
    },
    {
      "cell_type": "markdown",
      "metadata": {
        "id": "PzqCmmDHqvry"
      },
      "source": [
        "Let's explore the connection between these predicted expected claim frequencies and the calibrated GLM parameters in the GLM object `freq_glm_sex`. The `female_driver` risk profile has exposure equal to 1. Hence, $$\\log{\\hat{E}[Y]} = \\hat{\\beta}_0,$$ the calibrated intercept."
      ]
    },
    {
      "cell_type": "code",
      "metadata": {
        "colab": {
          "base_uri": "https://localhost:8080/"
        },
        "id": "KUyXOVf-an9W",
        "outputId": "b231843a-1f81-4e05-adac-fc7cd812b7e8"
      },
      "source": [
        "np.log(freq_glm_sex.predict(female_driver))"
      ],
      "execution_count": null,
      "outputs": [
        {
          "output_type": "execute_result",
          "data": {
            "text/plain": [
              "0   -1.907625\n",
              "dtype: float64"
            ]
          },
          "metadata": {},
          "execution_count": 214
        }
      ]
    },
    {
      "cell_type": "code",
      "metadata": {
        "colab": {
          "base_uri": "https://localhost:8080/"
        },
        "id": "K9VnEvHZakWc",
        "outputId": "fcf4021f-a322-4056-ed3f-d3e9376d5300"
      },
      "source": [
        "np.log(freq_glm_sex.predict(male_driver))"
      ],
      "execution_count": null,
      "outputs": [
        {
          "output_type": "execute_result",
          "data": {
            "text/plain": [
              "0   -1.994245\n",
              "dtype: float64"
            ]
          },
          "metadata": {},
          "execution_count": 215
        }
      ]
    },
    {
      "cell_type": "markdown",
      "metadata": {
        "id": "AMP3_KKnprJM"
      },
      "source": [
        "We now predict the average claim frequency per unit of exposure for every observation in the original `mtpl` data set. Notice that the `fittedvalues.values` argument of the fitted GLM takes the exposure into account. Hence, dividing the `fittedvalues.values` by the registered `expo` leads to the *yearly* expected claim frequency.   "
      ]
    },
    {
      "cell_type": "code",
      "metadata": {
        "colab": {
          "base_uri": "https://localhost:8080/",
          "height": 419
        },
        "id": "w_637a5XZqe1",
        "outputId": "bf246567-d34d-4e96-a234-5a93bd2c6e2b"
      },
      "source": [
        "pd.DataFrame({'sex': mtpl.sex, 'fitted_values': freq_glm_sex.fittedvalues.values / mtpl.expo})"
      ],
      "execution_count": null,
      "outputs": [
        {
          "output_type": "execute_result",
          "data": {
            "text/html": [
              "<div>\n",
              "<style scoped>\n",
              "    .dataframe tbody tr th:only-of-type {\n",
              "        vertical-align: middle;\n",
              "    }\n",
              "\n",
              "    .dataframe tbody tr th {\n",
              "        vertical-align: top;\n",
              "    }\n",
              "\n",
              "    .dataframe thead th {\n",
              "        text-align: right;\n",
              "    }\n",
              "</style>\n",
              "<table border=\"1\" class=\"dataframe\">\n",
              "  <thead>\n",
              "    <tr style=\"text-align: right;\">\n",
              "      <th></th>\n",
              "      <th>sex</th>\n",
              "      <th>fitted_values</th>\n",
              "    </tr>\n",
              "  </thead>\n",
              "  <tbody>\n",
              "    <tr>\n",
              "      <th>0</th>\n",
              "      <td>male</td>\n",
              "      <td>0.136116</td>\n",
              "    </tr>\n",
              "    <tr>\n",
              "      <th>1</th>\n",
              "      <td>female</td>\n",
              "      <td>0.148432</td>\n",
              "    </tr>\n",
              "    <tr>\n",
              "      <th>2</th>\n",
              "      <td>male</td>\n",
              "      <td>0.136116</td>\n",
              "    </tr>\n",
              "    <tr>\n",
              "      <th>3</th>\n",
              "      <td>male</td>\n",
              "      <td>0.136116</td>\n",
              "    </tr>\n",
              "    <tr>\n",
              "      <th>4</th>\n",
              "      <td>female</td>\n",
              "      <td>0.148432</td>\n",
              "    </tr>\n",
              "    <tr>\n",
              "      <th>...</th>\n",
              "      <td>...</td>\n",
              "      <td>...</td>\n",
              "    </tr>\n",
              "    <tr>\n",
              "      <th>163226</th>\n",
              "      <td>male</td>\n",
              "      <td>0.136116</td>\n",
              "    </tr>\n",
              "    <tr>\n",
              "      <th>163227</th>\n",
              "      <td>male</td>\n",
              "      <td>0.136116</td>\n",
              "    </tr>\n",
              "    <tr>\n",
              "      <th>163228</th>\n",
              "      <td>male</td>\n",
              "      <td>0.136116</td>\n",
              "    </tr>\n",
              "    <tr>\n",
              "      <th>163229</th>\n",
              "      <td>male</td>\n",
              "      <td>0.136116</td>\n",
              "    </tr>\n",
              "    <tr>\n",
              "      <th>163230</th>\n",
              "      <td>male</td>\n",
              "      <td>0.136116</td>\n",
              "    </tr>\n",
              "  </tbody>\n",
              "</table>\n",
              "<p>163231 rows × 2 columns</p>\n",
              "</div>"
            ],
            "text/plain": [
              "           sex  fitted_values\n",
              "0         male       0.136116\n",
              "1       female       0.148432\n",
              "2         male       0.136116\n",
              "3         male       0.136116\n",
              "4       female       0.148432\n",
              "...        ...            ...\n",
              "163226    male       0.136116\n",
              "163227    male       0.136116\n",
              "163228    male       0.136116\n",
              "163229    male       0.136116\n",
              "163230    male       0.136116\n",
              "\n",
              "[163231 rows x 2 columns]"
            ]
          },
          "metadata": {},
          "execution_count": 216
        }
      ]
    },
    {
      "cell_type": "markdown",
      "metadata": {
        "id": "loaAtctrrTqJ"
      },
      "source": [
        "### 3.1.2 Severity GLM"
      ]
    },
    {
      "cell_type": "code",
      "metadata": {
        "colab": {
          "base_uri": "https://localhost:8080/"
        },
        "id": "yFrnPupxgn1s",
        "outputId": "e78550de-14d7-4832-8b8f-6b2dc6da8740"
      },
      "source": [
        "sev_glm_sex = smf.glm('avg ~ sex', data = mtpl, family = sm.families.Gamma(link=sm.families.links.log())).fit()\n",
        "print(sev_glm_sex.summary())"
      ],
      "execution_count": null,
      "outputs": [
        {
          "output_type": "stream",
          "name": "stdout",
          "text": [
            "                 Generalized Linear Model Regression Results                  \n",
            "==============================================================================\n",
            "Dep. Variable:                    avg   No. Observations:                18295\n",
            "Model:                            GLM   Df Residuals:                    18293\n",
            "Model Family:                   Gamma   Df Model:                            1\n",
            "Link Function:                    log   Scale:                          83.463\n",
            "Method:                          IRLS   Log-Likelihood:            -1.9421e+05\n",
            "Date:                Mon, 15 Nov 2021   Deviance:                       46435.\n",
            "Time:                        19:19:06   Pearson chi2:                 1.53e+06\n",
            "No. Iterations:                     9                                         \n",
            "Covariance Type:            nonrobust                                         \n",
            "===============================================================================\n",
            "                  coef    std err          z      P>|z|      [0.025      0.975]\n",
            "-------------------------------------------------------------------------------\n",
            "Intercept       7.5730      0.128     59.111      0.000       7.322       7.824\n",
            "sex[T.male]    -0.2581      0.151     -1.712      0.087      -0.554       0.037\n",
            "===============================================================================\n"
          ]
        }
      ]
    },
    {
      "cell_type": "markdown",
      "metadata": {
        "id": "_ccyI5KOpNMO"
      },
      "source": [
        "## 3.2 A GLM with a continuous covariate <a name=\"three-two\"></a>"
      ]
    },
    {
      "cell_type": "markdown",
      "metadata": {
        "id": "CDA6y9MCr6-m"
      },
      "source": [
        "We continue with the following GLM specification\n",
        "$$N_i \\sim \\text{POI}(\\mu_i)$$\n",
        "where \n",
        "$$\\mu_i = d_i \\exp{(\\beta_0 + \\beta_1 \\text{age}_i)},$$\n",
        "with $d_i$ the exposure of observation $i$ and $\\text{age}_i$ the observation's registered age."
      ]
    },
    {
      "cell_type": "code",
      "metadata": {
        "colab": {
          "base_uri": "https://localhost:8080/"
        },
        "id": "Nc3BU5wOhS8x",
        "outputId": "0593e8b6-427c-46b1-9172-369328e2ce4b"
      },
      "source": [
        "freq_glm_age = smf.glm('nclaims ~ ageph', data = mtpl, exposure = mtpl.expo, family = sm.families.Poisson(link=sm.families.links.log())).fit()\n",
        "print(freq_glm_age.summary())"
      ],
      "execution_count": null,
      "outputs": [
        {
          "output_type": "stream",
          "name": "stdout",
          "text": [
            "                 Generalized Linear Model Regression Results                  \n",
            "==============================================================================\n",
            "Dep. Variable:                nclaims   No. Observations:               163231\n",
            "Model:                            GLM   Df Residuals:                   163229\n",
            "Model Family:                 Poisson   Df Model:                            1\n",
            "Link Function:                    log   Scale:                          1.0000\n",
            "Method:                          IRLS   Log-Likelihood:                -63280.\n",
            "Date:                Mon, 15 Nov 2021   Deviance:                       88829.\n",
            "Time:                        19:20:47   Pearson chi2:                 1.98e+05\n",
            "No. Iterations:                     6                                         \n",
            "Covariance Type:            nonrobust                                         \n",
            "==============================================================================\n",
            "                 coef    std err          z      P>|z|      [0.025      0.975]\n",
            "------------------------------------------------------------------------------\n",
            "Intercept     -1.2286      0.023    -53.648      0.000      -1.273      -1.184\n",
            "ageph         -0.0163      0.000    -32.791      0.000      -0.017      -0.015\n",
            "==============================================================================\n"
          ]
        }
      ]
    },
    {
      "cell_type": "markdown",
      "metadata": {
        "id": "0e_3A2srsj48"
      },
      "source": [
        "Using the fitted GLM model stored in `freq_glm_age` we now want to predict the yearly expected claim frequency for every possible `age` between the min and max `age` observed in the `mtpl` data set. Hereto, we first create a grid of age values with the `arange(.)` function in {NumPy}."
      ]
    },
    {
      "cell_type": "code",
      "metadata": {
        "colab": {
          "base_uri": "https://localhost:8080/"
        },
        "id": "L0Vx2h67hlnV",
        "outputId": "d7def694-4f86-489b-fa63-98125a722a77"
      },
      "source": [
        "age = np.arange(min(mtpl.ageph), max(mtpl.ageph)+1)\n",
        "age"
      ],
      "execution_count": null,
      "outputs": [
        {
          "output_type": "execute_result",
          "data": {
            "text/plain": [
              "array([18, 19, 20, 21, 22, 23, 24, 25, 26, 27, 28, 29, 30, 31, 32, 33, 34,\n",
              "       35, 36, 37, 38, 39, 40, 41, 42, 43, 44, 45, 46, 47, 48, 49, 50, 51,\n",
              "       52, 53, 54, 55, 56, 57, 58, 59, 60, 61, 62, 63, 64, 65, 66, 67, 68,\n",
              "       69, 70, 71, 72, 73, 74, 75, 76, 77, 78, 79, 80, 81, 82, 83, 84, 85,\n",
              "       86, 87, 88, 89, 90, 91, 92, 93, 94, 95])"
            ]
          },
          "metadata": {},
          "execution_count": 11
        }
      ]
    },
    {
      "cell_type": "markdown",
      "metadata": {
        "id": "LmD8KVT3tQGc"
      },
      "source": [
        "We specify `expo = 1` for each age value stored in the grid. We create a DataFrame `df` with variables `ageph` and `expo`.  "
      ]
    },
    {
      "cell_type": "code",
      "metadata": {
        "colab": {
          "base_uri": "https://localhost:8080/",
          "height": 419
        },
        "id": "R4NXhHSjhqRc",
        "outputId": "eb965312-8434-469b-c826-bd6171b50dc3"
      },
      "source": [
        "expo = np.full(shape=age.size, fill_value=1)\n",
        "df = pd.DataFrame({'ageph': age, 'expo':expo})\n",
        "df"
      ],
      "execution_count": null,
      "outputs": [
        {
          "output_type": "execute_result",
          "data": {
            "text/html": [
              "<div>\n",
              "<style scoped>\n",
              "    .dataframe tbody tr th:only-of-type {\n",
              "        vertical-align: middle;\n",
              "    }\n",
              "\n",
              "    .dataframe tbody tr th {\n",
              "        vertical-align: top;\n",
              "    }\n",
              "\n",
              "    .dataframe thead th {\n",
              "        text-align: right;\n",
              "    }\n",
              "</style>\n",
              "<table border=\"1\" class=\"dataframe\">\n",
              "  <thead>\n",
              "    <tr style=\"text-align: right;\">\n",
              "      <th></th>\n",
              "      <th>ageph</th>\n",
              "      <th>expo</th>\n",
              "    </tr>\n",
              "  </thead>\n",
              "  <tbody>\n",
              "    <tr>\n",
              "      <th>0</th>\n",
              "      <td>18</td>\n",
              "      <td>1</td>\n",
              "    </tr>\n",
              "    <tr>\n",
              "      <th>1</th>\n",
              "      <td>19</td>\n",
              "      <td>1</td>\n",
              "    </tr>\n",
              "    <tr>\n",
              "      <th>2</th>\n",
              "      <td>20</td>\n",
              "      <td>1</td>\n",
              "    </tr>\n",
              "    <tr>\n",
              "      <th>3</th>\n",
              "      <td>21</td>\n",
              "      <td>1</td>\n",
              "    </tr>\n",
              "    <tr>\n",
              "      <th>4</th>\n",
              "      <td>22</td>\n",
              "      <td>1</td>\n",
              "    </tr>\n",
              "    <tr>\n",
              "      <th>...</th>\n",
              "      <td>...</td>\n",
              "      <td>...</td>\n",
              "    </tr>\n",
              "    <tr>\n",
              "      <th>73</th>\n",
              "      <td>91</td>\n",
              "      <td>1</td>\n",
              "    </tr>\n",
              "    <tr>\n",
              "      <th>74</th>\n",
              "      <td>92</td>\n",
              "      <td>1</td>\n",
              "    </tr>\n",
              "    <tr>\n",
              "      <th>75</th>\n",
              "      <td>93</td>\n",
              "      <td>1</td>\n",
              "    </tr>\n",
              "    <tr>\n",
              "      <th>76</th>\n",
              "      <td>94</td>\n",
              "      <td>1</td>\n",
              "    </tr>\n",
              "    <tr>\n",
              "      <th>77</th>\n",
              "      <td>95</td>\n",
              "      <td>1</td>\n",
              "    </tr>\n",
              "  </tbody>\n",
              "</table>\n",
              "<p>78 rows × 2 columns</p>\n",
              "</div>"
            ],
            "text/plain": [
              "    ageph  expo\n",
              "0      18     1\n",
              "1      19     1\n",
              "2      20     1\n",
              "3      21     1\n",
              "4      22     1\n",
              "..    ...   ...\n",
              "73     91     1\n",
              "74     92     1\n",
              "75     93     1\n",
              "76     94     1\n",
              "77     95     1\n",
              "\n",
              "[78 rows x 2 columns]"
            ]
          },
          "metadata": {},
          "execution_count": 12
        }
      ]
    },
    {
      "cell_type": "markdown",
      "metadata": {
        "id": "V4iNKTu0t4AJ"
      },
      "source": [
        "We are now ready to use the `predict` functionality that comes with the fitted GLM object `freq_glm_age`. We predict the expected claim frequencies for the risk profiles stored in `df`. "
      ]
    },
    {
      "cell_type": "code",
      "metadata": {
        "colab": {
          "base_uri": "https://localhost:8080/"
        },
        "id": "YJcplcD6hy7U",
        "outputId": "9dace083-9cee-4cde-afd4-21905f70adc7"
      },
      "source": [
        "pred_glm_age = freq_glm_age.predict(df)\n",
        "pred_glm_age"
      ],
      "execution_count": null,
      "outputs": [
        {
          "output_type": "execute_result",
          "data": {
            "text/plain": [
              "0     0.218437\n",
              "1     0.214914\n",
              "2     0.211449\n",
              "3     0.208039\n",
              "4     0.204684\n",
              "        ...   \n",
              "73    0.066663\n",
              "74    0.065588\n",
              "75    0.064530\n",
              "76    0.063490\n",
              "77    0.062466\n",
              "Length: 78, dtype: float64"
            ]
          },
          "metadata": {},
          "execution_count": 13
        }
      ]
    },
    {
      "cell_type": "code",
      "metadata": {
        "colab": {
          "base_uri": "https://localhost:8080/",
          "height": 419
        },
        "id": "cyA3rso6iRWA",
        "outputId": "c3fcd260-ca25-4e67-d853-ebeeb65f76dd"
      },
      "source": [
        "df[\"pred\"] = pred_glm_age\n",
        "df"
      ],
      "execution_count": null,
      "outputs": [
        {
          "output_type": "execute_result",
          "data": {
            "text/html": [
              "<div>\n",
              "<style scoped>\n",
              "    .dataframe tbody tr th:only-of-type {\n",
              "        vertical-align: middle;\n",
              "    }\n",
              "\n",
              "    .dataframe tbody tr th {\n",
              "        vertical-align: top;\n",
              "    }\n",
              "\n",
              "    .dataframe thead th {\n",
              "        text-align: right;\n",
              "    }\n",
              "</style>\n",
              "<table border=\"1\" class=\"dataframe\">\n",
              "  <thead>\n",
              "    <tr style=\"text-align: right;\">\n",
              "      <th></th>\n",
              "      <th>ageph</th>\n",
              "      <th>expo</th>\n",
              "      <th>pred</th>\n",
              "    </tr>\n",
              "  </thead>\n",
              "  <tbody>\n",
              "    <tr>\n",
              "      <th>0</th>\n",
              "      <td>18</td>\n",
              "      <td>1</td>\n",
              "      <td>0.218437</td>\n",
              "    </tr>\n",
              "    <tr>\n",
              "      <th>1</th>\n",
              "      <td>19</td>\n",
              "      <td>1</td>\n",
              "      <td>0.214914</td>\n",
              "    </tr>\n",
              "    <tr>\n",
              "      <th>2</th>\n",
              "      <td>20</td>\n",
              "      <td>1</td>\n",
              "      <td>0.211449</td>\n",
              "    </tr>\n",
              "    <tr>\n",
              "      <th>3</th>\n",
              "      <td>21</td>\n",
              "      <td>1</td>\n",
              "      <td>0.208039</td>\n",
              "    </tr>\n",
              "    <tr>\n",
              "      <th>4</th>\n",
              "      <td>22</td>\n",
              "      <td>1</td>\n",
              "      <td>0.204684</td>\n",
              "    </tr>\n",
              "    <tr>\n",
              "      <th>...</th>\n",
              "      <td>...</td>\n",
              "      <td>...</td>\n",
              "      <td>...</td>\n",
              "    </tr>\n",
              "    <tr>\n",
              "      <th>73</th>\n",
              "      <td>91</td>\n",
              "      <td>1</td>\n",
              "      <td>0.066663</td>\n",
              "    </tr>\n",
              "    <tr>\n",
              "      <th>74</th>\n",
              "      <td>92</td>\n",
              "      <td>1</td>\n",
              "      <td>0.065588</td>\n",
              "    </tr>\n",
              "    <tr>\n",
              "      <th>75</th>\n",
              "      <td>93</td>\n",
              "      <td>1</td>\n",
              "      <td>0.064530</td>\n",
              "    </tr>\n",
              "    <tr>\n",
              "      <th>76</th>\n",
              "      <td>94</td>\n",
              "      <td>1</td>\n",
              "      <td>0.063490</td>\n",
              "    </tr>\n",
              "    <tr>\n",
              "      <th>77</th>\n",
              "      <td>95</td>\n",
              "      <td>1</td>\n",
              "      <td>0.062466</td>\n",
              "    </tr>\n",
              "  </tbody>\n",
              "</table>\n",
              "<p>78 rows × 3 columns</p>\n",
              "</div>"
            ],
            "text/plain": [
              "    ageph  expo      pred\n",
              "0      18     1  0.218437\n",
              "1      19     1  0.214914\n",
              "2      20     1  0.211449\n",
              "3      21     1  0.208039\n",
              "4      22     1  0.204684\n",
              "..    ...   ...       ...\n",
              "73     91     1  0.066663\n",
              "74     92     1  0.065588\n",
              "75     93     1  0.064530\n",
              "76     94     1  0.063490\n",
              "77     95     1  0.062466\n",
              "\n",
              "[78 rows x 3 columns]"
            ]
          },
          "metadata": {},
          "execution_count": 14
        }
      ]
    },
    {
      "cell_type": "markdown",
      "metadata": {
        "id": "eY1rZor6yVah"
      },
      "source": [
        "We visualize the predicted claim frequencies versus age of the policyholder."
      ]
    },
    {
      "cell_type": "code",
      "metadata": {
        "colab": {
          "base_uri": "https://localhost:8080/",
          "height": 334
        },
        "id": "551IvoyIiiho",
        "outputId": "80d16f04-3c92-45af-ba3d-7d2604143da7"
      },
      "source": [
        "plt.figure(figsize=(10, 5))\n",
        "sns.lineplot(data=df, x=\"ageph\", y=\"pred\")\n",
        "plt.ylabel(\"Prediction\")\n",
        "plt.show()"
      ],
      "execution_count": null,
      "outputs": [
        {
          "output_type": "display_data",
          "data": {
            "image/png": "[encoded data removed]",
            "text/plain": [
              "<Figure size 720x360 with 1 Axes>"
            ]
          },
          "metadata": {
            "needs_background": "light"
          }
        }
      ]
    },
    {
      "cell_type": "markdown",
      "metadata": {
        "id": "GygZhywHymw9"
      },
      "source": [
        "## 3.3 A GLM with a binned continuous variable <a name=\"three-three\"></a>"
      ]
    },
    {
      "cell_type": "markdown",
      "metadata": {
        "id": "0-3fvc1ey5aR"
      },
      "source": [
        "In pricing models we often bin a continuous variable so that a factor variable results. The resulting factor variable can then be used in a GLM. The advantage is that - with these factor variables - the resulting pricing model can be summarized in a tariff table, a table with the expected frequency, the expected severity or the technical premium (i.e. product of expected frequency and expected severity) per risk profile.  "
      ]
    },
    {
      "cell_type": "markdown",
      "metadata": {
        "id": "9u_dVZynzvHE"
      },
      "source": [
        "We demonstrate the use of `cut(.)` from the {pandas} library to bin the continuous variable `ageph`. Details about this function are [here](https://pandas.pydata.org/pandas-docs/stable/reference/api/pandas.cut.html)."
      ]
    },
    {
      "cell_type": "code",
      "metadata": {
        "colab": {
          "base_uri": "https://localhost:8080/"
        },
        "id": "mujDubfpi9Gl",
        "outputId": "c826fd75-9bae-411c-c021-24877351d0f5"
      },
      "source": [
        "ageph_cat = pd.cut(mtpl.ageph, bins = 10, include_lowest = True)\n",
        "ageph_cat"
      ],
      "execution_count": null,
      "outputs": [
        {
          "output_type": "execute_result",
          "data": {
            "text/plain": [
              "0                       (48.8, 56.5]\n",
              "1                       (56.5, 64.2]\n",
              "2                       (56.5, 64.2]\n",
              "3                       (71.9, 79.6]\n",
              "4                       (25.7, 33.4]\n",
              "                     ...            \n",
              "163226                  (33.4, 41.1]\n",
              "163227                  (41.1, 48.8]\n",
              "163228                  (48.8, 56.5]\n",
              "163229                  (41.1, 48.8]\n",
              "163230    (17.921999999999997, 25.7]\n",
              "Name: ageph, Length: 163231, dtype: category\n",
              "Categories (10, interval[float64]): [(17.921999999999997, 25.7] < (25.7, 33.4] < (33.4, 41.1] < (41.1, 48.8] < ... <\n",
              "                                     (64.2, 71.9] < (71.9, 79.6] < (79.6, 87.3] < (87.3, 95.0]]"
            ]
          },
          "metadata": {},
          "execution_count": 16
        }
      ]
    },
    {
      "cell_type": "markdown",
      "metadata": {
        "id": "va9ewPVZ0GfJ"
      },
      "source": [
        "We add the resulting variable to the `mtpl` DataFrame."
      ]
    },
    {
      "cell_type": "code",
      "metadata": {
        "id": "HUzSxA4AdbKj",
        "colab": {
          "base_uri": "https://localhost:8080/",
          "height": 419
        },
        "outputId": "5ef2efab-a1d0-4e7f-89ab-c3dccb6e2f25"
      },
      "source": [
        "ageph_cat= ageph_cat.rename(\"ageph_cat\")\n",
        "mtpl = pd.concat([mtpl, ageph_cat], axis = 1)\n",
        "mtpl"
      ],
      "execution_count": null,
      "outputs": [
        {
          "output_type": "execute_result",
          "data": {
            "text/html": [
              "<div>\n",
              "<style scoped>\n",
              "    .dataframe tbody tr th:only-of-type {\n",
              "        vertical-align: middle;\n",
              "    }\n",
              "\n",
              "    .dataframe tbody tr th {\n",
              "        vertical-align: top;\n",
              "    }\n",
              "\n",
              "    .dataframe thead th {\n",
              "        text-align: right;\n",
              "    }\n",
              "</style>\n",
              "<table border=\"1\" class=\"dataframe\">\n",
              "  <thead>\n",
              "    <tr style=\"text-align: right;\">\n",
              "      <th></th>\n",
              "      <th>id</th>\n",
              "      <th>nclaims</th>\n",
              "      <th>amount</th>\n",
              "      <th>avg</th>\n",
              "      <th>expo</th>\n",
              "      <th>coverage</th>\n",
              "      <th>fuel</th>\n",
              "      <th>use</th>\n",
              "      <th>fleet</th>\n",
              "      <th>sex</th>\n",
              "      <th>ageph</th>\n",
              "      <th>bm</th>\n",
              "      <th>agec</th>\n",
              "      <th>power</th>\n",
              "      <th>pc</th>\n",
              "      <th>town</th>\n",
              "      <th>long</th>\n",
              "      <th>lat</th>\n",
              "      <th>ageph_cat</th>\n",
              "    </tr>\n",
              "  </thead>\n",
              "  <tbody>\n",
              "    <tr>\n",
              "      <th>0</th>\n",
              "      <td>1</td>\n",
              "      <td>1</td>\n",
              "      <td>1618.001036</td>\n",
              "      <td>1618.001036</td>\n",
              "      <td>1.000000</td>\n",
              "      <td>TPL</td>\n",
              "      <td>gasoline</td>\n",
              "      <td>private</td>\n",
              "      <td>N</td>\n",
              "      <td>male</td>\n",
              "      <td>50</td>\n",
              "      <td>5</td>\n",
              "      <td>12</td>\n",
              "      <td>77</td>\n",
              "      <td>1000</td>\n",
              "      <td>BRUSSEL</td>\n",
              "      <td>4.355223</td>\n",
              "      <td>50.845386</td>\n",
              "      <td>(48.8, 56.5]</td>\n",
              "    </tr>\n",
              "    <tr>\n",
              "      <th>1</th>\n",
              "      <td>2</td>\n",
              "      <td>0</td>\n",
              "      <td>0.000000</td>\n",
              "      <td>NaN</td>\n",
              "      <td>1.000000</td>\n",
              "      <td>PO</td>\n",
              "      <td>gasoline</td>\n",
              "      <td>private</td>\n",
              "      <td>N</td>\n",
              "      <td>female</td>\n",
              "      <td>64</td>\n",
              "      <td>5</td>\n",
              "      <td>3</td>\n",
              "      <td>66</td>\n",
              "      <td>1000</td>\n",
              "      <td>BRUSSEL</td>\n",
              "      <td>4.355223</td>\n",
              "      <td>50.845386</td>\n",
              "      <td>(56.5, 64.2]</td>\n",
              "    </tr>\n",
              "    <tr>\n",
              "      <th>2</th>\n",
              "      <td>3</td>\n",
              "      <td>0</td>\n",
              "      <td>0.000000</td>\n",
              "      <td>NaN</td>\n",
              "      <td>1.000000</td>\n",
              "      <td>TPL</td>\n",
              "      <td>diesel</td>\n",
              "      <td>private</td>\n",
              "      <td>N</td>\n",
              "      <td>male</td>\n",
              "      <td>60</td>\n",
              "      <td>0</td>\n",
              "      <td>10</td>\n",
              "      <td>70</td>\n",
              "      <td>1000</td>\n",
              "      <td>BRUSSEL</td>\n",
              "      <td>4.355223</td>\n",
              "      <td>50.845386</td>\n",
              "      <td>(56.5, 64.2]</td>\n",
              "    </tr>\n",
              "    <tr>\n",
              "      <th>3</th>\n",
              "      <td>4</td>\n",
              "      <td>0</td>\n",
              "      <td>0.000000</td>\n",
              "      <td>NaN</td>\n",
              "      <td>1.000000</td>\n",
              "      <td>TPL</td>\n",
              "      <td>gasoline</td>\n",
              "      <td>private</td>\n",
              "      <td>N</td>\n",
              "      <td>male</td>\n",
              "      <td>77</td>\n",
              "      <td>0</td>\n",
              "      <td>15</td>\n",
              "      <td>57</td>\n",
              "      <td>1000</td>\n",
              "      <td>BRUSSEL</td>\n",
              "      <td>4.355223</td>\n",
              "      <td>50.845386</td>\n",
              "      <td>(71.9, 79.6]</td>\n",
              "    </tr>\n",
              "    <tr>\n",
              "      <th>4</th>\n",
              "      <td>5</td>\n",
              "      <td>1</td>\n",
              "      <td>155.974606</td>\n",
              "      <td>155.974606</td>\n",
              "      <td>0.046575</td>\n",
              "      <td>TPL</td>\n",
              "      <td>gasoline</td>\n",
              "      <td>private</td>\n",
              "      <td>N</td>\n",
              "      <td>female</td>\n",
              "      <td>28</td>\n",
              "      <td>9</td>\n",
              "      <td>7</td>\n",
              "      <td>70</td>\n",
              "      <td>1000</td>\n",
              "      <td>BRUSSEL</td>\n",
              "      <td>4.355223</td>\n",
              "      <td>50.845386</td>\n",
              "      <td>(25.7, 33.4]</td>\n",
              "    </tr>\n",
              "    <tr>\n",
              "      <th>...</th>\n",
              "      <td>...</td>\n",
              "      <td>...</td>\n",
              "      <td>...</td>\n",
              "      <td>...</td>\n",
              "      <td>...</td>\n",
              "      <td>...</td>\n",
              "      <td>...</td>\n",
              "      <td>...</td>\n",
              "      <td>...</td>\n",
              "      <td>...</td>\n",
              "      <td>...</td>\n",
              "      <td>...</td>\n",
              "      <td>...</td>\n",
              "      <td>...</td>\n",
              "      <td>...</td>\n",
              "      <td>...</td>\n",
              "      <td>...</td>\n",
              "      <td>...</td>\n",
              "      <td>...</td>\n",
              "    </tr>\n",
              "    <tr>\n",
              "      <th>163226</th>\n",
              "      <td>163227</td>\n",
              "      <td>0</td>\n",
              "      <td>0.000000</td>\n",
              "      <td>NaN</td>\n",
              "      <td>1.000000</td>\n",
              "      <td>TPL</td>\n",
              "      <td>diesel</td>\n",
              "      <td>work</td>\n",
              "      <td>N</td>\n",
              "      <td>male</td>\n",
              "      <td>37</td>\n",
              "      <td>5</td>\n",
              "      <td>10</td>\n",
              "      <td>40</td>\n",
              "      <td>9990</td>\n",
              "      <td>MALDEGEM</td>\n",
              "      <td>3.421256</td>\n",
              "      <td>51.199975</td>\n",
              "      <td>(33.4, 41.1]</td>\n",
              "    </tr>\n",
              "    <tr>\n",
              "      <th>163227</th>\n",
              "      <td>163228</td>\n",
              "      <td>0</td>\n",
              "      <td>0.000000</td>\n",
              "      <td>NaN</td>\n",
              "      <td>1.000000</td>\n",
              "      <td>TPL</td>\n",
              "      <td>diesel</td>\n",
              "      <td>private</td>\n",
              "      <td>N</td>\n",
              "      <td>male</td>\n",
              "      <td>44</td>\n",
              "      <td>0</td>\n",
              "      <td>6</td>\n",
              "      <td>55</td>\n",
              "      <td>9990</td>\n",
              "      <td>MALDEGEM</td>\n",
              "      <td>3.421256</td>\n",
              "      <td>51.199975</td>\n",
              "      <td>(41.1, 48.8]</td>\n",
              "    </tr>\n",
              "    <tr>\n",
              "      <th>163228</th>\n",
              "      <td>163229</td>\n",
              "      <td>0</td>\n",
              "      <td>0.000000</td>\n",
              "      <td>NaN</td>\n",
              "      <td>1.000000</td>\n",
              "      <td>TPL</td>\n",
              "      <td>diesel</td>\n",
              "      <td>private</td>\n",
              "      <td>N</td>\n",
              "      <td>male</td>\n",
              "      <td>50</td>\n",
              "      <td>0</td>\n",
              "      <td>10</td>\n",
              "      <td>40</td>\n",
              "      <td>9990</td>\n",
              "      <td>MALDEGEM</td>\n",
              "      <td>3.421256</td>\n",
              "      <td>51.199975</td>\n",
              "      <td>(48.8, 56.5]</td>\n",
              "    </tr>\n",
              "    <tr>\n",
              "      <th>163229</th>\n",
              "      <td>163230</td>\n",
              "      <td>0</td>\n",
              "      <td>0.000000</td>\n",
              "      <td>NaN</td>\n",
              "      <td>1.000000</td>\n",
              "      <td>TPL</td>\n",
              "      <td>gasoline</td>\n",
              "      <td>private</td>\n",
              "      <td>N</td>\n",
              "      <td>male</td>\n",
              "      <td>43</td>\n",
              "      <td>0</td>\n",
              "      <td>7</td>\n",
              "      <td>66</td>\n",
              "      <td>9990</td>\n",
              "      <td>MALDEGEM</td>\n",
              "      <td>3.421256</td>\n",
              "      <td>51.199975</td>\n",
              "      <td>(41.1, 48.8]</td>\n",
              "    </tr>\n",
              "    <tr>\n",
              "      <th>163230</th>\n",
              "      <td>163231</td>\n",
              "      <td>2</td>\n",
              "      <td>13818.229594</td>\n",
              "      <td>6909.114797</td>\n",
              "      <td>1.000000</td>\n",
              "      <td>FO</td>\n",
              "      <td>gasoline</td>\n",
              "      <td>private</td>\n",
              "      <td>N</td>\n",
              "      <td>male</td>\n",
              "      <td>24</td>\n",
              "      <td>6</td>\n",
              "      <td>2</td>\n",
              "      <td>47</td>\n",
              "      <td>9990</td>\n",
              "      <td>MALDEGEM</td>\n",
              "      <td>3.421256</td>\n",
              "      <td>51.199975</td>\n",
              "      <td>(17.921999999999997, 25.7]</td>\n",
              "    </tr>\n",
              "  </tbody>\n",
              "</table>\n",
              "<p>163231 rows × 19 columns</p>\n",
              "</div>"
            ],
            "text/plain": [
              "            id  nclaims  ...        lat                   ageph_cat\n",
              "0            1        1  ...  50.845386                (48.8, 56.5]\n",
              "1            2        0  ...  50.845386                (56.5, 64.2]\n",
              "2            3        0  ...  50.845386                (56.5, 64.2]\n",
              "3            4        0  ...  50.845386                (71.9, 79.6]\n",
              "4            5        1  ...  50.845386                (25.7, 33.4]\n",
              "...        ...      ...  ...        ...                         ...\n",
              "163226  163227        0  ...  51.199975                (33.4, 41.1]\n",
              "163227  163228        0  ...  51.199975                (41.1, 48.8]\n",
              "163228  163229        0  ...  51.199975                (48.8, 56.5]\n",
              "163229  163230        0  ...  51.199975                (41.1, 48.8]\n",
              "163230  163231        2  ...  51.199975  (17.921999999999997, 25.7]\n",
              "\n",
              "[163231 rows x 19 columns]"
            ]
          },
          "metadata": {},
          "execution_count": 17
        }
      ]
    },
    {
      "cell_type": "markdown",
      "metadata": {
        "id": "gCQp6l8-0jEt"
      },
      "source": [
        "We are now ready to fit a Poisson GLM for `nclaims` with the binned age of the policyholder variable as covariate. We store the fitted GLM as `freq_glm_age_cat`."
      ]
    },
    {
      "cell_type": "code",
      "metadata": {
        "colab": {
          "base_uri": "https://localhost:8080/"
        },
        "id": "yu-a6O_CjWm2",
        "outputId": "d5b0ada5-a2b9-4c6b-c934-4e0c3201c366"
      },
      "source": [
        "freq_glm_age_cat = smf.glm('nclaims ~ ageph_cat', data=mtpl, exposure=mtpl.expo, family=sm.families.Poisson(link=sm.families.links.log())).fit()\n",
        "print(freq_glm_age_cat.summary())"
      ],
      "execution_count": null,
      "outputs": [
        {
          "output_type": "stream",
          "name": "stdout",
          "text": [
            "                 Generalized Linear Model Regression Results                  \n",
            "==============================================================================\n",
            "Dep. Variable:                nclaims   No. Observations:               163231\n",
            "Model:                            GLM   Df Residuals:                   163221\n",
            "Model Family:                 Poisson   Df Model:                            9\n",
            "Link Function:                    log   Scale:                          1.0000\n",
            "Method:                          IRLS   Log-Likelihood:                -63218.\n",
            "Date:                Mon, 15 Nov 2021   Deviance:                       88706.\n",
            "Time:                        19:21:13   Pearson chi2:                 1.96e+05\n",
            "No. Iterations:                     6                                         \n",
            "Covariance Type:            nonrobust                                         \n",
            "=====================================================================================================================\n",
            "                                                        coef    std err          z      P>|z|      [0.025      0.975]\n",
            "---------------------------------------------------------------------------------------------------------------------\n",
            "Intercept                                            -1.3792      0.024    -58.219      0.000      -1.426      -1.333\n",
            "ageph_cat[T.Interval(25.7, 33.4, closed='right')]    -0.3428      0.028    -12.103      0.000      -0.398      -0.287\n",
            "ageph_cat[T.Interval(33.4, 41.1, closed='right')]    -0.5576      0.029    -19.449      0.000      -0.614      -0.501\n",
            "ageph_cat[T.Interval(41.1, 48.8, closed='right')]    -0.6033      0.029    -20.500      0.000      -0.661      -0.546\n",
            "ageph_cat[T.Interval(48.8, 56.5, closed='right')]    -0.6809      0.030    -22.720      0.000      -0.740      -0.622\n",
            "ageph_cat[T.Interval(56.5, 64.2, closed='right')]    -0.8620      0.033    -26.078      0.000      -0.927      -0.797\n",
            "ageph_cat[T.Interval(64.2, 71.9, closed='right')]    -0.9364      0.036    -25.853      0.000      -1.007      -0.865\n",
            "ageph_cat[T.Interval(71.9, 79.6, closed='right')]    -0.9529      0.042    -22.600      0.000      -1.036      -0.870\n",
            "ageph_cat[T.Interval(79.6, 87.3, closed='right')]    -0.7585      0.079     -9.624      0.000      -0.913      -0.604\n",
            "ageph_cat[T.Interval(87.3, 95.0, closed='right')]    -0.6786      0.259     -2.617      0.009      -1.187      -0.170\n",
            "=====================================================================================================================\n"
          ]
        }
      ]
    },
    {
      "cell_type": "markdown",
      "metadata": {
        "id": "KNm8cbHV03U0"
      },
      "source": [
        "As before, we aim to visualize the fitted age effect. Hereto, we start from the grid of age values stored in `age` and bin these age values using the bins created for `ageph_cat`.   "
      ]
    },
    {
      "cell_type": "code",
      "metadata": {
        "colab": {
          "base_uri": "https://localhost:8080/"
        },
        "id": "pTfA3urFjr0B",
        "outputId": "39efb3e4-fc1d-4861-8455-ffcd42dd57d3"
      },
      "source": [
        "age_cat = pd.cut(age, bins = ageph_cat.cat.categories, include_lowest = True)\n",
        "age_cat"
      ],
      "execution_count": null,
      "outputs": [
        {
          "output_type": "execute_result",
          "data": {
            "text/plain": [
              "[(17.921999999999997, 25.7], (17.921999999999997, 25.7], (17.921999999999997, 25.7], (17.921999999999997, 25.7], (17.921999999999997, 25.7], ..., (87.3, 95.0], (87.3, 95.0], (87.3, 95.0], (87.3, 95.0], (87.3, 95.0]]\n",
              "Length: 78\n",
              "Categories (10, interval[float64]): [(17.921999999999997, 25.7] < (25.7, 33.4] < (33.4, 41.1] < (41.1, 48.8] < ... <\n",
              "                                     (64.2, 71.9] < (71.9, 79.6] < (79.6, 87.3] < (87.3, 95.0]]"
            ]
          },
          "metadata": {},
          "execution_count": 19
        }
      ]
    },
    {
      "cell_type": "markdown",
      "metadata": {
        "id": "z-ZJDQ_q1-w_"
      },
      "source": [
        "Next, we calculate the expected yearly claim frequency for each age value in the grid `age` using the GLM stored in `freq_glm_age_cat`. "
      ]
    },
    {
      "cell_type": "code",
      "metadata": {
        "colab": {
          "base_uri": "https://localhost:8080/",
          "height": 419
        },
        "id": "E_qoHZl8jw-A",
        "outputId": "31def6b2-b20a-46b8-ad94-8e0cade69b09"
      },
      "source": [
        "df_cat = pd.DataFrame({'ageph':age, 'ageph_cat': age_cat, 'expo':expo})\n",
        "df_cat[\"pred\"] = freq_glm_age_cat.predict(df_cat)\n",
        "df_cat"
      ],
      "execution_count": null,
      "outputs": [
        {
          "output_type": "execute_result",
          "data": {
            "text/html": [
              "<div>\n",
              "<style scoped>\n",
              "    .dataframe tbody tr th:only-of-type {\n",
              "        vertical-align: middle;\n",
              "    }\n",
              "\n",
              "    .dataframe tbody tr th {\n",
              "        vertical-align: top;\n",
              "    }\n",
              "\n",
              "    .dataframe thead th {\n",
              "        text-align: right;\n",
              "    }\n",
              "</style>\n",
              "<table border=\"1\" class=\"dataframe\">\n",
              "  <thead>\n",
              "    <tr style=\"text-align: right;\">\n",
              "      <th></th>\n",
              "      <th>ageph</th>\n",
              "      <th>ageph_cat</th>\n",
              "      <th>expo</th>\n",
              "      <th>pred</th>\n",
              "    </tr>\n",
              "  </thead>\n",
              "  <tbody>\n",
              "    <tr>\n",
              "      <th>0</th>\n",
              "      <td>18</td>\n",
              "      <td>(17.921999999999997, 25.7]</td>\n",
              "      <td>1</td>\n",
              "      <td>0.251792</td>\n",
              "    </tr>\n",
              "    <tr>\n",
              "      <th>1</th>\n",
              "      <td>19</td>\n",
              "      <td>(17.921999999999997, 25.7]</td>\n",
              "      <td>1</td>\n",
              "      <td>0.251792</td>\n",
              "    </tr>\n",
              "    <tr>\n",
              "      <th>2</th>\n",
              "      <td>20</td>\n",
              "      <td>(17.921999999999997, 25.7]</td>\n",
              "      <td>1</td>\n",
              "      <td>0.251792</td>\n",
              "    </tr>\n",
              "    <tr>\n",
              "      <th>3</th>\n",
              "      <td>21</td>\n",
              "      <td>(17.921999999999997, 25.7]</td>\n",
              "      <td>1</td>\n",
              "      <td>0.251792</td>\n",
              "    </tr>\n",
              "    <tr>\n",
              "      <th>4</th>\n",
              "      <td>22</td>\n",
              "      <td>(17.921999999999997, 25.7]</td>\n",
              "      <td>1</td>\n",
              "      <td>0.251792</td>\n",
              "    </tr>\n",
              "    <tr>\n",
              "      <th>...</th>\n",
              "      <td>...</td>\n",
              "      <td>...</td>\n",
              "      <td>...</td>\n",
              "      <td>...</td>\n",
              "    </tr>\n",
              "    <tr>\n",
              "      <th>73</th>\n",
              "      <td>91</td>\n",
              "      <td>(87.3, 95.0]</td>\n",
              "      <td>1</td>\n",
              "      <td>0.127739</td>\n",
              "    </tr>\n",
              "    <tr>\n",
              "      <th>74</th>\n",
              "      <td>92</td>\n",
              "      <td>(87.3, 95.0]</td>\n",
              "      <td>1</td>\n",
              "      <td>0.127739</td>\n",
              "    </tr>\n",
              "    <tr>\n",
              "      <th>75</th>\n",
              "      <td>93</td>\n",
              "      <td>(87.3, 95.0]</td>\n",
              "      <td>1</td>\n",
              "      <td>0.127739</td>\n",
              "    </tr>\n",
              "    <tr>\n",
              "      <th>76</th>\n",
              "      <td>94</td>\n",
              "      <td>(87.3, 95.0]</td>\n",
              "      <td>1</td>\n",
              "      <td>0.127739</td>\n",
              "    </tr>\n",
              "    <tr>\n",
              "      <th>77</th>\n",
              "      <td>95</td>\n",
              "      <td>(87.3, 95.0]</td>\n",
              "      <td>1</td>\n",
              "      <td>0.127739</td>\n",
              "    </tr>\n",
              "  </tbody>\n",
              "</table>\n",
              "<p>78 rows × 4 columns</p>\n",
              "</div>"
            ],
            "text/plain": [
              "    ageph                   ageph_cat  expo      pred\n",
              "0      18  (17.921999999999997, 25.7]     1  0.251792\n",
              "1      19  (17.921999999999997, 25.7]     1  0.251792\n",
              "2      20  (17.921999999999997, 25.7]     1  0.251792\n",
              "3      21  (17.921999999999997, 25.7]     1  0.251792\n",
              "4      22  (17.921999999999997, 25.7]     1  0.251792\n",
              "..    ...                         ...   ...       ...\n",
              "73     91                (87.3, 95.0]     1  0.127739\n",
              "74     92                (87.3, 95.0]     1  0.127739\n",
              "75     93                (87.3, 95.0]     1  0.127739\n",
              "76     94                (87.3, 95.0]     1  0.127739\n",
              "77     95                (87.3, 95.0]     1  0.127739\n",
              "\n",
              "[78 rows x 4 columns]"
            ]
          },
          "metadata": {},
          "execution_count": 20
        }
      ]
    },
    {
      "cell_type": "markdown",
      "metadata": {
        "id": "5f3U11__1lol"
      },
      "source": [
        "Finally, we visualize the age effect as calibrated with the `freq_glm_age_cat` object. "
      ]
    },
    {
      "cell_type": "code",
      "metadata": {
        "colab": {
          "base_uri": "https://localhost:8080/",
          "height": 334
        },
        "id": "KXCA_IaukOtG",
        "outputId": "4e9419a7-9176-4ce6-f820-f591410681a4"
      },
      "source": [
        "plt.figure(figsize=(10,5));\n",
        "sns.lineplot(data = df_cat, x = \"ageph\", y = \"pred\")\n",
        "plt.ylabel(\"Prediction\")\n",
        "plt.show()"
      ],
      "execution_count": null,
      "outputs": [
        {
          "output_type": "display_data",
          "data": {
            "image/png": "[encoded data removed]",
            "text/plain": [
              "<Figure size 720x360 with 1 Axes>"
            ]
          },
          "metadata": {
            "needs_background": "light"
          }
        }
      ]
    },
    {
      "cell_type": "markdown",
      "metadata": {
        "id": "ERyPN140to10"
      },
      "source": [
        "## 3.4 A frequency GLM with mulitple features of various types <a name=\"three-four\"></a>"
      ]
    },
    {
      "cell_type": "markdown",
      "metadata": {
        "id": "DKfvzQpQ293G"
      },
      "source": [
        "Building upon our explorations with simple GLMs in Sections 3.1 - 3.3, we are now ready to fit a GLM with multiple features included.  "
      ]
    },
    {
      "cell_type": "code",
      "metadata": {
        "colab": {
          "base_uri": "https://localhost:8080/"
        },
        "id": "lKBHciSbttDn",
        "outputId": "6d0ba1f3-0656-480e-9426-9e529eae093e"
      },
      "source": [
        "freq_glm_cont = smf.glm('nclaims ~ coverage + fuel + use + fleet + sex + ageph + bm + power + agec', data = mtpl, exposure = mtpl.expo, family = sm.families.Poisson(link=sm.families.links.log())).fit()\n",
        "print(freq_glm_cont.summary())"
      ],
      "execution_count": null,
      "outputs": [
        {
          "output_type": "stream",
          "name": "stdout",
          "text": [
            "                 Generalized Linear Model Regression Results                  \n",
            "==============================================================================\n",
            "Dep. Variable:                nclaims   No. Observations:               163231\n",
            "Model:                            GLM   Df Residuals:                   163220\n",
            "Model Family:                 Poisson   Df Model:                           10\n",
            "Link Function:                    log   Scale:                          1.0000\n",
            "Method:                          IRLS   Log-Likelihood:                -62541.\n",
            "Date:                Mon, 15 Nov 2021   Deviance:                       87350.\n",
            "Time:                        19:21:32   Pearson chi2:                 1.91e+05\n",
            "No. Iterations:                     6                                         \n",
            "Covariance Type:            nonrobust                                         \n",
            "====================================================================================\n",
            "                       coef    std err          z      P>|z|      [0.025      0.975]\n",
            "------------------------------------------------------------------------------------\n",
            "Intercept           -1.9849      0.042    -47.378      0.000      -2.067      -1.903\n",
            "coverage[T.PO]      -0.0044      0.024     -0.181      0.856      -0.052       0.043\n",
            "coverage[T.TPL]      0.0700      0.024      2.923      0.003       0.023       0.117\n",
            "fuel[T.gasoline]    -0.1731      0.015    -11.294      0.000      -0.203      -0.143\n",
            "use[T.work]         -0.0863      0.033     -2.580      0.010      -0.152      -0.021\n",
            "fleet[T.Y]          -0.1226      0.044     -2.818      0.005      -0.208      -0.037\n",
            "sex[T.male]         -0.0253      0.016     -1.558      0.119      -0.057       0.007\n",
            "ageph               -0.0074      0.001    -13.776      0.000      -0.008      -0.006\n",
            "bm                   0.0639      0.002     36.890      0.000       0.061       0.067\n",
            "power                0.0039      0.000     10.142      0.000       0.003       0.005\n",
            "agec                -0.0005      0.002     -0.243      0.808      -0.004       0.003\n",
            "====================================================================================\n"
          ]
        }
      ]
    },
    {
      "cell_type": "markdown",
      "metadata": {
        "id": "c2bnyr7b3RvV"
      },
      "source": [
        "We bin the continuous variables `age`, `bm` and `power` using some prespecified bins. The paper [A data driven binning strategy for the construction of insurance tariff classes](https://papers.ssrn.com/sol3/papers.cfm?abstract_id=3052174) by Henckaerts et al. (2018) outlines a data driven strategy to find a suitable binning of the continuous risk factors."
      ]
    },
    {
      "cell_type": "code",
      "metadata": {
        "id": "NkcTgI_IttAg"
      },
      "source": [
        "mtpl['ageph_cat'] = pd.cut(mtpl.ageph, bins = [18,26,29,33,51,56,61,73,95], right = False, include_lowest = True)\n",
        "mtpl['bm_cat'] = pd.cut(mtpl.bm, bins = [0,1,2,3,7,9,11,22], right = False, include_lowest = True)\n",
        "mtpl['power_cat'] = pd.cut(mtpl.power, bins = [10,36,46,75,243], right = False, include_lowest = True)"
      ],
      "execution_count": null,
      "outputs": []
    },
    {
      "cell_type": "markdown",
      "metadata": {
        "id": "Vs3ZiCSX3d2k"
      },
      "source": [
        "We fit a Poisson GLM for `nclaims` using multiple covariates, all of type factor. We store the resulting GLM fit in `freq_glm_cat`."
      ]
    },
    {
      "cell_type": "code",
      "metadata": {
        "colab": {
          "base_uri": "https://localhost:8080/"
        },
        "id": "pViO7QVOts9O",
        "outputId": "bbc73edd-1222-4bad-b7a5-5dddaf4198b6"
      },
      "source": [
        "freq_glm_cat = smf.glm('nclaims ~ coverage + fuel + ageph_cat + bm_cat + power_cat', data = mtpl, exposure = mtpl.expo, family = sm.families.Poisson(link=sm.families.links.log())).fit()\n",
        "print(freq_glm_cat.summary())"
      ],
      "execution_count": null,
      "outputs": [
        {
          "output_type": "stream",
          "name": "stdout",
          "text": [
            "                 Generalized Linear Model Regression Results                  \n",
            "==============================================================================\n",
            "Dep. Variable:                nclaims   No. Observations:               163193\n",
            "Model:                            GLM   Df Residuals:                   163173\n",
            "Model Family:                 Poisson   Df Model:                           19\n",
            "Link Function:                    log   Scale:                          1.0000\n",
            "Method:                          IRLS   Log-Likelihood:                -62470.\n",
            "Date:                Mon, 15 Nov 2021   Deviance:                       87225.\n",
            "Time:                        19:23:45   Pearson chi2:                 1.90e+05\n",
            "No. Iterations:                     6                                         \n",
            "Covariance Type:            nonrobust                                         \n",
            "=================================================================================================================\n",
            "                                                    coef    std err          z      P>|z|      [0.025      0.975]\n",
            "-----------------------------------------------------------------------------------------------------------------\n",
            "Intercept                                        -2.1310      0.047    -45.437      0.000      -2.223      -2.039\n",
            "coverage[T.PO]                                   -0.0009      0.024     -0.040      0.968      -0.048       0.046\n",
            "coverage[T.TPL]                                   0.0706      0.022      3.248      0.001       0.028       0.113\n",
            "fuel[T.gasoline]                                 -0.1521      0.016     -9.739      0.000      -0.183      -0.121\n",
            "ageph_cat[T.Interval(26, 29, closed='left')]     -0.1034      0.035     -2.978      0.003      -0.171      -0.035\n",
            "ageph_cat[T.Interval(29, 33, closed='left')]     -0.1577      0.033     -4.737      0.000      -0.223      -0.092\n",
            "ageph_cat[T.Interval(33, 51, closed='left')]     -0.2100      0.028     -7.385      0.000      -0.266      -0.154\n",
            "ageph_cat[T.Interval(51, 56, closed='left')]     -0.2669      0.036     -7.459      0.000      -0.337      -0.197\n",
            "ageph_cat[T.Interval(56, 61, closed='left')]     -0.3648      0.039     -9.377      0.000      -0.441      -0.289\n",
            "ageph_cat[T.Interval(61, 73, closed='left')]     -0.4450      0.035    -12.884      0.000      -0.513      -0.377\n",
            "ageph_cat[T.Interval(73, 95, closed='left')]     -0.3760      0.044     -8.542      0.000      -0.462      -0.290\n",
            "bm_cat[T.Interval(1, 2, closed='left')]           0.1253      0.023      5.459      0.000       0.080       0.170\n",
            "bm_cat[T.Interval(2, 3, closed='left')]           0.1933      0.033      5.833      0.000       0.128       0.258\n",
            "bm_cat[T.Interval(3, 7, closed='left')]           0.3575      0.021     16.846      0.000       0.316       0.399\n",
            "bm_cat[T.Interval(7, 9, closed='left')]           0.5177      0.030     17.428      0.000       0.460       0.576\n",
            "bm_cat[T.Interval(9, 11, closed='left')]          0.5822      0.027     21.626      0.000       0.529       0.635\n",
            "bm_cat[T.Interval(11, 22, closed='left')]         0.8489      0.026     33.132      0.000       0.799       0.899\n",
            "power_cat[T.Interval(36, 46, closed='left')]      0.1397      0.030      4.601      0.000       0.080       0.199\n",
            "power_cat[T.Interval(46, 75, closed='left')]      0.2006      0.029      6.871      0.000       0.143       0.258\n",
            "power_cat[T.Interval(75, 243, closed='left')]     0.3186      0.032      9.816      0.000       0.255       0.382\n",
            "=================================================================================================================\n"
          ]
        }
      ]
    },
    {
      "cell_type": "markdown",
      "metadata": {
        "id": "QI2h1bTX3v5g"
      },
      "source": [
        "Finally, we demonstrate how to change the reference level of a factor variable, when dummy coding is used.  "
      ]
    },
    {
      "cell_type": "code",
      "metadata": {
        "colab": {
          "base_uri": "https://localhost:8080/"
        },
        "id": "0GodGdpyts58",
        "outputId": "901b3944-b147-4287-9132-1c947cf4daec"
      },
      "source": [
        "freq_glm_cat_ref = smf.glm('nclaims ~ C(coverage, Treatment(reference=\"TPL\")) + C(fuel, Treatment(reference=\"gasoline\")) + ageph_cat + bm_cat + power_cat', data = mtpl, exposure = mtpl.expo, family = sm.families.Poisson(link=sm.families.links.log())).fit()\n",
        "print(freq_glm_cat_ref.summary())"
      ],
      "execution_count": null,
      "outputs": [
        {
          "output_type": "stream",
          "name": "stdout",
          "text": [
            "                 Generalized Linear Model Regression Results                  \n",
            "==============================================================================\n",
            "Dep. Variable:                nclaims   No. Observations:               163193\n",
            "Model:                            GLM   Df Residuals:                   163173\n",
            "Model Family:                 Poisson   Df Model:                           19\n",
            "Link Function:                    log   Scale:                          1.0000\n",
            "Method:                          IRLS   Log-Likelihood:                -62470.\n",
            "Date:                Mon, 15 Nov 2021   Deviance:                       87225.\n",
            "Time:                        19:24:01   Pearson chi2:                 1.90e+05\n",
            "No. Iterations:                     6                                         \n",
            "Covariance Type:            nonrobust                                         \n",
            "======================================================================================================================\n",
            "                                                         coef    std err          z      P>|z|      [0.025      0.975]\n",
            "----------------------------------------------------------------------------------------------------------------------\n",
            "Intercept                                             -2.2125      0.040    -54.739      0.000      -2.292      -2.133\n",
            "C(coverage, Treatment(reference=\"TPL\"))[T.FO]         -0.0706      0.022     -3.248      0.001      -0.113      -0.028\n",
            "C(coverage, Treatment(reference=\"TPL\"))[T.PO]         -0.0715      0.017     -4.310      0.000      -0.104      -0.039\n",
            "C(fuel, Treatment(reference=\"gasoline\"))[T.diesel]     0.1521      0.016      9.739      0.000       0.121       0.183\n",
            "ageph_cat[T.Interval(26, 29, closed='left')]          -0.1034      0.035     -2.978      0.003      -0.171      -0.035\n",
            "ageph_cat[T.Interval(29, 33, closed='left')]          -0.1577      0.033     -4.737      0.000      -0.223      -0.092\n",
            "ageph_cat[T.Interval(33, 51, closed='left')]          -0.2100      0.028     -7.385      0.000      -0.266      -0.154\n",
            "ageph_cat[T.Interval(51, 56, closed='left')]          -0.2669      0.036     -7.459      0.000      -0.337      -0.197\n",
            "ageph_cat[T.Interval(56, 61, closed='left')]          -0.3648      0.039     -9.377      0.000      -0.441      -0.289\n",
            "ageph_cat[T.Interval(61, 73, closed='left')]          -0.4450      0.035    -12.884      0.000      -0.513      -0.377\n",
            "ageph_cat[T.Interval(73, 95, closed='left')]          -0.3760      0.044     -8.542      0.000      -0.462      -0.290\n",
            "bm_cat[T.Interval(1, 2, closed='left')]                0.1253      0.023      5.459      0.000       0.080       0.170\n",
            "bm_cat[T.Interval(2, 3, closed='left')]                0.1933      0.033      5.833      0.000       0.128       0.258\n",
            "bm_cat[T.Interval(3, 7, closed='left')]                0.3575      0.021     16.846      0.000       0.316       0.399\n",
            "bm_cat[T.Interval(7, 9, closed='left')]                0.5177      0.030     17.428      0.000       0.460       0.576\n",
            "bm_cat[T.Interval(9, 11, closed='left')]               0.5822      0.027     21.626      0.000       0.529       0.635\n",
            "bm_cat[T.Interval(11, 22, closed='left')]              0.8489      0.026     33.132      0.000       0.799       0.899\n",
            "power_cat[T.Interval(36, 46, closed='left')]           0.1397      0.030      4.601      0.000       0.080       0.199\n",
            "power_cat[T.Interval(46, 75, closed='left')]           0.2006      0.029      6.871      0.000       0.143       0.258\n",
            "power_cat[T.Interval(75, 243, closed='left')]          0.3186      0.032      9.816      0.000       0.255       0.382\n",
            "======================================================================================================================\n"
          ]
        }
      ]
    },
    {
      "cell_type": "code",
      "metadata": {
        "colab": {
          "base_uri": "https://localhost:8080/",
          "height": 359
        },
        "id": "UKfgFDTKts2w",
        "outputId": "a838d8cb-f740-4f8d-b534-ab39f2e37bb2"
      },
      "source": [
        "mtpl[\"pred_cont\"] = freq_glm_cont.predict(mtpl)\n",
        "mtpl[\"pred_cat\"] = freq_glm_cat.predict(mtpl)\n",
        "mtpl.head(10)"
      ],
      "execution_count": null,
      "outputs": [
        {
          "output_type": "execute_result",
          "data": {
            "text/html": [
              "<div>\n",
              "<style scoped>\n",
              "    .dataframe tbody tr th:only-of-type {\n",
              "        vertical-align: middle;\n",
              "    }\n",
              "\n",
              "    .dataframe tbody tr th {\n",
              "        vertical-align: top;\n",
              "    }\n",
              "\n",
              "    .dataframe thead th {\n",
              "        text-align: right;\n",
              "    }\n",
              "</style>\n",
              "<table border=\"1\" class=\"dataframe\">\n",
              "  <thead>\n",
              "    <tr style=\"text-align: right;\">\n",
              "      <th></th>\n",
              "      <th>id</th>\n",
              "      <th>nclaims</th>\n",
              "      <th>amount</th>\n",
              "      <th>avg</th>\n",
              "      <th>expo</th>\n",
              "      <th>coverage</th>\n",
              "      <th>fuel</th>\n",
              "      <th>use</th>\n",
              "      <th>fleet</th>\n",
              "      <th>sex</th>\n",
              "      <th>ageph</th>\n",
              "      <th>bm</th>\n",
              "      <th>agec</th>\n",
              "      <th>power</th>\n",
              "      <th>pc</th>\n",
              "      <th>town</th>\n",
              "      <th>long</th>\n",
              "      <th>lat</th>\n",
              "      <th>ageph_cat</th>\n",
              "      <th>bm_cat</th>\n",
              "      <th>power_cat</th>\n",
              "      <th>pred_cont</th>\n",
              "      <th>pred_cat</th>\n",
              "    </tr>\n",
              "  </thead>\n",
              "  <tbody>\n",
              "    <tr>\n",
              "      <th>0</th>\n",
              "      <td>1</td>\n",
              "      <td>1</td>\n",
              "      <td>1618.001036</td>\n",
              "      <td>1618.001036</td>\n",
              "      <td>1.000000</td>\n",
              "      <td>TPL</td>\n",
              "      <td>gasoline</td>\n",
              "      <td>private</td>\n",
              "      <td>N</td>\n",
              "      <td>male</td>\n",
              "      <td>50</td>\n",
              "      <td>5</td>\n",
              "      <td>12</td>\n",
              "      <td>77</td>\n",
              "      <td>1000</td>\n",
              "      <td>BRUSSEL</td>\n",
              "      <td>4.355223</td>\n",
              "      <td>50.845386</td>\n",
              "      <td>[33, 51)</td>\n",
              "      <td>[3, 7)</td>\n",
              "      <td>[75, 243)</td>\n",
              "      <td>0.153517</td>\n",
              "      <td>0.174404</td>\n",
              "    </tr>\n",
              "    <tr>\n",
              "      <th>1</th>\n",
              "      <td>2</td>\n",
              "      <td>0</td>\n",
              "      <td>0.000000</td>\n",
              "      <td>NaN</td>\n",
              "      <td>1.000000</td>\n",
              "      <td>PO</td>\n",
              "      <td>gasoline</td>\n",
              "      <td>private</td>\n",
              "      <td>N</td>\n",
              "      <td>female</td>\n",
              "      <td>64</td>\n",
              "      <td>5</td>\n",
              "      <td>3</td>\n",
              "      <td>66</td>\n",
              "      <td>1000</td>\n",
              "      <td>BRUSSEL</td>\n",
              "      <td>4.355223</td>\n",
              "      <td>50.845386</td>\n",
              "      <td>[61, 73)</td>\n",
              "      <td>[3, 7)</td>\n",
              "      <td>[46, 75)</td>\n",
              "      <td>0.126802</td>\n",
              "      <td>0.114068</td>\n",
              "    </tr>\n",
              "    <tr>\n",
              "      <th>2</th>\n",
              "      <td>3</td>\n",
              "      <td>0</td>\n",
              "      <td>0.000000</td>\n",
              "      <td>NaN</td>\n",
              "      <td>1.000000</td>\n",
              "      <td>TPL</td>\n",
              "      <td>diesel</td>\n",
              "      <td>private</td>\n",
              "      <td>N</td>\n",
              "      <td>male</td>\n",
              "      <td>60</td>\n",
              "      <td>0</td>\n",
              "      <td>10</td>\n",
              "      <td>70</td>\n",
              "      <td>1000</td>\n",
              "      <td>BRUSSEL</td>\n",
              "      <td>4.355223</td>\n",
              "      <td>50.845386</td>\n",
              "      <td>[56, 61)</td>\n",
              "      <td>[0, 1)</td>\n",
              "      <td>[46, 75)</td>\n",
              "      <td>0.119941</td>\n",
              "      <td>0.108107</td>\n",
              "    </tr>\n",
              "    <tr>\n",
              "      <th>3</th>\n",
              "      <td>4</td>\n",
              "      <td>0</td>\n",
              "      <td>0.000000</td>\n",
              "      <td>NaN</td>\n",
              "      <td>1.000000</td>\n",
              "      <td>TPL</td>\n",
              "      <td>gasoline</td>\n",
              "      <td>private</td>\n",
              "      <td>N</td>\n",
              "      <td>male</td>\n",
              "      <td>77</td>\n",
              "      <td>0</td>\n",
              "      <td>15</td>\n",
              "      <td>57</td>\n",
              "      <td>1000</td>\n",
              "      <td>BRUSSEL</td>\n",
              "      <td>4.355223</td>\n",
              "      <td>50.845386</td>\n",
              "      <td>[73, 95)</td>\n",
              "      <td>[0, 1)</td>\n",
              "      <td>[46, 75)</td>\n",
              "      <td>0.084369</td>\n",
              "      <td>0.091817</td>\n",
              "    </tr>\n",
              "    <tr>\n",
              "      <th>4</th>\n",
              "      <td>5</td>\n",
              "      <td>1</td>\n",
              "      <td>155.974606</td>\n",
              "      <td>155.974606</td>\n",
              "      <td>0.046575</td>\n",
              "      <td>TPL</td>\n",
              "      <td>gasoline</td>\n",
              "      <td>private</td>\n",
              "      <td>N</td>\n",
              "      <td>female</td>\n",
              "      <td>28</td>\n",
              "      <td>9</td>\n",
              "      <td>7</td>\n",
              "      <td>70</td>\n",
              "      <td>1000</td>\n",
              "      <td>BRUSSEL</td>\n",
              "      <td>4.355223</td>\n",
              "      <td>50.845386</td>\n",
              "      <td>[26, 29)</td>\n",
              "      <td>[9, 11)</td>\n",
              "      <td>[46, 75)</td>\n",
              "      <td>0.233594</td>\n",
              "      <td>0.215858</td>\n",
              "    </tr>\n",
              "    <tr>\n",
              "      <th>5</th>\n",
              "      <td>6</td>\n",
              "      <td>0</td>\n",
              "      <td>0.000000</td>\n",
              "      <td>NaN</td>\n",
              "      <td>1.000000</td>\n",
              "      <td>TPL</td>\n",
              "      <td>gasoline</td>\n",
              "      <td>private</td>\n",
              "      <td>N</td>\n",
              "      <td>male</td>\n",
              "      <td>26</td>\n",
              "      <td>11</td>\n",
              "      <td>12</td>\n",
              "      <td>70</td>\n",
              "      <td>1000</td>\n",
              "      <td>BRUSSEL</td>\n",
              "      <td>4.355223</td>\n",
              "      <td>50.845386</td>\n",
              "      <td>[26, 29)</td>\n",
              "      <td>[11, 22)</td>\n",
              "      <td>[46, 75)</td>\n",
              "      <td>0.262072</td>\n",
              "      <td>0.281827</td>\n",
              "    </tr>\n",
              "    <tr>\n",
              "      <th>6</th>\n",
              "      <td>7</td>\n",
              "      <td>1</td>\n",
              "      <td>155.974606</td>\n",
              "      <td>155.974606</td>\n",
              "      <td>1.000000</td>\n",
              "      <td>FO</td>\n",
              "      <td>gasoline</td>\n",
              "      <td>private</td>\n",
              "      <td>N</td>\n",
              "      <td>male</td>\n",
              "      <td>26</td>\n",
              "      <td>11</td>\n",
              "      <td>8</td>\n",
              "      <td>55</td>\n",
              "      <td>1000</td>\n",
              "      <td>BRUSSEL</td>\n",
              "      <td>4.355223</td>\n",
              "      <td>50.845386</td>\n",
              "      <td>[26, 29)</td>\n",
              "      <td>[11, 22)</td>\n",
              "      <td>[46, 75)</td>\n",
              "      <td>0.231076</td>\n",
              "      <td>0.262624</td>\n",
              "    </tr>\n",
              "    <tr>\n",
              "      <th>7</th>\n",
              "      <td>8</td>\n",
              "      <td>0</td>\n",
              "      <td>0.000000</td>\n",
              "      <td>NaN</td>\n",
              "      <td>0.402740</td>\n",
              "      <td>TPL</td>\n",
              "      <td>gasoline</td>\n",
              "      <td>private</td>\n",
              "      <td>N</td>\n",
              "      <td>female</td>\n",
              "      <td>58</td>\n",
              "      <td>11</td>\n",
              "      <td>14</td>\n",
              "      <td>47</td>\n",
              "      <td>1000</td>\n",
              "      <td>BRUSSEL</td>\n",
              "      <td>4.355223</td>\n",
              "      <td>50.845386</td>\n",
              "      <td>[56, 61)</td>\n",
              "      <td>[11, 22)</td>\n",
              "      <td>[46, 75)</td>\n",
              "      <td>0.193781</td>\n",
              "      <td>0.217003</td>\n",
              "    </tr>\n",
              "    <tr>\n",
              "      <th>8</th>\n",
              "      <td>9</td>\n",
              "      <td>0</td>\n",
              "      <td>0.000000</td>\n",
              "      <td>NaN</td>\n",
              "      <td>1.000000</td>\n",
              "      <td>FO</td>\n",
              "      <td>gasoline</td>\n",
              "      <td>private</td>\n",
              "      <td>N</td>\n",
              "      <td>male</td>\n",
              "      <td>59</td>\n",
              "      <td>0</td>\n",
              "      <td>3</td>\n",
              "      <td>98</td>\n",
              "      <td>1000</td>\n",
              "      <td>BRUSSEL</td>\n",
              "      <td>4.355223</td>\n",
              "      <td>50.845386</td>\n",
              "      <td>[56, 61)</td>\n",
              "      <td>[0, 1)</td>\n",
              "      <td>[75, 243)</td>\n",
              "      <td>0.105906</td>\n",
              "      <td>0.097367</td>\n",
              "    </tr>\n",
              "    <tr>\n",
              "      <th>9</th>\n",
              "      <td>10</td>\n",
              "      <td>0</td>\n",
              "      <td>0.000000</td>\n",
              "      <td>NaN</td>\n",
              "      <td>1.000000</td>\n",
              "      <td>PO</td>\n",
              "      <td>gasoline</td>\n",
              "      <td>private</td>\n",
              "      <td>N</td>\n",
              "      <td>male</td>\n",
              "      <td>34</td>\n",
              "      <td>7</td>\n",
              "      <td>6</td>\n",
              "      <td>74</td>\n",
              "      <td>1000</td>\n",
              "      <td>BRUSSEL</td>\n",
              "      <td>4.355223</td>\n",
              "      <td>50.845386</td>\n",
              "      <td>[33, 51)</td>\n",
              "      <td>[7, 9)</td>\n",
              "      <td>[46, 75)</td>\n",
              "      <td>0.180795</td>\n",
              "      <td>0.169360</td>\n",
              "    </tr>\n",
              "  </tbody>\n",
              "</table>\n",
              "</div>"
            ],
            "text/plain": [
              "   id  nclaims       amount  ...  power_cat  pred_cont  pred_cat\n",
              "0   1        1  1618.001036  ...  [75, 243)   0.153517  0.174404\n",
              "1   2        0     0.000000  ...   [46, 75)   0.126802  0.114068\n",
              "2   3        0     0.000000  ...   [46, 75)   0.119941  0.108107\n",
              "3   4        0     0.000000  ...   [46, 75)   0.084369  0.091817\n",
              "4   5        1   155.974606  ...   [46, 75)   0.233594  0.215858\n",
              "5   6        0     0.000000  ...   [46, 75)   0.262072  0.281827\n",
              "6   7        1   155.974606  ...   [46, 75)   0.231076  0.262624\n",
              "7   8        0     0.000000  ...   [46, 75)   0.193781  0.217003\n",
              "8   9        0     0.000000  ...  [75, 243)   0.105906  0.097367\n",
              "9  10        0     0.000000  ...   [46, 75)   0.180795  0.169360\n",
              "\n",
              "[10 rows x 23 columns]"
            ]
          },
          "metadata": {},
          "execution_count": 28
        }
      ]
    },
    {
      "cell_type": "markdown",
      "metadata": {
        "id": "V0Usu-bJ4Y7b"
      },
      "source": [
        "We quickly scan and compare the predictions obtained with the `freq_glm_cont` GLM on the one hand and the `freq_glm_cat` GLM on the other hand. We calculate the predicted values for every record in the `mtpl` data set."
      ]
    },
    {
      "cell_type": "code",
      "metadata": {
        "colab": {
          "base_uri": "https://localhost:8080/",
          "height": 441
        },
        "id": "hLSzuwOatszr",
        "outputId": "0de4db40-2360-41a6-ac4c-26bba9b15ec7"
      },
      "source": [
        "sns.jointplot(data = mtpl, x = \"pred_cont\", y = \"pred_cat\", kind = \"reg\", joint_kws = {\"scatter_kws\":dict(alpha=0.1)});"
      ],
      "execution_count": null,
      "outputs": [
        {
          "output_type": "display_data",
          "data": {
            "image/png": "[encoded data removed]",
            "text/plain": [
              "<Figure size 432x432 with 3 Axes>"
            ]
          },
          "metadata": {
            "needs_background": "light"
          }
        }
      ]
    },
    {
      "cell_type": "code",
      "metadata": {
        "colab": {
          "base_uri": "https://localhost:8080/",
          "height": 340
        },
        "id": "o6CCO06qLI-s",
        "outputId": "82ecb9cf-580f-4b6e-c3ce-f4e5b11f359c"
      },
      "source": [
        "mtpl = mtpl.drop(['pred_cont', 'pred_cat'], axis=1)\n",
        "mtpl"
      ],
      "execution_count": null,
      "outputs": [
        {
          "output_type": "error",
          "ename": "KeyError",
          "evalue": "ignored",
          "traceback": [
            "\u001b[0;31m---------------------------------------------------------------------------\u001b[0m",
            "\u001b[0;31mKeyError\u001b[0m                                  Traceback (most recent call last)",
            "\u001b[0;32m<ipython-input-46-921ed6f8e02c>\u001b[0m in \u001b[0;36m<module>\u001b[0;34m()\u001b[0m\n\u001b[0;32m----> 1\u001b[0;31m \u001b[0mmtpl\u001b[0m \u001b[0;34m=\u001b[0m \u001b[0mmtpl\u001b[0m\u001b[0;34m.\u001b[0m\u001b[0mdrop\u001b[0m\u001b[0;34m(\u001b[0m\u001b[0;34m[\u001b[0m\u001b[0;34m'pred_cont'\u001b[0m\u001b[0;34m,\u001b[0m \u001b[0;34m'pred_cat'\u001b[0m\u001b[0;34m]\u001b[0m\u001b[0;34m,\u001b[0m \u001b[0maxis\u001b[0m\u001b[0;34m=\u001b[0m\u001b[0;36m1\u001b[0m\u001b[0;34m)\u001b[0m\u001b[0;34m\u001b[0m\u001b[0;34m\u001b[0m\u001b[0m\n\u001b[0m\u001b[1;32m      2\u001b[0m \u001b[0mmtpl\u001b[0m\u001b[0;34m\u001b[0m\u001b[0;34m\u001b[0m\u001b[0m\n",
            "\u001b[0;32m/usr/local/lib/python3.7/dist-packages/pandas/core/frame.py\u001b[0m in \u001b[0;36mdrop\u001b[0;34m(self, labels, axis, index, columns, level, inplace, errors)\u001b[0m\n\u001b[1;32m   4172\u001b[0m             \u001b[0mlevel\u001b[0m\u001b[0;34m=\u001b[0m\u001b[0mlevel\u001b[0m\u001b[0;34m,\u001b[0m\u001b[0;34m\u001b[0m\u001b[0;34m\u001b[0m\u001b[0m\n\u001b[1;32m   4173\u001b[0m             \u001b[0minplace\u001b[0m\u001b[0;34m=\u001b[0m\u001b[0minplace\u001b[0m\u001b[0;34m,\u001b[0m\u001b[0;34m\u001b[0m\u001b[0;34m\u001b[0m\u001b[0m\n\u001b[0;32m-> 4174\u001b[0;31m             \u001b[0merrors\u001b[0m\u001b[0;34m=\u001b[0m\u001b[0merrors\u001b[0m\u001b[0;34m,\u001b[0m\u001b[0;34m\u001b[0m\u001b[0;34m\u001b[0m\u001b[0m\n\u001b[0m\u001b[1;32m   4175\u001b[0m         )\n\u001b[1;32m   4176\u001b[0m \u001b[0;34m\u001b[0m\u001b[0m\n",
            "\u001b[0;32m/usr/local/lib/python3.7/dist-packages/pandas/core/generic.py\u001b[0m in \u001b[0;36mdrop\u001b[0;34m(self, labels, axis, index, columns, level, inplace, errors)\u001b[0m\n\u001b[1;32m   3887\u001b[0m         \u001b[0;32mfor\u001b[0m \u001b[0maxis\u001b[0m\u001b[0;34m,\u001b[0m \u001b[0mlabels\u001b[0m \u001b[0;32min\u001b[0m \u001b[0maxes\u001b[0m\u001b[0;34m.\u001b[0m\u001b[0mitems\u001b[0m\u001b[0;34m(\u001b[0m\u001b[0;34m)\u001b[0m\u001b[0;34m:\u001b[0m\u001b[0;34m\u001b[0m\u001b[0;34m\u001b[0m\u001b[0m\n\u001b[1;32m   3888\u001b[0m             \u001b[0;32mif\u001b[0m \u001b[0mlabels\u001b[0m \u001b[0;32mis\u001b[0m \u001b[0;32mnot\u001b[0m \u001b[0;32mNone\u001b[0m\u001b[0;34m:\u001b[0m\u001b[0;34m\u001b[0m\u001b[0;34m\u001b[0m\u001b[0m\n\u001b[0;32m-> 3889\u001b[0;31m                 \u001b[0mobj\u001b[0m \u001b[0;34m=\u001b[0m \u001b[0mobj\u001b[0m\u001b[0;34m.\u001b[0m\u001b[0m_drop_axis\u001b[0m\u001b[0;34m(\u001b[0m\u001b[0mlabels\u001b[0m\u001b[0;34m,\u001b[0m \u001b[0maxis\u001b[0m\u001b[0;34m,\u001b[0m \u001b[0mlevel\u001b[0m\u001b[0;34m=\u001b[0m\u001b[0mlevel\u001b[0m\u001b[0;34m,\u001b[0m \u001b[0merrors\u001b[0m\u001b[0;34m=\u001b[0m\u001b[0merrors\u001b[0m\u001b[0;34m)\u001b[0m\u001b[0;34m\u001b[0m\u001b[0;34m\u001b[0m\u001b[0m\n\u001b[0m\u001b[1;32m   3890\u001b[0m \u001b[0;34m\u001b[0m\u001b[0m\n\u001b[1;32m   3891\u001b[0m         \u001b[0;32mif\u001b[0m \u001b[0minplace\u001b[0m\u001b[0;34m:\u001b[0m\u001b[0;34m\u001b[0m\u001b[0;34m\u001b[0m\u001b[0m\n",
            "\u001b[0;32m/usr/local/lib/python3.7/dist-packages/pandas/core/generic.py\u001b[0m in \u001b[0;36m_drop_axis\u001b[0;34m(self, labels, axis, level, errors)\u001b[0m\n\u001b[1;32m   3921\u001b[0m                 \u001b[0mnew_axis\u001b[0m \u001b[0;34m=\u001b[0m \u001b[0maxis\u001b[0m\u001b[0;34m.\u001b[0m\u001b[0mdrop\u001b[0m\u001b[0;34m(\u001b[0m\u001b[0mlabels\u001b[0m\u001b[0;34m,\u001b[0m \u001b[0mlevel\u001b[0m\u001b[0;34m=\u001b[0m\u001b[0mlevel\u001b[0m\u001b[0;34m,\u001b[0m \u001b[0merrors\u001b[0m\u001b[0;34m=\u001b[0m\u001b[0merrors\u001b[0m\u001b[0;34m)\u001b[0m\u001b[0;34m\u001b[0m\u001b[0;34m\u001b[0m\u001b[0m\n\u001b[1;32m   3922\u001b[0m             \u001b[0;32melse\u001b[0m\u001b[0;34m:\u001b[0m\u001b[0;34m\u001b[0m\u001b[0;34m\u001b[0m\u001b[0m\n\u001b[0;32m-> 3923\u001b[0;31m                 \u001b[0mnew_axis\u001b[0m \u001b[0;34m=\u001b[0m \u001b[0maxis\u001b[0m\u001b[0;34m.\u001b[0m\u001b[0mdrop\u001b[0m\u001b[0;34m(\u001b[0m\u001b[0mlabels\u001b[0m\u001b[0;34m,\u001b[0m \u001b[0merrors\u001b[0m\u001b[0;34m=\u001b[0m\u001b[0merrors\u001b[0m\u001b[0;34m)\u001b[0m\u001b[0;34m\u001b[0m\u001b[0;34m\u001b[0m\u001b[0m\n\u001b[0m\u001b[1;32m   3924\u001b[0m             \u001b[0mresult\u001b[0m \u001b[0;34m=\u001b[0m \u001b[0mself\u001b[0m\u001b[0;34m.\u001b[0m\u001b[0mreindex\u001b[0m\u001b[0;34m(\u001b[0m\u001b[0;34m**\u001b[0m\u001b[0;34m{\u001b[0m\u001b[0maxis_name\u001b[0m\u001b[0;34m:\u001b[0m \u001b[0mnew_axis\u001b[0m\u001b[0;34m}\u001b[0m\u001b[0;34m)\u001b[0m\u001b[0;34m\u001b[0m\u001b[0;34m\u001b[0m\u001b[0m\n\u001b[1;32m   3925\u001b[0m \u001b[0;34m\u001b[0m\u001b[0m\n",
            "\u001b[0;32m/usr/local/lib/python3.7/dist-packages/pandas/core/indexes/base.py\u001b[0m in \u001b[0;36mdrop\u001b[0;34m(self, labels, errors)\u001b[0m\n\u001b[1;32m   5285\u001b[0m         \u001b[0;32mif\u001b[0m \u001b[0mmask\u001b[0m\u001b[0;34m.\u001b[0m\u001b[0many\u001b[0m\u001b[0;34m(\u001b[0m\u001b[0;34m)\u001b[0m\u001b[0;34m:\u001b[0m\u001b[0;34m\u001b[0m\u001b[0;34m\u001b[0m\u001b[0m\n\u001b[1;32m   5286\u001b[0m             \u001b[0;32mif\u001b[0m \u001b[0merrors\u001b[0m \u001b[0;34m!=\u001b[0m \u001b[0;34m\"ignore\"\u001b[0m\u001b[0;34m:\u001b[0m\u001b[0;34m\u001b[0m\u001b[0;34m\u001b[0m\u001b[0m\n\u001b[0;32m-> 5287\u001b[0;31m                 \u001b[0;32mraise\u001b[0m \u001b[0mKeyError\u001b[0m\u001b[0;34m(\u001b[0m\u001b[0;34mf\"{labels[mask]} not found in axis\"\u001b[0m\u001b[0;34m)\u001b[0m\u001b[0;34m\u001b[0m\u001b[0;34m\u001b[0m\u001b[0m\n\u001b[0m\u001b[1;32m   5288\u001b[0m             \u001b[0mindexer\u001b[0m \u001b[0;34m=\u001b[0m \u001b[0mindexer\u001b[0m\u001b[0;34m[\u001b[0m\u001b[0;34m~\u001b[0m\u001b[0mmask\u001b[0m\u001b[0;34m]\u001b[0m\u001b[0;34m\u001b[0m\u001b[0;34m\u001b[0m\u001b[0m\n\u001b[1;32m   5289\u001b[0m         \u001b[0;32mreturn\u001b[0m \u001b[0mself\u001b[0m\u001b[0;34m.\u001b[0m\u001b[0mdelete\u001b[0m\u001b[0;34m(\u001b[0m\u001b[0mindexer\u001b[0m\u001b[0;34m)\u001b[0m\u001b[0;34m\u001b[0m\u001b[0;34m\u001b[0m\u001b[0m\n",
            "\u001b[0;31mKeyError\u001b[0m: \"['pred_cont' 'pred_cat'] not found in axis\""
          ]
        }
      ]
    },
    {
      "cell_type": "markdown",
      "metadata": {
        "id": "XluDbH9Mrhyi"
      },
      "source": [
        "# 4. Regularized (G)LMs with {statsmodels} and {scikit-learn} <a name=\"four\"></a>"
      ]
    },
    {
      "cell_type": "markdown",
      "metadata": {
        "id": "KGD5CN_P5KiI"
      },
      "source": [
        "## 4.1 A regularized Poisson model with {statsmodels} <a name=\"four-one\"></a>\n",
        "\n"
      ]
    },
    {
      "cell_type": "markdown",
      "metadata": {
        "id": "nHiMWigJENZg"
      },
      "source": [
        "{statsmodels} and {statsmodels.formula.api} allow to fit GLMs with an elastic net penalty. The following penalized loss function is then minimized:\n",
        "$$-\\frac{1}{n}\\log \\mathcal{L}(\\beta_0,\\mathbf{\\beta}; \\mathbf{X},y) + \\alpha \\cdot \\left( \\lambda ||\\mathbf{\\beta}||_1 + \\frac{1-\\lambda}{2}||\\mathbf{\\beta}||_2^2 \\right),$$\n",
        "where $\\alpha$ is the penalty weight and $\\lambda$ determines the weight of the $\\ell_1$ versus $\\ell_2$ norm. More details are [here](https://www.statsmodels.org/dev/generated/statsmodels.genmod.generalized_linear_model.GLM.fit_regularized.html).\n"
      ]
    },
    {
      "cell_type": "markdown",
      "metadata": {
        "id": "bI1mYr4VGy1G"
      },
      "source": [
        "The code below then fits a first example of a Poisson GLM for `nclaims` with a lasso penalty."
      ]
    },
    {
      "cell_type": "markdown",
      "metadata": {
        "id": "PEewqzQSNoUR"
      },
      "source": [
        "When using factor variables with more than two levels in a regularized regression model, it is recommended to use one-hot encoding. As such, one let's the model freely decide which levels should be grouped."
      ]
    },
    {
      "cell_type": "code",
      "metadata": {
        "colab": {
          "base_uri": "https://localhost:8080/",
          "height": 419
        },
        "id": "uowQU3cDJNVi",
        "outputId": "455a1d20-75ee-4124-f917-5dac78bf9aa9"
      },
      "source": [
        "cov_dum = pd.get_dummies(mtpl.coverage)\n",
        "mtpl = pd.concat([mtpl, cov_dum], axis = 1)\n",
        "mtpl"
      ],
      "execution_count": null,
      "outputs": [
        {
          "output_type": "execute_result",
          "data": {
            "text/html": [
              "<div>\n",
              "<style scoped>\n",
              "    .dataframe tbody tr th:only-of-type {\n",
              "        vertical-align: middle;\n",
              "    }\n",
              "\n",
              "    .dataframe tbody tr th {\n",
              "        vertical-align: top;\n",
              "    }\n",
              "\n",
              "    .dataframe thead th {\n",
              "        text-align: right;\n",
              "    }\n",
              "</style>\n",
              "<table border=\"1\" class=\"dataframe\">\n",
              "  <thead>\n",
              "    <tr style=\"text-align: right;\">\n",
              "      <th></th>\n",
              "      <th>id</th>\n",
              "      <th>nclaims</th>\n",
              "      <th>amount</th>\n",
              "      <th>avg</th>\n",
              "      <th>expo</th>\n",
              "      <th>coverage</th>\n",
              "      <th>fuel</th>\n",
              "      <th>use</th>\n",
              "      <th>fleet</th>\n",
              "      <th>sex</th>\n",
              "      <th>ageph</th>\n",
              "      <th>bm</th>\n",
              "      <th>agec</th>\n",
              "      <th>power</th>\n",
              "      <th>pc</th>\n",
              "      <th>town</th>\n",
              "      <th>long</th>\n",
              "      <th>lat</th>\n",
              "      <th>FO</th>\n",
              "      <th>PO</th>\n",
              "      <th>TPL</th>\n",
              "    </tr>\n",
              "  </thead>\n",
              "  <tbody>\n",
              "    <tr>\n",
              "      <th>0</th>\n",
              "      <td>1</td>\n",
              "      <td>1</td>\n",
              "      <td>1618.001036</td>\n",
              "      <td>1618.001036</td>\n",
              "      <td>1.000000</td>\n",
              "      <td>TPL</td>\n",
              "      <td>gasoline</td>\n",
              "      <td>private</td>\n",
              "      <td>N</td>\n",
              "      <td>male</td>\n",
              "      <td>50</td>\n",
              "      <td>5</td>\n",
              "      <td>12</td>\n",
              "      <td>77</td>\n",
              "      <td>1000</td>\n",
              "      <td>BRUSSEL</td>\n",
              "      <td>4.355223</td>\n",
              "      <td>50.845386</td>\n",
              "      <td>0</td>\n",
              "      <td>0</td>\n",
              "      <td>1</td>\n",
              "    </tr>\n",
              "    <tr>\n",
              "      <th>1</th>\n",
              "      <td>2</td>\n",
              "      <td>0</td>\n",
              "      <td>0.000000</td>\n",
              "      <td>NaN</td>\n",
              "      <td>1.000000</td>\n",
              "      <td>PO</td>\n",
              "      <td>gasoline</td>\n",
              "      <td>private</td>\n",
              "      <td>N</td>\n",
              "      <td>female</td>\n",
              "      <td>64</td>\n",
              "      <td>5</td>\n",
              "      <td>3</td>\n",
              "      <td>66</td>\n",
              "      <td>1000</td>\n",
              "      <td>BRUSSEL</td>\n",
              "      <td>4.355223</td>\n",
              "      <td>50.845386</td>\n",
              "      <td>0</td>\n",
              "      <td>1</td>\n",
              "      <td>0</td>\n",
              "    </tr>\n",
              "    <tr>\n",
              "      <th>2</th>\n",
              "      <td>3</td>\n",
              "      <td>0</td>\n",
              "      <td>0.000000</td>\n",
              "      <td>NaN</td>\n",
              "      <td>1.000000</td>\n",
              "      <td>TPL</td>\n",
              "      <td>diesel</td>\n",
              "      <td>private</td>\n",
              "      <td>N</td>\n",
              "      <td>male</td>\n",
              "      <td>60</td>\n",
              "      <td>0</td>\n",
              "      <td>10</td>\n",
              "      <td>70</td>\n",
              "      <td>1000</td>\n",
              "      <td>BRUSSEL</td>\n",
              "      <td>4.355223</td>\n",
              "      <td>50.845386</td>\n",
              "      <td>0</td>\n",
              "      <td>0</td>\n",
              "      <td>1</td>\n",
              "    </tr>\n",
              "    <tr>\n",
              "      <th>3</th>\n",
              "      <td>4</td>\n",
              "      <td>0</td>\n",
              "      <td>0.000000</td>\n",
              "      <td>NaN</td>\n",
              "      <td>1.000000</td>\n",
              "      <td>TPL</td>\n",
              "      <td>gasoline</td>\n",
              "      <td>private</td>\n",
              "      <td>N</td>\n",
              "      <td>male</td>\n",
              "      <td>77</td>\n",
              "      <td>0</td>\n",
              "      <td>15</td>\n",
              "      <td>57</td>\n",
              "      <td>1000</td>\n",
              "      <td>BRUSSEL</td>\n",
              "      <td>4.355223</td>\n",
              "      <td>50.845386</td>\n",
              "      <td>0</td>\n",
              "      <td>0</td>\n",
              "      <td>1</td>\n",
              "    </tr>\n",
              "    <tr>\n",
              "      <th>4</th>\n",
              "      <td>5</td>\n",
              "      <td>1</td>\n",
              "      <td>155.974606</td>\n",
              "      <td>155.974606</td>\n",
              "      <td>0.046575</td>\n",
              "      <td>TPL</td>\n",
              "      <td>gasoline</td>\n",
              "      <td>private</td>\n",
              "      <td>N</td>\n",
              "      <td>female</td>\n",
              "      <td>28</td>\n",
              "      <td>9</td>\n",
              "      <td>7</td>\n",
              "      <td>70</td>\n",
              "      <td>1000</td>\n",
              "      <td>BRUSSEL</td>\n",
              "      <td>4.355223</td>\n",
              "      <td>50.845386</td>\n",
              "      <td>0</td>\n",
              "      <td>0</td>\n",
              "      <td>1</td>\n",
              "    </tr>\n",
              "    <tr>\n",
              "      <th>...</th>\n",
              "      <td>...</td>\n",
              "      <td>...</td>\n",
              "      <td>...</td>\n",
              "      <td>...</td>\n",
              "      <td>...</td>\n",
              "      <td>...</td>\n",
              "      <td>...</td>\n",
              "      <td>...</td>\n",
              "      <td>...</td>\n",
              "      <td>...</td>\n",
              "      <td>...</td>\n",
              "      <td>...</td>\n",
              "      <td>...</td>\n",
              "      <td>...</td>\n",
              "      <td>...</td>\n",
              "      <td>...</td>\n",
              "      <td>...</td>\n",
              "      <td>...</td>\n",
              "      <td>...</td>\n",
              "      <td>...</td>\n",
              "      <td>...</td>\n",
              "    </tr>\n",
              "    <tr>\n",
              "      <th>163226</th>\n",
              "      <td>163227</td>\n",
              "      <td>0</td>\n",
              "      <td>0.000000</td>\n",
              "      <td>NaN</td>\n",
              "      <td>1.000000</td>\n",
              "      <td>TPL</td>\n",
              "      <td>diesel</td>\n",
              "      <td>work</td>\n",
              "      <td>N</td>\n",
              "      <td>male</td>\n",
              "      <td>37</td>\n",
              "      <td>5</td>\n",
              "      <td>10</td>\n",
              "      <td>40</td>\n",
              "      <td>9990</td>\n",
              "      <td>MALDEGEM</td>\n",
              "      <td>3.421256</td>\n",
              "      <td>51.199975</td>\n",
              "      <td>0</td>\n",
              "      <td>0</td>\n",
              "      <td>1</td>\n",
              "    </tr>\n",
              "    <tr>\n",
              "      <th>163227</th>\n",
              "      <td>163228</td>\n",
              "      <td>0</td>\n",
              "      <td>0.000000</td>\n",
              "      <td>NaN</td>\n",
              "      <td>1.000000</td>\n",
              "      <td>TPL</td>\n",
              "      <td>diesel</td>\n",
              "      <td>private</td>\n",
              "      <td>N</td>\n",
              "      <td>male</td>\n",
              "      <td>44</td>\n",
              "      <td>0</td>\n",
              "      <td>6</td>\n",
              "      <td>55</td>\n",
              "      <td>9990</td>\n",
              "      <td>MALDEGEM</td>\n",
              "      <td>3.421256</td>\n",
              "      <td>51.199975</td>\n",
              "      <td>0</td>\n",
              "      <td>0</td>\n",
              "      <td>1</td>\n",
              "    </tr>\n",
              "    <tr>\n",
              "      <th>163228</th>\n",
              "      <td>163229</td>\n",
              "      <td>0</td>\n",
              "      <td>0.000000</td>\n",
              "      <td>NaN</td>\n",
              "      <td>1.000000</td>\n",
              "      <td>TPL</td>\n",
              "      <td>diesel</td>\n",
              "      <td>private</td>\n",
              "      <td>N</td>\n",
              "      <td>male</td>\n",
              "      <td>50</td>\n",
              "      <td>0</td>\n",
              "      <td>10</td>\n",
              "      <td>40</td>\n",
              "      <td>9990</td>\n",
              "      <td>MALDEGEM</td>\n",
              "      <td>3.421256</td>\n",
              "      <td>51.199975</td>\n",
              "      <td>0</td>\n",
              "      <td>0</td>\n",
              "      <td>1</td>\n",
              "    </tr>\n",
              "    <tr>\n",
              "      <th>163229</th>\n",
              "      <td>163230</td>\n",
              "      <td>0</td>\n",
              "      <td>0.000000</td>\n",
              "      <td>NaN</td>\n",
              "      <td>1.000000</td>\n",
              "      <td>TPL</td>\n",
              "      <td>gasoline</td>\n",
              "      <td>private</td>\n",
              "      <td>N</td>\n",
              "      <td>male</td>\n",
              "      <td>43</td>\n",
              "      <td>0</td>\n",
              "      <td>7</td>\n",
              "      <td>66</td>\n",
              "      <td>9990</td>\n",
              "      <td>MALDEGEM</td>\n",
              "      <td>3.421256</td>\n",
              "      <td>51.199975</td>\n",
              "      <td>0</td>\n",
              "      <td>0</td>\n",
              "      <td>1</td>\n",
              "    </tr>\n",
              "    <tr>\n",
              "      <th>163230</th>\n",
              "      <td>163231</td>\n",
              "      <td>2</td>\n",
              "      <td>13818.229594</td>\n",
              "      <td>6909.114797</td>\n",
              "      <td>1.000000</td>\n",
              "      <td>FO</td>\n",
              "      <td>gasoline</td>\n",
              "      <td>private</td>\n",
              "      <td>N</td>\n",
              "      <td>male</td>\n",
              "      <td>24</td>\n",
              "      <td>6</td>\n",
              "      <td>2</td>\n",
              "      <td>47</td>\n",
              "      <td>9990</td>\n",
              "      <td>MALDEGEM</td>\n",
              "      <td>3.421256</td>\n",
              "      <td>51.199975</td>\n",
              "      <td>1</td>\n",
              "      <td>0</td>\n",
              "      <td>0</td>\n",
              "    </tr>\n",
              "  </tbody>\n",
              "</table>\n",
              "<p>163231 rows × 21 columns</p>\n",
              "</div>"
            ],
            "text/plain": [
              "            id  nclaims        amount          avg  ...        lat FO PO TPL\n",
              "0            1        1   1618.001036  1618.001036  ...  50.845386  0  0   1\n",
              "1            2        0      0.000000          NaN  ...  50.845386  0  1   0\n",
              "2            3        0      0.000000          NaN  ...  50.845386  0  0   1\n",
              "3            4        0      0.000000          NaN  ...  50.845386  0  0   1\n",
              "4            5        1    155.974606   155.974606  ...  50.845386  0  0   1\n",
              "...        ...      ...           ...          ...  ...        ... .. ..  ..\n",
              "163226  163227        0      0.000000          NaN  ...  51.199975  0  0   1\n",
              "163227  163228        0      0.000000          NaN  ...  51.199975  0  0   1\n",
              "163228  163229        0      0.000000          NaN  ...  51.199975  0  0   1\n",
              "163229  163230        0      0.000000          NaN  ...  51.199975  0  0   1\n",
              "163230  163231        2  13818.229594  6909.114797  ...  51.199975  1  0   0\n",
              "\n",
              "[163231 rows x 21 columns]"
            ]
          },
          "metadata": {},
          "execution_count": 90
        }
      ]
    },
    {
      "cell_type": "markdown",
      "metadata": {
        "id": "m7DL_UjYN6VY"
      },
      "source": [
        "Moreover, continuous features should be standardized before including them in the regularized model fit."
      ]
    },
    {
      "cell_type": "code",
      "metadata": {
        "id": "7XMasXjzOGU3"
      },
      "source": [
        "from sklearn.preprocessing import StandardScaler"
      ],
      "execution_count": null,
      "outputs": []
    },
    {
      "cell_type": "code",
      "metadata": {
        "id": "yGQv3MfDOJp9"
      },
      "source": [
        "scaler = StandardScaler()"
      ],
      "execution_count": null,
      "outputs": []
    },
    {
      "cell_type": "code",
      "metadata": {
        "id": "Jf8UMYqnONN2"
      },
      "source": [
        "cols_to_scale = ['ageph', 'bm', 'power', 'agec']\n",
        "\n",
        "# create and fit scaler\n",
        "scaler = StandardScaler()\n",
        "scaler.fit(mtpl[cols_to_scale])\n",
        "\n",
        "# scale selected data\n",
        "mtpl[['ageph_stand', 'bm_stand', 'power_stand', 'agec_stand']] = scaler.transform(mtpl[cols_to_scale])"
      ],
      "execution_count": null,
      "outputs": []
    },
    {
      "cell_type": "code",
      "metadata": {
        "colab": {
          "base_uri": "https://localhost:8080/"
        },
        "id": "aBw2OCCLQFi-",
        "outputId": "13740a4c-e0f6-43a5-cc35-4c6386b6610f"
      },
      "source": [
        "mtpl.ageph_stand.mean()"
      ],
      "execution_count": null,
      "outputs": [
        {
          "output_type": "execute_result",
          "data": {
            "text/plain": [
              "2.8317979064550964e-14"
            ]
          },
          "metadata": {},
          "execution_count": 94
        }
      ]
    },
    {
      "cell_type": "code",
      "metadata": {
        "colab": {
          "base_uri": "https://localhost:8080/"
        },
        "id": "R2riIwP1QglS",
        "outputId": "97506548-f608-4bf6-94b1-b14aad8bd76e"
      },
      "source": [
        "mtpl.ageph_stand.var()"
      ],
      "execution_count": null,
      "outputs": [
        {
          "output_type": "execute_result",
          "data": {
            "text/plain": [
              "1.0000061263251194"
            ]
          },
          "metadata": {},
          "execution_count": 95
        }
      ]
    },
    {
      "cell_type": "code",
      "metadata": {
        "colab": {
          "base_uri": "https://localhost:8080/",
          "height": 419
        },
        "id": "P_JlQAeNQnKC",
        "outputId": "2502b432-a648-4b77-8bcd-e2f7969bd596"
      },
      "source": [
        "mtpl"
      ],
      "execution_count": null,
      "outputs": [
        {
          "output_type": "execute_result",
          "data": {
            "text/html": [
              "<div>\n",
              "<style scoped>\n",
              "    .dataframe tbody tr th:only-of-type {\n",
              "        vertical-align: middle;\n",
              "    }\n",
              "\n",
              "    .dataframe tbody tr th {\n",
              "        vertical-align: top;\n",
              "    }\n",
              "\n",
              "    .dataframe thead th {\n",
              "        text-align: right;\n",
              "    }\n",
              "</style>\n",
              "<table border=\"1\" class=\"dataframe\">\n",
              "  <thead>\n",
              "    <tr style=\"text-align: right;\">\n",
              "      <th></th>\n",
              "      <th>id</th>\n",
              "      <th>nclaims</th>\n",
              "      <th>amount</th>\n",
              "      <th>avg</th>\n",
              "      <th>expo</th>\n",
              "      <th>coverage</th>\n",
              "      <th>fuel</th>\n",
              "      <th>use</th>\n",
              "      <th>fleet</th>\n",
              "      <th>sex</th>\n",
              "      <th>ageph</th>\n",
              "      <th>bm</th>\n",
              "      <th>agec</th>\n",
              "      <th>power</th>\n",
              "      <th>pc</th>\n",
              "      <th>town</th>\n",
              "      <th>long</th>\n",
              "      <th>lat</th>\n",
              "      <th>FO</th>\n",
              "      <th>PO</th>\n",
              "      <th>TPL</th>\n",
              "      <th>ageph_stand</th>\n",
              "      <th>bm_stand</th>\n",
              "      <th>power_stand</th>\n",
              "      <th>agec_stand</th>\n",
              "    </tr>\n",
              "  </thead>\n",
              "  <tbody>\n",
              "    <tr>\n",
              "      <th>0</th>\n",
              "      <td>1</td>\n",
              "      <td>1</td>\n",
              "      <td>1618.001036</td>\n",
              "      <td>1618.001036</td>\n",
              "      <td>1.000000</td>\n",
              "      <td>TPL</td>\n",
              "      <td>gasoline</td>\n",
              "      <td>private</td>\n",
              "      <td>N</td>\n",
              "      <td>male</td>\n",
              "      <td>50</td>\n",
              "      <td>5</td>\n",
              "      <td>12</td>\n",
              "      <td>77</td>\n",
              "      <td>1000</td>\n",
              "      <td>BRUSSEL</td>\n",
              "      <td>4.355223</td>\n",
              "      <td>50.845386</td>\n",
              "      <td>0</td>\n",
              "      <td>0</td>\n",
              "      <td>1</td>\n",
              "      <td>0.202275</td>\n",
              "      <td>0.432961</td>\n",
              "      <td>1.103569</td>\n",
              "      <td>1.099515</td>\n",
              "    </tr>\n",
              "    <tr>\n",
              "      <th>1</th>\n",
              "      <td>2</td>\n",
              "      <td>0</td>\n",
              "      <td>0.000000</td>\n",
              "      <td>NaN</td>\n",
              "      <td>1.000000</td>\n",
              "      <td>PO</td>\n",
              "      <td>gasoline</td>\n",
              "      <td>private</td>\n",
              "      <td>N</td>\n",
              "      <td>female</td>\n",
              "      <td>64</td>\n",
              "      <td>5</td>\n",
              "      <td>3</td>\n",
              "      <td>66</td>\n",
              "      <td>1000</td>\n",
              "      <td>BRUSSEL</td>\n",
              "      <td>4.355223</td>\n",
              "      <td>50.845386</td>\n",
              "      <td>0</td>\n",
              "      <td>1</td>\n",
              "      <td>0</td>\n",
              "      <td>1.146223</td>\n",
              "      <td>0.432961</td>\n",
              "      <td>0.525400</td>\n",
              "      <td>-1.040085</td>\n",
              "    </tr>\n",
              "    <tr>\n",
              "      <th>2</th>\n",
              "      <td>3</td>\n",
              "      <td>0</td>\n",
              "      <td>0.000000</td>\n",
              "      <td>NaN</td>\n",
              "      <td>1.000000</td>\n",
              "      <td>TPL</td>\n",
              "      <td>diesel</td>\n",
              "      <td>private</td>\n",
              "      <td>N</td>\n",
              "      <td>male</td>\n",
              "      <td>60</td>\n",
              "      <td>0</td>\n",
              "      <td>10</td>\n",
              "      <td>70</td>\n",
              "      <td>1000</td>\n",
              "      <td>BRUSSEL</td>\n",
              "      <td>4.355223</td>\n",
              "      <td>50.845386</td>\n",
              "      <td>0</td>\n",
              "      <td>0</td>\n",
              "      <td>1</td>\n",
              "      <td>0.876524</td>\n",
              "      <td>-0.817457</td>\n",
              "      <td>0.735643</td>\n",
              "      <td>0.624048</td>\n",
              "    </tr>\n",
              "    <tr>\n",
              "      <th>3</th>\n",
              "      <td>4</td>\n",
              "      <td>0</td>\n",
              "      <td>0.000000</td>\n",
              "      <td>NaN</td>\n",
              "      <td>1.000000</td>\n",
              "      <td>TPL</td>\n",
              "      <td>gasoline</td>\n",
              "      <td>private</td>\n",
              "      <td>N</td>\n",
              "      <td>male</td>\n",
              "      <td>77</td>\n",
              "      <td>0</td>\n",
              "      <td>15</td>\n",
              "      <td>57</td>\n",
              "      <td>1000</td>\n",
              "      <td>BRUSSEL</td>\n",
              "      <td>4.355223</td>\n",
              "      <td>50.845386</td>\n",
              "      <td>0</td>\n",
              "      <td>0</td>\n",
              "      <td>1</td>\n",
              "      <td>2.022746</td>\n",
              "      <td>-0.817457</td>\n",
              "      <td>0.052353</td>\n",
              "      <td>1.812715</td>\n",
              "    </tr>\n",
              "    <tr>\n",
              "      <th>4</th>\n",
              "      <td>5</td>\n",
              "      <td>1</td>\n",
              "      <td>155.974606</td>\n",
              "      <td>155.974606</td>\n",
              "      <td>0.046575</td>\n",
              "      <td>TPL</td>\n",
              "      <td>gasoline</td>\n",
              "      <td>private</td>\n",
              "      <td>N</td>\n",
              "      <td>female</td>\n",
              "      <td>28</td>\n",
              "      <td>9</td>\n",
              "      <td>7</td>\n",
              "      <td>70</td>\n",
              "      <td>1000</td>\n",
              "      <td>BRUSSEL</td>\n",
              "      <td>4.355223</td>\n",
              "      <td>50.845386</td>\n",
              "      <td>0</td>\n",
              "      <td>0</td>\n",
              "      <td>1</td>\n",
              "      <td>-1.281072</td>\n",
              "      <td>1.433295</td>\n",
              "      <td>0.735643</td>\n",
              "      <td>-0.089152</td>\n",
              "    </tr>\n",
              "    <tr>\n",
              "      <th>...</th>\n",
              "      <td>...</td>\n",
              "      <td>...</td>\n",
              "      <td>...</td>\n",
              "      <td>...</td>\n",
              "      <td>...</td>\n",
              "      <td>...</td>\n",
              "      <td>...</td>\n",
              "      <td>...</td>\n",
              "      <td>...</td>\n",
              "      <td>...</td>\n",
              "      <td>...</td>\n",
              "      <td>...</td>\n",
              "      <td>...</td>\n",
              "      <td>...</td>\n",
              "      <td>...</td>\n",
              "      <td>...</td>\n",
              "      <td>...</td>\n",
              "      <td>...</td>\n",
              "      <td>...</td>\n",
              "      <td>...</td>\n",
              "      <td>...</td>\n",
              "      <td>...</td>\n",
              "      <td>...</td>\n",
              "      <td>...</td>\n",
              "      <td>...</td>\n",
              "    </tr>\n",
              "    <tr>\n",
              "      <th>163226</th>\n",
              "      <td>163227</td>\n",
              "      <td>0</td>\n",
              "      <td>0.000000</td>\n",
              "      <td>NaN</td>\n",
              "      <td>1.000000</td>\n",
              "      <td>TPL</td>\n",
              "      <td>diesel</td>\n",
              "      <td>work</td>\n",
              "      <td>N</td>\n",
              "      <td>male</td>\n",
              "      <td>37</td>\n",
              "      <td>5</td>\n",
              "      <td>10</td>\n",
              "      <td>40</td>\n",
              "      <td>9990</td>\n",
              "      <td>MALDEGEM</td>\n",
              "      <td>3.421256</td>\n",
              "      <td>51.199975</td>\n",
              "      <td>0</td>\n",
              "      <td>0</td>\n",
              "      <td>1</td>\n",
              "      <td>-0.674248</td>\n",
              "      <td>0.432961</td>\n",
              "      <td>-0.841181</td>\n",
              "      <td>0.624048</td>\n",
              "    </tr>\n",
              "    <tr>\n",
              "      <th>163227</th>\n",
              "      <td>163228</td>\n",
              "      <td>0</td>\n",
              "      <td>0.000000</td>\n",
              "      <td>NaN</td>\n",
              "      <td>1.000000</td>\n",
              "      <td>TPL</td>\n",
              "      <td>diesel</td>\n",
              "      <td>private</td>\n",
              "      <td>N</td>\n",
              "      <td>male</td>\n",
              "      <td>44</td>\n",
              "      <td>0</td>\n",
              "      <td>6</td>\n",
              "      <td>55</td>\n",
              "      <td>9990</td>\n",
              "      <td>MALDEGEM</td>\n",
              "      <td>3.421256</td>\n",
              "      <td>51.199975</td>\n",
              "      <td>0</td>\n",
              "      <td>0</td>\n",
              "      <td>1</td>\n",
              "      <td>-0.202274</td>\n",
              "      <td>-0.817457</td>\n",
              "      <td>-0.052769</td>\n",
              "      <td>-0.326885</td>\n",
              "    </tr>\n",
              "    <tr>\n",
              "      <th>163228</th>\n",
              "      <td>163229</td>\n",
              "      <td>0</td>\n",
              "      <td>0.000000</td>\n",
              "      <td>NaN</td>\n",
              "      <td>1.000000</td>\n",
              "      <td>TPL</td>\n",
              "      <td>diesel</td>\n",
              "      <td>private</td>\n",
              "      <td>N</td>\n",
              "      <td>male</td>\n",
              "      <td>50</td>\n",
              "      <td>0</td>\n",
              "      <td>10</td>\n",
              "      <td>40</td>\n",
              "      <td>9990</td>\n",
              "      <td>MALDEGEM</td>\n",
              "      <td>3.421256</td>\n",
              "      <td>51.199975</td>\n",
              "      <td>0</td>\n",
              "      <td>0</td>\n",
              "      <td>1</td>\n",
              "      <td>0.202275</td>\n",
              "      <td>-0.817457</td>\n",
              "      <td>-0.841181</td>\n",
              "      <td>0.624048</td>\n",
              "    </tr>\n",
              "    <tr>\n",
              "      <th>163229</th>\n",
              "      <td>163230</td>\n",
              "      <td>0</td>\n",
              "      <td>0.000000</td>\n",
              "      <td>NaN</td>\n",
              "      <td>1.000000</td>\n",
              "      <td>TPL</td>\n",
              "      <td>gasoline</td>\n",
              "      <td>private</td>\n",
              "      <td>N</td>\n",
              "      <td>male</td>\n",
              "      <td>43</td>\n",
              "      <td>0</td>\n",
              "      <td>7</td>\n",
              "      <td>66</td>\n",
              "      <td>9990</td>\n",
              "      <td>MALDEGEM</td>\n",
              "      <td>3.421256</td>\n",
              "      <td>51.199975</td>\n",
              "      <td>0</td>\n",
              "      <td>0</td>\n",
              "      <td>1</td>\n",
              "      <td>-0.269699</td>\n",
              "      <td>-0.817457</td>\n",
              "      <td>0.525400</td>\n",
              "      <td>-0.089152</td>\n",
              "    </tr>\n",
              "    <tr>\n",
              "      <th>163230</th>\n",
              "      <td>163231</td>\n",
              "      <td>2</td>\n",
              "      <td>13818.229594</td>\n",
              "      <td>6909.114797</td>\n",
              "      <td>1.000000</td>\n",
              "      <td>FO</td>\n",
              "      <td>gasoline</td>\n",
              "      <td>private</td>\n",
              "      <td>N</td>\n",
              "      <td>male</td>\n",
              "      <td>24</td>\n",
              "      <td>6</td>\n",
              "      <td>2</td>\n",
              "      <td>47</td>\n",
              "      <td>9990</td>\n",
              "      <td>MALDEGEM</td>\n",
              "      <td>3.421256</td>\n",
              "      <td>51.199975</td>\n",
              "      <td>1</td>\n",
              "      <td>0</td>\n",
              "      <td>0</td>\n",
              "      <td>-1.550771</td>\n",
              "      <td>0.683044</td>\n",
              "      <td>-0.473255</td>\n",
              "      <td>-1.277819</td>\n",
              "    </tr>\n",
              "  </tbody>\n",
              "</table>\n",
              "<p>163231 rows × 25 columns</p>\n",
              "</div>"
            ],
            "text/plain": [
              "            id  nclaims        amount  ...  bm_stand  power_stand agec_stand\n",
              "0            1        1   1618.001036  ...  0.432961     1.103569   1.099515\n",
              "1            2        0      0.000000  ...  0.432961     0.525400  -1.040085\n",
              "2            3        0      0.000000  ... -0.817457     0.735643   0.624048\n",
              "3            4        0      0.000000  ... -0.817457     0.052353   1.812715\n",
              "4            5        1    155.974606  ...  1.433295     0.735643  -0.089152\n",
              "...        ...      ...           ...  ...       ...          ...        ...\n",
              "163226  163227        0      0.000000  ...  0.432961    -0.841181   0.624048\n",
              "163227  163228        0      0.000000  ... -0.817457    -0.052769  -0.326885\n",
              "163228  163229        0      0.000000  ... -0.817457    -0.841181   0.624048\n",
              "163229  163230        0      0.000000  ... -0.817457     0.525400  -0.089152\n",
              "163230  163231        2  13818.229594  ...  0.683044    -0.473255  -1.277819\n",
              "\n",
              "[163231 rows x 25 columns]"
            ]
          },
          "metadata": {},
          "execution_count": 96
        }
      ]
    },
    {
      "cell_type": "code",
      "metadata": {
        "id": "9Me_NpKTJpby"
      },
      "source": [
        "freq_glm_reg = smf.glm('nclaims ~ FO + PO + TPL + fuel + sex + fleet + use + ageph_stand + bm_stand + power_stand + agec_stand',\n",
        "                       data=mtpl, exposure=mtpl.expo, family=sm.families.Poisson(link=sm.families.links.log())).fit_regularized(method='elastic_net', alpha = 0.001, L1_wt = 1)"
      ],
      "execution_count": null,
      "outputs": []
    },
    {
      "cell_type": "code",
      "metadata": {
        "colab": {
          "base_uri": "https://localhost:8080/"
        },
        "id": "iZezC0zyJ-xt",
        "outputId": "e61daae0-825b-4177-dc7e-5f6aeff0b100"
      },
      "source": [
        "freq_glm_reg.params"
      ],
      "execution_count": null,
      "outputs": [
        {
          "output_type": "execute_result",
          "data": {
            "text/plain": [
              "Intercept          -1.734316\n",
              "fuel[T.gasoline]   -0.152563\n",
              "sex[T.male]        -0.011243\n",
              "fleet[T.Y]          0.000000\n",
              "use[T.work]         0.000000\n",
              "FO                 -0.146410\n",
              "PO                 -0.181308\n",
              "TPL                -0.121419\n",
              "ageph_stand        -0.105356\n",
              "bm_stand            0.246020\n",
              "power_stand         0.056871\n",
              "agec_stand          0.000000\n",
              "dtype: float64"
            ]
          },
          "metadata": {},
          "execution_count": 98
        }
      ]
    },
    {
      "cell_type": "markdown",
      "metadata": {
        "id": "R5Ph9gLEHgod"
      },
      "source": [
        "We now explore the effect of the penalty weight $\\alpha$:"
      ]
    },
    {
      "cell_type": "code",
      "metadata": {
        "id": "gmJrColArzew",
        "colab": {
          "base_uri": "https://localhost:8080/"
        },
        "outputId": "bdf7d9f1-8200-449a-877a-1e29d59aa46d"
      },
      "source": [
        "alpha_grid = [0.1, 0.01, 0.001, 0.0001]\n",
        "coef_list = []\n",
        "for alpha in alpha_grid:\n",
        "  print(f\"Busy with alpha:{alpha}\")\n",
        "  glm_reg_fit = smf.glm('nclaims ~ FO + PO + TPL + fuel + sex + fleet + use + ageph_stand + bm_stand + power_stand + agec_stand',\n",
        "                        data=mtpl, exposure=mtpl.expo, family=sm.families.Poisson(link=sm.families.links.log())).fit_regularized(method='elastic_net', alpha = alpha, L1_wt = 1)\n",
        "  coef_list.append(glm_reg_fit.params)                      \n",
        "pd_coef = pd.concat(coef_list, axis = 1)"
      ],
      "execution_count": null,
      "outputs": [
        {
          "output_type": "stream",
          "name": "stdout",
          "text": [
            "Busy with alpha:0.1\n",
            "Busy with alpha:0.01\n",
            "Busy with alpha:0.001\n",
            "Busy with alpha:0.0001\n"
          ]
        }
      ]
    },
    {
      "cell_type": "code",
      "metadata": {
        "colab": {
          "base_uri": "https://localhost:8080/",
          "height": 421
        },
        "id": "OLrvQoyVrzYi",
        "outputId": "9799e6f1-f278-4d56-d477-227f9b8be060"
      },
      "source": [
        "pd_coef.columns = alpha_grid\n",
        "pd_coef"
      ],
      "execution_count": null,
      "outputs": [
        {
          "output_type": "execute_result",
          "data": {
            "text/html": [
              "<div>\n",
              "<style scoped>\n",
              "    .dataframe tbody tr th:only-of-type {\n",
              "        vertical-align: middle;\n",
              "    }\n",
              "\n",
              "    .dataframe tbody tr th {\n",
              "        vertical-align: top;\n",
              "    }\n",
              "\n",
              "    .dataframe thead th {\n",
              "        text-align: right;\n",
              "    }\n",
              "</style>\n",
              "<table border=\"1\" class=\"dataframe\">\n",
              "  <thead>\n",
              "    <tr style=\"text-align: right;\">\n",
              "      <th></th>\n",
              "      <th>0.1000</th>\n",
              "      <th>0.0100</th>\n",
              "      <th>0.0010</th>\n",
              "      <th>0.0001</th>\n",
              "    </tr>\n",
              "  </thead>\n",
              "  <tbody>\n",
              "    <tr>\n",
              "      <th>Intercept</th>\n",
              "      <td>-1.379406</td>\n",
              "      <td>-1.880800</td>\n",
              "      <td>-1.734316</td>\n",
              "      <td>-1.051341</td>\n",
              "    </tr>\n",
              "    <tr>\n",
              "      <th>fuel[T.gasoline]</th>\n",
              "      <td>0.000000</td>\n",
              "      <td>-0.046446</td>\n",
              "      <td>-0.152563</td>\n",
              "      <td>-0.171113</td>\n",
              "    </tr>\n",
              "    <tr>\n",
              "      <th>sex[T.male]</th>\n",
              "      <td>0.000000</td>\n",
              "      <td>0.000000</td>\n",
              "      <td>-0.011243</td>\n",
              "      <td>-0.023756</td>\n",
              "    </tr>\n",
              "    <tr>\n",
              "      <th>fleet[T.Y]</th>\n",
              "      <td>0.000000</td>\n",
              "      <td>0.000000</td>\n",
              "      <td>0.000000</td>\n",
              "      <td>-0.095842</td>\n",
              "    </tr>\n",
              "    <tr>\n",
              "      <th>use[T.work]</th>\n",
              "      <td>0.000000</td>\n",
              "      <td>0.000000</td>\n",
              "      <td>0.000000</td>\n",
              "      <td>-0.070467</td>\n",
              "    </tr>\n",
              "    <tr>\n",
              "      <th>FO</th>\n",
              "      <td>0.000000</td>\n",
              "      <td>0.000000</td>\n",
              "      <td>-0.146410</td>\n",
              "      <td>-0.857882</td>\n",
              "    </tr>\n",
              "    <tr>\n",
              "      <th>PO</th>\n",
              "      <td>0.000000</td>\n",
              "      <td>0.000000</td>\n",
              "      <td>-0.181308</td>\n",
              "      <td>-0.865909</td>\n",
              "    </tr>\n",
              "    <tr>\n",
              "      <th>TPL</th>\n",
              "      <td>0.000000</td>\n",
              "      <td>0.000000</td>\n",
              "      <td>-0.121419</td>\n",
              "      <td>-0.793738</td>\n",
              "    </tr>\n",
              "    <tr>\n",
              "      <th>ageph_stand</th>\n",
              "      <td>0.000000</td>\n",
              "      <td>-0.056469</td>\n",
              "      <td>-0.105356</td>\n",
              "      <td>-0.110007</td>\n",
              "    </tr>\n",
              "    <tr>\n",
              "      <th>bm_stand</th>\n",
              "      <td>0.000000</td>\n",
              "      <td>0.196946</td>\n",
              "      <td>0.246020</td>\n",
              "      <td>0.254448</td>\n",
              "    </tr>\n",
              "    <tr>\n",
              "      <th>power_stand</th>\n",
              "      <td>0.000000</td>\n",
              "      <td>0.000000</td>\n",
              "      <td>0.056871</td>\n",
              "      <td>0.071654</td>\n",
              "    </tr>\n",
              "    <tr>\n",
              "      <th>agec_stand</th>\n",
              "      <td>0.000000</td>\n",
              "      <td>0.000000</td>\n",
              "      <td>0.000000</td>\n",
              "      <td>0.000000</td>\n",
              "    </tr>\n",
              "  </tbody>\n",
              "</table>\n",
              "</div>"
            ],
            "text/plain": [
              "                    0.1000    0.0100    0.0010    0.0001\n",
              "Intercept        -1.379406 -1.880800 -1.734316 -1.051341\n",
              "fuel[T.gasoline]  0.000000 -0.046446 -0.152563 -0.171113\n",
              "sex[T.male]       0.000000  0.000000 -0.011243 -0.023756\n",
              "fleet[T.Y]        0.000000  0.000000  0.000000 -0.095842\n",
              "use[T.work]       0.000000  0.000000  0.000000 -0.070467\n",
              "FO                0.000000  0.000000 -0.146410 -0.857882\n",
              "PO                0.000000  0.000000 -0.181308 -0.865909\n",
              "TPL               0.000000  0.000000 -0.121419 -0.793738\n",
              "ageph_stand       0.000000 -0.056469 -0.105356 -0.110007\n",
              "bm_stand          0.000000  0.196946  0.246020  0.254448\n",
              "power_stand       0.000000  0.000000  0.056871  0.071654\n",
              "agec_stand        0.000000  0.000000  0.000000  0.000000"
            ]
          },
          "metadata": {},
          "execution_count": 100
        }
      ]
    },
    {
      "cell_type": "markdown",
      "metadata": {
        "id": "eCzLQ0HNbZ1A"
      },
      "source": [
        "## 4.2 A regularized linear regression model with {scikit-learn} <a name=\"four-two\"></a>\n"
      ]
    },
    {
      "cell_type": "markdown",
      "metadata": {
        "id": "o47yysjR5u8N"
      },
      "source": [
        "We demonstrate the use of regularized regression within {scikit-learn} on the Ames housing data set."
      ]
    },
    {
      "cell_type": "code",
      "metadata": {
        "colab": {
          "base_uri": "https://localhost:8080/"
        },
        "id": "RbOHb_gcXqoW",
        "outputId": "544efdd5-81df-495f-b27b-b1863dd2d8e6"
      },
      "source": [
        "ames_orig.info()"
      ],
      "execution_count": 41,
      "outputs": [
        {
          "output_type": "stream",
          "name": "stdout",
          "text": [
            "<class 'pandas.core.frame.DataFrame'>\n",
            "RangeIndex: 2930 entries, 0 to 2929\n",
            "Data columns (total 82 columns):\n",
            " #   Column              Non-Null Count  Dtype  \n",
            "---  ------              --------------  -----  \n",
            " 0   Unnamed: 0          2930 non-null   int64  \n",
            " 1   MS_SubClass         2930 non-null   object \n",
            " 2   MS_Zoning           2930 non-null   object \n",
            " 3   Lot_Frontage        2930 non-null   int64  \n",
            " 4   Lot_Area            2930 non-null   int64  \n",
            " 5   Street              2930 non-null   object \n",
            " 6   Alley               2930 non-null   object \n",
            " 7   Lot_Shape           2930 non-null   object \n",
            " 8   Land_Contour        2930 non-null   object \n",
            " 9   Utilities           2930 non-null   object \n",
            " 10  Lot_Config          2930 non-null   object \n",
            " 11  Land_Slope          2930 non-null   object \n",
            " 12  Neighborhood        2930 non-null   object \n",
            " 13  Condition_1         2930 non-null   object \n",
            " 14  Condition_2         2930 non-null   object \n",
            " 15  Bldg_Type           2930 non-null   object \n",
            " 16  House_Style         2930 non-null   object \n",
            " 17  Overall_Qual        2930 non-null   object \n",
            " 18  Overall_Cond        2930 non-null   object \n",
            " 19  Year_Built          2930 non-null   int64  \n",
            " 20  Year_Remod_Add      2930 non-null   int64  \n",
            " 21  Roof_Style          2930 non-null   object \n",
            " 22  Roof_Matl           2930 non-null   object \n",
            " 23  Exterior_1st        2930 non-null   object \n",
            " 24  Exterior_2nd        2930 non-null   object \n",
            " 25  Mas_Vnr_Type        2930 non-null   object \n",
            " 26  Mas_Vnr_Area        2930 non-null   int64  \n",
            " 27  Exter_Qual          2930 non-null   object \n",
            " 28  Exter_Cond          2930 non-null   object \n",
            " 29  Foundation          2930 non-null   object \n",
            " 30  Bsmt_Qual           2930 non-null   object \n",
            " 31  Bsmt_Cond           2930 non-null   object \n",
            " 32  Bsmt_Exposure       2930 non-null   object \n",
            " 33  BsmtFin_Type_1      2930 non-null   object \n",
            " 34  BsmtFin_SF_1        2930 non-null   int64  \n",
            " 35  BsmtFin_Type_2      2930 non-null   object \n",
            " 36  BsmtFin_SF_2        2930 non-null   int64  \n",
            " 37  Bsmt_Unf_SF         2930 non-null   int64  \n",
            " 38  Total_Bsmt_SF       2930 non-null   int64  \n",
            " 39  Heating             2930 non-null   object \n",
            " 40  Heating_QC          2930 non-null   object \n",
            " 41  Central_Air         2930 non-null   object \n",
            " 42  Electrical          2930 non-null   object \n",
            " 43  First_Flr_SF        2930 non-null   int64  \n",
            " 44  Second_Flr_SF       2930 non-null   int64  \n",
            " 45  Low_Qual_Fin_SF     2930 non-null   int64  \n",
            " 46  Gr_Liv_Area         2930 non-null   int64  \n",
            " 47  Bsmt_Full_Bath      2930 non-null   int64  \n",
            " 48  Bsmt_Half_Bath      2930 non-null   int64  \n",
            " 49  Full_Bath           2930 non-null   int64  \n",
            " 50  Half_Bath           2930 non-null   int64  \n",
            " 51  Bedroom_AbvGr       2930 non-null   int64  \n",
            " 52  Kitchen_AbvGr       2930 non-null   int64  \n",
            " 53  Kitchen_Qual        2930 non-null   object \n",
            " 54  TotRms_AbvGrd       2930 non-null   int64  \n",
            " 55  Functional          2930 non-null   object \n",
            " 56  Fireplaces          2930 non-null   int64  \n",
            " 57  Fireplace_Qu        2930 non-null   object \n",
            " 58  Garage_Type         2930 non-null   object \n",
            " 59  Garage_Finish       2930 non-null   object \n",
            " 60  Garage_Cars         2930 non-null   int64  \n",
            " 61  Garage_Area         2930 non-null   int64  \n",
            " 62  Garage_Qual         2930 non-null   object \n",
            " 63  Garage_Cond         2930 non-null   object \n",
            " 64  Paved_Drive         2930 non-null   object \n",
            " 65  Wood_Deck_SF        2930 non-null   int64  \n",
            " 66  Open_Porch_SF       2930 non-null   int64  \n",
            " 67  Enclosed_Porch      2930 non-null   int64  \n",
            " 68  Three_season_porch  2930 non-null   int64  \n",
            " 69  Screen_Porch        2930 non-null   int64  \n",
            " 70  Pool_Area           2930 non-null   int64  \n",
            " 71  Pool_QC             2930 non-null   object \n",
            " 72  Fence               2930 non-null   object \n",
            " 73  Misc_Feature        2930 non-null   object \n",
            " 74  Misc_Val            2930 non-null   int64  \n",
            " 75  Mo_Sold             2930 non-null   int64  \n",
            " 76  Year_Sold           2930 non-null   int64  \n",
            " 77  Sale_Type           2930 non-null   object \n",
            " 78  Sale_Condition      2930 non-null   object \n",
            " 79  Sale_Price          2930 non-null   int64  \n",
            " 80  Longitude           2930 non-null   float64\n",
            " 81  Latitude            2930 non-null   float64\n",
            "dtypes: float64(2), int64(34), object(46)\n",
            "memory usage: 1.8+ MB\n"
          ]
        }
      ]
    },
    {
      "cell_type": "markdown",
      "metadata": {
        "id": "5x7vMRvOX6DT"
      },
      "source": [
        "In the below demonstration of ridge and lasso linear regression, we focus on the numeric features in the Ames housing data set."
      ]
    },
    {
      "cell_type": "markdown",
      "metadata": {
        "id": "RQGav77lZuL_"
      },
      "source": [
        "### Some data preperation steps"
      ]
    },
    {
      "cell_type": "code",
      "metadata": {
        "id": "Zso1d-_72hs7"
      },
      "source": [
        "ames_num = ames_orig[ames_orig.columns[ames_orig.dtypes != 'object'].values].drop(columns = ['Unnamed: 0'])"
      ],
      "execution_count": 13,
      "outputs": []
    },
    {
      "cell_type": "code",
      "metadata": {
        "colab": {
          "base_uri": "https://localhost:8080/"
        },
        "id": "YaNpjUERffeV",
        "outputId": "6602d4a2-eaad-4e57-b0e0-dbcf59028920"
      },
      "source": [
        "ames_num.info()"
      ],
      "execution_count": 14,
      "outputs": [
        {
          "output_type": "stream",
          "name": "stdout",
          "text": [
            "<class 'pandas.core.frame.DataFrame'>\n",
            "RangeIndex: 2930 entries, 0 to 2929\n",
            "Data columns (total 36 columns):\n",
            " #   Column              Non-Null Count  Dtype  \n",
            "---  ------              --------------  -----  \n",
            " 0   Lot_Frontage        2930 non-null   int64  \n",
            " 1   Lot_Area            2930 non-null   int64  \n",
            " 2   Year_Built          2930 non-null   int64  \n",
            " 3   Year_Remod_Add      2930 non-null   int64  \n",
            " 4   Mas_Vnr_Area        2930 non-null   int64  \n",
            " 5   BsmtFin_SF_1        2930 non-null   int64  \n",
            " 6   BsmtFin_SF_2        2930 non-null   int64  \n",
            " 7   Bsmt_Unf_SF         2930 non-null   int64  \n",
            " 8   Total_Bsmt_SF       2930 non-null   int64  \n",
            " 9   First_Flr_SF        2930 non-null   int64  \n",
            " 10  Second_Flr_SF       2930 non-null   int64  \n",
            " 11  Low_Qual_Fin_SF     2930 non-null   int64  \n",
            " 12  Gr_Liv_Area         2930 non-null   int64  \n",
            " 13  Bsmt_Full_Bath      2930 non-null   int64  \n",
            " 14  Bsmt_Half_Bath      2930 non-null   int64  \n",
            " 15  Full_Bath           2930 non-null   int64  \n",
            " 16  Half_Bath           2930 non-null   int64  \n",
            " 17  Bedroom_AbvGr       2930 non-null   int64  \n",
            " 18  Kitchen_AbvGr       2930 non-null   int64  \n",
            " 19  TotRms_AbvGrd       2930 non-null   int64  \n",
            " 20  Fireplaces          2930 non-null   int64  \n",
            " 21  Garage_Cars         2930 non-null   int64  \n",
            " 22  Garage_Area         2930 non-null   int64  \n",
            " 23  Wood_Deck_SF        2930 non-null   int64  \n",
            " 24  Open_Porch_SF       2930 non-null   int64  \n",
            " 25  Enclosed_Porch      2930 non-null   int64  \n",
            " 26  Three_season_porch  2930 non-null   int64  \n",
            " 27  Screen_Porch        2930 non-null   int64  \n",
            " 28  Pool_Area           2930 non-null   int64  \n",
            " 29  Misc_Val            2930 non-null   int64  \n",
            " 30  Mo_Sold             2930 non-null   int64  \n",
            " 31  Year_Sold           2930 non-null   int64  \n",
            " 32  Sale_Price          2930 non-null   int64  \n",
            " 33  Longitude           2930 non-null   float64\n",
            " 34  Latitude            2930 non-null   float64\n",
            " 35  log_Sale_Price      2930 non-null   float64\n",
            "dtypes: float64(3), int64(33)\n",
            "memory usage: 824.2 KB\n"
          ]
        }
      ]
    },
    {
      "cell_type": "markdown",
      "metadata": {
        "id": "lJtvrZzyYIP_"
      },
      "source": [
        "Recall our earlier explorations of the empirical distribution of the target variable `Sale_Price`: a log transformation helps to obtain a more symmetric distribution of the outcome."
      ]
    },
    {
      "cell_type": "code",
      "metadata": {
        "colab": {
          "base_uri": "https://localhost:8080/",
          "height": 265
        },
        "id": "fWXSDQSryB0I",
        "outputId": "310c6686-a12f-4127-df50-351f49db145c"
      },
      "source": [
        "plt.hist(np.log(ames_num[\"Sale_Price\"]), bins = 25, color = KULbg, alpha = 0.5);"
      ],
      "execution_count": 15,
      "outputs": [
        {
          "output_type": "display_data",
          "data": {
            "image/png": "[encoded data removed]",
            "text/plain": [
              "<Figure size 432x288 with 1 Axes>"
            ]
          },
          "metadata": {
            "needs_background": "light"
          }
        }
      ]
    },
    {
      "cell_type": "markdown",
      "metadata": {
        "id": "mrycZ4WrYf4y"
      },
      "source": [
        "We store the outcome variable (log-transformed) in `ames_y` and the input features in `ames_X`. Note: make sure the target variables (and its log transformation, if attached to `ames_orig`, are droppped when creating `ames_X`."
      ]
    },
    {
      "cell_type": "code",
      "metadata": {
        "colab": {
          "base_uri": "https://localhost:8080/"
        },
        "id": "XbZq9PWYhZCG",
        "outputId": "8b4d1076-bbc1-4758-e1d1-95da39a4281c"
      },
      "source": [
        "ames_X = ames_num.drop(columns = [\"Sale_Price\", \"log_Sale_Price\"])\n",
        "print(ames_X.shape)\n",
        "ames_y = np.log(ames_num[\"Sale_Price\"])\n",
        "print(ames_y.shape)"
      ],
      "execution_count": 16,
      "outputs": [
        {
          "output_type": "stream",
          "name": "stdout",
          "text": [
            "(2930, 34)\n",
            "(2930,)\n"
          ]
        }
      ]
    },
    {
      "cell_type": "markdown",
      "metadata": {
        "id": "uNv1zAtdYwbL"
      },
      "source": [
        "We divide the data into a test and train data set."
      ]
    },
    {
      "cell_type": "code",
      "metadata": {
        "id": "OPzARES_ffX6"
      },
      "source": [
        "from sklearn.model_selection import train_test_split\n",
        "\n",
        "np.random.seed(123)\n",
        "\n",
        "X_train, X_test, y_train, y_test = train_test_split(ames_X, ames_y, test_size = 0.3, stratify=pd.cut(ames_y,\n",
        "                                                                                                  bins=np.linspace(ames_y.min(),ames_y.max(), 20),\n",
        "                                                                                                  include_lowest=True))"
      ],
      "execution_count": 17,
      "outputs": []
    },
    {
      "cell_type": "code",
      "metadata": {
        "colab": {
          "base_uri": "https://localhost:8080/"
        },
        "id": "2e85LPnWffRQ",
        "outputId": "77c52ced-3671-4825-fc42-6f33b465453f"
      },
      "source": [
        "print(X_train.shape)\n",
        "print(X_test.shape)\n",
        "print(y_train.shape)\n",
        "print(y_test.shape)"
      ],
      "execution_count": 18,
      "outputs": [
        {
          "output_type": "stream",
          "name": "stdout",
          "text": [
            "(2051, 34)\n",
            "(879, 34)\n",
            "(2051,)\n",
            "(879,)\n"
          ]
        }
      ]
    },
    {
      "cell_type": "markdown",
      "metadata": {
        "id": "h11rm1VaY_Z3"
      },
      "source": [
        "It is preferred to fit regularized regression models with covariates on the same scale. Hence, we fit the standardization constants on `X_train`, then apply these to transform both `X_train` and `X_test`. "
      ]
    },
    {
      "cell_type": "code",
      "metadata": {
        "id": "JH79w-PRwZzN"
      },
      "source": [
        "from sklearn.preprocessing import StandardScaler\n",
        "\n",
        "ss = StandardScaler()\n",
        "Z_train = ss.fit_transform(X_train)\n",
        "Z_test = ss.transform(X_test)"
      ],
      "execution_count": 19,
      "outputs": []
    },
    {
      "cell_type": "markdown",
      "metadata": {
        "id": "39d7EGeSZz7a"
      },
      "source": [
        "### Fitting a linear regression model without regularization"
      ]
    },
    {
      "cell_type": "markdown",
      "metadata": {
        "id": "8A_mgAuhZdLk"
      },
      "source": [
        "We are now ready to fit a linear regression on `y_train`, using the standardized input features stored in `Z_train`."
      ]
    },
    {
      "cell_type": "code",
      "metadata": {
        "colab": {
          "base_uri": "https://localhost:8080/"
        },
        "id": "SGexaQm0ffK2",
        "outputId": "0edabf6d-26af-49ee-a79f-55f57cbf295b"
      },
      "source": [
        "from sklearn.linear_model import LinearRegression\n",
        "\n",
        "linear_mod = LinearRegression()\n",
        "linear_mod.fit(Z_train, y_train)"
      ],
      "execution_count": 20,
      "outputs": [
        {
          "output_type": "execute_result",
          "data": {
            "text/plain": [
              "LinearRegression()"
            ]
          },
          "metadata": {},
          "execution_count": 20
        }
      ]
    },
    {
      "cell_type": "code",
      "metadata": {
        "colab": {
          "base_uri": "https://localhost:8080/"
        },
        "id": "o6tVZHIAffD5",
        "outputId": "e1aa4d90-b246-44cc-873c-2395325e371f"
      },
      "source": [
        "linear_mod.coef_"
      ],
      "execution_count": 21,
      "outputs": [
        {
          "output_type": "execute_result",
          "data": {
            "text/plain": [
              "array([ 8.38308970e-03,  1.34486917e-02,  8.04262424e-02,  7.25796044e-02,\n",
              "        5.30797022e-03, -9.76726692e-03, -7.98213019e-03, -2.49245102e-02,\n",
              "        8.90594150e-02,  2.34697106e+11,  2.64533163e+11,  3.11281587e+10,\n",
              "       -3.03103871e+11,  1.52191989e-02,  3.79413020e-03,  1.63078667e-03,\n",
              "        9.03729210e-04, -1.35240708e-02, -3.34739015e-02,  1.68811378e-02,\n",
              "        3.57522662e-02,  3.83750248e-02,  1.86263173e-02,  1.05146180e-02,\n",
              "        3.15938113e-03,  1.22665112e-02,  5.10040886e-03,  1.68387422e-02,\n",
              "        2.64555512e-03,  7.12939747e-04, -1.21675894e-03, -7.44076520e-03,\n",
              "       -7.26653149e-03,  1.64966551e-02])"
            ]
          },
          "metadata": {},
          "execution_count": 21
        }
      ]
    },
    {
      "cell_type": "markdown",
      "metadata": {
        "id": "N_coI7TkZ8dR"
      },
      "source": [
        "### Fitting a ridge regression model with $\\ell_2$ penalty on the regression parameters"
      ]
    },
    {
      "cell_type": "code",
      "metadata": {
        "colab": {
          "base_uri": "https://localhost:8080/"
        },
        "id": "zk5DkJb4vsi7",
        "outputId": "3d9e6de7-f2aa-460b-9421-a722e2527c18"
      },
      "source": [
        "from sklearn.linear_model import Ridge\n",
        "\n",
        "ridge_mod = Ridge(alpha = 0.5)\n",
        "ridge_mod.fit(Z_train, y_train)"
      ],
      "execution_count": 22,
      "outputs": [
        {
          "output_type": "execute_result",
          "data": {
            "text/plain": [
              "Ridge(alpha=0.5)"
            ]
          },
          "metadata": {},
          "execution_count": 22
        }
      ]
    },
    {
      "cell_type": "code",
      "metadata": {
        "colab": {
          "base_uri": "https://localhost:8080/"
        },
        "id": "EBpL1o-Uwu11",
        "outputId": "98c4b2c7-7c1d-4f4b-adba-cd4bc65eb722"
      },
      "source": [
        "ridge_mod.coef_"
      ],
      "execution_count": 23,
      "outputs": [
        {
          "output_type": "execute_result",
          "data": {
            "text/plain": [
              "array([ 0.00839395,  0.01345917,  0.0802534 ,  0.0726799 ,  0.00538742,\n",
              "       -0.00960101, -0.00795109, -0.02507334,  0.08925471,  0.05147609,\n",
              "        0.05259252, -0.00306853,  0.08544344,  0.01518647,  0.00379526,\n",
              "        0.00166574,  0.00093061, -0.01352603, -0.03343094,  0.01683816,\n",
              "        0.03574877,  0.03829791,  0.01875171,  0.01060281,  0.00311549,\n",
              "        0.01217881,  0.00496443,  0.01689928,  0.00258425,  0.00078075,\n",
              "       -0.00126068, -0.00748691, -0.00731424,  0.01646989])"
            ]
          },
          "metadata": {},
          "execution_count": 23
        }
      ]
    },
    {
      "cell_type": "markdown",
      "metadata": {
        "id": "hDrpjv8QaJzv"
      },
      "source": [
        "### Fitting a lasso regression model with $\\ell_1$ penalty on the regression parameters"
      ]
    },
    {
      "cell_type": "code",
      "metadata": {
        "colab": {
          "base_uri": "https://localhost:8080/"
        },
        "id": "ATtXDiRbv4Dp",
        "outputId": "ca732afb-b685-4b1d-dd4d-07340e583f87"
      },
      "source": [
        "from sklearn.linear_model import Lasso\n",
        "\n",
        "lasso_mod = Lasso(alpha = 0.05)\n",
        "lasso_mod.fit(Z_train, y_train)"
      ],
      "execution_count": 24,
      "outputs": [
        {
          "output_type": "execute_result",
          "data": {
            "text/plain": [
              "Lasso(alpha=0.05)"
            ]
          },
          "metadata": {},
          "execution_count": 24
        }
      ]
    },
    {
      "cell_type": "code",
      "metadata": {
        "colab": {
          "base_uri": "https://localhost:8080/"
        },
        "id": "CUehlCEXv374",
        "outputId": "18506d4a-74ed-42eb-fac8-54bd0cf79af5"
      },
      "source": [
        "lasso_mod.coef_"
      ],
      "execution_count": 25,
      "outputs": [
        {
          "output_type": "execute_result",
          "data": {
            "text/plain": [
              "array([ 0.        ,  0.        ,  0.07432199,  0.05354481,  0.        ,\n",
              "       -0.        ,  0.        , -0.        ,  0.07550545,  0.        ,\n",
              "        0.        , -0.        ,  0.12607049,  0.        ,  0.        ,\n",
              "        0.        ,  0.        , -0.        , -0.        ,  0.        ,\n",
              "        0.02855751,  0.03544708,  0.02498048,  0.        ,  0.        ,\n",
              "       -0.        ,  0.        ,  0.        ,  0.        , -0.        ,\n",
              "        0.        , -0.        , -0.        ,  0.        ])"
            ]
          },
          "metadata": {},
          "execution_count": 25
        }
      ]
    },
    {
      "cell_type": "code",
      "metadata": {
        "colab": {
          "base_uri": "https://localhost:8080/",
          "height": 1000
        },
        "id": "X8jqV38_fe9o",
        "outputId": "5af2d83a-93b8-4184-da01-2beddec26841"
      },
      "source": [
        "pd.DataFrame({\"Variables\" : X_train.columns, \"Linear coef\":linear_mod.coef_, \"Ridge coef\":ridge_mod.coef_, \"Lasso coef\":lasso_mod.coef_})"
      ],
      "execution_count": 26,
      "outputs": [
        {
          "output_type": "execute_result",
          "data": {
            "text/html": [
              "<div>\n",
              "<style scoped>\n",
              "    .dataframe tbody tr th:only-of-type {\n",
              "        vertical-align: middle;\n",
              "    }\n",
              "\n",
              "    .dataframe tbody tr th {\n",
              "        vertical-align: top;\n",
              "    }\n",
              "\n",
              "    .dataframe thead th {\n",
              "        text-align: right;\n",
              "    }\n",
              "</style>\n",
              "<table border=\"1\" class=\"dataframe\">\n",
              "  <thead>\n",
              "    <tr style=\"text-align: right;\">\n",
              "      <th></th>\n",
              "      <th>Variables</th>\n",
              "      <th>Linear coef</th>\n",
              "      <th>Ridge coef</th>\n",
              "      <th>Lasso coef</th>\n",
              "    </tr>\n",
              "  </thead>\n",
              "  <tbody>\n",
              "    <tr>\n",
              "      <th>0</th>\n",
              "      <td>Lot_Frontage</td>\n",
              "      <td>8.383090e-03</td>\n",
              "      <td>0.008394</td>\n",
              "      <td>0.000000</td>\n",
              "    </tr>\n",
              "    <tr>\n",
              "      <th>1</th>\n",
              "      <td>Lot_Area</td>\n",
              "      <td>1.344869e-02</td>\n",
              "      <td>0.013459</td>\n",
              "      <td>0.000000</td>\n",
              "    </tr>\n",
              "    <tr>\n",
              "      <th>2</th>\n",
              "      <td>Year_Built</td>\n",
              "      <td>8.042624e-02</td>\n",
              "      <td>0.080253</td>\n",
              "      <td>0.074322</td>\n",
              "    </tr>\n",
              "    <tr>\n",
              "      <th>3</th>\n",
              "      <td>Year_Remod_Add</td>\n",
              "      <td>7.257960e-02</td>\n",
              "      <td>0.072680</td>\n",
              "      <td>0.053545</td>\n",
              "    </tr>\n",
              "    <tr>\n",
              "      <th>4</th>\n",
              "      <td>Mas_Vnr_Area</td>\n",
              "      <td>5.307970e-03</td>\n",
              "      <td>0.005387</td>\n",
              "      <td>0.000000</td>\n",
              "    </tr>\n",
              "    <tr>\n",
              "      <th>5</th>\n",
              "      <td>BsmtFin_SF_1</td>\n",
              "      <td>-9.767267e-03</td>\n",
              "      <td>-0.009601</td>\n",
              "      <td>-0.000000</td>\n",
              "    </tr>\n",
              "    <tr>\n",
              "      <th>6</th>\n",
              "      <td>BsmtFin_SF_2</td>\n",
              "      <td>-7.982130e-03</td>\n",
              "      <td>-0.007951</td>\n",
              "      <td>0.000000</td>\n",
              "    </tr>\n",
              "    <tr>\n",
              "      <th>7</th>\n",
              "      <td>Bsmt_Unf_SF</td>\n",
              "      <td>-2.492451e-02</td>\n",
              "      <td>-0.025073</td>\n",
              "      <td>-0.000000</td>\n",
              "    </tr>\n",
              "    <tr>\n",
              "      <th>8</th>\n",
              "      <td>Total_Bsmt_SF</td>\n",
              "      <td>8.905941e-02</td>\n",
              "      <td>0.089255</td>\n",
              "      <td>0.075505</td>\n",
              "    </tr>\n",
              "    <tr>\n",
              "      <th>9</th>\n",
              "      <td>First_Flr_SF</td>\n",
              "      <td>2.346971e+11</td>\n",
              "      <td>0.051476</td>\n",
              "      <td>0.000000</td>\n",
              "    </tr>\n",
              "    <tr>\n",
              "      <th>10</th>\n",
              "      <td>Second_Flr_SF</td>\n",
              "      <td>2.645332e+11</td>\n",
              "      <td>0.052593</td>\n",
              "      <td>0.000000</td>\n",
              "    </tr>\n",
              "    <tr>\n",
              "      <th>11</th>\n",
              "      <td>Low_Qual_Fin_SF</td>\n",
              "      <td>3.112816e+10</td>\n",
              "      <td>-0.003069</td>\n",
              "      <td>-0.000000</td>\n",
              "    </tr>\n",
              "    <tr>\n",
              "      <th>12</th>\n",
              "      <td>Gr_Liv_Area</td>\n",
              "      <td>-3.031039e+11</td>\n",
              "      <td>0.085443</td>\n",
              "      <td>0.126070</td>\n",
              "    </tr>\n",
              "    <tr>\n",
              "      <th>13</th>\n",
              "      <td>Bsmt_Full_Bath</td>\n",
              "      <td>1.521920e-02</td>\n",
              "      <td>0.015186</td>\n",
              "      <td>0.000000</td>\n",
              "    </tr>\n",
              "    <tr>\n",
              "      <th>14</th>\n",
              "      <td>Bsmt_Half_Bath</td>\n",
              "      <td>3.794130e-03</td>\n",
              "      <td>0.003795</td>\n",
              "      <td>0.000000</td>\n",
              "    </tr>\n",
              "    <tr>\n",
              "      <th>15</th>\n",
              "      <td>Full_Bath</td>\n",
              "      <td>1.630787e-03</td>\n",
              "      <td>0.001666</td>\n",
              "      <td>0.000000</td>\n",
              "    </tr>\n",
              "    <tr>\n",
              "      <th>16</th>\n",
              "      <td>Half_Bath</td>\n",
              "      <td>9.037292e-04</td>\n",
              "      <td>0.000931</td>\n",
              "      <td>0.000000</td>\n",
              "    </tr>\n",
              "    <tr>\n",
              "      <th>17</th>\n",
              "      <td>Bedroom_AbvGr</td>\n",
              "      <td>-1.352407e-02</td>\n",
              "      <td>-0.013526</td>\n",
              "      <td>-0.000000</td>\n",
              "    </tr>\n",
              "    <tr>\n",
              "      <th>18</th>\n",
              "      <td>Kitchen_AbvGr</td>\n",
              "      <td>-3.347390e-02</td>\n",
              "      <td>-0.033431</td>\n",
              "      <td>-0.000000</td>\n",
              "    </tr>\n",
              "    <tr>\n",
              "      <th>19</th>\n",
              "      <td>TotRms_AbvGrd</td>\n",
              "      <td>1.688114e-02</td>\n",
              "      <td>0.016838</td>\n",
              "      <td>0.000000</td>\n",
              "    </tr>\n",
              "    <tr>\n",
              "      <th>20</th>\n",
              "      <td>Fireplaces</td>\n",
              "      <td>3.575227e-02</td>\n",
              "      <td>0.035749</td>\n",
              "      <td>0.028558</td>\n",
              "    </tr>\n",
              "    <tr>\n",
              "      <th>21</th>\n",
              "      <td>Garage_Cars</td>\n",
              "      <td>3.837502e-02</td>\n",
              "      <td>0.038298</td>\n",
              "      <td>0.035447</td>\n",
              "    </tr>\n",
              "    <tr>\n",
              "      <th>22</th>\n",
              "      <td>Garage_Area</td>\n",
              "      <td>1.862632e-02</td>\n",
              "      <td>0.018752</td>\n",
              "      <td>0.024980</td>\n",
              "    </tr>\n",
              "    <tr>\n",
              "      <th>23</th>\n",
              "      <td>Wood_Deck_SF</td>\n",
              "      <td>1.051462e-02</td>\n",
              "      <td>0.010603</td>\n",
              "      <td>0.000000</td>\n",
              "    </tr>\n",
              "    <tr>\n",
              "      <th>24</th>\n",
              "      <td>Open_Porch_SF</td>\n",
              "      <td>3.159381e-03</td>\n",
              "      <td>0.003115</td>\n",
              "      <td>0.000000</td>\n",
              "    </tr>\n",
              "    <tr>\n",
              "      <th>25</th>\n",
              "      <td>Enclosed_Porch</td>\n",
              "      <td>1.226651e-02</td>\n",
              "      <td>0.012179</td>\n",
              "      <td>-0.000000</td>\n",
              "    </tr>\n",
              "    <tr>\n",
              "      <th>26</th>\n",
              "      <td>Three_season_porch</td>\n",
              "      <td>5.100409e-03</td>\n",
              "      <td>0.004964</td>\n",
              "      <td>0.000000</td>\n",
              "    </tr>\n",
              "    <tr>\n",
              "      <th>27</th>\n",
              "      <td>Screen_Porch</td>\n",
              "      <td>1.683874e-02</td>\n",
              "      <td>0.016899</td>\n",
              "      <td>0.000000</td>\n",
              "    </tr>\n",
              "    <tr>\n",
              "      <th>28</th>\n",
              "      <td>Pool_Area</td>\n",
              "      <td>2.645555e-03</td>\n",
              "      <td>0.002584</td>\n",
              "      <td>0.000000</td>\n",
              "    </tr>\n",
              "    <tr>\n",
              "      <th>29</th>\n",
              "      <td>Misc_Val</td>\n",
              "      <td>7.129397e-04</td>\n",
              "      <td>0.000781</td>\n",
              "      <td>-0.000000</td>\n",
              "    </tr>\n",
              "    <tr>\n",
              "      <th>30</th>\n",
              "      <td>Mo_Sold</td>\n",
              "      <td>-1.216759e-03</td>\n",
              "      <td>-0.001261</td>\n",
              "      <td>0.000000</td>\n",
              "    </tr>\n",
              "    <tr>\n",
              "      <th>31</th>\n",
              "      <td>Year_Sold</td>\n",
              "      <td>-7.440765e-03</td>\n",
              "      <td>-0.007487</td>\n",
              "      <td>-0.000000</td>\n",
              "    </tr>\n",
              "    <tr>\n",
              "      <th>32</th>\n",
              "      <td>Longitude</td>\n",
              "      <td>-7.266531e-03</td>\n",
              "      <td>-0.007314</td>\n",
              "      <td>-0.000000</td>\n",
              "    </tr>\n",
              "    <tr>\n",
              "      <th>33</th>\n",
              "      <td>Latitude</td>\n",
              "      <td>1.649666e-02</td>\n",
              "      <td>0.016470</td>\n",
              "      <td>0.000000</td>\n",
              "    </tr>\n",
              "  </tbody>\n",
              "</table>\n",
              "</div>"
            ],
            "text/plain": [
              "             Variables   Linear coef  Ridge coef  Lasso coef\n",
              "0         Lot_Frontage  8.383090e-03    0.008394    0.000000\n",
              "1             Lot_Area  1.344869e-02    0.013459    0.000000\n",
              "2           Year_Built  8.042624e-02    0.080253    0.074322\n",
              "3       Year_Remod_Add  7.257960e-02    0.072680    0.053545\n",
              "4         Mas_Vnr_Area  5.307970e-03    0.005387    0.000000\n",
              "5         BsmtFin_SF_1 -9.767267e-03   -0.009601   -0.000000\n",
              "6         BsmtFin_SF_2 -7.982130e-03   -0.007951    0.000000\n",
              "7          Bsmt_Unf_SF -2.492451e-02   -0.025073   -0.000000\n",
              "8        Total_Bsmt_SF  8.905941e-02    0.089255    0.075505\n",
              "9         First_Flr_SF  2.346971e+11    0.051476    0.000000\n",
              "10       Second_Flr_SF  2.645332e+11    0.052593    0.000000\n",
              "11     Low_Qual_Fin_SF  3.112816e+10   -0.003069   -0.000000\n",
              "12         Gr_Liv_Area -3.031039e+11    0.085443    0.126070\n",
              "13      Bsmt_Full_Bath  1.521920e-02    0.015186    0.000000\n",
              "14      Bsmt_Half_Bath  3.794130e-03    0.003795    0.000000\n",
              "15           Full_Bath  1.630787e-03    0.001666    0.000000\n",
              "16           Half_Bath  9.037292e-04    0.000931    0.000000\n",
              "17       Bedroom_AbvGr -1.352407e-02   -0.013526   -0.000000\n",
              "18       Kitchen_AbvGr -3.347390e-02   -0.033431   -0.000000\n",
              "19       TotRms_AbvGrd  1.688114e-02    0.016838    0.000000\n",
              "20          Fireplaces  3.575227e-02    0.035749    0.028558\n",
              "21         Garage_Cars  3.837502e-02    0.038298    0.035447\n",
              "22         Garage_Area  1.862632e-02    0.018752    0.024980\n",
              "23        Wood_Deck_SF  1.051462e-02    0.010603    0.000000\n",
              "24       Open_Porch_SF  3.159381e-03    0.003115    0.000000\n",
              "25      Enclosed_Porch  1.226651e-02    0.012179   -0.000000\n",
              "26  Three_season_porch  5.100409e-03    0.004964    0.000000\n",
              "27        Screen_Porch  1.683874e-02    0.016899    0.000000\n",
              "28           Pool_Area  2.645555e-03    0.002584    0.000000\n",
              "29            Misc_Val  7.129397e-04    0.000781   -0.000000\n",
              "30             Mo_Sold -1.216759e-03   -0.001261    0.000000\n",
              "31           Year_Sold -7.440765e-03   -0.007487   -0.000000\n",
              "32           Longitude -7.266531e-03   -0.007314   -0.000000\n",
              "33            Latitude  1.649666e-02    0.016470    0.000000"
            ]
          },
          "metadata": {},
          "execution_count": 26
        }
      ]
    },
    {
      "cell_type": "markdown",
      "metadata": {
        "id": "dOO_K-LVac2z"
      },
      "source": [
        "### Choosing the lasso penalty weight via 5-fold cross validation"
      ]
    },
    {
      "cell_type": "code",
      "metadata": {
        "colab": {
          "base_uri": "https://localhost:8080/"
        },
        "id": "q580xVCGfezq",
        "outputId": "8042a174-73d9-4f95-dfe0-4f4333f53904"
      },
      "source": [
        "from sklearn.linear_model import LassoCV\n",
        "\n",
        "cv_lasso = LassoCV(cv = 5, random_state = 0)\n",
        "cv_lasso.fit(Z_train, y_train)"
      ],
      "execution_count": 27,
      "outputs": [
        {
          "output_type": "execute_result",
          "data": {
            "text/plain": [
              "LassoCV(cv=5, random_state=0)"
            ]
          },
          "metadata": {},
          "execution_count": 27
        }
      ]
    },
    {
      "cell_type": "code",
      "metadata": {
        "colab": {
          "base_uri": "https://localhost:8080/"
        },
        "id": "odX9KcGB0GYH",
        "outputId": "7ddd362c-b6ba-41ad-e020-921756c806ba"
      },
      "source": [
        "cv_lasso.alphas_"
      ],
      "execution_count": 28,
      "outputs": [
        {
          "output_type": "execute_result",
          "data": {
            "text/plain": [
              "array([0.2841934 , 0.26503971, 0.24717692, 0.23051803, 0.21498188,\n",
              "       0.20049282, 0.18698028, 0.17437843, 0.16262591, 0.15166547,\n",
              "       0.14144372, 0.13191089, 0.12302054, 0.11472936, 0.10699699,\n",
              "       0.09978575, 0.09306052, 0.08678856, 0.0809393 , 0.07548426,\n",
              "       0.07039687, 0.06565236, 0.06122761, 0.05710108, 0.05325265,\n",
              "       0.0496636 , 0.04631644, 0.04319487, 0.04028368, 0.03756869,\n",
              "       0.03503669, 0.03267533, 0.03047313, 0.02841934, 0.02650397,\n",
              "       0.02471769, 0.0230518 , 0.02149819, 0.02004928, 0.01869803,\n",
              "       0.01743784, 0.01626259, 0.01516655, 0.01414437, 0.01319109,\n",
              "       0.01230205, 0.01147294, 0.0106997 , 0.00997858, 0.00930605,\n",
              "       0.00867886, 0.00809393, 0.00754843, 0.00703969, 0.00656524,\n",
              "       0.00612276, 0.00571011, 0.00532527, 0.00496636, 0.00463164,\n",
              "       0.00431949, 0.00402837, 0.00375687, 0.00350367, 0.00326753,\n",
              "       0.00304731, 0.00284193, 0.0026504 , 0.00247177, 0.00230518,\n",
              "       0.00214982, 0.00200493, 0.0018698 , 0.00174378, 0.00162626,\n",
              "       0.00151665, 0.00141444, 0.00131911, 0.00123021, 0.00114729,\n",
              "       0.00106997, 0.00099786, 0.00093061, 0.00086789, 0.00080939,\n",
              "       0.00075484, 0.00070397, 0.00065652, 0.00061228, 0.00057101,\n",
              "       0.00053253, 0.00049664, 0.00046316, 0.00043195, 0.00040284,\n",
              "       0.00037569, 0.00035037, 0.00032675, 0.00030473, 0.00028419])"
            ]
          },
          "metadata": {},
          "execution_count": 28
        }
      ]
    },
    {
      "cell_type": "code",
      "metadata": {
        "colab": {
          "base_uri": "https://localhost:8080/"
        },
        "id": "iv5fQWcN0j9I",
        "outputId": "7c174a59-bb54-45db-f37b-9561be7390ba"
      },
      "source": [
        "cv_lasso.mse_path_"
      ],
      "execution_count": 29,
      "outputs": [
        {
          "output_type": "execute_result",
          "data": {
            "text/plain": [
              "array([[0.18847251, 0.14926135, 0.15705167, 0.16771166, 0.15834104],\n",
              "       [0.18449561, 0.13832179, 0.14552445, 0.15622855, 0.14534767],\n",
              "       [0.17014372, 0.12787384, 0.13510747, 0.14341177, 0.13361788],\n",
              "       [0.15529359, 0.11771937, 0.12565054, 0.13230883, 0.1224692 ],\n",
              "       [0.14031595, 0.1077164 , 0.11492669, 0.11989363, 0.1110924 ],\n",
              "       [0.12672922, 0.09805641, 0.10507512, 0.10864835, 0.10124476],\n",
              "       [0.11489216, 0.08964039, 0.09651313, 0.09886641, 0.09276192],\n",
              "       [0.10455489, 0.08230711, 0.08905463, 0.09035732, 0.0853996 ],\n",
              "       [0.09523822, 0.07577787, 0.08237558, 0.0829555 , 0.07882123],\n",
              "       [0.08696526, 0.0697878 , 0.07632744, 0.07614125, 0.07315944],\n",
              "       [0.07974182, 0.06457248, 0.07105292, 0.07011996, 0.06829113],\n",
              "       [0.07343288, 0.06003111, 0.06645217, 0.06487764, 0.06410918],\n",
              "       [0.06792132, 0.05607628, 0.06243838, 0.06031303, 0.06049378],\n",
              "       [0.06310471, 0.05263238, 0.05893587, 0.0563382 , 0.05738795],\n",
              "       [0.05888128, 0.04963226, 0.05579536, 0.05285494, 0.05472785],\n",
              "       [0.0549872 , 0.04701887, 0.05296092, 0.0497873 , 0.05245276],\n",
              "       [0.05159512, 0.04466129, 0.05050075, 0.04692582, 0.05050984],\n",
              "       [0.04863483, 0.0422466 , 0.04836578, 0.04428119, 0.04885345],\n",
              "       [0.04605085, 0.04013775, 0.04651332, 0.041975  , 0.04732675],\n",
              "       [0.04379474, 0.03829561, 0.04490628, 0.03996312, 0.04564956],\n",
              "       [0.04182434, 0.03668621, 0.04351242, 0.03820791, 0.04420874],\n",
              "       [0.04010307, 0.03527927, 0.0423037 , 0.03667657, 0.04297236],\n",
              "       [0.03859895, 0.03404913, 0.04125578, 0.03533973, 0.0419125 ],\n",
              "       [0.03728413, 0.03297337, 0.04034747, 0.03417265, 0.04100728],\n",
              "       [0.03613447, 0.03203192, 0.0395604 , 0.03315377, 0.0402344 ],\n",
              "       [0.03512884, 0.03119986, 0.03887854, 0.03226355, 0.03957549],\n",
              "       [0.03424882, 0.03042106, 0.03828805, 0.03148599, 0.03901485],\n",
              "       [0.03346592, 0.02974338, 0.03773094, 0.03072396, 0.0385356 ],\n",
              "       [0.0326615 , 0.0290544 , 0.03721045, 0.03003306, 0.0379952 ],\n",
              "       [0.03181776, 0.02843642, 0.03665775, 0.02932093, 0.03753766],\n",
              "       [0.03102738, 0.02789345, 0.03611947, 0.02862297, 0.03715126],\n",
              "       [0.03032209, 0.02741863, 0.03563414, 0.02801032, 0.03664697],\n",
              "       [0.02969622, 0.02699472, 0.03518806, 0.02743878, 0.03612901],\n",
              "       [0.02915204, 0.02658681, 0.03479654, 0.02693974, 0.035657  ],\n",
              "       [0.02867893, 0.02622675, 0.03445195, 0.02650518, 0.03525771],\n",
              "       [0.02826761, 0.02590516, 0.03414554, 0.0261269 , 0.03492259],\n",
              "       [0.02790994, 0.02562393, 0.03387495, 0.02579758, 0.03463829],\n",
              "       [0.02758215, 0.02537803, 0.03363002, 0.02551117, 0.03439735],\n",
              "       [0.02728056, 0.02515033, 0.0334109 , 0.02524566, 0.0341744 ],\n",
              "       [0.02699288, 0.0249223 , 0.03319847, 0.02499827, 0.03397842],\n",
              "       [0.02674166, 0.02469416, 0.03301205, 0.02475979, 0.03381276],\n",
              "       [0.02652585, 0.02449372, 0.03284817, 0.02448864, 0.03364463],\n",
              "       [0.02633994, 0.0243191 , 0.0326694 , 0.02425249, 0.03349836],\n",
              "       [0.02616356, 0.02416687, 0.03249826, 0.02404673, 0.03337831],\n",
              "       [0.02596934, 0.02403413, 0.03234693, 0.02386766, 0.03328517],\n",
              "       [0.02579065, 0.02391836, 0.03221382, 0.02371179, 0.03321587],\n",
              "       [0.02563705, 0.02381738, 0.03209787, 0.0235761 , 0.03317237],\n",
              "       [0.02550629, 0.02372705, 0.03199671, 0.02345796, 0.03314097],\n",
              "       [0.02539551, 0.02361554, 0.03188415, 0.0233551 , 0.03311987],\n",
              "       [0.0253029 , 0.02352028, 0.03178487, 0.02324495, 0.03310728],\n",
              "       [0.02522426, 0.02343982, 0.03169782, 0.0231253 , 0.03310175],\n",
              "       [0.02516713, 0.02337085, 0.0316216 , 0.02302144, 0.0330986 ],\n",
              "       [0.02512242, 0.02331448, 0.03155679, 0.02293333, 0.03309938],\n",
              "       [0.02508672, 0.02326085, 0.03150577, 0.02286429, 0.03310466],\n",
              "       [0.02504553, 0.02321316, 0.03144899, 0.02280723, 0.03311344],\n",
              "       [0.02500982, 0.02317373, 0.0313918 , 0.02276121, 0.03312808],\n",
              "       [0.02498104, 0.02314137, 0.03134359, 0.022718  , 0.03315524],\n",
              "       [0.02495782, 0.02311403, 0.03130367, 0.02267482, 0.03318408],\n",
              "       [0.02493959, 0.02309053, 0.03127078, 0.02261721, 0.03321119],\n",
              "       [0.02492533, 0.02307485, 0.03124388, 0.02256474, 0.03321506],\n",
              "       [0.02491035, 0.023062  , 0.03121263, 0.02251769, 0.03320819],\n",
              "       [0.0248873 , 0.02304944, 0.03118055, 0.0224749 , 0.0332019 ],\n",
              "       [0.0248644 , 0.02303544, 0.03115382, 0.02243861, 0.03319379],\n",
              "       [0.02484501, 0.02302513, 0.03113331, 0.02240676, 0.03318872],\n",
              "       [0.02481381, 0.02301799, 0.03111485, 0.02237083, 0.03319346],\n",
              "       [0.02478242, 0.02301339, 0.03109099, 0.02234008, 0.03321274],\n",
              "       [0.0247552 , 0.02301095, 0.03107115, 0.02231327, 0.03323247],\n",
              "       [0.02473167, 0.02301083, 0.03105626, 0.02228997, 0.03325364],\n",
              "       [0.02471302, 0.02301255, 0.03104418, 0.02227058, 0.03326648],\n",
              "       [0.02469756, 0.02301583, 0.0310345 , 0.0222542 , 0.03327688],\n",
              "       [0.02468312, 0.02302133, 0.03102681, 0.02222196, 0.03328813],\n",
              "       [0.02468864, 0.02302746, 0.03102082, 0.02219425, 0.03330033],\n",
              "       [0.02469897, 0.02303405, 0.03101624, 0.0221698 , 0.03331323],\n",
              "       [0.02471046, 0.02304104, 0.0310128 , 0.02214823, 0.03332661],\n",
              "       [0.02472282, 0.02304846, 0.03101096, 0.02212901, 0.03334052],\n",
              "       [0.02473577, 0.02305595, 0.03101023, 0.02211261, 0.03335427],\n",
              "       [0.02474909, 0.02306344, 0.03101008, 0.02209826, 0.03336794],\n",
              "       [0.02476256, 0.02307088, 0.03101105, 0.02208559, 0.03338145],\n",
              "       [0.02477607, 0.02307821, 0.031012  , 0.02207416, 0.03339472],\n",
              "       [0.02478948, 0.02308539, 0.03101089, 0.02206426, 0.03340798],\n",
              "       [0.02480271, 0.02309236, 0.03101048, 0.02205549, 0.03342058],\n",
              "       [0.02481563, 0.02309913, 0.03101046, 0.02204745, 0.03343275],\n",
              "       [0.02482823, 0.02310568, 0.03101074, 0.02204057, 0.03344447],\n",
              "       [0.02484046, 0.02311195, 0.03101106, 0.02203416, 0.03345573],\n",
              "       [0.02485224, 0.02311799, 0.03101178, 0.02202873, 0.033467  ],\n",
              "       [0.02486359, 0.02312377, 0.03101266, 0.02202392, 0.03347858],\n",
              "       [0.02487449, 0.02312926, 0.03101344, 0.02201963, 0.03349204],\n",
              "       [0.0248849 , 0.02313451, 0.03101452, 0.02201555, 0.03350488],\n",
              "       [0.02489483, 0.02313951, 0.03101543, 0.02201211, 0.03351646],\n",
              "       [0.02490402, 0.02314423, 0.0310166 , 0.02200907, 0.03353237],\n",
              "       [0.02491278, 0.02314873, 0.03101783, 0.02200636, 0.03354602],\n",
              "       [0.024921  , 0.02315299, 0.03101855, 0.02200394, 0.03355856],\n",
              "       [0.02492902, 0.02315698, 0.0310202 , 0.02200176, 0.03357063],\n",
              "       [0.02493642, 0.02316078, 0.03102103, 0.02200071, 0.03358206],\n",
              "       [0.02494363, 0.02316432, 0.03102211, 0.02200047, 0.03359251],\n",
              "       [0.02495025, 0.02316776, 0.03102357, 0.02200005, 0.03360263],\n",
              "       [0.02495661, 0.02317083, 0.03102609, 0.02199953, 0.0336122 ],\n",
              "       [0.02496259, 0.02317389, 0.03102806, 0.02199903, 0.0336212 ],\n",
              "       [0.02496823, 0.02317666, 0.03102969, 0.02199859, 0.03362966],\n",
              "       [0.02497354, 0.02317931, 0.03103137, 0.02199878, 0.03363761]])"
            ]
          },
          "metadata": {},
          "execution_count": 29
        }
      ]
    },
    {
      "cell_type": "code",
      "metadata": {
        "colab": {
          "base_uri": "https://localhost:8080/"
        },
        "id": "ZGalf2UplnAk",
        "outputId": "b5f07513-f675-44a7-e73f-583edd9a4212"
      },
      "source": [
        "cv_lasso.alpha_"
      ],
      "execution_count": 30,
      "outputs": [
        {
          "output_type": "execute_result",
          "data": {
            "text/plain": [
              "0.002004928226953307"
            ]
          },
          "metadata": {},
          "execution_count": 30
        }
      ]
    },
    {
      "cell_type": "code",
      "metadata": {
        "colab": {
          "base_uri": "https://localhost:8080/",
          "height": 385
        },
        "id": "2KuijMT4lm6l",
        "outputId": "3961b31b-034a-40b1-a178-e1dae34c9aca"
      },
      "source": [
        "plt.figure(figsize=(15, 5), constrained_layout=True)\n",
        "plt.semilogx(cv_lasso.alphas_, cv_lasso.mse_path_, ':')\n",
        "plt.semilogx(cv_lasso.alphas_, cv_lasso.mse_path_.mean(axis=-1), 'k',\n",
        "             label='Average across the folds', linewidth=2)\n",
        "plt.axvline(cv_lasso.alpha_, linestyle='--', color='k',\n",
        "            label='alpha: CV estimate')\n",
        "plt.legend()\n",
        "plt.xlabel(r'$\\alpha$')\n",
        "plt.ylabel('Mean square prediction error')\n",
        "plt.show(block=False)"
      ],
      "execution_count": 31,
      "outputs": [
        {
          "output_type": "display_data",
          "data": {
            "image/png": "[encoded data removed]",
            "text/plain": [
              "<Figure size 1080x360 with 1 Axes>"
            ]
          },
          "metadata": {
            "needs_background": "light"
          }
        }
      ]
    },
    {
      "cell_type": "code",
      "metadata": {
        "colab": {
          "base_uri": "https://localhost:8080/"
        },
        "id": "wTyoRI14bbuJ",
        "outputId": "ad0d48d4-6844-4dea-824c-579061d711a2"
      },
      "source": [
        "lasso_mod_opt = Lasso(alpha = cv_lasso.alpha_)\n",
        "lasso_mod_opt.fit(Z_train, y_train)\n",
        "lasso_mod_opt.coef_"
      ],
      "execution_count": 32,
      "outputs": [
        {
          "output_type": "execute_result",
          "data": {
            "text/plain": [
              "array([ 0.00670432,  0.01222762,  0.08051588,  0.07291683,  0.00542598,\n",
              "       -0.01037756, -0.00409446, -0.02036779,  0.08659128,  0.00481304,\n",
              "        0.        , -0.00722544,  0.14867666,  0.01512745,  0.00116297,\n",
              "        0.        ,  0.        , -0.00771658, -0.03155331,  0.00926049,\n",
              "        0.03661874,  0.03843929,  0.01987548,  0.00948094,  0.00201546,\n",
              "        0.00880455,  0.00290651,  0.01499061,  0.00121095,  0.        ,\n",
              "       -0.        , -0.00537253, -0.0052102 ,  0.0147099 ])"
            ]
          },
          "metadata": {},
          "execution_count": 32
        }
      ]
    },
    {
      "cell_type": "markdown",
      "metadata": {
        "id": "J4jo_DAya68g"
      },
      "source": [
        "As a final step, we compare the predictive performance on the test data, using the four calibrated models."
      ]
    },
    {
      "cell_type": "code",
      "metadata": {
        "id": "WIJJYQmbj8CX"
      },
      "source": [
        "from sklearn.metrics import mean_squared_error\n",
        "\n",
        "def evaluate_model(model, X_data, y_data):\n",
        "  y_pred = model.predict(X_data)\n",
        "  return(mean_squared_error(y_data, y_pred))"
      ],
      "execution_count": 33,
      "outputs": []
    },
    {
      "cell_type": "code",
      "metadata": {
        "colab": {
          "base_uri": "https://localhost:8080/"
        },
        "id": "8y4_Q2vyj77M",
        "outputId": "38f07c9e-4fa8-4f87-9d0c-9a997b892758"
      },
      "source": [
        "print(\"Evaluation on train data\")\n",
        "print(f\"Linear model:{evaluate_model(linear_mod, Z_train, y_train)}\")\n",
        "print(f\"Ridge model:{evaluate_model(ridge_mod, Z_train, y_train)}\")\n",
        "print(f\"Lasso model:{evaluate_model(lasso_mod, Z_train, y_train)}\")\n",
        "print(f\"Lasso CV model:{evaluate_model(cv_lasso, Z_train, y_train)}\")"
      ],
      "execution_count": 34,
      "outputs": [
        {
          "output_type": "stream",
          "name": "stdout",
          "text": [
            "Evaluation on train data\n",
            "Linear model:0.025398084768133444\n",
            "Ridge model:0.025397583894428657\n",
            "Lasso model:0.034845067638001034\n",
            "Lasso CV model:0.025493044412036512\n"
          ]
        }
      ]
    },
    {
      "cell_type": "code",
      "metadata": {
        "colab": {
          "base_uri": "https://localhost:8080/"
        },
        "id": "Vx0IE49Ij7pD",
        "outputId": "340cd56e-79e9-4f4c-c6f0-8ae2e6acf771"
      },
      "source": [
        "print(\"Evaluation on test data\")\n",
        "print(f\"Linear model:{evaluate_model(linear_mod, Z_test, y_test)}\")\n",
        "print(f\"Ridge model:{evaluate_model(ridge_mod, Z_test, y_test)}\")\n",
        "print(f\"Lasso model:{evaluate_model(lasso_mod, Z_test, y_test)}\")\n",
        "print(f\"Lasso CV model:{evaluate_model(cv_lasso, Z_test, y_test)}\")"
      ],
      "execution_count": 35,
      "outputs": [
        {
          "output_type": "stream",
          "name": "stdout",
          "text": [
            "Evaluation on test data\n",
            "Linear model:0.04341410550829232\n",
            "Ridge model:0.04343170479086888\n",
            "Lasso model:0.04423549395902095\n",
            "Lasso CV model:0.042358204247832466\n"
          ]
        }
      ]
    },
    {
      "cell_type": "markdown",
      "metadata": {
        "id": "GoCNF0HOj4KK"
      },
      "source": [
        "## 4.3 Avoiding data leakage with pipelines <a name=\"four-three\"></a>"
      ]
    },
    {
      "cell_type": "code",
      "metadata": {
        "colab": {
          "base_uri": "https://localhost:8080/"
        },
        "id": "n4Xcq89jtNzT",
        "outputId": "6abe936a-23d2-4788-ac3e-5d7c7c147fd1"
      },
      "source": [
        "from sklearn.pipeline import Pipeline\n",
        "from sklearn.model_selection import GridSearchCV\n",
        "\n",
        "lasso_pipe = Pipeline([('scaler', StandardScaler()),\n",
        "                       ('lasso',  Lasso(random_state = 0))])\n",
        "\n",
        "grid_search = GridSearchCV(lasso_pipe, param_grid={'lasso__alpha':cv_lasso.alphas_},\n",
        "                           scoring=\"neg_mean_squared_error\", cv=5, verbose=0)\n",
        "grid_search.fit(X_train, y_train)"
      ],
      "execution_count": null,
      "outputs": [
        {
          "output_type": "execute_result",
          "data": {
            "text/plain": [
              "GridSearchCV(cv=5, error_score=nan,\n",
              "             estimator=Pipeline(memory=None,\n",
              "                                steps=[('scaler',\n",
              "                                        StandardScaler(copy=True,\n",
              "                                                       with_mean=True,\n",
              "                                                       with_std=True)),\n",
              "                                       ('lasso',\n",
              "                                        Lasso(alpha=1.0, copy_X=True,\n",
              "                                              fit_intercept=True, max_iter=1000,\n",
              "                                              normalize=False, positive=False,\n",
              "                                              precompute=False, random_state=0,\n",
              "                                              selection='cyclic', tol=0.0001,\n",
              "                                              warm_start=False))],\n",
              "                                verbose=False),\n",
              "             iid='deprecate...\n",
              "       0.00151665, 0.00141444, 0.00131911, 0.00123021, 0.00114729,\n",
              "       0.00106997, 0.00099786, 0.00093061, 0.00086789, 0.00080939,\n",
              "       0.00075484, 0.00070397, 0.00065652, 0.00061228, 0.00057101,\n",
              "       0.00053253, 0.00049664, 0.00046316, 0.00043195, 0.00040284,\n",
              "       0.00037569, 0.00035037, 0.00032675, 0.00030473, 0.00028419])},\n",
              "             pre_dispatch='2*n_jobs', refit=True, return_train_score=False,\n",
              "             scoring='neg_mean_squared_error', verbose=0)"
            ]
          },
          "metadata": {},
          "execution_count": 143
        }
      ]
    },
    {
      "cell_type": "code",
      "metadata": {
        "colab": {
          "base_uri": "https://localhost:8080/"
        },
        "id": "QtpbjDV4uIEn",
        "outputId": "34bb6e5d-d502-4eab-e693-5408e6f8ea94"
      },
      "source": [
        "lasso_optimal = grid_search.best_estimator_\n",
        "lasso_optimal.fit(X_train, y_train)"
      ],
      "execution_count": null,
      "outputs": [
        {
          "output_type": "execute_result",
          "data": {
            "text/plain": [
              "Pipeline(memory=None,\n",
              "         steps=[('scaler',\n",
              "                 StandardScaler(copy=True, with_mean=True, with_std=True)),\n",
              "                ('lasso',\n",
              "                 Lasso(alpha=0.001869802774717294, copy_X=True,\n",
              "                       fit_intercept=True, max_iter=1000, normalize=False,\n",
              "                       positive=False, precompute=False, random_state=0,\n",
              "                       selection='cyclic', tol=0.0001, warm_start=False))],\n",
              "         verbose=False)"
            ]
          },
          "metadata": {},
          "execution_count": 158
        }
      ]
    },
    {
      "cell_type": "code",
      "metadata": {
        "colab": {
          "base_uri": "https://localhost:8080/"
        },
        "id": "b1tw2_-7p-3j",
        "outputId": "e8ac6395-d4aa-42e8-e072-63badae75556"
      },
      "source": [
        "lasso_optimal.predict(X_train)"
      ],
      "execution_count": null,
      "outputs": [
        {
          "output_type": "execute_result",
          "data": {
            "text/plain": [
              "array([12.24757338, 11.56369694, 11.63604805, ..., 12.48905004,\n",
              "       11.53052714, 12.08461632])"
            ]
          },
          "metadata": {},
          "execution_count": 159
        }
      ]
    },
    {
      "cell_type": "code",
      "metadata": {
        "id": "0z1TrX_P0Pl_",
        "colab": {
          "base_uri": "https://localhost:8080/"
        },
        "outputId": "8b617a67-0c95-46c9-c9a9-e1bcecb892d1"
      },
      "source": [
        "print(f\"Train performance: {evaluate_model(lasso_optimal, X_train, y_train)}\")\n",
        "print(f\"Test performance: {evaluate_model(lasso_optimal, X_test, y_test)}\")"
      ],
      "execution_count": null,
      "outputs": [
        {
          "output_type": "stream",
          "name": "stdout",
          "text": [
            "Train performance: 0.025481016653219776\n",
            "Test performance: 0.04241689962456226\n"
          ]
        }
      ]
    }
  ]
}